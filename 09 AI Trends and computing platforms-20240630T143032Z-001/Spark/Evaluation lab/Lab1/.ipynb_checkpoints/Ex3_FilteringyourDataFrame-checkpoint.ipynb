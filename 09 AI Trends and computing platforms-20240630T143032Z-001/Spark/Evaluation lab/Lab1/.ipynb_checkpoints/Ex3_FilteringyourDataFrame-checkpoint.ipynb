{
 "cells": [
  {
   "cell_type": "markdown",
   "metadata": {},
   "source": [
    "## InvertedIndex - Using RDD\n",
    "1. View the contents of the file hortonworks.txt . It represents semi-structured\n",
    "content where the first string in each line is a Web page URL, followed by a comma\u0002separated list of terms that appear on that particular Web page.\n",
    "2. Write a Spark application using Rdd that takes a set of <key,value> pairs (key is Web\n",
    "page URL and Value is list of terms on the web page) and inverts the index, so that\n",
    "each value(term) becomes a key, and the list of Web page URLs where that term is\n",
    "appearing as a list of values. You can see from the output file how this information\n",
    "could be used as the beginnings of a web search engine.\n",
    "3. Here is a subset of what the output should look like\n",
    "\n",
    "download http://hortonworks.com/community/, http://hortonworks.com\n",
    "/,http://hortonworks.com/download/\n",
    "downloads http://hortonworks.com/get-started/,http:\n",
    "//hortonworks.com/events/\n",
    "enterprise http://hortonworks.com/products\n",
    "/hortonworksdataplatform/, http://hortonworks.com/about\u0002us/contact- us/,http://hortonworks.com/ \n",
    "feed http://hortonworks.com/products/, http://hortonworks.com\n",
    "/kb,http://hortonworks.com/resources/\n",
    "founders http://hortonworks.com/about-us/,http://hortonworks.com\n",
    "/get-started/\n",
    "hadoop http://hortonworks.com/,http://hortonworks.com/download/, \n",
    "http://hortonworks.com/community/,http://hortonworks.com/kb,http:\n",
    "//horto nworks.com/about-us/,http://hortonworks.com/resources/, \n",
    "http://hortonworks.com/webinars/,http://hortonworks.com/resources\n",
    "/,http: //hortonworks.com/hadoop-rooting/\n",
    "\n",
    "Note: The inverted index problem is one of the earliest and most common use case of\n",
    "MapReduce: invert the data so that the words on the Web page become the key, and the\n",
    "Web page URLs become the value."
   ]
  },
  {
   "cell_type": "code",
   "execution_count": 1,
   "metadata": {},
   "outputs": [],
   "source": [
    "# Intialization\n",
    "import os\n",
    "import sys\n",
    "\n",
    "os.environ[\"SPARK_HOME\"] = \"/home/talentum/spark\"\n",
    "os.environ[\"PYLIB\"] = os.environ[\"SPARK_HOME\"] + \"/python/lib\"\n",
    "# In below two lines, use /usr/bin/python2.7 if you want to use Python 2\n",
    "os.environ[\"PYSPARK_PYTHON\"] = \"/usr/bin/python3.6\" \n",
    "os.environ[\"PYSPARK_DRIVER_PYTHON\"] = \"/usr/bin/python3\"\n",
    "sys.path.insert(0, os.environ[\"PYLIB\"] +\"/py4j-0.10.7-src.zip\")\n",
    "sys.path.insert(0, os.environ[\"PYLIB\"] +\"/pyspark.zip\")\n",
    "\n",
    "# NOTE: Whichever package you want mention here.\n",
    "# os.environ['PYSPARK_SUBMIT_ARGS'] = '--packages com.databricks:spark-xml_2.11:0.6.0 pyspark-shell' \n",
    "# os.environ['PYSPARK_SUBMIT_ARGS'] = '--packages org.apache.spark:spark-avro_2.11:2.4.0 pyspark-shell'\n",
    "os.environ['PYSPARK_SUBMIT_ARGS'] = '--packages com.databricks:spark-xml_2.11:0.6.0,org.apache.spark:spark-avro_2.11:2.4.3 pyspark-shell'\n",
    "# os.environ['PYSPARK_SUBMIT_ARGS'] = '--packages com.databricks:spark-xml_2.11:0.6.0,org.apache.spark:spark-avro_2.11:2.4.0 pyspark-shell'"
   ]
  },
  {
   "cell_type": "code",
   "execution_count": 2,
   "metadata": {},
   "outputs": [],
   "source": [
    "#Entrypoint 2.x\n",
    "from pyspark.sql import SparkSession\n",
    "spark = SparkSession.builder.appName(\"Spark SQL basic example\").enableHiveSupport().getOrCreate()\n",
    "\n",
    "# On yarn:\n",
    "# spark = SparkSession.builder.appName(\"Spark SQL basic example\").enableHiveSupport().master(\"yarn\").getOrCreate()\n",
    "# specify .master(\"yarn\")\n",
    "\n",
    "sc = spark.sparkContext"
   ]
  },
  {
   "cell_type": "code",
   "execution_count": 18,
   "metadata": {},
   "outputs": [
    {
     "name": "stdout",
     "output_type": "stream",
     "text": [
      "hadoop, http://hortonworks.com/, http://hortonworks.com/download/, http://hortonworks.com/community/, http://hortonworks.com/kb, http://hortonworks.com/about-us/, http://hortonworks.com/resources/, http://hortonworks.com/webinars/, http://hortonworks.com/resources/, http://hortonworks.com/hadoop-training/\n",
      "webinars, http://hortonworks.com/\n",
      "articles, http://hortonworks.com/, http://hortonworks.com/community/\n",
      "download, http://hortonworks.com/, http://hortonworks.com/download/, http://hortonworks.com/community/\n",
      "enterprise, http://hortonworks.com/, http://hortonworks.com/products/hortonworksdataplatform/, http://hortonworks.com/about-us/contact-us/\n",
      "team, http://hortonworks.com/\n",
      "reliability, http://hortonworks.com/, http://hortonworks.com/resources/\n",
      "hortonworks, http://hortonworks.com/products/, http://hortonworks.com/about-us/, http://hortonworks.com/about-us/contact-us/\n",
      "services, http://hortonworks.com/products/, http://hortonworks.com/resources/\n",
      "core, http://hortonworks.com/products/, http://hortonworks.com/kb\n",
      "feed, http://hortonworks.com/products/, http://hortonworks.com/kb, http://hortonworks.com/resources/\n",
      "deployments, http://hortonworks.com/products/, http://hortonworks.com/get-started/\n",
      "board, http://hortonworks.com/products/\n",
      "required, http://hortonworks.com/products/\n",
      "apache, http://hortonworks.com/products/hortonworksdataplatform/, http://hortonworks.com/about-us/\n",
      "password, http://hortonworks.com/products/hortonworksdataplatform/, http://hortonworks.com/community/\n",
      "directors, http://hortonworks.com/products/hortonworksdataplatform/, http://hortonworks.com/about-us/\n",
      "data, http://hortonworks.com/get-started/\n",
      "downloads, http://hortonworks.com/get-started/, http://hortonworks.com/events/\n",
      "founders, http://hortonworks.com/get-started/, http://hortonworks.com/about-us/\n",
      "hdp, http://hortonworks.com/get-started/, http://hortonworks.com/download/, http://hortonworks.com/about-us/contact-us/, http://hortonworks.com/events/, http://hortonworks.com/webinars/, http://hortonworks.com/hadoop-training/\n",
      "register, http://hortonworks.com/download/\n",
      "presentations, http://hortonworks.com/download/, http://hortonworks.com/resources/\n",
      "videos, http://hortonworks.com/download/, http://hortonworks.com/resources/, http://hortonworks.com/events/, http://hortonworks.com/webinars/\n",
      "connect, http://hortonworks.com/community/\n",
      "knowledgebase, http://hortonworks.com/community/\n",
      "platform, http://hortonworks.com/kb, http://hortonworks.com/events/, http://hortonworks.com/resources/\n",
      "about, http://hortonworks.com/about-us/\n",
      "contact, http://hortonworks.com/about-us/contact-us/\n",
      "support, http://hortonworks.com/about-us/contact-us/\n",
      "training, http://hortonworks.com/resources/, http://hortonworks.com/events/, http://hortonworks.com/hadoop-training/\n",
      "webinar, http://hortonworks.com/webinars/\n",
      "blog, http://hortonworks.com/resources/\n",
      "instructor-led, http://hortonworks.com/hadoop-training/\n",
      "certification, http://hortonworks.com/hadoop-training/\n",
      "courses, http://hortonworks.com/hadoop-training/\n",
      "learn, http://hortonworks.com/hadoop-training/\n"
     ]
    }
   ],
   "source": [
    "file_path = \"file:////home/talentum/test-jupyter/Evaluation lab/Lab1/hortonworks.txt\"\n",
    "\n",
    "# Create an DataFrame from file_path\n",
    "url_RDD = sc.textFile(file_path)\n",
    "\n",
    "# Create RDD to <key, value> format\n",
    "url_webRDD = url_RDD.flatMap(lambda line: [(line.split(\",\")[0], web) for web in line.split(\",\")[1:]])\n",
    "\n",
    "# Swap key and value\n",
    "url_webRDD_swap = url_webRDD.map(lambda line: (line[1], line[0]))\n",
    "\n",
    "# Web and URLs groupby web\n",
    "web_urlRDD = url_webRDD_swap.groupByKey()\n",
    "\n",
    "## Print results\n",
    "for web, urls in web_urlRDD.collect():\n",
    "    print(web, *list(urls), sep=\", \", end = '\\n')"
   ]
  },
  {
   "cell_type": "code",
   "execution_count": null,
   "metadata": {},
   "outputs": [],
   "source": []
  }
 ],
 "metadata": {
  "kernelspec": {
   "display_name": "Python 3",
   "language": "python",
   "name": "python3"
  },
  "language_info": {
   "codemirror_mode": {
    "name": "ipython",
    "version": 3
   },
   "file_extension": ".py",
   "mimetype": "text/x-python",
   "name": "python",
   "nbconvert_exporter": "python",
   "pygments_lexer": "ipython3",
   "version": "3.6.9"
  },
  "toc": {
   "base_numbering": 1,
   "nav_menu": {},
   "number_sections": true,
   "sideBar": true,
   "skip_h1_title": false,
   "title_cell": "Table of Contents",
   "title_sidebar": "Contents",
   "toc_cell": false,
   "toc_position": {},
   "toc_section_display": true,
   "toc_window_display": false
  }
 },
 "nbformat": 4,
 "nbformat_minor": 2
}
