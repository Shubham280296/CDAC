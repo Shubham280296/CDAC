{
 "cells": [
  {
   "cell_type": "markdown",
   "id": "958a8a43-da6b-494a-9a5a-12ee2f58acc4",
   "metadata": {},
   "source": [
    "## Import Libraries"
   ]
  },
  {
   "cell_type": "code",
   "execution_count": 29,
   "id": "0eb3a42a-2454-4f9c-b8e8-25c06d270165",
   "metadata": {},
   "outputs": [],
   "source": [
    "import numpy as np\n",
    "import matplotlib.pyplot as plt\n",
    "import seaborn as sns\n",
    "from keras.models import Sequential\n",
    "from keras.layers import Dense, Conv2D, MaxPool2D, Flatten\n",
    "from keras.datasets import mnist"
   ]
  },
  {
   "cell_type": "markdown",
   "id": "4b9f92f6-fd22-40be-af76-02600d8e7916",
   "metadata": {},
   "source": [
    "## Load Dataset"
   ]
  },
  {
   "cell_type": "code",
   "execution_count": 30,
   "id": "28c48809-8c30-4b46-b229-ee5850cafdd6",
   "metadata": {},
   "outputs": [
    {
     "data": {
      "text/plain": [
       "((60000, 28, 28), (60000,), (10000, 28, 28), (10000,))"
      ]
     },
     "execution_count": 30,
     "metadata": {},
     "output_type": "execute_result"
    }
   ],
   "source": [
    "(X_train, y_train), (X_test, y_test) = mnist.load_data()\n",
    "X_train.shape, y_train.shape, X_test.shape, y_test.shape"
   ]
  },
  {
   "cell_type": "markdown",
   "id": "c222d56e-614b-4983-946a-a644badff1a1",
   "metadata": {},
   "source": [
    "## Data Preparation"
   ]
  },
  {
   "cell_type": "code",
   "execution_count": 4,
   "id": "f688dd9a-d2ba-43b4-b702-b7bab53e8b0d",
   "metadata": {},
   "outputs": [],
   "source": [
    "## Normalization\n",
    "X_train = X_train/255\n",
    "X_test = X_test/255"
   ]
  },
  {
   "cell_type": "markdown",
   "id": "c87d4a90-65ca-4bf7-8869-5c5a86a7320f",
   "metadata": {},
   "source": [
    "### Build The Model"
   ]
  },
  {
   "cell_type": "code",
   "execution_count": 15,
   "id": "52bfd131-767e-4fb6-a99d-2d08706c6b4f",
   "metadata": {},
   "outputs": [
    {
     "name": "stdout",
     "output_type": "stream",
     "text": [
      "Model: \"sequential_5\"\n",
      "_________________________________________________________________\n",
      " Layer (type)                Output Shape              Param #   \n",
      "=================================================================\n",
      " conv2d_9 (Conv2D)           (None, 26, 26, 32)        320       \n",
      "                                                                 \n",
      " max_pooling2d_8 (MaxPoolin  (None, 13, 13, 32)        0         \n",
      " g2D)                                                            \n",
      "                                                                 \n",
      " conv2d_10 (Conv2D)          (None, 11, 11, 64)        18496     \n",
      "                                                                 \n",
      " max_pooling2d_9 (MaxPoolin  (None, 5, 5, 64)          0         \n",
      " g2D)                                                            \n",
      "                                                                 \n",
      " flatten_4 (Flatten)         (None, 1600)              0         \n",
      "                                                                 \n",
      " dense_9 (Dense)             (None, 320)               512320    \n",
      "                                                                 \n",
      " dense_10 (Dense)            (None, 64)                20544     \n",
      "                                                                 \n",
      " dense_11 (Dense)            (None, 10)                650       \n",
      "                                                                 \n",
      "=================================================================\n",
      "Total params: 552330 (2.11 MB)\n",
      "Trainable params: 552330 (2.11 MB)\n",
      "Non-trainable params: 0 (0.00 Byte)\n",
      "_________________________________________________________________\n"
     ]
    }
   ],
   "source": [
    "model = Sequential()\n",
    "model.add(Conv2D(filters = 32, \n",
    "                 kernel_size = (3,3),\n",
    "                 input_shape = (28,28,1),\n",
    "                 activation = 'relu')) ##26*26*32\n",
    "model.add(MaxPool2D(pool_size = (2,2))) ##13*13*32\n",
    "\n",
    "model.add(Conv2D(filters = 64, \n",
    "                 kernel_size = (3,3),\n",
    "                 activation = 'relu')) ##11*11*32\n",
    "model.add(MaxPool2D(pool_size = (2,2))) ##5*5*64\n",
    "\n",
    "model.add(Flatten())\n",
    "model.add(Dense(320, activation = 'relu'))\n",
    "model.add(Dense(64, activation = 'relu'))\n",
    "model.add(Dense(10, activation = 'softmax'))\n",
    "\n",
    "model.summary()"
   ]
  },
  {
   "cell_type": "code",
   "execution_count": 16,
   "id": "cbefd477-3bc8-4d8d-a231-588edb6443da",
   "metadata": {},
   "outputs": [
    {
     "name": "stdout",
     "output_type": "stream",
     "text": [
      "Epoch 1/10\n",
      "6000/6000 [==============================] - 41s 7ms/step - loss: 0.1112 - accuracy: 0.9655 - val_loss: 0.0373 - val_accuracy: 0.9883\n",
      "Epoch 2/10\n",
      "6000/6000 [==============================] - 40s 7ms/step - loss: 0.0428 - accuracy: 0.9875 - val_loss: 0.0440 - val_accuracy: 0.9859\n",
      "Epoch 3/10\n",
      "6000/6000 [==============================] - 40s 7ms/step - loss: 0.0293 - accuracy: 0.9909 - val_loss: 0.0481 - val_accuracy: 0.9866\n",
      "Epoch 4/10\n",
      "6000/6000 [==============================] - 41s 7ms/step - loss: 0.0228 - accuracy: 0.9931 - val_loss: 0.0305 - val_accuracy: 0.9901\n",
      "Epoch 5/10\n",
      "6000/6000 [==============================] - 40s 7ms/step - loss: 0.0172 - accuracy: 0.9949 - val_loss: 0.0381 - val_accuracy: 0.9904\n",
      "Epoch 6/10\n",
      "6000/6000 [==============================] - 40s 7ms/step - loss: 0.0136 - accuracy: 0.9958 - val_loss: 0.0406 - val_accuracy: 0.9900\n",
      "Epoch 7/10\n",
      "6000/6000 [==============================] - 40s 7ms/step - loss: 0.0121 - accuracy: 0.9964 - val_loss: 0.0335 - val_accuracy: 0.9916\n",
      "Epoch 8/10\n",
      "6000/6000 [==============================] - 40s 7ms/step - loss: 0.0127 - accuracy: 0.9966 - val_loss: 0.0463 - val_accuracy: 0.9900\n",
      "Epoch 9/10\n",
      "6000/6000 [==============================] - 40s 7ms/step - loss: 0.0100 - accuracy: 0.9972 - val_loss: 0.0459 - val_accuracy: 0.9896\n",
      "Epoch 10/10\n",
      "6000/6000 [==============================] - 40s 7ms/step - loss: 0.0109 - accuracy: 0.9967 - val_loss: 0.0607 - val_accuracy: 0.9892\n"
     ]
    }
   ],
   "source": [
    "model.compile(loss = 'sparse_categorical_crossentropy', optimizer = 'adam', metrics = 'accuracy')\n",
    "\n",
    "history = model.fit(X_train, y_train,  batch_size=10, epochs = 10, validation_data = (X_test, y_test))"
   ]
  },
  {
   "cell_type": "code",
   "execution_count": 21,
   "id": "0199075c-fe84-4c2f-b2dd-de9d8f041525",
   "metadata": {},
   "outputs": [
    {
     "name": "stdout",
     "output_type": "stream",
     "text": [
      "313/313 [==============================] - 1s 4ms/step - loss: 0.0607 - accuracy: 0.9892\n"
     ]
    },
    {
     "data": {
      "text/plain": [
       "[0.060663074254989624, 0.9891999959945679]"
      ]
     },
     "execution_count": 21,
     "metadata": {},
     "output_type": "execute_result"
    }
   ],
   "source": [
    "model.evaluate(X_test, y_test)"
   ]
  },
  {
   "cell_type": "markdown",
   "id": "f5a52409-762e-41ff-a7ee-56288c3bfbe6",
   "metadata": {},
   "source": [
    "## Use screenshot image saved in dataset to predict "
   ]
  },
  {
   "cell_type": "code",
   "execution_count": 28,
   "id": "d0132fea-2e61-46a8-9830-6d2a69c24b47",
   "metadata": {},
   "outputs": [
    {
     "name": "stdout",
     "output_type": "stream",
     "text": [
      "1/1 [==============================] - 0s 46ms/step\n",
      "Prediction :  6\n"
     ]
    },
    {
     "data": {
      "image/png": "[encoded data removed]",
      "text/plain": [
       "<Figure size 640x480 with 1 Axes>"
      ]
     },
     "metadata": {},
     "output_type": "display_data"
    }
   ],
   "source": [
    "import cv2\n",
    "img= cv2.imread('Datasets/Mnist_sample.png',0)\n",
    "img_resized = cv2.resize(img,(28,28))\n",
    "plt.imshow(img_resized, cmap = 'gray')\n",
    "img_resized= img_resized/255\n",
    "img_resized = img_resized.reshape(-1,28,28)\n",
    "print(\"Prediction : \",np.argmax(model.predict(img_resized)))"
   ]
  },
  {
   "cell_type": "code",
   "execution_count": null,
   "id": "865664cb-6bd4-4107-a6ad-d5f7f986f8cb",
   "metadata": {},
   "outputs": [],
   "source": []
  }
 ],
 "metadata": {
  "kernelspec": {
   "display_name": "Python 3 (ipykernel)",
   "language": "python",
   "name": "python3"
  },
  "language_info": {
   "codemirror_mode": {
    "name": "ipython",
    "version": 3
   },
   "file_extension": ".py",
   "mimetype": "text/x-python",
   "name": "python",
   "nbconvert_exporter": "python",
   "pygments_lexer": "ipython3",
   "version": "3.11.7"
  },
  "widgets": {
   "application/vnd.jupyter.widget-state+json": {
    "state": {},
    "version_major": 2,
    "version_minor": 0
   }
  }
 },
 "nbformat": 4,
 "nbformat_minor": 5
}
