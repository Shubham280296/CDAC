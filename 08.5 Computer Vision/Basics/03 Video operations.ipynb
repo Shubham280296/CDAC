{
 "cells": [
  {
   "cell_type": "code",
   "execution_count": 2,
   "id": "05c7c992-7759-45c9-b948-f21ebeb60c9f",
   "metadata": {},
   "outputs": [],
   "source": [
    "import cv2\n",
    "import matplotlib.pyplot as plt"
   ]
  },
  {
   "cell_type": "code",
   "execution_count": 3,
   "id": "a4428423-818d-4a60-b0fa-35471b35fd21",
   "metadata": {},
   "outputs": [],
   "source": [
    "### Load video\n",
    "vid = cv2.VideoCapture('images/robots.mp4')"
   ]
  },
  {
   "cell_type": "code",
   "execution_count": 4,
   "id": "9e912a0f-1d4e-48d0-89f6-d49e059c127e",
   "metadata": {},
   "outputs": [
    {
     "data": {
      "text/plain": [
       "True"
      ]
     },
     "execution_count": 4,
     "metadata": {},
     "output_type": "execute_result"
    }
   ],
   "source": [
    "### Extract the frame\n",
    "ret, frame = vid.read()  ### read first frame\n",
    "ret  ### whether return is true or not (if next frame exists or not that is false for only last frame)"
   ]
  },
  {
   "cell_type": "code",
   "execution_count": 5,
   "id": "fc538f4e-c2ff-49fe-9e6d-a030064a8509",
   "metadata": {
    "scrolled": true
   },
   "outputs": [
    {
     "data": {
      "text/plain": [
       "array([[[ 19,  14,  13],\n",
       "        [ 19,  14,  13],\n",
       "        [ 19,  14,  13],\n",
       "        ...,\n",
       "        [ 48,  43,  23],\n",
       "        [ 48,  43,  23],\n",
       "        [ 48,  43,  23]],\n",
       "\n",
       "       [[ 19,  14,  13],\n",
       "        [ 19,  14,  13],\n",
       "        [ 19,  14,  13],\n",
       "        ...,\n",
       "        [ 48,  43,  23],\n",
       "        [ 48,  43,  23],\n",
       "        [ 48,  43,  23]],\n",
       "\n",
       "       [[ 19,  14,  13],\n",
       "        [ 19,  14,  13],\n",
       "        [ 19,  14,  13],\n",
       "        ...,\n",
       "        [ 48,  43,  23],\n",
       "        [ 48,  43,  23],\n",
       "        [ 48,  43,  23]],\n",
       "\n",
       "       ...,\n",
       "\n",
       "       [[164, 167, 178],\n",
       "        [164, 167, 178],\n",
       "        [164, 167, 178],\n",
       "        ...,\n",
       "        [142, 143, 161],\n",
       "        [142, 143, 161],\n",
       "        [142, 143, 161]],\n",
       "\n",
       "       [[164, 167, 178],\n",
       "        [164, 167, 178],\n",
       "        [164, 167, 178],\n",
       "        ...,\n",
       "        [142, 143, 161],\n",
       "        [142, 143, 161],\n",
       "        [142, 143, 161]],\n",
       "\n",
       "       [[164, 167, 178],\n",
       "        [164, 167, 178],\n",
       "        [164, 167, 178],\n",
       "        ...,\n",
       "        [143, 144, 162],\n",
       "        [143, 144, 162],\n",
       "        [143, 144, 162]]], dtype=uint8)"
      ]
     },
     "execution_count": 5,
     "metadata": {},
     "output_type": "execute_result"
    }
   ],
   "source": [
    "frame"
   ]
  },
  {
   "cell_type": "code",
   "execution_count": 6,
   "id": "f0be24b7-c84a-4a56-8d0d-a9968f332d98",
   "metadata": {},
   "outputs": [
    {
     "data": {
      "text/plain": [
       "(640, 640, 3)"
      ]
     },
     "execution_count": 6,
     "metadata": {},
     "output_type": "execute_result"
    }
   ],
   "source": [
    "frame.shape"
   ]
  },
  {
   "cell_type": "code",
   "execution_count": 6,
   "id": "0507de28-5e67-4289-943b-c272a6bc588d",
   "metadata": {},
   "outputs": [
    {
     "ename": "AttributeError",
     "evalue": "module 'cv2' has no attribute 'destroyAllWIndows'",
     "output_type": "error",
     "traceback": [
      "\u001b[1;31m---------------------------------------------------------------------------\u001b[0m",
      "\u001b[1;31mAttributeError\u001b[0m                            Traceback (most recent call last)",
      "Cell \u001b[1;32mIn[6], line 3\u001b[0m\n\u001b[0;32m      1\u001b[0m cv2\u001b[38;5;241m.\u001b[39mimshow(\u001b[38;5;124m'\u001b[39m\u001b[38;5;124mFirst frame\u001b[39m\u001b[38;5;124m'\u001b[39m, frame)\n\u001b[0;32m      2\u001b[0m cv2\u001b[38;5;241m.\u001b[39mwaitKey(\u001b[38;5;241m0\u001b[39m)\n\u001b[1;32m----> 3\u001b[0m cv2\u001b[38;5;241m.\u001b[39mdestroyAllWIndows()\n",
      "\u001b[1;31mAttributeError\u001b[0m: module 'cv2' has no attribute 'destroyAllWIndows'"
     ]
    }
   ],
   "source": [
    "cv2.imshow('First frame', frame)\n",
    "cv2.waitKey(0)\n",
    "cv2.destroyAllWIndows()"
   ]
  },
  {
   "cell_type": "markdown",
   "id": "d2de77c6-04b3-40d0-a2be-60b763ca3837",
   "metadata": {},
   "source": [
    "### Video features"
   ]
  },
  {
   "cell_type": "code",
   "execution_count": 8,
   "id": "be735f1b-5c13-43d4-8e36-8446876ca9fc",
   "metadata": {},
   "outputs": [
    {
     "name": "stdout",
     "output_type": "stream",
     "text": [
      "Video Resolution :  640 640\n",
      "Total Frames :  1799\n",
      "FPS :  30\n",
      "Video length in seconds :  59.96666666666667\n"
     ]
    }
   ],
   "source": [
    "width = int(vid.get(cv2.CAP_PROP_FRAME_WIDTH))\n",
    "height = int(vid.get(cv2.CAP_PROP_FRAME_HEIGHT))\n",
    "frames = int(vid.get(cv2.CAP_PROP_FRAME_COUNT))\n",
    "fps = int(vid.get(cv2.CAP_PROP_FPS))\n",
    "\n",
    "print(\"Video Resolution : \",height, width)\n",
    "print(\"Total Frames : \",frames)\n",
    "print(\"FPS : \",fps)\n",
    "print(\"Video length in seconds : \",frames/fps)"
   ]
  },
  {
   "cell_type": "markdown",
   "id": "9ca560df-3a23-45ee-ac96-055ecd1a1c1d",
   "metadata": {},
   "source": [
    "### Read video"
   ]
  },
  {
   "cell_type": "code",
   "execution_count": 3,
   "id": "72107ebf-c2a4-409e-9c53-2dfc1b3b7566",
   "metadata": {},
   "outputs": [
    {
     "ename": "AttributeError",
     "evalue": "module 'cv2' has no attribute 'destroyAllWIndows'",
     "output_type": "error",
     "traceback": [
      "\u001b[1;31m---------------------------------------------------------------------------\u001b[0m",
      "\u001b[1;31mAttributeError\u001b[0m                            Traceback (most recent call last)",
      "Cell \u001b[1;32mIn[3], line 9\u001b[0m\n\u001b[0;32m      7\u001b[0m     \u001b[38;5;28;01mif\u001b[39;00m cv2\u001b[38;5;241m.\u001b[39mwaitKey(\u001b[38;5;241m5\u001b[39m)\u001b[38;5;241m==\u001b[39m \u001b[38;5;28mord\u001b[39m(\u001b[38;5;124m'\u001b[39m\u001b[38;5;124mq\u001b[39m\u001b[38;5;124m'\u001b[39m):\n\u001b[0;32m      8\u001b[0m         \u001b[38;5;28;01mbreak\u001b[39;00m\n\u001b[1;32m----> 9\u001b[0m cv2\u001b[38;5;241m.\u001b[39mdestroyAllWIndows()\n",
      "\u001b[1;31mAttributeError\u001b[0m: module 'cv2' has no attribute 'destroyAllWIndows'"
     ]
    }
   ],
   "source": [
    "vid = cv2.VideoCapture('images/robots.mp4')\n",
    "while True:\n",
    "    ret, frame = vid.read()\n",
    "    if not ret:\n",
    "        break\n",
    "    cv2.imshow('Video', frame)\n",
    "    if cv2.waitKey(5)== ord('q'):\n",
    "        break\n",
    "cv2.destroyAllWIndows()"
   ]
  },
  {
   "cell_type": "markdown",
   "id": "e590d6ef-e5f3-4425-92da-abf88292c0c7",
   "metadata": {},
   "source": [
    "### Capture and save images from "
   ]
  },
  {
   "cell_type": "code",
   "execution_count": 4,
   "id": "b8c453c5-ce66-4020-829c-4a48ba5d8b2c",
   "metadata": {},
   "outputs": [],
   "source": [
    "vid = cv2.VideoCapture('images/robots.mp4')\n",
    "success, frame = vid.read()  ## get first frame and see if successful\n",
    "count = 1\n",
    "### keep extracting frames as long as success is true\n",
    "while success:\n",
    "    cv2.imwrite(f'video_frames/{count}.jpg', frame)\n",
    "    success, frame = vid.read()\n",
    "    count+=1"
   ]
  },
  {
   "cell_type": "markdown",
   "id": "d3e2ac00-fea8-4f6b-932d-bfab6da5c6e3",
   "metadata": {},
   "source": [
    "### Working with timestamp"
   ]
  },
  {
   "cell_type": "code",
   "execution_count": 5,
   "id": "8685bf97-e76c-4283-a964-efcfbcb1ef44",
   "metadata": {},
   "outputs": [
    {
     "name": "stdout",
     "output_type": "stream",
     "text": [
      "0.0 0.0 43.0\n"
     ]
    }
   ],
   "source": [
    "### get frame at a specific timestamp\n",
    "timestamp = '00:00:43.00'\n",
    "hours, minutes, seconds = [float(i) for i in timestamp.split(':')]\n",
    "print(hours, minutes, seconds)"
   ]
  },
  {
   "cell_type": "code",
   "execution_count": 11,
   "id": "81b9bd6c-be39-4976-994a-7e57561819cb",
   "metadata": {},
   "outputs": [
    {
     "name": "stdout",
     "output_type": "stream",
     "text": [
      "1799 1290.0\n"
     ]
    }
   ],
   "source": [
    "## Get frame corresponding to time\n",
    "trigger_frame = (((hours*60)+minutes)*60+seconds)*fps\n",
    "print(frames, trigger_frame)"
   ]
  },
  {
   "cell_type": "code",
   "execution_count": 12,
   "id": "9a492ccf-b238-415e-9083-6f8e77b52c4b",
   "metadata": {},
   "outputs": [],
   "source": [
    "## Go to frame selected \n",
    "vid.set(1, trigger_frame)\n",
    "success, frame = vid.read()\n",
    "if success:\n",
    "    cv2.imwrite('timestamp.jpg', frame)"
   ]
  },
  {
   "cell_type": "markdown",
   "id": "9ce8149b-2d33-47a2-b68f-d4986afb535c",
   "metadata": {},
   "source": [
    "### Capture video using camera"
   ]
  },
  {
   "cell_type": "code",
   "execution_count": 25,
   "id": "4bd7131e-8999-437a-b237-69258bfe82f8",
   "metadata": {},
   "outputs": [
    {
     "data": {
      "text/plain": [
       "True"
      ]
     },
     "execution_count": 25,
     "metadata": {},
     "output_type": "execute_result"
    }
   ],
   "source": [
    "vid = cv2.VideoCapture(0)\n",
    "vid.isOpened()"
   ]
  },
  {
   "cell_type": "code",
   "execution_count": 26,
   "id": "c227fc2a-a2eb-41d0-98e6-731ae8e67713",
   "metadata": {},
   "outputs": [],
   "source": [
    "success, frame = vid.read()\n",
    "vid.release()"
   ]
  },
  {
   "cell_type": "code",
   "execution_count": 27,
   "id": "dc0e3635-8041-4015-b08a-ea62f3f124ce",
   "metadata": {},
   "outputs": [
    {
     "data": {
      "text/plain": [
       "True"
      ]
     },
     "execution_count": 27,
     "metadata": {},
     "output_type": "execute_result"
    }
   ],
   "source": [
    "cv2.imwrite('myimage.jpg', frame)"
   ]
  },
  {
   "cell_type": "code",
   "execution_count": 24,
   "id": "3d643a96-f4b7-4a77-9ffe-98e026e11d3f",
   "metadata": {},
   "outputs": [
    {
     "ename": "KeyboardInterrupt",
     "evalue": "",
     "output_type": "error",
     "traceback": [
      "\u001b[1;31m---------------------------------------------------------------------------\u001b[0m",
      "\u001b[1;31mKeyboardInterrupt\u001b[0m                         Traceback (most recent call last)",
      "Cell \u001b[1;32mIn[24], line 9\u001b[0m\n\u001b[0;32m      7\u001b[0m     cv2\u001b[38;5;241m.\u001b[39mimshow(\u001b[38;5;124m'\u001b[39m\u001b[38;5;124mFrame\u001b[39m\u001b[38;5;124m'\u001b[39m, frame)\n\u001b[0;32m      8\u001b[0m     \u001b[38;5;66;03m## Press Q on keyboard to exit\u001b[39;00m\n\u001b[1;32m----> 9\u001b[0m     \u001b[38;5;28;01mif\u001b[39;00m cv2\u001b[38;5;241m.\u001b[39mwaitKey(\u001b[38;5;241m1\u001b[39m) \u001b[38;5;129;01mand\u001b[39;00m \u001b[38;5;241m0xFF\u001b[39m\u001b[38;5;241m==\u001b[39m\u001b[38;5;28mord\u001b[39m(\u001b[38;5;124m'\u001b[39m\u001b[38;5;124mq\u001b[39m\u001b[38;5;124m'\u001b[39m):\n\u001b[0;32m     10\u001b[0m         \u001b[38;5;28;01mbreak\u001b[39;00m\n\u001b[0;32m     11\u001b[0m \u001b[38;5;28;01melse\u001b[39;00m:\n",
      "\u001b[1;31mKeyboardInterrupt\u001b[0m: "
     ]
    }
   ],
   "source": [
    "cap = cv2.VideoCapture(0)\n",
    "while(cap.isOpened()):\n",
    "    ## Capture frame by frame\n",
    "    ret, frame = cap.read()\n",
    "    if ret==True:\n",
    "        ## Display the resulting frame\n",
    "        cv2.imshow('Frame', frame)\n",
    "        ## Press Q on keyboard to exit\n",
    "        if cv2.waitKey(1) and 0xFF==ord('q'):\n",
    "            break\n",
    "    else:\n",
    "        brak\n",
    "## When everything done release video capture object\n",
    "cap.release()\n",
    "\n",
    "## Closes all frames\n",
    "cv2.destroyAllWIndows()"
   ]
  },
  {
   "cell_type": "code",
   "execution_count": null,
   "id": "a6b0c25b-7b73-49d2-9a4d-874a5d29bc06",
   "metadata": {},
   "outputs": [],
   "source": []
  }
 ],
 "metadata": {
  "kernelspec": {
   "display_name": "Python 3 (ipykernel)",
   "language": "python",
   "name": "python3"
  },
  "language_info": {
   "codemirror_mode": {
    "name": "ipython",
    "version": 3
   },
   "file_extension": ".py",
   "mimetype": "text/x-python",
   "name": "python",
   "nbconvert_exporter": "python",
   "pygments_lexer": "ipython3",
   "version": "3.11.7"
  },
  "widgets": {
   "application/vnd.jupyter.widget-state+json": {
    "state": {},
    "version_major": 2,
    "version_minor": 0
   }
  }
 },
 "nbformat": 4,
 "nbformat_minor": 5
}
