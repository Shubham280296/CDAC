{
 "cells": [
  {
   "cell_type": "code",
   "execution_count": 2,
   "id": "f1edba51-16a0-4a35-a690-fd703a768407",
   "metadata": {},
   "outputs": [],
   "source": [
    "import cv2\n",
    "import numpy as np\n",
    "import matplotlib.pyplot as plt"
   ]
  },
  {
   "cell_type": "code",
   "execution_count": 5,
   "id": "da5b6aa0-a884-4cb5-b7e2-2396853e8053",
   "metadata": {},
   "outputs": [
    {
     "data": {
      "text/plain": [
       "array([[  0,   0,   0, ...,   0,   0,   0],\n",
       "       [  0,   0,   0, ...,   0,   0,   0],\n",
       "       [  0,   0,   0, ...,   0,   0,   0],\n",
       "       ...,\n",
       "       [  0,   0,   0, ..., 162, 167, 168],\n",
       "       [  0,   0,   0, ..., 160, 164, 160],\n",
       "       [  0,   0,   0, ..., 159, 163, 160]], dtype=uint8)"
      ]
     },
     "execution_count": 5,
     "metadata": {},
     "output_type": "execute_result"
    }
   ],
   "source": [
    "img = cv2.imread('images/lenna.png', 0)\n",
    "\n",
    "## Store height and width of umage\n",
    "height, width = img.shape[:2]\n",
    "\n",
    "quarter_height, quarter_width = height/4, width/4\n",
    "\n",
    "## Transformatiion matrix\n",
    "T = np.float32([[1,0,quarter_width],[0,1,quarter_height]])\n",
    "\n",
    "## We use warpAffine to transform the image using matrix ,T\n",
    "img_translation = cv2.warpAffine(img, T, (height, width))\n",
    "\n",
    "img_translation"
   ]
  },
  {
   "cell_type": "code",
   "execution_count": 6,
   "id": "39c2f2b5-3b9c-434f-8e3b-9c14b1fb4639",
   "metadata": {},
   "outputs": [],
   "source": [
    "cv2.imshow(\"Original image\", img)\n",
    "cv2.imshow(\"Translated image\", img_translation)\n",
    "cv2.waitKey(0)\n",
    "cv2.destroyAllWindows()"
   ]
  },
  {
   "cell_type": "code",
   "execution_count": 7,
   "id": "4cc94675-96af-4c62-aa24-89b427838a57",
   "metadata": {},
   "outputs": [],
   "source": [
    "T = np.float32([[1,0,-quarter_width],[0,1,-quarter_height]])\n",
    "img_translation = cv2.warpAffine(img, T, (height, width))\n",
    "\n",
    "cv2.imshow(\"Original image\", img)\n",
    "cv2.imshow(\"Translated image\", img_translation)\n",
    "cv2.waitKey(0)\n",
    "cv2.destroyAllWindows()"
   ]
  },
  {
   "cell_type": "code",
   "execution_count": null,
   "id": "9704a6aa-bc13-49c6-a5f4-6e43eb53e916",
   "metadata": {},
   "outputs": [],
   "source": []
  }
 ],
 "metadata": {
  "kernelspec": {
   "display_name": "Python 3 (ipykernel)",
   "language": "python",
   "name": "python3"
  },
  "language_info": {
   "codemirror_mode": {
    "name": "ipython",
    "version": 3
   },
   "file_extension": ".py",
   "mimetype": "text/x-python",
   "name": "python",
   "nbconvert_exporter": "python",
   "pygments_lexer": "ipython3",
   "version": "3.11.7"
  },
  "widgets": {
   "application/vnd.jupyter.widget-state+json": {
    "state": {},
    "version_major": 2,
    "version_minor": 0
   }
  }
 },
 "nbformat": 4,
 "nbformat_minor": 5
}
