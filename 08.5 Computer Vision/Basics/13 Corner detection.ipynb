{
 "cells": [
  {
   "cell_type": "code",
   "execution_count": 9,
   "id": "0614275b-1b5b-436e-9930-7222dd93f9fc",
   "metadata": {},
   "outputs": [],
   "source": [
    "import cv2\n",
    "import numpy as np\n",
    "import matplotlib.pyplot as plt\n",
    "\n",
    "## Load image\n",
    "img = cv2.imread('images/circle.png')\n",
    "gray = cv2.imread('images/circle.png',0)\n",
    "\n",
    "## Convert image to float32\n",
    "gray = np.float32(gray)\n",
    "\n",
    "## Apply Harris corner detector\n",
    "dst = cv2.cornerHarris(gray, blockSize=2, ksize = 3, k=0.04)\n",
    "\n",
    "# Result is dilated for marking the corners\n",
    "dst = cv2.dilate(dst, None)\n",
    "\n",
    "## Threshold for optimal Value depending on image\n",
    "img[dst>0.01*dst.max()] = [0,0,255]\n",
    "\n",
    "## Show original and smoothed image\n",
    "cv2.imshow(\"Harris Corners\", img)\n",
    "cv2.waitKey(0)\n",
    "cv2.destroyAllWindows()"
   ]
  },
  {
   "cell_type": "code",
   "execution_count": 16,
   "id": "c257d4b1-3820-4289-b9d4-4caa4a48d8b1",
   "metadata": {},
   "outputs": [],
   "source": [
    "import cv2\n",
    "import numpy as np\n",
    "import matplotlib.pyplot as plt\n",
    "\n",
    "## Load image\n",
    "img = cv2.imread('images/draw.png')\n",
    "gray = cv2.imread('images/draw.png',0)\n",
    "\n",
    "## Convert image to float32\n",
    "gray = np.float32(gray)\n",
    "\n",
    "## Apply Harris corner detector\n",
    "dst = cv2.cornerHarris(gray, blockSize=3, ksize = 3, k=0.04)\n",
    "\n",
    "# Result is dilated for marking the corners\n",
    "dst = cv2.dilate(dst, None)\n",
    "\n",
    "## Threshold for optimal Value depending on image\n",
    "img[dst>0.01*dst.max()] = [0,0,255]\n",
    "\n",
    "## Show original and smoothed image\n",
    "cv2.imshow(\"Harris Corners\", img)\n",
    "cv2.waitKey(0)\n",
    "cv2.destroyAllWindows()"
   ]
  },
  {
   "cell_type": "code",
   "execution_count": 18,
   "id": "56752f7b-c2e5-4705-94e2-104c18d80a8a",
   "metadata": {},
   "outputs": [],
   "source": [
    "import cv2\n",
    "import numpy as np\n",
    "import matplotlib.pyplot as plt\n",
    "\n",
    "## Load image\n",
    "img = cv2.imread('images/lenna.png')\n",
    "gray = cv2.imread('images/lenna.png',0)\n",
    "\n",
    "## Convert image to float32\n",
    "gray = np.float32(gray)\n",
    "\n",
    "## Apply Harris corner detector\n",
    "dst = cv2.cornerHarris(gray, blockSize=3, ksize = 3, k=0.04)\n",
    "\n",
    "# Result is dilated for marking the corners\n",
    "dst = cv2.dilate(dst, None)\n",
    "\n",
    "## Threshold for optimal Value depending on image\n",
    "img[dst>0.01*dst.max()] = [0,0,255]\n",
    "\n",
    "## Show original and smoothed image\n",
    "cv2.imshow(\"Harris Corners\", img)\n",
    "cv2.waitKey(0)\n",
    "cv2.destroyAllWindows()"
   ]
  },
  {
   "cell_type": "code",
   "execution_count": null,
   "id": "d6431866-eda2-47bd-ae03-59764675b07c",
   "metadata": {},
   "outputs": [],
   "source": []
  }
 ],
 "metadata": {
  "kernelspec": {
   "display_name": "Python 3 (ipykernel)",
   "language": "python",
   "name": "python3"
  },
  "language_info": {
   "codemirror_mode": {
    "name": "ipython",
    "version": 3
   },
   "file_extension": ".py",
   "mimetype": "text/x-python",
   "name": "python",
   "nbconvert_exporter": "python",
   "pygments_lexer": "ipython3",
   "version": "3.11.7"
  },
  "widgets": {
   "application/vnd.jupyter.widget-state+json": {
    "state": {},
    "version_major": 2,
    "version_minor": 0
   }
  }
 },
 "nbformat": 4,
 "nbformat_minor": 5
}
