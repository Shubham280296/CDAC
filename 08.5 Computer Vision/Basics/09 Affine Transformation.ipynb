{
 "cells": [
  {
   "cell_type": "markdown",
   "id": "d7f0ec60-d664-42c9-8225-3b1dd63c8c7e",
   "metadata": {},
   "source": [
    "### All Transformations on image / Affine Transformation"
   ]
  },
  {
   "cell_type": "code",
   "execution_count": 1,
   "id": "43888f34-6c49-4ab0-8346-5e857c1d4329",
   "metadata": {},
   "outputs": [],
   "source": [
    "import cv2\n",
    "import numpy as np\n",
    "\n",
    "img = cv2.imread(\"images/lenna.png\")\n",
    "\n",
    "### Define transformation parameters\n",
    "tx = 50 ### Translation along x\n",
    "ty = 100 ### Translation along y\n",
    "angle = 45 ### Rotation angle in degrees\n",
    "scale = 1.2 ### Scaling factor\n",
    "shear_x=0.30 #shear along x\n",
    "shear_y=0.25 #shear along y\n",
    "\n",
    "\n",
    "### Create transformation matrix\n",
    "M = np.float32([[scale*np.cos(np.radians(angle)), shear_x, tx],\n",
    "                [shear_y, scale*np.sin(np.radians(angle)), ty]])\n",
    "\n",
    "### Aply transformation using warpAffine\n",
    "img_affine = cv2.warpAffine(img, M, (512,512))\n",
    "\n",
    "cv2.imshow(\"img\",img_affine)\n",
    "cv2.waitKey(0)\n",
    "cv2.destroyAllWindows()"
   ]
  },
  {
   "cell_type": "code",
   "execution_count": 56,
   "id": "f3d2360a-548b-4252-a3f6-9836d4ac5044",
   "metadata": {},
   "outputs": [],
   "source": [
    "import cv2\n",
    "import numpy as np\n",
    "\n",
    "img = cv2.imread(\"images/lenna.png\")\n",
    "\n",
    "### Define transformation parameters\n",
    "tx = 50 ### Translation along x\n",
    "ty = 200 ### Translation along y\n",
    "angle = -20 ### Rotation angle in degrees\n",
    "scale = 200/512 ### Scaling factor\n",
    "\n",
    "## Transformatiion matrix\n",
    "T = np.float32([[scale*np.cos(np.radians(angle)),-np.sin(np.radians(angle)),tx],\n",
    "                [np.sin(np.radians(angle)),scale*np.cos(np.radians(angle)),ty]])\n",
    "\n",
    "## We use warpAffine to transform the image using matrix ,T\n",
    "img_translation = cv2.warpAffine(img, T, (512, 512))\n",
    "\n",
    "cv2.imshow(\"img\",img_translation)\n",
    "cv2.waitKey(0)\n",
    "cv2.destroyAllWindows()"
   ]
  },
  {
   "cell_type": "code",
   "execution_count": null,
   "id": "b3d7e9e5-0847-46d7-928e-1ea739ae9860",
   "metadata": {},
   "outputs": [],
   "source": []
  }
 ],
 "metadata": {
  "kernelspec": {
   "display_name": "Python 3 (ipykernel)",
   "language": "python",
   "name": "python3"
  },
  "language_info": {
   "codemirror_mode": {
    "name": "ipython",
    "version": 3
   },
   "file_extension": ".py",
   "mimetype": "text/x-python",
   "name": "python",
   "nbconvert_exporter": "python",
   "pygments_lexer": "ipython3",
   "version": "3.11.7"
  },
  "widgets": {
   "application/vnd.jupyter.widget-state+json": {
    "state": {},
    "version_major": 2,
    "version_minor": 0
   }
  }
 },
 "nbformat": 4,
 "nbformat_minor": 5
}
