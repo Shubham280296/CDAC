{
 "cells": [
  {
   "cell_type": "code",
   "execution_count": 12,
   "id": "70c8381e-e51e-49c5-85fb-637ac127cc6d",
   "metadata": {},
   "outputs": [],
   "source": [
    "from sympy import limit, sqrt,pprint,pi\n",
    "from sympy.abc import x"
   ]
  },
  {
   "cell_type": "code",
   "execution_count": 17,
   "id": "59bd522e-491f-42d5-b88f-5ae4374076b8",
   "metadata": {},
   "outputs": [
    {
     "name": "stdout",
     "output_type": "stream",
     "text": [
      "limit of\n",
      " 2        \n",
      "x  + x + 1\n",
      "at x = 0 is 1\n"
     ]
    }
   ],
   "source": [
    "#Q1\n",
    "expression = (1+x+x**2)\n",
    "result = limit(expression,x,0)\n",
    "print(\"limit of\")\n",
    "pprint(expression)\n",
    "print(\"at x = 0 is\",result)"
   ]
  },
  {
   "cell_type": "code",
   "execution_count": 19,
   "id": "22f7057f-ba44-4167-a529-a9f065d0825d",
   "metadata": {},
   "outputs": [
    {
     "name": "stdout",
     "output_type": "stream",
     "text": [
      "limit of\n",
      " 4    2    \n",
      "x  + x  + 1\n",
      "at x = 0 is 7\n"
     ]
    }
   ],
   "source": [
    "#Q2\n",
    "expression = (1+x**2+x**4)\n",
    "result = limit(expression,x,sqrt(2))\n",
    "print(\"limit of\")\n",
    "pprint(expression)\n",
    "print(\"at x = 0 is\",result)"
   ]
  },
  {
   "cell_type": "code",
   "execution_count": 20,
   "id": "a2daf32d-e157-4005-9189-b1d67b531175",
   "metadata": {},
   "outputs": [
    {
     "name": "stdout",
     "output_type": "stream",
     "text": [
      "limit of\n",
      " 2          \n",
      "x  - 3⋅x + 2\n",
      "────────────\n",
      "   x - 2    \n",
      "at x = 0 is 1\n"
     ]
    }
   ],
   "source": [
    "#Q3\n",
    "expression = (x**2-3*x+2)/(x-2)\n",
    "result = limit(expression,x,2)\n",
    "print(\"limit of\")\n",
    "pprint(expression)\n",
    "print(\"at x = 0 is\",result)"
   ]
  },
  {
   "cell_type": "code",
   "execution_count": 21,
   "id": "25013ea5-28c3-485c-a0dd-74e1e9a58903",
   "metadata": {},
   "outputs": [
    {
     "name": "stdout",
     "output_type": "stream",
     "text": [
      "limit of\n",
      "    2          \n",
      "12⋅x  - 3⋅x + 8\n",
      "at x = 0 is 50\n"
     ]
    }
   ],
   "source": [
    "#Q4\n",
    "expression = (12*x**2-3*x+8)\n",
    "result = limit(expression,x,2)\n",
    "print(\"limit of\")\n",
    "pprint(expression)\n",
    "print(\"at x = 0 is\",result)"
   ]
  },
  {
   "cell_type": "code",
   "execution_count": 24,
   "id": "0bf04986-7b3f-47d0-a993-851b51841033",
   "metadata": {},
   "outputs": [
    {
     "name": "stdout",
     "output_type": "stream",
     "text": [
      "limit of\n",
      "    2        \n",
      "   x  - 25   \n",
      "─────────────\n",
      " 2           \n",
      "x  + 2⋅x - 15\n",
      "at x = 0 is 0\n"
     ]
    }
   ],
   "source": [
    "#Q5\n",
    "expression = (x**2-25)/(x**2+2*x-15)\n",
    "result = limit(expression,x,5)\n",
    "print(\"limit of\")\n",
    "pprint(expression)\n",
    "print(\"at x = 0 is\",result)"
   ]
  },
  {
   "cell_type": "code",
   "execution_count": 25,
   "id": "db53eaab-45a6-4a71-876d-c5e9269ebdfa",
   "metadata": {},
   "outputs": [
    {
     "name": "stdout",
     "output_type": "stream",
     "text": [
      "limit of\n",
      "      x      \n",
      "─────────────\n",
      "      _______\n",
      "3 - ╲╱ x + 9 \n",
      "at x = 0 is -6\n"
     ]
    }
   ],
   "source": [
    "#Q6\n",
    "expression = (x)/(3-sqrt(x+9))\n",
    "result = limit(expression,x,0)\n",
    "print(\"limit of\")\n",
    "pprint(expression)\n",
    "print(\"at x = 0 is\",result)"
   ]
  }
 ],
 "metadata": {
  "kernelspec": {
   "display_name": "Python 3 (ipykernel)",
   "language": "python",
   "name": "python3"
  },
  "language_info": {
   "codemirror_mode": {
    "name": "ipython",
    "version": 3
   },
   "file_extension": ".py",
   "mimetype": "text/x-python",
   "name": "python",
   "nbconvert_exporter": "python",
   "pygments_lexer": "ipython3",
   "version": "3.9.13"
  }
 },
 "nbformat": 4,
 "nbformat_minor": 5
}
