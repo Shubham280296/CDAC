{
 "cells": [
  {
   "cell_type": "code",
   "execution_count": 15,
   "id": "f2de0a63",
   "metadata": {},
   "outputs": [],
   "source": [
    "from sympy import diff, pprint,sin,log,sqrt\n",
    "from sympy.abc import x"
   ]
  },
  {
   "cell_type": "code",
   "execution_count": 4,
   "id": "cade46cd",
   "metadata": {},
   "outputs": [
    {
     "name": "stdout",
     "output_type": "stream",
     "text": [
      "derivative of\n",
      " 2\n",
      "x \n",
      "w.r.t x is 2*x\n"
     ]
    }
   ],
   "source": [
    "#X^2\n",
    "expression = x**2\n",
    "result = diff(expression,x)\n",
    "print(\"derivative of\")\n",
    "pprint(expression)\n",
    "print(\"w.r.t x is\",result )"
   ]
  },
  {
   "cell_type": "code",
   "execution_count": 6,
   "id": "e97b34c3",
   "metadata": {},
   "outputs": [
    {
     "name": "stdout",
     "output_type": "stream",
     "text": [
      "derivative of\n",
      " 2       \n",
      "x ⋅sin(x)\n",
      "w.r.t x is x**2*cos(x) + 2*x*sin(x)\n"
     ]
    }
   ],
   "source": [
    "#X^2 * sin0\n",
    "u = x**2\n",
    "v = sin(x)\n",
    "f =u*v\n",
    "result = diff(f,x)\n",
    "print(\"derivative of\")\n",
    "pprint(f)\n",
    "print(\"w.r.t x is\",result )"
   ]
  },
  {
   "cell_type": "code",
   "execution_count": 13,
   "id": "c806c2b5",
   "metadata": {},
   "outputs": [
    {
     "name": "stdout",
     "output_type": "stream",
     "text": [
      "derivative of\n",
      "   2  \n",
      "  x   \n",
      "──────\n",
      "log(x)\n",
      "w.r.t x is 2*x/log(x) - x/log(x)**2\n"
     ]
    }
   ],
   "source": [
    "# x^2 / log(x)\n",
    "u = x**2\n",
    "v = log(x)\n",
    "f =u/v\n",
    "result = diff(f,x)\n",
    "print(\"derivative of\")\n",
    "pprint(f)\n",
    "print(\"w.r.t x is\",result )"
   ]
  },
  {
   "cell_type": "code",
   "execution_count": 17,
   "id": "c8b56446",
   "metadata": {},
   "outputs": [
    {
     "name": "stdout",
     "output_type": "stream",
     "text": [
      "derivative of\n",
      " 2     \n",
      "x  - 10\n",
      "w.r.t x is x/sqrt(x**2 - 10)\n"
     ]
    }
   ],
   "source": [
    "# g = sqrt(f) where f(x) = x**2-10\n",
    "f = x**2-10\n",
    "g = sqrt(f)\n",
    "result = diff(g,x)\n",
    "print(\"derivative of\")\n",
    "pprint(f)\n",
    "print(\"w.r.t x is\",result )"
   ]
  }
 ],
 "metadata": {
  "kernelspec": {
   "display_name": "Python 3 (ipykernel)",
   "language": "python",
   "name": "python3"
  },
  "language_info": {
   "codemirror_mode": {
    "name": "ipython",
    "version": 3
   },
   "file_extension": ".py",
   "mimetype": "text/x-python",
   "name": "python",
   "nbconvert_exporter": "python",
   "pygments_lexer": "ipython3",
   "version": "3.9.13"
  }
 },
 "nbformat": 4,
 "nbformat_minor": 5
}
