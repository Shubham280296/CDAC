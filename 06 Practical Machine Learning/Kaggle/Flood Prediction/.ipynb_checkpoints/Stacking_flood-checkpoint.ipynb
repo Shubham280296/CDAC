{
 "cells": [
  {
   "cell_type": "code",
   "execution_count": 13,
   "id": "158f22ca-ca9f-44ce-9b83-8f0865f98b0e",
   "metadata": {},
   "outputs": [],
   "source": [
    "import pandas as pd\n",
    "import numpy as np\n",
    "from sklearn.linear_model import LinearRegression\n",
    "from sklearn.linear_model import ElasticNet\n",
    "from sklearn.model_selection import KFold\n",
    "from sklearn.metrics import r2_score\n",
    "from xgboost import XGBRegressor\n",
    "from lightgbm import LGBMRegressor\n",
    "from catboost import CatBoostRegressor\n",
    "from sklearn.model_selection import GridSearchCV\n",
    "from sklearn.preprocessing import LabelEncoder\n",
    "from sklearn.ensemble import StackingRegressor"
   ]
  },
  {
   "cell_type": "code",
   "execution_count": 14,
   "id": "df2eae4b-ae1c-46f9-aa6a-b7dde1dc5964",
   "metadata": {},
   "outputs": [],
   "source": [
    "train = pd.read_csv(r\"C:\\Users\\Administrator.DAI-PC2\\Downloads\\Shubham\\Practical Machine Learning\\Kaggle\\Flood Prediction\\train.csv\")\n",
    "test = pd.read_csv(r\"C:\\Users\\Administrator.DAI-PC2\\Downloads\\Shubham\\Practical Machine Learning\\Kaggle\\Flood Prediction\\test.csv\")"
   ]
  },
  {
   "cell_type": "code",
   "execution_count": 15,
   "id": "31f0e590-1309-4c93-ac9f-06db1fd1f349",
   "metadata": {},
   "outputs": [],
   "source": [
    "X = train.drop([\"id\",\"FloodProbability\"],axis=1)\n",
    "X_test= test.drop(\"id\",axis=1)\n",
    "y = train[\"FloodProbability\"]"
   ]
  },
  {
   "cell_type": "code",
   "execution_count": null,
   "id": "f370d375-1e51-48e6-bfd1-73322cfd7cc9",
   "metadata": {},
   "outputs": [],
   "source": [
    "#### Stack 1 linear,elastic,xgb ---> lgbm"
   ]
  },
  {
   "cell_type": "code",
   "execution_count": 26,
   "id": "8e54c09f-ad73-4c13-8c2b-84cd4be70b4f",
   "metadata": {},
   "outputs": [],
   "source": [
    "elastic = ElasticNet()\n",
    "lr = LinearRegression()\n",
    "xgb = XGBRegressor(random_state=24)\n",
    "lgbm = LGBMRegressor(random_state=24)\n",
    "stack1 = StackingRegressor([('LR',lr),('Elastic',elastic),('XGB',xgb)],final_estimator=lgbm,passthrough=True)\n",
    "\n",
    "stack1.fit(X,y)\n",
    "\n",
    "y_pred  = stack1.predict(X_test)\n",
    "submit = pd.DataFrame({\"id\":test[\"id\"],\"FloodProbability\":y_pred})\n",
    "submit.to_csv(r\"C:\\Users\\Administrator.DAI-PC2\\Downloads\\Shubham\\Practical Machine Learning\\Kaggle\\Flood Prediction\\stack1.csv\",index=False)"
   ]
  },
  {
   "cell_type": "code",
   "execution_count": null,
   "id": "869e8bfc-afcf-41b4-b252-38b98ae9943e",
   "metadata": {},
   "outputs": [],
   "source": [
    "#### Stack 2 lgmb,elastic,linear,cat ---> linear"
   ]
  },
  {
   "cell_type": "code",
   "execution_count": null,
   "id": "f593f07f-e0f9-4dcd-b649-29a9a6399333",
   "metadata": {},
   "outputs": [],
   "source": [
    "elastic = ElasticNet()\n",
    "lr = LinearRegression()\n",
    "xgb = XGBRegressor(random_state=24)\n",
    "cat =  CatBoostRegressor(random_state=24)\n",
    "lgbm = LGBMRegressor(random_state=24)\n",
    "stack2 = StackingRegressor([('LGBM',lgbm),('Elastic',elastic),('XGB',xgb),('CAT',cat)],final_estimator=lr,passthrough=True )\n",
    "\n",
    "stack2.fit(X,y)\n",
    "\n",
    "y_pred  = stack2.predict(X_test)\n",
    "submit = pd.DataFrame({\"id\":test[\"id\"],\"FloodProbability\":y_pred})\n",
    "submit.to_csv(r\"C:\\Users\\Administrator.DAI-PC2\\Downloads\\Shubham\\Practical Machine Learning\\Kaggle\\Flood Prediction\\stack2.csv\",index=False)"
   ]
  },
  {
   "cell_type": "code",
   "execution_count": null,
   "id": "d40eb5c1-9660-484e-9096-605095c8fdaa",
   "metadata": {},
   "outputs": [],
   "source": [
    "##### Stack 3 lr,elastic,Xgb,lgbm ---> catboost"
   ]
  },
  {
   "cell_type": "code",
   "execution_count": null,
   "id": "ee5f6ab0-b98b-4d3f-b093-c7b18c5e595a",
   "metadata": {},
   "outputs": [],
   "source": [
    "elastic = ElasticNet()\n",
    "lr = LinearRegression()\n",
    "xgb = XGBRegressor(random_state=24)\n",
    "lgbm = LGBMRegressor(random_state=24)\n",
    "cat =  CatBoostRegressor(random_state=24)\n",
    "stack3 = StackingRegressor([('LGBM',lgbm),('Elastic',elastic),('XGB',xgb),('LR',lr)],final_estimator=cat,passthrough=True )\n",
    "\n",
    "stack3.fit(X,y)\n",
    "\n",
    "y_pred  = stack3.predict(X_test)\n",
    "submit = pd.DataFrame({\"id\":test[\"id\"],\"FloodProbability\":y_pred})\n",
    "submit.to_csv(r\"C:\\Users\\Administrator.DAI-PC2\\Downloads\\Shubham\\Practical Machine Learning\\Kaggle\\Flood Prediction\\stack3.csv\",index=False)"
   ]
  }
 ],
 "metadata": {
  "kernelspec": {
   "display_name": "Python 3 (ipykernel)",
   "language": "python",
   "name": "python3"
  },
  "language_info": {
   "codemirror_mode": {
    "name": "ipython",
    "version": 3
   },
   "file_extension": ".py",
   "mimetype": "text/x-python",
   "name": "python",
   "nbconvert_exporter": "python",
   "pygments_lexer": "ipython3",
   "version": "3.11.8"
  }
 },
 "nbformat": 4,
 "nbformat_minor": 5
}
