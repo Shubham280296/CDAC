{
 "cells": [
  {
   "cell_type": "code",
   "execution_count": 1,
   "id": "99af678e-6225-4777-8a53-e03020cf889a",
   "metadata": {},
   "outputs": [],
   "source": [
    "import pandas as pd\n",
    "import numpy as np\n",
    "from sklearn.linear_model import LogisticRegression\n",
    "from sklearn.ensemble import BaggingClassifier\n",
    "from sklearn.preprocessing import LabelEncoder, StandardScaler,MinMaxScaler\n",
    "from sklearn.model_selection import GridSearchCV, StratifiedKFold, train_test_split\n",
    "from sklearn.tree import DecisionTreeClassifier\n",
    "from sklearn.metrics import accuracy_score, log_loss"
   ]
  },
  {
   "cell_type": "code",
   "execution_count": 2,
   "id": "e4a3a4e4-7d39-4c23-88d6-5a5511c1e65e",
   "metadata": {},
   "outputs": [],
   "source": [
    "kyp = pd.read_csv(r\"C:\\Users\\Administrator.DAI-PC2\\Downloads\\Shubham\\Practical Machine Learning\\ClassWork\\Cases\\Kyphosis\\Kyphosis.csv\")\n",
    "le = LabelEncoder()\n",
    "y = le.fit_transform(kyp[\"Kyphosis\"])\n",
    "X = kyp.drop('Kyphosis',axis=1)"
   ]
  },
  {
   "cell_type": "code",
   "execution_count": 3,
   "id": "6dc325b4-8a15-4862-8887-b2c4f58abe87",
   "metadata": {},
   "outputs": [],
   "source": [
    "X_train, X_test, y_train, y_test = train_test_split(X, y,test_size = 0.3, random_state=24,stratify =y)"
   ]
  },
  {
   "cell_type": "code",
   "execution_count": 4,
   "id": "7b025489-7f59-4cbb-9bcf-6db1b5521cc2",
   "metadata": {},
   "outputs": [],
   "source": [
    "### logistic Regression"
   ]
  },
  {
   "cell_type": "code",
   "execution_count": 5,
   "id": "ac01394d-e677-4438-86a3-ae708bd935b5",
   "metadata": {},
   "outputs": [
    {
     "name": "stdout",
     "output_type": "stream",
     "text": [
      "accuracy =  0.76\n",
      "log_loss =  0.4374045748440284\n"
     ]
    }
   ],
   "source": [
    "lr = LogisticRegression()\n",
    "bagg_lr = BaggingClassifier(lr,n_estimators =25, n_jobs = -1,random_state=24)\n",
    "\n",
    "bagg_lr.fit(X_train,y_train)\n",
    "\n",
    "y_pred  = bagg_lr.predict(X_test)\n",
    "print(\"accuracy = \", accuracy_score(y_test,y_pred))\n",
    "\n",
    "y_pred_prob = bagg_lr.predict_proba(X_test)\n",
    "print(\"log_loss = \", log_loss(y_test,y_pred_prob))"
   ]
  },
  {
   "cell_type": "code",
   "execution_count": 6,
   "id": "6d38a09e-b5d0-4935-84cb-aceb2602e2bd",
   "metadata": {},
   "outputs": [],
   "source": [
    "### DecisionTreeClassifier"
   ]
  },
  {
   "cell_type": "code",
   "execution_count": 7,
   "id": "1fbae7fb-52f7-438c-a392-2616e3bed826",
   "metadata": {},
   "outputs": [
    {
     "name": "stdout",
     "output_type": "stream",
     "text": [
      "accuracy =  0.68\n",
      "log loss =  1.8960349818768583\n"
     ]
    }
   ],
   "source": [
    "dtc = DecisionTreeClassifier(random_state=24)\n",
    "\n",
    "bagg_dtc = BaggingClassifier(dtc,n_estimators =25, n_jobs = -1,random_state=24)\n",
    "\n",
    "bagg_dtc.fit(X_train,y_train)\n",
    "\n",
    "y_pred  = bagg_dtc.predict(X_test)\n",
    "print(\"accuracy = \", accuracy_score(y_test,y_pred))\n",
    "\n",
    "y_pred_prob = bagg_dtc.predict_proba(X_test)\n",
    "print(\"log loss = \", log_loss(y_test,y_pred_prob))"
   ]
  },
  {
   "cell_type": "code",
   "execution_count": null,
   "id": "433677d8-79d7-422a-85ff-b594458e3a16",
   "metadata": {},
   "outputs": [],
   "source": [
    "### Gridsearch for best estimator"
   ]
  },
  {
   "cell_type": "code",
   "execution_count": 8,
   "id": "aa74f608-d3f4-4037-a8ca-9633ee3860f3",
   "metadata": {},
   "outputs": [
    {
     "name": "stdout",
     "output_type": "stream",
     "text": [
      "{'bootstrap': True, 'bootstrap_features': False, 'estimator__C': 1.0, 'estimator__class_weight': None, 'estimator__dual': False, 'estimator__fit_intercept': True, 'estimator__intercept_scaling': 1, 'estimator__l1_ratio': None, 'estimator__max_iter': 100, 'estimator__multi_class': 'auto', 'estimator__n_jobs': None, 'estimator__penalty': 'l2', 'estimator__random_state': None, 'estimator__solver': 'lbfgs', 'estimator__tol': 0.0001, 'estimator__verbose': 0, 'estimator__warm_start': False, 'estimator': LogisticRegression(), 'max_features': 1.0, 'max_samples': 1.0, 'n_estimators': 25, 'n_jobs': -1, 'oob_score': False, 'random_state': 24, 'verbose': 0, 'warm_start': False}\n"
     ]
    }
   ],
   "source": [
    "print(bagg_lr.get_params())"
   ]
  },
  {
   "cell_type": "code",
   "execution_count": 12,
   "id": "75c7292d-16eb-4bda-a8ca-17c148c66c24",
   "metadata": {},
   "outputs": [
    {
     "name": "stdout",
     "output_type": "stream",
     "text": [
      "{'estimator': LogisticRegression()}\n",
      "-0.4401573364066181\n"
     ]
    }
   ],
   "source": [
    "kfold = StratifiedKFold(n_splits=5,shuffle=True,random_state=24)\n",
    "params = {\"estimator\":[lr,dtc]}\n",
    "gcv = GridSearchCV(bagg_lr,param_grid=params,cv=kfold,scoring='neg_log_loss',n_jobs=-1)\n",
    "gcv.fit(X,y)\n",
    "print(gcv.best_params_)\n",
    "print(gcv.best_score_)"
   ]
  },
  {
   "cell_type": "code",
   "execution_count": null,
   "id": "b639c2eb-ef0c-4be7-8d77-48ca8bfc71b3",
   "metadata": {},
   "outputs": [],
   "source": []
  }
 ],
 "metadata": {
  "kernelspec": {
   "display_name": "Python 3 (ipykernel)",
   "language": "python",
   "name": "python3"
  },
  "language_info": {
   "codemirror_mode": {
    "name": "ipython",
    "version": 3
   },
   "file_extension": ".py",
   "mimetype": "text/x-python",
   "name": "python",
   "nbconvert_exporter": "python",
   "pygments_lexer": "ipython3",
   "version": "3.11.8"
  }
 },
 "nbformat": 4,
 "nbformat_minor": 5
}
