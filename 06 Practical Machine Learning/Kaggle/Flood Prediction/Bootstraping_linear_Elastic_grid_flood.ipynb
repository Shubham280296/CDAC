{
 "cells": [
  {
   "cell_type": "code",
   "execution_count": 1,
   "id": "99af678e-6225-4777-8a53-e03020cf889a",
   "metadata": {},
   "outputs": [],
   "source": [
    "import pandas as pd\n",
    "import numpy as np\n",
    "from sklearn.linear_model import LinearRegression, ElasticNet\n",
    "from sklearn.ensemble import BaggingRegressor\n",
    "from sklearn.model_selection import GridSearchCV, KFold, train_test_split\n",
    "from sklearn.metrics import r2_score, log_loss"
   ]
  },
  {
   "cell_type": "code",
   "execution_count": 2,
   "id": "e4a3a4e4-7d39-4c23-88d6-5a5511c1e65e",
   "metadata": {},
   "outputs": [],
   "source": [
    "train = pd.read_csv(r\"C:\\Users\\Administrator.DAI-PC2\\Downloads\\Shubham\\Practical Machine Learning\\Kaggle\\Flood Prediction\\train.csv\")\n",
    "test = pd.read_csv(r\"C:\\Users\\Administrator.DAI-PC2\\Downloads\\Shubham\\Practical Machine Learning\\Kaggle\\Flood Prediction\\test.csv\")"
   ]
  },
  {
   "cell_type": "code",
   "execution_count": 3,
   "id": "6dc325b4-8a15-4862-8887-b2c4f58abe87",
   "metadata": {},
   "outputs": [],
   "source": [
    "X = train.drop([\"id\",\"FloodProbability\"],axis=1)\n",
    "X_test= test.drop(\"id\",axis=1)\n",
    "y = train[\"FloodProbability\"]"
   ]
  },
  {
   "cell_type": "code",
   "execution_count": 4,
   "id": "7b025489-7f59-4cbb-9bcf-6db1b5521cc2",
   "metadata": {},
   "outputs": [],
   "source": [
    "### Linear Regression"
   ]
  },
  {
   "cell_type": "code",
   "execution_count": 5,
   "id": "ac01394d-e677-4438-86a3-ae708bd935b5",
   "metadata": {},
   "outputs": [],
   "source": [
    "lr = LinearRegression()\n",
    "bagg_lr = BaggingRegressor(lr,n_estimators =25,random_state=24)\n",
    "\n",
    "bagg_lr.fit(X,y)\n",
    "\n",
    "y_pred= bagg_lr.predict(X_test)\n",
    "submit = pd.DataFrame({\"id\":test[\"id\"],\"FloodProbability\":y_pred})\n",
    "submit.to_csv(r\"C:\\Users\\Administrator.DAI-PC2\\Downloads\\Shubham\\Practical Machine Learning\\Kaggle\\Flood Prediction\\boot_lr.csv\",index=False)"
   ]
  },
  {
   "cell_type": "code",
   "execution_count": 6,
   "id": "e68cdf25-463b-4fad-8b60-305fab38594e",
   "metadata": {},
   "outputs": [],
   "source": [
    "#### ElasticNet"
   ]
  },
  {
   "cell_type": "code",
   "execution_count": 7,
   "id": "5381af9f-3a09-4788-bb3d-7ec3e8a5d6e5",
   "metadata": {},
   "outputs": [
    {
     "data": {
      "text/plain": [
       "array([0.50448655, 0.50448655, 0.50448655, ..., 0.50448655, 0.50448655,\n",
       "       0.50448655])"
      ]
     },
     "execution_count": 7,
     "metadata": {},
     "output_type": "execute_result"
    }
   ],
   "source": [
    "elastic = ElasticNet()\n",
    "bagg_el = BaggingRegressor(elastic,n_estimators =25,random_state=24)\n",
    "\n",
    "bagg_el.fit(X,y)\n",
    "\n",
    "y_pred= bagg_el.predict(X_test)\n",
    "y_pred"
   ]
  },
  {
   "cell_type": "code",
   "execution_count": 8,
   "id": "baf676c8-7b06-4af9-b1cb-6429604b6a0b",
   "metadata": {},
   "outputs": [],
   "source": [
    "submit = pd.DataFrame({\"id\":test[\"id\"],\"FloodProbability\":y_pred})\n",
    "submit.to_csv(r\"C:\\Users\\Administrator.DAI-PC2\\Downloads\\Shubham\\Practical Machine Learning\\Kaggle\\Flood Prediction\\boot_elastic.csv\",index=False)"
   ]
  },
  {
   "cell_type": "code",
   "execution_count": 9,
   "id": "ac875938-342a-4625-8e5e-4e7a2f8b62a7",
   "metadata": {},
   "outputs": [
    {
     "data": {
      "text/plain": [
       "{'bootstrap': True,\n",
       " 'bootstrap_features': False,\n",
       " 'estimator__alpha': 1.0,\n",
       " 'estimator__copy_X': True,\n",
       " 'estimator__fit_intercept': True,\n",
       " 'estimator__l1_ratio': 0.5,\n",
       " 'estimator__max_iter': 1000,\n",
       " 'estimator__positive': False,\n",
       " 'estimator__precompute': False,\n",
       " 'estimator__random_state': None,\n",
       " 'estimator__selection': 'cyclic',\n",
       " 'estimator__tol': 0.0001,\n",
       " 'estimator__warm_start': False,\n",
       " 'estimator': ElasticNet(),\n",
       " 'max_features': 1.0,\n",
       " 'max_samples': 1.0,\n",
       " 'n_estimators': 25,\n",
       " 'n_jobs': None,\n",
       " 'oob_score': False,\n",
       " 'random_state': 24,\n",
       " 'verbose': 0,\n",
       " 'warm_start': False}"
      ]
     },
     "execution_count": 9,
     "metadata": {},
     "output_type": "execute_result"
    }
   ],
   "source": [
    "bagg_el.get_params()"
   ]
  },
  {
   "cell_type": "code",
   "execution_count": 10,
   "id": "433677d8-79d7-422a-85ff-b594458e3a16",
   "metadata": {},
   "outputs": [],
   "source": [
    "### Gridsearch for elastic"
   ]
  },
  {
   "cell_type": "code",
   "execution_count": 11,
   "id": "aa74f608-d3f4-4037-a8ca-9633ee3860f3",
   "metadata": {},
   "outputs": [
    {
     "name": "stdout",
     "output_type": "stream",
     "text": [
      "{'bootstrap': True, 'bootstrap_features': False, 'estimator__copy_X': True, 'estimator__fit_intercept': True, 'estimator__n_jobs': None, 'estimator__positive': False, 'estimator': LinearRegression(), 'max_features': 1.0, 'max_samples': 1.0, 'n_estimators': 25, 'n_jobs': None, 'oob_score': False, 'random_state': 24, 'verbose': 0, 'warm_start': False}\n"
     ]
    }
   ],
   "source": [
    "print(bagg_lr.get_params())"
   ]
  },
  {
   "cell_type": "code",
   "execution_count": null,
   "id": "75c7292d-16eb-4bda-a8ca-17c148c66c24",
   "metadata": {},
   "outputs": [],
   "source": [
    "elastic = ElasticNet()\n",
    "bagg_el = BaggingRegressor(elastic,n_estimators =25, n_jobs = -1,random_state=24)\n",
    "kfold = KFold(n_splits=5,shuffle=True,random_state=24)\n",
    "params = {\"estimator__alpha\":np.linspace(0.001,5,5),\"estimator__l1_ratio\":np.linspace(0,1,8)}\n",
    "gcv = GridSearchCV(bagg_el,param_grid=params,cv=kfold,scoring='r2',n_jobs=8)\n",
    "gcv.fit(X,y)\n",
    "print(gcv.best_params_)\n",
    "print(gcv.best_score_)\n",
    "y_pred= gcv.predict(X_test)\n",
    "submit = pd.DataFrame({\"id\":test[\"id\"],\"FloodProbability\":y_pred})\n",
    "submit.to_csv(r\"C:\\Users\\Administrator.DAI-PC2\\Downloads\\Shubham\\Practical Machine Learning\\Kaggle\\Flood Prediction\\bagg_grid_elastic.csv\",index=False)"
   ]
  },
  {
   "cell_type": "code",
   "execution_count": null,
   "id": "b639c2eb-ef0c-4be7-8d77-48ca8bfc71b3",
   "metadata": {},
   "outputs": [],
   "source": []
  },
  {
   "cell_type": "code",
   "execution_count": null,
   "id": "6f12b117-500d-4f3d-a901-9ed20f06941c",
   "metadata": {},
   "outputs": [],
   "source": []
  }
 ],
 "metadata": {
  "kernelspec": {
   "display_name": "Python 3 (ipykernel)",
   "language": "python",
   "name": "python3"
  },
  "language_info": {
   "codemirror_mode": {
    "name": "ipython",
    "version": 3
   },
   "file_extension": ".py",
   "mimetype": "text/x-python",
   "name": "python",
   "nbconvert_exporter": "python",
   "pygments_lexer": "ipython3",
   "version": "3.11.8"
  }
 },
 "nbformat": 4,
 "nbformat_minor": 5
}
