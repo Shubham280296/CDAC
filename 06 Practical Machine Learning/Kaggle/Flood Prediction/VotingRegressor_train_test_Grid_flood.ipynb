{
 "cells": [
  {
   "cell_type": "code",
   "execution_count": 1,
   "id": "5cc3de24-2c2b-44dc-9d9f-1bc1508820cd",
   "metadata": {},
   "outputs": [],
   "source": [
    "import pandas as pd\n",
    "import numpy as np\n",
    "from sklearn.svm import SVC\n",
    "from sklearn.model_selection import GridSearchCV, train_test_split, KFold, RandomizedSearchCV\n",
    "from sklearn.metrics import accuracy_score, r2_score\n",
    "from sklearn.tree import DecisionTreeRegressor\n",
    "from sklearn.ensemble import VotingRegressor\n",
    "from sklearn.linear_model import Ridge, Lasso, LinearRegression"
   ]
  },
  {
   "cell_type": "code",
   "execution_count": 2,
   "id": "678e9129-e38d-47e1-ad32-152ecf729161",
   "metadata": {},
   "outputs": [],
   "source": [
    "train = pd.read_csv(r\"C:\\Users\\Administrator.DAI-PC2\\Downloads\\Shubham\\Practical Machine Learning\\Kaggle\\Flood Prediction\\train.csv\")\n",
    "test = pd.read_csv(r\"C:\\Users\\Administrator.DAI-PC2\\Downloads\\Shubham\\Practical Machine Learning\\Kaggle\\Flood Prediction\\test.csv\")"
   ]
  },
  {
   "cell_type": "code",
   "execution_count": 3,
   "id": "e2793423-de10-4f06-af89-06cf9dcc13fa",
   "metadata": {},
   "outputs": [],
   "source": [
    "X = train.drop([\"id\",\"FloodProbability\"],axis=1)\n",
    "X_valid = test.drop(\"id\",axis=1)\n",
    "y = train[\"FloodProbability\"]"
   ]
  },
  {
   "cell_type": "code",
   "execution_count": 4,
   "id": "ea61be6e-3a02-4f29-b3f9-5d1f99663365",
   "metadata": {},
   "outputs": [],
   "source": [
    "X_train, X_test, y_train, y_test = train_test_split(X, y,test_size = 0.3, random_state=24)"
   ]
  },
  {
   "cell_type": "code",
   "execution_count": 5,
   "id": "20f00521-51ec-458e-b407-c759255a2cfe",
   "metadata": {},
   "outputs": [],
   "source": [
    "## Model 1"
   ]
  },
  {
   "cell_type": "code",
   "execution_count": 6,
   "id": "6d4fa776-474b-4577-b535-1d1040627ef8",
   "metadata": {},
   "outputs": [
    {
     "data": {
      "text/plain": [
       "0.8446066903335169"
      ]
     },
     "execution_count": 6,
     "metadata": {},
     "output_type": "execute_result"
    }
   ],
   "source": [
    "ridge = Ridge()\n",
    "ridge.fit(X_train,y_train)\n",
    "y_pred = ridge.predict(X_test)\n",
    "r2_ridge = r2_score(y_test,y_pred)\n",
    "r2_ridge"
   ]
  },
  {
   "cell_type": "code",
   "execution_count": 7,
   "id": "fefc2a5f-6f5c-4738-9d1f-69a755f0d271",
   "metadata": {},
   "outputs": [],
   "source": [
    "## Model 2"
   ]
  },
  {
   "cell_type": "code",
   "execution_count": 8,
   "id": "fa1c8e92-7c55-4416-bcae-a57a9b165ef1",
   "metadata": {},
   "outputs": [
    {
     "data": {
      "text/plain": [
       "-5.125602061673007e-06"
      ]
     },
     "execution_count": 8,
     "metadata": {},
     "output_type": "execute_result"
    }
   ],
   "source": [
    "lasso = Lasso()\n",
    "lasso.fit(X_train,y_train)\n",
    "y_pred = lasso.predict(X_test)\n",
    "r2_lasso = r2_score(y_test,y_pred)\n",
    "r2_lasso"
   ]
  },
  {
   "cell_type": "code",
   "execution_count": 9,
   "id": "135f4a74-3305-42c6-82f1-c6d982e85705",
   "metadata": {},
   "outputs": [],
   "source": [
    "## Model 3"
   ]
  },
  {
   "cell_type": "code",
   "execution_count": 10,
   "id": "08c4be11-47f8-4243-a450-1fd54df6b94b",
   "metadata": {},
   "outputs": [
    {
     "data": {
      "text/plain": [
       "0.8446066905332366"
      ]
     },
     "execution_count": 10,
     "metadata": {},
     "output_type": "execute_result"
    }
   ],
   "source": [
    "lr = LinearRegression()\n",
    "lr.fit(X_train,y_train)\n",
    "y_pred = lr.predict(X_test)\n",
    "r2_lr = r2_score(y_test,y_pred)\n",
    "r2_lr"
   ]
  },
  {
   "cell_type": "code",
   "execution_count": 11,
   "id": "37f31195-910f-4417-8925-3d18055c9fc0",
   "metadata": {},
   "outputs": [],
   "source": [
    "## Model 4"
   ]
  },
  {
   "cell_type": "code",
   "execution_count": 12,
   "id": "ee1a9483-5531-4804-9524-3a29bd4b54f8",
   "metadata": {},
   "outputs": [
    {
     "data": {
      "text/plain": [
       "0.049924522597523335"
      ]
     },
     "execution_count": 12,
     "metadata": {},
     "output_type": "execute_result"
    }
   ],
   "source": [
    "dtc = DecisionTreeRegressor(random_state=24)\n",
    "dtc.fit(X_train,y_train)\n",
    "y_pred = dtc.predict(X_test)\n",
    "r2_dtc = r2_score(y_test,y_pred)\n",
    "r2_dtc"
   ]
  },
  {
   "cell_type": "code",
   "execution_count": 13,
   "id": "ad95f8f7-e493-4217-8bb5-d1e771635e6d",
   "metadata": {},
   "outputs": [],
   "source": [
    "### Average voting"
   ]
  },
  {
   "cell_type": "code",
   "execution_count": 14,
   "id": "963990da-78b6-4aa8-8daf-30ad79090899",
   "metadata": {},
   "outputs": [
    {
     "name": "stdout",
     "output_type": "stream",
     "text": [
      "R2 Score =  0.7005696716305334\n"
     ]
    }
   ],
   "source": [
    "voting_avg = VotingRegressor([(\"RIDGE\",ridge),(\"LASSO\",lasso),(\"LR\",lr),(\"TREE\",dtc)])\n",
    "voting_avg.fit(X_train,y_train)\n",
    "y_pred  = voting_avg.predict(X_test)\n",
    "print(\"R2 Score = \", r2_score(y_test,y_pred))"
   ]
  },
  {
   "cell_type": "code",
   "execution_count": 15,
   "id": "781347ca-456c-4090-83c6-fe00f225473e",
   "metadata": {},
   "outputs": [],
   "source": [
    "###### weighted voting averaging"
   ]
  },
  {
   "cell_type": "code",
   "execution_count": 16,
   "id": "5de6601f-4364-48d7-b72a-68a53daad52c",
   "metadata": {},
   "outputs": [
    {
     "name": "stdout",
     "output_type": "stream",
     "text": [
      "R2 Score =  0.843975021062881\n"
     ]
    }
   ],
   "source": [
    "voting_w = VotingRegressor([(\"RIDGE\",ridge),(\"LASSO\",lasso),(\"LR\",lr),(\"TREE\",dtc)],weights = [r2_ridge,r2_lasso,r2_lr,r2_dtc])\n",
    "voting_w.fit(X_train,y_train)\n",
    "y_pred  = voting_w.predict(X_test)\n",
    "print(\"R2 Score = \", r2_score(y_test,y_pred))"
   ]
  },
  {
   "cell_type": "code",
   "execution_count": 17,
   "id": "1bac1db3-18c7-4ab8-828b-df7a1060f361",
   "metadata": {},
   "outputs": [],
   "source": [
    "#### RandomizedSearchCV"
   ]
  },
  {
   "cell_type": "code",
   "execution_count": 18,
   "id": "26c7f62a-17ea-4bed-a4a0-a3b40444a2bc",
   "metadata": {},
   "outputs": [
    {
     "name": "stdout",
     "output_type": "stream",
     "text": [
      "{'TREE__min_samples_split': 4, 'TREE__min_samples_leaf': 5, 'TREE__max_depth': None, 'RIDGE__alpha': 3.0, 'LASSO__alpha': 0.001}\n",
      "0.8041880305234562\n"
     ]
    }
   ],
   "source": [
    "kfold = KFold(n_splits=5,shuffle=True,random_state=24)\n",
    "params = {\"RIDGE__alpha\":np.linspace(0.001,3,10),\"LASSO__alpha\":np.linspace(0.001,3,10),\"TREE__min_samples_split\":[2,4,5,8,10],\n",
    "          \"TREE__min_samples_leaf\":[1,4,5,8,10],\"TREE__max_depth\":[None,3,4,5]}\n",
    "rgcv_avg = RandomizedSearchCV(voting_avg,param_distributions=params,cv=kfold,scoring='r2',n_jobs=-1,n_iter =20,random_state=24)\n",
    "rgcv_avg.fit(X,y)\n",
    "print(rgcv_avg.best_params_)\n",
    "print(rgcv_avg.best_score_)"
   ]
  },
  {
   "cell_type": "code",
   "execution_count": 19,
   "id": "6db933ed-5018-42cb-b53a-f5f90cc6733e",
   "metadata": {},
   "outputs": [
    {
     "name": "stdout",
     "output_type": "stream",
     "text": [
      "{'TREE__min_samples_split': 4, 'TREE__min_samples_leaf': 5, 'TREE__max_depth': None, 'RIDGE__alpha': 3.0, 'LASSO__alpha': 0.001}\n",
      "0.8444741724884288\n"
     ]
    }
   ],
   "source": [
    "kfold = KFold(n_splits=5,shuffle=True,random_state=24)\n",
    "params = {\"RIDGE__alpha\":np.linspace(0.001,3,10),\"LASSO__alpha\":np.linspace(0.001,3,10),\"TREE__min_samples_split\":[2,4,5,8,10],\n",
    "          \"TREE__min_samples_leaf\":[1,4,5,8,10],\"TREE__max_depth\":[None,3,4,5]}\n",
    "rgcv_w = RandomizedSearchCV(voting_w,param_distributions=params,cv=kfold,scoring='r2',n_jobs=-1,n_iter =20,random_state=24)\n",
    "rgcv_w.fit(X,y)\n",
    "print(rgcv_w.best_params_)\n",
    "print(rgcv_w.best_score_)"
   ]
  },
  {
   "cell_type": "code",
   "execution_count": null,
   "id": "01b9c9c5-14a1-45f4-9a79-8026b66b4e43",
   "metadata": {},
   "outputs": [],
   "source": [
    "### Choose model with best r2 score  (0.8446066905332366 linear)"
   ]
  },
  {
   "cell_type": "code",
   "execution_count": 23,
   "id": "f1c596d2-c1b9-4baf-a5f0-4b00bdd08b9a",
   "metadata": {},
   "outputs": [],
   "source": [
    "y_pred= rgcv_w.best_estimator_.predict(X_valid)\n",
    "submit = pd.DataFrame({\"id\":test[\"id\"],\"FloodProbability\":y_pred})\n",
    "submit.to_csv(r\"C:\\Users\\Administrator.DAI-PC2\\Downloads\\Shubham\\Practical Machine Learning\\Kaggle\\Flood Prediction\\submit_voting.csv\",index=False)"
   ]
  },
  {
   "cell_type": "code",
   "execution_count": null,
   "id": "04f53179-8f11-4187-9b29-0a1f5dff78b6",
   "metadata": {},
   "outputs": [],
   "source": []
  }
 ],
 "metadata": {
  "kernelspec": {
   "display_name": "Python 3 (ipykernel)",
   "language": "python",
   "name": "python3"
  },
  "language_info": {
   "codemirror_mode": {
    "name": "ipython",
    "version": 3
   },
   "file_extension": ".py",
   "mimetype": "text/x-python",
   "name": "python",
   "nbconvert_exporter": "python",
   "pygments_lexer": "ipython3",
   "version": "3.11.8"
  }
 },
 "nbformat": 4,
 "nbformat_minor": 5
}
