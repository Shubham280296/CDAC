{
 "cells": [
  {
   "cell_type": "code",
   "execution_count": 54,
   "id": "158f22ca-ca9f-44ce-9b83-8f0865f98b0e",
   "metadata": {},
   "outputs": [],
   "source": [
    "import pandas as pd\n",
    "import numpy as np\n",
    "from sklearn.linear_model import LinearRegression\n",
    "from sklearn.model_selection import KFold\n",
    "from sklearn.metrics import r2_score\n",
    "from sklearn.linear_model import ElasticNet\n",
    "from sklearn.model_selection import GridSearchCV\n",
    "from xgboost import XGBClassifier\n",
    "from lightgbm import LGBMClassifier\n",
    "from catboost import CatBoostClassifier\n",
    "from sklearn.preprocessing import LabelEncoder"
   ]
  },
  {
   "cell_type": "code",
   "execution_count": 55,
   "id": "df2eae4b-ae1c-46f9-aa6a-b7dde1dc5964",
   "metadata": {},
   "outputs": [],
   "source": [
    "df = pd.read_csv(r\"C:\\Users\\Administrator.DAI-PC2\\Downloads\\Shubham\\Practical Machine Learning\\Kaggle\\Cirrhosis\\train.csv\")\n",
    "X = pd.get_dummies(df.drop([\"Status\",\"id\"],axis=1),drop_first=True)\n",
    "le = LabelEncoder()\n",
    "y = le.fit_transform(df[\"Status\"])"
   ]
  },
  {
   "cell_type": "code",
   "execution_count": 56,
   "id": "31f0e590-1309-4c93-ac9f-06db1fd1f349",
   "metadata": {},
   "outputs": [],
   "source": [
    "test = pd.read_csv(r\"C:\\Users\\Administrator.DAI-PC2\\Downloads\\Shubham\\Practical Machine Learning\\Kaggle\\Cirrhosis\\test.csv\")\n",
    "X_test = pd.get_dummies(test.drop(\"id\",axis=1),drop_first=True)"
   ]
  },
  {
   "cell_type": "code",
   "execution_count": 57,
   "id": "7a42493d-a6b4-4624-b090-b0d5a33bfabd",
   "metadata": {},
   "outputs": [],
   "source": [
    "xgb = XGBClassifier(random_state=24)\n",
    "kfold = KFold(n_splits=5,shuffle=True,random_state=24)\n",
    "params = {\"learning_rate\":np.linspace(0.001,0.9,10),\"max_depth\":[None,2,3,4],\"n_estimators\":[25,50,100]}\n",
    "gcv_xgb = GridSearchCV(xgb,param_grid=params,cv=kfold,scoring='r2',n_jobs=-1)\n",
    "gcv_xgb.fit(X,y)\n",
    "y_pred_prob = gcv_xgb.predict_proba(X_test)\n",
    "submit = pd.DataFrame({\"id\":test[\"id\"],\"Status_C\":y_pred_prob[:,0],\"Status_CL\":y_pred_prob[:,1],\"Status_D\":y_pred_prob[:,2]})\n",
    "submit.to_csv(r\"C:\\Users\\Administrator.DAI-PC2\\Downloads\\Shubham\\Practical Machine Learning\\Kaggle\\Cirrhosis\\xgb.csv\",index=False)"
   ]
  },
  {
   "cell_type": "code",
   "execution_count": 58,
   "id": "ecdbe2b3-c51c-4daf-852c-3c9ff81c95ec",
   "metadata": {},
   "outputs": [
    {
     "name": "stdout",
     "output_type": "stream",
     "text": [
      "[LightGBM] [Info] Auto-choosing row-wise multi-threading, the overhead of testing was 0.000558 seconds.\n",
      "You can set `force_row_wise=true` to remove the overhead.\n",
      "And if memory is not enough, you can set `force_col_wise=true`.\n",
      "[LightGBM] [Info] Total Bins 1930\n",
      "[LightGBM] [Info] Number of data points in the train set: 7905, number of used features: 19\n",
      "[LightGBM] [Info] Start training from score -0.465082\n",
      "[LightGBM] [Info] Start training from score -3.358480\n",
      "[LightGBM] [Info] Start training from score -1.087291\n"
     ]
    }
   ],
   "source": [
    "lgbm = LGBMClassifier(random_state=24)\n",
    "kfold = KFold(n_splits=5,shuffle=True,random_state=24)\n",
    "params = {\"learning_rate\":np.linspace(0.001,0.9,10),\"max_depth\":[None,2,3,4],\"n_estimators\":[25,50,100]}\n",
    "gcv_lgbm = GridSearchCV(lgbm,param_grid=params,cv=kfold,scoring='r2',n_jobs=-1)\n",
    "gcv_lgbm.fit(X,y)\n",
    "y_pred_prob = gcv_lgbm.predict_proba(X_test)\n",
    "submit = pd.DataFrame({\"id\":test[\"id\"],\"Status_C\":y_pred_prob[:,0],\"Status_CL\":y_pred_prob[:,1],\"Status_D\":y_pred_prob[:,2]})\n",
    "submit.to_csv(r\"C:\\Users\\Administrator.DAI-PC2\\Downloads\\Shubham\\Practical Machine Learning\\Kaggle\\Cirrhosis\\lgbm.csv\",index=False)"
   ]
  },
  {
   "cell_type": "code",
   "execution_count": 59,
   "id": "34d84805-ecb7-4037-81d4-d7cacc6aecac",
   "metadata": {},
   "outputs": [
    {
     "name": "stdout",
     "output_type": "stream",
     "text": [
      "0:\tlearn: 0.7335544\ttotal: 3.15ms\tremaining: 312ms\n",
      "1:\tlearn: 0.6151393\ttotal: 5.78ms\tremaining: 283ms\n",
      "2:\tlearn: 0.5671047\ttotal: 8.48ms\tremaining: 274ms\n",
      "3:\tlearn: 0.5389186\ttotal: 11ms\tremaining: 265ms\n",
      "4:\tlearn: 0.5257400\ttotal: 13.4ms\tremaining: 254ms\n",
      "5:\tlearn: 0.5125922\ttotal: 15.8ms\tremaining: 248ms\n",
      "6:\tlearn: 0.5068623\ttotal: 18.1ms\tremaining: 240ms\n",
      "7:\tlearn: 0.5044177\ttotal: 20.5ms\tremaining: 236ms\n",
      "8:\tlearn: 0.4986389\ttotal: 23.6ms\tremaining: 239ms\n",
      "9:\tlearn: 0.4954623\ttotal: 26.5ms\tremaining: 238ms\n",
      "10:\tlearn: 0.4905964\ttotal: 29ms\tremaining: 234ms\n",
      "11:\tlearn: 0.4872694\ttotal: 31.8ms\tremaining: 233ms\n",
      "12:\tlearn: 0.4854770\ttotal: 34.2ms\tremaining: 229ms\n",
      "13:\tlearn: 0.4833443\ttotal: 36.9ms\tremaining: 226ms\n",
      "14:\tlearn: 0.4823510\ttotal: 39.6ms\tremaining: 225ms\n",
      "15:\tlearn: 0.4797635\ttotal: 43.1ms\tremaining: 226ms\n",
      "16:\tlearn: 0.4776031\ttotal: 45.8ms\tremaining: 224ms\n",
      "17:\tlearn: 0.4757821\ttotal: 48.2ms\tremaining: 219ms\n",
      "18:\tlearn: 0.4743991\ttotal: 50.6ms\tremaining: 216ms\n",
      "19:\tlearn: 0.4726665\ttotal: 53.4ms\tremaining: 214ms\n",
      "20:\tlearn: 0.4713485\ttotal: 56ms\tremaining: 211ms\n",
      "21:\tlearn: 0.4698695\ttotal: 58.8ms\tremaining: 209ms\n",
      "22:\tlearn: 0.4689017\ttotal: 61.4ms\tremaining: 205ms\n",
      "23:\tlearn: 0.4679123\ttotal: 64.1ms\tremaining: 203ms\n",
      "24:\tlearn: 0.4667578\ttotal: 66.7ms\tremaining: 200ms\n",
      "25:\tlearn: 0.4654597\ttotal: 69.5ms\tremaining: 198ms\n",
      "26:\tlearn: 0.4633736\ttotal: 72.3ms\tremaining: 195ms\n",
      "27:\tlearn: 0.4617763\ttotal: 75.2ms\tremaining: 193ms\n",
      "28:\tlearn: 0.4612614\ttotal: 78ms\tremaining: 191ms\n",
      "29:\tlearn: 0.4603105\ttotal: 80.6ms\tremaining: 188ms\n",
      "30:\tlearn: 0.4595816\ttotal: 83.5ms\tremaining: 186ms\n",
      "31:\tlearn: 0.4586563\ttotal: 86ms\tremaining: 183ms\n",
      "32:\tlearn: 0.4576131\ttotal: 88.5ms\tremaining: 180ms\n",
      "33:\tlearn: 0.4570303\ttotal: 91.3ms\tremaining: 177ms\n",
      "34:\tlearn: 0.4560308\ttotal: 94ms\tremaining: 175ms\n",
      "35:\tlearn: 0.4547781\ttotal: 96.8ms\tremaining: 172ms\n",
      "36:\tlearn: 0.4540430\ttotal: 99.5ms\tremaining: 169ms\n",
      "37:\tlearn: 0.4532111\ttotal: 102ms\tremaining: 166ms\n",
      "38:\tlearn: 0.4522965\ttotal: 105ms\tremaining: 164ms\n",
      "39:\tlearn: 0.4517500\ttotal: 107ms\tremaining: 161ms\n",
      "40:\tlearn: 0.4511340\ttotal: 109ms\tremaining: 157ms\n",
      "41:\tlearn: 0.4501779\ttotal: 112ms\tremaining: 154ms\n",
      "42:\tlearn: 0.4496734\ttotal: 114ms\tremaining: 152ms\n",
      "43:\tlearn: 0.4492969\ttotal: 117ms\tremaining: 149ms\n",
      "44:\tlearn: 0.4484400\ttotal: 120ms\tremaining: 146ms\n",
      "45:\tlearn: 0.4479352\ttotal: 123ms\tremaining: 144ms\n",
      "46:\tlearn: 0.4463920\ttotal: 125ms\tremaining: 141ms\n",
      "47:\tlearn: 0.4456561\ttotal: 128ms\tremaining: 139ms\n",
      "48:\tlearn: 0.4451949\ttotal: 131ms\tremaining: 136ms\n",
      "49:\tlearn: 0.4442942\ttotal: 133ms\tremaining: 133ms\n",
      "50:\tlearn: 0.4440755\ttotal: 136ms\tremaining: 131ms\n",
      "51:\tlearn: 0.4438389\ttotal: 139ms\tremaining: 128ms\n",
      "52:\tlearn: 0.4434915\ttotal: 141ms\tremaining: 125ms\n",
      "53:\tlearn: 0.4430861\ttotal: 144ms\tremaining: 123ms\n",
      "54:\tlearn: 0.4425146\ttotal: 146ms\tremaining: 120ms\n",
      "55:\tlearn: 0.4421200\ttotal: 149ms\tremaining: 117ms\n",
      "56:\tlearn: 0.4415841\ttotal: 152ms\tremaining: 115ms\n",
      "57:\tlearn: 0.4412015\ttotal: 155ms\tremaining: 112ms\n",
      "58:\tlearn: 0.4410390\ttotal: 157ms\tremaining: 109ms\n",
      "59:\tlearn: 0.4404240\ttotal: 159ms\tremaining: 106ms\n",
      "60:\tlearn: 0.4400645\ttotal: 162ms\tremaining: 103ms\n",
      "61:\tlearn: 0.4396260\ttotal: 164ms\tremaining: 101ms\n",
      "62:\tlearn: 0.4392492\ttotal: 166ms\tremaining: 97.7ms\n",
      "63:\tlearn: 0.4389826\ttotal: 169ms\tremaining: 94.9ms\n",
      "64:\tlearn: 0.4378615\ttotal: 171ms\tremaining: 92.3ms\n",
      "65:\tlearn: 0.4371349\ttotal: 174ms\tremaining: 89.6ms\n",
      "66:\tlearn: 0.4365923\ttotal: 177ms\tremaining: 87.1ms\n",
      "67:\tlearn: 0.4360721\ttotal: 180ms\tremaining: 84.6ms\n",
      "68:\tlearn: 0.4354694\ttotal: 182ms\tremaining: 81.9ms\n",
      "69:\tlearn: 0.4353074\ttotal: 185ms\tremaining: 79.4ms\n",
      "70:\tlearn: 0.4347079\ttotal: 188ms\tremaining: 76.6ms\n",
      "71:\tlearn: 0.4345103\ttotal: 190ms\tremaining: 73.9ms\n",
      "72:\tlearn: 0.4340617\ttotal: 193ms\tremaining: 71.4ms\n",
      "73:\tlearn: 0.4336157\ttotal: 195ms\tremaining: 68.7ms\n",
      "74:\tlearn: 0.4331048\ttotal: 198ms\tremaining: 66ms\n",
      "75:\tlearn: 0.4326321\ttotal: 201ms\tremaining: 63.5ms\n",
      "76:\tlearn: 0.4323801\ttotal: 204ms\tremaining: 61ms\n",
      "77:\tlearn: 0.4322882\ttotal: 207ms\tremaining: 58.4ms\n",
      "78:\tlearn: 0.4315338\ttotal: 210ms\tremaining: 55.7ms\n",
      "79:\tlearn: 0.4311357\ttotal: 212ms\tremaining: 53ms\n",
      "80:\tlearn: 0.4305445\ttotal: 215ms\tremaining: 50.5ms\n",
      "81:\tlearn: 0.4299278\ttotal: 219ms\tremaining: 48ms\n",
      "82:\tlearn: 0.4297057\ttotal: 222ms\tremaining: 45.5ms\n",
      "83:\tlearn: 0.4293078\ttotal: 225ms\tremaining: 42.8ms\n",
      "84:\tlearn: 0.4288864\ttotal: 228ms\tremaining: 40.3ms\n",
      "85:\tlearn: 0.4284797\ttotal: 231ms\tremaining: 37.7ms\n",
      "86:\tlearn: 0.4278502\ttotal: 235ms\tremaining: 35ms\n",
      "87:\tlearn: 0.4276433\ttotal: 238ms\tremaining: 32.4ms\n",
      "88:\tlearn: 0.4267959\ttotal: 241ms\tremaining: 29.8ms\n",
      "89:\tlearn: 0.4267185\ttotal: 244ms\tremaining: 27.1ms\n",
      "90:\tlearn: 0.4262793\ttotal: 247ms\tremaining: 24.4ms\n",
      "91:\tlearn: 0.4261421\ttotal: 250ms\tremaining: 21.7ms\n",
      "92:\tlearn: 0.4254046\ttotal: 252ms\tremaining: 19ms\n",
      "93:\tlearn: 0.4251920\ttotal: 255ms\tremaining: 16.3ms\n",
      "94:\tlearn: 0.4246150\ttotal: 258ms\tremaining: 13.6ms\n",
      "95:\tlearn: 0.4241253\ttotal: 261ms\tremaining: 10.9ms\n",
      "96:\tlearn: 0.4239590\ttotal: 263ms\tremaining: 8.14ms\n",
      "97:\tlearn: 0.4237877\ttotal: 267ms\tremaining: 5.44ms\n",
      "98:\tlearn: 0.4233620\ttotal: 269ms\tremaining: 2.72ms\n",
      "99:\tlearn: 0.4229260\ttotal: 272ms\tremaining: 0us\n"
     ]
    }
   ],
   "source": [
    "cate = list(X.select_dtypes(include=object).columns)\n",
    "cat =  CatBoostClassifier(random_state=24,cat_features=cate)\n",
    "kfold = KFold(n_splits=5,shuffle=True,random_state=24)\n",
    "params = {\"learning_rate\":np.linspace(0.001,0.9,10),\"max_depth\":[None,2,3,4],\"n_estimators\":[25,50,100]}\n",
    "gcv_cat = GridSearchCV(cat,param_grid=params,cv=kfold,scoring='r2',n_jobs=-1)\n",
    "gcv_cat.fit(X,y)\n",
    "y_pred_prob = gcv_cat.predict_proba(X_test)\n",
    "submit = pd.DataFrame({\"id\":test[\"id\"],\"Status_C\":y_pred_prob[:,0],\"Status_CL\":y_pred_prob[:,1],\"Status_D\":y_pred_prob[:,2]})\n",
    "submit.to_csv(r\"C:\\Users\\Administrator.DAI-PC2\\Downloads\\Shubham\\Practical Machine Learning\\Kaggle\\Cirrhosis\\cat.csv\",index=False)"
   ]
  },
  {
   "cell_type": "code",
   "execution_count": null,
   "id": "8e54c09f-ad73-4c13-8c2b-84cd4be70b4f",
   "metadata": {},
   "outputs": [],
   "source": []
  }
 ],
 "metadata": {
  "kernelspec": {
   "display_name": "Python 3 (ipykernel)",
   "language": "python",
   "name": "python3"
  },
  "language_info": {
   "codemirror_mode": {
    "name": "ipython",
    "version": 3
   },
   "file_extension": ".py",
   "mimetype": "text/x-python",
   "name": "python",
   "nbconvert_exporter": "python",
   "pygments_lexer": "ipython3",
   "version": "3.11.8"
  }
 },
 "nbformat": 4,
 "nbformat_minor": 5
}
