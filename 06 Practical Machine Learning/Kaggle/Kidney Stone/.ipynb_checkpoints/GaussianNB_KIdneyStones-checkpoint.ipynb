{
 "cells": [
  {
   "cell_type": "code",
   "execution_count": 7,
   "id": "bcba6f56-f7f3-438f-9191-9c97af16c310",
   "metadata": {},
   "outputs": [],
   "source": [
    "import pandas as pd\n",
    "import numpy as np\n",
    "from sklearn.naive_bayes import GaussianNB"
   ]
  },
  {
   "cell_type": "code",
   "execution_count": 11,
   "id": "4a95a54f-e7d1-4632-9fcd-6ded5e1a9779",
   "metadata": {},
   "outputs": [],
   "source": [
    "train = pd.read_csv(r\"C:\\Users\\Administrator.DAI-PC2\\Downloads\\Shubham\\Practical Machine Learning\\Assignments\\Kidney Stone\\train.csv\")\n",
    "test = pd.read_csv(r\"C:\\Users\\Administrator.DAI-PC2\\Downloads\\Shubham\\Practical Machine Learning\\Assignments\\Kidney Stone\\test.csv\")"
   ]
  },
  {
   "cell_type": "code",
   "execution_count": 12,
   "id": "00dbbc92-21ad-46bd-b625-161383cc2663",
   "metadata": {},
   "outputs": [],
   "source": [
    "X_train = train.drop([\"id\",\"target\"],axis=1)\n",
    "X_test = test.drop(\"id\",axis=1)\n",
    "y_train = train[\"target\"]"
   ]
  },
  {
   "cell_type": "code",
   "execution_count": 13,
   "id": "d7990929-03c6-4469-b9ec-1f7e9bb3978c",
   "metadata": {},
   "outputs": [
    {
     "data": {
      "text/plain": [
       "gravity    0\n",
       "ph         0\n",
       "osmo       0\n",
       "cond       0\n",
       "urea       0\n",
       "calc       0\n",
       "dtype: int64"
      ]
     },
     "execution_count": 13,
     "metadata": {},
     "output_type": "execute_result"
    }
   ],
   "source": [
    "X_train.isna().sum()"
   ]
  },
  {
   "cell_type": "code",
   "execution_count": 14,
   "id": "4fd17a37-3f96-417b-85f4-19e9a5b9900f",
   "metadata": {},
   "outputs": [
    {
     "data": {
      "text/plain": [
       "gravity    0\n",
       "ph         0\n",
       "osmo       0\n",
       "cond       0\n",
       "urea       0\n",
       "calc       0\n",
       "dtype: int64"
      ]
     },
     "execution_count": 14,
     "metadata": {},
     "output_type": "execute_result"
    }
   ],
   "source": [
    "X_test.isna().sum()"
   ]
  },
  {
   "cell_type": "code",
   "execution_count": 15,
   "id": "9819a292-b7e9-4681-bcb4-6ce7bbb99c7d",
   "metadata": {},
   "outputs": [],
   "source": [
    "nb = GaussianNB()\n",
    "nb.fit(X_train,y_train)\n",
    "y_pred_prob = nb.predict_proba(X_test)[:,1]"
   ]
  },
  {
   "cell_type": "code",
   "execution_count": 16,
   "id": "b06c53cb-5e70-4288-9dab-5dd77ddd31e0",
   "metadata": {},
   "outputs": [],
   "source": [
    "submit = pd.DataFrame({\"id\":test[\"id\"],\"target\":y_pred_prob})"
   ]
  },
  {
   "cell_type": "code",
   "execution_count": 18,
   "id": "124e0807-7c61-47a5-8ddb-98575d571796",
   "metadata": {},
   "outputs": [],
   "source": [
    "submit.to_csv(r\"C:\\Users\\Administrator.DAI-PC2\\Downloads\\Shubham\\Practical Machine Learning\\Assignments\\Kidney Stone\\submit_nb.csv\",index=False)"
   ]
  },
  {
   "cell_type": "code",
   "execution_count": null,
   "id": "5576b4dc-f3bd-402e-8fce-5b5401cd686a",
   "metadata": {},
   "outputs": [],
   "source": []
  }
 ],
 "metadata": {
  "kernelspec": {
   "display_name": "Python 3 (ipykernel)",
   "language": "python",
   "name": "python3"
  },
  "language_info": {
   "codemirror_mode": {
    "name": "ipython",
    "version": 3
   },
   "file_extension": ".py",
   "mimetype": "text/x-python",
   "name": "python",
   "nbconvert_exporter": "python",
   "pygments_lexer": "ipython3",
   "version": "3.11.8"
  }
 },
 "nbformat": 4,
 "nbformat_minor": 5
}
