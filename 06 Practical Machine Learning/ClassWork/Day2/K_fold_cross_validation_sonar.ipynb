{
 "cells": [
  {
   "cell_type": "code",
   "execution_count": 4,
   "id": "46216362-1008-4dba-a1ad-9d012052180a",
   "metadata": {},
   "outputs": [],
   "source": [
    "import pandas as pd\n",
    "from sklearn.model_selection import cross_val_score, StratifiedKFold\n",
    "from sklearn.naive_bayes import GaussianNB\n",
    "from sklearn.preprocessing import LabelEncoder\n",
    "from sklearn.linear_model import LogisticRegression"
   ]
  },
  {
   "cell_type": "code",
   "execution_count": 9,
   "id": "c3e39fc7-5130-4cca-b6b5-9937a6c6828d",
   "metadata": {},
   "outputs": [
    {
     "data": {
      "text/plain": [
       "array(['M', 'R'], dtype=object)"
      ]
     },
     "execution_count": 9,
     "metadata": {},
     "output_type": "execute_result"
    }
   ],
   "source": [
    "df = pd.read_csv(r\"C:\\Users\\Administrator.DAI-PC2\\Downloads\\Shubham\\Practical Machine Learning\\ClassWork\\Cases\\Sonar\\Sonar.csv\")\n",
    "#dum_df = pd.get_dummies(df, drop_first=True)\n",
    "le = LabelEncoder()\n",
    "X = df.iloc[:,1:-1]\n",
    "y = le.fit_transform(df.iloc[:,-1])\n",
    "le.classes_"
   ]
  },
  {
   "cell_type": "code",
   "execution_count": 6,
   "id": "bdde0e2c-e739-4407-80c0-1f81d3d82979",
   "metadata": {},
   "outputs": [
    {
     "name": "stdout",
     "output_type": "stream",
     "text": [
      "0.7823538589556895\n"
     ]
    }
   ],
   "source": [
    "gaussian = GaussianNB()\n",
    "kfold = StratifiedKFold(n_splits =5,shuffle = True, random_state = 24)\n",
    "results = cross_val_score(gaussian,X, y,cv = kfold,scoring = 'roc_auc')\n",
    "print(results.mean())"
   ]
  },
  {
   "cell_type": "code",
   "execution_count": 8,
   "id": "5cbb4eae-42ce-438b-b663-f8f8530be52d",
   "metadata": {},
   "outputs": [
    {
     "name": "stdout",
     "output_type": "stream",
     "text": [
      "0.8363875598086123\n"
     ]
    }
   ],
   "source": [
    "lr = LogisticRegression()\n",
    "kfold = StratifiedKFold(n_splits =5,shuffle = True, random_state = 24)\n",
    "results = cross_val_score(lr,X, y,cv = kfold,scoring = 'roc_auc')\n",
    "print(results.mean())"
   ]
  },
  {
   "cell_type": "code",
   "execution_count": null,
   "id": "20740cde-6178-4e11-8220-8f01324b37dc",
   "metadata": {},
   "outputs": [],
   "source": []
  }
 ],
 "metadata": {
  "kernelspec": {
   "display_name": "Python 3 (ipykernel)",
   "language": "python",
   "name": "python3"
  },
  "language_info": {
   "codemirror_mode": {
    "name": "ipython",
    "version": 3
   },
   "file_extension": ".py",
   "mimetype": "text/x-python",
   "name": "python",
   "nbconvert_exporter": "python",
   "pygments_lexer": "ipython3",
   "version": "3.11.8"
  }
 },
 "nbformat": 4,
 "nbformat_minor": 5
}
