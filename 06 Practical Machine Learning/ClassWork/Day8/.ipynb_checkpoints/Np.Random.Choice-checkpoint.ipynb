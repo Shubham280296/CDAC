{
 "cells": [
  {
   "cell_type": "code",
   "execution_count": 1,
   "id": "16a4e88e-7e50-4653-bc67-ae81961a7ca9",
   "metadata": {},
   "outputs": [],
   "source": [
    "import pandas as pd\n",
    "import numpy as np"
   ]
  },
  {
   "cell_type": "code",
   "execution_count": 2,
   "id": "669ded8b-f931-42bc-a8f6-5166b7a85a83",
   "metadata": {},
   "outputs": [],
   "source": [
    "kyp = pd.read_csv(r\"C:\\Users\\Administrator.DAI-PC2\\Downloads\\Shubham\\Practical Machine Learning\\ClassWork\\Cases\\Kyphosis\\Kyphosis.csv\")"
   ]
  },
  {
   "cell_type": "code",
   "execution_count": null,
   "id": "50f25000-39c0-440e-b520-a5a5fae5d05e",
   "metadata": {},
   "outputs": [],
   "source": [
    "### Simple Random Sampling without replacement :SRSWOR"
   ]
  },
  {
   "cell_type": "code",
   "execution_count": 4,
   "id": "d5b5e6a8-2372-475e-be20-a0f474ccf0fd",
   "metadata": {},
   "outputs": [
    {
     "name": "stdout",
     "output_type": "stream",
     "text": [
      "(60, 4)\n"
     ]
    },
    {
     "data": {
      "text/plain": [
       "array([69, 65, 74,  4, 32, 36, 66, 47, 61, 40,  8, 17, 30, 67, 68, 31,  2,\n",
       "       51, 50, 64, 41, 45, 25, 29, 15, 43, 39, 18, 46, 55, 57,  7, 56, 60,\n",
       "       72, 12, 38, 77, 42, 22, 24, 34, 20, 23, 49, 10,  9,  5, 52, 54, 13,\n",
       "       21, 73, 59,  6,  3, 37, 79, 80, 28])"
      ]
     },
     "execution_count": 4,
     "metadata": {},
     "output_type": "execute_result"
    }
   ],
   "source": [
    "kyp_ind = list(kyp.index)\n",
    "\n",
    "samp_ind = np.random.choice(kyp_ind, size=60,replace=False)\n",
    "\n",
    "samp_kyp = kyp.iloc[samp_ind,:]\n",
    "\n",
    "print(samp_kyp.shape)\n",
    "samp_ind"
   ]
  },
  {
   "cell_type": "markdown",
   "id": "7c94e2c1-d1fd-4f44-826e-5ec6675d8964",
   "metadata": {},
   "source": [
    "Sample indexes is not repeated as it is without replacement (chosen sample ind is taken out of kyp ind) "
   ]
  },
  {
   "cell_type": "code",
   "execution_count": null,
   "id": "9edb5371-910d-4c77-b683-3b5424bbe9fd",
   "metadata": {},
   "outputs": [],
   "source": [
    "### Simple Random Sampling witreplacement :SRSWR  / Bootstrap sample"
   ]
  },
  {
   "cell_type": "code",
   "execution_count": 6,
   "id": "43c471ab-bbb7-4f1f-a744-512aa9e551ad",
   "metadata": {},
   "outputs": [
    {
     "name": "stdout",
     "output_type": "stream",
     "text": [
      "(60, 4)\n"
     ]
    },
    {
     "data": {
      "text/plain": [
       "array([12, 38, 51, 19, 66, 26, 31, 61, 80, 16, 62, 50, 79,  4, 58, 53, 22,\n",
       "       77, 23, 30, 11, 78, 51, 64, 67, 40, 34, 66,  6, 35, 35, 19, 57,  1,\n",
       "       40, 20, 49, 45, 78, 36, 47, 65, 78,  3, 60, 52, 48, 29, 71, 37, 55,\n",
       "       42, 59, 14, 27, 53, 49, 17, 28, 54])"
      ]
     },
     "execution_count": 6,
     "metadata": {},
     "output_type": "execute_result"
    }
   ],
   "source": [
    "kyp_ind = list(kyp.index)\n",
    "\n",
    "samp_ind = np.random.choice(kyp_ind, size=60,replace=True)\n",
    "\n",
    "samp_kyp = kyp.iloc[samp_ind,:]\n",
    "\n",
    "print(samp_kyp.shape)\n",
    "samp_ind"
   ]
  },
  {
   "cell_type": "markdown",
   "id": "be66a551-f9ed-4388-bc9e-06f338908fd0",
   "metadata": {},
   "source": [
    "Sample indexes may or may not be repeated as it is with replacement (chosen sample ind is not taken out of kyp ind)\n",
    "if size is small, repeatition will be not present."
   ]
  },
  {
   "cell_type": "code",
   "execution_count": null,
   "id": "2e959cbf-8d4c-4c7b-8401-6d381f39a3c4",
   "metadata": {},
   "outputs": [],
   "source": []
  }
 ],
 "metadata": {
  "kernelspec": {
   "display_name": "Python 3 (ipykernel)",
   "language": "python",
   "name": "python3"
  },
  "language_info": {
   "codemirror_mode": {
    "name": "ipython",
    "version": 3
   },
   "file_extension": ".py",
   "mimetype": "text/x-python",
   "name": "python",
   "nbconvert_exporter": "python",
   "pygments_lexer": "ipython3",
   "version": "3.11.8"
  }
 },
 "nbformat": 4,
 "nbformat_minor": 5
}
