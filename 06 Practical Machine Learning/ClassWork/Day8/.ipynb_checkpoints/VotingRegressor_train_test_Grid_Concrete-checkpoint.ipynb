{
 "cells": [
  {
   "cell_type": "code",
   "execution_count": 1,
   "id": "5cc3de24-2c2b-44dc-9d9f-1bc1508820cd",
   "metadata": {},
   "outputs": [],
   "source": [
    "import pandas as pd\n",
    "import numpy as np\n",
    "from sklearn.svm import SVC\n",
    "from sklearn.model_selection import GridSearchCV, train_test_split, KFold\n",
    "from sklearn.metrics import accuracy_score, r2_score\n",
    "from sklearn.tree import DecisionTreeRegressor\n",
    "from sklearn.ensemble import VotingRegressor\n",
    "from sklearn.linear_model import Ridge, Lasso, LinearRegression"
   ]
  },
  {
   "cell_type": "code",
   "execution_count": 2,
   "id": "678e9129-e38d-47e1-ad32-152ecf729161",
   "metadata": {},
   "outputs": [],
   "source": [
    "df = pd.read_csv(r\"C:\\Users\\Administrator.DAI-PC2\\Downloads\\Shubham\\Practical Machine Learning\\ClassWork\\Cases\\Concrete Strength\\Concrete_Data.csv\")\n",
    "X = df.iloc[:,:-1]\n",
    "y = df.iloc[:,-1]"
   ]
  },
  {
   "cell_type": "code",
   "execution_count": 3,
   "id": "e2793423-de10-4f06-af89-06cf9dcc13fa",
   "metadata": {},
   "outputs": [],
   "source": [
    "X_train, X_test, y_train, y_test = train_test_split(X, y,test_size = 0.3, random_state=24)"
   ]
  },
  {
   "cell_type": "code",
   "execution_count": 4,
   "id": "20f00521-51ec-458e-b407-c759255a2cfe",
   "metadata": {},
   "outputs": [],
   "source": [
    "## Model 1"
   ]
  },
  {
   "cell_type": "code",
   "execution_count": 5,
   "id": "6d4fa776-474b-4577-b535-1d1040627ef8",
   "metadata": {},
   "outputs": [
    {
     "data": {
      "text/plain": [
       "0.5771749099675626"
      ]
     },
     "execution_count": 5,
     "metadata": {},
     "output_type": "execute_result"
    }
   ],
   "source": [
    "ridge = Ridge()\n",
    "ridge.fit(X_train,y_train)\n",
    "y_pred = ridge.predict(X_test)\n",
    "r2_ridge = r2_score(y_test,y_pred)\n",
    "r2_ridge"
   ]
  },
  {
   "cell_type": "code",
   "execution_count": 6,
   "id": "ed16ecae-3ed5-4dc5-af23-a23b24e664a1",
   "metadata": {},
   "outputs": [],
   "source": [
    "## Model 2"
   ]
  },
  {
   "cell_type": "code",
   "execution_count": 7,
   "id": "8d370b48-2fce-4121-a47b-8f25c1343e4f",
   "metadata": {},
   "outputs": [
    {
     "data": {
      "text/plain": [
       "0.576333587787164"
      ]
     },
     "execution_count": 7,
     "metadata": {},
     "output_type": "execute_result"
    }
   ],
   "source": [
    "lasso = Lasso()\n",
    "lasso.fit(X_train,y_train)\n",
    "y_pred = lasso.predict(X_test)\n",
    "r2_lasso = r2_score(y_test,y_pred)\n",
    "r2_lasso"
   ]
  },
  {
   "cell_type": "code",
   "execution_count": 8,
   "id": "630e0aa4-0566-4310-bfd5-f782a5e1f108",
   "metadata": {},
   "outputs": [],
   "source": [
    "## Model 3"
   ]
  },
  {
   "cell_type": "code",
   "execution_count": 9,
   "id": "7762c5bf-c552-43ff-98ec-1933ce8bd8b5",
   "metadata": {},
   "outputs": [
    {
     "data": {
      "text/plain": [
       "0.5771752777048791"
      ]
     },
     "execution_count": 9,
     "metadata": {},
     "output_type": "execute_result"
    }
   ],
   "source": [
    "lr = LinearRegression()\n",
    "lr.fit(X_train,y_train)\n",
    "y_pred = lr.predict(X_test)\n",
    "r2_lr = r2_score(y_test,y_pred)\n",
    "r2_lr"
   ]
  },
  {
   "cell_type": "code",
   "execution_count": 10,
   "id": "9d9c49a1-5a26-4533-8547-e975579630f2",
   "metadata": {},
   "outputs": [],
   "source": [
    "## Model 4"
   ]
  },
  {
   "cell_type": "code",
   "execution_count": 11,
   "id": "bb54e311-d9c3-432c-a0f8-e002a1fb0f2d",
   "metadata": {},
   "outputs": [
    {
     "data": {
      "text/plain": [
       "0.83089474226832"
      ]
     },
     "execution_count": 11,
     "metadata": {},
     "output_type": "execute_result"
    }
   ],
   "source": [
    "dtc = DecisionTreeRegressor(random_state=24)\n",
    "dtc.fit(X_train,y_train)\n",
    "y_pred = dtc.predict(X_test)\n",
    "r2_dtc = r2_score(y_test,y_pred)\n",
    "r2_dtc"
   ]
  },
  {
   "cell_type": "code",
   "execution_count": 12,
   "id": "0c8dc8eb-e0a7-407a-82a0-40247d68f9b8",
   "metadata": {},
   "outputs": [],
   "source": [
    "### Average voting"
   ]
  },
  {
   "cell_type": "code",
   "execution_count": 13,
   "id": "c35e6f6b-418f-4273-af86-9989250de1fd",
   "metadata": {},
   "outputs": [
    {
     "name": "stdout",
     "output_type": "stream",
     "text": [
      "R2 Score =  0.726968009759825\n"
     ]
    }
   ],
   "source": [
    "voting_avg = VotingRegressor([(\"RIDGE\",ridge),(\"LASSO\",lasso),(\"LR\",lr),(\"TREE\",dtc)])\n",
    "voting_avg.fit(X_train,y_train)\n",
    "y_pred  = voting_avg.predict(X_test)\n",
    "print(\"R2 Score = \", r2_score(y_test,y_pred))"
   ]
  },
  {
   "cell_type": "code",
   "execution_count": 14,
   "id": "a0d0fef6-0dca-45ac-ad3f-c4938ace6a87",
   "metadata": {},
   "outputs": [],
   "source": [
    "###### weighted voting averaging"
   ]
  },
  {
   "cell_type": "code",
   "execution_count": 15,
   "id": "166ee2a7-6756-4051-b16c-1673db847410",
   "metadata": {},
   "outputs": [
    {
     "name": "stdout",
     "output_type": "stream",
     "text": [
      "R2 Score =  0.7604627780013105\n"
     ]
    }
   ],
   "source": [
    "voting_w = VotingRegressor([(\"RIDGE\",ridge),(\"LASSO\",lasso),(\"LR\",lr),(\"TREE\",dtc)],weights = [r2_ridge,r2_lasso,r2_lr,r2_dtc])\n",
    "voting_w.fit(X_train,y_train)\n",
    "y_pred  = voting_w.predict(X_test)\n",
    "print(\"R2 Score = \", r2_score(y_test,y_pred))"
   ]
  },
  {
   "cell_type": "code",
   "execution_count": 16,
   "id": "9318e881-a451-42c7-bd94-556469ca61b3",
   "metadata": {},
   "outputs": [],
   "source": [
    "#### GridSearch"
   ]
  },
  {
   "cell_type": "code",
   "execution_count": 17,
   "id": "b69383ac-0361-4348-8222-06d2e69b7ca7",
   "metadata": {},
   "outputs": [
    {
     "name": "stdout",
     "output_type": "stream",
     "text": [
      "{'estimators': [('RIDGE', Ridge()), ('LASSO', Lasso()), ('LR', LinearRegression()), ('TREE', DecisionTreeRegressor(random_state=24))], 'n_jobs': None, 'verbose': False, 'weights': None, 'RIDGE': Ridge(), 'LASSO': Lasso(), 'LR': LinearRegression(), 'TREE': DecisionTreeRegressor(random_state=24), 'RIDGE__alpha': 1.0, 'RIDGE__copy_X': True, 'RIDGE__fit_intercept': True, 'RIDGE__max_iter': None, 'RIDGE__positive': False, 'RIDGE__random_state': None, 'RIDGE__solver': 'auto', 'RIDGE__tol': 0.0001, 'LASSO__alpha': 1.0, 'LASSO__copy_X': True, 'LASSO__fit_intercept': True, 'LASSO__max_iter': 1000, 'LASSO__positive': False, 'LASSO__precompute': False, 'LASSO__random_state': None, 'LASSO__selection': 'cyclic', 'LASSO__tol': 0.0001, 'LASSO__warm_start': False, 'LR__copy_X': True, 'LR__fit_intercept': True, 'LR__n_jobs': None, 'LR__positive': False, 'TREE__ccp_alpha': 0.0, 'TREE__criterion': 'squared_error', 'TREE__max_depth': None, 'TREE__max_features': None, 'TREE__max_leaf_nodes': None, 'TREE__min_impurity_decrease': 0.0, 'TREE__min_samples_leaf': 1, 'TREE__min_samples_split': 2, 'TREE__min_weight_fraction_leaf': 0.0, 'TREE__monotonic_cst': None, 'TREE__random_state': 24, 'TREE__splitter': 'best'}\n"
     ]
    }
   ],
   "source": [
    "print(voting_avg.get_params())"
   ]
  },
  {
   "cell_type": "code",
   "execution_count": 20,
   "id": "22372418-2b2c-4e0f-9039-bd9dedc3f07b",
   "metadata": {},
   "outputs": [
    {
     "name": "stdout",
     "output_type": "stream",
     "text": [
      "{'LASSO__alpha': 0.001, 'RIDGE__alpha': 0.001, 'TREE__max_depth': None, 'TREE__min_samples_leaf': 1, 'TREE__min_samples_split': 2}\n",
      "0.7444419391024694\n"
     ]
    }
   ],
   "source": [
    "kfold = KFold(n_splits=5,shuffle=True,random_state=24)\n",
    "params = {\"RIDGE__alpha\":np.linspace(0.001,3,5),\"LASSO__alpha\":np.linspace(0.001,3,5),\"TREE__min_samples_split\":[2,5,10],\n",
    "          \"TREE__min_samples_leaf\":[1,5,10],\"TREE__max_depth\":[None,3,4,5]}\n",
    "gcv = GridSearchCV(voting_avg,param_grid=params,cv=kfold,scoring='r2',n_jobs=-1)\n",
    "gcv.fit(X,y)\n",
    "print(gcv.best_params_)\n",
    "print(gcv.best_score_)"
   ]
  },
  {
   "cell_type": "code",
   "execution_count": 21,
   "id": "5a48adec-64ab-434f-9ccb-8406d51a17f1",
   "metadata": {},
   "outputs": [
    {
     "name": "stdout",
     "output_type": "stream",
     "text": [
      "{'LASSO__alpha': 0.001, 'RIDGE__alpha': 0.001, 'TREE__max_depth': None, 'TREE__min_samples_leaf': 1, 'TREE__min_samples_split': 2}\n",
      "0.7754886685757552\n"
     ]
    }
   ],
   "source": [
    "kfold = KFold(n_splits=5,shuffle=True,random_state=24)\n",
    "params = {\"RIDGE__alpha\":np.linspace(0.001,3,5),\"LASSO__alpha\":np.linspace(0.001,3,5),\"TREE__min_samples_split\":[2,5,10],\n",
    "          \"TREE__min_samples_leaf\":[1,5,10],\"TREE__max_depth\":[None,3,4,5]}\n",
    "gcv = GridSearchCV(voting_w,param_grid=params,cv=kfold,scoring='r2',n_jobs=-1)\n",
    "gcv.fit(X,y)\n",
    "print(gcv.best_params_)\n",
    "print(gcv.best_score_)"
   ]
  },
  {
   "cell_type": "code",
   "execution_count": null,
   "id": "1bac1db3-18c7-4ab8-828b-df7a1060f361",
   "metadata": {},
   "outputs": [],
   "source": []
  }
 ],
 "metadata": {
  "kernelspec": {
   "display_name": "Python 3 (ipykernel)",
   "language": "python",
   "name": "python3"
  },
  "language_info": {
   "codemirror_mode": {
    "name": "ipython",
    "version": 3
   },
   "file_extension": ".py",
   "mimetype": "text/x-python",
   "name": "python",
   "nbconvert_exporter": "python",
   "pygments_lexer": "ipython3",
   "version": "3.11.8"
  }
 },
 "nbformat": 4,
 "nbformat_minor": 5
}
