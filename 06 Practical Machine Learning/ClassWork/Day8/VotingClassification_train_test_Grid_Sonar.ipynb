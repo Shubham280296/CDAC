{
 "cells": [
  {
   "cell_type": "code",
   "execution_count": 2,
   "id": "5cc3de24-2c2b-44dc-9d9f-1bc1508820cd",
   "metadata": {},
   "outputs": [],
   "source": [
    "import pandas as pd\n",
    "import numpy as np\n",
    "from sklearn.svm import SVC\n",
    "from sklearn.preprocessing import LabelEncoder, StandardScaler,MinMaxScaler\n",
    "from sklearn.model_selection import GridSearchCV, StratifiedKFold, train_test_split\n",
    "from sklearn.metrics import accuracy_score, log_loss\n",
    "from sklearn.pipeline import Pipeline\n",
    "from sklearn.discriminant_analysis import LinearDiscriminantAnalysis\n",
    "from sklearn.tree import DecisionTreeClassifier\n",
    "from sklearn.ensemble import VotingClassifier\n",
    "from sklearn.linear_model import LogisticRegression"
   ]
  },
  {
   "cell_type": "code",
   "execution_count": 3,
   "id": "678e9129-e38d-47e1-ad32-152ecf729161",
   "metadata": {},
   "outputs": [],
   "source": [
    "df = pd.read_csv(r\"C:\\Users\\Administrator.DAI-PC2\\Downloads\\Shubham\\Practical Machine Learning\\ClassWork\\Cases\\Sonar\\Sonar.csv\")\n",
    "le = LabelEncoder()\n",
    "X = df.iloc[:,1:-1]\n",
    "y = le.fit_transform(df.iloc[:,-1])"
   ]
  },
  {
   "cell_type": "code",
   "execution_count": 4,
   "id": "e2793423-de10-4f06-af89-06cf9dcc13fa",
   "metadata": {},
   "outputs": [],
   "source": [
    "X_train, X_test, y_train, y_test = train_test_split(X, y,test_size = 0.3, random_state=24,stratify =y)"
   ]
  },
  {
   "cell_type": "code",
   "execution_count": 5,
   "id": "20f00521-51ec-458e-b407-c759255a2cfe",
   "metadata": {},
   "outputs": [],
   "source": [
    "## Model 1"
   ]
  },
  {
   "cell_type": "code",
   "execution_count": 6,
   "id": "6d4fa776-474b-4577-b535-1d1040627ef8",
   "metadata": {},
   "outputs": [],
   "source": [
    "svm_l = SVC(kernel = \"linear\",probability =True, random_state=24)\n",
    "scl_std = StandardScaler()\n",
    "pipe_l = Pipeline([(\"Scl\",scl_std),(\"SVM\",svm_l)])"
   ]
  },
  {
   "cell_type": "code",
   "execution_count": 7,
   "id": "ed16ecae-3ed5-4dc5-af23-a23b24e664a1",
   "metadata": {},
   "outputs": [],
   "source": [
    "## Model 2"
   ]
  },
  {
   "cell_type": "code",
   "execution_count": 8,
   "id": "8d370b48-2fce-4121-a47b-8f25c1343e4f",
   "metadata": {},
   "outputs": [],
   "source": [
    "svm_r = SVC(kernel = \"rbf\",probability =True, random_state=24)\n",
    "scl_std = StandardScaler()\n",
    "pipe_r = Pipeline([(\"Scl\",scl_std),(\"SVM\",svm_r)])"
   ]
  },
  {
   "cell_type": "code",
   "execution_count": 9,
   "id": "630e0aa4-0566-4310-bfd5-f782a5e1f108",
   "metadata": {},
   "outputs": [],
   "source": [
    "## Model 3"
   ]
  },
  {
   "cell_type": "code",
   "execution_count": 10,
   "id": "7762c5bf-c552-43ff-98ec-1933ce8bd8b5",
   "metadata": {},
   "outputs": [],
   "source": [
    "lr = LogisticRegression()"
   ]
  },
  {
   "cell_type": "code",
   "execution_count": 11,
   "id": "9d9c49a1-5a26-4533-8547-e975579630f2",
   "metadata": {},
   "outputs": [],
   "source": [
    "## Model 4"
   ]
  },
  {
   "cell_type": "code",
   "execution_count": 12,
   "id": "bb54e311-d9c3-432c-a0f8-e002a1fb0f2d",
   "metadata": {},
   "outputs": [],
   "source": [
    "lda = LinearDiscriminantAnalysis()"
   ]
  },
  {
   "cell_type": "code",
   "execution_count": 13,
   "id": "63e528d2-86d4-4d18-b564-01804217dcd1",
   "metadata": {},
   "outputs": [],
   "source": [
    "## Model 5"
   ]
  },
  {
   "cell_type": "code",
   "execution_count": 14,
   "id": "828d79e9-30ba-458a-a30e-0d881e0c6927",
   "metadata": {},
   "outputs": [],
   "source": [
    "dtc = DecisionTreeClassifier(random_state=24)"
   ]
  },
  {
   "cell_type": "code",
   "execution_count": 15,
   "id": "0c8dc8eb-e0a7-407a-82a0-40247d68f9b8",
   "metadata": {},
   "outputs": [],
   "source": [
    "### Hard Voting"
   ]
  },
  {
   "cell_type": "code",
   "execution_count": 16,
   "id": "df75a60f-8620-4014-b7c5-d78e394ebbb2",
   "metadata": {},
   "outputs": [],
   "source": [
    "voting_h = VotingClassifier([(\"SVML\",pipe_l),(\"SVMR\",pipe_r),(\"LR\",lr),(\"LDA\",lda),(\"TREE\",dtc)])"
   ]
  },
  {
   "cell_type": "code",
   "execution_count": 17,
   "id": "c35e6f6b-418f-4273-af86-9989250de1fd",
   "metadata": {},
   "outputs": [
    {
     "name": "stdout",
     "output_type": "stream",
     "text": [
      "accuracy =  0.7936507936507936\n"
     ]
    }
   ],
   "source": [
    "voting_h.fit(X_train,y_train)\n",
    "y_pred  = voting_h.predict(X_test)\n",
    "print(\"accuracy = \", accuracy_score(y_test,y_pred))"
   ]
  },
  {
   "cell_type": "code",
   "execution_count": 18,
   "id": "3670ee08-4759-4f44-ae7f-8f6e3eeb9f69",
   "metadata": {},
   "outputs": [],
   "source": [
    "### Soft voting"
   ]
  },
  {
   "cell_type": "code",
   "execution_count": 21,
   "id": "38053997-710d-4456-a409-71a10e749f68",
   "metadata": {},
   "outputs": [],
   "source": [
    "voting_s = VotingClassifier([(\"SVML\",pipe_l),(\"SVMR\",pipe_r),(\"LR\",lr),(\"LDA\",lda),(\"TREE\",dtc)],voting=\"soft\")"
   ]
  },
  {
   "cell_type": "code",
   "execution_count": 22,
   "id": "50271efe-8a57-4331-a78a-bc56a284b4c6",
   "metadata": {},
   "outputs": [
    {
     "name": "stdout",
     "output_type": "stream",
     "text": [
      "accuracy =  0.7619047619047619\n",
      "log_loss =  0.4600481665968838\n"
     ]
    }
   ],
   "source": [
    "voting_s.fit(X_train,y_train)\n",
    "y_pred  = voting_s.predict(X_test)\n",
    "print(\"accuracy = \", accuracy_score(y_test,y_pred))\n",
    "y_pred_prob  = voting_s.predict_proba(X_test)[:,1]\n",
    "print(\"log_loss = \", log_loss(y_test,y_pred_prob))"
   ]
  },
  {
   "cell_type": "code",
   "execution_count": 23,
   "id": "5630841f-f5d9-4ba0-9a1d-1d02aa87c5d7",
   "metadata": {},
   "outputs": [],
   "source": [
    "##### GridSearch"
   ]
  },
  {
   "cell_type": "code",
   "execution_count": 24,
   "id": "74302f63-1944-4f5f-82ed-ce43e9286367",
   "metadata": {},
   "outputs": [
    {
     "name": "stdout",
     "output_type": "stream",
     "text": [
      "{'estimators': [('SVML', Pipeline(steps=[('Scl', StandardScaler()),\n",
      "                ('SVM',\n",
      "                 SVC(kernel='linear', probability=True, random_state=24))])), ('SVMR', Pipeline(steps=[('Scl', StandardScaler()),\n",
      "                ('SVM', SVC(probability=True, random_state=24))])), ('LR', LogisticRegression()), ('LDA', LinearDiscriminantAnalysis()), ('TREE', DecisionTreeClassifier(random_state=24))], 'flatten_transform': True, 'n_jobs': None, 'verbose': False, 'voting': 'soft', 'weights': None, 'SVML': Pipeline(steps=[('Scl', StandardScaler()),\n",
      "                ('SVM',\n",
      "                 SVC(kernel='linear', probability=True, random_state=24))]), 'SVMR': Pipeline(steps=[('Scl', StandardScaler()),\n",
      "                ('SVM', SVC(probability=True, random_state=24))]), 'LR': LogisticRegression(), 'LDA': LinearDiscriminantAnalysis(), 'TREE': DecisionTreeClassifier(random_state=24), 'SVML__memory': None, 'SVML__steps': [('Scl', StandardScaler()), ('SVM', SVC(kernel='linear', probability=True, random_state=24))], 'SVML__verbose': False, 'SVML__Scl': StandardScaler(), 'SVML__SVM': SVC(kernel='linear', probability=True, random_state=24), 'SVML__Scl__copy': True, 'SVML__Scl__with_mean': True, 'SVML__Scl__with_std': True, 'SVML__SVM__C': 1.0, 'SVML__SVM__break_ties': False, 'SVML__SVM__cache_size': 200, 'SVML__SVM__class_weight': None, 'SVML__SVM__coef0': 0.0, 'SVML__SVM__decision_function_shape': 'ovr', 'SVML__SVM__degree': 3, 'SVML__SVM__gamma': 'scale', 'SVML__SVM__kernel': 'linear', 'SVML__SVM__max_iter': -1, 'SVML__SVM__probability': True, 'SVML__SVM__random_state': 24, 'SVML__SVM__shrinking': True, 'SVML__SVM__tol': 0.001, 'SVML__SVM__verbose': False, 'SVMR__memory': None, 'SVMR__steps': [('Scl', StandardScaler()), ('SVM', SVC(probability=True, random_state=24))], 'SVMR__verbose': False, 'SVMR__Scl': StandardScaler(), 'SVMR__SVM': SVC(probability=True, random_state=24), 'SVMR__Scl__copy': True, 'SVMR__Scl__with_mean': True, 'SVMR__Scl__with_std': True, 'SVMR__SVM__C': 1.0, 'SVMR__SVM__break_ties': False, 'SVMR__SVM__cache_size': 200, 'SVMR__SVM__class_weight': None, 'SVMR__SVM__coef0': 0.0, 'SVMR__SVM__decision_function_shape': 'ovr', 'SVMR__SVM__degree': 3, 'SVMR__SVM__gamma': 'scale', 'SVMR__SVM__kernel': 'rbf', 'SVMR__SVM__max_iter': -1, 'SVMR__SVM__probability': True, 'SVMR__SVM__random_state': 24, 'SVMR__SVM__shrinking': True, 'SVMR__SVM__tol': 0.001, 'SVMR__SVM__verbose': False, 'LR__C': 1.0, 'LR__class_weight': None, 'LR__dual': False, 'LR__fit_intercept': True, 'LR__intercept_scaling': 1, 'LR__l1_ratio': None, 'LR__max_iter': 100, 'LR__multi_class': 'auto', 'LR__n_jobs': None, 'LR__penalty': 'l2', 'LR__random_state': None, 'LR__solver': 'lbfgs', 'LR__tol': 0.0001, 'LR__verbose': 0, 'LR__warm_start': False, 'LDA__covariance_estimator': None, 'LDA__n_components': None, 'LDA__priors': None, 'LDA__shrinkage': None, 'LDA__solver': 'svd', 'LDA__store_covariance': False, 'LDA__tol': 0.0001, 'TREE__ccp_alpha': 0.0, 'TREE__class_weight': None, 'TREE__criterion': 'gini', 'TREE__max_depth': None, 'TREE__max_features': None, 'TREE__max_leaf_nodes': None, 'TREE__min_impurity_decrease': 0.0, 'TREE__min_samples_leaf': 1, 'TREE__min_samples_split': 2, 'TREE__min_weight_fraction_leaf': 0.0, 'TREE__monotonic_cst': None, 'TREE__random_state': 24, 'TREE__splitter': 'best'}\n"
     ]
    }
   ],
   "source": [
    "print(voting_s.get_params())"
   ]
  },
  {
   "cell_type": "code",
   "execution_count": 25,
   "id": "bfce2047-9718-4cc7-9661-bbc64162762f",
   "metadata": {},
   "outputs": [],
   "source": [
    "kfold = StratifiedKFold(n_splits=5,shuffle=True,random_state=24)"
   ]
  },
  {
   "cell_type": "code",
   "execution_count": 26,
   "id": "44dc1556-af77-4656-b05f-b77bcb7334a5",
   "metadata": {},
   "outputs": [
    {
     "name": "stdout",
     "output_type": "stream",
     "text": [
      "{'LR__C': 3.0, 'SVML__SVM__C': 0.75075, 'SVMR__SVM__C': 3.0, 'SVMR__SVM__gamma': 0.001, 'TREE__max_depth': None}\n",
      "-0.46040789391720705\n"
     ]
    }
   ],
   "source": [
    "params = {\"SVML__SVM__C\":np.linspace(0.001,3,5),\"SVMR__SVM__C\":np.linspace(0.001,3,5),\"LR__C\":np.linspace(0.001,3,5),\n",
    "          \"SVMR__SVM__gamma\":np.linspace(0.001,3,5),\"TREE__max_depth\":[None,2,3]}\n",
    "gcv = GridSearchCV(voting_s,param_grid=params,cv=kfold,scoring='neg_log_loss',n_jobs=-1)\n",
    "gcv.fit(X,y)\n",
    "print(gcv.best_params_)\n",
    "print(gcv.best_score_)"
   ]
  },
  {
   "cell_type": "code",
   "execution_count": null,
   "id": "b540aa3a-e6c8-4601-a38d-bf970ff86569",
   "metadata": {},
   "outputs": [],
   "source": []
  }
 ],
 "metadata": {
  "kernelspec": {
   "display_name": "Python 3 (ipykernel)",
   "language": "python",
   "name": "python3"
  },
  "language_info": {
   "codemirror_mode": {
    "name": "ipython",
    "version": 3
   },
   "file_extension": ".py",
   "mimetype": "text/x-python",
   "name": "python",
   "nbconvert_exporter": "python",
   "pygments_lexer": "ipython3",
   "version": "3.11.8"
  }
 },
 "nbformat": 4,
 "nbformat_minor": 5
}
