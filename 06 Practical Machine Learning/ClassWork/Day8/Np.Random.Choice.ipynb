{
 "cells": [
  {
   "cell_type": "code",
   "execution_count": 7,
   "id": "16a4e88e-7e50-4653-bc67-ae81961a7ca9",
   "metadata": {},
   "outputs": [],
   "source": [
    "import pandas as pd\n",
    "import numpy as np"
   ]
  },
  {
   "cell_type": "code",
   "execution_count": 8,
   "id": "669ded8b-f931-42bc-a8f6-5166b7a85a83",
   "metadata": {},
   "outputs": [],
   "source": [
    "kyp = pd.read_csv(r\"C:\\Users\\Administrator.DAI-PC2\\Downloads\\Shubham\\Practical Machine Learning\\ClassWork\\Cases\\Kyphosis\\Kyphosis.csv\")"
   ]
  },
  {
   "cell_type": "code",
   "execution_count": 9,
   "id": "50f25000-39c0-440e-b520-a5a5fae5d05e",
   "metadata": {},
   "outputs": [],
   "source": [
    "### Simple Random Sampling without replacement :SRSWOR"
   ]
  },
  {
   "cell_type": "code",
   "execution_count": 10,
   "id": "d5b5e6a8-2372-475e-be20-a0f474ccf0fd",
   "metadata": {},
   "outputs": [
    {
     "name": "stdout",
     "output_type": "stream",
     "text": [
      "(60, 4)\n"
     ]
    },
    {
     "data": {
      "text/plain": [
       "array([80,  8, 67, 46, 25, 77, 49, 34, 68,  0, 52,  6, 59, 65,  7, 64, 53,\n",
       "        5, 30, 24, 40, 57,  3, 22, 17, 69, 74, 75, 13, 15, 42, 35, 70, 12,\n",
       "       72, 39, 11,  4, 63, 31, 26, 60, 58, 18, 48, 38, 76, 62, 66, 47, 44,\n",
       "       10, 23, 33, 61,  1, 51, 73, 27, 29])"
      ]
     },
     "execution_count": 10,
     "metadata": {},
     "output_type": "execute_result"
    }
   ],
   "source": [
    "kyp_ind = list(kyp.index)\n",
    "\n",
    "samp_ind = np.random.choice(kyp_ind, size=60,replace=False)\n",
    "\n",
    "samp_kyp = kyp.iloc[samp_ind,:]\n",
    "\n",
    "print(samp_kyp.shape)\n",
    "samp_ind"
   ]
  },
  {
   "cell_type": "markdown",
   "id": "7c94e2c1-d1fd-4f44-826e-5ec6675d8964",
   "metadata": {},
   "source": [
    "Sample indexes is not repeated as it is without replacement (chosen sample ind is taken out of kyp ind) "
   ]
  },
  {
   "cell_type": "code",
   "execution_count": 11,
   "id": "9edb5371-910d-4c77-b683-3b5424bbe9fd",
   "metadata": {},
   "outputs": [],
   "source": [
    "### Simple Random Sampling with replacement :SRSWR  / Bootstrap sample"
   ]
  },
  {
   "cell_type": "code",
   "execution_count": 12,
   "id": "43c471ab-bbb7-4f1f-a744-512aa9e551ad",
   "metadata": {},
   "outputs": [
    {
     "name": "stdout",
     "output_type": "stream",
     "text": [
      "(60, 4)\n"
     ]
    },
    {
     "data": {
      "text/plain": [
       "array([47, 25, 75, 16,  9, 51, 10, 62, 62, 80, 30, 28, 16, 26, 50, 28, 55,\n",
       "       24, 18, 62, 79, 70,  0, 25, 80, 70, 24, 31, 79, 64, 24, 72, 47, 12,\n",
       "        0, 11, 22, 73,  3,  2, 57, 45, 26, 71, 63, 47, 78, 70, 44, 69,  2,\n",
       "       20, 35, 51, 27,  8, 77, 38,  1, 32])"
      ]
     },
     "execution_count": 12,
     "metadata": {},
     "output_type": "execute_result"
    }
   ],
   "source": [
    "kyp_ind = list(kyp.index)\n",
    "\n",
    "samp_ind = np.random.choice(kyp_ind, size=60,replace=True)\n",
    "\n",
    "samp_kyp = kyp.iloc[samp_ind,:]\n",
    "\n",
    "print(samp_kyp.shape)\n",
    "samp_ind"
   ]
  },
  {
   "cell_type": "markdown",
   "id": "be66a551-f9ed-4388-bc9e-06f338908fd0",
   "metadata": {},
   "source": [
    "Sample indexes may or may not be repeated as it is with replacement (chosen sample ind is not taken out of kyp ind)\n",
    "if size is small, repeatition will be not present."
   ]
  },
  {
   "cell_type": "code",
   "execution_count": null,
   "id": "2e959cbf-8d4c-4c7b-8401-6d381f39a3c4",
   "metadata": {},
   "outputs": [],
   "source": []
  }
 ],
 "metadata": {
  "kernelspec": {
   "display_name": "Python 3 (ipykernel)",
   "language": "python",
   "name": "python3"
  },
  "language_info": {
   "codemirror_mode": {
    "name": "ipython",
    "version": 3
   },
   "file_extension": ".py",
   "mimetype": "text/x-python",
   "name": "python",
   "nbconvert_exporter": "python",
   "pygments_lexer": "ipython3",
   "version": "3.11.8"
  }
 },
 "nbformat": 4,
 "nbformat_minor": 5
}
