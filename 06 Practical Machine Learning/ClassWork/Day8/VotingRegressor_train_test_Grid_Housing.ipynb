{
 "cells": [
  {
   "cell_type": "code",
   "execution_count": 3,
   "id": "5cc3de24-2c2b-44dc-9d9f-1bc1508820cd",
   "metadata": {},
   "outputs": [],
   "source": [
    "import pandas as pd\n",
    "import numpy as np\n",
    "from sklearn.svm import SVC\n",
    "from sklearn.model_selection import GridSearchCV, train_test_split\n",
    "from sklearn.metrics import accuracy_score, r2_score\n",
    "from sklearn.tree import DecisionTreeRegressor\n",
    "from sklearn.ensemble import VotingRegressor\n",
    "from sklearn.linear_model import Ridge, Lasso, LinearRegression\n",
    "from sklearn.preprocessing import OneHotEncoder\n",
    "from sklearn.compose import make_column_transformer, make_column_selector"
   ]
  },
  {
   "cell_type": "code",
   "execution_count": 4,
   "id": "678e9129-e38d-47e1-ad32-152ecf729161",
   "metadata": {},
   "outputs": [],
   "source": [
    "df = pd.read_csv(r\"C:\\Users\\Administrator.DAI-PC2\\Downloads\\Shubham\\Practical Machine Learning\\ClassWork\\Datasets\\Housing.csv\")\n",
    "ohc = OneHotEncoder(sparse_output=False,drop=\"first\")\n",
    "ct = make_column_transformer((ohc,make_column_selector(dtype_include = object)),\n",
    "                             (\"passthrough\",make_column_selector(dtype_include = [\"int64\",\"float64\"])),\n",
    "                             verbose_feature_names_out=False).set_output(transform='pandas')\n",
    "dum_np = ct.fit_transform(df)\n",
    "X = dum_np.drop(\"price\",axis=1)\n",
    "y = dum_np[\"price\"]"
   ]
  },
  {
   "cell_type": "code",
   "execution_count": 5,
   "id": "e2793423-de10-4f06-af89-06cf9dcc13fa",
   "metadata": {},
   "outputs": [],
   "source": [
    "X_train, X_test, y_train, y_test = train_test_split(X, y,test_size = 0.3, random_state=24)"
   ]
  },
  {
   "cell_type": "code",
   "execution_count": 6,
   "id": "20f00521-51ec-458e-b407-c759255a2cfe",
   "metadata": {},
   "outputs": [],
   "source": [
    "## Model 1"
   ]
  },
  {
   "cell_type": "code",
   "execution_count": 7,
   "id": "6d4fa776-474b-4577-b535-1d1040627ef8",
   "metadata": {},
   "outputs": [
    {
     "data": {
      "text/plain": [
       "0.6242338599592154"
      ]
     },
     "execution_count": 7,
     "metadata": {},
     "output_type": "execute_result"
    }
   ],
   "source": [
    "ridge = Ridge()\n",
    "ridge.fit(X_train,y_train)\n",
    "y_pred = ridge.predict(X_test)\n",
    "r2_ridge = r2_score(y_test,y_pred)\n",
    "r2_ridge"
   ]
  },
  {
   "cell_type": "code",
   "execution_count": 8,
   "id": "ed16ecae-3ed5-4dc5-af23-a23b24e664a1",
   "metadata": {},
   "outputs": [],
   "source": [
    "## Model 2"
   ]
  },
  {
   "cell_type": "code",
   "execution_count": 9,
   "id": "8d370b48-2fce-4121-a47b-8f25c1343e4f",
   "metadata": {},
   "outputs": [
    {
     "data": {
      "text/plain": [
       "0.6246758375595143"
      ]
     },
     "execution_count": 9,
     "metadata": {},
     "output_type": "execute_result"
    }
   ],
   "source": [
    "lasso = Lasso()\n",
    "lasso.fit(X_train,y_train)\n",
    "y_pred = lasso.predict(X_test)\n",
    "r2_lasso = r2_score(y_test,y_pred)\n",
    "r2_lasso"
   ]
  },
  {
   "cell_type": "code",
   "execution_count": 10,
   "id": "630e0aa4-0566-4310-bfd5-f782a5e1f108",
   "metadata": {},
   "outputs": [],
   "source": [
    "## Model 3"
   ]
  },
  {
   "cell_type": "code",
   "execution_count": 11,
   "id": "7762c5bf-c552-43ff-98ec-1933ce8bd8b5",
   "metadata": {},
   "outputs": [
    {
     "data": {
      "text/plain": [
       "0.6246856191453769"
      ]
     },
     "execution_count": 11,
     "metadata": {},
     "output_type": "execute_result"
    }
   ],
   "source": [
    "lr = LinearRegression()\n",
    "lr.fit(X_train,y_train)\n",
    "y_pred = lr.predict(X_test)\n",
    "r2_lr = r2_score(y_test,y_pred)\n",
    "r2_lr"
   ]
  },
  {
   "cell_type": "code",
   "execution_count": 12,
   "id": "9d9c49a1-5a26-4533-8547-e975579630f2",
   "metadata": {},
   "outputs": [],
   "source": [
    "## Model 4"
   ]
  },
  {
   "cell_type": "code",
   "execution_count": 13,
   "id": "bb54e311-d9c3-432c-a0f8-e002a1fb0f2d",
   "metadata": {},
   "outputs": [
    {
     "data": {
      "text/plain": [
       "0.3140487280195706"
      ]
     },
     "execution_count": 13,
     "metadata": {},
     "output_type": "execute_result"
    }
   ],
   "source": [
    "dtc = DecisionTreeRegressor(random_state=24)\n",
    "dtc.fit(X_train,y_train)\n",
    "y_pred = dtc.predict(X_test)\n",
    "r2_dtc = r2_score(y_test,y_pred)\n",
    "r2_dtc"
   ]
  },
  {
   "cell_type": "code",
   "execution_count": 14,
   "id": "0c8dc8eb-e0a7-407a-82a0-40247d68f9b8",
   "metadata": {},
   "outputs": [],
   "source": [
    "### Average voting"
   ]
  },
  {
   "cell_type": "code",
   "execution_count": 15,
   "id": "c35e6f6b-418f-4273-af86-9989250de1fd",
   "metadata": {},
   "outputs": [
    {
     "name": "stdout",
     "output_type": "stream",
     "text": [
      "R2 Score =  0.6308015787464698\n"
     ]
    }
   ],
   "source": [
    "voting = VotingRegressor([(\"RIDGE\",ridge),(\"LASSO\",lasso),(\"LR\",lr),(\"TREE\",dtc)])\n",
    "voting.fit(X_train,y_train)\n",
    "y_pred  = voting.predict(X_test)\n",
    "print(\"R2 Score = \", r2_score(y_test,y_pred))"
   ]
  },
  {
   "cell_type": "code",
   "execution_count": 16,
   "id": "a0d0fef6-0dca-45ac-ad3f-c4938ace6a87",
   "metadata": {},
   "outputs": [],
   "source": [
    "###### weighted voting averaging"
   ]
  },
  {
   "cell_type": "code",
   "execution_count": 17,
   "id": "166ee2a7-6756-4051-b16c-1673db847410",
   "metadata": {},
   "outputs": [
    {
     "name": "stdout",
     "output_type": "stream",
     "text": [
      "R2 Score =  0.6349733642298964\n"
     ]
    }
   ],
   "source": [
    "voting = VotingRegressor([(\"RIDGE\",ridge),(\"LASSO\",lasso),(\"LR\",lr),(\"TREE\",dtc)],weights = [r2_ridge,r2_lasso,r2_lr,r2_dtc])\n",
    "voting.fit(X_train,y_train)\n",
    "y_pred  = voting.predict(X_test)\n",
    "print(\"R2 Score = \", r2_score(y_test,y_pred))"
   ]
  },
  {
   "cell_type": "code",
   "execution_count": null,
   "id": "9318e881-a451-42c7-bd94-556469ca61b3",
   "metadata": {},
   "outputs": [],
   "source": []
  }
 ],
 "metadata": {
  "kernelspec": {
   "display_name": "Python 3 (ipykernel)",
   "language": "python",
   "name": "python3"
  },
  "language_info": {
   "codemirror_mode": {
    "name": "ipython",
    "version": 3
   },
   "file_extension": ".py",
   "mimetype": "text/x-python",
   "name": "python",
   "nbconvert_exporter": "python",
   "pygments_lexer": "ipython3",
   "version": "3.11.8"
  }
 },
 "nbformat": 4,
 "nbformat_minor": 5
}
