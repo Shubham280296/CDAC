{
 "cells": [
  {
   "cell_type": "code",
   "execution_count": 1,
   "id": "5b8b6bb3-5e22-46a0-a78d-f35a23550c03",
   "metadata": {},
   "outputs": [],
   "source": [
    "import pandas as pd\n",
    "from sklearn.model_selection import train_test_split \n",
    "from sklearn.metrics import confusion_matrix, classification_report, log_loss\n",
    "from sklearn.metrics import accuracy_score\n",
    "from sklearn.naive_bayes import GaussianNB\n",
    "from sklearn.preprocessing import LabelEncoder\n",
    "from sklearn.linear_model import LogisticRegression"
   ]
  },
  {
   "cell_type": "code",
   "execution_count": 6,
   "id": "832faed1-e095-4612-ba54-40d0090f0a37",
   "metadata": {},
   "outputs": [],
   "source": [
    "df = pd.read_csv(r\"C:\\Users\\Administrator.DAI-PC2\\Downloads\\Shubham\\Practical Machine Learning\\ClassWork\\Cases\\Glass Identification\\Glass.csv\")\n",
    "le = LabelEncoder()\n",
    "X = df.iloc[:,:-1]\n",
    "y = le.fit_transform(df.iloc[:,-1])"
   ]
  },
  {
   "cell_type": "code",
   "execution_count": 19,
   "id": "023acb37-998d-461f-a9ba-5b4b4ba80835",
   "metadata": {},
   "outputs": [
    {
     "name": "stdout",
     "output_type": "stream",
     "text": [
      "[[ 9  3  0  0  0  9]\n",
      " [10  6  1  0  0  6]\n",
      " [ 0  4  0  0  0  0]\n",
      " [ 1  0  0  8  0  0]\n",
      " [ 0  0  0  2  1  0]\n",
      " [ 2  0  0  0  1  2]]\n",
      "              precision    recall  f1-score   support\n",
      "\n",
      "           0       0.41      0.43      0.42        21\n",
      "           1       0.46      0.26      0.33        23\n",
      "           2       0.00      0.00      0.00         4\n",
      "           3       0.80      0.89      0.84         9\n",
      "           4       0.50      0.33      0.40         3\n",
      "           5       0.12      0.40      0.18         5\n",
      "\n",
      "    accuracy                           0.40        65\n",
      "   macro avg       0.38      0.39      0.36        65\n",
      "weighted avg       0.44      0.40      0.40        65\n",
      "\n",
      "0.4\n",
      "3.672173852824592\n"
     ]
    }
   ],
   "source": [
    "# Create training and test sets\n",
    "X_train, X_test, y_train, y_test = train_test_split(X, y,test_size = 0.3, random_state=2021, stratify=y)\n",
    "\n",
    "gaussian = GaussianNB()\n",
    "gaussian.fit(X_train, y_train)\n",
    "\n",
    "y_pred = gaussian.predict(X_test)\n",
    "y_pred_prob = gaussian.predict_proba(X_test)\n",
    "\n",
    "############## Model Evaluation ##############\n",
    "print(confusion_matrix(y_test, y_pred))\n",
    "print(classification_report(y_test, y_pred))\n",
    "print(accuracy_score(y_test, y_pred))\n",
    "\n",
    "# Roc is only possible for dataset with only 2 classes\n",
    "print(log_loss(y_test, y_pred_prob))"
   ]
  },
  {
   "cell_type": "code",
   "execution_count": 21,
   "id": "716584cc-3a11-400d-a62d-2a385cd5fd64",
   "metadata": {},
   "outputs": [
    {
     "name": "stdout",
     "output_type": "stream",
     "text": [
      "[[15  6  0  0  0  0]\n",
      " [ 8 14  0  0  1  0]\n",
      " [ 0  4  0  0  0  0]\n",
      " [ 1  0  0  8  0  0]\n",
      " [ 0  1  0  2  0  0]\n",
      " [ 2  3  0  0  0  0]]\n",
      "              precision    recall  f1-score   support\n",
      "\n",
      "           0       0.58      0.71      0.64        21\n",
      "           1       0.50      0.61      0.55        23\n",
      "           2       0.00      0.00      0.00         4\n",
      "           3       0.80      0.89      0.84         9\n",
      "           4       0.00      0.00      0.00         3\n",
      "           5       0.00      0.00      0.00         5\n",
      "\n",
      "    accuracy                           0.57        65\n",
      "   macro avg       0.31      0.37      0.34        65\n",
      "weighted avg       0.47      0.57      0.52        65\n",
      "\n",
      "0.5692307692307692\n",
      "1.0574757400041306\n"
     ]
    },
    {
     "name": "stderr",
     "output_type": "stream",
     "text": [
      "C:\\Users\\Administrator.DAI-PC2\\anaconda3\\Lib\\site-packages\\sklearn\\linear_model\\_logistic.py:458: ConvergenceWarning: lbfgs failed to converge (status=1):\n",
      "STOP: TOTAL NO. of ITERATIONS REACHED LIMIT.\n",
      "\n",
      "Increase the number of iterations (max_iter) or scale the data as shown in:\n",
      "    https://scikit-learn.org/stable/modules/preprocessing.html\n",
      "Please also refer to the documentation for alternative solver options:\n",
      "    https://scikit-learn.org/stable/modules/linear_model.html#logistic-regression\n",
      "  n_iter_i = _check_optimize_result(\n",
      "C:\\Users\\Administrator.DAI-PC2\\anaconda3\\Lib\\site-packages\\sklearn\\metrics\\_classification.py:1344: UndefinedMetricWarning: Precision and F-score are ill-defined and being set to 0.0 in labels with no predicted samples. Use `zero_division` parameter to control this behavior.\n",
      "  _warn_prf(average, modifier, msg_start, len(result))\n",
      "C:\\Users\\Administrator.DAI-PC2\\anaconda3\\Lib\\site-packages\\sklearn\\metrics\\_classification.py:1344: UndefinedMetricWarning: Precision and F-score are ill-defined and being set to 0.0 in labels with no predicted samples. Use `zero_division` parameter to control this behavior.\n",
      "  _warn_prf(average, modifier, msg_start, len(result))\n",
      "C:\\Users\\Administrator.DAI-PC2\\anaconda3\\Lib\\site-packages\\sklearn\\metrics\\_classification.py:1344: UndefinedMetricWarning: Precision and F-score are ill-defined and being set to 0.0 in labels with no predicted samples. Use `zero_division` parameter to control this behavior.\n",
      "  _warn_prf(average, modifier, msg_start, len(result))\n"
     ]
    }
   ],
   "source": [
    "# Logistic Regression\n",
    "\n",
    "logistic = LogisticRegression()\n",
    "logistic.fit(X_train, y_train)\n",
    "\n",
    "y_pred = logistic.predict(X_test)\n",
    "y_pred_prob = logistic.predict_proba(X_test)\n",
    "\n",
    "############## Model Evaluation ##############\n",
    "print(confusion_matrix(y_test, y_pred))\n",
    "print(classification_report(y_test, y_pred))\n",
    "print(accuracy_score(y_test, y_pred))\n",
    "\n",
    "# Roc is only possible for dataset with only 2 classes\n",
    "print(log_loss(y_test, y_pred_prob))"
   ]
  },
  {
   "cell_type": "code",
   "execution_count": null,
   "id": "6d09995e-a397-4b7d-b24a-2a67a4842cd7",
   "metadata": {},
   "outputs": [],
   "source": []
  }
 ],
 "metadata": {
  "kernelspec": {
   "display_name": "Python 3 (ipykernel)",
   "language": "python",
   "name": "python3"
  },
  "language_info": {
   "codemirror_mode": {
    "name": "ipython",
    "version": 3
   },
   "file_extension": ".py",
   "mimetype": "text/x-python",
   "name": "python",
   "nbconvert_exporter": "python",
   "pygments_lexer": "ipython3",
   "version": "3.11.8"
  }
 },
 "nbformat": 4,
 "nbformat_minor": 5
}
