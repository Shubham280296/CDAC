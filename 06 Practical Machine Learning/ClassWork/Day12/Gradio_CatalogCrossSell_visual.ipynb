{
 "cells": [
  {
   "cell_type": "code",
   "execution_count": 1,
   "id": "7e42ad31-6e9e-4e28-93af-6686ee487dc5",
   "metadata": {},
   "outputs": [],
   "source": [
    "import gradio as gr \n",
    "import pandas as pd\n",
    "import matplotlib.pylab as plt\n",
    "from mlxtend.frequent_patterns import apriori\n",
    "from mlxtend.frequent_patterns import association_rules"
   ]
  },
  {
   "cell_type": "code",
   "execution_count": 2,
   "id": "f96ccf68-8716-4274-a594-64fac90a8520",
   "metadata": {},
   "outputs": [],
   "source": [
    "fp_df = pd.read_csv(r\"C:\\Users\\Administrator.DAI-PC2\\Downloads\\Shubham\\Practical Machine Learning\\ClassWork\\Datasets\\CatalogCrossSell.csv\",\n",
    "                    index_col=0)\n",
    "fp_df = fp_df.astype(bool)"
   ]
  },
  {
   "cell_type": "code",
   "execution_count": 3,
   "id": "db953a3c-29a3-46ff-b6bf-608d038de244",
   "metadata": {},
   "outputs": [],
   "source": [
    "def gen_rules(min_sup, min_conf):\n",
    "    itemsets = apriori(fp_df, min_support=min_sup, use_colnames=True)\n",
    "    rules = association_rules(itemsets, metric='confidence', min_threshold=min_conf)\n",
    "    rules = rules[['antecedents', 'consequents', 'support', 'confidence', 'lift']]\n",
    "    rules = rules[rules['lift']>1]\n",
    "    rules['antecedents'] = [list(x) for x in rules['antecedents'].values]\n",
    "    rules['consequents'] = [list(x) for x in rules['consequents'].values]\n",
    "    return rules.sort_values(by='lift', ascending=False)"
   ]
  },
  {
   "cell_type": "code",
   "execution_count": 4,
   "id": "b4dfe31b-1090-416d-ae75-049089fe8529",
   "metadata": {},
   "outputs": [
    {
     "name": "stderr",
     "output_type": "stream",
     "text": [
      "C:\\Users\\Administrator.DAI-PC2\\anaconda3\\Lib\\site-packages\\gradio\\routes.py:1124: DeprecationWarning: \n",
      "        on_event is deprecated, use lifespan event handlers instead.\n",
      "\n",
      "        Read more about it in the\n",
      "        [FastAPI docs for Lifespan Events](https://fastapi.tiangolo.com/advanced/events/).\n",
      "        \n",
      "  @app.on_event(\"startup\")\n",
      "C:\\Users\\Administrator.DAI-PC2\\anaconda3\\Lib\\site-packages\\fastapi\\applications.py:4495: DeprecationWarning: \n",
      "        on_event is deprecated, use lifespan event handlers instead.\n",
      "\n",
      "        Read more about it in the\n",
      "        [FastAPI docs for Lifespan Events](https://fastapi.tiangolo.com/advanced/events/).\n",
      "        \n",
      "  return self.router.on_event(event_type)\n",
      "C:\\Users\\Administrator.DAI-PC2\\anaconda3\\Lib\\site-packages\\gradio\\routes.py:1124: DeprecationWarning: \n",
      "        on_event is deprecated, use lifespan event handlers instead.\n",
      "\n",
      "        Read more about it in the\n",
      "        [FastAPI docs for Lifespan Events](https://fastapi.tiangolo.com/advanced/events/).\n",
      "        \n",
      "  @app.on_event(\"startup\")\n",
      "C:\\Users\\Administrator.DAI-PC2\\anaconda3\\Lib\\site-packages\\fastapi\\applications.py:4495: DeprecationWarning: \n",
      "        on_event is deprecated, use lifespan event handlers instead.\n",
      "\n",
      "        Read more about it in the\n",
      "        [FastAPI docs for Lifespan Events](https://fastapi.tiangolo.com/advanced/events/).\n",
      "        \n",
      "  return self.router.on_event(event_type)\n",
      "C:\\Users\\Administrator.DAI-PC2\\anaconda3\\Lib\\site-packages\\gradio\\routes.py:1124: DeprecationWarning: \n",
      "        on_event is deprecated, use lifespan event handlers instead.\n",
      "\n",
      "        Read more about it in the\n",
      "        [FastAPI docs for Lifespan Events](https://fastapi.tiangolo.com/advanced/events/).\n",
      "        \n",
      "  @app.on_event(\"startup\")\n",
      "C:\\Users\\Administrator.DAI-PC2\\anaconda3\\Lib\\site-packages\\fastapi\\applications.py:4495: DeprecationWarning: \n",
      "        on_event is deprecated, use lifespan event handlers instead.\n",
      "\n",
      "        Read more about it in the\n",
      "        [FastAPI docs for Lifespan Events](https://fastapi.tiangolo.com/advanced/events/).\n",
      "        \n",
      "  return self.router.on_event(event_type)\n"
     ]
    },
    {
     "name": "stdout",
     "output_type": "stream",
     "text": [
      "Running on local URL:  http://127.0.0.1:7860\n"
     ]
    },
    {
     "name": "stderr",
     "output_type": "stream",
     "text": [
      "Exception in thread Thread-7 (_do_normal_analytics_request):\n",
      "Traceback (most recent call last):\n",
      "  File \"C:\\Users\\Administrator.DAI-PC2\\anaconda3\\Lib\\site-packages\\httpx\\_transports\\default.py\", line 69, in map_httpcore_exceptions\n",
      "    yield\n",
      "  File \"C:\\Users\\Administrator.DAI-PC2\\anaconda3\\Lib\\site-packages\\httpx\\_transports\\default.py\", line 233, in handle_request\n",
      "    resp = self._pool.handle_request(req)\n",
      "           ^^^^^^^^^^^^^^^^^^^^^^^^^^^^^^\n",
      "  File \"C:\\Users\\Administrator.DAI-PC2\\anaconda3\\Lib\\site-packages\\httpcore\\_sync\\connection_pool.py\", line 216, in handle_request\n",
      "    raise exc from None\n",
      "  File \"C:\\Users\\Administrator.DAI-PC2\\anaconda3\\Lib\\site-packages\\httpcore\\_sync\\connection_pool.py\", line 196, in handle_request\n",
      "    response = connection.handle_request(\n",
      "               ^^^^^^^^^^^^^^^^^^^^^^^^^^\n",
      "  File \"C:\\Users\\Administrator.DAI-PC2\\anaconda3\\Lib\\site-packages\\httpcore\\_sync\\connection.py\", line 99, in handle_request\n",
      "    raise exc\n",
      "  File \"C:\\Users\\Administrator.DAI-PC2\\anaconda3\\Lib\\site-packages\\httpcore\\_sync\\connection.py\", line 76, in handle_request\n",
      "    stream = self._connect(request)\n",
      "             ^^^^^^^^^^^^^^^^^^^^^^\n",
      "  File \"C:\\Users\\Administrator.DAI-PC2\\anaconda3\\Lib\\site-packages\\httpcore\\_sync\\connection.py\", line 154, in _connect\n",
      "    stream = stream.start_tls(**kwargs)\n",
      "             ^^^^^^^^^^^^^^^^^^^^^^^^^^\n",
      "  File \"C:\\Users\\Administrator.DAI-PC2\\anaconda3\\Lib\\site-packages\\httpcore\\_backends\\sync.py\", line 152, in start_tls\n",
      "    with map_exceptions(exc_map):\n",
      "  File \"C:\\Users\\Administrator.DAI-PC2\\anaconda3\\Lib\\contextlib.py\", line 158, in __exit__\n",
      "    self.gen.throw(typ, value, traceback)\n",
      "  File \"C:\\Users\\Administrator.DAI-PC2\\anaconda3\\Lib\\site-packages\\httpcore\\_exceptions.py\", line 14, in map_exceptions\n",
      "    raise to_exc(exc) from exc\n",
      "httpcore.ConnectTimeout: _ssl.c:989: The handshake operation timed out\n",
      "\n",
      "The above exception was the direct cause of the following exception:\n",
      "\n",
      "Traceback (most recent call last):\n",
      "  File \"C:\\Users\\Administrator.DAI-PC2\\anaconda3\\Lib\\threading.py\", line 1045, in _bootstrap_inner\n",
      "    self.run()\n",
      "  File \"C:\\Users\\Administrator.DAI-PC2\\anaconda3\\Lib\\threading.py\", line 982, in run\n",
      "    self._target(*self._args, **self._kwargs)\n",
      "  File \"C:\\Users\\Administrator.DAI-PC2\\anaconda3\\Lib\\site-packages\\gradio\\analytics.py\", line 70, in _do_normal_analytics_request\n",
      "    data[\"ip_address\"] = get_local_ip_address()\n",
      "                         ^^^^^^^^^^^^^^^^^^^^^^\n",
      "  File \"C:\\Users\\Administrator.DAI-PC2\\anaconda3\\Lib\\site-packages\\gradio\\analytics.py\", line 131, in get_local_ip_address\n",
      "    ip_address = httpx.get(\n",
      "                 ^^^^^^^^^^\n",
      "  File \"C:\\Users\\Administrator.DAI-PC2\\anaconda3\\Lib\\site-packages\\httpx\\_api.py\", line 198, in get\n",
      "    return request(\n",
      "           ^^^^^^^^\n",
      "  File \"C:\\Users\\Administrator.DAI-PC2\\anaconda3\\Lib\\site-packages\\httpx\\_api.py\", line 106, in request\n",
      "    return client.request(\n",
      "           ^^^^^^^^^^^^^^^\n",
      "  File \"C:\\Users\\Administrator.DAI-PC2\\anaconda3\\Lib\\site-packages\\httpx\\_client.py\", line 827, in request\n",
      "    return self.send(request, auth=auth, follow_redirects=follow_redirects)\n",
      "           ^^^^^^^^^^^^^^^^^^^^^^^^^^^^^^^^^^^^^^^^^^^^^^^^^^^^^^^^^^^^^^^^\n",
      "  File \"C:\\Users\\Administrator.DAI-PC2\\anaconda3\\Lib\\site-packages\\httpx\\_client.py\", line 914, in send\n",
      "    response = self._send_handling_auth(\n",
      "               ^^^^^^^^^^^^^^^^^^^^^^^^^\n",
      "  File \"C:\\Users\\Administrator.DAI-PC2\\anaconda3\\Lib\\site-packages\\httpx\\_client.py\", line 942, in _send_handling_auth\n",
      "    response = self._send_handling_redirects(\n",
      "               ^^^^^^^^^^^^^^^^^^^^^^^^^^^^^^\n",
      "  File \"C:\\Users\\Administrator.DAI-PC2\\anaconda3\\Lib\\site-packages\\httpx\\_client.py\", line 979, in _send_handling_redirects\n",
      "    response = self._send_single_request(request)\n",
      "               ^^^^^^^^^^^^^^^^^^^^^^^^^^^^^^^^^^\n",
      "  File \"C:\\Users\\Administrator.DAI-PC2\\anaconda3\\Lib\\site-packages\\httpx\\_client.py\", line 1015, in _send_single_request\n",
      "    response = transport.handle_request(request)\n",
      "               ^^^^^^^^^^^^^^^^^^^^^^^^^^^^^^^^^\n",
      "  File \"C:\\Users\\Administrator.DAI-PC2\\anaconda3\\Lib\\site-packages\\httpx\\_transports\\default.py\", line 232, in handle_request\n",
      "    with map_httpcore_exceptions():\n",
      "  File \"C:\\Users\\Administrator.DAI-PC2\\anaconda3\\Lib\\contextlib.py\", line 158, in __exit__\n",
      "    self.gen.throw(typ, value, traceback)\n",
      "  File \"C:\\Users\\Administrator.DAI-PC2\\anaconda3\\Lib\\site-packages\\httpx\\_transports\\default.py\", line 86, in map_httpcore_exceptions\n",
      "    raise mapped_exc(message) from exc\n",
      "httpx.ConnectTimeout: _ssl.c:989: The handshake operation timed out\n"
     ]
    },
    {
     "name": "stdout",
     "output_type": "stream",
     "text": [
      "\n",
      "Could not create share link. Please check your internet connection or our status page: https://status.gradio.app.\n"
     ]
    },
    {
     "data": {
      "text/html": [
       "<div><iframe src=\"http://127.0.0.1:7860/\" width=\"100%\" height=\"500\" allow=\"autoplay; camera; microphone; clipboard-read; clipboard-write;\" frameborder=\"0\" allowfullscreen></iframe></div>"
      ],
      "text/plain": [
       "<IPython.core.display.HTML object>"
      ]
     },
     "metadata": {},
     "output_type": "display_data"
    }
   ],
   "source": [
    "demo = gr.Interface(gen_rules, \n",
    "                    inputs= [gr.Slider(value=0.01, step=0.01,\n",
    "                                   label=\"Minimum Support\",\n",
    "                                   minimum=0.0001, maximum=1),\n",
    "                             gr.Slider(value=0.01, step=0.01,\n",
    "                                   label=\"Minimum Confidence\",    \n",
    "                                   minimum=0.0001, maximum=1)], \n",
    "                    outputs='dataframe')\n",
    "\n",
    "if __name__ == \"__main__\":\n",
    "    demo.launch(share=True)"
   ]
  },
  {
   "cell_type": "code",
   "execution_count": null,
   "id": "3d4b306b-ee78-47c7-a082-e83be2116368",
   "metadata": {},
   "outputs": [],
   "source": []
  }
 ],
 "metadata": {
  "kernelspec": {
   "display_name": "Python 3 (ipykernel)",
   "language": "python",
   "name": "python3"
  },
  "language_info": {
   "codemirror_mode": {
    "name": "ipython",
    "version": 3
   },
   "file_extension": ".py",
   "mimetype": "text/x-python",
   "name": "python",
   "nbconvert_exporter": "python",
   "pygments_lexer": "ipython3",
   "version": "3.11.8"
  }
 },
 "nbformat": 4,
 "nbformat_minor": 5
}
