{
 "cells": [
  {
   "cell_type": "code",
   "execution_count": 10,
   "id": "07dccd84-1534-4d6c-89de-722ab1521559",
   "metadata": {},
   "outputs": [],
   "source": [
    "import pandas as pd\n",
    "import numpy as np\n",
    "from sklearn.preprocessing import StandardScaler, MinMaxScaler"
   ]
  },
  {
   "cell_type": "code",
   "execution_count": 11,
   "id": "e670053f-b989-4dfa-aa3c-f9798003500a",
   "metadata": {},
   "outputs": [
    {
     "name": "stdout",
     "output_type": "stream",
     "text": [
      "[10.   0.3]\n",
      "[0.81649658 0.28284271]\n"
     ]
    },
    {
     "data": {
      "text/plain": [
       "array([[ 0.        , -0.70710678],\n",
       "       [-1.22474487,  1.41421356],\n",
       "       [ 1.22474487, -0.70710678]])"
      ]
     },
     "execution_count": 11,
     "metadata": {},
     "output_type": "execute_result"
    }
   ],
   "source": [
    "a = pd.DataFrame({'x1':[10,9,11],'x2':[0.1,0.7,0.1]})\n",
    "\n",
    "## initialize object of StandardScaler\n",
    "scl_std = StandardScaler()\n",
    "\n",
    "## calculate mean and std of data\n",
    "scl_std.fit(a)\n",
    "\n",
    "print(scl_std.mean_)\n",
    "print(scl_std.scale_)\n",
    "\n",
    "## transform mean\n",
    "scl_std.transform(a)"
   ]
  },
  {
   "cell_type": "code",
   "execution_count": 12,
   "id": "7b85bbf3-7860-4c11-995d-93ee1774639a",
   "metadata": {},
   "outputs": [
    {
     "name": "stdout",
     "output_type": "stream",
     "text": [
      "[9.  0.1]\n",
      "[11.   0.7]\n"
     ]
    },
    {
     "data": {
      "text/plain": [
       "array([[0.5, 0. ],\n",
       "       [0. , 1. ],\n",
       "       [1. , 0. ]])"
      ]
     },
     "execution_count": 12,
     "metadata": {},
     "output_type": "execute_result"
    }
   ],
   "source": [
    "a = pd.DataFrame({'x1':[10,9,11],'x2':[0.1,0.7,0.1]})\n",
    "\n",
    "## initialize object of StandardScaler\n",
    "scl_mm = MinMaxScaler()\n",
    "\n",
    "## calculate mean and std of data\n",
    "scl_mm.fit(a)\n",
    "\n",
    "print(scl_mm.data_min_)\n",
    "print(scl_mm.data_max_)\n",
    "\n",
    "## transform mean\n",
    "scl_mm.transform(a)"
   ]
  },
  {
   "cell_type": "code",
   "execution_count": null,
   "id": "63d5d786-9f7a-44e4-8820-7d847558fae3",
   "metadata": {},
   "outputs": [],
   "source": []
  }
 ],
 "metadata": {
  "kernelspec": {
   "display_name": "Python 3 (ipykernel)",
   "language": "python",
   "name": "python3"
  },
  "language_info": {
   "codemirror_mode": {
    "name": "ipython",
    "version": 3
   },
   "file_extension": ".py",
   "mimetype": "text/x-python",
   "name": "python",
   "nbconvert_exporter": "python",
   "pygments_lexer": "ipython3",
   "version": "3.11.8"
  }
 },
 "nbformat": 4,
 "nbformat_minor": 5
}
