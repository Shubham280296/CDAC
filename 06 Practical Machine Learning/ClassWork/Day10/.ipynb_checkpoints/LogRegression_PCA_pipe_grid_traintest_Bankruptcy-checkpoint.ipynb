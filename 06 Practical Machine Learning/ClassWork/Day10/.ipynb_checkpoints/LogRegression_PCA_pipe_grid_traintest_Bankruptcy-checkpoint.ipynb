{
 "cells": [
  {
   "cell_type": "code",
   "execution_count": 27,
   "id": "a5870f7e-03fd-466b-8a02-3f9c8bdffd95",
   "metadata": {},
   "outputs": [],
   "source": [
    "import pandas as pd\n",
    "import numpy as np\n",
    "from sklearn.decomposition import PCA\n",
    "import matplotlib.pyplot as plt\n",
    "import seaborn as sns\n",
    "from pca import pca\n",
    "from sklearn.model_selection import train_test_split,cross_val_score,StratifiedKFold, GridSearchCV\n",
    "from sklearn.metrics import roc_curve,roc_auc_score,log_loss,accuracy_score\n",
    "from sklearn.preprocessing import LabelEncoder, StandardScaler\n",
    "from sklearn.linear_model import LogisticRegression\n",
    "from sklearn.pipeline import Pipeline"
   ]
  },
  {
   "cell_type": "code",
   "execution_count": 21,
   "id": "50063cd2-eae9-4723-958d-e4f9302a211e",
   "metadata": {},
   "outputs": [],
   "source": [
    "df = pd.read_csv(r\"C:\\Users\\Administrator.DAI-PC2\\Downloads\\Shubham\\Practical Machine Learning\\ClassWork\\Cases\\Bankruptcy\\Bankruptcy.csv\")\n",
    "X = df.iloc[:,2:]\n",
    "y = df.iloc[:,1]\n",
    "\n",
    "# Create training and test sets\n",
    "X_train, X_test, y_train, y_test = train_test_split(X, y,test_size = 0.3, random_state=24, stratify=y)"
   ]
  },
  {
   "cell_type": "code",
   "execution_count": 24,
   "id": "82281f23-ab57-42d5-ad11-009fa3720e9e",
   "metadata": {},
   "outputs": [
    {
     "name": "stdout",
     "output_type": "stream",
     "text": [
      "0.75\n",
      "0.8442593798231381\n"
     ]
    }
   ],
   "source": [
    "scaler = StandardScaler().set_output(transform='pandas')\n",
    "prcomp = PCA(n_components=11).set_output(transform='pandas')\n",
    "lr = LogisticRegression()\n",
    "\n",
    "pipe = Pipeline([(\"SCL\",scaler),(\"PCA\",prcomp),(\"LR\",lr)])\n",
    "\n",
    "pipe.fit(X_train,y_train)\n",
    "\n",
    "y_pred = pipe.predict(X_test)\n",
    "y_pred_prob = pipe.predict_proba(X_test)\n",
    "print(accuracy_score(y_test, y_pred))\n",
    "print(log_loss(y_test, y_pred_prob))"
   ]
  },
  {
   "cell_type": "code",
   "execution_count": 28,
   "id": "ea4f8d7c-3f34-47b6-9eb7-66a3c7faa143",
   "metadata": {},
   "outputs": [],
   "source": [
    "##### GridSearch"
   ]
  },
  {
   "cell_type": "code",
   "execution_count": 26,
   "id": "81750531-4c87-4093-b490-8cbc1f72a227",
   "metadata": {},
   "outputs": [
    {
     "data": {
      "text/plain": [
       "{'memory': None,\n",
       " 'steps': [('SCL', StandardScaler()),\n",
       "  ('PCA', PCA(n_components=11)),\n",
       "  ('LR', LogisticRegression())],\n",
       " 'verbose': False,\n",
       " 'SCL': StandardScaler(),\n",
       " 'PCA': PCA(n_components=11),\n",
       " 'LR': LogisticRegression(),\n",
       " 'SCL__copy': True,\n",
       " 'SCL__with_mean': True,\n",
       " 'SCL__with_std': True,\n",
       " 'PCA__copy': True,\n",
       " 'PCA__iterated_power': 'auto',\n",
       " 'PCA__n_components': 11,\n",
       " 'PCA__n_oversamples': 10,\n",
       " 'PCA__power_iteration_normalizer': 'auto',\n",
       " 'PCA__random_state': None,\n",
       " 'PCA__svd_solver': 'auto',\n",
       " 'PCA__tol': 0.0,\n",
       " 'PCA__whiten': False,\n",
       " 'LR__C': 1.0,\n",
       " 'LR__class_weight': None,\n",
       " 'LR__dual': False,\n",
       " 'LR__fit_intercept': True,\n",
       " 'LR__intercept_scaling': 1,\n",
       " 'LR__l1_ratio': None,\n",
       " 'LR__max_iter': 100,\n",
       " 'LR__multi_class': 'auto',\n",
       " 'LR__n_jobs': None,\n",
       " 'LR__penalty': 'l2',\n",
       " 'LR__random_state': None,\n",
       " 'LR__solver': 'lbfgs',\n",
       " 'LR__tol': 0.0001,\n",
       " 'LR__verbose': 0,\n",
       " 'LR__warm_start': False}"
      ]
     },
     "execution_count": 26,
     "metadata": {},
     "output_type": "execute_result"
    }
   ],
   "source": [
    "pipe.get_params()"
   ]
  },
  {
   "cell_type": "code",
   "execution_count": 32,
   "id": "a3452b72-10ad-4643-a92a-587b5d674883",
   "metadata": {},
   "outputs": [
    {
     "name": "stdout",
     "output_type": "stream",
     "text": [
      "{'LR__C': 0.75075, 'PCA__n_components': 10}\n",
      "-0.47865977351472166\n"
     ]
    }
   ],
   "source": [
    "kfold = StratifiedKFold(n_splits=5, shuffle=True,random_state=24)\n",
    "params={'PCA__n_components':np.arange(6,12),'LR__C':np.linspace(0.001,3,5)}\n",
    "gcv = GridSearchCV(pipe,param_grid=params,cv=kfold,scoring='neg_log_loss')\n",
    "\n",
    "gcv.fit(X,y)\n",
    "print(gcv.best_params_)\n",
    "print(gcv.best_score_)"
   ]
  },
  {
   "cell_type": "code",
   "execution_count": null,
   "id": "aea4fe3d-132a-4949-b56b-595e1d496ca8",
   "metadata": {},
   "outputs": [],
   "source": []
  }
 ],
 "metadata": {
  "kernelspec": {
   "display_name": "Python 3 (ipykernel)",
   "language": "python",
   "name": "python3"
  },
  "language_info": {
   "codemirror_mode": {
    "name": "ipython",
    "version": 3
   },
   "file_extension": ".py",
   "mimetype": "text/x-python",
   "name": "python",
   "nbconvert_exporter": "python",
   "pygments_lexer": "ipython3",
   "version": "3.11.8"
  }
 },
 "nbformat": 4,
 "nbformat_minor": 5
}
