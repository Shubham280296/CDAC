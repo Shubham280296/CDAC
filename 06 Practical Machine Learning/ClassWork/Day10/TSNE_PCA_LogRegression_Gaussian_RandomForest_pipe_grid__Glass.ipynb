{
 "cells": [
  {
   "cell_type": "code",
   "execution_count": 25,
   "id": "a5870f7e-03fd-466b-8a02-3f9c8bdffd95",
   "metadata": {},
   "outputs": [],
   "source": [
    "import pandas as pd\n",
    "import numpy as np\n",
    "from sklearn.decomposition import PCA\n",
    "import matplotlib.pyplot as plt\n",
    "import seaborn as sns\n",
    "from pca import pca\n",
    "from sklearn.model_selection import train_test_split,cross_val_score,StratifiedKFold, GridSearchCV\n",
    "from sklearn.metrics import roc_curve,roc_auc_score,log_loss,accuracy_score\n",
    "from sklearn.preprocessing import LabelEncoder, StandardScaler\n",
    "from sklearn.linear_model import LogisticRegression\n",
    "from sklearn.pipeline import Pipeline\n",
    "from sklearn.naive_bayes import GaussianNB\n",
    "from sklearn.ensemble import RandomForestClassifier\n",
    "from sklearn.manifold import TSNE"
   ]
  },
  {
   "cell_type": "code",
   "execution_count": 6,
   "id": "50063cd2-eae9-4723-958d-e4f9302a211e",
   "metadata": {},
   "outputs": [],
   "source": [
    "df = pd.read_csv(r\"C:\\Users\\Administrator.DAI-PC2\\Downloads\\Shubham\\Practical Machine Learning\\ClassWork\\Cases\\Glass Identification\\Glass.csv\")\n",
    "le = LabelEncoder()\n",
    "X = df.iloc[:,:-1]\n",
    "y = le.fit_transform(df.iloc[:,-1])"
   ]
  },
  {
   "cell_type": "code",
   "execution_count": null,
   "id": "4601d3b2-4ad6-459f-b2ca-6eeb890218ac",
   "metadata": {},
   "outputs": [],
   "source": [
    "####Logistic"
   ]
  },
  {
   "cell_type": "code",
   "execution_count": 7,
   "id": "82281f23-ab57-42d5-ad11-009fa3720e9e",
   "metadata": {},
   "outputs": [],
   "source": [
    "scaler = StandardScaler().set_output(transform='pandas')\n",
    "prcomp = PCA().set_output(transform='pandas')\n",
    "lr = LogisticRegression()\n",
    "\n",
    "pipe = Pipeline([(\"SCL\",scaler),(\"PCA\",prcomp),(\"LR\",lr)])\n",
    "pipe.get_params()"
   ]
  },
  {
   "cell_type": "code",
   "execution_count": 16,
   "id": "a3452b72-10ad-4643-a92a-587b5d674883",
   "metadata": {},
   "outputs": [
    {
     "name": "stdout",
     "output_type": "stream",
     "text": [
      "{'LR__C': 0.75075, 'LR__multi_class': 'multinomial', 'PCA__n_components': 9}\n",
      "-0.954645334455566\n"
     ]
    }
   ],
   "source": [
    "kfold = StratifiedKFold(n_splits=5, shuffle=True,random_state=24)\n",
    "params={'PCA__n_components':np.arange(2,10),'LR__C':np.linspace(0.001,3,5),'LR__multi_class':['ovr','multinomial']}\n",
    "gcv = GridSearchCV(pipe,param_grid=params,cv=kfold,scoring='neg_log_loss')\n",
    "\n",
    "gcv.fit(X,y)\n",
    "print(gcv.best_params_)\n",
    "print(gcv.best_score_)"
   ]
  },
  {
   "cell_type": "code",
   "execution_count": null,
   "id": "942d11d3-8d1a-4e0f-82ef-8ba3a3d00e12",
   "metadata": {},
   "outputs": [],
   "source": [
    "#### Gaussian"
   ]
  },
  {
   "cell_type": "code",
   "execution_count": 19,
   "id": "aea4fe3d-132a-4949-b56b-595e1d496ca8",
   "metadata": {},
   "outputs": [
    {
     "data": {
      "text/plain": [
       "{'memory': None,\n",
       " 'steps': [('SCL', StandardScaler()), ('PCA', PCA()), ('NB', GaussianNB())],\n",
       " 'verbose': False,\n",
       " 'SCL': StandardScaler(),\n",
       " 'PCA': PCA(),\n",
       " 'NB': GaussianNB(),\n",
       " 'SCL__copy': True,\n",
       " 'SCL__with_mean': True,\n",
       " 'SCL__with_std': True,\n",
       " 'PCA__copy': True,\n",
       " 'PCA__iterated_power': 'auto',\n",
       " 'PCA__n_components': None,\n",
       " 'PCA__n_oversamples': 10,\n",
       " 'PCA__power_iteration_normalizer': 'auto',\n",
       " 'PCA__random_state': None,\n",
       " 'PCA__svd_solver': 'auto',\n",
       " 'PCA__tol': 0.0,\n",
       " 'PCA__whiten': False,\n",
       " 'NB__priors': None,\n",
       " 'NB__var_smoothing': 1e-09}"
      ]
     },
     "execution_count": 19,
     "metadata": {},
     "output_type": "execute_result"
    }
   ],
   "source": [
    "scaler = StandardScaler().set_output(transform='pandas')\n",
    "prcomp = PCA().set_output(transform='pandas')\n",
    "nb = GaussianNB()\n",
    "\n",
    "pipe = Pipeline([(\"SCL\",scaler),(\"PCA\",prcomp),(\"NB\",nb)])\n",
    "pipe.get_params()"
   ]
  },
  {
   "cell_type": "code",
   "execution_count": 20,
   "id": "b842fb9e-de2a-4491-9b93-a03f20655c43",
   "metadata": {},
   "outputs": [
    {
     "name": "stderr",
     "output_type": "stream",
     "text": [
      "C:\\Users\\Administrator.DAI-PC2\\anaconda3\\Lib\\site-packages\\sklearn\\metrics\\_classification.py:2981: UserWarning: The y_pred values do not sum to one. Starting from 1.5 thiswill result in an error.\n",
      "  warnings.warn(\n",
      "C:\\Users\\Administrator.DAI-PC2\\anaconda3\\Lib\\site-packages\\sklearn\\metrics\\_classification.py:2981: UserWarning: The y_pred values do not sum to one. Starting from 1.5 thiswill result in an error.\n",
      "  warnings.warn(\n",
      "C:\\Users\\Administrator.DAI-PC2\\anaconda3\\Lib\\site-packages\\sklearn\\metrics\\_classification.py:2981: UserWarning: The y_pred values do not sum to one. Starting from 1.5 thiswill result in an error.\n",
      "  warnings.warn(\n",
      "C:\\Users\\Administrator.DAI-PC2\\anaconda3\\Lib\\site-packages\\sklearn\\metrics\\_classification.py:2981: UserWarning: The y_pred values do not sum to one. Starting from 1.5 thiswill result in an error.\n",
      "  warnings.warn(\n",
      "C:\\Users\\Administrator.DAI-PC2\\anaconda3\\Lib\\site-packages\\sklearn\\metrics\\_classification.py:2981: UserWarning: The y_pred values do not sum to one. Starting from 1.5 thiswill result in an error.\n",
      "  warnings.warn(\n",
      "C:\\Users\\Administrator.DAI-PC2\\anaconda3\\Lib\\site-packages\\sklearn\\metrics\\_classification.py:2981: UserWarning: The y_pred values do not sum to one. Starting from 1.5 thiswill result in an error.\n",
      "  warnings.warn(\n"
     ]
    },
    {
     "name": "stdout",
     "output_type": "stream",
     "text": [
      "{'PCA__n_components': 2}\n",
      "-1.4868119307408088\n"
     ]
    },
    {
     "name": "stderr",
     "output_type": "stream",
     "text": [
      "C:\\Users\\Administrator.DAI-PC2\\anaconda3\\Lib\\site-packages\\sklearn\\metrics\\_classification.py:2981: UserWarning: The y_pred values do not sum to one. Starting from 1.5 thiswill result in an error.\n",
      "  warnings.warn(\n"
     ]
    }
   ],
   "source": [
    "kfold = StratifiedKFold(n_splits=5, shuffle=True,random_state=24)\n",
    "params={'PCA__n_components':np.arange(2,10)}\n",
    "gcv = GridSearchCV(pipe,param_grid=params,cv=kfold,scoring='neg_log_loss')\n",
    "\n",
    "gcv.fit(X,y)\n",
    "print(gcv.best_params_)\n",
    "print(gcv.best_score_)"
   ]
  },
  {
   "cell_type": "code",
   "execution_count": null,
   "id": "f37e6ef1-676d-42f6-afd9-c61eabc3722f",
   "metadata": {},
   "outputs": [],
   "source": [
    "#### Random Forest"
   ]
  },
  {
   "cell_type": "code",
   "execution_count": 22,
   "id": "1d370fba-6767-4cfe-ad9f-e1468c286db7",
   "metadata": {},
   "outputs": [
    {
     "data": {
      "text/plain": [
       "{'memory': None,\n",
       " 'steps': [('SCL', StandardScaler()),\n",
       "  ('PCA', PCA()),\n",
       "  ('Tree', RandomForestClassifier())],\n",
       " 'verbose': False,\n",
       " 'SCL': StandardScaler(),\n",
       " 'PCA': PCA(),\n",
       " 'Tree': RandomForestClassifier(),\n",
       " 'SCL__copy': True,\n",
       " 'SCL__with_mean': True,\n",
       " 'SCL__with_std': True,\n",
       " 'PCA__copy': True,\n",
       " 'PCA__iterated_power': 'auto',\n",
       " 'PCA__n_components': None,\n",
       " 'PCA__n_oversamples': 10,\n",
       " 'PCA__power_iteration_normalizer': 'auto',\n",
       " 'PCA__random_state': None,\n",
       " 'PCA__svd_solver': 'auto',\n",
       " 'PCA__tol': 0.0,\n",
       " 'PCA__whiten': False,\n",
       " 'Tree__bootstrap': True,\n",
       " 'Tree__ccp_alpha': 0.0,\n",
       " 'Tree__class_weight': None,\n",
       " 'Tree__criterion': 'gini',\n",
       " 'Tree__max_depth': None,\n",
       " 'Tree__max_features': 'sqrt',\n",
       " 'Tree__max_leaf_nodes': None,\n",
       " 'Tree__max_samples': None,\n",
       " 'Tree__min_impurity_decrease': 0.0,\n",
       " 'Tree__min_samples_leaf': 1,\n",
       " 'Tree__min_samples_split': 2,\n",
       " 'Tree__min_weight_fraction_leaf': 0.0,\n",
       " 'Tree__monotonic_cst': None,\n",
       " 'Tree__n_estimators': 100,\n",
       " 'Tree__n_jobs': None,\n",
       " 'Tree__oob_score': False,\n",
       " 'Tree__random_state': None,\n",
       " 'Tree__verbose': 0,\n",
       " 'Tree__warm_start': False}"
      ]
     },
     "execution_count": 22,
     "metadata": {},
     "output_type": "execute_result"
    }
   ],
   "source": [
    "scaler = StandardScaler().set_output(transform='pandas')\n",
    "prcomp = PCA().set_output(transform='pandas')\n",
    "rf = RandomForestClassifier()\n",
    "\n",
    "pipe = Pipeline([(\"SCL\",scaler),(\"PCA\",prcomp),(\"Tree\",rf)])\n",
    "pipe.get_params()"
   ]
  },
  {
   "cell_type": "code",
   "execution_count": 23,
   "id": "7d7c4815-85c0-46b7-9571-dd4be046f9ca",
   "metadata": {},
   "outputs": [
    {
     "name": "stdout",
     "output_type": "stream",
     "text": [
      "{'PCA__n_components': 8}\n",
      "-0.6998327037371094\n"
     ]
    }
   ],
   "source": [
    "kfold = StratifiedKFold(n_splits=5, shuffle=True,random_state=24)\n",
    "params={'PCA__n_components':np.arange(4,10)}\n",
    "gcv = GridSearchCV(pipe,param_grid=params,cv=kfold,scoring='neg_log_loss')\n",
    "\n",
    "gcv.fit(X,y)\n",
    "print(gcv.best_params_)\n",
    "print(gcv.best_score_)"
   ]
  },
  {
   "cell_type": "code",
   "execution_count": 24,
   "id": "7bf8b722-9032-477b-b6f1-2617f865d3d3",
   "metadata": {},
   "outputs": [],
   "source": [
    "################ t-sne ###########"
   ]
  },
  {
   "cell_type": "code",
   "execution_count": 58,
   "id": "239338b5-aa71-42b9-b685-a5e81690e506",
   "metadata": {},
   "outputs": [
    {
     "data": {
      "text/plain": [
       "<Axes: xlabel='tsne0', ylabel='tsne1'>"
      ]
     },
     "execution_count": 58,
     "metadata": {},
     "output_type": "execute_result"
    },
    {
     "data": {
      "image/png": "[encoded data removed]",
      "text/plain": [
       "<Figure size 640x480 with 1 Axes>"
      ]
     },
     "metadata": {},
     "output_type": "display_data"
    }
   ],
   "source": [
    "tsne = TSNE(n_components=2, random_state=24, perplexity=5).set_output(transform='pandas')\n",
    "emb_tsne = tsne.fit_transform(X)\n",
    "emb_tsne['Type'] = y.astype(str)\n",
    "sns.scatterplot(data=emb_tsne,x='tsne0',y='tsne1',hue='Type')"
   ]
  },
  {
   "cell_type": "code",
   "execution_count": null,
   "id": "89ba7d9e-ed2e-40b3-addd-7c5d435e8816",
   "metadata": {},
   "outputs": [],
   "source": [
    "#### logistic with T-SNE"
   ]
  },
  {
   "cell_type": "code",
   "execution_count": 57,
   "id": "201757a0-e69d-4bef-b779-d5f2a1df4ba4",
   "metadata": {},
   "outputs": [
    {
     "name": "stdout",
     "output_type": "stream",
     "text": [
      "{}\n",
      "-1.026791716420999\n"
     ]
    },
    {
     "name": "stderr",
     "output_type": "stream",
     "text": [
      "C:\\Users\\Administrator.DAI-PC2\\anaconda3\\Lib\\site-packages\\sklearn\\linear_model\\_logistic.py:469: ConvergenceWarning: lbfgs failed to converge (status=1):\n",
      "STOP: TOTAL NO. of ITERATIONS REACHED LIMIT.\n",
      "\n",
      "Increase the number of iterations (max_iter) or scale the data as shown in:\n",
      "    https://scikit-learn.org/stable/modules/preprocessing.html\n",
      "Please also refer to the documentation for alternative solver options:\n",
      "    https://scikit-learn.org/stable/modules/linear_model.html#logistic-regression\n",
      "  n_iter_i = _check_optimize_result(\n",
      "C:\\Users\\Administrator.DAI-PC2\\anaconda3\\Lib\\site-packages\\sklearn\\linear_model\\_logistic.py:469: ConvergenceWarning: lbfgs failed to converge (status=1):\n",
      "STOP: TOTAL NO. of ITERATIONS REACHED LIMIT.\n",
      "\n",
      "Increase the number of iterations (max_iter) or scale the data as shown in:\n",
      "    https://scikit-learn.org/stable/modules/preprocessing.html\n",
      "Please also refer to the documentation for alternative solver options:\n",
      "    https://scikit-learn.org/stable/modules/linear_model.html#logistic-regression\n",
      "  n_iter_i = _check_optimize_result(\n",
      "C:\\Users\\Administrator.DAI-PC2\\anaconda3\\Lib\\site-packages\\sklearn\\linear_model\\_logistic.py:469: ConvergenceWarning: lbfgs failed to converge (status=1):\n",
      "STOP: TOTAL NO. of ITERATIONS REACHED LIMIT.\n",
      "\n",
      "Increase the number of iterations (max_iter) or scale the data as shown in:\n",
      "    https://scikit-learn.org/stable/modules/preprocessing.html\n",
      "Please also refer to the documentation for alternative solver options:\n",
      "    https://scikit-learn.org/stable/modules/linear_model.html#logistic-regression\n",
      "  n_iter_i = _check_optimize_result(\n",
      "C:\\Users\\Administrator.DAI-PC2\\anaconda3\\Lib\\site-packages\\sklearn\\linear_model\\_logistic.py:469: ConvergenceWarning: lbfgs failed to converge (status=1):\n",
      "STOP: TOTAL NO. of ITERATIONS REACHED LIMIT.\n",
      "\n",
      "Increase the number of iterations (max_iter) or scale the data as shown in:\n",
      "    https://scikit-learn.org/stable/modules/preprocessing.html\n",
      "Please also refer to the documentation for alternative solver options:\n",
      "    https://scikit-learn.org/stable/modules/linear_model.html#logistic-regression\n",
      "  n_iter_i = _check_optimize_result(\n",
      "C:\\Users\\Administrator.DAI-PC2\\anaconda3\\Lib\\site-packages\\sklearn\\linear_model\\_logistic.py:469: ConvergenceWarning: lbfgs failed to converge (status=1):\n",
      "STOP: TOTAL NO. of ITERATIONS REACHED LIMIT.\n",
      "\n",
      "Increase the number of iterations (max_iter) or scale the data as shown in:\n",
      "    https://scikit-learn.org/stable/modules/preprocessing.html\n",
      "Please also refer to the documentation for alternative solver options:\n",
      "    https://scikit-learn.org/stable/modules/linear_model.html#logistic-regression\n",
      "  n_iter_i = _check_optimize_result(\n",
      "C:\\Users\\Administrator.DAI-PC2\\anaconda3\\Lib\\site-packages\\sklearn\\linear_model\\_logistic.py:469: ConvergenceWarning: lbfgs failed to converge (status=1):\n",
      "STOP: TOTAL NO. of ITERATIONS REACHED LIMIT.\n",
      "\n",
      "Increase the number of iterations (max_iter) or scale the data as shown in:\n",
      "    https://scikit-learn.org/stable/modules/preprocessing.html\n",
      "Please also refer to the documentation for alternative solver options:\n",
      "    https://scikit-learn.org/stable/modules/linear_model.html#logistic-regression\n",
      "  n_iter_i = _check_optimize_result(\n"
     ]
    }
   ],
   "source": [
    "lr = LogisticRegression()\n",
    "params={}\n",
    "kfold = StratifiedKFold(n_splits=5,shuffle=True,random_state=24)\n",
    "gcv = GridSearchCV(lr,param_grid=params, cv=kfold,scoring='neg_log_loss')\n",
    "\n",
    "tsne = TSNE(n_components=2, random_state=24, perplexity=5).set_output(transform='pandas')\n",
    "emb_tsne = tsne.fit_transform(X)\n",
    "\n",
    "gcv.fit(emb_tsne,y)\n",
    "print(gcv.best_params_)\n",
    "print(gcv.best_score_)"
   ]
  },
  {
   "cell_type": "code",
   "execution_count": null,
   "id": "fcfb9dd8-c0ed-4d4b-b71a-ca256068538c",
   "metadata": {},
   "outputs": [],
   "source": []
  }
 ],
 "metadata": {
  "kernelspec": {
   "display_name": "Python 3 (ipykernel)",
   "language": "python",
   "name": "python3"
  },
  "language_info": {
   "codemirror_mode": {
    "name": "ipython",
    "version": 3
   },
   "file_extension": ".py",
   "mimetype": "text/x-python",
   "name": "python",
   "nbconvert_exporter": "python",
   "pygments_lexer": "ipython3",
   "version": "3.11.8"
  }
 },
 "nbformat": 4,
 "nbformat_minor": 5
}
