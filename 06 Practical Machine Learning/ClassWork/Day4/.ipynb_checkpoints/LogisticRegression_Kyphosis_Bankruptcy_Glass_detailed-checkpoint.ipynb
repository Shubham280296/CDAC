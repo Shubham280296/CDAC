{
 "cells": [
  {
   "cell_type": "code",
   "execution_count": 27,
   "id": "1cad665e-f2a3-4426-89ee-6dbcff076de3",
   "metadata": {},
   "outputs": [],
   "source": [
    "import pandas as pd\n",
    "from sklearn.model_selection import train_test_split,cross_val_score,StratifiedKFold\n",
    "from sklearn.metrics import roc_curve,roc_auc_score,log_loss,accuracy_score\n",
    "from sklearn.preprocessing import LabelEncoder\n",
    "from sklearn.linear_model import LogisticRegression"
   ]
  },
  {
   "cell_type": "code",
   "execution_count": 28,
   "id": "e70d1dec-9eab-438e-b508-428d5b72be05",
   "metadata": {},
   "outputs": [],
   "source": [
    "kyp = pd.read_csv(r\"C:\\Users\\Administrator.DAI-PC2\\Downloads\\Shubham\\Practical Machine Learning\\ClassWork\\Cases\\Kyphosis\\Kyphosis.csv\")\n",
    "le = LabelEncoder()\n",
    "y = le.fit_transform(kyp[\"Kyphosis\"])\n",
    "X = kyp.drop('Kyphosis',axis=1)\n",
    "\n",
    "lr = LogisticRegression()"
   ]
  },
  {
   "cell_type": "code",
   "execution_count": 29,
   "id": "7d482e65-2550-4744-b743-90ed4024a89d",
   "metadata": {},
   "outputs": [
    {
     "name": "stdout",
     "output_type": "stream",
     "text": [
      "[[ 0.01203504  0.14784746 -0.29536472]]\n",
      "[0.12694123]\n",
      "0.76\n",
      "0.81\n",
      "0.4610519432006946\n"
     ]
    }
   ],
   "source": [
    "X_train, X_test, y_train, y_test = train_test_split(X, y,test_size = 0.3, random_state=24,stratify =y)\n",
    "lr.fit(X_train,y_train)\n",
    "\n",
    "print(lr.coef_)\n",
    "print(lr.intercept_)\n",
    "\n",
    "y_pred = lr.predict(X_test)\n",
    "y_pred_prob = lr.predict_proba(X_test)[:,1]\n",
    "\n",
    "print(accuracy_score(y_test, y_pred))\n",
    "print(roc_auc_score(y_test, y_pred_prob))\n",
    "print(log_loss(y_test, y_pred_prob))"
   ]
  },
  {
   "cell_type": "code",
   "execution_count": 30,
   "id": "31156139-27c4-46c5-9979-ea60c1a6c806",
   "metadata": {},
   "outputs": [
    {
     "name": "stdout",
     "output_type": "stream",
     "text": [
      "0.75\n",
      "0.7975\n",
      "0.5532074420519786\n"
     ]
    }
   ],
   "source": [
    "df = pd.read_csv(r\"C:\\Users\\Administrator.DAI-PC2\\Downloads\\Shubham\\Practical Machine Learning\\ClassWork\\Cases\\Bankruptcy\\Bankruptcy.csv\")\n",
    "\n",
    "X = df.iloc[:,2:]\n",
    "y = df.iloc[:,1]\n",
    "\n",
    "# Create training and test sets\n",
    "X_train, X_test, y_train, y_test = train_test_split(X, y,test_size = 0.3, random_state=24, stratify=y)\n",
    "\n",
    "lr = LogisticRegression(max_iter=400)\n",
    "lr.fit(X_train, y_train)\n",
    "\n",
    "y_pred = lr.predict(X_test)\n",
    "y_pred_prob = lr.predict_proba(X_test)[:,1]\n",
    "\n",
    "print(accuracy_score(y_test, y_pred))\n",
    "print(roc_auc_score(y_test, y_pred_prob))\n",
    "print(log_loss(y_test, y_pred_prob))"
   ]
  },
  {
   "cell_type": "code",
   "execution_count": 49,
   "id": "0e5e5dee-0457-4e7d-a62e-12ea4727e497",
   "metadata": {},
   "outputs": [
    {
     "name": "stdout",
     "output_type": "stream",
     "text": [
      "[[-4.75313350e-02 -9.06015707e-01  1.19382208e+00 -2.00200844e+00\n",
      "   1.43684197e-01 -1.47591539e-01  1.43096648e-02 -1.34098268e-01\n",
      "   1.28651736e-01]\n",
      " [ 3.53680176e-02 -3.86748567e-01  4.86550033e-01  9.89471277e-01\n",
      "  -2.43414156e-02  8.71664034e-02  3.83171790e-01 -4.24478812e-01\n",
      "   1.07319673e-01]\n",
      " [-5.65983458e-03 -3.96912946e-01 -7.69559646e-01  9.27735717e-01\n",
      "   7.19871204e-03  5.04866081e-01  1.87756194e-01 -1.12788242e+00\n",
      "   1.21661238e-01]\n",
      " [ 8.22226315e-03  5.58896527e-01 -1.08239961e+00  1.42757757e+00\n",
      "  -9.57610085e-02 -4.40072858e-01 -6.19184567e-01  1.12497180e+00\n",
      "  -2.36932113e-01]\n",
      " [-4.57404324e-02  1.04477737e+00 -3.89856371e-01 -4.84021286e-01\n",
      "  -1.95449892e-01 -1.12636632e+00 -3.01753218e-02 -1.11978763e+00\n",
      "  -3.08156606e-01]\n",
      " [ 1.40088480e-03  3.70667663e-01  9.09034015e-01 -2.36155862e-01\n",
      "  -1.44019009e-01 -4.14147627e-01  7.52896520e-02 -2.80075634e-01\n",
      "   3.64962760e-02]]\n",
      "[-0.21994207  0.03322124 -0.00787641  2.21932656 -0.89327201  0.01662139]\n",
      "0.5846153846153846\n",
      "0.8173553364483513\n",
      "1.0343716335791842\n"
     ]
    },
    {
     "name": "stderr",
     "output_type": "stream",
     "text": [
      "C:\\Users\\Administrator.DAI-PC2\\anaconda3\\Lib\\site-packages\\sklearn\\linear_model\\_logistic.py:458: ConvergenceWarning: lbfgs failed to converge (status=1):\n",
      "STOP: TOTAL NO. of ITERATIONS REACHED LIMIT.\n",
      "\n",
      "Increase the number of iterations (max_iter) or scale the data as shown in:\n",
      "    https://scikit-learn.org/stable/modules/preprocessing.html\n",
      "Please also refer to the documentation for alternative solver options:\n",
      "    https://scikit-learn.org/stable/modules/linear_model.html#logistic-regression\n",
      "  n_iter_i = _check_optimize_result(\n"
     ]
    }
   ],
   "source": [
    "df = pd.read_csv(r\"C:\\Users\\Administrator.DAI-PC2\\Downloads\\Shubham\\Practical Machine Learning\\ClassWork\\Cases\\Glass Identification\\Glass.csv\")\n",
    "le = LabelEncoder()\n",
    "X = df.iloc[:,:-1]\n",
    "y = le.fit_transform(df.iloc[:,-1])\n",
    "\n",
    "# Create training and test sets\n",
    "X_train, X_test, y_train, y_test = train_test_split(X, y,test_size = 0.3, random_state=24, stratify=y)\n",
    "\n",
    "# Logistic Regression\n",
    "\n",
    "logistic = LogisticRegression(multi_class='ovr')\n",
    "logistic.fit(X_train, y_train)\n",
    "\n",
    "print(logistic.coef_)\n",
    "print(logistic.intercept_)\n",
    "\n",
    "y_pred = logistic.predict(X_test)\n",
    "y_pred_prob = logistic.predict_proba(X_test)\n",
    "\n",
    "# Roc is only possible for dataset with only 2 classes\n",
    "print(accuracy_score(y_test, y_pred))\n",
    "print(roc_auc_score(y_test, y_pred_prob,multi_class='ovr'))\n",
    "print(log_loss(y_test, y_pred_prob))"
   ]
  },
  {
   "cell_type": "code",
   "execution_count": null,
   "id": "84cb678a-daa3-4c22-aaa9-b5ff62a9daf0",
   "metadata": {},
   "outputs": [],
   "source": []
  }
 ],
 "metadata": {
  "kernelspec": {
   "display_name": "Python 3 (ipykernel)",
   "language": "python",
   "name": "python3"
  },
  "language_info": {
   "codemirror_mode": {
    "name": "ipython",
    "version": 3
   },
   "file_extension": ".py",
   "mimetype": "text/x-python",
   "name": "python",
   "nbconvert_exporter": "python",
   "pygments_lexer": "ipython3",
   "version": "3.11.8"
  }
 },
 "nbformat": 4,
 "nbformat_minor": 5
}
