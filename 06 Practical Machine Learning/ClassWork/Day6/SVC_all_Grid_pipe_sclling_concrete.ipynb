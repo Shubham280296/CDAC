{
 "cells": [
  {
   "cell_type": "code",
   "execution_count": 1,
   "id": "bb95a8dd-8950-44af-a25a-8001d497f2a4",
   "metadata": {},
   "outputs": [],
   "source": [
    "import pandas as pd\n",
    "import numpy as np\n",
    "from sklearn.svm import SVR\n",
    "from sklearn.preprocessing import LabelEncoder, StandardScaler,MinMaxScaler\n",
    "from sklearn.model_selection import GridSearchCV, KFold, train_test_split\n",
    "from sklearn.metrics import accuracy_score, log_loss\n",
    "from sklearn.pipeline import Pipeline"
   ]
  },
  {
   "cell_type": "code",
   "execution_count": 2,
   "id": "3f87abc0-959f-47bc-b0ce-74342843a618",
   "metadata": {},
   "outputs": [],
   "source": [
    "df = pd.read_csv(r\"C:\\Users\\Administrator.DAI-PC2\\Downloads\\Shubham\\Practical Machine Learning\\ClassWork\\Cases\\Concrete Strength\\Concrete_Data.csv\")\n",
    "X = df.iloc[:,:-1]\n",
    "y = df.iloc[:,-1]"
   ]
  },
  {
   "cell_type": "code",
   "execution_count": 3,
   "id": "f9d3d746-f7a2-48fb-bdc3-abc6b8f4cf9d",
   "metadata": {},
   "outputs": [],
   "source": [
    "##### scaling data and using predict.proba enable probability in parameters for SVC gridsearch"
   ]
  },
  {
   "cell_type": "code",
   "execution_count": 4,
   "id": "d4ae0bd7-43a9-4192-a816-0d33b49611ed",
   "metadata": {},
   "outputs": [
    {
     "name": "stdout",
     "output_type": "stream",
     "text": [
      "{'memory': None, 'steps': [('Scl', None), ('SVM', SVR(C=0.1, kernel='linear'))], 'verbose': False, 'Scl': None, 'SVM': SVR(C=0.1, kernel='linear'), 'SVM__C': 0.1, 'SVM__cache_size': 200, 'SVM__coef0': 0.0, 'SVM__degree': 3, 'SVM__epsilon': 0.1, 'SVM__gamma': 'scale', 'SVM__kernel': 'linear', 'SVM__max_iter': -1, 'SVM__shrinking': True, 'SVM__tol': 0.001, 'SVM__verbose': False}\n"
     ]
    }
   ],
   "source": [
    "svm = SVR(C =  0.1,kernel = \"linear\")\n",
    "scl_mm = MinMaxScaler()\n",
    "scl_std = StandardScaler()\n",
    "pipe = Pipeline([(\"Scl\",None),(\"SVM\",svm)])\n",
    "\n",
    "print(pipe.get_params())"
   ]
  },
  {
   "cell_type": "code",
   "execution_count": null,
   "id": "157af8b9-46f9-402d-902c-a5c8aefe022c",
   "metadata": {},
   "outputs": [],
   "source": [
    "params = {\"SVM__C\":np.linspace(0.001,5,5),\"Scl\":[scl_mm,scl_std,None],\"SVM__epsilon\":np.linspace(0.001,5,5)}\n",
    "kfold = KFold(n_splits =5,shuffle = True, random_state = 24)\n",
    "gcv_lin = GridSearchCV(pipe,param_grid = params,cv=kfold, scoring=\"r2\")\n",
    "gcv_lin.fit(X,y)"
   ]
  },
  {
   "cell_type": "code",
   "execution_count": null,
   "id": "758ea6ba-98f1-407d-9020-763be6c532a1",
   "metadata": {},
   "outputs": [],
   "source": [
    "print(gcv_lin.best_params_)\n",
    "print(gcv_lin.best_score_)"
   ]
  },
  {
   "cell_type": "code",
   "execution_count": null,
   "id": "28680305-7536-4960-9944-dd45fef13bf3",
   "metadata": {},
   "outputs": [],
   "source": [
    "############ polynomial kernel scaling data and using predict.proba enable probability in parameters for SVC gridsearch"
   ]
  },
  {
   "cell_type": "code",
   "execution_count": null,
   "id": "67044cba-98f6-4141-9013-5a302b56ee8d",
   "metadata": {},
   "outputs": [],
   "source": [
    "svm = SVR(C =  0.1,kernel = \"poly\"\\)\n",
    "scl_mm = MinMaxScaler()\n",
    "scl_std = StandardScaler()\n",
    "pipe = Pipeline([(\"Scl\",None),(\"SVM\",svm)])\n",
    "\n",
    "print(pipe.get_params())"
   ]
  },
  {
   "cell_type": "code",
   "execution_count": null,
   "id": "8db8950e-103e-4f3e-a2d4-240ef7de7bcc",
   "metadata": {},
   "outputs": [],
   "source": [
    "params = {\"SVM__C\":np.linspace(0.001,5,5),\"Scl\":[scl_mm,scl_std,None],\"SVM__degree\":[2,3],\"SVM__coef0\":np.linspace(0,3,5),\"SVM__epsilon\":np.linspace(0.001,5,5)}\n",
    "kfold = KFold(n_splits =5,shuffle = True, random_state = 24)\n",
    "gcv_poly = GridSearchCV(pipe,param_grid = params,cv=kfold, scoring=\"r2\")\n",
    "gcv_poly.fit(X,y)"
   ]
  },
  {
   "cell_type": "code",
   "execution_count": null,
   "id": "8bf9c9a4-bbf9-4d9b-981a-18cfb8a25b4b",
   "metadata": {},
   "outputs": [],
   "source": [
    "print(gcv_poly.best_params_)\n",
    "print(gcv_poly.best_score_)"
   ]
  },
  {
   "cell_type": "code",
   "execution_count": null,
   "id": "cd8a077a-09fb-4ab3-8831-610ca3775af7",
   "metadata": {},
   "outputs": [],
   "source": [
    "#### radial kernel"
   ]
  },
  {
   "cell_type": "code",
   "execution_count": null,
   "id": "6b20b2f8-0bad-47e3-89e7-84916d292e5c",
   "metadata": {},
   "outputs": [],
   "source": [
    "svm = SVR(C =  0.1,kernel = \"rbf\")\n",
    "scl_mm = MinMaxScaler()\n",
    "scl_std = StandardScaler()\n",
    "pipe = Pipeline([(\"Scl\",None),(\"SVM\",svm)])\n",
    "params = {\"SVM__C\":np.linspace(0.001,5,5),\"Scl\":[scl_mm,scl_std,None],\"SVM__gamma\":np.linspace(0.001,5,5),\"SVM__epsilon\":np.linspace(0.001,5,5)}\n",
    "kfold = KFold(n_splits =5,shuffle = True, random_state = 24)\n",
    "gcv_rbf = GridSearchCV(pipe,param_grid = params,cv=kfold, scoring=\"r2\")\n",
    "gcv_rbf.fit(X,y)"
   ]
  },
  {
   "cell_type": "code",
   "execution_count": null,
   "id": "95fef46b-1f51-4867-96db-bc4fc4a5f506",
   "metadata": {},
   "outputs": [],
   "source": [
    "print(gcv_rbf.best_params_)\n",
    "print(gcv_rbf.best_score_)"
   ]
  }
 ],
 "metadata": {
  "kernelspec": {
   "display_name": "Python 3 (ipykernel)",
   "language": "python",
   "name": "python3"
  },
  "language_info": {
   "codemirror_mode": {
    "name": "ipython",
    "version": 3
   },
   "file_extension": ".py",
   "mimetype": "text/x-python",
   "name": "python",
   "nbconvert_exporter": "python",
   "pygments_lexer": "ipython3",
   "version": "3.11.8"
  }
 },
 "nbformat": 4,
 "nbformat_minor": 5
}
