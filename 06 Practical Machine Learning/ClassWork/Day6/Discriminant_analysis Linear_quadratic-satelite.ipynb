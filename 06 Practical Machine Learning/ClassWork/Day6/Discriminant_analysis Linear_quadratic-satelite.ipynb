{
 "cells": [
  {
   "cell_type": "code",
   "execution_count": 1,
   "id": "9bff091c-6d27-43c2-822d-b5b682b377f0",
   "metadata": {},
   "outputs": [],
   "source": [
    "import pandas as pd\n",
    "import numpy as np\n",
    "from sklearn.model_selection import GridSearchCV, train_test_split, StratifiedKFold, cross_val_score\n",
    "from sklearn.preprocessing import LabelEncoder\n",
    "from sklearn.metrics import confusion_matrix, accuracy_score, log_loss , classification_report\n",
    "from sklearn.discriminant_analysis import LinearDiscriminantAnalysis, QuadraticDiscriminantAnalysis"
   ]
  },
  {
   "cell_type": "code",
   "execution_count": 6,
   "id": "df0b339c-f196-48b1-bdd5-000deaa1462b",
   "metadata": {},
   "outputs": [],
   "source": [
    "satellite = pd.read_csv(r\"C:\\Users\\Administrator.DAI-PC2\\Downloads\\Shubham\\Practical Machine Learning\\ClassWork\\Cases\\Satellite Imaging\\Satellite.csv\",sep =\";\" )\n",
    "le= LabelEncoder()\n",
    "X = satellite.iloc[:,:-1]\n",
    "y = le.fit_transform(satellite.iloc[:,-1])"
   ]
  },
  {
   "cell_type": "code",
   "execution_count": 11,
   "id": "e4086418-ae93-453f-a820-5d97e4bb90c7",
   "metadata": {},
   "outputs": [],
   "source": [
    "X_train,X_test,y_train,y_test = train_test_split(X,y,test_size=0.3,random_state=24,stratify=y)"
   ]
  },
  {
   "cell_type": "code",
   "execution_count": 12,
   "id": "fac34fa6-9904-4f4e-a273-7095859da519",
   "metadata": {},
   "outputs": [],
   "source": [
    "## Linear Discriminant Analysis"
   ]
  },
  {
   "cell_type": "code",
   "execution_count": 13,
   "id": "5821a51e-5b48-4289-8880-ca8a27ebeb8c",
   "metadata": {},
   "outputs": [
    {
     "name": "stdout",
     "output_type": "stream",
     "text": [
      "0.8296219575349559\n",
      "0.5367082791863953\n"
     ]
    }
   ],
   "source": [
    "lda = LinearDiscriminantAnalysis()\n",
    "lda.fit(X_train,y_train)\n",
    "y_pred = lda.predict(X_test)\n",
    "print(accuracy_score(y_test, y_pred))\n",
    "y_pred_proba = lda.predict_proba(X_test)\n",
    "print(log_loss(y_test, y_pred_proba))"
   ]
  },
  {
   "cell_type": "code",
   "execution_count": 14,
   "id": "2a648ff7-bf9b-427f-bd40-2925724b5add",
   "metadata": {},
   "outputs": [],
   "source": [
    "## Quadratic Discriminant Analysis"
   ]
  },
  {
   "cell_type": "code",
   "execution_count": 15,
   "id": "a2ee1e2f-0829-49e9-9161-90175e3c81e6",
   "metadata": {},
   "outputs": [
    {
     "name": "stdout",
     "output_type": "stream",
     "text": [
      "0.8508544795442776\n",
      "0.9634636510805076\n"
     ]
    }
   ],
   "source": [
    "qda = QuadraticDiscriminantAnalysis()\n",
    "qda.fit(X_train,y_train)\n",
    "y_pred = qda.predict(X_test)\n",
    "print(accuracy_score(y_test, y_pred))\n",
    "y_pred_proba = qda.predict_proba(X_test)\n",
    "print(log_loss(y_test, y_pred_proba))"
   ]
  },
  {
   "cell_type": "code",
   "execution_count": 16,
   "id": "864f866d-bbea-4c0e-bf86-0ec4e9641bba",
   "metadata": {},
   "outputs": [],
   "source": [
    "## Cross_val_score with Linear Discriminant Analysis"
   ]
  },
  {
   "cell_type": "code",
   "execution_count": 17,
   "id": "8a6c978b-f862-4fab-b013-8179bd9e1bf6",
   "metadata": {},
   "outputs": [
    {
     "name": "stdout",
     "output_type": "stream",
     "text": [
      "-0.5976798676874007\n"
     ]
    }
   ],
   "source": [
    "kfold = StratifiedKFold (n_splits = 5, shuffle = True, random_state = 24)\n",
    "results = cross_val_score(lda, X,y,cv = kfold,scoring='neg_log_loss')\n",
    "print(results.mean())"
   ]
  },
  {
   "cell_type": "code",
   "execution_count": 18,
   "id": "ff8aa57d-eb45-4a10-b37d-cd870682014c",
   "metadata": {},
   "outputs": [],
   "source": [
    "## Cross_val_score with Quadratic Discriminant Analysis"
   ]
  },
  {
   "cell_type": "code",
   "execution_count": 19,
   "id": "e06638ce-b0ab-48c3-825a-9320eeb210aa",
   "metadata": {},
   "outputs": [
    {
     "name": "stdout",
     "output_type": "stream",
     "text": [
      "-0.9230942898246246\n"
     ]
    }
   ],
   "source": [
    "kfold = StratifiedKFold (n_splits = 5, shuffle = True, random_state = 24)\n",
    "results = cross_val_score(qda, X,y,cv = kfold,scoring='neg_log_loss')\n",
    "print(results.mean())"
   ]
  },
  {
   "cell_type": "code",
   "execution_count": null,
   "id": "81851b67-4b34-4b88-8c70-2c0cce9ce9ae",
   "metadata": {},
   "outputs": [],
   "source": []
  }
 ],
 "metadata": {
  "kernelspec": {
   "display_name": "Python 3 (ipykernel)",
   "language": "python",
   "name": "python3"
  },
  "language_info": {
   "codemirror_mode": {
    "name": "ipython",
    "version": 3
   },
   "file_extension": ".py",
   "mimetype": "text/x-python",
   "name": "python",
   "nbconvert_exporter": "python",
   "pygments_lexer": "ipython3",
   "version": "3.11.8"
  }
 },
 "nbformat": 4,
 "nbformat_minor": 5
}
