{
 "cells": [
  {
   "cell_type": "code",
   "execution_count": 1,
   "id": "99af678e-6225-4777-8a53-e03020cf889a",
   "metadata": {},
   "outputs": [],
   "source": [
    "import pandas as pd\n",
    "import numpy as np\n",
    "from sklearn.linear_model import LogisticRegression\n",
    "from sklearn.ensemble import RandomForestClassifier, StackingClassifier\n",
    "from sklearn.svm import SVC\n",
    "from sklearn.tree import DecisionTreeClassifier\n",
    "from sklearn.preprocessing import LabelEncoder\n",
    "from sklearn.model_selection import GridSearchCV, StratifiedKFold, train_test_split\n",
    "from sklearn.metrics import accuracy_score, log_loss"
   ]
  },
  {
   "cell_type": "code",
   "execution_count": 2,
   "id": "e4a3a4e4-7d39-4c23-88d6-5a5511c1e65e",
   "metadata": {},
   "outputs": [],
   "source": [
    "kyp = pd.read_csv(r\"C:\\Users\\Administrator.DAI-PC2\\Downloads\\Shubham\\Practical Machine Learning\\ClassWork\\Cases\\Kyphosis\\Kyphosis.csv\")\n",
    "le = LabelEncoder()\n",
    "y = le.fit_transform(kyp[\"Kyphosis\"])\n",
    "X = kyp.drop('Kyphosis',axis=1)"
   ]
  },
  {
   "cell_type": "code",
   "execution_count": 3,
   "id": "6dc325b4-8a15-4862-8887-b2c4f58abe87",
   "metadata": {},
   "outputs": [],
   "source": [
    "X_train, X_test, y_train, y_test = train_test_split(X, y,test_size = 0.3, random_state=24,stratify =y)"
   ]
  },
  {
   "cell_type": "code",
   "execution_count": null,
   "id": "b88990eb-c174-4222-a637-bf385f30abb7",
   "metadata": {},
   "outputs": [],
   "source": [
    "## Train_test_split without X_train in final estimator"
   ]
  },
  {
   "cell_type": "code",
   "execution_count": 4,
   "id": "a0f620d6-9426-44e5-b7c8-e4477567579f",
   "metadata": {},
   "outputs": [],
   "source": [
    "lr = LogisticRegression()\n",
    "svm = SVC(kernel = 'linear',probability = True, random_state=24)\n",
    "dtc = DecisionTreeClassifier(random_state=24)\n",
    "rf = RandomForestClassifier(random_state=24)\n",
    "stack = StackingClassifier([('LR',lr),('SVM',svm),('TREE',dtc)],final_estimator=rf)"
   ]
  },
  {
   "cell_type": "code",
   "execution_count": 5,
   "id": "ac01394d-e677-4438-86a3-ae708bd935b5",
   "metadata": {},
   "outputs": [
    {
     "name": "stdout",
     "output_type": "stream",
     "text": [
      "accuracy =  0.72\n",
      "log_loss =  2.001191391953967\n"
     ]
    }
   ],
   "source": [
    "stack.fit(X_train,y_train)\n",
    "\n",
    "y_pred  = stack.predict(X_test)\n",
    "print(\"accuracy = \", accuracy_score(y_test,y_pred))\n",
    "\n",
    "y_pred_prob = stack.predict_proba(X_test)\n",
    "print(\"log_loss = \", log_loss(y_test,y_pred_prob))"
   ]
  },
  {
   "cell_type": "code",
   "execution_count": null,
   "id": "0625ba19-cf46-471e-bc8e-16d6964de71c",
   "metadata": {},
   "outputs": [],
   "source": [
    "## Train_test_split with X_train in final estimator"
   ]
  },
  {
   "cell_type": "code",
   "execution_count": 6,
   "id": "7e652200-62a4-4fb5-bc8f-12d4607be667",
   "metadata": {},
   "outputs": [],
   "source": [
    "lr = LogisticRegression()\n",
    "svm = SVC(kernel = 'linear',probability = True, random_state=24)\n",
    "dtc = DecisionTreeClassifier(random_state=24)\n",
    "rf = RandomForestClassifier(random_state=24)\n",
    "stack = StackingClassifier([('LR',lr),('SVM',svm),('TREE',dtc)],final_estimator=rf,passthrough=True)"
   ]
  },
  {
   "cell_type": "code",
   "execution_count": 7,
   "id": "4739defc-9e6d-41e8-b9af-1794e2515e24",
   "metadata": {},
   "outputs": [
    {
     "name": "stdout",
     "output_type": "stream",
     "text": [
      "accuracy =  0.76\n",
      "log_loss =  1.8078240247569928\n"
     ]
    }
   ],
   "source": [
    "stack.fit(X_train,y_train)\n",
    "\n",
    "y_pred  = stack.predict(X_test)\n",
    "print(\"accuracy = \", accuracy_score(y_test,y_pred))\n",
    "\n",
    "y_pred_prob = stack.predict_proba(X_test)\n",
    "print(\"log_loss = \", log_loss(y_test,y_pred_prob))"
   ]
  },
  {
   "cell_type": "code",
   "execution_count": null,
   "id": "433677d8-79d7-422a-85ff-b594458e3a16",
   "metadata": {},
   "outputs": [],
   "source": [
    "### Gridsearch for best estimator"
   ]
  },
  {
   "cell_type": "code",
   "execution_count": 10,
   "id": "062639f5-93ed-4855-8849-8a33f3653182",
   "metadata": {},
   "outputs": [
    {
     "data": {
      "text/plain": [
       "{'cv': None,\n",
       " 'estimators': [('LR', LogisticRegression()),\n",
       "  ('SVM', SVC(kernel='linear', probability=True, random_state=24)),\n",
       "  ('TREE', DecisionTreeClassifier(random_state=24))],\n",
       " 'final_estimator__bootstrap': True,\n",
       " 'final_estimator__ccp_alpha': 0.0,\n",
       " 'final_estimator__class_weight': None,\n",
       " 'final_estimator__criterion': 'gini',\n",
       " 'final_estimator__max_depth': None,\n",
       " 'final_estimator__max_features': 'sqrt',\n",
       " 'final_estimator__max_leaf_nodes': None,\n",
       " 'final_estimator__max_samples': None,\n",
       " 'final_estimator__min_impurity_decrease': 0.0,\n",
       " 'final_estimator__min_samples_leaf': 1,\n",
       " 'final_estimator__min_samples_split': 2,\n",
       " 'final_estimator__min_weight_fraction_leaf': 0.0,\n",
       " 'final_estimator__monotonic_cst': None,\n",
       " 'final_estimator__n_estimators': 100,\n",
       " 'final_estimator__n_jobs': None,\n",
       " 'final_estimator__oob_score': False,\n",
       " 'final_estimator__random_state': 24,\n",
       " 'final_estimator__verbose': 0,\n",
       " 'final_estimator__warm_start': False,\n",
       " 'final_estimator': RandomForestClassifier(random_state=24),\n",
       " 'n_jobs': None,\n",
       " 'passthrough': True,\n",
       " 'stack_method': 'auto',\n",
       " 'verbose': 0,\n",
       " 'LR': LogisticRegression(),\n",
       " 'SVM': SVC(kernel='linear', probability=True, random_state=24),\n",
       " 'TREE': DecisionTreeClassifier(random_state=24),\n",
       " 'LR__C': 1.0,\n",
       " 'LR__class_weight': None,\n",
       " 'LR__dual': False,\n",
       " 'LR__fit_intercept': True,\n",
       " 'LR__intercept_scaling': 1,\n",
       " 'LR__l1_ratio': None,\n",
       " 'LR__max_iter': 100,\n",
       " 'LR__multi_class': 'auto',\n",
       " 'LR__n_jobs': None,\n",
       " 'LR__penalty': 'l2',\n",
       " 'LR__random_state': None,\n",
       " 'LR__solver': 'lbfgs',\n",
       " 'LR__tol': 0.0001,\n",
       " 'LR__verbose': 0,\n",
       " 'LR__warm_start': False,\n",
       " 'SVM__C': 1.0,\n",
       " 'SVM__break_ties': False,\n",
       " 'SVM__cache_size': 200,\n",
       " 'SVM__class_weight': None,\n",
       " 'SVM__coef0': 0.0,\n",
       " 'SVM__decision_function_shape': 'ovr',\n",
       " 'SVM__degree': 3,\n",
       " 'SVM__gamma': 'scale',\n",
       " 'SVM__kernel': 'linear',\n",
       " 'SVM__max_iter': -1,\n",
       " 'SVM__probability': True,\n",
       " 'SVM__random_state': 24,\n",
       " 'SVM__shrinking': True,\n",
       " 'SVM__tol': 0.001,\n",
       " 'SVM__verbose': False,\n",
       " 'TREE__ccp_alpha': 0.0,\n",
       " 'TREE__class_weight': None,\n",
       " 'TREE__criterion': 'gini',\n",
       " 'TREE__max_depth': None,\n",
       " 'TREE__max_features': None,\n",
       " 'TREE__max_leaf_nodes': None,\n",
       " 'TREE__min_impurity_decrease': 0.0,\n",
       " 'TREE__min_samples_leaf': 1,\n",
       " 'TREE__min_samples_split': 2,\n",
       " 'TREE__min_weight_fraction_leaf': 0.0,\n",
       " 'TREE__monotonic_cst': None,\n",
       " 'TREE__random_state': 24,\n",
       " 'TREE__splitter': 'best'}"
      ]
     },
     "execution_count": 10,
     "metadata": {},
     "output_type": "execute_result"
    }
   ],
   "source": [
    "lr = LogisticRegression()\n",
    "svm = SVC(kernel = 'linear',probability = True, random_state=24)\n",
    "dtc = DecisionTreeClassifier(random_state=24)\n",
    "rf = RandomForestClassifier(random_state=24)\n",
    "stack = StackingClassifier([('LR',lr),('SVM',svm),('TREE',dtc)],final_estimator=rf,passthrough=True)\n",
    "stack.get_params()"
   ]
  },
  {
   "cell_type": "code",
   "execution_count": 11,
   "id": "75c7292d-16eb-4bda-a8ca-17c148c66c24",
   "metadata": {},
   "outputs": [
    {
     "name": "stdout",
     "output_type": "stream",
     "text": [
      "{'LR__C': 1.5050000000000001, 'SVM__C': 0.7575000000000001, 'TREE__max_depth': 4, 'final_estimator__max_features': 3, 'passthrough': True}\n",
      "-0.41213495226387675\n"
     ]
    }
   ],
   "source": [
    "kfold = StratifiedKFold(n_splits=5,shuffle=True,random_state=24)\n",
    "params = {\"LR__C\":np.linspace(0.01,3,5),\"SVM__C\":np.linspace(0.01,3,5),\"TREE__max_depth\":[None,2,3,4],\"final_estimator__max_features\":[2,3],\"passthrough\":[False, True]}\n",
    "gcv = GridSearchCV(stack,param_grid=params,cv=kfold,scoring='neg_log_loss',n_jobs=-1)\n",
    "gcv.fit(X,y)\n",
    "print(gcv.best_params_)\n",
    "print(gcv.best_score_)"
   ]
  },
  {
   "cell_type": "code",
   "execution_count": null,
   "id": "b639c2eb-ef0c-4be7-8d77-48ca8bfc71b3",
   "metadata": {},
   "outputs": [],
   "source": []
  }
 ],
 "metadata": {
  "kernelspec": {
   "display_name": "Python 3 (ipykernel)",
   "language": "python",
   "name": "python3"
  },
  "language_info": {
   "codemirror_mode": {
    "name": "ipython",
    "version": 3
   },
   "file_extension": ".py",
   "mimetype": "text/x-python",
   "name": "python",
   "nbconvert_exporter": "python",
   "pygments_lexer": "ipython3",
   "version": "3.11.8"
  }
 },
 "nbformat": 4,
 "nbformat_minor": 5
}
