{
 "cells": [
  {
   "cell_type": "code",
   "execution_count": 10,
   "id": "99af678e-6225-4777-8a53-e03020cf889a",
   "metadata": {},
   "outputs": [],
   "source": [
    "import pandas as pd\n",
    "import numpy as np\n",
    "from sklearn.linear_model import LogisticRegression\n",
    "from xgboost import XGBClassifier\n",
    "from sklearn.preprocessing import LabelEncoder\n",
    "from sklearn.model_selection import GridSearchCV, StratifiedKFold, train_test_split\n",
    "from sklearn.tree import DecisionTreeClassifier\n",
    "from sklearn.metrics import accuracy_score, log_loss"
   ]
  },
  {
   "cell_type": "code",
   "execution_count": 11,
   "id": "e4a3a4e4-7d39-4c23-88d6-5a5511c1e65e",
   "metadata": {},
   "outputs": [],
   "source": [
    "df = pd.read_csv(r\"C:\\Users\\Administrator.DAI-PC2\\Downloads\\Shubham\\Practical Machine Learning\\ClassWork\\Cases\\Sonar\\Sonar.csv\")\n",
    "le = LabelEncoder()\n",
    "X = df.iloc[:,1:-1]\n",
    "y = le.fit_transform(df.iloc[:,-1])"
   ]
  },
  {
   "cell_type": "code",
   "execution_count": 12,
   "id": "6dc325b4-8a15-4862-8887-b2c4f58abe87",
   "metadata": {},
   "outputs": [],
   "source": [
    "X_train, X_test, y_train, y_test = train_test_split(X, y,test_size = 0.3, random_state=24,stratify =y)"
   ]
  },
  {
   "cell_type": "code",
   "execution_count": 13,
   "id": "7b025489-7f59-4cbb-9bcf-6db1b5521cc2",
   "metadata": {},
   "outputs": [],
   "source": [
    "### logistic Regression"
   ]
  },
  {
   "cell_type": "code",
   "execution_count": 14,
   "id": "ac01394d-e677-4438-86a3-ae708bd935b5",
   "metadata": {},
   "outputs": [
    {
     "name": "stdout",
     "output_type": "stream",
     "text": [
      "accuracy =  0.746031746031746\n",
      "log_loss =  0.6786741280591757\n"
     ]
    }
   ],
   "source": [
    "xgb = XGBClassifier(random_state=24)\n",
    "\n",
    "xgb.fit(X_train,y_train)\n",
    "\n",
    "y_pred  = xgb.predict(X_test)\n",
    "print(\"accuracy = \", accuracy_score(y_test,y_pred))\n",
    "\n",
    "y_pred_prob = xgb.predict_proba(X_test)\n",
    "print(\"log_loss = \", log_loss(y_test,y_pred_prob))"
   ]
  },
  {
   "cell_type": "code",
   "execution_count": 15,
   "id": "062639f5-93ed-4855-8849-8a33f3653182",
   "metadata": {},
   "outputs": [
    {
     "data": {
      "text/plain": [
       "{'objective': 'binary:logistic',\n",
       " 'base_score': None,\n",
       " 'booster': None,\n",
       " 'callbacks': None,\n",
       " 'colsample_bylevel': None,\n",
       " 'colsample_bynode': None,\n",
       " 'colsample_bytree': None,\n",
       " 'device': None,\n",
       " 'early_stopping_rounds': None,\n",
       " 'enable_categorical': False,\n",
       " 'eval_metric': None,\n",
       " 'feature_types': None,\n",
       " 'gamma': None,\n",
       " 'grow_policy': None,\n",
       " 'importance_type': None,\n",
       " 'interaction_constraints': None,\n",
       " 'learning_rate': None,\n",
       " 'max_bin': None,\n",
       " 'max_cat_threshold': None,\n",
       " 'max_cat_to_onehot': None,\n",
       " 'max_delta_step': None,\n",
       " 'max_depth': None,\n",
       " 'max_leaves': None,\n",
       " 'min_child_weight': None,\n",
       " 'missing': nan,\n",
       " 'monotone_constraints': None,\n",
       " 'multi_strategy': None,\n",
       " 'n_estimators': None,\n",
       " 'n_jobs': None,\n",
       " 'num_parallel_tree': None,\n",
       " 'random_state': 24,\n",
       " 'reg_alpha': None,\n",
       " 'reg_lambda': None,\n",
       " 'sampling_method': None,\n",
       " 'scale_pos_weight': None,\n",
       " 'subsample': None,\n",
       " 'tree_method': None,\n",
       " 'validate_parameters': None,\n",
       " 'verbosity': None}"
      ]
     },
     "execution_count": 15,
     "metadata": {},
     "output_type": "execute_result"
    }
   ],
   "source": [
    "xgb.get_params()"
   ]
  },
  {
   "cell_type": "code",
   "execution_count": 16,
   "id": "433677d8-79d7-422a-85ff-b594458e3a16",
   "metadata": {},
   "outputs": [],
   "source": [
    "### Gridsearch for best estimator"
   ]
  },
  {
   "cell_type": "code",
   "execution_count": 17,
   "id": "75c7292d-16eb-4bda-a8ca-17c148c66c24",
   "metadata": {},
   "outputs": [
    {
     "name": "stdout",
     "output_type": "stream",
     "text": [
      "{'learning_rate': 0.20077777777777778, 'max_depth': 2, 'n_estimators': 50}\n",
      "-0.37847411779029516\n"
     ]
    }
   ],
   "source": [
    "xgb = XGBClassifier(random_state=24)\n",
    "kfold = StratifiedKFold(n_splits=5,shuffle=True,random_state=24)\n",
    "params = {\"learning_rate\":np.linspace(0.001,0.9,10),\"max_depth\":[None,2,3,4],\"n_estimators\":[25,50,100]}\n",
    "gcv = GridSearchCV(xgb,param_grid=params,cv=kfold,scoring='neg_log_loss',n_jobs=-1)\n",
    "gcv.fit(X,y)\n",
    "print(gcv.best_params_)\n",
    "print(gcv.best_score_)"
   ]
  },
  {
   "cell_type": "code",
   "execution_count": null,
   "id": "b639c2eb-ef0c-4be7-8d77-48ca8bfc71b3",
   "metadata": {},
   "outputs": [],
   "source": []
  }
 ],
 "metadata": {
  "kernelspec": {
   "display_name": "Python 3 (ipykernel)",
   "language": "python",
   "name": "python3"
  },
  "language_info": {
   "codemirror_mode": {
    "name": "ipython",
    "version": 3
   },
   "file_extension": ".py",
   "mimetype": "text/x-python",
   "name": "python",
   "nbconvert_exporter": "python",
   "pygments_lexer": "ipython3",
   "version": "3.11.8"
  }
 },
 "nbformat": 4,
 "nbformat_minor": 5
}
