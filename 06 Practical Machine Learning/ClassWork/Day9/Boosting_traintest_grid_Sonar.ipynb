{
 "cells": [
  {
   "cell_type": "code",
   "execution_count": 9,
   "id": "99af678e-6225-4777-8a53-e03020cf889a",
   "metadata": {},
   "outputs": [],
   "source": [
    "import pandas as pd\n",
    "import numpy as np\n",
    "from sklearn.linear_model import LogisticRegression\n",
    "from sklearn.ensemble import GradientBoostingClassifier\n",
    "from sklearn.preprocessing import LabelEncoder\n",
    "from sklearn.model_selection import GridSearchCV, StratifiedKFold, train_test_split\n",
    "from sklearn.tree import DecisionTreeClassifier\n",
    "from sklearn.metrics import accuracy_score, log_loss"
   ]
  },
  {
   "cell_type": "code",
   "execution_count": 10,
   "id": "e4a3a4e4-7d39-4c23-88d6-5a5511c1e65e",
   "metadata": {},
   "outputs": [],
   "source": [
    "df = pd.read_csv(r\"C:\\Users\\Administrator.DAI-PC2\\Downloads\\Shubham\\Practical Machine Learning\\ClassWork\\Cases\\Sonar\\Sonar.csv\")\n",
    "le = LabelEncoder()\n",
    "X = df.iloc[:,1:-1]\n",
    "y = le.fit_transform(df.iloc[:,-1])"
   ]
  },
  {
   "cell_type": "code",
   "execution_count": 11,
   "id": "6dc325b4-8a15-4862-8887-b2c4f58abe87",
   "metadata": {},
   "outputs": [],
   "source": [
    "X_train, X_test, y_train, y_test = train_test_split(X, y,test_size = 0.3, random_state=24,stratify =y)"
   ]
  },
  {
   "cell_type": "code",
   "execution_count": 12,
   "id": "7b025489-7f59-4cbb-9bcf-6db1b5521cc2",
   "metadata": {},
   "outputs": [],
   "source": [
    "### logistic Regression"
   ]
  },
  {
   "cell_type": "code",
   "execution_count": 13,
   "id": "ac01394d-e677-4438-86a3-ae708bd935b5",
   "metadata": {},
   "outputs": [
    {
     "name": "stdout",
     "output_type": "stream",
     "text": [
      "accuracy =  0.746031746031746\n",
      "log_loss =  0.6659540527020502\n"
     ]
    }
   ],
   "source": [
    "gbm = GradientBoostingClassifier(random_state=24)\n",
    "\n",
    "gbm.fit(X_train,y_train)\n",
    "\n",
    "y_pred  = gbm.predict(X_test)\n",
    "print(\"accuracy = \", accuracy_score(y_test,y_pred))\n",
    "\n",
    "y_pred_prob = gbm.predict_proba(X_test)\n",
    "print(\"log_loss = \", log_loss(y_test,y_pred_prob))"
   ]
  },
  {
   "cell_type": "code",
   "execution_count": 14,
   "id": "062639f5-93ed-4855-8849-8a33f3653182",
   "metadata": {},
   "outputs": [
    {
     "data": {
      "text/plain": [
       "{'ccp_alpha': 0.0,\n",
       " 'criterion': 'friedman_mse',\n",
       " 'init': None,\n",
       " 'learning_rate': 0.1,\n",
       " 'loss': 'log_loss',\n",
       " 'max_depth': 3,\n",
       " 'max_features': None,\n",
       " 'max_leaf_nodes': None,\n",
       " 'min_impurity_decrease': 0.0,\n",
       " 'min_samples_leaf': 1,\n",
       " 'min_samples_split': 2,\n",
       " 'min_weight_fraction_leaf': 0.0,\n",
       " 'n_estimators': 100,\n",
       " 'n_iter_no_change': None,\n",
       " 'random_state': 24,\n",
       " 'subsample': 1.0,\n",
       " 'tol': 0.0001,\n",
       " 'validation_fraction': 0.1,\n",
       " 'verbose': 0,\n",
       " 'warm_start': False}"
      ]
     },
     "execution_count": 14,
     "metadata": {},
     "output_type": "execute_result"
    }
   ],
   "source": [
    "gbm.get_params()"
   ]
  },
  {
   "cell_type": "code",
   "execution_count": 15,
   "id": "433677d8-79d7-422a-85ff-b594458e3a16",
   "metadata": {},
   "outputs": [],
   "source": [
    "### Gridsearch for best estimator"
   ]
  },
  {
   "cell_type": "code",
   "execution_count": 16,
   "id": "75c7292d-16eb-4bda-a8ca-17c148c66c24",
   "metadata": {},
   "outputs": [
    {
     "name": "stdout",
     "output_type": "stream",
     "text": [
      "{'learning_rate': 0.20077777777777778, 'max_depth': 2, 'n_estimators': 50}\n",
      "-0.38230222934914554\n"
     ]
    }
   ],
   "source": [
    "gbm = GradientBoostingClassifier(random_state=24)\n",
    "kfold = StratifiedKFold(n_splits=5,shuffle=True,random_state=24)\n",
    "params = {\"learning_rate\":np.linspace(0.001,0.9,10),\"max_depth\":[None,2,3,4],\"n_estimators\":[25,50,100]}\n",
    "gcv = GridSearchCV(gbm,param_grid=params,cv=kfold,scoring='neg_log_loss',n_jobs=-1)\n",
    "gcv.fit(X,y)\n",
    "print(gcv.best_params_)\n",
    "print(gcv.best_score_)"
   ]
  },
  {
   "cell_type": "code",
   "execution_count": null,
   "id": "b639c2eb-ef0c-4be7-8d77-48ca8bfc71b3",
   "metadata": {},
   "outputs": [],
   "source": []
  }
 ],
 "metadata": {
  "kernelspec": {
   "display_name": "Python 3 (ipykernel)",
   "language": "python",
   "name": "python3"
  },
  "language_info": {
   "codemirror_mode": {
    "name": "ipython",
    "version": 3
   },
   "file_extension": ".py",
   "mimetype": "text/x-python",
   "name": "python",
   "nbconvert_exporter": "python",
   "pygments_lexer": "ipython3",
   "version": "3.11.8"
  }
 },
 "nbformat": 4,
 "nbformat_minor": 5
}
