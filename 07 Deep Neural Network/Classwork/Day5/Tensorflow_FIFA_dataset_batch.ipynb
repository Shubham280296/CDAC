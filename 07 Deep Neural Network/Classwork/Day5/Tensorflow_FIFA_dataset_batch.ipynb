{
 "cells": [
  {
   "cell_type": "code",
   "execution_count": 1,
   "metadata": {},
   "outputs": [],
   "source": [
    "#!/usr/bin/env python\n",
    "# -*- coding: utf-8 -*-"
   ]
  },
  {
   "cell_type": "markdown",
   "metadata": {},
   "source": [
    "# Deep Neural Networks \n",
    "## Session 08c\n",
    "\n",
    "## Working with Tensorflow \n",
    "- One hidden layer\n",
    "- ${Swish}$ activation function\n",
    "- Adam\n",
    "- Multi-class output\n",
    "- FIFA dataset\n",
    "- use of datasets\n",
    "\n",
    "<img src='../../prasami_images/prasami_color_tutorials_small.png' width='400' alt=\"By Pramod Sharma : pramod.sharma@prasami.com\" align=\"left\"/>"
   ]
  },
  {
   "cell_type": "code",
   "execution_count": 2,
   "metadata": {},
   "outputs": [
    {
     "name": "stdout",
     "output_type": "stream",
     "text": [
      "WARNING:tensorflow:From C:\\Users\\Administrator.DAI-PC2\\anaconda3\\Lib\\site-packages\\keras\\src\\losses.py:2976: The name tf.losses.sparse_softmax_cross_entropy is deprecated. Please use tf.compat.v1.losses.sparse_softmax_cross_entropy instead.\n",
      "\n"
     ]
    }
   ],
   "source": [
    "###-----------------\n",
    "### Import Libraries\n",
    "###-----------------\n",
    "\n",
    "import os\n",
    "import sys\n",
    "import numpy as np\n",
    "import pandas as pd\n",
    "\n",
    "import matplotlib.pyplot as plt\n",
    "from time import time\n",
    "from sklearn.model_selection import train_test_split\n",
    "from sklearn.metrics import accuracy_score, confusion_matrix, classification_report, ConfusionMatrixDisplay\n",
    "from sklearn.preprocessing import StandardScaler\n",
    "\n",
    "import tensorflow as tf\n",
    "\n",
    "from utils.helper import fn_plot_tf_hist, fn_plot_confusion_matrix"
   ]
  },
  {
   "cell_type": "code",
   "execution_count": 3,
   "metadata": {},
   "outputs": [],
   "source": [
    "###----------------------\n",
    "### Some basic parameters\n",
    "###----------------------\n",
    "\n",
    "inpDir = '../..\\Classwork/input'\n",
    "outDir = './output'\n",
    "modelDir = './models'\n",
    "subDir = 'fifa_2019'\n",
    "\n",
    "\n",
    "RANDOM_STATE = 24 # for initialization ----- REMEMBER: to remove at the time of promotion to production\n",
    "np.random.seed(RANDOM_STATE) # Set Random Seed for reproducible  results\n",
    "tf.random.set_seed(RANDOM_STATE) # setting for Tensorflow as well\n",
    "\n",
    "\n",
    "EPOCHS = 100 # number of epochs\n",
    "ALPHA = 0.1 # learning rate\n",
    "\n",
    "BATCH_SIZE = 256\n",
    "\n",
    "TEST_SIZE = 0.2\n",
    "\n",
    "# Set parameters for decoration of plots\n",
    "params = {'legend.fontsize' : 'large',\n",
    "          'figure.figsize'  : (15,15),\n",
    "          'axes.labelsize'  : 'x-large',\n",
    "          'axes.titlesize'  :'x-large',\n",
    "          'xtick.labelsize' :'large',\n",
    "          'ytick.labelsize' :'large',\n",
    "         }\n",
    "\n",
    "CMAP = plt.cm.coolwarm\n",
    "\n",
    "plt.rcParams.update(params) # update rcParams\n",
    "\n",
    "plt.style.use('seaborn-v0_8-darkgrid') # plt.style.use('ggplot')"
   ]
  },
  {
   "cell_type": "markdown",
   "metadata": {},
   "source": [
    "## Basic Hygiene"
   ]
  },
  {
   "cell_type": "code",
   "execution_count": 4,
   "metadata": {},
   "outputs": [],
   "source": [
    "# Check if all directories are present\n",
    "if not os.path.exists(os.path.join(outDir)):\n",
    "    os.makedirs(os.path.join(outDir))\n",
    "    print ('Created {} directory'.format(outDir))\n",
    "\n",
    "if not os.path.exists(os.path.join(modelDir, subDir)):\n",
    "    os.makedirs(os.path.join(modelDir, subDir))\n",
    "    print ('Created {} directory'.format(os.path.join(modelDir, subDir)))\n",
    "    "
   ]
  },
  {
   "cell_type": "code",
   "execution_count": 5,
   "metadata": {},
   "outputs": [],
   "source": [
    "### Settings so that Tensorflow can not Hog all the GPU memory\n",
    "physical_devices = tf.config.list_physical_devices('GPU') \n",
    "\n",
    "if len(physical_devices) > 0:\n",
    "    tf.config.experimental.set_memory_growth(physical_devices[0], True)"
   ]
  },
  {
   "cell_type": "markdown",
   "metadata": {},
   "source": [
    "## Read FIFA 2019 data set"
   ]
  },
  {
   "cell_type": "code",
   "execution_count": 6,
   "metadata": {},
   "outputs": [
    {
     "data": {
      "text/plain": [
       "(18207, 89)"
      ]
     },
     "execution_count": 6,
     "metadata": {},
     "output_type": "execute_result"
    }
   ],
   "source": [
    "data_df = pd.read_csv(os.path.join(inpDir, 'fifa_2019.csv'))\n",
    "data_df.shape"
   ]
  },
  {
   "cell_type": "code",
   "execution_count": 7,
   "metadata": {},
   "outputs": [
    {
     "data": {
      "text/html": [
       "<div>\n",
       "<style scoped>\n",
       "    .dataframe tbody tr th:only-of-type {\n",
       "        vertical-align: middle;\n",
       "    }\n",
       "\n",
       "    .dataframe tbody tr th {\n",
       "        vertical-align: top;\n",
       "    }\n",
       "\n",
       "    .dataframe thead th {\n",
       "        text-align: right;\n",
       "    }\n",
       "</style>\n",
       "<table border=\"1\" class=\"dataframe\">\n",
       "  <thead>\n",
       "    <tr style=\"text-align: right;\">\n",
       "      <th></th>\n",
       "      <th>Unnamed: 0</th>\n",
       "      <th>ID</th>\n",
       "      <th>Name</th>\n",
       "      <th>Age</th>\n",
       "      <th>Photo</th>\n",
       "      <th>Nationality</th>\n",
       "      <th>Flag</th>\n",
       "      <th>Overall</th>\n",
       "      <th>Potential</th>\n",
       "      <th>Club</th>\n",
       "      <th>...</th>\n",
       "      <th>Composure</th>\n",
       "      <th>Marking</th>\n",
       "      <th>StandingTackle</th>\n",
       "      <th>SlidingTackle</th>\n",
       "      <th>GKDiving</th>\n",
       "      <th>GKHandling</th>\n",
       "      <th>GKKicking</th>\n",
       "      <th>GKPositioning</th>\n",
       "      <th>GKReflexes</th>\n",
       "      <th>Release Clause</th>\n",
       "    </tr>\n",
       "  </thead>\n",
       "  <tbody>\n",
       "    <tr>\n",
       "      <th>0</th>\n",
       "      <td>0</td>\n",
       "      <td>158023</td>\n",
       "      <td>L. Messi</td>\n",
       "      <td>31</td>\n",
       "      <td>https://cdn.sofifa.org/players/4/19/158023.png</td>\n",
       "      <td>Argentina</td>\n",
       "      <td>https://cdn.sofifa.org/flags/52.png</td>\n",
       "      <td>94</td>\n",
       "      <td>94</td>\n",
       "      <td>FC Barcelona</td>\n",
       "      <td>...</td>\n",
       "      <td>96.0</td>\n",
       "      <td>33.0</td>\n",
       "      <td>28.0</td>\n",
       "      <td>26.0</td>\n",
       "      <td>6.0</td>\n",
       "      <td>11.0</td>\n",
       "      <td>15.0</td>\n",
       "      <td>14.0</td>\n",
       "      <td>8.0</td>\n",
       "      <td>€226.5M</td>\n",
       "    </tr>\n",
       "    <tr>\n",
       "      <th>1</th>\n",
       "      <td>1</td>\n",
       "      <td>20801</td>\n",
       "      <td>Cristiano Ronaldo</td>\n",
       "      <td>33</td>\n",
       "      <td>https://cdn.sofifa.org/players/4/19/20801.png</td>\n",
       "      <td>Portugal</td>\n",
       "      <td>https://cdn.sofifa.org/flags/38.png</td>\n",
       "      <td>94</td>\n",
       "      <td>94</td>\n",
       "      <td>Juventus</td>\n",
       "      <td>...</td>\n",
       "      <td>95.0</td>\n",
       "      <td>28.0</td>\n",
       "      <td>31.0</td>\n",
       "      <td>23.0</td>\n",
       "      <td>7.0</td>\n",
       "      <td>11.0</td>\n",
       "      <td>15.0</td>\n",
       "      <td>14.0</td>\n",
       "      <td>11.0</td>\n",
       "      <td>€127.1M</td>\n",
       "    </tr>\n",
       "    <tr>\n",
       "      <th>2</th>\n",
       "      <td>2</td>\n",
       "      <td>190871</td>\n",
       "      <td>Neymar Jr</td>\n",
       "      <td>26</td>\n",
       "      <td>https://cdn.sofifa.org/players/4/19/190871.png</td>\n",
       "      <td>Brazil</td>\n",
       "      <td>https://cdn.sofifa.org/flags/54.png</td>\n",
       "      <td>92</td>\n",
       "      <td>93</td>\n",
       "      <td>Paris Saint-Germain</td>\n",
       "      <td>...</td>\n",
       "      <td>94.0</td>\n",
       "      <td>27.0</td>\n",
       "      <td>24.0</td>\n",
       "      <td>33.0</td>\n",
       "      <td>9.0</td>\n",
       "      <td>9.0</td>\n",
       "      <td>15.0</td>\n",
       "      <td>15.0</td>\n",
       "      <td>11.0</td>\n",
       "      <td>€228.1M</td>\n",
       "    </tr>\n",
       "    <tr>\n",
       "      <th>3</th>\n",
       "      <td>3</td>\n",
       "      <td>193080</td>\n",
       "      <td>De Gea</td>\n",
       "      <td>27</td>\n",
       "      <td>https://cdn.sofifa.org/players/4/19/193080.png</td>\n",
       "      <td>Spain</td>\n",
       "      <td>https://cdn.sofifa.org/flags/45.png</td>\n",
       "      <td>91</td>\n",
       "      <td>93</td>\n",
       "      <td>Manchester United</td>\n",
       "      <td>...</td>\n",
       "      <td>68.0</td>\n",
       "      <td>15.0</td>\n",
       "      <td>21.0</td>\n",
       "      <td>13.0</td>\n",
       "      <td>90.0</td>\n",
       "      <td>85.0</td>\n",
       "      <td>87.0</td>\n",
       "      <td>88.0</td>\n",
       "      <td>94.0</td>\n",
       "      <td>€138.6M</td>\n",
       "    </tr>\n",
       "    <tr>\n",
       "      <th>4</th>\n",
       "      <td>4</td>\n",
       "      <td>192985</td>\n",
       "      <td>K. De Bruyne</td>\n",
       "      <td>27</td>\n",
       "      <td>https://cdn.sofifa.org/players/4/19/192985.png</td>\n",
       "      <td>Belgium</td>\n",
       "      <td>https://cdn.sofifa.org/flags/7.png</td>\n",
       "      <td>91</td>\n",
       "      <td>92</td>\n",
       "      <td>Manchester City</td>\n",
       "      <td>...</td>\n",
       "      <td>88.0</td>\n",
       "      <td>68.0</td>\n",
       "      <td>58.0</td>\n",
       "      <td>51.0</td>\n",
       "      <td>15.0</td>\n",
       "      <td>13.0</td>\n",
       "      <td>5.0</td>\n",
       "      <td>10.0</td>\n",
       "      <td>13.0</td>\n",
       "      <td>€196.4M</td>\n",
       "    </tr>\n",
       "  </tbody>\n",
       "</table>\n",
       "<p>5 rows × 89 columns</p>\n",
       "</div>"
      ],
      "text/plain": [
       "   Unnamed: 0      ID               Name  Age  \\\n",
       "0           0  158023           L. Messi   31   \n",
       "1           1   20801  Cristiano Ronaldo   33   \n",
       "2           2  190871          Neymar Jr   26   \n",
       "3           3  193080             De Gea   27   \n",
       "4           4  192985       K. De Bruyne   27   \n",
       "\n",
       "                                            Photo Nationality  \\\n",
       "0  https://cdn.sofifa.org/players/4/19/158023.png   Argentina   \n",
       "1   https://cdn.sofifa.org/players/4/19/20801.png    Portugal   \n",
       "2  https://cdn.sofifa.org/players/4/19/190871.png      Brazil   \n",
       "3  https://cdn.sofifa.org/players/4/19/193080.png       Spain   \n",
       "4  https://cdn.sofifa.org/players/4/19/192985.png     Belgium   \n",
       "\n",
       "                                  Flag  Overall  Potential  \\\n",
       "0  https://cdn.sofifa.org/flags/52.png       94         94   \n",
       "1  https://cdn.sofifa.org/flags/38.png       94         94   \n",
       "2  https://cdn.sofifa.org/flags/54.png       92         93   \n",
       "3  https://cdn.sofifa.org/flags/45.png       91         93   \n",
       "4   https://cdn.sofifa.org/flags/7.png       91         92   \n",
       "\n",
       "                  Club  ... Composure Marking StandingTackle  SlidingTackle  \\\n",
       "0         FC Barcelona  ...      96.0    33.0           28.0           26.0   \n",
       "1             Juventus  ...      95.0    28.0           31.0           23.0   \n",
       "2  Paris Saint-Germain  ...      94.0    27.0           24.0           33.0   \n",
       "3    Manchester United  ...      68.0    15.0           21.0           13.0   \n",
       "4      Manchester City  ...      88.0    68.0           58.0           51.0   \n",
       "\n",
       "  GKDiving  GKHandling  GKKicking  GKPositioning GKReflexes Release Clause  \n",
       "0      6.0        11.0       15.0           14.0        8.0        €226.5M  \n",
       "1      7.0        11.0       15.0           14.0       11.0        €127.1M  \n",
       "2      9.0         9.0       15.0           15.0       11.0        €228.1M  \n",
       "3     90.0        85.0       87.0           88.0       94.0        €138.6M  \n",
       "4     15.0        13.0        5.0           10.0       13.0        €196.4M  \n",
       "\n",
       "[5 rows x 89 columns]"
      ]
     },
     "execution_count": 7,
     "metadata": {},
     "output_type": "execute_result"
    }
   ],
   "source": [
    "# removing rows with position = null\n",
    "data_df = data_df[data_df[\"Position\"].notnull()]\n",
    "data_df.head()"
   ]
  },
  {
   "cell_type": "code",
   "execution_count": 8,
   "metadata": {},
   "outputs": [
    {
     "data": {
      "text/html": [
       "<div>\n",
       "<style scoped>\n",
       "    .dataframe tbody tr th:only-of-type {\n",
       "        vertical-align: middle;\n",
       "    }\n",
       "\n",
       "    .dataframe tbody tr th {\n",
       "        vertical-align: top;\n",
       "    }\n",
       "\n",
       "    .dataframe thead th {\n",
       "        text-align: right;\n",
       "    }\n",
       "</style>\n",
       "<table border=\"1\" class=\"dataframe\">\n",
       "  <thead>\n",
       "    <tr style=\"text-align: right;\">\n",
       "      <th></th>\n",
       "      <th>Position</th>\n",
       "      <th>Finishing</th>\n",
       "      <th>HeadingAccuracy</th>\n",
       "      <th>ShortPassing</th>\n",
       "      <th>Volleys</th>\n",
       "      <th>Dribbling</th>\n",
       "      <th>Curve</th>\n",
       "      <th>FKAccuracy</th>\n",
       "      <th>LongPassing</th>\n",
       "      <th>BallControl</th>\n",
       "      <th>...</th>\n",
       "      <th>Penalties</th>\n",
       "      <th>Composure</th>\n",
       "      <th>Marking</th>\n",
       "      <th>StandingTackle</th>\n",
       "      <th>SlidingTackle</th>\n",
       "      <th>GKDiving</th>\n",
       "      <th>GKHandling</th>\n",
       "      <th>GKKicking</th>\n",
       "      <th>GKPositioning</th>\n",
       "      <th>GKReflexes</th>\n",
       "    </tr>\n",
       "  </thead>\n",
       "  <tbody>\n",
       "    <tr>\n",
       "      <th>0</th>\n",
       "      <td>RF</td>\n",
       "      <td>95.0</td>\n",
       "      <td>70.0</td>\n",
       "      <td>90.0</td>\n",
       "      <td>86.0</td>\n",
       "      <td>97.0</td>\n",
       "      <td>93.0</td>\n",
       "      <td>94.0</td>\n",
       "      <td>87.0</td>\n",
       "      <td>96.0</td>\n",
       "      <td>...</td>\n",
       "      <td>75.0</td>\n",
       "      <td>96.0</td>\n",
       "      <td>33.0</td>\n",
       "      <td>28.0</td>\n",
       "      <td>26.0</td>\n",
       "      <td>6.0</td>\n",
       "      <td>11.0</td>\n",
       "      <td>15.0</td>\n",
       "      <td>14.0</td>\n",
       "      <td>8.0</td>\n",
       "    </tr>\n",
       "    <tr>\n",
       "      <th>1</th>\n",
       "      <td>ST</td>\n",
       "      <td>94.0</td>\n",
       "      <td>89.0</td>\n",
       "      <td>81.0</td>\n",
       "      <td>87.0</td>\n",
       "      <td>88.0</td>\n",
       "      <td>81.0</td>\n",
       "      <td>76.0</td>\n",
       "      <td>77.0</td>\n",
       "      <td>94.0</td>\n",
       "      <td>...</td>\n",
       "      <td>85.0</td>\n",
       "      <td>95.0</td>\n",
       "      <td>28.0</td>\n",
       "      <td>31.0</td>\n",
       "      <td>23.0</td>\n",
       "      <td>7.0</td>\n",
       "      <td>11.0</td>\n",
       "      <td>15.0</td>\n",
       "      <td>14.0</td>\n",
       "      <td>11.0</td>\n",
       "    </tr>\n",
       "    <tr>\n",
       "      <th>2</th>\n",
       "      <td>LW</td>\n",
       "      <td>87.0</td>\n",
       "      <td>62.0</td>\n",
       "      <td>84.0</td>\n",
       "      <td>84.0</td>\n",
       "      <td>96.0</td>\n",
       "      <td>88.0</td>\n",
       "      <td>87.0</td>\n",
       "      <td>78.0</td>\n",
       "      <td>95.0</td>\n",
       "      <td>...</td>\n",
       "      <td>81.0</td>\n",
       "      <td>94.0</td>\n",
       "      <td>27.0</td>\n",
       "      <td>24.0</td>\n",
       "      <td>33.0</td>\n",
       "      <td>9.0</td>\n",
       "      <td>9.0</td>\n",
       "      <td>15.0</td>\n",
       "      <td>15.0</td>\n",
       "      <td>11.0</td>\n",
       "    </tr>\n",
       "    <tr>\n",
       "      <th>3</th>\n",
       "      <td>GK</td>\n",
       "      <td>13.0</td>\n",
       "      <td>21.0</td>\n",
       "      <td>50.0</td>\n",
       "      <td>13.0</td>\n",
       "      <td>18.0</td>\n",
       "      <td>21.0</td>\n",
       "      <td>19.0</td>\n",
       "      <td>51.0</td>\n",
       "      <td>42.0</td>\n",
       "      <td>...</td>\n",
       "      <td>40.0</td>\n",
       "      <td>68.0</td>\n",
       "      <td>15.0</td>\n",
       "      <td>21.0</td>\n",
       "      <td>13.0</td>\n",
       "      <td>90.0</td>\n",
       "      <td>85.0</td>\n",
       "      <td>87.0</td>\n",
       "      <td>88.0</td>\n",
       "      <td>94.0</td>\n",
       "    </tr>\n",
       "    <tr>\n",
       "      <th>4</th>\n",
       "      <td>RCM</td>\n",
       "      <td>82.0</td>\n",
       "      <td>55.0</td>\n",
       "      <td>92.0</td>\n",
       "      <td>82.0</td>\n",
       "      <td>86.0</td>\n",
       "      <td>85.0</td>\n",
       "      <td>83.0</td>\n",
       "      <td>91.0</td>\n",
       "      <td>91.0</td>\n",
       "      <td>...</td>\n",
       "      <td>79.0</td>\n",
       "      <td>88.0</td>\n",
       "      <td>68.0</td>\n",
       "      <td>58.0</td>\n",
       "      <td>51.0</td>\n",
       "      <td>15.0</td>\n",
       "      <td>13.0</td>\n",
       "      <td>5.0</td>\n",
       "      <td>10.0</td>\n",
       "      <td>13.0</td>\n",
       "    </tr>\n",
       "  </tbody>\n",
       "</table>\n",
       "<p>5 rows × 34 columns</p>\n",
       "</div>"
      ],
      "text/plain": [
       "  Position  Finishing  HeadingAccuracy  ShortPassing  Volleys  Dribbling  \\\n",
       "0       RF       95.0             70.0          90.0     86.0       97.0   \n",
       "1       ST       94.0             89.0          81.0     87.0       88.0   \n",
       "2       LW       87.0             62.0          84.0     84.0       96.0   \n",
       "3       GK       13.0             21.0          50.0     13.0       18.0   \n",
       "4      RCM       82.0             55.0          92.0     82.0       86.0   \n",
       "\n",
       "   Curve  FKAccuracy  LongPassing  BallControl  ...  Penalties  Composure  \\\n",
       "0   93.0        94.0         87.0         96.0  ...       75.0       96.0   \n",
       "1   81.0        76.0         77.0         94.0  ...       85.0       95.0   \n",
       "2   88.0        87.0         78.0         95.0  ...       81.0       94.0   \n",
       "3   21.0        19.0         51.0         42.0  ...       40.0       68.0   \n",
       "4   85.0        83.0         91.0         91.0  ...       79.0       88.0   \n",
       "\n",
       "   Marking  StandingTackle  SlidingTackle  GKDiving  GKHandling  GKKicking  \\\n",
       "0     33.0            28.0           26.0       6.0        11.0       15.0   \n",
       "1     28.0            31.0           23.0       7.0        11.0       15.0   \n",
       "2     27.0            24.0           33.0       9.0         9.0       15.0   \n",
       "3     15.0            21.0           13.0      90.0        85.0       87.0   \n",
       "4     68.0            58.0           51.0      15.0        13.0        5.0   \n",
       "\n",
       "   GKPositioning  GKReflexes  \n",
       "0           14.0         8.0  \n",
       "1           14.0        11.0  \n",
       "2           15.0        11.0  \n",
       "3           88.0        94.0  \n",
       "4           10.0        13.0  \n",
       "\n",
       "[5 rows x 34 columns]"
      ]
     },
     "execution_count": 8,
     "metadata": {},
     "output_type": "execute_result"
    }
   ],
   "source": [
    "# Following columns appear to be relevant for our analysis\n",
    "rel_cols = ['Position', 'Finishing', 'HeadingAccuracy', 'ShortPassing', 'Volleys', 'Dribbling',\n",
    "            'Curve', 'FKAccuracy', 'LongPassing', 'BallControl', 'Acceleration',\n",
    "            'SprintSpeed', 'Agility', 'Reactions', 'Balance', 'ShotPower',\n",
    "            'Jumping', 'Stamina', 'Strength', 'LongShots', 'Aggression',\n",
    "            'Interceptions', 'Positioning', 'Vision', 'Penalties', 'Composure',\n",
    "            'Marking', 'StandingTackle', 'SlidingTackle', 'GKDiving', 'GKHandling',\n",
    "            'GKKicking', 'GKPositioning', 'GKReflexes']\n",
    "\n",
    "data_df = data_df[rel_cols]\n",
    "data_df.head()"
   ]
  },
  {
   "cell_type": "code",
   "execution_count": 9,
   "metadata": {},
   "outputs": [
    {
     "data": {
      "text/plain": [
       "Position           0\n",
       "Finishing          0\n",
       "HeadingAccuracy    0\n",
       "ShortPassing       0\n",
       "Volleys            0\n",
       "Dribbling          0\n",
       "Curve              0\n",
       "FKAccuracy         0\n",
       "LongPassing        0\n",
       "BallControl        0\n",
       "Acceleration       0\n",
       "SprintSpeed        0\n",
       "Agility            0\n",
       "Reactions          0\n",
       "Balance            0\n",
       "ShotPower          0\n",
       "Jumping            0\n",
       "Stamina            0\n",
       "Strength           0\n",
       "LongShots          0\n",
       "Aggression         0\n",
       "Interceptions      0\n",
       "Positioning        0\n",
       "Vision             0\n",
       "Penalties          0\n",
       "Composure          0\n",
       "Marking            0\n",
       "StandingTackle     0\n",
       "SlidingTackle      0\n",
       "GKDiving           0\n",
       "GKHandling         0\n",
       "GKKicking          0\n",
       "GKPositioning      0\n",
       "GKReflexes         0\n",
       "dtype: int64"
      ]
     },
     "execution_count": 9,
     "metadata": {},
     "output_type": "execute_result"
    }
   ],
   "source": [
    "# Are there NaNs Still?\n",
    "\n",
    "data_df.isna().sum()"
   ]
  },
  {
   "cell_type": "code",
   "execution_count": 10,
   "metadata": {},
   "outputs": [],
   "source": [
    "goalkeeper = 'GK'\n",
    "forward = ['ST', 'LW', 'RW', 'LF', 'RF', 'RS','LS', 'CF']\n",
    "midfielder = ['CM','RCM','LCM', 'CDM','RDM','LDM', 'CAM', 'LAM', 'RAM', 'RM', 'LM']\n",
    "defender = ['CB', 'RCB', 'LCB', 'LWB', 'RWB', 'LB', 'RB']"
   ]
  },
  {
   "cell_type": "code",
   "execution_count": 11,
   "metadata": {},
   "outputs": [],
   "source": [
    "#Assign labels to goalkeepers\n",
    "data_df.loc[data_df[\"Position\"] == \"GK\", \"Position\"] = 0\n",
    "\n",
    "#Defenders\n",
    "data_df.loc[data_df[\"Position\"].isin(defender), \"Position\"] = 1\n",
    "\n",
    "#Midfielders\n",
    "data_df.loc[data_df[\"Position\"].isin(midfielder), \"Position\"] = 2\n",
    "\n",
    "#Forward\n",
    "data_df.loc[data_df[\"Position\"].isin(forward), \"Position\"] = 3\n",
    "\n",
    "# Convert Column \"Position\" to numeric so that Pandas does not complain\n",
    "data_df['Position'] = pd.to_numeric(data_df['Position'], downcast=\"integer\")"
   ]
  },
  {
   "cell_type": "code",
   "execution_count": 12,
   "metadata": {},
   "outputs": [],
   "source": [
    "class_labels = {0: 'Goal Keeper', 1: 'Defender', 2: 'Mid-Fielder', 3: 'Forward'}"
   ]
  },
  {
   "cell_type": "code",
   "execution_count": 13,
   "metadata": {},
   "outputs": [],
   "source": [
    "y = data_df[\"Position\"].to_numpy()\n",
    "\n",
    "X = data_df.drop(\"Position\", axis = 1)"
   ]
  },
  {
   "cell_type": "code",
   "execution_count": 14,
   "metadata": {},
   "outputs": [
    {
     "name": "stdout",
     "output_type": "stream",
     "text": [
      "(14517, 33) (14517,) (3630, 33) (3630,)\n"
     ]
    }
   ],
   "source": [
    "#  Split the data in training and test sets to measure performance of the model.\n",
    "X_train, X_test, y_train, y_test = train_test_split(X, y, \n",
    "                                                    test_size=TEST_SIZE,\n",
    "                                                    stratify=y,\n",
    "                                                    random_state=RANDOM_STATE )\n",
    "\n",
    "print (X_train.shape, y_train.shape, X_test.shape, y_test.shape)"
   ]
  },
  {
   "cell_type": "code",
   "execution_count": 15,
   "metadata": {},
   "outputs": [],
   "source": [
    "sc = StandardScaler()\n",
    "\n",
    "X_train = sc.fit_transform(X_train)\n",
    "\n",
    "X_test = sc.transform(X_test)"
   ]
  },
  {
   "cell_type": "code",
   "execution_count": 16,
   "metadata": {},
   "outputs": [
    {
     "data": {
      "text/plain": [
       "(numpy.ndarray, numpy.ndarray, numpy.ndarray, numpy.ndarray)"
      ]
     },
     "execution_count": 16,
     "metadata": {},
     "output_type": "execute_result"
    }
   ],
   "source": [
    "type(X_train), type(X_test), type(y_train),type(y_test)"
   ]
  },
  {
   "cell_type": "markdown",
   "metadata": {},
   "source": [
    "## Converting to Datasets "
   ]
  },
  {
   "cell_type": "code",
   "execution_count": 17,
   "metadata": {},
   "outputs": [],
   "source": [
    "train_ds = tf.data.Dataset.from_tensor_slices((X_train,y_train))\n",
    "test_ds = tf.data.Dataset.from_tensor_slices((X_test,y_test))"
   ]
  },
  {
   "cell_type": "markdown",
   "metadata": {},
   "source": [
    "### Preprocessing and Batching\n",
    "\n",
    "Apply various transformations, such as shuffling and batching, to the dataset:"
   ]
  },
  {
   "cell_type": "code",
   "execution_count": 18,
   "metadata": {},
   "outputs": [],
   "source": [
    "# Shuffle and batch the dataset\n",
    "train_ds = train_ds.shuffle(buffer_size=X_train.shape[0]).batch(BATCH_SIZE)\n",
    "test_ds = test_ds.shuffle(buffer_size=X_test.shape[0]).batch(BATCH_SIZE)"
   ]
  },
  {
   "cell_type": "code",
   "execution_count": 19,
   "metadata": {},
   "outputs": [],
   "source": [
    "## Optimize for performance\n",
    "\n",
    "train_ds = train_ds.cache().prefetch(buffer_size=tf.data.AUTOTUNE)\n",
    "\n",
    "test_ds = test_ds.cache().prefetch(buffer_size=tf.data.AUTOTUNE)"
   ]
  },
  {
   "cell_type": "code",
   "execution_count": 20,
   "metadata": {},
   "outputs": [
    {
     "name": "stdout",
     "output_type": "stream",
     "text": [
      "(256, 33) (256,)\n"
     ]
    }
   ],
   "source": [
    "for features, labels in train_ds.take(1):\n",
    "    print (features.shape, labels.shape)"
   ]
  },
  {
   "cell_type": "code",
   "execution_count": 21,
   "metadata": {},
   "outputs": [
    {
     "data": {
      "text/plain": [
       "(<tf.Tensor: shape=(256, 33), dtype=float64, numpy=\n",
       " array([[-0.02665601,  1.42402984,  0.49712754, ..., -0.68109345,\n",
       "         -0.66958323, -0.76441979],\n",
       "        [ 0.9976036 ,  0.56119818, -1.47395163, ..., -0.68109345,\n",
       "         -0.13969439, -0.20690075],\n",
       "        [-1.30698052,  0.61872029, -0.65833266, ..., -0.25604426,\n",
       "         -0.25744747, -0.54141217],\n",
       "        ...,\n",
       "        [-0.43635985,  0.1010213 ,  0.49712754, ..., -0.62037214,\n",
       "         -0.49295362, -0.37415646],\n",
       "        [ 1.20245552,  1.13641928,  0.02134981, ..., -0.13460163,\n",
       "         -0.13969439, -0.09539694],\n",
       "        [ 0.89517764,  0.15854341,  0.36119105, ..., -0.55965083,\n",
       "         -0.66958323, -0.54141217]])>,\n",
       " <tf.Tensor: shape=(256,), dtype=int8, numpy=\n",
       " array([1, 3, 1, 1, 1, 2, 2, 0, 3, 1, 1, 3, 2, 3, 1, 2, 1, 3, 1, 2, 2, 3,\n",
       "        2, 0, 1, 2, 3, 1, 1, 2, 1, 2, 3, 2, 2, 3, 0, 2, 1, 1, 1, 2, 2, 3,\n",
       "        2, 2, 2, 2, 3, 0, 2, 3, 1, 2, 0, 2, 2, 1, 1, 3, 1, 2, 3, 1, 2, 2,\n",
       "        1, 2, 2, 2, 1, 0, 3, 2, 2, 2, 2, 2, 0, 2, 2, 1, 3, 1, 2, 3, 3, 2,\n",
       "        2, 2, 1, 2, 1, 2, 2, 0, 1, 1, 2, 1, 0, 3, 0, 2, 0, 1, 1, 1, 1, 1,\n",
       "        1, 2, 3, 1, 2, 3, 2, 3, 1, 2, 1, 1, 1, 2, 2, 1, 2, 1, 1, 0, 1, 1,\n",
       "        2, 1, 0, 0, 0, 3, 2, 2, 3, 0, 1, 1, 2, 2, 2, 1, 3, 1, 2, 2, 1, 1,\n",
       "        2, 2, 2, 2, 2, 3, 0, 1, 1, 2, 0, 0, 2, 0, 2, 0, 1, 2, 2, 3, 3, 1,\n",
       "        2, 1, 2, 2, 3, 1, 1, 3, 2, 0, 1, 1, 1, 0, 3, 3, 3, 1, 1, 1, 2, 1,\n",
       "        2, 2, 2, 2, 1, 2, 2, 1, 0, 1, 0, 2, 2, 2, 1, 1, 1, 1, 2, 2, 1, 3,\n",
       "        3, 2, 3, 1, 2, 1, 3, 1, 0, 2, 1, 2, 2, 0, 2, 0, 3, 2, 2, 1, 1, 1,\n",
       "        3, 1, 3, 2, 1, 1, 2, 1, 2, 1, 3, 2, 3, 2], dtype=int8)>)"
      ]
     },
     "execution_count": 21,
     "metadata": {},
     "output_type": "execute_result"
    }
   ],
   "source": [
    "next(iter(train_ds))"
   ]
  },
  {
   "cell_type": "markdown",
   "metadata": {},
   "source": [
    "## Prepare model\n",
    "\n",
    "### Functional API\n",
    "\n",
    "<p style=\"font-family: Arial; font-size:1.2em;\">You can also instantiate a Model with the <strong>\"Functional API\"</strong>, where you start from Input, you chain layer calls to specify the model's forward pass, and finally you create your model from inputs and outputs:"
   ]
  },
  {
   "cell_type": "code",
   "execution_count": 22,
   "metadata": {},
   "outputs": [
    {
     "name": "stdout",
     "output_type": "stream",
     "text": [
      "WARNING:tensorflow:From C:\\Users\\Administrator.DAI-PC2\\anaconda3\\Lib\\site-packages\\keras\\src\\backend.py:1398: The name tf.executing_eagerly_outside_functions is deprecated. Please use tf.compat.v1.executing_eagerly_outside_functions instead.\n",
      "\n"
     ]
    }
   ],
   "source": [
    "inputs = tf.keras.Input(shape=(33,))\n",
    "    \n",
    "x = tf.keras.layers.Dense(18, activation=tf.nn.relu)(inputs)\n",
    "\n",
    "outputs = tf.keras.layers.Dense(4)(x)\n",
    "\n",
    "model = tf.keras.Model(inputs=inputs, outputs=outputs)"
   ]
  },
  {
   "cell_type": "code",
   "execution_count": 23,
   "metadata": {},
   "outputs": [
    {
     "data": {
      "text/plain": [
       "(256, 4)"
      ]
     },
     "execution_count": 23,
     "metadata": {},
     "output_type": "execute_result"
    }
   ],
   "source": [
    "predictions = model(features).numpy()\n",
    "predictions.shape"
   ]
  },
  {
   "cell_type": "code",
   "execution_count": 24,
   "metadata": {},
   "outputs": [
    {
     "data": {
      "text/plain": [
       "-0.9893464"
      ]
     },
     "execution_count": 24,
     "metadata": {},
     "output_type": "execute_result"
    }
   ],
   "source": [
    "predictions[0].sum()"
   ]
  },
  {
   "cell_type": "markdown",
   "metadata": {},
   "source": [
    "The `tf.nn.softmax` function converts these logits to \"probabilities\" for each class: "
   ]
  },
  {
   "cell_type": "code",
   "execution_count": 25,
   "metadata": {},
   "outputs": [
    {
     "data": {
      "text/plain": [
       "array([0.04867552, 0.01635773, 0.8807695 , 0.05419732], dtype=float32)"
      ]
     },
     "execution_count": 25,
     "metadata": {},
     "output_type": "execute_result"
    }
   ],
   "source": [
    "tf.nn.softmax(predictions).numpy()[0]"
   ]
  },
  {
   "cell_type": "code",
   "execution_count": 26,
   "metadata": {},
   "outputs": [
    {
     "data": {
      "text/plain": [
       "1.0000001"
      ]
     },
     "execution_count": 26,
     "metadata": {},
     "output_type": "execute_result"
    }
   ],
   "source": [
    "tf.nn.softmax(predictions).numpy().sum(axis = 1)[0]"
   ]
  },
  {
   "cell_type": "code",
   "execution_count": 27,
   "metadata": {},
   "outputs": [
    {
     "name": "stdout",
     "output_type": "stream",
     "text": [
      "Model: \"model\"\n",
      "_________________________________________________________________\n",
      " Layer (type)                Output Shape              Param #   \n",
      "=================================================================\n",
      " input_1 (InputLayer)        [(None, 33)]              0         \n",
      "                                                                 \n",
      " dense (Dense)               (None, 18)                612       \n",
      "                                                                 \n",
      " dense_1 (Dense)             (None, 4)                 76        \n",
      "                                                                 \n",
      "=================================================================\n",
      "Total params: 688 (2.69 KB)\n",
      "Trainable params: 688 (2.69 KB)\n",
      "Non-trainable params: 0 (0.00 Byte)\n",
      "_________________________________________________________________\n"
     ]
    }
   ],
   "source": [
    "'''\n",
    "Number of parameters:\n",
    "    layer 1 : 33*18 +18 = 612 \n",
    "    layer 2 : 18*4 + 4\n",
    "We are not locking any layer hence all parameter are trainable    \n",
    "'''\n",
    "\n",
    "model.summary()"
   ]
  },
  {
   "cell_type": "code",
   "execution_count": 28,
   "metadata": {},
   "outputs": [],
   "source": [
    "loss_fn = tf.keras.losses.SparseCategoricalCrossentropy ( from_logits = True)"
   ]
  },
  {
   "cell_type": "code",
   "execution_count": 29,
   "metadata": {},
   "outputs": [
    {
     "data": {
      "text/plain": [
       "<tf.Tensor: shape=(256,), dtype=int8, numpy=\n",
       "array([0, 3, 2, 1, 2, 1, 2, 2, 2, 1, 1, 3, 3, 2, 0, 1, 0, 2, 2, 2, 0, 1,\n",
       "       3, 3, 2, 3, 3, 3, 0, 2, 0, 2, 2, 1, 3, 3, 0, 2, 1, 1, 0, 0, 2, 3,\n",
       "       2, 1, 2, 3, 1, 1, 1, 2, 1, 1, 1, 0, 2, 1, 1, 1, 2, 0, 3, 2, 3, 1,\n",
       "       2, 3, 0, 2, 1, 1, 2, 3, 2, 2, 1, 1, 1, 2, 2, 1, 0, 1, 1, 2, 2, 1,\n",
       "       1, 0, 2, 2, 1, 0, 2, 2, 1, 2, 2, 3, 3, 1, 1, 2, 2, 3, 3, 1, 0, 2,\n",
       "       2, 3, 3, 2, 3, 1, 1, 0, 3, 1, 2, 1, 1, 1, 1, 0, 1, 2, 1, 2, 1, 1,\n",
       "       3, 2, 3, 1, 1, 2, 2, 2, 1, 2, 1, 0, 1, 0, 0, 1, 2, 2, 1, 2, 2, 1,\n",
       "       1, 3, 1, 2, 0, 1, 1, 3, 2, 1, 2, 2, 2, 0, 3, 2, 2, 1, 2, 0, 2, 2,\n",
       "       1, 2, 2, 2, 0, 2, 2, 3, 2, 1, 3, 2, 1, 2, 1, 2, 2, 3, 2, 2, 0, 2,\n",
       "       1, 1, 1, 2, 0, 2, 1, 1, 1, 2, 1, 0, 2, 1, 2, 3, 1, 3, 1, 0, 3, 2,\n",
       "       2, 1, 3, 2, 1, 1, 1, 2, 3, 2, 3, 2, 1, 2, 2, 2, 2, 1, 0, 2, 1, 1,\n",
       "       2, 2, 1, 0, 2, 1, 1, 1, 1, 1, 1, 2, 2, 2], dtype=int8)>"
      ]
     },
     "execution_count": 29,
     "metadata": {},
     "output_type": "execute_result"
    }
   ],
   "source": [
    "labels"
   ]
  },
  {
   "cell_type": "code",
   "execution_count": 30,
   "metadata": {},
   "outputs": [
    {
     "data": {
      "text/plain": [
       "1.4128695"
      ]
     },
     "execution_count": 30,
     "metadata": {},
     "output_type": "execute_result"
    }
   ],
   "source": [
    "loss_fn(labels, predictions).numpy()"
   ]
  },
  {
   "cell_type": "markdown",
   "metadata": {},
   "source": [
    "Using `model.compile`, specify the training configuration such as:\n",
    "- Loss function to minimize\n",
    "- Optimizer\n",
    "- List of metrics to monitor"
   ]
  },
  {
   "cell_type": "code",
   "execution_count": 31,
   "metadata": {},
   "outputs": [
    {
     "name": "stdout",
     "output_type": "stream",
     "text": [
      "WARNING:tensorflow:From C:\\Users\\Administrator.DAI-PC2\\anaconda3\\Lib\\site-packages\\keras\\src\\optimizers\\__init__.py:309: The name tf.train.Optimizer is deprecated. Please use tf.compat.v1.train.Optimizer instead.\n",
      "\n"
     ]
    }
   ],
   "source": [
    "model.compile(optimizer='adam',\n",
    "              loss=loss_fn,\n",
    "              metrics=['accuracy'])"
   ]
  },
  {
   "cell_type": "markdown",
   "metadata": {},
   "source": [
    "Call `fit()`, which will train the model by slicing the data into `batches` of size `batch_size`, and repeatedly iterating over the entire dataset for a given number of `epochs`. Pass some validation for monitoring validation loss and metrics at the end of each epoch."
   ]
  },
  {
   "cell_type": "code",
   "execution_count": 32,
   "metadata": {
    "scrolled": true
   },
   "outputs": [
    {
     "name": "stdout",
     "output_type": "stream",
     "text": [
      "Epoch 1/100\n",
      "WARNING:tensorflow:From C:\\Users\\Administrator.DAI-PC2\\anaconda3\\Lib\\site-packages\\keras\\src\\utils\\tf_utils.py:492: The name tf.ragged.RaggedTensorValue is deprecated. Please use tf.compat.v1.ragged.RaggedTensorValue instead.\n",
      "\n",
      "WARNING:tensorflow:From C:\\Users\\Administrator.DAI-PC2\\anaconda3\\Lib\\site-packages\\keras\\src\\engine\\base_layer_utils.py:384: The name tf.executing_eagerly_outside_functions is deprecated. Please use tf.compat.v1.executing_eagerly_outside_functions instead.\n",
      "\n",
      "57/57 [==============================] - 2s 8ms/step - loss: 0.9187 - accuracy: 0.6478 - val_loss: 0.6634 - val_accuracy: 0.7559\n",
      "Epoch 2/100\n",
      "57/57 [==============================] - 0s 3ms/step - loss: 0.5666 - accuracy: 0.7891 - val_loss: 0.5151 - val_accuracy: 0.7967\n",
      "Epoch 3/100\n",
      "57/57 [==============================] - 0s 4ms/step - loss: 0.4698 - accuracy: 0.8101 - val_loss: 0.4556 - val_accuracy: 0.8077\n",
      "Epoch 4/100\n",
      "57/57 [==============================] - 0s 3ms/step - loss: 0.4235 - accuracy: 0.8246 - val_loss: 0.4205 - val_accuracy: 0.8182\n",
      "Epoch 5/100\n",
      "57/57 [==============================] - 0s 3ms/step - loss: 0.3943 - accuracy: 0.8365 - val_loss: 0.3955 - val_accuracy: 0.8259\n",
      "Epoch 6/100\n",
      "57/57 [==============================] - 0s 3ms/step - loss: 0.3732 - accuracy: 0.8456 - val_loss: 0.3761 - val_accuracy: 0.8317\n",
      "Epoch 7/100\n",
      "57/57 [==============================] - 0s 3ms/step - loss: 0.3571 - accuracy: 0.8536 - val_loss: 0.3612 - val_accuracy: 0.8399\n",
      "Epoch 8/100\n",
      "57/57 [==============================] - 0s 3ms/step - loss: 0.3447 - accuracy: 0.8615 - val_loss: 0.3498 - val_accuracy: 0.8430\n",
      "Epoch 9/100\n",
      "57/57 [==============================] - 0s 3ms/step - loss: 0.3352 - accuracy: 0.8655 - val_loss: 0.3410 - val_accuracy: 0.8482\n",
      "Epoch 10/100\n",
      "57/57 [==============================] - 0s 3ms/step - loss: 0.3277 - accuracy: 0.8681 - val_loss: 0.3344 - val_accuracy: 0.8512\n",
      "Epoch 11/100\n",
      "57/57 [==============================] - 0s 3ms/step - loss: 0.3220 - accuracy: 0.8702 - val_loss: 0.3290 - val_accuracy: 0.8540\n",
      "Epoch 12/100\n",
      "57/57 [==============================] - 0s 3ms/step - loss: 0.3173 - accuracy: 0.8715 - val_loss: 0.3247 - val_accuracy: 0.8567\n",
      "Epoch 13/100\n",
      "57/57 [==============================] - 0s 3ms/step - loss: 0.3134 - accuracy: 0.8723 - val_loss: 0.3213 - val_accuracy: 0.8609\n",
      "Epoch 14/100\n",
      "57/57 [==============================] - 0s 4ms/step - loss: 0.3103 - accuracy: 0.8733 - val_loss: 0.3186 - val_accuracy: 0.8631\n",
      "Epoch 15/100\n",
      "57/57 [==============================] - 0s 4ms/step - loss: 0.3076 - accuracy: 0.8740 - val_loss: 0.3163 - val_accuracy: 0.8653\n",
      "Epoch 16/100\n",
      "57/57 [==============================] - 0s 4ms/step - loss: 0.3053 - accuracy: 0.8756 - val_loss: 0.3144 - val_accuracy: 0.8656\n",
      "Epoch 17/100\n",
      "57/57 [==============================] - 0s 3ms/step - loss: 0.3032 - accuracy: 0.8766 - val_loss: 0.3128 - val_accuracy: 0.8664\n",
      "Epoch 18/100\n",
      "57/57 [==============================] - 0s 3ms/step - loss: 0.3014 - accuracy: 0.8770 - val_loss: 0.3114 - val_accuracy: 0.8664\n",
      "Epoch 19/100\n",
      "57/57 [==============================] - 0s 4ms/step - loss: 0.2998 - accuracy: 0.8772 - val_loss: 0.3101 - val_accuracy: 0.8678\n",
      "Epoch 20/100\n",
      "57/57 [==============================] - 0s 3ms/step - loss: 0.2984 - accuracy: 0.8773 - val_loss: 0.3089 - val_accuracy: 0.8683\n",
      "Epoch 21/100\n",
      "57/57 [==============================] - 0s 3ms/step - loss: 0.2971 - accuracy: 0.8775 - val_loss: 0.3079 - val_accuracy: 0.8689\n",
      "Epoch 22/100\n",
      "57/57 [==============================] - 0s 4ms/step - loss: 0.2959 - accuracy: 0.8782 - val_loss: 0.3069 - val_accuracy: 0.8683\n",
      "Epoch 23/100\n",
      "57/57 [==============================] - 0s 3ms/step - loss: 0.2948 - accuracy: 0.8781 - val_loss: 0.3060 - val_accuracy: 0.8691\n",
      "Epoch 24/100\n",
      "57/57 [==============================] - 0s 4ms/step - loss: 0.2938 - accuracy: 0.8781 - val_loss: 0.3052 - val_accuracy: 0.8683\n",
      "Epoch 25/100\n",
      "57/57 [==============================] - 0s 3ms/step - loss: 0.2929 - accuracy: 0.8783 - val_loss: 0.3045 - val_accuracy: 0.8683\n",
      "Epoch 26/100\n",
      "57/57 [==============================] - 0s 3ms/step - loss: 0.2920 - accuracy: 0.8787 - val_loss: 0.3038 - val_accuracy: 0.8678\n",
      "Epoch 27/100\n",
      "57/57 [==============================] - 0s 3ms/step - loss: 0.2912 - accuracy: 0.8793 - val_loss: 0.3032 - val_accuracy: 0.8683\n",
      "Epoch 28/100\n",
      "57/57 [==============================] - 0s 3ms/step - loss: 0.2905 - accuracy: 0.8795 - val_loss: 0.3026 - val_accuracy: 0.8686\n",
      "Epoch 29/100\n",
      "57/57 [==============================] - 0s 3ms/step - loss: 0.2897 - accuracy: 0.8793 - val_loss: 0.3022 - val_accuracy: 0.8686\n",
      "Epoch 30/100\n",
      "57/57 [==============================] - 0s 3ms/step - loss: 0.2891 - accuracy: 0.8795 - val_loss: 0.3017 - val_accuracy: 0.8691\n",
      "Epoch 31/100\n",
      "57/57 [==============================] - 0s 4ms/step - loss: 0.2884 - accuracy: 0.8797 - val_loss: 0.3012 - val_accuracy: 0.8691\n",
      "Epoch 32/100\n",
      "57/57 [==============================] - 0s 3ms/step - loss: 0.2878 - accuracy: 0.8799 - val_loss: 0.3008 - val_accuracy: 0.8700\n",
      "Epoch 33/100\n",
      "57/57 [==============================] - 0s 3ms/step - loss: 0.2873 - accuracy: 0.8799 - val_loss: 0.3004 - val_accuracy: 0.8697\n",
      "Epoch 34/100\n",
      "57/57 [==============================] - 0s 3ms/step - loss: 0.2867 - accuracy: 0.8802 - val_loss: 0.3000 - val_accuracy: 0.8705\n",
      "Epoch 35/100\n",
      "57/57 [==============================] - 0s 3ms/step - loss: 0.2862 - accuracy: 0.8804 - val_loss: 0.2996 - val_accuracy: 0.8705\n",
      "Epoch 36/100\n",
      "57/57 [==============================] - 0s 4ms/step - loss: 0.2857 - accuracy: 0.8810 - val_loss: 0.2993 - val_accuracy: 0.8705\n",
      "Epoch 37/100\n",
      "57/57 [==============================] - 0s 3ms/step - loss: 0.2853 - accuracy: 0.8811 - val_loss: 0.2990 - val_accuracy: 0.8711\n",
      "Epoch 38/100\n",
      "57/57 [==============================] - 0s 3ms/step - loss: 0.2848 - accuracy: 0.8814 - val_loss: 0.2987 - val_accuracy: 0.8716\n",
      "Epoch 39/100\n",
      "57/57 [==============================] - 0s 3ms/step - loss: 0.2844 - accuracy: 0.8819 - val_loss: 0.2984 - val_accuracy: 0.8713\n",
      "Epoch 40/100\n",
      "57/57 [==============================] - 0s 3ms/step - loss: 0.2839 - accuracy: 0.8821 - val_loss: 0.2981 - val_accuracy: 0.8716\n",
      "Epoch 41/100\n",
      "57/57 [==============================] - 0s 4ms/step - loss: 0.2835 - accuracy: 0.8822 - val_loss: 0.2979 - val_accuracy: 0.8719\n",
      "Epoch 42/100\n",
      "57/57 [==============================] - 0s 4ms/step - loss: 0.2831 - accuracy: 0.8826 - val_loss: 0.2976 - val_accuracy: 0.8725\n",
      "Epoch 43/100\n",
      "57/57 [==============================] - 0s 3ms/step - loss: 0.2827 - accuracy: 0.8827 - val_loss: 0.2973 - val_accuracy: 0.8713\n",
      "Epoch 44/100\n",
      "57/57 [==============================] - 0s 4ms/step - loss: 0.2823 - accuracy: 0.8827 - val_loss: 0.2971 - val_accuracy: 0.8725\n",
      "Epoch 45/100\n",
      "57/57 [==============================] - 0s 3ms/step - loss: 0.2820 - accuracy: 0.8827 - val_loss: 0.2969 - val_accuracy: 0.8722\n",
      "Epoch 46/100\n",
      "57/57 [==============================] - 0s 4ms/step - loss: 0.2816 - accuracy: 0.8830 - val_loss: 0.2967 - val_accuracy: 0.8725\n",
      "Epoch 47/100\n",
      "57/57 [==============================] - 0s 3ms/step - loss: 0.2813 - accuracy: 0.8832 - val_loss: 0.2965 - val_accuracy: 0.8727\n",
      "Epoch 48/100\n",
      "57/57 [==============================] - 0s 4ms/step - loss: 0.2809 - accuracy: 0.8834 - val_loss: 0.2964 - val_accuracy: 0.8727\n",
      "Epoch 49/100\n",
      "57/57 [==============================] - 0s 3ms/step - loss: 0.2806 - accuracy: 0.8837 - val_loss: 0.2963 - val_accuracy: 0.8725\n",
      "Epoch 50/100\n",
      "57/57 [==============================] - 0s 3ms/step - loss: 0.2803 - accuracy: 0.8837 - val_loss: 0.2962 - val_accuracy: 0.8727\n",
      "Epoch 51/100\n",
      "57/57 [==============================] - 0s 3ms/step - loss: 0.2800 - accuracy: 0.8838 - val_loss: 0.2961 - val_accuracy: 0.8733\n",
      "Epoch 52/100\n",
      "57/57 [==============================] - 0s 3ms/step - loss: 0.2797 - accuracy: 0.8840 - val_loss: 0.2960 - val_accuracy: 0.8738\n",
      "Epoch 53/100\n",
      "57/57 [==============================] - 0s 3ms/step - loss: 0.2794 - accuracy: 0.8841 - val_loss: 0.2959 - val_accuracy: 0.8741\n",
      "Epoch 54/100\n",
      "57/57 [==============================] - 0s 3ms/step - loss: 0.2791 - accuracy: 0.8841 - val_loss: 0.2958 - val_accuracy: 0.8744\n",
      "Epoch 55/100\n"
     ]
    },
    {
     "name": "stdout",
     "output_type": "stream",
     "text": [
      "57/57 [==============================] - 0s 3ms/step - loss: 0.2789 - accuracy: 0.8841 - val_loss: 0.2957 - val_accuracy: 0.8747\n",
      "Epoch 56/100\n",
      "57/57 [==============================] - 0s 3ms/step - loss: 0.2786 - accuracy: 0.8843 - val_loss: 0.2956 - val_accuracy: 0.8736\n",
      "Epoch 57/100\n",
      "57/57 [==============================] - 0s 3ms/step - loss: 0.2783 - accuracy: 0.8845 - val_loss: 0.2956 - val_accuracy: 0.8736\n",
      "Epoch 58/100\n",
      "57/57 [==============================] - 0s 4ms/step - loss: 0.2780 - accuracy: 0.8850 - val_loss: 0.2955 - val_accuracy: 0.8736\n",
      "Epoch 59/100\n",
      "57/57 [==============================] - 0s 3ms/step - loss: 0.2778 - accuracy: 0.8850 - val_loss: 0.2954 - val_accuracy: 0.8736\n",
      "Epoch 60/100\n",
      "57/57 [==============================] - 0s 3ms/step - loss: 0.2775 - accuracy: 0.8853 - val_loss: 0.2954 - val_accuracy: 0.8736\n",
      "Epoch 61/100\n",
      "57/57 [==============================] - 0s 3ms/step - loss: 0.2772 - accuracy: 0.8852 - val_loss: 0.2953 - val_accuracy: 0.8736\n",
      "Epoch 62/100\n",
      "57/57 [==============================] - 0s 3ms/step - loss: 0.2770 - accuracy: 0.8852 - val_loss: 0.2952 - val_accuracy: 0.8736\n",
      "Epoch 63/100\n",
      "57/57 [==============================] - 0s 4ms/step - loss: 0.2767 - accuracy: 0.8852 - val_loss: 0.2951 - val_accuracy: 0.8744\n",
      "Epoch 64/100\n",
      "57/57 [==============================] - 0s 3ms/step - loss: 0.2765 - accuracy: 0.8855 - val_loss: 0.2951 - val_accuracy: 0.8744\n",
      "Epoch 65/100\n",
      "57/57 [==============================] - 0s 3ms/step - loss: 0.2763 - accuracy: 0.8854 - val_loss: 0.2951 - val_accuracy: 0.8741\n",
      "Epoch 66/100\n",
      "57/57 [==============================] - 0s 4ms/step - loss: 0.2760 - accuracy: 0.8857 - val_loss: 0.2951 - val_accuracy: 0.8741\n",
      "Epoch 67/100\n",
      "57/57 [==============================] - 0s 3ms/step - loss: 0.2758 - accuracy: 0.8857 - val_loss: 0.2950 - val_accuracy: 0.8747\n",
      "Epoch 68/100\n",
      "57/57 [==============================] - 0s 3ms/step - loss: 0.2756 - accuracy: 0.8859 - val_loss: 0.2950 - val_accuracy: 0.8749\n",
      "Epoch 69/100\n",
      "57/57 [==============================] - 0s 3ms/step - loss: 0.2754 - accuracy: 0.8859 - val_loss: 0.2951 - val_accuracy: 0.8749\n",
      "Epoch 70/100\n",
      "57/57 [==============================] - 0s 3ms/step - loss: 0.2752 - accuracy: 0.8854 - val_loss: 0.2951 - val_accuracy: 0.8749\n",
      "Epoch 71/100\n",
      "57/57 [==============================] - 0s 3ms/step - loss: 0.2750 - accuracy: 0.8857 - val_loss: 0.2950 - val_accuracy: 0.8752\n",
      "Epoch 72/100\n",
      "57/57 [==============================] - 0s 4ms/step - loss: 0.2748 - accuracy: 0.8857 - val_loss: 0.2950 - val_accuracy: 0.8749\n",
      "Epoch 73/100\n",
      "57/57 [==============================] - 0s 4ms/step - loss: 0.2746 - accuracy: 0.8859 - val_loss: 0.2951 - val_accuracy: 0.8752\n",
      "Epoch 74/100\n",
      "57/57 [==============================] - 0s 3ms/step - loss: 0.2744 - accuracy: 0.8861 - val_loss: 0.2951 - val_accuracy: 0.8752\n",
      "Epoch 75/100\n",
      "57/57 [==============================] - 0s 4ms/step - loss: 0.2742 - accuracy: 0.8863 - val_loss: 0.2951 - val_accuracy: 0.8752\n",
      "Epoch 76/100\n",
      "57/57 [==============================] - 0s 4ms/step - loss: 0.2740 - accuracy: 0.8859 - val_loss: 0.2951 - val_accuracy: 0.8749\n",
      "Epoch 77/100\n",
      "57/57 [==============================] - 0s 3ms/step - loss: 0.2738 - accuracy: 0.8861 - val_loss: 0.2952 - val_accuracy: 0.8749\n",
      "Epoch 78/100\n",
      "57/57 [==============================] - 0s 4ms/step - loss: 0.2736 - accuracy: 0.8861 - val_loss: 0.2952 - val_accuracy: 0.8755\n",
      "Epoch 79/100\n",
      "57/57 [==============================] - 0s 3ms/step - loss: 0.2734 - accuracy: 0.8861 - val_loss: 0.2952 - val_accuracy: 0.8752\n",
      "Epoch 80/100\n",
      "57/57 [==============================] - 0s 3ms/step - loss: 0.2732 - accuracy: 0.8863 - val_loss: 0.2952 - val_accuracy: 0.8755\n",
      "Epoch 81/100\n",
      "57/57 [==============================] - 0s 3ms/step - loss: 0.2730 - accuracy: 0.8866 - val_loss: 0.2952 - val_accuracy: 0.8758\n",
      "Epoch 82/100\n",
      "57/57 [==============================] - 0s 4ms/step - loss: 0.2728 - accuracy: 0.8869 - val_loss: 0.2953 - val_accuracy: 0.8758\n",
      "Epoch 83/100\n",
      "57/57 [==============================] - 0s 3ms/step - loss: 0.2727 - accuracy: 0.8868 - val_loss: 0.2953 - val_accuracy: 0.8763\n",
      "Epoch 84/100\n",
      "57/57 [==============================] - 0s 3ms/step - loss: 0.2725 - accuracy: 0.8869 - val_loss: 0.2953 - val_accuracy: 0.8763\n",
      "Epoch 85/100\n",
      "57/57 [==============================] - 0s 3ms/step - loss: 0.2723 - accuracy: 0.8870 - val_loss: 0.2953 - val_accuracy: 0.8760\n",
      "Epoch 86/100\n",
      "57/57 [==============================] - 0s 3ms/step - loss: 0.2721 - accuracy: 0.8865 - val_loss: 0.2954 - val_accuracy: 0.8758\n",
      "Epoch 87/100\n",
      "57/57 [==============================] - 0s 3ms/step - loss: 0.2720 - accuracy: 0.8865 - val_loss: 0.2954 - val_accuracy: 0.8755\n",
      "Epoch 88/100\n",
      "57/57 [==============================] - 0s 3ms/step - loss: 0.2718 - accuracy: 0.8868 - val_loss: 0.2954 - val_accuracy: 0.8752\n",
      "Epoch 89/100\n",
      "57/57 [==============================] - 0s 4ms/step - loss: 0.2716 - accuracy: 0.8869 - val_loss: 0.2955 - val_accuracy: 0.8755\n",
      "Epoch 90/100\n",
      "57/57 [==============================] - 0s 4ms/step - loss: 0.2715 - accuracy: 0.8870 - val_loss: 0.2954 - val_accuracy: 0.8752\n",
      "Epoch 91/100\n",
      "57/57 [==============================] - 0s 3ms/step - loss: 0.2713 - accuracy: 0.8874 - val_loss: 0.2954 - val_accuracy: 0.8752\n",
      "Epoch 92/100\n",
      "57/57 [==============================] - 0s 4ms/step - loss: 0.2712 - accuracy: 0.8877 - val_loss: 0.2955 - val_accuracy: 0.8752\n",
      "Epoch 93/100\n",
      "57/57 [==============================] - 0s 3ms/step - loss: 0.2710 - accuracy: 0.8880 - val_loss: 0.2954 - val_accuracy: 0.8744\n",
      "Epoch 94/100\n",
      "57/57 [==============================] - 0s 3ms/step - loss: 0.2708 - accuracy: 0.8880 - val_loss: 0.2955 - val_accuracy: 0.8741\n",
      "Epoch 95/100\n",
      "57/57 [==============================] - 0s 3ms/step - loss: 0.2707 - accuracy: 0.8883 - val_loss: 0.2955 - val_accuracy: 0.8741\n",
      "Epoch 96/100\n",
      "57/57 [==============================] - 0s 3ms/step - loss: 0.2705 - accuracy: 0.8883 - val_loss: 0.2955 - val_accuracy: 0.8741\n",
      "Epoch 97/100\n",
      "57/57 [==============================] - 0s 3ms/step - loss: 0.2704 - accuracy: 0.8885 - val_loss: 0.2955 - val_accuracy: 0.8738\n",
      "Epoch 98/100\n",
      "57/57 [==============================] - 0s 3ms/step - loss: 0.2702 - accuracy: 0.8888 - val_loss: 0.2955 - val_accuracy: 0.8736\n",
      "Epoch 99/100\n",
      "57/57 [==============================] - 0s 3ms/step - loss: 0.2701 - accuracy: 0.8887 - val_loss: 0.2955 - val_accuracy: 0.8736\n",
      "Epoch 100/100\n",
      "57/57 [==============================] - 0s 4ms/step - loss: 0.2700 - accuracy: 0.8888 - val_loss: 0.2955 - val_accuracy: 0.8733\n"
     ]
    }
   ],
   "source": [
    "history = model.fit(train_ds, \n",
    "                    validation_data=test_ds,\n",
    "                    epochs=EPOCHS)"
   ]
  },
  {
   "cell_type": "markdown",
   "metadata": {},
   "source": [
    "In case we want to separately evaluate this model, we have `evaluate` function."
   ]
  },
  {
   "cell_type": "code",
   "execution_count": 33,
   "metadata": {},
   "outputs": [
    {
     "name": "stdout",
     "output_type": "stream",
     "text": [
      "15/15 - 0s - loss: 0.2955 - accuracy: 0.8733 - 39ms/epoch - 3ms/step\n"
     ]
    },
    {
     "data": {
      "text/plain": [
       "[0.29554569721221924, 0.8732782602310181]"
      ]
     },
     "execution_count": 33,
     "metadata": {},
     "output_type": "execute_result"
    }
   ],
   "source": [
    "model.evaluate ( test_ds, verbose=2)"
   ]
  },
  {
   "cell_type": "code",
   "execution_count": 34,
   "metadata": {},
   "outputs": [
    {
     "data": {
      "text/html": [
       "<div>\n",
       "<style scoped>\n",
       "    .dataframe tbody tr th:only-of-type {\n",
       "        vertical-align: middle;\n",
       "    }\n",
       "\n",
       "    .dataframe tbody tr th {\n",
       "        vertical-align: top;\n",
       "    }\n",
       "\n",
       "    .dataframe thead th {\n",
       "        text-align: right;\n",
       "    }\n",
       "</style>\n",
       "<table border=\"1\" class=\"dataframe\">\n",
       "  <thead>\n",
       "    <tr style=\"text-align: right;\">\n",
       "      <th></th>\n",
       "      <th>loss</th>\n",
       "      <th>accuracy</th>\n",
       "      <th>val_loss</th>\n",
       "      <th>val_accuracy</th>\n",
       "    </tr>\n",
       "  </thead>\n",
       "  <tbody>\n",
       "    <tr>\n",
       "      <th>0</th>\n",
       "      <td>0.918741</td>\n",
       "      <td>0.647792</td>\n",
       "      <td>0.663430</td>\n",
       "      <td>0.755923</td>\n",
       "    </tr>\n",
       "    <tr>\n",
       "      <th>1</th>\n",
       "      <td>0.566645</td>\n",
       "      <td>0.789144</td>\n",
       "      <td>0.515102</td>\n",
       "      <td>0.796694</td>\n",
       "    </tr>\n",
       "    <tr>\n",
       "      <th>2</th>\n",
       "      <td>0.469839</td>\n",
       "      <td>0.810085</td>\n",
       "      <td>0.455551</td>\n",
       "      <td>0.807714</td>\n",
       "    </tr>\n",
       "    <tr>\n",
       "      <th>3</th>\n",
       "      <td>0.423459</td>\n",
       "      <td>0.824551</td>\n",
       "      <td>0.420544</td>\n",
       "      <td>0.818182</td>\n",
       "    </tr>\n",
       "    <tr>\n",
       "      <th>4</th>\n",
       "      <td>0.394291</td>\n",
       "      <td>0.836536</td>\n",
       "      <td>0.395461</td>\n",
       "      <td>0.825895</td>\n",
       "    </tr>\n",
       "  </tbody>\n",
       "</table>\n",
       "</div>"
      ],
      "text/plain": [
       "       loss  accuracy  val_loss  val_accuracy\n",
       "0  0.918741  0.647792  0.663430      0.755923\n",
       "1  0.566645  0.789144  0.515102      0.796694\n",
       "2  0.469839  0.810085  0.455551      0.807714\n",
       "3  0.423459  0.824551  0.420544      0.818182\n",
       "4  0.394291  0.836536  0.395461      0.825895"
      ]
     },
     "execution_count": 34,
     "metadata": {},
     "output_type": "execute_result"
    }
   ],
   "source": [
    "loss_df = pd.DataFrame(history.history)\n",
    "loss_df.head()"
   ]
  },
  {
   "cell_type": "code",
   "execution_count": 35,
   "metadata": {},
   "outputs": [
    {
     "data": {
      "image/png": "[encoded data removed]",
      "text/plain": [
       "<Figure size 1500x600 with 2 Axes>"
      ]
     },
     "metadata": {},
     "output_type": "display_data"
    }
   ],
   "source": [
    "fn_plot_tf_hist(loss_df)"
   ]
  },
  {
   "cell_type": "code",
   "execution_count": 36,
   "metadata": {},
   "outputs": [
    {
     "data": {
      "text/html": [
       "<div>\n",
       "<style scoped>\n",
       "    .dataframe tbody tr th:only-of-type {\n",
       "        vertical-align: middle;\n",
       "    }\n",
       "\n",
       "    .dataframe tbody tr th {\n",
       "        vertical-align: top;\n",
       "    }\n",
       "\n",
       "    .dataframe thead th {\n",
       "        text-align: right;\n",
       "    }\n",
       "</style>\n",
       "<table border=\"1\" class=\"dataframe\">\n",
       "  <thead>\n",
       "    <tr style=\"text-align: right;\">\n",
       "      <th></th>\n",
       "      <th>loss</th>\n",
       "      <th>accuracy</th>\n",
       "      <th>val_loss</th>\n",
       "      <th>val_accuracy</th>\n",
       "    </tr>\n",
       "  </thead>\n",
       "  <tbody>\n",
       "    <tr>\n",
       "      <th>71</th>\n",
       "      <td>0.274775</td>\n",
       "      <td>0.88572</td>\n",
       "      <td>0.29502</td>\n",
       "      <td>0.874931</td>\n",
       "    </tr>\n",
       "  </tbody>\n",
       "</table>\n",
       "</div>"
      ],
      "text/plain": [
       "        loss  accuracy  val_loss  val_accuracy\n",
       "71  0.274775   0.88572   0.29502      0.874931"
      ]
     },
     "execution_count": 36,
     "metadata": {},
     "output_type": "execute_result"
    }
   ],
   "source": [
    "loss_df[loss_df['val_loss'] == loss_df['val_loss'].min()]"
   ]
  },
  {
   "cell_type": "markdown",
   "metadata": {},
   "source": [
    "## Predictions"
   ]
  },
  {
   "cell_type": "code",
   "execution_count": 37,
   "metadata": {},
   "outputs": [],
   "source": [
    "probability_model = tf.keras.Sequential([\n",
    "  model,\n",
    "  tf.keras.layers.Softmax()\n",
    "])"
   ]
  },
  {
   "cell_type": "code",
   "execution_count": 44,
   "metadata": {},
   "outputs": [
    {
     "data": {
      "text/plain": [
       "(14517, 14517)"
      ]
     },
     "execution_count": 44,
     "metadata": {},
     "output_type": "execute_result"
    }
   ],
   "source": [
    "y_true,y_pred = [],[]\n",
    "\n",
    "for features,labels in train_ds:\n",
    "    pred = probability_model(features).numpy()\n",
    "    y_pred.extend(pred)\n",
    "    y_true.extend(labels)\n",
    "len(y_pred), len(y_true)"
   ]
  },
  {
   "cell_type": "code",
   "execution_count": 47,
   "metadata": {},
   "outputs": [
    {
     "name": "stdout",
     "output_type": "stream",
     "text": [
      "              precision    recall  f1-score   support\n",
      "\n",
      "           0       0.11      0.11      0.11      1620\n",
      "           1       0.31      0.31      0.31      4693\n",
      "           2       0.38      0.39      0.39      5470\n",
      "           3       0.19      0.17      0.18      2734\n",
      "\n",
      "    accuracy                           0.30     14517\n",
      "   macro avg       0.25      0.25      0.25     14517\n",
      "weighted avg       0.29      0.30      0.29     14517\n",
      "\n"
     ]
    }
   ],
   "source": [
    "print(classification_report( y_train, np.array(y_pred).argmax( axis = 1)))"
   ]
  },
  {
   "cell_type": "code",
   "execution_count": 48,
   "metadata": {},
   "outputs": [
    {
     "name": "stdout",
     "output_type": "stream",
     "text": [
      "Accuracy score on Test Data :0.87328\n"
     ]
    }
   ],
   "source": [
    "y_pred = probability_model(X_test).numpy()\n",
    "\n",
    "print('Accuracy score on Test Data :{:.5f}'.format(accuracy_score(y_test, \n",
    "                                                                  np.argmax(y_pred, axis = 1))))"
   ]
  },
  {
   "cell_type": "code",
   "execution_count": 49,
   "metadata": {},
   "outputs": [
    {
     "name": "stdout",
     "output_type": "stream",
     "text": [
      "              precision    recall  f1-score   support\n",
      "\n",
      "           0       1.00      1.00      1.00       405\n",
      "           1       0.92      0.93      0.92      1173\n",
      "           2       0.82      0.86      0.84      1368\n",
      "           3       0.83      0.73      0.78       684\n",
      "\n",
      "    accuracy                           0.87      3630\n",
      "   macro avg       0.89      0.88      0.88      3630\n",
      "weighted avg       0.87      0.87      0.87      3630\n",
      "\n"
     ]
    }
   ],
   "source": [
    "print(classification_report(y_test, \n",
    "                            np.argmax(y_pred, axis = 1)))"
   ]
  },
  {
   "cell_type": "code",
   "execution_count": 50,
   "metadata": {},
   "outputs": [
    {
     "data": {
      "image/png": "[encoded data removed]",
      "text/plain": [
       "<Figure size 600x600 with 1 Axes>"
      ]
     },
     "metadata": {},
     "output_type": "display_data"
    }
   ],
   "source": [
    "fn_plot_confusion_matrix( y_test, y_pred.argmax( axis = 1), labels=class_labels)"
   ]
  },
  {
   "cell_type": "code",
   "execution_count": null,
   "metadata": {},
   "outputs": [],
   "source": []
  }
 ],
 "metadata": {
  "kernelspec": {
   "display_name": "Python 3 (ipykernel)",
   "language": "python",
   "name": "python3"
  },
  "language_info": {
   "codemirror_mode": {
    "name": "ipython",
    "version": 3
   },
   "file_extension": ".py",
   "mimetype": "text/x-python",
   "name": "python",
   "nbconvert_exporter": "python",
   "pygments_lexer": "ipython3",
   "version": "3.11.8"
  }
 },
 "nbformat": 4,
 "nbformat_minor": 4
}
