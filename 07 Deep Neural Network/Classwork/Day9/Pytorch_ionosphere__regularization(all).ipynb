{
 "cells": [
  {
   "cell_type": "code",
   "execution_count": 1,
   "id": "a2e75ead",
   "metadata": {},
   "outputs": [],
   "source": [
    "#!/usr/bin/env python\n",
    "# -*- coding: utf-8 -*-"
   ]
  },
  {
   "cell_type": "markdown",
   "id": "62893468",
   "metadata": {},
   "source": [
    "# Image Processing with Neural Network\n",
    "\n",
    "## Ionospere dataset "
   ]
  },
  {
   "cell_type": "code",
   "execution_count": 2,
   "id": "3d52e7d5",
   "metadata": {},
   "outputs": [],
   "source": [
    "###-----------------\n",
    "### Import Libraries\n",
    "###-----------------\n",
    "\n",
    "import os\n",
    "import numpy as np\n",
    "import pandas as pd\n",
    "\n",
    "from sklearn.metrics import accuracy_score, classification_report\n",
    "from sklearn.preprocessing import StandardScaler, LabelEncoder\n",
    "from sklearn.model_selection import train_test_split\n",
    "import matplotlib.pyplot as plt\n",
    "\n",
    "import torch\n",
    "import torch.nn as nn\n",
    "import torch.nn.functional as F\n",
    "from torch.utils.data import Dataset, DataLoader\n",
    "\n",
    "from utils.helper import fn_plot_torch_hist, fn_plot_confusion_matrix"
   ]
  },
  {
   "cell_type": "markdown",
   "id": "7cb13b82",
   "metadata": {},
   "source": [
    "## Cuda"
   ]
  },
  {
   "cell_type": "code",
   "execution_count": 3,
   "id": "8f60ca50",
   "metadata": {},
   "outputs": [
    {
     "data": {
      "text/plain": [
       "False"
      ]
     },
     "execution_count": 3,
     "metadata": {},
     "output_type": "execute_result"
    }
   ],
   "source": [
    "torch.cuda.is_available()"
   ]
  },
  {
   "cell_type": "code",
   "execution_count": 4,
   "id": "ed1c8440",
   "metadata": {},
   "outputs": [],
   "source": [
    "device = 'cuda' if torch.cuda.is_available() else 'cpu'"
   ]
  },
  {
   "cell_type": "markdown",
   "id": "279fc7d0",
   "metadata": {},
   "source": [
    "## utils functions"
   ]
  },
  {
   "cell_type": "code",
   "execution_count": 5,
   "id": "affcf40f-4d50-4980-afb0-ecccaa1d79d1",
   "metadata": {},
   "outputs": [
    {
     "name": "stdout",
     "output_type": "stream",
     "text": [
      "None\n"
     ]
    }
   ],
   "source": [
    "print(fn_plot_torch_hist.__doc__)"
   ]
  },
  {
   "cell_type": "code",
   "execution_count": 6,
   "id": "cbc5263a-2523-4460-86db-85c4787fbf69",
   "metadata": {},
   "outputs": [
    {
     "name": "stdout",
     "output_type": "stream",
     "text": [
      "\n",
      "    Args:\n",
      "        y_true: Ground Truth \n",
      "        y_pred : Predictions\n",
      "        labels : dictonary \n",
      "                  {0: 'Goal Keeper', \n",
      "                  1: 'Defender', \n",
      "                  2: 'Mid-Fielder', \n",
      "                  3: 'Forward'}\n",
      "    \n",
      "    \n"
     ]
    }
   ],
   "source": [
    "print (fn_plot_confusion_matrix.__doc__)"
   ]
  },
  {
   "cell_type": "markdown",
   "id": "172d660e",
   "metadata": {},
   "source": [
    "## basic parameters"
   ]
  },
  {
   "cell_type": "code",
   "execution_count": 7,
   "id": "b32a9af9",
   "metadata": {},
   "outputs": [],
   "source": [
    "###----------------------\n",
    "### Some basic parameters\n",
    "###----------------------\n",
    "\n",
    "inpDir = '../..\\Classwork/input'\n",
    "outDir = './output'\n",
    "modelDir = './models'\n",
    "\n",
    "RANDOM_STATE = 24 # for initialization ----- REMEMBER: to remove at the time of promotion to production\n",
    "torch.manual_seed(RANDOM_STATE)\n",
    "\n",
    "EPOCHS = 500 # number of epochs\n",
    "ALPHA = 0.001 # learning rate\n",
    "BATCH_SIZE = 16\n",
    "\n",
    "WEIGHT_DECAY = 0.001\n",
    "\n",
    "PATIENCE = 30\n",
    "LR_FACTOR = 0.1\n",
    "LR_PATIENCE = 10\n",
    "\n",
    "TRAIN_SIZE = int(17*BATCH_SIZE)\n",
    "\n",
    "\n",
    "# parameters for Matplotlib\n",
    "params = {'legend.fontsize': 'medium',\n",
    "          'figure.figsize': (15, 6),\n",
    "          'axes.labelsize': 'medium',\n",
    "          'axes.titlesize':'large',\n",
    "          'xtick.labelsize':'medium',\n",
    "          'ytick.labelsize':'medium'\n",
    "         }\n",
    "\n",
    "plt.rcParams.update(params)\n",
    "\n",
    "CMAP = plt.cm.brg\n",
    "plt.style.use('seaborn-v0_8-darkgrid') # plt.style.use('ggplot')"
   ]
  },
  {
   "cell_type": "markdown",
   "id": "591b1fc2",
   "metadata": {},
   "source": [
    "## Read Ionosphere data set"
   ]
  },
  {
   "cell_type": "code",
   "execution_count": 8,
   "id": "81c6695e",
   "metadata": {},
   "outputs": [
    {
     "data": {
      "text/html": [
       "<div>\n",
       "<style scoped>\n",
       "    .dataframe tbody tr th:only-of-type {\n",
       "        vertical-align: middle;\n",
       "    }\n",
       "\n",
       "    .dataframe tbody tr th {\n",
       "        vertical-align: top;\n",
       "    }\n",
       "\n",
       "    .dataframe thead th {\n",
       "        text-align: right;\n",
       "    }\n",
       "</style>\n",
       "<table border=\"1\" class=\"dataframe\">\n",
       "  <thead>\n",
       "    <tr style=\"text-align: right;\">\n",
       "      <th></th>\n",
       "      <th>0</th>\n",
       "      <th>1</th>\n",
       "      <th>2</th>\n",
       "      <th>3</th>\n",
       "      <th>4</th>\n",
       "      <th>5</th>\n",
       "      <th>6</th>\n",
       "      <th>7</th>\n",
       "      <th>8</th>\n",
       "      <th>9</th>\n",
       "      <th>...</th>\n",
       "      <th>25</th>\n",
       "      <th>26</th>\n",
       "      <th>27</th>\n",
       "      <th>28</th>\n",
       "      <th>29</th>\n",
       "      <th>30</th>\n",
       "      <th>31</th>\n",
       "      <th>32</th>\n",
       "      <th>33</th>\n",
       "      <th>34</th>\n",
       "    </tr>\n",
       "  </thead>\n",
       "  <tbody>\n",
       "    <tr>\n",
       "      <th>0</th>\n",
       "      <td>1</td>\n",
       "      <td>0</td>\n",
       "      <td>0.99539</td>\n",
       "      <td>-0.05889</td>\n",
       "      <td>0.85243</td>\n",
       "      <td>0.02306</td>\n",
       "      <td>0.83398</td>\n",
       "      <td>-0.37708</td>\n",
       "      <td>1.00000</td>\n",
       "      <td>0.03760</td>\n",
       "      <td>...</td>\n",
       "      <td>-0.51171</td>\n",
       "      <td>0.41078</td>\n",
       "      <td>-0.46168</td>\n",
       "      <td>0.21266</td>\n",
       "      <td>-0.34090</td>\n",
       "      <td>0.42267</td>\n",
       "      <td>-0.54487</td>\n",
       "      <td>0.18641</td>\n",
       "      <td>-0.45300</td>\n",
       "      <td>g</td>\n",
       "    </tr>\n",
       "    <tr>\n",
       "      <th>1</th>\n",
       "      <td>1</td>\n",
       "      <td>0</td>\n",
       "      <td>1.00000</td>\n",
       "      <td>-0.18829</td>\n",
       "      <td>0.93035</td>\n",
       "      <td>-0.36156</td>\n",
       "      <td>-0.10868</td>\n",
       "      <td>-0.93597</td>\n",
       "      <td>1.00000</td>\n",
       "      <td>-0.04549</td>\n",
       "      <td>...</td>\n",
       "      <td>-0.26569</td>\n",
       "      <td>-0.20468</td>\n",
       "      <td>-0.18401</td>\n",
       "      <td>-0.19040</td>\n",
       "      <td>-0.11593</td>\n",
       "      <td>-0.16626</td>\n",
       "      <td>-0.06288</td>\n",
       "      <td>-0.13738</td>\n",
       "      <td>-0.02447</td>\n",
       "      <td>b</td>\n",
       "    </tr>\n",
       "    <tr>\n",
       "      <th>2</th>\n",
       "      <td>1</td>\n",
       "      <td>0</td>\n",
       "      <td>1.00000</td>\n",
       "      <td>-0.03365</td>\n",
       "      <td>1.00000</td>\n",
       "      <td>0.00485</td>\n",
       "      <td>1.00000</td>\n",
       "      <td>-0.12062</td>\n",
       "      <td>0.88965</td>\n",
       "      <td>0.01198</td>\n",
       "      <td>...</td>\n",
       "      <td>-0.40220</td>\n",
       "      <td>0.58984</td>\n",
       "      <td>-0.22145</td>\n",
       "      <td>0.43100</td>\n",
       "      <td>-0.17365</td>\n",
       "      <td>0.60436</td>\n",
       "      <td>-0.24180</td>\n",
       "      <td>0.56045</td>\n",
       "      <td>-0.38238</td>\n",
       "      <td>g</td>\n",
       "    </tr>\n",
       "    <tr>\n",
       "      <th>3</th>\n",
       "      <td>1</td>\n",
       "      <td>0</td>\n",
       "      <td>1.00000</td>\n",
       "      <td>-0.45161</td>\n",
       "      <td>1.00000</td>\n",
       "      <td>1.00000</td>\n",
       "      <td>0.71216</td>\n",
       "      <td>-1.00000</td>\n",
       "      <td>0.00000</td>\n",
       "      <td>0.00000</td>\n",
       "      <td>...</td>\n",
       "      <td>0.90695</td>\n",
       "      <td>0.51613</td>\n",
       "      <td>1.00000</td>\n",
       "      <td>1.00000</td>\n",
       "      <td>-0.20099</td>\n",
       "      <td>0.25682</td>\n",
       "      <td>1.00000</td>\n",
       "      <td>-0.32382</td>\n",
       "      <td>1.00000</td>\n",
       "      <td>b</td>\n",
       "    </tr>\n",
       "    <tr>\n",
       "      <th>4</th>\n",
       "      <td>1</td>\n",
       "      <td>0</td>\n",
       "      <td>1.00000</td>\n",
       "      <td>-0.02401</td>\n",
       "      <td>0.94140</td>\n",
       "      <td>0.06531</td>\n",
       "      <td>0.92106</td>\n",
       "      <td>-0.23255</td>\n",
       "      <td>0.77152</td>\n",
       "      <td>-0.16399</td>\n",
       "      <td>...</td>\n",
       "      <td>-0.65158</td>\n",
       "      <td>0.13290</td>\n",
       "      <td>-0.53206</td>\n",
       "      <td>0.02431</td>\n",
       "      <td>-0.62197</td>\n",
       "      <td>-0.05707</td>\n",
       "      <td>-0.59573</td>\n",
       "      <td>-0.04608</td>\n",
       "      <td>-0.65697</td>\n",
       "      <td>g</td>\n",
       "    </tr>\n",
       "  </tbody>\n",
       "</table>\n",
       "<p>5 rows × 35 columns</p>\n",
       "</div>"
      ],
      "text/plain": [
       "   0   1        2        3        4        5        6        7        8   \\\n",
       "0   1   0  0.99539 -0.05889  0.85243  0.02306  0.83398 -0.37708  1.00000   \n",
       "1   1   0  1.00000 -0.18829  0.93035 -0.36156 -0.10868 -0.93597  1.00000   \n",
       "2   1   0  1.00000 -0.03365  1.00000  0.00485  1.00000 -0.12062  0.88965   \n",
       "3   1   0  1.00000 -0.45161  1.00000  1.00000  0.71216 -1.00000  0.00000   \n",
       "4   1   0  1.00000 -0.02401  0.94140  0.06531  0.92106 -0.23255  0.77152   \n",
       "\n",
       "        9   ...       25       26       27       28       29       30  \\\n",
       "0  0.03760  ... -0.51171  0.41078 -0.46168  0.21266 -0.34090  0.42267   \n",
       "1 -0.04549  ... -0.26569 -0.20468 -0.18401 -0.19040 -0.11593 -0.16626   \n",
       "2  0.01198  ... -0.40220  0.58984 -0.22145  0.43100 -0.17365  0.60436   \n",
       "3  0.00000  ...  0.90695  0.51613  1.00000  1.00000 -0.20099  0.25682   \n",
       "4 -0.16399  ... -0.65158  0.13290 -0.53206  0.02431 -0.62197 -0.05707   \n",
       "\n",
       "        31       32       33  34  \n",
       "0 -0.54487  0.18641 -0.45300   g  \n",
       "1 -0.06288 -0.13738 -0.02447   b  \n",
       "2 -0.24180  0.56045 -0.38238   g  \n",
       "3  1.00000 -0.32382  1.00000   b  \n",
       "4 -0.59573 -0.04608 -0.65697   g  \n",
       "\n",
       "[5 rows x 35 columns]"
      ]
     },
     "execution_count": 8,
     "metadata": {},
     "output_type": "execute_result"
    }
   ],
   "source": [
    "filepath = os.path.join(inpDir,'ionosphere', 'ionosphere.data')\n",
    "\n",
    "data_df = pd.read_csv(filepath, header = None)\n",
    "\n",
    "data_df.head()"
   ]
  },
  {
   "cell_type": "code",
   "execution_count": 9,
   "id": "2974ad56",
   "metadata": {},
   "outputs": [
    {
     "data": {
      "text/plain": [
       "((272, 35), (79, 35))"
      ]
     },
     "execution_count": 9,
     "metadata": {},
     "output_type": "execute_result"
    }
   ],
   "source": [
    "train_df, test_df = train_test_split(data_df,\n",
    "                                     train_size = TRAIN_SIZE, \n",
    "                                     stratify = data_df[data_df.columns[-1]],\n",
    "                                     random_state = RANDOM_STATE)\n",
    "\n",
    "train_df.shape, test_df.shape"
   ]
  },
  {
   "cell_type": "code",
   "execution_count": 10,
   "id": "f0863f76",
   "metadata": {},
   "outputs": [],
   "source": [
    "''' Using Singleton design pattern'''\n",
    "\n",
    "class Transformers():\n",
    "    \n",
    "    '''\n",
    "    Args:\n",
    "        has one standard scaler and one label encoder\n",
    "    '''\n",
    "    _instance = None\n",
    "    \n",
    "    def __init__ (self):\n",
    "        if Transformers._instance is not None:\n",
    "            raise Exception (\"GlobalScaler  class is a singleton.\")\n",
    "            \n",
    "        self.scaler = StandardScaler()\n",
    "        self.encoder = LabelEncoder()\n",
    "    \n",
    "    @ classmethod\n",
    "    def get_instance(cls):\n",
    "        if cls._instance is None:\n",
    "            cls._instance = Transformers()\n",
    "        return cls._instance            "
   ]
  },
  {
   "cell_type": "markdown",
   "id": "2cb35266",
   "metadata": {},
   "source": [
    "##  Scalling and Features and labels extraction to tensor format "
   ]
  },
  {
   "cell_type": "code",
   "execution_count": 11,
   "id": "c38426bc",
   "metadata": {},
   "outputs": [],
   "source": [
    "class IonoDS(Dataset):\n",
    "\n",
    "    transformers = Transformers.get_instance() ## standard scaler and label encoder\n",
    "    \n",
    "    def __init__(self, \n",
    "                 dataframe : pd.DataFrame,\n",
    "                 device: str = device,\n",
    "                is_train = True,\n",
    "                label_col = None):\n",
    "        \n",
    "        super(IonoDS, self).__init__()\n",
    "        \n",
    "        self.df = dataframe\n",
    "        self.device = device\n",
    "        self.is_train = is_train\n",
    "        self.label_col = label_col \n",
    "        self.scaler = self.transformers.scaler\n",
    "        self.encoder = self.transformers.encoder\n",
    "        \n",
    "        y = self.df[self.label_col].to_numpy()\n",
    "        X = self.df.drop(self.label_col , axis =1).to_numpy()\n",
    "        \n",
    "        if self.is_train : \n",
    "            self.labels = self.encoder.fit_transform(y)\n",
    "            self.features = self.scaler.fit_transform(X)\n",
    "        else:\n",
    "            self.labels = self.encoder.transform(y)\n",
    "            self.features = self.scaler.transform(X)\n",
    "         \n",
    "    def __len__(self):\n",
    "        return len(self.features)\n",
    "    \n",
    "    def __getitem__(self,idx):\n",
    "        features = self.features[idx]\n",
    "        label = self.labels[idx]\n",
    "            \n",
    "        features = torch.tensor(features, \n",
    "                                dtype=torch.float32,\n",
    "                                device = self.device)\n",
    "        \n",
    "        label = torch.tensor(label, \n",
    "                             dtype=torch.int64,\n",
    "                             device = self.device)\n",
    "        \n",
    "        return features, label"
   ]
  },
  {
   "cell_type": "markdown",
   "id": "6395024c",
   "metadata": {},
   "source": [
    "## Model"
   ]
  },
  {
   "cell_type": "code",
   "execution_count": 12,
   "id": "de23b944",
   "metadata": {},
   "outputs": [],
   "source": [
    "class Model (nn.Module):\n",
    "    def __init__(self, input_dim):\n",
    "        super(Model, self).__init__()\n",
    "        \n",
    "        ## define Dropout rates\n",
    "        self.dor1 = 0.2\n",
    "        self.dor2 = 0.2\n",
    "        self.dor3 = 0.2\n",
    "        \n",
    "        \n",
    "        ## Layer 1\n",
    "        self.layer1 = nn.Linear(input_dim,26) ## 34*26(no of weights)\n",
    "        self.bn1 = nn.BatchNorm1d(26) ## batch normalization\n",
    "        self.activ1 = nn.ReLU()\n",
    "        self.dropout1 = nn.Dropout(self.dor1) ## Dropout\n",
    "        \n",
    "        ## Layer 2\n",
    "        self.layer2 = nn.Linear(26,18)## 26*18 \n",
    "        self.bn2 = nn.BatchNorm1d(18)  ## batch normalization\n",
    "        self.activ2 = nn.ReLU()\n",
    "        self.dropout2 = nn.Dropout(self.dor2)  ## Dropout\n",
    "        \n",
    "        ## layer 3\n",
    "        self.layer3 = nn.Linear(18,10) ## 32*10 \n",
    "        self.bn3 = nn.BatchNorm1d(10)  ## batch normalization\n",
    "        self.activ3 = nn.ReLU()\n",
    "        self.dropout3 = nn.Dropout(self.dor3)  ## Dropout\n",
    "        \n",
    "        ## output layer (4)\n",
    "        self.layer4 = nn.Linear(10,2) ## 10*2 \n",
    "        self.softmax = nn.LogSoftmax(dim=1)\n",
    "        \n",
    "    def forward(self,x):\n",
    "        x = self.layer1(x)\n",
    "        x = self.bn1(x)\n",
    "        x = self.activ1(x)\n",
    "        x = self.dropout1(x)\n",
    "        \n",
    "        x = self.layer2(x)\n",
    "        x = self.bn2(x)\n",
    "        x = self.activ2(x)\n",
    "        x = self.dropout2(x)\n",
    "        \n",
    "        x = self.layer3(x)\n",
    "        x = self.bn3(x)\n",
    "        x = self.activ3(x)\n",
    "        x = self.dropout3(x)\n",
    "        \n",
    "        x = self.layer4(x)\n",
    "        return self.softmax(x)"
   ]
  },
  {
   "cell_type": "code",
   "execution_count": 13,
   "id": "e9607243",
   "metadata": {},
   "outputs": [
    {
     "name": "stdout",
     "output_type": "stream",
     "text": [
      "Model(\n",
      "  (layer1): Linear(in_features=34, out_features=26, bias=True)\n",
      "  (bn1): BatchNorm1d(26, eps=1e-05, momentum=0.1, affine=True, track_running_stats=True)\n",
      "  (activ1): ReLU()\n",
      "  (dropout1): Dropout(p=0.2, inplace=False)\n",
      "  (layer2): Linear(in_features=26, out_features=18, bias=True)\n",
      "  (bn2): BatchNorm1d(18, eps=1e-05, momentum=0.1, affine=True, track_running_stats=True)\n",
      "  (activ2): ReLU()\n",
      "  (dropout2): Dropout(p=0.2, inplace=False)\n",
      "  (layer3): Linear(in_features=18, out_features=10, bias=True)\n",
      "  (bn3): BatchNorm1d(10, eps=1e-05, momentum=0.1, affine=True, track_running_stats=True)\n",
      "  (activ3): ReLU()\n",
      "  (dropout3): Dropout(p=0.2, inplace=False)\n",
      "  (layer4): Linear(in_features=10, out_features=2, bias=True)\n",
      "  (softmax): LogSoftmax(dim=1)\n",
      ")\n"
     ]
    }
   ],
   "source": [
    "input_shape = data_df.shape[1]-1\n",
    "\n",
    "model = Model(input_dim = input_shape).to(device)\n",
    "print(model)"
   ]
  },
  {
   "cell_type": "markdown",
   "id": "6de8e1d5",
   "metadata": {},
   "source": [
    "## Data Preparation"
   ]
  },
  {
   "cell_type": "code",
   "execution_count": 14,
   "id": "659e0ac6",
   "metadata": {},
   "outputs": [],
   "source": [
    "label_col = 34\n",
    "\n",
    "train_ds = IonoDS(train_df, is_train =True, label_col = label_col)\n",
    "test_ds = IonoDS(test_df, is_train =False, label_col = label_col)\n",
    "\n",
    "train_loader = DataLoader(train_ds, batch_size = BATCH_SIZE, shuffle=True)\n",
    "test_loader = DataLoader(test_ds, batch_size = BATCH_SIZE, shuffle=True)"
   ]
  },
  {
   "cell_type": "markdown",
   "id": "8868637c",
   "metadata": {},
   "source": [
    "## Traing and testing"
   ]
  },
  {
   "cell_type": "code",
   "execution_count": 15,
   "id": "e78d6da8",
   "metadata": {},
   "outputs": [
    {
     "name": "stdout",
     "output_type": "stream",
     "text": [
      "Epoch :    0/  500 --- Loss: 0.70334/0.61275 | Acc 0.58088/0.77215 | Alpha : 0.00100| Counter :   0\n",
      "Epoch :    5/  500 --- Loss: 0.46096/0.36525 | Acc 0.82721/0.88608 | Alpha : 0.00100| Counter :   0\n",
      "Epoch :   10/  500 --- Loss: 0.34921/0.25539 | Acc 0.89706/0.92405 | Alpha : 0.00100| Counter :   0\n",
      "Epoch :   15/  500 --- Loss: 0.33106/0.22520 | Acc 0.88235/0.92405 | Alpha : 0.00100| Counter :   2\n",
      "Epoch :   20/  500 --- Loss: 0.28711/0.21048 | Acc 0.90809/0.92405 | Alpha : 0.00100| Counter :   2\n",
      "Epoch :   25/  500 --- Loss: 0.24158/0.18330 | Acc 0.91544/0.93671 | Alpha : 0.00100| Counter :   4\n",
      "Epoch :   30/  500 --- Loss: 0.18213/0.13308 | Acc 0.95588/0.97468 | Alpha : 0.00100| Counter :   0\n",
      "Epoch :   35/  500 --- Loss: 0.13881/0.14605 | Acc 0.95956/0.96203 | Alpha : 0.00100| Counter :   4\n",
      "Epoch :   40/  500 --- Loss: 0.18819/0.12617 | Acc 0.93382/0.96203 | Alpha : 0.00100| Counter :   9\n",
      "Epoch :   45/  500 --- Loss: 0.19530/0.15368 | Acc 0.91176/0.94937 | Alpha : 0.00010| Counter :  14\n",
      "Epoch :   50/  500 --- Loss: 0.17098/0.13689 | Acc 0.93382/0.96203 | Alpha : 0.00010| Counter :  19\n",
      "Epoch :   55/  500 --- Loss: 0.14608/0.14176 | Acc 0.94485/0.96203 | Alpha : 0.00001| Counter :  24\n",
      "Epoch :   60/  500 --- Loss: 0.17291/0.13218 | Acc 0.93750/0.96203 | Alpha : 0.00001| Counter :  29\n"
     ]
    }
   ],
   "source": [
    "## Loss function\n",
    "loss_fn = nn.CrossEntropyLoss()\n",
    "\n",
    "## Optimizer\n",
    "optimizer = torch.optim.Adam(model.parameters(),lr=ALPHA,weight_decay = WEIGHT_DECAY)\n",
    "\n",
    "scheduler = torch.optim.lr_scheduler.ReduceLROnPlateau(optimizer, \n",
    "                                                       mode='min',\n",
    "                                                       factor=LR_FACTOR,\n",
    "                                                       patience=LR_PATIENCE,\n",
    "                                                       min_lr=0.00001)\n",
    "\n",
    "minLoss = float('inf') # minimum loss\n",
    "\n",
    "savePath = os.path.join(modelDir, 'ionosphere', 'iono.pth')\n",
    "\n",
    "### Some lists to collect data\n",
    "loss = []\n",
    "tloss = []\n",
    "n_epoch = []\n",
    "acc = []\n",
    "tacc = []\n",
    "\n",
    "## iterations\n",
    "for epoch in range(EPOCHS):\n",
    "    \n",
    "    train_loss = 0.0\n",
    "    train_acc = 0.0\n",
    "    \n",
    "    for i, (data, target) in enumerate(train_loader):\n",
    "    \n",
    "        model.train() ### set model in training mode\n",
    "    \n",
    "        predict_prob = model(data) ## make prediction\n",
    "    \n",
    "        curr_loss = loss_fn(predict_prob , target) ## Calculate loss\n",
    "    \n",
    "        ### -----------\n",
    "        ### Back Prop Step\n",
    "        ### -----------\n",
    "    \n",
    "        optimizer.zero_grad() ### forget gradients for previous loop\n",
    "        curr_loss.backward() ## asssign loss calculated\n",
    "        optimizer.step() ## calculate gradients and take step to reduce loss\n",
    "    \n",
    "        train_loss += curr_loss.data.item()*data.size(0)  # append to loss list\n",
    "    \n",
    "        y_pred = torch.argmax(predict_prob, 1) # get predicted class from the probabilities\n",
    "        \n",
    "        curr_acc = accuracy_score(target.cpu().numpy(), y_pred.cpu().numpy()) # move to CPU if  device = 'cpu' --> y_pred.data.cpu()\n",
    "    \n",
    "        train_acc += curr_acc*data.size(0)   # append to accuracy list\n",
    "        \n",
    "    \n",
    "    test_loss = 0.0\n",
    "    test_acc = 0.0\n",
    "    \n",
    "    for i, (data, target) in enumerate(test_loader):\n",
    "        \n",
    "        model.eval() # evaluation mode, prevent from learning\n",
    "    \n",
    "        predict_prob_tst = model(data) # make predictions on test data\n",
    "    \n",
    "        tcurr_loss = loss_fn( predict_prob_tst, target)\n",
    "    \n",
    "        test_loss += tcurr_loss.data.item()*data.size(0)   # append to loss list\n",
    "    \n",
    "        y_pred = torch.argmax(predict_prob_tst, 1) # get predicted class from the probabilities\n",
    "    \n",
    "        tcurr_acc = accuracy_score(target.cpu().numpy(), y_pred.cpu().numpy())# move to CPU \n",
    "    \n",
    "        test_acc += tcurr_acc*data.size(0)  # append to accuracy list\n",
    "\n",
    "    \n",
    "    n_epoch.append(epoch)\n",
    "    loss.append(train_loss/len(train_df))\n",
    "    tloss.append(test_loss/len(test_df))\n",
    "    acc.append(train_acc/len(train_df))\n",
    "    tacc.append(test_acc/len(test_df))  \n",
    "    \n",
    "    scheduler.step(tloss[-1])\n",
    "    \n",
    "    if tloss[-1] < minLoss:\n",
    "        minLoss = tloss[-1]\n",
    "        counter = 0\n",
    "        ## save model\n",
    "        \n",
    "        torch.save({'epoch': epoch+1,\n",
    "                   'model_state_dict' : model.state_dict(),\n",
    "                   'optimizer_state_dict': optimizer.state_dict(),\n",
    "                   'loss':loss_fn},savePath)\n",
    "    else:\n",
    "        counter +=1\n",
    "    if counter>PATIENCE:\n",
    "        break;\n",
    "        \n",
    "        \n",
    "        \n",
    "    if epoch % 5 == 0:\n",
    "        fmtStr = 'Epoch :{:5d}/{:5d} --- Loss: {:.5f}/{:.5f} | Acc {:.5f}/{:.5f} | Alpha : {:.5f}| Counter : {:3d}'\n",
    "        \n",
    "        print (fmtStr.format(epoch, EPOCHS,\n",
    "                             train_loss/len(train_df),\n",
    "                             test_loss/len(test_df),  \n",
    "                             train_acc/len(train_df), \n",
    "                             test_acc/len(test_df),\n",
    "                            scheduler.get_last_lr()[0],\n",
    "                            counter))"
   ]
  },
  {
   "cell_type": "markdown",
   "id": "569e9b1a",
   "metadata": {},
   "source": [
    "## Visualization of model metrics"
   ]
  },
  {
   "cell_type": "code",
   "execution_count": 16,
   "id": "6adf2630",
   "metadata": {},
   "outputs": [
    {
     "data": {
      "image/png": "[encoded data removed]",
      "text/plain": [
       "<Figure size 1500x600 with 2 Axes>"
      ]
     },
     "metadata": {},
     "output_type": "display_data"
    }
   ],
   "source": [
    "loss_df = pd.DataFrame({'epoch': n_epoch,\n",
    "                       'loss' : loss,\n",
    "                       'test_loss' : tloss,\n",
    "                       'acc' : acc,\n",
    "                       'test_acc': tacc})\n",
    "fn_plot_torch_hist(loss_df)"
   ]
  },
  {
   "cell_type": "markdown",
   "id": "6b9dc020",
   "metadata": {},
   "source": [
    "## Training Confusion matrics"
   ]
  },
  {
   "cell_type": "code",
   "execution_count": 17,
   "id": "b5ba51de",
   "metadata": {},
   "outputs": [],
   "source": [
    "y_train = []\n",
    "y_pred = []\n",
    "\n",
    "for i, (data,target) in enumerate (train_loader):\n",
    "    outputs = model(data)\n",
    "    pred = torch.argmax(outputs, dim=1)\n",
    "    y_train.extend(target.cpu().numpy())\n",
    "    y_pred.extend(pred.cpu().numpy())"
   ]
  },
  {
   "cell_type": "code",
   "execution_count": 18,
   "id": "a440c110",
   "metadata": {},
   "outputs": [
    {
     "name": "stdout",
     "output_type": "stream",
     "text": [
      "              precision    recall  f1-score   support\n",
      "\n",
      "           0       0.99      0.96      0.97        98\n",
      "           1       0.98      0.99      0.99       174\n",
      "\n",
      "    accuracy                           0.98       272\n",
      "   macro avg       0.98      0.98      0.98       272\n",
      "weighted avg       0.98      0.98      0.98       272\n",
      "\n"
     ]
    }
   ],
   "source": [
    "print(classification_report(y_train,y_pred))"
   ]
  },
  {
   "cell_type": "code",
   "execution_count": 19,
   "id": "0ccb4d99",
   "metadata": {},
   "outputs": [
    {
     "data": {
      "image/png": "[encoded data removed]",
      "text/plain": [
       "<Figure size 600x600 with 1 Axes>"
      ]
     },
     "metadata": {},
     "output_type": "display_data"
    }
   ],
   "source": [
    "class_labels = {k : v for k,v in enumerate(train_ds.transformers.encoder.classes_)}\n",
    "fn_plot_confusion_matrix(y_train,y_pred,class_labels)"
   ]
  },
  {
   "cell_type": "markdown",
   "id": "9ace89e2",
   "metadata": {},
   "source": [
    "## Testing Confusion matrics"
   ]
  },
  {
   "cell_type": "code",
   "execution_count": 20,
   "id": "8b3f9600",
   "metadata": {},
   "outputs": [],
   "source": [
    "y_test = []\n",
    "y_pred = []\n",
    "\n",
    "for i, (data,target) in enumerate (test_loader):\n",
    "    outputs = model(data)\n",
    "    pred = torch.argmax(outputs, dim=1)\n",
    "    y_test.extend(target.numpy())\n",
    "    y_pred.extend(pred.numpy())"
   ]
  },
  {
   "cell_type": "code",
   "execution_count": 21,
   "id": "8c40bd5a",
   "metadata": {},
   "outputs": [
    {
     "name": "stdout",
     "output_type": "stream",
     "text": [
      "              precision    recall  f1-score   support\n",
      "\n",
      "           0       1.00      0.89      0.94        28\n",
      "           1       0.94      1.00      0.97        51\n",
      "\n",
      "    accuracy                           0.96        79\n",
      "   macro avg       0.97      0.95      0.96        79\n",
      "weighted avg       0.96      0.96      0.96        79\n",
      "\n"
     ]
    }
   ],
   "source": [
    "print(classification_report(y_test,y_pred))"
   ]
  },
  {
   "cell_type": "code",
   "execution_count": 22,
   "id": "8a37f5f7",
   "metadata": {},
   "outputs": [
    {
     "data": {
      "image/png": "[encoded data removed]",
      "text/plain": [
       "<Figure size 600x600 with 1 Axes>"
      ]
     },
     "metadata": {},
     "output_type": "display_data"
    }
   ],
   "source": [
    "class_labels = {k : v for k,v in enumerate(test_ds.transformers.encoder.classes_)}\n",
    "fn_plot_confusion_matrix(y_test,y_pred,class_labels)"
   ]
  },
  {
   "cell_type": "code",
   "execution_count": null,
   "id": "75441229",
   "metadata": {},
   "outputs": [],
   "source": []
  }
 ],
 "metadata": {
  "kernelspec": {
   "display_name": "Python 3 (ipykernel)",
   "language": "python",
   "name": "python3"
  },
  "language_info": {
   "codemirror_mode": {
    "name": "ipython",
    "version": 3
   },
   "file_extension": ".py",
   "mimetype": "text/x-python",
   "name": "python",
   "nbconvert_exporter": "python",
   "pygments_lexer": "ipython3",
   "version": "3.11.8"
  }
 },
 "nbformat": 4,
 "nbformat_minor": 5
}
