{
 "cells": [
  {
   "cell_type": "markdown",
   "metadata": {},
   "source": [
    "## Import Statements"
   ]
  },
  {
   "cell_type": "code",
   "execution_count": 1,
   "metadata": {},
   "outputs": [],
   "source": [
    "###-----------------\n",
    "### Import Libraries\n",
    "###-----------------\n",
    "\n",
    "import numpy as np\n",
    "import pandas as pd\n",
    "import matplotlib.pyplot as plt\n",
    "\n",
    "import seaborn as sns\n",
    "\n",
    "from sklearn import datasets\n",
    "from sklearn.model_selection import train_test_split\n",
    "from sklearn.metrics import accuracy_score, confusion_matrix, ConfusionMatrixDisplay, classification_report\n",
    "from sklearn.preprocessing import StandardScaler, LabelBinarizer"
   ]
  },
  {
   "cell_type": "markdown",
   "metadata": {},
   "source": [
    "## Setup Global Parameters"
   ]
  },
  {
   "cell_type": "code",
   "execution_count": 2,
   "metadata": {},
   "outputs": [],
   "source": [
    "###----------------\n",
    "### Some parameters\n",
    "###----------------\n",
    "\n",
    "RANDOM_STATE = 24 # REMEMBER: to remove at the time of promotion to production\n",
    "np.random.seed(RANDOM_STATE)\n",
    "rng = np.random.default_rng(seed = RANDOM_STATE) # Set Random Seed for reproducible  results\n",
    "\n",
    "NOISE = 0.2\n",
    "EPOCHS = 1000  # number of epochs\n",
    "ALPHA = 0.1  # learning rate\n",
    "N_SAMPLES = 1000\n",
    "TEST_SIZE = 0.2\n",
    "\n",
    "# parameters for Matplotlib\n",
    "params = {'legend.fontsize': 'medium',\n",
    "          'figure.figsize': (15, 8),\n",
    "          'axes.labelsize': 'large',\n",
    "          'axes.titlesize':'large',\n",
    "          'xtick.labelsize':'large',\n",
    "          'ytick.labelsize':'large'\n",
    "         }\n",
    "\n",
    "plt.rcParams.update(params)\n",
    "\n",
    "CMAP = plt.cm.coolwarm\n",
    "plt.style.use('seaborn-v0_8-darkgrid') # plt.style.use('ggplot')"
   ]
  },
  {
   "cell_type": "markdown",
   "metadata": {},
   "source": [
    "## Generate Data Set\n",
    "<div style=\"font-family: Arial; font-size:1.2em;\">\n",
    "Sklearn's dataset generator is good source of data for learning. To keep the example simple, I'll suggest  <a href=\"http://scikit-learn.org/stable/modules/generated/sklearn.datasets.make_moons.html\">make_moon</a> dataset generator.\n",
    "</div>"
   ]
  },
  {
   "cell_type": "code",
   "execution_count": 3,
   "metadata": {},
   "outputs": [],
   "source": [
    "iris = datasets.load_iris()\n",
    "data_df = pd.DataFrame(data = iris.data,columns=iris.feature_names)\n",
    "data_df['target'] = iris['target']\n",
    "X = iris['data']\n",
    "y = iris['target']"
   ]
  },
  {
   "cell_type": "code",
   "execution_count": 4,
   "metadata": {},
   "outputs": [
    {
     "data": {
      "text/html": [
       "<div>\n",
       "<style scoped>\n",
       "    .dataframe tbody tr th:only-of-type {\n",
       "        vertical-align: middle;\n",
       "    }\n",
       "\n",
       "    .dataframe tbody tr th {\n",
       "        vertical-align: top;\n",
       "    }\n",
       "\n",
       "    .dataframe thead th {\n",
       "        text-align: right;\n",
       "    }\n",
       "</style>\n",
       "<table border=\"1\" class=\"dataframe\">\n",
       "  <thead>\n",
       "    <tr style=\"text-align: right;\">\n",
       "      <th></th>\n",
       "      <th>sepal length (cm)</th>\n",
       "      <th>sepal width (cm)</th>\n",
       "      <th>petal length (cm)</th>\n",
       "      <th>petal width (cm)</th>\n",
       "      <th>target</th>\n",
       "    </tr>\n",
       "  </thead>\n",
       "  <tbody>\n",
       "    <tr>\n",
       "      <th>0</th>\n",
       "      <td>5.1</td>\n",
       "      <td>3.5</td>\n",
       "      <td>1.4</td>\n",
       "      <td>0.2</td>\n",
       "      <td>0</td>\n",
       "    </tr>\n",
       "    <tr>\n",
       "      <th>1</th>\n",
       "      <td>4.9</td>\n",
       "      <td>3.0</td>\n",
       "      <td>1.4</td>\n",
       "      <td>0.2</td>\n",
       "      <td>0</td>\n",
       "    </tr>\n",
       "    <tr>\n",
       "      <th>2</th>\n",
       "      <td>4.7</td>\n",
       "      <td>3.2</td>\n",
       "      <td>1.3</td>\n",
       "      <td>0.2</td>\n",
       "      <td>0</td>\n",
       "    </tr>\n",
       "    <tr>\n",
       "      <th>3</th>\n",
       "      <td>4.6</td>\n",
       "      <td>3.1</td>\n",
       "      <td>1.5</td>\n",
       "      <td>0.2</td>\n",
       "      <td>0</td>\n",
       "    </tr>\n",
       "    <tr>\n",
       "      <th>4</th>\n",
       "      <td>5.0</td>\n",
       "      <td>3.6</td>\n",
       "      <td>1.4</td>\n",
       "      <td>0.2</td>\n",
       "      <td>0</td>\n",
       "    </tr>\n",
       "  </tbody>\n",
       "</table>\n",
       "</div>"
      ],
      "text/plain": [
       "   sepal length (cm)  sepal width (cm)  petal length (cm)  petal width (cm)  \\\n",
       "0                5.1               3.5                1.4               0.2   \n",
       "1                4.9               3.0                1.4               0.2   \n",
       "2                4.7               3.2                1.3               0.2   \n",
       "3                4.6               3.1                1.5               0.2   \n",
       "4                5.0               3.6                1.4               0.2   \n",
       "\n",
       "   target  \n",
       "0       0  \n",
       "1       0  \n",
       "2       0  \n",
       "3       0  \n",
       "4       0  "
      ]
     },
     "execution_count": 4,
     "metadata": {},
     "output_type": "execute_result"
    }
   ],
   "source": [
    "data_df.head()"
   ]
  },
  {
   "cell_type": "markdown",
   "metadata": {},
   "source": [
    "## Visualization\n",
    "<p style=\"font-family: Arial; font-size:1.2em\">\n",
    "DataFrames are easier to visualize\n",
    "</p>"
   ]
  },
  {
   "cell_type": "code",
   "execution_count": 5,
   "metadata": {},
   "outputs": [
    {
     "name": "stdout",
     "output_type": "stream",
     "text": [
      "<class 'pandas.core.frame.DataFrame'>\n",
      "RangeIndex: 150 entries, 0 to 149\n",
      "Data columns (total 5 columns):\n",
      " #   Column             Non-Null Count  Dtype  \n",
      "---  ------             --------------  -----  \n",
      " 0   sepal length (cm)  150 non-null    float64\n",
      " 1   sepal width (cm)   150 non-null    float64\n",
      " 2   petal length (cm)  150 non-null    float64\n",
      " 3   petal width (cm)   150 non-null    float64\n",
      " 4   target             150 non-null    int32  \n",
      "dtypes: float64(4), int32(1)\n",
      "memory usage: 5.4 KB\n"
     ]
    }
   ],
   "source": [
    "data_df.info()"
   ]
  },
  {
   "cell_type": "code",
   "execution_count": 6,
   "metadata": {},
   "outputs": [
    {
     "data": {
      "text/html": [
       "<div>\n",
       "<style scoped>\n",
       "    .dataframe tbody tr th:only-of-type {\n",
       "        vertical-align: middle;\n",
       "    }\n",
       "\n",
       "    .dataframe tbody tr th {\n",
       "        vertical-align: top;\n",
       "    }\n",
       "\n",
       "    .dataframe thead th {\n",
       "        text-align: right;\n",
       "    }\n",
       "</style>\n",
       "<table border=\"1\" class=\"dataframe\">\n",
       "  <thead>\n",
       "    <tr style=\"text-align: right;\">\n",
       "      <th></th>\n",
       "      <th>sepal length (cm)</th>\n",
       "      <th>sepal width (cm)</th>\n",
       "      <th>petal length (cm)</th>\n",
       "      <th>petal width (cm)</th>\n",
       "      <th>target</th>\n",
       "    </tr>\n",
       "  </thead>\n",
       "  <tbody>\n",
       "    <tr>\n",
       "      <th>count</th>\n",
       "      <td>150.000000</td>\n",
       "      <td>150.000000</td>\n",
       "      <td>150.000000</td>\n",
       "      <td>150.000000</td>\n",
       "      <td>150.000000</td>\n",
       "    </tr>\n",
       "    <tr>\n",
       "      <th>mean</th>\n",
       "      <td>5.843333</td>\n",
       "      <td>3.057333</td>\n",
       "      <td>3.758000</td>\n",
       "      <td>1.199333</td>\n",
       "      <td>1.000000</td>\n",
       "    </tr>\n",
       "    <tr>\n",
       "      <th>std</th>\n",
       "      <td>0.828066</td>\n",
       "      <td>0.435866</td>\n",
       "      <td>1.765298</td>\n",
       "      <td>0.762238</td>\n",
       "      <td>0.819232</td>\n",
       "    </tr>\n",
       "    <tr>\n",
       "      <th>min</th>\n",
       "      <td>4.300000</td>\n",
       "      <td>2.000000</td>\n",
       "      <td>1.000000</td>\n",
       "      <td>0.100000</td>\n",
       "      <td>0.000000</td>\n",
       "    </tr>\n",
       "    <tr>\n",
       "      <th>25%</th>\n",
       "      <td>5.100000</td>\n",
       "      <td>2.800000</td>\n",
       "      <td>1.600000</td>\n",
       "      <td>0.300000</td>\n",
       "      <td>0.000000</td>\n",
       "    </tr>\n",
       "    <tr>\n",
       "      <th>50%</th>\n",
       "      <td>5.800000</td>\n",
       "      <td>3.000000</td>\n",
       "      <td>4.350000</td>\n",
       "      <td>1.300000</td>\n",
       "      <td>1.000000</td>\n",
       "    </tr>\n",
       "    <tr>\n",
       "      <th>75%</th>\n",
       "      <td>6.400000</td>\n",
       "      <td>3.300000</td>\n",
       "      <td>5.100000</td>\n",
       "      <td>1.800000</td>\n",
       "      <td>2.000000</td>\n",
       "    </tr>\n",
       "    <tr>\n",
       "      <th>max</th>\n",
       "      <td>7.900000</td>\n",
       "      <td>4.400000</td>\n",
       "      <td>6.900000</td>\n",
       "      <td>2.500000</td>\n",
       "      <td>2.000000</td>\n",
       "    </tr>\n",
       "  </tbody>\n",
       "</table>\n",
       "</div>"
      ],
      "text/plain": [
       "       sepal length (cm)  sepal width (cm)  petal length (cm)  \\\n",
       "count         150.000000        150.000000         150.000000   \n",
       "mean            5.843333          3.057333           3.758000   \n",
       "std             0.828066          0.435866           1.765298   \n",
       "min             4.300000          2.000000           1.000000   \n",
       "25%             5.100000          2.800000           1.600000   \n",
       "50%             5.800000          3.000000           4.350000   \n",
       "75%             6.400000          3.300000           5.100000   \n",
       "max             7.900000          4.400000           6.900000   \n",
       "\n",
       "       petal width (cm)      target  \n",
       "count        150.000000  150.000000  \n",
       "mean           1.199333    1.000000  \n",
       "std            0.762238    0.819232  \n",
       "min            0.100000    0.000000  \n",
       "25%            0.300000    0.000000  \n",
       "50%            1.300000    1.000000  \n",
       "75%            1.800000    2.000000  \n",
       "max            2.500000    2.000000  "
      ]
     },
     "execution_count": 6,
     "metadata": {},
     "output_type": "execute_result"
    }
   ],
   "source": [
    "data_df.describe() # Generate descriptive statistic"
   ]
  },
  {
   "cell_type": "code",
   "execution_count": 7,
   "metadata": {},
   "outputs": [
    {
     "data": {
      "text/plain": [
       "array([0, 1, 2])"
      ]
     },
     "execution_count": 7,
     "metadata": {},
     "output_type": "execute_result"
    }
   ],
   "source": [
    "# what labels are present?\n",
    "data_df.target.unique()"
   ]
  },
  {
   "cell_type": "code",
   "execution_count": 8,
   "metadata": {},
   "outputs": [
    {
     "data": {
      "image/png": "[encoded data removed]",
      "text/plain": [
       "<Figure size 1500x800 with 1 Axes>"
      ]
     },
     "metadata": {},
     "output_type": "display_data"
    }
   ],
   "source": [
    "fig, ax = plt.subplots() # Instantiate\n",
    "    \n",
    "data_df['target'].value_counts().plot(ax=ax, kind='bar');"
   ]
  },
  {
   "cell_type": "code",
   "execution_count": 9,
   "metadata": {},
   "outputs": [],
   "source": [
    "X_train,X_test, y_train,y_test =train_test_split(X,y,test_size=TEST_SIZE,stratify=y,random_state = RANDOM_STATE)"
   ]
  },
  {
   "cell_type": "code",
   "execution_count": 10,
   "metadata": {},
   "outputs": [
    {
     "data": {
      "text/plain": [
       "((120, 4), (30, 4), (120,), (30,))"
      ]
     },
     "execution_count": 10,
     "metadata": {},
     "output_type": "execute_result"
    }
   ],
   "source": [
    "X_train.shape,X_test.shape, y_train.shape,y_test.shape"
   ]
  },
  {
   "cell_type": "code",
   "execution_count": 11,
   "metadata": {},
   "outputs": [],
   "source": [
    "scaler = StandardScaler()\n",
    "X_train = scaler.fit_transform(X_train)\n",
    "X_test = scaler.transform(X_test)"
   ]
  },
  {
   "cell_type": "code",
   "execution_count": 12,
   "metadata": {},
   "outputs": [],
   "source": [
    "lb = LabelBinarizer()\n",
    "y_train = lb.fit_transform(y_train)\n",
    "y_test = lb.fit_transform(y_test)"
   ]
  },
  {
   "cell_type": "code",
   "execution_count": 13,
   "metadata": {},
   "outputs": [],
   "source": [
    "###### without using activation function"
   ]
  },
  {
   "cell_type": "code",
   "execution_count": 14,
   "metadata": {},
   "outputs": [],
   "source": [
    "### softmaxt function for multiclass\n",
    "def fn_softmax(z):\n",
    "    exp_z = np.exp(z)\n",
    "    return exp_z/(np.sum(exp_z,axis=1,keepdims = True))\n",
    "\n",
    "def fn_activ(z):\n",
    "    return np.tanh(z)\n",
    "\n",
    "def fn_active_prime(z):\n",
    "    return 1.-np.tanh(z)**2"
   ]
  },
  {
   "cell_type": "code",
   "execution_count": 15,
   "metadata": {},
   "outputs": [],
   "source": [
    "def predict(model, X_p):\n",
    "\n",
    "    W1, b1, W2, b2 = model['W1'], model['b1'], model['W2'], model['b2']\n",
    "    #### forward propagation\n",
    "\n",
    "    ## layer 1\n",
    "    Z1 = X_p.dot(W1)+b1\n",
    "    a1 = fn_activ(Z1)\n",
    "\n",
    "    ### Layer 2\n",
    "    Z2 = a1.dot(W2)+b2\n",
    "    a2 = fn_softmax(Z2)  ### softmax for multiclass\n",
    "    \n",
    "    return np.argmax(a2,axis=1)### pick index of class with highest probability"
   ]
  },
  {
   "cell_type": "code",
   "execution_count": 16,
   "metadata": {},
   "outputs": [],
   "source": [
    "def Cal_loss(model, X_l,y_l):\n",
    "\n",
    "    W1, b1, W2, b2 = model['W1'], model['b1'], model['W2'], model['b2']\n",
    "\n",
    "    m= X_l.shape[0]\n",
    "    \n",
    "    #### forward propagation\n",
    "\n",
    "    ## layer 1\n",
    "    Z1 = X_l.dot(W1)+b1\n",
    "    a1 = fn_activ(Z1)\n",
    "\n",
    "    ### Layer 2\n",
    "    Z2 = a1.dot(W2)+b2\n",
    "    a2 = fn_softmax(Z2)\n",
    "\n",
    "    data_loss = -(y_l*np.log(a2)+(1-y_l)*np.log(1-a2)).sum()\n",
    "    \n",
    "    return data_loss/m"
   ]
  },
  {
   "cell_type": "code",
   "execution_count": 17,
   "metadata": {},
   "outputs": [],
   "source": [
    "def built_model(X_train,y_train, nn_out, nn_hdim, n_epochs = EPOCHS, alpha = ALPHA):\n",
    "\n",
    "    '''\n",
    "    Args:\n",
    "        X_train: Training features\n",
    "        y_train: Training labels\n",
    "        nn_out: size of output\n",
    "        nn_hdim: number of nodes in hidden layer\n",
    "    '''  \n",
    "    m , nn_input_dim  = X_train.shape   \n",
    "    nn_output_dim = nn_out\n",
    "    \n",
    "    ## W1 =  rng.random((nn_input_dim,nn_hdim),dtype = np.float32)/np.sqrt(nn_input_dim)  \n",
    "    ## W2 =  rng.random((nn_hdim,nn_out),dtype = np.float32)/np.sqrt(nn_hdim)\n",
    "    ## normally distributed randomly generated data not learning fast enough\n",
    "\n",
    "    ### size = 2,4\n",
    "    W1 =  np.random.rand(nn_input_dim,nn_hdim)/np.sqrt(nn_input_dim)\n",
    "\n",
    "    ### size = 4,2\n",
    "    W2 =  np.random.rand(nn_hdim,nn_out)/np.sqrt(nn_hdim)\n",
    "\n",
    "    ### size = 4\n",
    "    b1 = np.zeros((1,nn_hdim),dtype = 'float32')\n",
    "\n",
    "    ### size = 2\n",
    "    b2 = np.zeros((1,nn_out),dtype = 'float32')\n",
    "    \n",
    "    curr_loss = 0\n",
    "    loss, epoch = [],[]\n",
    "    \n",
    "    for i in range(0, n_epochs):\n",
    "\n",
    "        #### forward propagation\n",
    "\n",
    "        ## layer 1\n",
    "        Z1 = X_train.dot(W1)+b1\n",
    "        a1 = fn_activ(Z1)\n",
    "\n",
    "        ### Layer 2 \n",
    "        Z2 = a1.dot(W2)+b2\n",
    "        a2 = fn_softmax(Z2)\n",
    "\n",
    "        #### Back Propagation\n",
    "\n",
    "        #### layer 2\n",
    "        assert (a2.shape == y_train.shape), f'check y{a2.shape}/{y_train.shape}'\n",
    "        dz2 = a2-y_train  ##### remember dim of a2 and y to be same\n",
    "\n",
    "        dw2 = (a1.T).dot(dz2)\n",
    "        assert (W2.shape == dw2.shape), f'check w2 {W2.shape}/{dw2.shape}'\n",
    "\n",
    "        db2 = np.sum(dz2,axis=0, keepdims = True)\n",
    "        assert (b2.shape == db2.shape), f'check b2 {b2.shape}/{db2.shape}'\n",
    "\n",
    "        da1 = dz2.dot(W2.T)\n",
    "        assert (a1.shape == da1.shape), f'check a1 {a1.shape}/{da1.shape}'\n",
    "\n",
    "        #### Layer 1 \n",
    "\n",
    "        dz1 = da1 * fn_active_prime(Z1)\n",
    "        assert (Z1.shape == dz1.shape), f'check Z1 {z1.shape}/{dz1.shape}' \n",
    "\n",
    "        dw1 = (X_train.T).dot(dz1)\n",
    "        assert (W1.shape == dw1.shape), f'check w1 {W1.shape}/{dw1.shape}'\n",
    "\n",
    "        db1 = np.sum(dz1,axis=0, keepdims = True)\n",
    "        assert (b1.shape == db1.shape), f'check b1 {b1.shape}/{db1.shape}'\n",
    "\n",
    "\n",
    "        ##### gradient update\n",
    "\n",
    "        W1 += -alpha*dw1/m\n",
    "        b1 += -alpha*db1/m\n",
    "        W2 += -alpha*dw2/m\n",
    "        b2 += -alpha*db2/m\n",
    "\n",
    "        model = {'W1':W1,'b1':b1,\n",
    "                'W2':W2,'b2':b2}\n",
    "\n",
    "        curr_loss = Cal_loss(model,X_train,y_train)\n",
    "        loss.append(curr_loss)\n",
    "        epoch.append(i)\n",
    "\n",
    "        if i%100 == 0 :\n",
    "            print(f'After epoch: {i:3d} ; loss : {curr_loss:.5f}')\n",
    "    loss_hist['epoch'] = epoch\n",
    "    loss_hist['loss'] = loss\n",
    "    return model"
   ]
  },
  {
   "cell_type": "code",
   "execution_count": 18,
   "metadata": {
    "scrolled": true
   },
   "outputs": [
    {
     "name": "stdout",
     "output_type": "stream",
     "text": [
      "After epoch:   0 ; loss : 1.95957\n",
      "After epoch: 100 ; loss : 0.74347\n",
      "After epoch: 200 ; loss : 0.44953\n",
      "After epoch: 300 ; loss : 0.28880\n",
      "After epoch: 400 ; loss : 0.21377\n",
      "After epoch: 500 ; loss : 0.17565\n",
      "After epoch: 600 ; loss : 0.15339\n",
      "After epoch: 700 ; loss : 0.13899\n",
      "After epoch: 800 ; loss : 0.12897\n",
      "After epoch: 900 ; loss : 0.12165\n"
     ]
    }
   ],
   "source": [
    "nn_out_dim = y_train.shape[1]\n",
    "nn_hdim = 4\n",
    "\n",
    "loss_hist = {}\n",
    "\n",
    "model = built_model(X_train,y_train, nn_out_dim, nn_hdim)"
   ]
  },
  {
   "cell_type": "code",
   "execution_count": 19,
   "metadata": {},
   "outputs": [
    {
     "data": {
      "text/plain": [
       "{'W1': array([[ 0.42800189, -0.03057287, -0.12214697,  0.28565765],\n",
       "        [-0.73081264, -0.12239172, -0.29703186, -0.64149478],\n",
       "        [ 0.59456421,  0.74121211,  1.47707654,  0.81373544],\n",
       "        [ 0.86561981,  0.93288983,  1.43317908,  0.70797725]]),\n",
       " 'b1': array([[ 0.48601836, -0.7713833 , -1.8255888 ,  0.5199901 ]],\n",
       "       dtype=float32),\n",
       " 'W2': array([[-1.68801004,  1.25025237,  1.32580545],\n",
       "        [-0.88612075, -0.10094161,  2.00818223],\n",
       "        [-0.60957005, -1.379832  ,  3.13032015],\n",
       "        [-1.31207509,  1.36163415,  1.18955019]]),\n",
       " 'b2': array([[-0.10432224,  0.47450203, -0.37017888]], dtype=float32)}"
      ]
     },
     "execution_count": 19,
     "metadata": {},
     "output_type": "execute_result"
    }
   ],
   "source": [
    "model"
   ]
  },
  {
   "cell_type": "code",
   "execution_count": 20,
   "metadata": {},
   "outputs": [
    {
     "data": {
      "text/plain": [
       "<Axes: xlabel='epoch'>"
      ]
     },
     "execution_count": 20,
     "metadata": {},
     "output_type": "execute_result"
    },
    {
     "data": {
      "image/png": "[encoded data removed]",
      "text/plain": [
       "<Figure size 1500x800 with 1 Axes>"
      ]
     },
     "metadata": {},
     "output_type": "display_data"
    }
   ],
   "source": [
    "pd.DataFrame(loss_hist).plot(x = 'epoch')"
   ]
  },
  {
   "cell_type": "code",
   "execution_count": 21,
   "metadata": {},
   "outputs": [],
   "source": [
    "### training accuracy , loss, cf"
   ]
  },
  {
   "cell_type": "code",
   "execution_count": 22,
   "metadata": {},
   "outputs": [
    {
     "name": "stdout",
     "output_type": "stream",
     "text": [
      "0.975\n",
      "0.11613239759806075\n"
     ]
    },
    {
     "data": {
      "text/plain": [
       "array([[40,  0,  0],\n",
       "       [ 0, 38,  2],\n",
       "       [ 0,  1, 39]], dtype=int64)"
      ]
     },
     "execution_count": 22,
     "metadata": {},
     "output_type": "execute_result"
    }
   ],
   "source": [
    "y_pred = predict(model, X_train)\n",
    "print(accuracy_score(y_train.argmax(axis=1),y_pred))\n",
    "print(Cal_loss(model, X_train,y_train))\n",
    "cm = confusion_matrix(y_train.argmax(axis=1),y_pred)\n",
    "cm"
   ]
  },
  {
   "cell_type": "code",
   "execution_count": 23,
   "metadata": {},
   "outputs": [],
   "source": [
    "### testing accuracy , loss, cf"
   ]
  },
  {
   "cell_type": "code",
   "execution_count": 24,
   "metadata": {},
   "outputs": [
    {
     "name": "stdout",
     "output_type": "stream",
     "text": [
      "0.9666666666666667\n",
      "0.1074613488310466\n"
     ]
    },
    {
     "data": {
      "text/plain": [
       "array([[10,  0,  0],\n",
       "       [ 0,  9,  1],\n",
       "       [ 0,  0, 10]], dtype=int64)"
      ]
     },
     "execution_count": 24,
     "metadata": {},
     "output_type": "execute_result"
    }
   ],
   "source": [
    "y_pred = predict(model, X_test)\n",
    "print(accuracy_score(y_test.argmax(axis=1),y_pred))\n",
    "print(Cal_loss(model, X_test,y_test))\n",
    "cm = confusion_matrix(y_test.argmax(axis=1),y_pred)\n",
    "cm"
   ]
  },
  {
   "cell_type": "code",
   "execution_count": 27,
   "metadata": {},
   "outputs": [
    {
     "data": {
      "image/png": "[encoded data removed]",
      "text/plain": [
       "<Figure size 200x200 with 1 Axes>"
      ]
     },
     "metadata": {},
     "output_type": "display_data"
    }
   ],
   "source": [
    "disp = ConfusionMatrixDisplay(confusion_matrix = cm, display_labels=[0,1,2])\n",
    "\n",
    "fig,ax = plt.subplots(figsize=(2,2))\n",
    "disp.plot(ax = ax,cmap='Blues',colorbar = False)\n",
    "ax.grid(False)\n",
    "plt.show()"
   ]
  },
  {
   "cell_type": "code",
   "execution_count": null,
   "metadata": {},
   "outputs": [],
   "source": []
  }
 ],
 "metadata": {
  "kernelspec": {
   "display_name": "Python 3 (ipykernel)",
   "language": "python",
   "name": "python3"
  },
  "language_info": {
   "codemirror_mode": {
    "name": "ipython",
    "version": 3
   },
   "file_extension": ".py",
   "mimetype": "text/x-python",
   "name": "python",
   "nbconvert_exporter": "python",
   "pygments_lexer": "ipython3",
   "version": "3.11.8"
  }
 },
 "nbformat": 4,
 "nbformat_minor": 4
}
