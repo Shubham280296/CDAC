{
 "cells": [
  {
   "cell_type": "code",
   "execution_count": 10,
   "id": "61b9b33d-8e9f-4ed7-9ba2-ef43aefffa9b",
   "metadata": {},
   "outputs": [],
   "source": [
    "import random"
   ]
  },
  {
   "cell_type": "code",
   "execution_count": 16,
   "id": "d8a48c97-2635-48cf-9dc7-9490f7ed911c",
   "metadata": {},
   "outputs": [
    {
     "data": {
      "text/plain": [
       "-132"
      ]
     },
     "execution_count": 16,
     "metadata": {},
     "output_type": "execute_result"
    }
   ],
   "source": [
    "total_winnings = 0\n",
    "total_losses = 0\n",
    "\n",
    "for _ in range (1000):\n",
    "    chosen_num = random.randint(1,100)\n",
    "\n",
    "    digit_sum = sum(int(digit) for digit in str(chosen_num))\n",
    "\n",
    "    if digit_sum>12:\n",
    "        total_winnings +=3\n",
    "    else:\n",
    "        total_losses +=1\n",
    "net_result = total_winnings -total_losses\n",
    "\n",
    "net_result"
   ]
  },
  {
   "cell_type": "code",
   "execution_count": 17,
   "id": "194e8ecc-29aa-4f8c-8d11-3863ab1b339b",
   "metadata": {},
   "outputs": [],
   "source": [
    "import numpy as np"
   ]
  },
  {
   "cell_type": "code",
   "execution_count": 28,
   "id": "26af5b35-573a-4fea-9c12-aa5e1138acd2",
   "metadata": {},
   "outputs": [
    {
     "name": "stdout",
     "output_type": "stream",
     "text": [
      "[114. 886.]\n"
     ]
    }
   ],
   "source": [
    "def roll_dice():\n",
    "    a = random.randint(1,7)\n",
    "    b = random.randint(1,7)\n",
    "    return (a+b)\n",
    "\n",
    "def monte_carlo_simulation(runs =1000):\n",
    "    results = np.zeros(2)\n",
    "    for _ in range(runs):\n",
    "        c = roll_dice()\n",
    "        if c==7:\n",
    "            results[0]+=1\n",
    "        else:\n",
    "            results[1]+=1\n",
    "    return results\n",
    "\n",
    "print(monte_carlo_simulation())           "
   ]
  },
  {
   "cell_type": "code",
   "execution_count": 37,
   "id": "005b69d4-8a51-4a6b-b88c-a333bb53a8ee",
   "metadata": {},
   "outputs": [
    {
     "name": "stdout",
     "output_type": "stream",
     "text": [
      "[110. 120. 112. 136. 120. 127. 132. 113. 131. 133. 121. 128. 118. 116.\n",
      " 124. 140. 119. 128. 131. 126. 136. 141. 153. 129. 129. 113. 130. 132.\n",
      " 137. 119. 134. 131. 110. 141. 107. 113. 122. 129. 119. 124. 113. 141.\n",
      " 103. 115. 136. 123. 118. 128. 133. 115. 114. 136. 123. 115. 110. 122.\n",
      " 127. 117. 118. 134. 120. 121. 110. 135. 123. 112. 110. 115. 120. 124.\n",
      " 132. 143. 132. 116. 109. 115. 127. 119. 108. 124. 122. 105. 120. 119.\n",
      " 126. 123. 122. 116. 124. 116. 128. 111. 119. 133. 106. 103. 118. 133.\n",
      " 128. 108. 111. 116. 110. 135. 122. 119. 137. 108. 139. 111. 112. 108.\n",
      " 106. 114. 136. 133. 137.  92.  95. 123. 132. 120. 122. 147. 124.  94.\n",
      " 125. 116. 114. 129. 131. 114. 124. 117. 125. 139. 119. 126. 107. 125.\n",
      " 123. 140. 127. 101. 111. 118. 110. 130. 135. 104. 132. 149. 125. 138.\n",
      " 124. 120. 117. 127. 109. 126. 115. 121. 133. 127. 105. 121. 129. 111.\n",
      "  91. 112.  94. 127. 120. 123. 128. 128. 115. 127. 100. 111. 129. 133.\n",
      " 137. 132. 115. 115. 114. 124. 116. 127. 122. 117. 124. 135. 111. 124.\n",
      " 131. 142. 114. 122. 117. 130. 124. 120. 132. 123. 116. 126. 111. 101.\n",
      " 130. 123. 117. 138. 117. 105. 122. 119. 126. 131. 124. 118. 123. 125.\n",
      " 140. 140. 106. 110. 123. 115. 128. 128. 115. 125. 116. 121. 124. 103.\n",
      " 113. 108. 129. 120. 118. 122. 123. 111. 128. 116.  98. 109. 105. 130.\n",
      " 137. 113. 107. 139. 113. 110. 138. 131. 133. 145. 113. 135. 131. 138.\n",
      " 125. 116. 131. 145. 127. 130. 118. 126. 110. 135. 120. 136. 122. 132.\n",
      " 129. 129. 116. 125. 108. 129. 132. 125. 133. 116. 118. 133. 116. 122.\n",
      " 104. 130. 117. 138. 119. 118. 109. 129. 115. 117. 124. 141. 131. 122.\n",
      " 123. 130. 109. 121. 115. 129. 121. 117. 121. 112. 114. 121. 126. 139.\n",
      " 113. 108. 144. 109. 132. 116. 118. 119. 120. 124. 136. 130. 108. 107.\n",
      " 118. 126. 112. 110. 132. 127. 119. 120. 120. 113. 139. 118. 151. 124.\n",
      " 118. 118. 125. 138. 119. 108. 115. 142. 118. 120. 121. 117. 117. 152.\n",
      " 121. 115. 137. 132. 115. 119. 139. 117. 123. 128. 134. 104. 115. 119.\n",
      " 120. 122. 117. 136. 115. 115. 140. 118. 136. 117. 121. 135. 109. 134.\n",
      " 122. 136. 110. 130. 124. 130. 110. 120. 104. 109. 131. 119. 124. 126.\n",
      "  91. 109. 126. 111. 125. 132. 131. 125. 128. 138. 116. 119. 152. 120.\n",
      " 116. 137. 115. 130. 116. 112. 136. 123. 121. 121. 136. 118. 108. 124.\n",
      " 110. 109. 126. 130. 124. 114. 126. 112. 108. 115. 129.  98. 112. 125.\n",
      " 129. 112. 106. 113. 123. 114. 119. 124. 126. 132. 138. 131. 119. 105.\n",
      " 121. 133. 124. 118. 117. 117. 125. 123. 127. 139. 133. 115. 120. 153.\n",
      " 139. 116. 111. 123. 107. 130. 126. 113. 122. 124. 100. 114. 118. 111.\n",
      " 122. 118. 136. 125. 102. 129. 117. 108. 119. 102. 116. 131. 100. 110.\n",
      " 116. 119. 132. 112. 121. 119. 112. 120. 122. 117. 122. 153. 120. 122.\n",
      " 135. 121. 111. 112. 132. 135. 129. 128. 131. 110. 114. 113. 105. 119.\n",
      " 119. 132. 107. 114. 115. 133. 128. 114. 108. 130. 104. 130. 123. 118.\n",
      " 119. 125. 108. 126. 119. 126. 135. 121. 127. 139. 115. 137. 118. 127.\n",
      " 131. 118. 130. 126. 124. 114. 109. 130. 111. 110. 111. 108. 133. 124.\n",
      " 127. 127. 123. 116. 114. 131. 115. 130. 127. 127. 111. 119. 119. 137.\n",
      " 128. 115. 111. 122. 123. 146. 122. 129. 127. 132. 131.  97. 112. 123.\n",
      " 128. 134. 124. 121. 105. 139. 126. 130. 128. 120. 102. 137. 110. 114.\n",
      " 127. 115. 121. 126. 118. 122. 110. 124. 118. 136. 124. 112. 124. 126.\n",
      " 117. 113. 120. 140. 113. 114. 125. 140. 121. 106. 133. 136. 131. 124.\n",
      " 104. 127. 139.  96. 134. 128. 115. 121. 131. 105. 138. 112. 116. 115.\n",
      " 147. 132. 132. 123. 122. 127. 151. 116. 127. 123. 152. 123. 141. 125.\n",
      " 111. 118. 108. 129. 112. 121. 146. 112. 113. 120. 113. 123. 123. 124.\n",
      " 115. 127. 128. 113. 141. 145. 123. 141. 150. 137. 123. 132. 103. 123.\n",
      " 136. 129. 132. 109. 118. 125. 124. 116. 128. 129. 114. 128. 114. 114.\n",
      " 125. 124. 125. 114. 126. 124. 113. 131. 133. 125. 111. 113. 134. 121.\n",
      " 120. 108. 116. 146. 116. 127. 125. 108. 110. 113. 116. 113. 129. 113.\n",
      " 115. 116. 111. 131. 124. 118. 116. 108. 142. 126. 124. 120. 121. 112.\n",
      " 137. 132. 124. 137. 114. 120. 130. 102. 135. 122. 135. 113. 139. 121.\n",
      " 126. 123. 121. 110. 129. 108. 104. 123. 121. 121. 133. 116. 135. 117.\n",
      " 128. 123. 121. 107. 126. 114. 106. 142. 136. 113. 105. 105. 129. 121.\n",
      " 106. 131. 123. 116. 130. 124. 109. 111. 134. 125. 130. 136. 130. 109.\n",
      " 117. 132. 101. 103. 129. 136. 118. 110. 147. 128. 121. 113. 139. 123.\n",
      " 121. 117. 113. 131. 121. 118. 124. 121. 116. 129. 120. 126. 120. 132.\n",
      "  99. 129. 109. 121. 120. 126. 137. 126. 109. 123. 100. 111. 129. 115.\n",
      " 133. 113. 131. 126. 122. 122. 126. 120. 119. 129. 123. 125. 109. 130.\n",
      " 109. 120. 123. 124. 125. 117. 118. 102. 134. 132. 112. 130. 135. 125.\n",
      " 119. 107. 130. 126. 132. 118. 104. 104. 141. 121. 114. 117. 125. 142.\n",
      " 123. 134. 115. 128. 128. 136. 125. 109. 127. 114. 122. 124. 117. 123.\n",
      " 118. 127. 127. 110. 123. 107. 132. 109. 126. 116. 111. 125. 120. 107.\n",
      " 126. 103. 112. 122. 123. 139. 129. 107. 125. 101. 136. 122. 140. 131.\n",
      " 129. 116. 111. 116. 123. 114. 121. 112. 118. 133. 116. 126. 135. 126.\n",
      " 129. 122. 143. 121. 135. 119. 127. 136. 123. 113. 141. 132. 112. 127.\n",
      " 118. 124. 102.  98. 113. 136. 113. 125. 114. 107. 131. 122. 119. 121.\n",
      " 147. 117. 112. 127. 112. 104. 141. 126. 131. 121. 135. 124. 115. 124.\n",
      " 119. 139. 125. 132. 107. 115.]\n"
     ]
    },
    {
     "data": {
      "image/png": "[encoded data removed]",
      "text/plain": [
       "<Figure size 640x480 with 1 Axes>"
      ]
     },
     "metadata": {},
     "output_type": "display_data"
    },
    {
     "name": "stdout",
     "output_type": "stream",
     "text": [
      "122.032\n",
      "610.16\n",
      "579.6519999999999\n",
      "877.968\n",
      "0.122032\n"
     ]
    }
   ],
   "source": [
    "results  = np.zeros(1000)\n",
    "\n",
    "for i in range(1000):\n",
    "    results[i] = monte_carlo_simulation()[0]\n",
    "print(results)\n",
    "\n",
    "import matplotlib.pyplot as plt\n",
    "\n",
    "fig,ax = plt.subplots()\n",
    "ax.hist(results,bins=15, density=True)\n",
    "ax.axvline(x=166.66)# for making profit result>166.66 for 5rs for getting 7\n",
    "ax.axvline(x=1000/5.75)# for making profit result>166.66 for 4rs for getting 7\n",
    "plt.show()\n",
    "\n",
    "print(results.mean())\n",
    "print(results.mean()*5)\n",
    "print(results.mean()*4.75)\n",
    "print(1000-results.mean())\n",
    "print(results.mean()/1000)"
   ]
  },
  {
   "cell_type": "code",
   "execution_count": null,
   "id": "7d61a6f9-627a-4dbc-a065-209d6611f7e9",
   "metadata": {},
   "outputs": [],
   "source": []
  }
 ],
 "metadata": {
  "kernelspec": {
   "display_name": "Python 3 (ipykernel)",
   "language": "python",
   "name": "python3"
  },
  "language_info": {
   "codemirror_mode": {
    "name": "ipython",
    "version": 3
   },
   "file_extension": ".py",
   "mimetype": "text/x-python",
   "name": "python",
   "nbconvert_exporter": "python",
   "pygments_lexer": "ipython3",
   "version": "3.11.8"
  }
 },
 "nbformat": 4,
 "nbformat_minor": 5
}
