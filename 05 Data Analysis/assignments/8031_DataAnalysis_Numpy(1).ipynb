{
 "cells": [
  {
   "cell_type": "code",
   "execution_count": 58,
   "id": "1c3b7499-e013-45f5-9b79-3e55532cbc09",
   "metadata": {},
   "outputs": [],
   "source": [
    "import numpy as np"
   ]
  },
  {
   "cell_type": "code",
   "execution_count": 59,
   "id": "6f63f7c8-a618-460b-be12-3b3a122cc1b1",
   "metadata": {},
   "outputs": [
    {
     "name": "stdout",
     "output_type": "stream",
     "text": [
      "1.26.4\n"
     ]
    }
   ],
   "source": [
    "print(np.__version__)"
   ]
  },
  {
   "cell_type": "code",
   "execution_count": 60,
   "id": "b09a5623-13b0-4c06-a1d7-be82d08eb58d",
   "metadata": {},
   "outputs": [
    {
     "name": "stdout",
     "output_type": "stream",
     "text": [
      "Build Dependencies:\n",
      "  blas:\n",
      "    detection method: pkgconfig\n",
      "    found: true\n",
      "    include directory: C:/Users/Administrator.DAI-PC2/anaconda3/Library/include\n",
      "    lib directory: C:/Users/Administrator.DAI-PC2/anaconda3/Library/lib\n",
      "    name: mkl-sdl\n",
      "    openblas configuration: unknown\n",
      "    pc file directory: C:\\b\\abs_c1ywpu18ar\\croot\\numpy_and_numpy_base_1708638681471\\_h_env\\Library\\lib\\pkgconfig\n",
      "    version: '2023.1'\n",
      "  lapack:\n",
      "    detection method: internal\n",
      "    found: true\n",
      "    include directory: unknown\n",
      "    lib directory: unknown\n",
      "    name: dep1868282989520\n",
      "    openblas configuration: unknown\n",
      "    pc file directory: unknown\n",
      "    version: 1.26.4\n",
      "Compilers:\n",
      "  c:\n",
      "    commands: cl.exe\n",
      "    linker: link\n",
      "    name: msvc\n",
      "    version: 19.29.30154\n",
      "  c++:\n",
      "    commands: cl.exe\n",
      "    linker: link\n",
      "    name: msvc\n",
      "    version: 19.29.30154\n",
      "  cython:\n",
      "    commands: cython\n",
      "    linker: cython\n",
      "    name: cython\n",
      "    version: 3.0.8\n",
      "Machine Information:\n",
      "  build:\n",
      "    cpu: x86_64\n",
      "    endian: little\n",
      "    family: x86_64\n",
      "    system: windows\n",
      "  host:\n",
      "    cpu: x86_64\n",
      "    endian: little\n",
      "    family: x86_64\n",
      "    system: windows\n",
      "Python Information:\n",
      "  path: C:\\b\\abs_c1ywpu18ar\\croot\\numpy_and_numpy_base_1708638681471\\_h_env\\python.exe\n",
      "  version: '3.11'\n",
      "SIMD Extensions:\n",
      "  baseline:\n",
      "  - SSE\n",
      "  - SSE2\n",
      "  - SSE3\n",
      "  found:\n",
      "  - SSSE3\n",
      "  - SSE41\n",
      "  - POPCNT\n",
      "  - SSE42\n",
      "  - AVX\n",
      "  - F16C\n",
      "  - FMA3\n",
      "  - AVX2\n",
      "  - AVX512F\n",
      "  - AVX512CD\n",
      "  - AVX512_SKX\n",
      "  - AVX512_CLX\n",
      "  not found:\n",
      "  - AVX512_CNL\n",
      "  - AVX512_ICL\n",
      "\n",
      "None\n"
     ]
    }
   ],
   "source": [
    "print(np.show_config(mode='stdout'))"
   ]
  },
  {
   "cell_type": "code",
   "execution_count": 61,
   "id": "994953d4-30ec-44a3-b558-1d1962a8e9c0",
   "metadata": {},
   "outputs": [
    {
     "name": "stdout",
     "output_type": "stream",
     "text": [
      "add(x1, x2, /, out=None, *, where=True, casting='same_kind', order='K', dtype=None, subok=True[, signature, extobj])\n",
      "\n",
      "Add arguments element-wise.\n",
      "\n",
      "Parameters\n",
      "----------\n",
      "x1, x2 : array_like\n",
      "    The arrays to be added.\n",
      "    If ``x1.shape != x2.shape``, they must be broadcastable to a common\n",
      "    shape (which becomes the shape of the output).\n",
      "out : ndarray, None, or tuple of ndarray and None, optional\n",
      "    A location into which the result is stored. If provided, it must have\n",
      "    a shape that the inputs broadcast to. If not provided or None,\n",
      "    a freshly-allocated array is returned. A tuple (possible only as a\n",
      "    keyword argument) must have length equal to the number of outputs.\n",
      "where : array_like, optional\n",
      "    This condition is broadcast over the input. At locations where the\n",
      "    condition is True, the `out` array will be set to the ufunc result.\n",
      "    Elsewhere, the `out` array will retain its original value.\n",
      "    Note that if an uninitialized `out` array is created via the default\n",
      "    ``out=None``, locations within it where the condition is False will\n",
      "    remain uninitialized.\n",
      "**kwargs\n",
      "    For other keyword-only arguments, see the\n",
      "    :ref:`ufunc docs <ufuncs.kwargs>`.\n",
      "\n",
      "Returns\n",
      "-------\n",
      "add : ndarray or scalar\n",
      "    The sum of `x1` and `x2`, element-wise.\n",
      "    This is a scalar if both `x1` and `x2` are scalars.\n",
      "\n",
      "Notes\n",
      "-----\n",
      "Equivalent to `x1` + `x2` in terms of array broadcasting.\n",
      "\n",
      "Examples\n",
      "--------\n",
      ">>> np.add(1.0, 4.0)\n",
      "5.0\n",
      ">>> x1 = np.arange(9.0).reshape((3, 3))\n",
      ">>> x2 = np.arange(3.0)\n",
      ">>> np.add(x1, x2)\n",
      "array([[  0.,   2.,   4.],\n",
      "       [  3.,   5.,   7.],\n",
      "       [  6.,   8.,  10.]])\n",
      "\n",
      "The ``+`` operator can be used as a shorthand for ``np.add`` on ndarrays.\n",
      "\n",
      ">>> x1 = np.arange(9.0).reshape((3, 3))\n",
      ">>> x2 = np.arange(3.0)\n",
      ">>> x1 + x2\n",
      "array([[ 0.,  2.,  4.],\n",
      "       [ 3.,  5.,  7.],\n",
      "       [ 6.,  8., 10.]])\n"
     ]
    }
   ],
   "source": [
    "np.info(np.add)"
   ]
  },
  {
   "cell_type": "code",
   "execution_count": 62,
   "id": "aedd6818-50dd-41b4-923b-1b4351daf2bc",
   "metadata": {},
   "outputs": [
    {
     "data": {
      "text/plain": [
       "array([  1.+0.j,   2.+0.j,   3.+0.j, -inf+0.j,   4.+0.j,   0.+2.j,\n",
       "         5.+0.j,   0.+0.j,  inf+0.j,  nan+0.j])"
      ]
     },
     "execution_count": 62,
     "metadata": {},
     "output_type": "execute_result"
    }
   ],
   "source": [
    "arr = np.array([1,2+0j,3,-np.inf,4,2j,5,0,np.inf,np.NaN])\n",
    "arr"
   ]
  },
  {
   "cell_type": "code",
   "execution_count": 63,
   "id": "1fb025ea-81f4-4461-9d29-622b321fc2f4",
   "metadata": {},
   "outputs": [
    {
     "name": "stdout",
     "output_type": "stream",
     "text": [
      "True\n"
     ]
    }
   ],
   "source": [
    "print(arr.any(0))"
   ]
  },
  {
   "cell_type": "code",
   "execution_count": 64,
   "id": "72c11482-0d0f-48cc-bd48-8ffa4976d8ec",
   "metadata": {},
   "outputs": [
    {
     "name": "stdout",
     "output_type": "stream",
     "text": [
      "False\n"
     ]
    }
   ],
   "source": [
    "print(~arr.any(0))"
   ]
  },
  {
   "cell_type": "code",
   "execution_count": 65,
   "id": "d9e2fd99-1181-4efe-8604-e80644a1aba1",
   "metadata": {},
   "outputs": [
    {
     "name": "stdout",
     "output_type": "stream",
     "text": [
      "[ True  True  True False  True  True  True  True False False]\n"
     ]
    }
   ],
   "source": [
    "print(np.isfinite(arr))"
   ]
  },
  {
   "cell_type": "code",
   "execution_count": 66,
   "id": "ea928715-9039-4615-82be-e9c971826a0e",
   "metadata": {},
   "outputs": [
    {
     "name": "stdout",
     "output_type": "stream",
     "text": [
      "[False False False  True False False False False  True False]\n"
     ]
    }
   ],
   "source": [
    "print(np.isinf(arr))"
   ]
  },
  {
   "cell_type": "code",
   "execution_count": 67,
   "id": "d548bb32-dc20-484f-befd-1563185a30b4",
   "metadata": {},
   "outputs": [
    {
     "name": "stdout",
     "output_type": "stream",
     "text": [
      "[False False False False False False False False False  True]\n"
     ]
    }
   ],
   "source": [
    "print(np.isnan(arr))"
   ]
  },
  {
   "cell_type": "code",
   "execution_count": 68,
   "id": "78f6fe69-f7cf-4abf-acc0-c2bf975d38fb",
   "metadata": {},
   "outputs": [
    {
     "name": "stdout",
     "output_type": "stream",
     "text": [
      "[False False False False False  True False False False False]\n",
      "[ True  True  True  True  True False  True  True  True  True]\n",
      "True\n"
     ]
    }
   ],
   "source": [
    "print(np.iscomplex(arr))\n",
    "print(np.isreal(arr))\n",
    "print(np.isscalar(2+0j))"
   ]
  },
  {
   "cell_type": "code",
   "execution_count": 69,
   "id": "d850c363-9909-441c-a73b-2794f7594b4e",
   "metadata": {},
   "outputs": [],
   "source": [
    "arr1 = [1,2,3,4,5,6]\n",
    "arr2= [2,4,1,5,6,3]"
   ]
  },
  {
   "cell_type": "code",
   "execution_count": 70,
   "id": "9f67a8a3-4bfa-4cc1-a300-8c30399726e3",
   "metadata": {},
   "outputs": [
    {
     "data": {
      "text/plain": [
       "array([False, False,  True, False, False,  True])"
      ]
     },
     "execution_count": 70,
     "metadata": {},
     "output_type": "execute_result"
    }
   ],
   "source": [
    "np.greater(arr1,arr2)"
   ]
  },
  {
   "cell_type": "code",
   "execution_count": 71,
   "id": "c78dfb82-8cc5-43f2-b4f2-38c6f54de77c",
   "metadata": {},
   "outputs": [
    {
     "data": {
      "text/plain": [
       "array([False, False,  True, False, False,  True])"
      ]
     },
     "execution_count": 71,
     "metadata": {},
     "output_type": "execute_result"
    }
   ],
   "source": [
    "np.greater_equal(arr1,arr2)"
   ]
  },
  {
   "cell_type": "code",
   "execution_count": 72,
   "id": "5552ce3f-3770-48fd-95e5-cab861cbecf1",
   "metadata": {},
   "outputs": [
    {
     "data": {
      "text/plain": [
       "array([ True,  True, False,  True,  True, False])"
      ]
     },
     "execution_count": 72,
     "metadata": {},
     "output_type": "execute_result"
    }
   ],
   "source": [
    "np.less(arr1,arr2)"
   ]
  },
  {
   "cell_type": "code",
   "execution_count": 73,
   "id": "72ecd8c5-952a-414a-ab15-2a611af26aaa",
   "metadata": {},
   "outputs": [
    {
     "data": {
      "text/plain": [
       "array([ True,  True, False,  True,  True, False])"
      ]
     },
     "execution_count": 73,
     "metadata": {},
     "output_type": "execute_result"
    }
   ],
   "source": [
    "np.less_equal(arr1,arr2)"
   ]
  },
  {
   "cell_type": "code",
   "execution_count": 74,
   "id": "26b08afa-9c15-4a18-b859-640ab4770ab0",
   "metadata": {},
   "outputs": [
    {
     "name": "stdout",
     "output_type": "stream",
     "text": [
      "[  1   7  13 105]\n"
     ]
    }
   ],
   "source": [
    "arr = np.array([1,7,13,105])\n",
    "print(arr)"
   ]
  },
  {
   "cell_type": "code",
   "execution_count": 75,
   "id": "7aa6ebdd-bb5a-411d-bfa9-7a7b0e9395a5",
   "metadata": {},
   "outputs": [
    {
     "data": {
      "text/plain": [
       "4"
      ]
     },
     "execution_count": 75,
     "metadata": {},
     "output_type": "execute_result"
    }
   ],
   "source": [
    "arr.itemsize"
   ]
  },
  {
   "cell_type": "code",
   "execution_count": 76,
   "id": "7edd4232-d0ba-4bd1-b305-c55cdebce983",
   "metadata": {},
   "outputs": [
    {
     "data": {
      "text/plain": [
       "array([0., 0., 0., 0., 0., 0., 0., 0., 0., 0., 1., 1., 1., 1., 1., 1., 1.,\n",
       "       1., 1., 1., 5., 5., 5., 5., 5., 5., 5., 5., 5., 5.])"
      ]
     },
     "execution_count": 76,
     "metadata": {},
     "output_type": "execute_result"
    }
   ],
   "source": [
    "arr = np.concatenate((np.zeros(10),np.ones(10),(5*np.ones(10))))\n",
    "arr"
   ]
  },
  {
   "cell_type": "code",
   "execution_count": 77,
   "id": "7e4834d9-62ba-4205-9126-83acfced54d7",
   "metadata": {},
   "outputs": [
    {
     "data": {
      "text/plain": [
       "array([30, 32, 34, 36, 38, 40, 42, 44, 46, 48, 50, 52, 54, 56, 58, 60, 62,\n",
       "       64, 66, 68, 70])"
      ]
     },
     "execution_count": 77,
     "metadata": {},
     "output_type": "execute_result"
    }
   ],
   "source": [
    "np.arange(30,71,2)"
   ]
  },
  {
   "cell_type": "code",
   "execution_count": 78,
   "id": "42a04337-a0fb-4486-9fe8-a0e922bac676",
   "metadata": {},
   "outputs": [
    {
     "data": {
      "text/plain": [
       "array([[1., 0., 0.],\n",
       "       [0., 1., 0.],\n",
       "       [0., 0., 1.]])"
      ]
     },
     "execution_count": 78,
     "metadata": {},
     "output_type": "execute_result"
    }
   ],
   "source": [
    "np.identity(3)"
   ]
  },
  {
   "cell_type": "code",
   "execution_count": 79,
   "id": "f7a3a38b-d756-4812-b425-dbcecd4766b9",
   "metadata": {},
   "outputs": [
    {
     "data": {
      "text/plain": [
       "array([0.96392278, 0.08345106, 0.61302913, 0.84381564, 0.82601355])"
      ]
     },
     "execution_count": 79,
     "metadata": {},
     "output_type": "execute_result"
    }
   ],
   "source": [
    "np.random.rand(5)"
   ]
  },
  {
   "cell_type": "code",
   "execution_count": 80,
   "id": "664298d9-f47b-4445-9fbe-f7376674893b",
   "metadata": {},
   "outputs": [
    {
     "data": {
      "text/plain": [
       "array([-1.11544968,  1.68566587, -0.08287056, -0.36869118,  1.14436227,\n",
       "        0.87832315,  1.34905912, -0.64527314,  1.8180645 , -1.12862681,\n",
       "       -0.87638297,  2.00548236, -2.60289833, -0.88679136, -1.36177515])"
      ]
     },
     "execution_count": 80,
     "metadata": {},
     "output_type": "execute_result"
    }
   ],
   "source": [
    "np.random.randn(15)"
   ]
  },
  {
   "cell_type": "code",
   "execution_count": 81,
   "id": "e7512612-a796-49ec-a49f-6fcd22bf33cb",
   "metadata": {},
   "outputs": [
    {
     "data": {
      "text/plain": [
       "array([16, 17, 18, 19, 20, 21, 22, 23, 24, 25, 26, 27, 28, 29, 30, 31, 32,\n",
       "       33, 34, 35, 36, 37, 38, 39, 40, 41, 42, 43, 44, 45, 46, 47, 48, 49,\n",
       "       50, 51, 52, 53, 54])"
      ]
     },
     "execution_count": 81,
     "metadata": {},
     "output_type": "execute_result"
    }
   ],
   "source": [
    "arr = np.arange(15,56)\n",
    "arr[1:-1]"
   ]
  },
  {
   "cell_type": "code",
   "execution_count": 82,
   "id": "01bcfca9-52a1-4b2d-9707-7b6717d32564",
   "metadata": {},
   "outputs": [
    {
     "name": "stdout",
     "output_type": "stream",
     "text": [
      "[[0.21622636 0.04650925 0.33839933 0.92360659]\n",
      " [0.95346558 0.41666493 0.8053561  0.3385469 ]\n",
      " [0.48788649 0.20807343 0.17321519 0.93897602]]\n"
     ]
    },
    {
     "data": {
      "text/plain": [
       "0.9389760165737883"
      ]
     },
     "execution_count": 82,
     "metadata": {},
     "output_type": "execute_result"
    }
   ],
   "source": [
    "arr = np.random.rand(12).reshape(3,4)\n",
    "print(arr)\n",
    "arr[2,3]"
   ]
  },
  {
   "cell_type": "code",
   "execution_count": 83,
   "id": "78f8fa1f-4e0f-4a7a-9ce6-2a0578e7986f",
   "metadata": {},
   "outputs": [
    {
     "data": {
      "text/plain": [
       "array([ 5., 10., 15., 20., 25., 30., 35., 40., 45., 50.])"
      ]
     },
     "execution_count": 83,
     "metadata": {},
     "output_type": "execute_result"
    }
   ],
   "source": [
    "np.linspace(5,50,10)"
   ]
  },
  {
   "cell_type": "code",
   "execution_count": 84,
   "id": "462e9b06-79d1-47f1-ab42-9b144ca5ba37",
   "metadata": {},
   "outputs": [
    {
     "data": {
      "text/plain": [
       "array([  0,   1,   2,   3,   4,   5,   6,   7,   8,  -9, -10, -11, -12,\n",
       "       -13, -14, -15,  16,  17,  18,  19,  20])"
      ]
     },
     "execution_count": 84,
     "metadata": {},
     "output_type": "execute_result"
    }
   ],
   "source": [
    "arr = np.arange(0,21)\n",
    "arr[(arr>=9) & (arr<=15)]*=-1\n",
    "arr"
   ]
  },
  {
   "cell_type": "code",
   "execution_count": 85,
   "id": "5a58f10a-e76c-4657-beb2-c4d04407c9ef",
   "metadata": {},
   "outputs": [
    {
     "data": {
      "text/plain": [
       "array([9, 2, 4, 2, 9])"
      ]
     },
     "execution_count": 85,
     "metadata": {},
     "output_type": "execute_result"
    }
   ],
   "source": [
    "np.random.randint(0,high=10,size=5)"
   ]
  },
  {
   "cell_type": "code",
   "execution_count": 86,
   "id": "8b4ade38-3af3-42db-a82d-4c8a45a7bc43",
   "metadata": {},
   "outputs": [
    {
     "data": {
      "text/plain": [
       "array([ 10,  40,  90, 160, 250])"
      ]
     },
     "execution_count": 86,
     "metadata": {},
     "output_type": "execute_result"
    }
   ],
   "source": [
    "arr1 = np.array([1,2,3,4,5])\n",
    "arr2 = np.array([10,20,30,40,50])\n",
    "arr1*arr2"
   ]
  },
  {
   "cell_type": "code",
   "execution_count": 87,
   "id": "5b1614a3-a7a4-4b6a-8687-0d7d8462c5e2",
   "metadata": {},
   "outputs": [
    {
     "data": {
      "text/plain": [
       "array([[10, 11, 12, 13],\n",
       "       [14, 15, 16, 17],\n",
       "       [18, 19, 20, 21]])"
      ]
     },
     "execution_count": 87,
     "metadata": {},
     "output_type": "execute_result"
    }
   ],
   "source": [
    "arr = np.arange(10,22).reshape(3,4)\n",
    "arr"
   ]
  },
  {
   "cell_type": "code",
   "execution_count": 88,
   "id": "8ce012fe-6392-4638-bb0c-c6b19d8a2c90",
   "metadata": {},
   "outputs": [
    {
     "name": "stdout",
     "output_type": "stream",
     "text": [
      "no of rows =  3\n",
      "no of columns =  4\n"
     ]
    }
   ],
   "source": [
    "print(\"no of rows = \",arr.shape[0])\n",
    "print(\"no of columns = \",arr.shape[1])"
   ]
  },
  {
   "cell_type": "code",
   "execution_count": 89,
   "id": "7ebb30d3-0673-4111-8d0b-9bc1fb0ecf8d",
   "metadata": {},
   "outputs": [
    {
     "data": {
      "text/plain": [
       "array([[1., 0., 0.],\n",
       "       [0., 1., 0.],\n",
       "       [0., 0., 1.]])"
      ]
     },
     "execution_count": 89,
     "metadata": {},
     "output_type": "execute_result"
    }
   ],
   "source": [
    "np.identity(3)"
   ]
  },
  {
   "cell_type": "code",
   "execution_count": 90,
   "id": "bc93cef6-306c-4485-920a-744fd7039a0b",
   "metadata": {},
   "outputs": [
    {
     "data": {
      "text/plain": [
       "array([[1., 1., 1., 1., 1., 1., 1., 1., 1., 1.],\n",
       "       [1., 0., 0., 0., 0., 0., 0., 0., 0., 1.],\n",
       "       [1., 0., 0., 0., 0., 0., 0., 0., 0., 1.],\n",
       "       [1., 0., 0., 0., 0., 0., 0., 0., 0., 1.],\n",
       "       [1., 0., 0., 0., 0., 0., 0., 0., 0., 1.],\n",
       "       [1., 0., 0., 0., 0., 0., 0., 0., 0., 1.],\n",
       "       [1., 0., 0., 0., 0., 0., 0., 0., 0., 1.],\n",
       "       [1., 0., 0., 0., 0., 0., 0., 0., 0., 1.],\n",
       "       [1., 0., 0., 0., 0., 0., 0., 0., 0., 1.],\n",
       "       [1., 1., 1., 1., 1., 1., 1., 1., 1., 1.]])"
      ]
     },
     "execution_count": 90,
     "metadata": {},
     "output_type": "execute_result"
    }
   ],
   "source": [
    "arr = np.ones([10,10])\n",
    "arr[1:-1,1:-1]=0\n",
    "arr"
   ]
  },
  {
   "cell_type": "code",
   "execution_count": 91,
   "id": "96ee0f57-b89e-4a38-8aab-36c02630d2aa",
   "metadata": {},
   "outputs": [
    {
     "data": {
      "text/plain": [
       "array([[1, 0, 0, 0, 0],\n",
       "       [0, 2, 0, 0, 0],\n",
       "       [0, 0, 3, 0, 0],\n",
       "       [0, 0, 0, 4, 0],\n",
       "       [0, 0, 0, 0, 5]])"
      ]
     },
     "execution_count": 91,
     "metadata": {},
     "output_type": "execute_result"
    }
   ],
   "source": [
    "np.diag([1,2,3,4,5])"
   ]
  },
  {
   "cell_type": "code",
   "execution_count": 92,
   "id": "88f28108-cf16-403b-8898-b7287c8f0e79",
   "metadata": {},
   "outputs": [
    {
     "data": {
      "text/plain": [
       "array([[0., 1., 0., 1.],\n",
       "       [1., 0., 1., 0.],\n",
       "       [0., 1., 0., 1.],\n",
       "       [1., 0., 1., 0.]])"
      ]
     },
     "execution_count": 92,
     "metadata": {},
     "output_type": "execute_result"
    }
   ],
   "source": [
    "arr = np.zeros([4,4])\n",
    "arr[::2,1::2]=1\n",
    "arr[1::2,::2]=1\n",
    "arr"
   ]
  },
  {
   "cell_type": "code",
   "execution_count": 93,
   "id": "c6ed87ce-00be-43bb-b369-194fd9f3adf6",
   "metadata": {},
   "outputs": [
    {
     "data": {
      "text/plain": [
       "array([[[0.68468709, 0.05900121, 0.53079599],\n",
       "        [0.31637145, 0.7547577 , 0.59285429],\n",
       "        [0.1509467 , 0.47943989, 0.91445598]],\n",
       "\n",
       "       [[0.22481581, 0.86571195, 0.62712253],\n",
       "        [0.95970502, 0.24729214, 0.64632298],\n",
       "        [0.43464127, 0.4613527 , 0.88188954]],\n",
       "\n",
       "       [[0.12934493, 0.65778669, 0.56194994],\n",
       "        [0.15560312, 0.55270458, 0.71062799],\n",
       "        [0.02074914, 0.04098318, 0.66027159]]])"
      ]
     },
     "execution_count": 93,
     "metadata": {},
     "output_type": "execute_result"
    }
   ],
   "source": [
    "np.random.rand(27).reshape(3,3,3)"
   ]
  },
  {
   "cell_type": "code",
   "execution_count": 94,
   "id": "8c7354ef-9b6e-4035-b981-ce309ca0652c",
   "metadata": {},
   "outputs": [
    {
     "name": "stdout",
     "output_type": "stream",
     "text": [
      "186\n",
      "sum of each column:  [42 45 48 51]\n",
      "sum of each rows:  [46 62 78]\n"
     ]
    }
   ],
   "source": [
    "arr = np.arange(10,22).reshape(3,4)\n",
    "print(arr.sum())\n",
    "print(\"sum of each column: \",arr.sum(axis=0))\n",
    "print(\"sum of each rows: \",arr.sum(axis=1))"
   ]
  },
  {
   "cell_type": "code",
   "execution_count": 95,
   "id": "ccf8b380-0a81-41f1-9a03-7c0199a06607",
   "metadata": {},
   "outputs": [
    {
     "data": {
      "text/plain": [
       "32"
      ]
     },
     "execution_count": 95,
     "metadata": {},
     "output_type": "execute_result"
    }
   ],
   "source": [
    "arr1 = np.array([1,2,3])\n",
    "arr2 = np.array([4,5,6])\n",
    "arr1.dot(arr2)"
   ]
  },
  {
   "cell_type": "code",
   "execution_count": 96,
   "id": "30412617-b5be-490e-8a7b-4c5384d11d57",
   "metadata": {},
   "outputs": [
    {
     "data": {
      "text/plain": [
       "array([[ 6,  8],\n",
       "       [ 8, 10]])"
      ]
     },
     "execution_count": 96,
     "metadata": {},
     "output_type": "execute_result"
    }
   ],
   "source": [
    "matrix = np.array([[1,2],[3,4]])\n",
    "vector = np.array([5,6])\n",
    "matrix+=vector\n",
    "matrix"
   ]
  },
  {
   "cell_type": "code",
   "execution_count": 97,
   "id": "57f64163-7198-4b16-b8c5-e6cf425dc259",
   "metadata": {},
   "outputs": [
    {
     "data": {
      "text/plain": [
       "[<matplotlib.lines.Line2D at 0x1cfaca75050>]"
      ]
     },
     "execution_count": 97,
     "metadata": {},
     "output_type": "execute_result"
    },
    {
     "data": {
      "image/png": "[encoded data removed]",
      "text/plain": [
       "<Figure size 640x480 with 1 Axes>"
      ]
     },
     "metadata": {},
     "output_type": "display_data"
    }
   ],
   "source": [
    "x = np.linspace(0,2*np.pi,10)\n",
    "y = np.sin(x)\n",
    "import matplotlib.pyplot as plt\n",
    "plt.plot(x,y)"
   ]
  },
  {
   "cell_type": "code",
   "execution_count": 98,
   "id": "b39a58e0-5934-4bcc-a6fe-a5311de67e4a",
   "metadata": {},
   "outputs": [
    {
     "data": {
      "text/plain": [
       "float"
      ]
     },
     "execution_count": 98,
     "metadata": {},
     "output_type": "execute_result"
    }
   ],
   "source": [
    "arr = np.array([4,10.0])\n",
    "type(arr[1].item())"
   ]
  },
  {
   "cell_type": "code",
   "execution_count": 99,
   "id": "1fd583c2-52e0-4ab3-80a6-de2a73fc1a55",
   "metadata": {},
   "outputs": [
    {
     "data": {
      "text/plain": [
       "array([False,  True, False])"
      ]
     },
     "execution_count": 99,
     "metadata": {},
     "output_type": "execute_result"
    }
   ],
   "source": [
    "arr = np.array([4,np.nan,10.0])\n",
    "np.isnan(arr)"
   ]
  },
  {
   "cell_type": "code",
   "execution_count": 100,
   "id": "b4d1987a-1405-46ed-8f9e-6d31e68d28fd",
   "metadata": {},
   "outputs": [
    {
     "name": "stdout",
     "output_type": "stream",
     "text": [
      "sort by row  [[0.56189719 0.60385521 0.82962295]\n",
      " [0.36660161 0.38260335 0.71272568]\n",
      " [0.0093356  0.11658869 0.48331086]]\n",
      "sort by column  [[0.0093356  0.11658869 0.48331086]\n",
      " [0.36660161 0.38260335 0.71272568]\n",
      " [0.56189719 0.60385521 0.82962295]]\n"
     ]
    }
   ],
   "source": [
    "arr = np.random.rand(9).reshape(3,3)\n",
    "arr.sort(axis=1)\n",
    "print(\"sort by row \",arr)\n",
    "arr.sort(axis=0)\n",
    "print(\"sort by column \",arr)"
   ]
  },
  {
   "cell_type": "code",
   "execution_count": 101,
   "id": "955f8353-af9f-43e1-9c49-d56bea3e2759",
   "metadata": {},
   "outputs": [
    {
     "data": {
      "text/plain": [
       "array([68, 55])"
      ]
     },
     "execution_count": 101,
     "metadata": {},
     "output_type": "execute_result"
    }
   ],
   "source": [
    "arr = np.random.randint(0,100,10)\n",
    "arr1 = arr[(arr>40) & (arr<70)]\n",
    "arr1"
   ]
  },
  {
   "cell_type": "code",
   "execution_count": 102,
   "id": "d3609d5d-dc48-47ff-b6c2-3afea0e8b7e7",
   "metadata": {},
   "outputs": [
    {
     "data": {
      "text/plain": [
       "array([-1, -1, -1,  1,  1, -1, -1,  1,  1,  1])"
      ]
     },
     "execution_count": 102,
     "metadata": {},
     "output_type": "execute_result"
    }
   ],
   "source": [
    "arr = np.random.randint(0,100,10)\n",
    "arr[arr==50]=0\n",
    "arr[arr<50]=-1\n",
    "arr[arr>50]=1\n",
    "arr"
   ]
  },
  {
   "cell_type": "code",
   "execution_count": 103,
   "id": "59404684-ec16-4ab7-93c4-894bff0f9e3c",
   "metadata": {},
   "outputs": [
    {
     "data": {
      "text/plain": [
       "array([0., 1., 2., 3.])"
      ]
     },
     "execution_count": 103,
     "metadata": {},
     "output_type": "execute_result"
    }
   ],
   "source": [
    "arr = np.array([5,2,6.0,1],dtype = float)\n",
    "np.arange(arr.size,dtype = arr.dtype)"
   ]
  },
  {
   "cell_type": "code",
   "execution_count": 104,
   "id": "2157eab1-7e46-4a0d-bb67-34637c9176d2",
   "metadata": {},
   "outputs": [
    {
     "data": {
      "text/plain": [
       "array([[[ 0,  1,  2,  3],\n",
       "        [ 4,  5,  6,  7],\n",
       "        [ 8,  9, 10, 11],\n",
       "        [12, 13, 14, 15],\n",
       "        [16, 17, 18, 19]],\n",
       "\n",
       "       [[20, 21, 22, 23],\n",
       "        [24, 25, 26, 27],\n",
       "        [28, 29, 30, 31],\n",
       "        [32, 33, 34, 35],\n",
       "        [36, 37, 38, 39]],\n",
       "\n",
       "       [[40, 41, 42, 43],\n",
       "        [44, 45, 46, 47],\n",
       "        [48, 49, 50, 51],\n",
       "        [52, 53, 54, 55],\n",
       "        [56, 57, 58, 59]]])"
      ]
     },
     "execution_count": 104,
     "metadata": {},
     "output_type": "execute_result"
    }
   ],
   "source": [
    "array3d = np.arange(60).reshape(3,5,4)\n",
    "array3d"
   ]
  },
  {
   "cell_type": "code",
   "execution_count": 105,
   "id": "dde1dacb-c3d2-4163-8f63-e5f858a16c17",
   "metadata": {},
   "outputs": [
    {
     "data": {
      "text/plain": [
       "array([ 2,  8,  3, 20, 30, 18])"
      ]
     },
     "execution_count": 105,
     "metadata": {},
     "output_type": "execute_result"
    }
   ],
   "source": [
    "arr1 = np.array([1,2,3,4,5,6])\n",
    "arr2= np.array([2,4,1,5,6,3])\n",
    "arr1*arr2"
   ]
  },
  {
   "cell_type": "code",
   "execution_count": null,
   "id": "f9c10d86-274b-4ba7-a100-d6bbc28445cd",
   "metadata": {},
   "outputs": [],
   "source": []
  }
 ],
 "metadata": {
  "kernelspec": {
   "display_name": "Python 3 (ipykernel)",
   "language": "python",
   "name": "python3"
  },
  "language_info": {
   "codemirror_mode": {
    "name": "ipython",
    "version": 3
   },
   "file_extension": ".py",
   "mimetype": "text/x-python",
   "name": "python",
   "nbconvert_exporter": "python",
   "pygments_lexer": "ipython3",
   "version": "3.11.8"
  }
 },
 "nbformat": 4,
 "nbformat_minor": 5
}
