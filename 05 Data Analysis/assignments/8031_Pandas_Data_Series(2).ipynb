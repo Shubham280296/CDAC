{
 "cells": [
  {
   "cell_type": "code",
   "execution_count": 2,
   "id": "2c17f344-ae63-4c84-9212-2c799d63b8c5",
   "metadata": {},
   "outputs": [],
   "source": [
    "import pandas as pd\n",
    "import numpy as np\n",
    "from dateutil.parser import parse\n",
    "from collections import Counter"
   ]
  },
  {
   "cell_type": "code",
   "execution_count": 3,
   "id": "f210daab-06bf-423e-886d-6547620e603b",
   "metadata": {},
   "outputs": [
    {
     "data": {
      "text/plain": [
       "0    10\n",
       "1    20\n",
       "2    30\n",
       "3    40\n",
       "4    50\n",
       "dtype: int64"
      ]
     },
     "execution_count": 3,
     "metadata": {},
     "output_type": "execute_result"
    }
   ],
   "source": [
    "df = pd.Series([10,20,30,40,50])\n",
    "df"
   ]
  },
  {
   "cell_type": "code",
   "execution_count": 4,
   "id": "712f04e7-6de9-42d6-bad8-40c4775048b3",
   "metadata": {},
   "outputs": [
    {
     "name": "stdout",
     "output_type": "stream",
     "text": [
      "[10, 20, 30, 40, 50]\n"
     ]
    }
   ],
   "source": [
    "df = pd.Series([10,20,30,40,50])\n",
    "print(list(df))"
   ]
  },
  {
   "cell_type": "code",
   "execution_count": 5,
   "id": "89a6c2a6-f566-4832-b229-2881c109622f",
   "metadata": {},
   "outputs": [
    {
     "name": "stdout",
     "output_type": "stream",
     "text": [
      "addition 0     3\n",
      "1     7\n",
      "2    11\n",
      "3    15\n",
      "4    19\n",
      "dtype: int64\n",
      "substract 0    1\n",
      "1    1\n",
      "2    1\n",
      "3    1\n",
      "4    1\n",
      "dtype: int64\n",
      "multiply 0     2\n",
      "1    12\n",
      "2    30\n",
      "3    56\n",
      "4    90\n",
      "dtype: int64\n",
      "divide 0    2.000000\n",
      "1    1.333333\n",
      "2    1.200000\n",
      "3    1.142857\n",
      "4    1.111111\n",
      "dtype: float64\n"
     ]
    }
   ],
   "source": [
    "df = pd.Series([2, 4, 6, 8, 10])\n",
    "df1 = pd.Series([1, 3, 5, 7, 9])\n",
    "print(\"addition\",df+df1)\n",
    "print(\"substract\",df-df1)\n",
    "print(\"multiply\",df*df1)\n",
    "print(\"divide\",df/df1)"
   ]
  },
  {
   "cell_type": "code",
   "execution_count": 6,
   "id": "306ba669-deea-442c-b824-3e4a44891130",
   "metadata": {},
   "outputs": [
    {
     "name": "stdout",
     "output_type": "stream",
     "text": [
      "0    True\n",
      "1    True\n",
      "2    True\n",
      "3    True\n",
      "4    True\n",
      "dtype: bool\n"
     ]
    }
   ],
   "source": [
    "print(df>df1)"
   ]
  },
  {
   "cell_type": "code",
   "execution_count": 7,
   "id": "3ac6b97e-dc9a-4f9a-94dc-5218ea68f24a",
   "metadata": {},
   "outputs": [
    {
     "data": {
      "text/html": [
       "<div>\n",
       "<style scoped>\n",
       "    .dataframe tbody tr th:only-of-type {\n",
       "        vertical-align: middle;\n",
       "    }\n",
       "\n",
       "    .dataframe tbody tr th {\n",
       "        vertical-align: top;\n",
       "    }\n",
       "\n",
       "    .dataframe thead th {\n",
       "        text-align: right;\n",
       "    }\n",
       "</style>\n",
       "<table border=\"1\" class=\"dataframe\">\n",
       "  <thead>\n",
       "    <tr style=\"text-align: right;\">\n",
       "      <th></th>\n",
       "      <th>0</th>\n",
       "      <th>1</th>\n",
       "    </tr>\n",
       "  </thead>\n",
       "  <tbody>\n",
       "    <tr>\n",
       "      <th>a</th>\n",
       "      <td>a</td>\n",
       "      <td>100</td>\n",
       "    </tr>\n",
       "    <tr>\n",
       "      <th>b</th>\n",
       "      <td>b</td>\n",
       "      <td>200</td>\n",
       "    </tr>\n",
       "    <tr>\n",
       "      <th>c</th>\n",
       "      <td>c</td>\n",
       "      <td>300</td>\n",
       "    </tr>\n",
       "    <tr>\n",
       "      <th>d</th>\n",
       "      <td>d</td>\n",
       "      <td>400</td>\n",
       "    </tr>\n",
       "    <tr>\n",
       "      <th>e</th>\n",
       "      <td>e</td>\n",
       "      <td>800</td>\n",
       "    </tr>\n",
       "  </tbody>\n",
       "</table>\n",
       "</div>"
      ],
      "text/plain": [
       "   0    1\n",
       "a  a  100\n",
       "b  b  200\n",
       "c  c  300\n",
       "d  d  400\n",
       "e  e  800"
      ]
     },
     "execution_count": 7,
     "metadata": {},
     "output_type": "execute_result"
    }
   ],
   "source": [
    "dict = {'a': 100, 'b': 200, 'c': 300, 'd': 400, 'e': 800}\n",
    "df = pd.DataFrame(dict.items(),index = dict.keys())\n",
    "df"
   ]
  },
  {
   "cell_type": "code",
   "execution_count": 8,
   "id": "5d9f945c-e4e4-4090-b37f-97f254181e23",
   "metadata": {},
   "outputs": [
    {
     "data": {
      "text/plain": [
       "0    10\n",
       "1    20\n",
       "2    30\n",
       "3    40\n",
       "4    50\n",
       "dtype: int32"
      ]
     },
     "execution_count": 8,
     "metadata": {},
     "output_type": "execute_result"
    }
   ],
   "source": [
    "arr = np.array([10,20,30,40,50])\n",
    "df = pd.Series(arr)\n",
    "df"
   ]
  },
  {
   "cell_type": "code",
   "execution_count": 9,
   "id": "cfcf88b9-5602-4ebc-8e51-c3732a933f33",
   "metadata": {},
   "outputs": [
    {
     "data": {
      "text/plain": [
       "0    100.0\n",
       "1    200.0\n",
       "2      NaN\n",
       "3    300.0\n",
       "4    400.0\n",
       "dtype: float64"
      ]
     },
     "execution_count": 9,
     "metadata": {},
     "output_type": "execute_result"
    }
   ],
   "source": [
    "df = pd.Series([100,200,'python',300,400])\n",
    "df1 = pd.to_numeric(df,errors='coerce')\n",
    "df1"
   ]
  },
  {
   "cell_type": "code",
   "execution_count": 10,
   "id": "5a127491-58fb-4044-8925-4d11f2289a1f",
   "metadata": {},
   "outputs": [
    {
     "name": "stdout",
     "output_type": "stream",
     "text": [
      "    0  1   2\n",
      "0   1  4   7\n",
      "1   2  5   5\n",
      "2   3  6   8\n",
      "3   4  9  12\n",
      "4   7  5   1\n",
      "5  11  0  11\n",
      "1st column as a Series:\n",
      " 0     1\n",
      "1     2\n",
      "2     3\n",
      "3     4\n",
      "4     7\n",
      "5    11\n",
      "Name: 0, dtype: int64\n"
     ]
    }
   ],
   "source": [
    "df = pd.DataFrame([[1,4,7],[2,5,5],[3,6,8],[4,9,12],[7,5,1],[11,0,11]])\n",
    "print(df)\n",
    "s = df[0]\n",
    "print(\"1st column as a Series:\\n\",s)"
   ]
  },
  {
   "cell_type": "code",
   "execution_count": 11,
   "id": "94c8120c-7909-45f5-aee4-01e5fd197fb7",
   "metadata": {},
   "outputs": [
    {
     "name": "stdout",
     "output_type": "stream",
     "text": [
      "0       100\n",
      "1       200\n",
      "2    python\n",
      "3    300.12\n",
      "4       400\n",
      "dtype: object\n"
     ]
    },
    {
     "data": {
      "text/plain": [
       "array([100, 200, 'python', 300.12, 400], dtype=object)"
      ]
     },
     "execution_count": 11,
     "metadata": {},
     "output_type": "execute_result"
    }
   ],
   "source": [
    "df = pd.Series([100,200,'python',300.12,400])\n",
    "print(df)\n",
    "arr = np.array(df)\n",
    "arr"
   ]
  },
  {
   "cell_type": "code",
   "execution_count": 12,
   "id": "0d14079b-2c04-4311-8eb2-61e6ee1b4ae4",
   "metadata": {},
   "outputs": [
    {
     "name": "stdout",
     "output_type": "stream",
     "text": [
      "0    [Red, Green, White]\n",
      "1           [Red, Black]\n",
      "2               [Yellow]\n",
      "dtype: object\n",
      "0       Red\n",
      "1     Green\n",
      "2     White\n",
      "3       Red\n",
      "4     Black\n",
      "5    Yellow\n",
      "dtype: object\n"
     ]
    }
   ],
   "source": [
    "s = pd.Series([\n",
    "    ['Red', 'Green', 'White'],\n",
    "    ['Red', 'Black'],\n",
    "    ['Yellow']])\n",
    "print(s)\n",
    "s1 = s.apply(pd.Series).stack().reset_index(drop=True)\n",
    "print(s1)"
   ]
  },
  {
   "cell_type": "code",
   "execution_count": 13,
   "id": "9f4bbe2f-cfca-465b-b9ec-146af040d80e",
   "metadata": {},
   "outputs": [
    {
     "name": "stdout",
     "output_type": "stream",
     "text": [
      "0       100\n",
      "1       200\n",
      "2    python\n",
      "3    300.12\n",
      "4       400\n",
      "dtype: object\n"
     ]
    },
    {
     "data": {
      "text/plain": [
       "0       100\n",
       "1       200\n",
       "3    300.12\n",
       "4       400\n",
       "2    python\n",
       "dtype: object"
      ]
     },
     "execution_count": 13,
     "metadata": {},
     "output_type": "execute_result"
    }
   ],
   "source": [
    "s = pd.Series(['100','200','python','300.12','400'])\n",
    "print(s)\n",
    "s.sort_values()"
   ]
  },
  {
   "cell_type": "code",
   "execution_count": 14,
   "id": "5327a3f1-3e2f-4991-8903-c075f9a9681a",
   "metadata": {},
   "outputs": [
    {
     "data": {
      "text/plain": [
       "0       100\n",
       "1       200\n",
       "2    python\n",
       "3    300.12\n",
       "4       400\n",
       "5       500\n",
       "6       php\n",
       "dtype: object"
      ]
     },
     "execution_count": 14,
     "metadata": {},
     "output_type": "execute_result"
    }
   ],
   "source": [
    "s = pd.Series(['100','200','python','300.12','400'])\n",
    "s1 = pd.Series(['500','php'])\n",
    "pd.concat([s,s1]).reset_index(drop=True)"
   ]
  },
  {
   "cell_type": "code",
   "execution_count": 15,
   "id": "339590e7-b294-4309-b73a-a866c711f093",
   "metadata": {},
   "outputs": [
    {
     "data": {
      "text/plain": [
       "0    0\n",
       "1    1\n",
       "2    2\n",
       "3    3\n",
       "4    4\n",
       "5    5\n",
       "dtype: int64"
      ]
     },
     "execution_count": 15,
     "metadata": {},
     "output_type": "execute_result"
    }
   ],
   "source": [
    "s = pd.Series([0,1,2,3,4,5,6,7,8,9,10])\n",
    "s1= s[s<6]\n",
    "s1"
   ]
  },
  {
   "cell_type": "code",
   "execution_count": 16,
   "id": "6a844df9-dd3b-4b50-a768-58dd717ff12a",
   "metadata": {},
   "outputs": [
    {
     "data": {
      "text/plain": [
       "B    2\n",
       "A    1\n",
       "C    3\n",
       "D    4\n",
       "E    5\n",
       "dtype: int64"
      ]
     },
     "execution_count": 16,
     "metadata": {},
     "output_type": "execute_result"
    }
   ],
   "source": [
    "df =pd.Series({'A': 1, 'B': 2, 'C': 3, 'D': 4, 'E': 5})\n",
    "df = df.reindex(index = ['B','A','C','D','E'])\n",
    "df"
   ]
  },
  {
   "cell_type": "code",
   "execution_count": 17,
   "id": "5d549f16-ac2c-4bf8-8835-8b24e35cb933",
   "metadata": {},
   "outputs": [
    {
     "name": "stdout",
     "output_type": "stream",
     "text": [
      "mean :  4.818181818181818\n",
      "standart deviation :  2.522624895547565\n"
     ]
    }
   ],
   "source": [
    "s = pd.Series([1,2,3,4,5,6,7,8,9,5,3])\n",
    "print(\"mean : \",s.mean())\n",
    "print(\"standart deviation : \",s.std())"
   ]
  },
  {
   "cell_type": "code",
   "execution_count": 18,
   "id": "6f4ac73c-35c6-4e22-83ce-7dd2c082dfaa",
   "metadata": {},
   "outputs": [
    {
     "name": "stdout",
     "output_type": "stream",
     "text": [
      "0    1\n",
      "1    2\n",
      "2    3\n",
      "3    4\n",
      "4    5\n",
      "dtype: int64\n",
      "0     2\n",
      "1     4\n",
      "2     6\n",
      "3     8\n",
      "4    10\n",
      "dtype: int64\n"
     ]
    },
    {
     "data": {
      "text/plain": [
       "0    1\n",
       "2    3\n",
       "4    5\n",
       "dtype: int64"
      ]
     },
     "execution_count": 18,
     "metadata": {},
     "output_type": "execute_result"
    }
   ],
   "source": [
    "s1 = pd.Series([1,2,3,4,5])\n",
    "print(s1)\n",
    "s2 = pd.Series([2,4,6,8,10])\n",
    "print(s2)\n",
    "s = s1[~s1.isin(s2)]\n",
    "s"
   ]
  },
  {
   "cell_type": "code",
   "execution_count": 19,
   "id": "363ba58e-9b74-4514-91e8-03dd76add170",
   "metadata": {},
   "outputs": [
    {
     "name": "stdout",
     "output_type": "stream",
     "text": [
      "0    1\n",
      "1    2\n",
      "2    3\n",
      "3    4\n",
      "4    5\n",
      "dtype: int64\n",
      "0     2\n",
      "1     4\n",
      "2     6\n",
      "3     8\n",
      "4    10\n",
      "dtype: int64\n"
     ]
    },
    {
     "data": {
      "text/plain": [
       "0     1\n",
       "2     3\n",
       "4     5\n",
       "2     6\n",
       "4    10\n",
       "dtype: int64"
      ]
     },
     "execution_count": 19,
     "metadata": {},
     "output_type": "execute_result"
    }
   ],
   "source": [
    "s1 = pd.Series([1,2,3,4,5])\n",
    "print(s1)\n",
    "s2 = pd.Series([2,4,6,8,10])\n",
    "print(s2)\n",
    "s = pd.concat([s1,s2],join='outer').drop_duplicates()[~s1.isin(s2)]\n",
    "s"
   ]
  },
  {
   "cell_type": "code",
   "execution_count": 20,
   "id": "5263cc4f-5ae3-4bb2-9d1e-00bbee800c12",
   "metadata": {},
   "outputs": [
    {
     "name": "stdout",
     "output_type": "stream",
     "text": [
      "1\n",
      "[2. 3. 4.]\n"
     ]
    }
   ],
   "source": [
    "s1 = pd.Series([1,2,3,4,5])\n",
    "print(s1.min())\n",
    "print(np.percentile(df,[25,50,75]))"
   ]
  },
  {
   "cell_type": "code",
   "execution_count": 21,
   "id": "905196de-e9d6-4c13-abb0-3f30eb0412aa",
   "metadata": {},
   "outputs": [
    {
     "data": {
      "text/plain": [
       "1    5\n",
       "2    4\n",
       "4    3\n",
       "5    2\n",
       "3    1\n",
       "Name: count, dtype: int64"
      ]
     },
     "execution_count": 21,
     "metadata": {},
     "output_type": "execute_result"
    }
   ],
   "source": [
    "s1 = pd.Series([1,2,3,4,1,5,1,5,1,2,4,4,2,1,2])\n",
    "s1.value_counts()"
   ]
  },
  {
   "cell_type": "code",
   "execution_count": 22,
   "id": "fb2de934-066a-44d8-8ffa-4f930a82ab38",
   "metadata": {},
   "outputs": [
    {
     "name": "stderr",
     "output_type": "stream",
     "text": [
      "C:\\Users\\Administrator.DAI-PC2\\AppData\\Local\\Temp\\ipykernel_20976\\1526193720.py:1: FutureWarning: Setting an item of incompatible dtype is deprecated and will raise in a future error of pandas. Value 'other' has dtype incompatible with int64, please explicitly cast to a compatible dtype first.\n",
      "  result = s1[~s1.isin(s1.value_counts().index[0:1])]='other'\n"
     ]
    },
    {
     "data": {
      "text/plain": [
       "0         1\n",
       "1     other\n",
       "2     other\n",
       "3     other\n",
       "4         1\n",
       "5     other\n",
       "6         1\n",
       "7     other\n",
       "8         1\n",
       "9     other\n",
       "10    other\n",
       "11    other\n",
       "12    other\n",
       "13        1\n",
       "14    other\n",
       "dtype: object"
      ]
     },
     "execution_count": 22,
     "metadata": {},
     "output_type": "execute_result"
    }
   ],
   "source": [
    "result = s1[~s1.isin(s1.value_counts().index[0:1])]='other'\n",
    "s1"
   ]
  },
  {
   "cell_type": "code",
   "execution_count": 23,
   "id": "9b06d8a9-a6f3-42b3-bf23-c912077326ed",
   "metadata": {},
   "outputs": [
    {
     "name": "stdout",
     "output_type": "stream",
     "text": [
      "0    1\n",
      "1    9\n",
      "2    8\n",
      "3    6\n",
      "4    9\n",
      "5    7\n",
      "6    1\n",
      "7    1\n",
      "8    1\n",
      "dtype: int64\n"
     ]
    },
    {
     "data": {
      "text/plain": [
       "(array([], dtype=int64),)"
      ]
     },
     "execution_count": 23,
     "metadata": {},
     "output_type": "execute_result"
    }
   ],
   "source": [
    "s1 = pd.Series([1,9,8,6,9,7,1,1,1])\n",
    "print(s1)\n",
    "np.where(s1%5==0)"
   ]
  },
  {
   "cell_type": "code",
   "execution_count": 24,
   "id": "ba6b91cf-7d69-4565-9080-b8511b2c1a32",
   "metadata": {},
   "outputs": [
    {
     "data": {
      "text/plain": [
       "1     2\n",
       "3     4\n",
       "4     1\n",
       "6     1\n",
       "7     5\n",
       "11    4\n",
       "dtype: int64"
      ]
     },
     "execution_count": 24,
     "metadata": {},
     "output_type": "execute_result"
    }
   ],
   "source": [
    "s1 = pd.Series([1,2,3,4,1,5,1,5,1,2,4,4,2,1,2])\n",
    "arr = np.array([1,3,4,6,7,11])\n",
    "s1[arr]"
   ]
  },
  {
   "cell_type": "code",
   "execution_count": 25,
   "id": "82cd983a-6824-4824-bd68-decfef0c8090",
   "metadata": {},
   "outputs": [
    {
     "name": "stdout",
     "output_type": "stream",
     "text": [
      "0     1\n",
      "1     2\n",
      "2     3\n",
      "3     4\n",
      "4     5\n",
      "5     6\n",
      "6     7\n",
      "7     8\n",
      "8     9\n",
      "9    10\n",
      "dtype: int64\n",
      "0     1\n",
      "1     3\n",
      "2     5\n",
      "3     7\n",
      "4    10\n",
      "dtype: int64\n"
     ]
    },
    {
     "data": {
      "text/plain": [
       "[0, 2, 4, 6, 9]"
      ]
     },
     "execution_count": 25,
     "metadata": {},
     "output_type": "execute_result"
    }
   ],
   "source": [
    "s1 = pd.Series([1,2,3,4,5,6,7,8,9,10])\n",
    "print(s1)\n",
    "arr = pd.Series([1,3,5,7,10])\n",
    "print(arr)\n",
    "[pd.Index(s1).get_loc(i) for i in arr]"
   ]
  },
  {
   "cell_type": "code",
   "execution_count": 26,
   "id": "69f594c1-160f-4506-9aec-5c522bc35b0c",
   "metadata": {},
   "outputs": [
    {
     "data": {
      "text/plain": [
       "0       PhP\n",
       "1    PythoN\n",
       "2      JavA\n",
       "3        C#\n",
       "dtype: object"
      ]
     },
     "execution_count": 26,
     "metadata": {},
     "output_type": "execute_result"
    }
   ],
   "source": [
    "s1 = pd.Series(['php','python','java','c#'])\n",
    "s1.map(lambda x: x[0].upper()+x[1:-1]+x[-1].upper())"
   ]
  },
  {
   "cell_type": "code",
   "execution_count": 27,
   "id": "92c1ebd8-3d3b-4c96-a045-bbb769a9a457",
   "metadata": {},
   "outputs": [
    {
     "data": {
      "text/plain": [
       "0    3\n",
       "1    6\n",
       "2    4\n",
       "3    2\n",
       "dtype: int64"
      ]
     },
     "execution_count": 27,
     "metadata": {},
     "output_type": "execute_result"
    }
   ],
   "source": [
    "s1.map(lambda x: len(x))"
   ]
  },
  {
   "cell_type": "code",
   "execution_count": 28,
   "id": "fc2a8441-02cc-48ae-a108-48913030b24a",
   "metadata": {},
   "outputs": [
    {
     "name": "stdout",
     "output_type": "stream",
     "text": [
      "0     1\n",
      "1     3\n",
      "2     5\n",
      "3     8\n",
      "4    10\n",
      "5    11\n",
      "6    15\n",
      "dtype: int64\n",
      "[nan, 2.0, 2.0, 3.0, 2.0, 1.0, 4.0]\n",
      "[nan, nan, 0.0, 1.0, -1.0, -1.0, 3.0]\n"
     ]
    }
   ],
   "source": [
    "s1 = pd.Series([1,3,5,8,10,11,15])\n",
    "print(s1)\n",
    "print(s1.diff().tolist())\n",
    "print(s1.diff().diff().tolist())"
   ]
  },
  {
   "cell_type": "code",
   "execution_count": 29,
   "id": "ea301530-a1b6-407a-bca5-cbee46ba1560",
   "metadata": {},
   "outputs": [
    {
     "name": "stdout",
     "output_type": "stream",
     "text": [
      "0         01 Jan 2015\n",
      "1          10-02-2016\n",
      "2            20180307\n",
      "3          2014/05/06\n",
      "4          2016-04-12\n",
      "5    2019-04-06T11:20\n",
      "dtype: object\n"
     ]
    },
    {
     "data": {
      "text/plain": [
       "0   2015-01-01 00:00:00\n",
       "1   2016-10-02 00:00:00\n",
       "2   2018-03-07 00:00:00\n",
       "3   2014-05-06 00:00:00\n",
       "4   2016-04-12 00:00:00\n",
       "5   2019-04-06 11:20:00\n",
       "dtype: datetime64[ns]"
      ]
     },
     "execution_count": 29,
     "metadata": {},
     "output_type": "execute_result"
    }
   ],
   "source": [
    "s1 = pd.Series(['01 Jan 2015', '10-02-2016' , '20180307', '2014/05/06', '2016-04-12', '2019-04-06T11:20'])\n",
    "print(s1)\n",
    "s2 = pd.to_datetime(s1,format = 'mixed')\n",
    "s2"
   ]
  },
  {
   "cell_type": "code",
   "execution_count": 30,
   "id": "7d9d7347-30f3-407d-bef1-0153376e4854",
   "metadata": {},
   "outputs": [
    {
     "name": "stdout",
     "output_type": "stream",
     "text": [
      "Day of month: [1, 2, 7, 6, 12, 6]\n",
      "Day of year: [1, 276, 66, 126, 103, 96]\n",
      "Week number: [1, 39, 10, 19, 15, 14]\n",
      "Day of week: ['Thursday', 'Sunday', 'Wednesday', 'Tuesday', 'Tuesday', 'Saturday']\n"
     ]
    }
   ],
   "source": [
    "print('Day of month:',s2.dt.day.tolist())\n",
    "print('Day of year:',s2.dt.dayofyear.tolist())\n",
    "arr = ['01 Jan 2015', '10-02-2016' , '20180307', '2014/05/06', '2016-04-12', '2019-04-06T11:20']\n",
    "print('Week number:',list(map(lambda x: pd.Period(x,freq = 'D').weekofyear,arr)))\n",
    "print('Day of week:',s2.dt.day_name().tolist())"
   ]
  },
  {
   "cell_type": "code",
   "execution_count": 31,
   "id": "96061730-a419-4ece-b74d-b3a0a508404c",
   "metadata": {},
   "outputs": [
    {
     "name": "stdout",
     "output_type": "stream",
     "text": [
      "0    Jan 2015\n",
      "1    Feb 2016\n",
      "2    Mar 2017\n",
      "3    Apr 2018\n",
      "4    May 2019\n",
      "dtype: object\n"
     ]
    },
    {
     "data": {
      "text/plain": [
       "0   2015-01-11\n",
       "1   2016-02-11\n",
       "2   2017-03-11\n",
       "3   2018-04-11\n",
       "4   2019-05-11\n",
       "dtype: datetime64[ns]"
      ]
     },
     "execution_count": 31,
     "metadata": {},
     "output_type": "execute_result"
    }
   ],
   "source": [
    "s1 = pd.Series(['Jan 2015', 'Feb 2016' , 'Mar 2017', 'Apr 2018', 'May 2019'])\n",
    "print(s1)\n",
    "n=11\n",
    "s1 = pd.Series(map(lambda d : '11 '+d,s1))\n",
    "s2 = pd.to_datetime(s1,format = 'mixed')\n",
    "s2"
   ]
  },
  {
   "cell_type": "code",
   "execution_count": 32,
   "id": "dea1bbda-9b62-4a23-bb1b-db5ea807aef8",
   "metadata": {},
   "outputs": [
    {
     "name": "stdout",
     "output_type": "stream",
     "text": [
      "0       Red\n",
      "1     Green\n",
      "2    Orange\n",
      "3      Pink\n",
      "4    Yellow\n",
      "5     White\n",
      "dtype: object\n"
     ]
    },
    {
     "data": {
      "text/plain": [
       "1     Green\n",
       "2    Orange\n",
       "4    Yellow\n",
       "5     White\n",
       "dtype: object"
      ]
     },
     "execution_count": 32,
     "metadata": {},
     "output_type": "execute_result"
    }
   ],
   "source": [
    "s1 = pd.Series(['Red', 'Green' , 'Orange', 'Pink', 'Yellow', 'White'])\n",
    "print(s1)\n",
    "s1[s1.map(lambda x: sum([Counter(x.lower()).get(i, 0) for i in list('aeiou')]) >= 2)]"
   ]
  },
  {
   "cell_type": "code",
   "execution_count": 33,
   "id": "7958fbd5-641a-4a4a-b4f9-cb6de43ed1df",
   "metadata": {},
   "outputs": [
    {
     "name": "stdout",
     "output_type": "stream",
     "text": [
      "16.492422502470642\n"
     ]
    }
   ],
   "source": [
    "s1 = pd.Series([1,2,3,4,5,6,7,8,9,10])\n",
    "s2 = pd.Series([11,8,7,5,6,5,3,4,7,1])\n",
    "print(np.linalg.norm(s1-s2))"
   ]
  },
  {
   "cell_type": "code",
   "execution_count": 34,
   "id": "06924605-596a-47e2-a4d1-a46762be1cc7",
   "metadata": {},
   "outputs": [
    {
     "data": {
      "text/plain": [
       "array([1, 4, 8], dtype=int64)"
      ]
     },
     "execution_count": 34,
     "metadata": {},
     "output_type": "execute_result"
    }
   ],
   "source": [
    "s1 = pd.Series([1,8,7,5,6,5,3,4,7,1])\n",
    "(np.where(np.diff(np.sign(np.diff(s1)))==-2)[0]+1)"
   ]
  },
  {
   "cell_type": "code",
   "execution_count": 43,
   "id": "d0fdfdc9-77a4-4407-a731-6544d3590c59",
   "metadata": {},
   "outputs": [
    {
     "data": {
      "text/plain": [
       "'abcidefiabcdefiicd'"
      ]
     },
     "execution_count": 43,
     "metadata": {},
     "output_type": "execute_result"
    }
   ],
   "source": [
    "s1=pd.Series(list(\"abc def abcdef icd\"))\n",
    "\"\".join(s1.replace(' ',s1.value_counts().index[-1]))"
   ]
  },
  {
   "cell_type": "code",
   "execution_count": 36,
   "id": "f3245cdb-58a6-4210-bb2b-1b264b9d2b44",
   "metadata": {},
   "outputs": [
    {
     "data": {
      "text/plain": [
       "[1.0, 0.25, -0.12, 0.2, 0.07, 0.14, 0.15, 0.31, 0.44, 0.23, -0.56]"
      ]
     },
     "execution_count": 36,
     "metadata": {},
     "output_type": "execute_result"
    }
   ],
   "source": [
    "s = pd.Series(np.random.randn(14)*10)\n",
    "[s.autocorr(i).round(2) for i in range(11)]"
   ]
  },
  {
   "cell_type": "code",
   "execution_count": 37,
   "id": "42783b08-c9d5-47d3-a96a-5dd7f124dd99",
   "metadata": {},
   "outputs": [
    {
     "data": {
      "text/plain": [
       "0    2020-01-05\n",
       "1    2020-01-12\n",
       "2    2020-01-19\n",
       "3    2020-01-26\n",
       "4    2020-02-02\n",
       "5    2020-02-09\n",
       "6    2020-02-16\n",
       "7    2020-02-23\n",
       "8    2020-03-01\n",
       "9    2020-03-08\n",
       "10   2020-03-15\n",
       "11   2020-03-22\n",
       "12   2020-03-29\n",
       "13   2020-04-05\n",
       "14   2020-04-12\n",
       "15   2020-04-19\n",
       "16   2020-04-26\n",
       "17   2020-05-03\n",
       "18   2020-05-10\n",
       "19   2020-05-17\n",
       "20   2020-05-24\n",
       "21   2020-05-31\n",
       "22   2020-06-07\n",
       "23   2020-06-14\n",
       "24   2020-06-21\n",
       "25   2020-06-28\n",
       "26   2020-07-05\n",
       "27   2020-07-12\n",
       "28   2020-07-19\n",
       "29   2020-07-26\n",
       "30   2020-08-02\n",
       "31   2020-08-09\n",
       "32   2020-08-16\n",
       "33   2020-08-23\n",
       "34   2020-08-30\n",
       "35   2020-09-06\n",
       "36   2020-09-13\n",
       "37   2020-09-20\n",
       "38   2020-09-27\n",
       "39   2020-10-04\n",
       "40   2020-10-11\n",
       "41   2020-10-18\n",
       "42   2020-10-25\n",
       "43   2020-11-01\n",
       "44   2020-11-08\n",
       "45   2020-11-15\n",
       "46   2020-11-22\n",
       "47   2020-11-29\n",
       "48   2020-12-06\n",
       "49   2020-12-13\n",
       "50   2020-12-20\n",
       "51   2020-12-27\n",
       "dtype: datetime64[ns]"
      ]
     },
     "execution_count": 37,
     "metadata": {},
     "output_type": "execute_result"
    }
   ],
   "source": [
    "pd.Series(pd.date_range('2020-01-05','2020-12-31',freq = 'W-SUN'))"
   ]
  },
  {
   "cell_type": "code",
   "execution_count": 38,
   "id": "5132b797-ac9d-4b36-b315-2505e04525d6",
   "metadata": {},
   "outputs": [
    {
     "data": {
      "text/html": [
       "<div>\n",
       "<style scoped>\n",
       "    .dataframe tbody tr th:only-of-type {\n",
       "        vertical-align: middle;\n",
       "    }\n",
       "\n",
       "    .dataframe tbody tr th {\n",
       "        vertical-align: top;\n",
       "    }\n",
       "\n",
       "    .dataframe thead th {\n",
       "        text-align: right;\n",
       "    }\n",
       "</style>\n",
       "<table border=\"1\" class=\"dataframe\">\n",
       "  <thead>\n",
       "    <tr style=\"text-align: right;\">\n",
       "      <th></th>\n",
       "      <th>index</th>\n",
       "      <th>0</th>\n",
       "    </tr>\n",
       "  </thead>\n",
       "  <tbody>\n",
       "    <tr>\n",
       "      <th>0</th>\n",
       "      <td>A</td>\n",
       "      <td>0</td>\n",
       "    </tr>\n",
       "    <tr>\n",
       "      <th>1</th>\n",
       "      <td>B</td>\n",
       "      <td>1</td>\n",
       "    </tr>\n",
       "    <tr>\n",
       "      <th>2</th>\n",
       "      <td>C</td>\n",
       "      <td>2</td>\n",
       "    </tr>\n",
       "    <tr>\n",
       "      <th>3</th>\n",
       "      <td>D</td>\n",
       "      <td>3</td>\n",
       "    </tr>\n",
       "    <tr>\n",
       "      <th>4</th>\n",
       "      <td>E</td>\n",
       "      <td>4</td>\n",
       "    </tr>\n",
       "  </tbody>\n",
       "</table>\n",
       "</div>"
      ],
      "text/plain": [
       "  index  0\n",
       "0     A  0\n",
       "1     B  1\n",
       "2     C  2\n",
       "3     D  3\n",
       "4     E  4"
      ]
     },
     "execution_count": 38,
     "metadata": {},
     "output_type": "execute_result"
    }
   ],
   "source": [
    "s1 = pd.Series([0,1,2,3,4],index =('A','B','C','D','E') )\n",
    "pd.DataFrame(s1).reset_index()"
   ]
  },
  {
   "cell_type": "code",
   "execution_count": 39,
   "id": "43d46184-f8b7-4af5-a23f-9d2114460959",
   "metadata": {},
   "outputs": [
    {
     "name": "stdout",
     "output_type": "stream",
     "text": [
      "0    0\n",
      "1    1\n",
      "2    2\n",
      "3    3\n",
      "4    4\n",
      "5    5\n",
      "6    6\n",
      "7    7\n",
      "8    8\n",
      "9    9\n",
      "dtype: int64\n",
      "0    p\n",
      "1    q\n",
      "2    r\n",
      "3    s\n",
      "4    t\n",
      "5    u\n",
      "6    v\n",
      "7    w\n",
      "8    x\n",
      "9    y\n",
      "dtype: object\n"
     ]
    },
    {
     "data": {
      "text/html": [
       "<div>\n",
       "<style scoped>\n",
       "    .dataframe tbody tr th:only-of-type {\n",
       "        vertical-align: middle;\n",
       "    }\n",
       "\n",
       "    .dataframe tbody tr th {\n",
       "        vertical-align: top;\n",
       "    }\n",
       "\n",
       "    .dataframe thead th {\n",
       "        text-align: right;\n",
       "    }\n",
       "</style>\n",
       "<table border=\"1\" class=\"dataframe\">\n",
       "  <thead>\n",
       "    <tr style=\"text-align: right;\">\n",
       "      <th></th>\n",
       "      <th>0</th>\n",
       "      <th>1</th>\n",
       "    </tr>\n",
       "  </thead>\n",
       "  <tbody>\n",
       "    <tr>\n",
       "      <th>0</th>\n",
       "      <td>0</td>\n",
       "      <td>p</td>\n",
       "    </tr>\n",
       "    <tr>\n",
       "      <th>1</th>\n",
       "      <td>1</td>\n",
       "      <td>q</td>\n",
       "    </tr>\n",
       "    <tr>\n",
       "      <th>2</th>\n",
       "      <td>2</td>\n",
       "      <td>r</td>\n",
       "    </tr>\n",
       "    <tr>\n",
       "      <th>3</th>\n",
       "      <td>3</td>\n",
       "      <td>s</td>\n",
       "    </tr>\n",
       "    <tr>\n",
       "      <th>4</th>\n",
       "      <td>4</td>\n",
       "      <td>t</td>\n",
       "    </tr>\n",
       "    <tr>\n",
       "      <th>5</th>\n",
       "      <td>5</td>\n",
       "      <td>u</td>\n",
       "    </tr>\n",
       "    <tr>\n",
       "      <th>6</th>\n",
       "      <td>6</td>\n",
       "      <td>v</td>\n",
       "    </tr>\n",
       "    <tr>\n",
       "      <th>7</th>\n",
       "      <td>7</td>\n",
       "      <td>w</td>\n",
       "    </tr>\n",
       "    <tr>\n",
       "      <th>8</th>\n",
       "      <td>8</td>\n",
       "      <td>x</td>\n",
       "    </tr>\n",
       "    <tr>\n",
       "      <th>9</th>\n",
       "      <td>9</td>\n",
       "      <td>y</td>\n",
       "    </tr>\n",
       "  </tbody>\n",
       "</table>\n",
       "</div>"
      ],
      "text/plain": [
       "   0  1\n",
       "0  0  p\n",
       "1  1  q\n",
       "2  2  r\n",
       "3  3  s\n",
       "4  4  t\n",
       "5  5  u\n",
       "6  6  v\n",
       "7  7  w\n",
       "8  8  x\n",
       "9  9  y"
      ]
     },
     "execution_count": 39,
     "metadata": {},
     "output_type": "execute_result"
    }
   ],
   "source": [
    "s1 = pd.Series([0,1,2,3,4,5,6,7,8,9])\n",
    "print(s1)\n",
    "s2 = pd.Series(['p', 'q' , 'r', 's', 't', 'u','v', 'w' , 'x', 'y'])\n",
    "print(s2)\n",
    "pd.concat((s1,s2),axis=1)"
   ]
  },
  {
   "cell_type": "code",
   "execution_count": 40,
   "id": "bd14d5d5-ef42-4654-b988-c372b6bac6e3",
   "metadata": {},
   "outputs": [
    {
     "name": "stdout",
     "output_type": "stream",
     "text": [
      "0    0\n",
      "1    1\n",
      "2    2\n",
      "3    3\n",
      "4    4\n",
      "5    5\n",
      "6    6\n",
      "7    7\n",
      "8    8\n",
      "9    9\n",
      "dtype: int64\n",
      "0    0\n",
      "1    1\n",
      "2    2\n",
      "3    3\n",
      "4    4\n",
      "5    5\n",
      "6    6\n",
      "7    7\n",
      "8    8\n",
      "9    9\n",
      "dtype: int64\n"
     ]
    },
    {
     "data": {
      "text/plain": [
       "0    True\n",
       "1    True\n",
       "2    True\n",
       "3    True\n",
       "4    True\n",
       "5    True\n",
       "6    True\n",
       "7    True\n",
       "8    True\n",
       "9    True\n",
       "dtype: bool"
      ]
     },
     "execution_count": 40,
     "metadata": {},
     "output_type": "execute_result"
    }
   ],
   "source": [
    "s1 = pd.Series([0,1,2,3,4,5,6,7,8,9])\n",
    "print(s1)\n",
    "s2 = pd.Series([0,1,2,3,4,5,6,7,8,9])\n",
    "print(s2)\n",
    "s1==s2"
   ]
  },
  {
   "cell_type": "code",
   "execution_count": 41,
   "id": "6b61f481-96ab-4c16-8e35-f19a188ced71",
   "metadata": {},
   "outputs": [
    {
     "name": "stdout",
     "output_type": "stream",
     "text": [
      "0    1\n",
      "1    3\n",
      "2    7\n",
      "3    5\n",
      "4    9\n",
      "5    4\n",
      "6    9\n",
      "7    1\n",
      "8    9\n",
      "9    0\n",
      "dtype: int64\n",
      "9\n",
      "4\n"
     ]
    }
   ],
   "source": [
    "s1 = pd.Series([1,3,7,5,9,4,9,1,9,0])\n",
    "print(s1)\n",
    "print(s1.idxmin())\n",
    "print(s1.idxmax())"
   ]
  },
  {
   "cell_type": "code",
   "execution_count": 42,
   "id": "e00c44b1-4af8-45bc-ad02-dbbdfed80777",
   "metadata": {},
   "outputs": [
    {
     "data": {
      "text/html": [
       "<div>\n",
       "<style scoped>\n",
       "    .dataframe tbody tr th:only-of-type {\n",
       "        vertical-align: middle;\n",
       "    }\n",
       "\n",
       "    .dataframe tbody tr th {\n",
       "        vertical-align: top;\n",
       "    }\n",
       "\n",
       "    .dataframe thead th {\n",
       "        text-align: right;\n",
       "    }\n",
       "</style>\n",
       "<table border=\"1\" class=\"dataframe\">\n",
       "  <thead>\n",
       "    <tr style=\"text-align: right;\">\n",
       "      <th></th>\n",
       "      <th>W</th>\n",
       "      <th>X</th>\n",
       "      <th>Y</th>\n",
       "      <th>Z</th>\n",
       "    </tr>\n",
       "  </thead>\n",
       "  <tbody>\n",
       "    <tr>\n",
       "      <th>0</th>\n",
       "      <td>False</td>\n",
       "      <td>True</td>\n",
       "      <td>True</td>\n",
       "      <td>True</td>\n",
       "    </tr>\n",
       "    <tr>\n",
       "      <th>1</th>\n",
       "      <td>False</td>\n",
       "      <td>False</td>\n",
       "      <td>True</td>\n",
       "      <td>True</td>\n",
       "    </tr>\n",
       "    <tr>\n",
       "      <th>2</th>\n",
       "      <td>False</td>\n",
       "      <td>True</td>\n",
       "      <td>True</td>\n",
       "      <td>True</td>\n",
       "    </tr>\n",
       "    <tr>\n",
       "      <th>3</th>\n",
       "      <td>False</td>\n",
       "      <td>False</td>\n",
       "      <td>True</td>\n",
       "      <td>True</td>\n",
       "    </tr>\n",
       "    <tr>\n",
       "      <th>4</th>\n",
       "      <td>True</td>\n",
       "      <td>True</td>\n",
       "      <td>True</td>\n",
       "      <td>True</td>\n",
       "    </tr>\n",
       "  </tbody>\n",
       "</table>\n",
       "</div>"
      ],
      "text/plain": [
       "       W      X     Y     Z\n",
       "0  False   True  True  True\n",
       "1  False  False  True  True\n",
       "2  False   True  True  True\n",
       "3  False  False  True  True\n",
       "4   True   True  True  True"
      ]
     },
     "execution_count": 42,
     "metadata": {},
     "output_type": "execute_result"
    }
   ],
   "source": [
    "s1 = pd.DataFrame([[68.0,78.0,84,86],[75.0,75.0,94,97],[86.0,np.NaN,89,96],[80.0,80.0,86,72],[np.NaN,86.0,86,83]], columns=('W','X','Y','Z'))\n",
    "s2 = pd.Series([68.0,75.0,86.0,80.0,np.NaN])\n",
    "s1.ne(s2,axis=0)"
   ]
  },
  {
   "cell_type": "code",
   "execution_count": null,
   "id": "1936c3dd-61ad-400e-8cc3-5552d23c0910",
   "metadata": {},
   "outputs": [],
   "source": []
  }
 ],
 "metadata": {
  "kernelspec": {
   "display_name": "Python 3 (ipykernel)",
   "language": "python",
   "name": "python3"
  },
  "language_info": {
   "codemirror_mode": {
    "name": "ipython",
    "version": 3
   },
   "file_extension": ".py",
   "mimetype": "text/x-python",
   "name": "python",
   "nbconvert_exporter": "python",
   "pygments_lexer": "ipython3",
   "version": "3.11.8"
  }
 },
 "nbformat": 4,
 "nbformat_minor": 5
}
