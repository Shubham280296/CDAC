{
 "cells": [
  {
   "cell_type": "code",
   "execution_count": 76,
   "id": "e7dbc6f9-a615-48aa-834e-309aab54a4e4",
   "metadata": {},
   "outputs": [],
   "source": [
    "import pandas as pd\n",
    "import numpy as np\n",
    "from datetime import datetime,date\n",
    "from dateutil import parser"
   ]
  },
  {
   "cell_type": "markdown",
   "id": "011dcf83-13d6-4980-89a9-10a47ebd9a99",
   "metadata": {},
   "source": [
    "1. Write a Pandas program to create\n",
    "a) Datetime object for Jan 15 2012."
   ]
  },
  {
   "cell_type": "code",
   "execution_count": 3,
   "id": "ac0171f3-0ded-434f-b0cd-df37df12bc08",
   "metadata": {},
   "outputs": [
    {
     "name": "stdout",
     "output_type": "stream",
     "text": [
      "2012-01-15 00:00:00\n"
     ]
    }
   ],
   "source": [
    "print(datetime(2012,1,15))"
   ]
  },
  {
   "cell_type": "markdown",
   "id": "9596ab28-1c76-4efa-9a86-2f240081ac89",
   "metadata": {},
   "source": [
    "b) Specific date and time of 9:20 pm.\r"
   ]
  },
  {
   "cell_type": "code",
   "execution_count": 4,
   "id": "4ea655d6-3453-40c3-99ce-a1879427a5da",
   "metadata": {},
   "outputs": [
    {
     "name": "stdout",
     "output_type": "stream",
     "text": [
      "2012-01-15 21:20:00\n"
     ]
    }
   ],
   "source": [
    "print(datetime(2012,1,15,21,20))"
   ]
  },
  {
   "cell_type": "markdown",
   "id": "44258117-4778-489f-8c9e-6a2ca103773c",
   "metadata": {},
   "source": [
    "c) Local date and time.\n"
   ]
  },
  {
   "cell_type": "code",
   "execution_count": 5,
   "id": "85ae7290-6b30-4226-9a86-b95708cff05c",
   "metadata": {},
   "outputs": [
    {
     "name": "stdout",
     "output_type": "stream",
     "text": [
      "2024-04-25 18:50:49.778677\n"
     ]
    }
   ],
   "source": [
    "print(datetime.now())"
   ]
  },
  {
   "cell_type": "markdown",
   "id": "d2250933-dfe8-4320-8343-db3e6ff27837",
   "metadata": {},
   "source": [
    "d) A date without time."
   ]
  },
  {
   "cell_type": "code",
   "execution_count": 6,
   "id": "54c281fb-f3dc-448d-b924-c5b5def67c53",
   "metadata": {},
   "outputs": [
    {
     "name": "stdout",
     "output_type": "stream",
     "text": [
      "2012-01-15\n"
     ]
    }
   ],
   "source": [
    "print(datetime(2012,1,15).date())"
   ]
  },
  {
   "cell_type": "markdown",
   "id": "75829412-9613-4c6b-975c-7ccb1a5774d7",
   "metadata": {},
   "source": [
    "e) Current date."
   ]
  },
  {
   "cell_type": "code",
   "execution_count": 7,
   "id": "1ad22f70-08cf-435e-bcfc-55b49f3d05d5",
   "metadata": {},
   "outputs": [
    {
     "name": "stdout",
     "output_type": "stream",
     "text": [
      "2024-04-25\n"
     ]
    }
   ],
   "source": [
    "print(datetime.now().date())"
   ]
  },
  {
   "cell_type": "markdown",
   "id": "89d9f266-3d55-479a-9869-8a718a28d508",
   "metadata": {},
   "source": [
    "f) Time from a datetime."
   ]
  },
  {
   "cell_type": "code",
   "execution_count": 8,
   "id": "e055a796-c127-46ff-93cd-26b9f334acc2",
   "metadata": {},
   "outputs": [
    {
     "name": "stdout",
     "output_type": "stream",
     "text": [
      "00:00:00\n"
     ]
    }
   ],
   "source": [
    "print(datetime(2012,1,15).time())"
   ]
  },
  {
   "cell_type": "markdown",
   "id": "08fd6dcf-d07c-4d19-9785-f87e2852a131",
   "metadata": {},
   "source": [
    "g) Current local time.\r"
   ]
  },
  {
   "cell_type": "code",
   "execution_count": 9,
   "id": "d5307115-47b4-4ce2-bdae-97e03885b1c9",
   "metadata": {},
   "outputs": [
    {
     "name": "stdout",
     "output_type": "stream",
     "text": [
      "18:50:49.817444\n"
     ]
    }
   ],
   "source": [
    "print(datetime.now().time())"
   ]
  },
  {
   "cell_type": "markdown",
   "id": "cb54a457-8037-429e-b1ae-2ccdbffe48c2",
   "metadata": {},
   "source": [
    "2. Write a Pandas program to create\r\n",
    "a) a specific date using timestamp."
   ]
  },
  {
   "cell_type": "code",
   "execution_count": 10,
   "id": "c75fb8ea-a836-4404-b8e2-8718072772e7",
   "metadata": {},
   "outputs": [
    {
     "name": "stdout",
     "output_type": "stream",
     "text": [
      "2012-01-15 00:00:00\n"
     ]
    }
   ],
   "source": [
    "print(pd.Timestamp(\"2012 01 15\"))"
   ]
  },
  {
   "cell_type": "markdown",
   "id": "059f9e0a-e30a-4c11-9ec7-638d40e7b43a",
   "metadata": {},
   "source": [
    "b) date and time using timestamp."
   ]
  },
  {
   "cell_type": "code",
   "execution_count": 11,
   "id": "a8eb2859-c6df-4b93-98d3-9383fc071a3e",
   "metadata": {},
   "outputs": [
    {
     "name": "stdout",
     "output_type": "stream",
     "text": [
      "2012-01-15 09:20:00\n"
     ]
    }
   ],
   "source": [
    "print(pd.Timestamp(\"2012 01 15 9:20\"))"
   ]
  },
  {
   "cell_type": "markdown",
   "id": "5ef5083d-143f-45a5-baab-97e4c4e20520",
   "metadata": {},
   "source": [
    "c) a time adds in the current local date using timestamp."
   ]
  },
  {
   "cell_type": "code",
   "execution_count": 12,
   "id": "b9dcaea9-ce43-4ea5-a94c-8b6a3aebaec7",
   "metadata": {},
   "outputs": [
    {
     "name": "stdout",
     "output_type": "stream",
     "text": [
      "2024-04-25 09:20:00\n"
     ]
    }
   ],
   "source": [
    "print(pd.Timestamp(\"9:20\"))"
   ]
  },
  {
   "cell_type": "markdown",
   "id": "5f74d3fc-ba81-4bf3-9373-11dca95e0fb5",
   "metadata": {},
   "source": [
    "d) current date and time using timestamp.\n"
   ]
  },
  {
   "cell_type": "code",
   "execution_count": 13,
   "id": "7c668ae3-a051-4098-900b-3ce94312f455",
   "metadata": {},
   "outputs": [
    {
     "name": "stdout",
     "output_type": "stream",
     "text": [
      "2024-04-25 18:50:49.843547\n"
     ]
    }
   ],
   "source": [
    "print(pd.Timestamp(\"now\"))"
   ]
  },
  {
   "cell_type": "markdown",
   "id": "e065ccc9-0f7f-49a1-b026-bb964e09d3f4",
   "metadata": {},
   "source": [
    "3. Write a Pandas program to create a date from a given year, month, day and \n",
    "another date from a given string formats.\n"
   ]
  },
  {
   "cell_type": "code",
   "execution_count": 14,
   "id": "aacf7285-3df3-43a7-b454-eb7701736080",
   "metadata": {},
   "outputs": [
    {
     "name": "stdout",
     "output_type": "stream",
     "text": [
      "2024-01-24 00:00:00\n",
      "2012-01-12 00:00:00\n"
     ]
    }
   ],
   "source": [
    "print(datetime(year=2024,month=1,day=24))\n",
    "print(parser.parse(\"2012 01 12\"))"
   ]
  },
  {
   "cell_type": "markdown",
   "id": "ac7f25e7-f733-4681-ab10-64470eecd0ec",
   "metadata": {},
   "source": [
    "4. Write a Pandas program to print the day after and before a specified date. Also \n",
    "print the days between two given dates.\n"
   ]
  },
  {
   "cell_type": "code",
   "execution_count": 15,
   "id": "f12d2054-5b6f-4ca0-97cf-4b25b2628893",
   "metadata": {},
   "outputs": [
    {
     "name": "stdout",
     "output_type": "stream",
     "text": [
      "2024-01-25 00:00:00\n",
      "2024-01-23 00:00:00\n",
      "305 days, 0:00:00\n"
     ]
    }
   ],
   "source": [
    "day = datetime(year=2024,month=1,day=24)\n",
    "print(day+pd.Timedelta(days=1))\n",
    "print(day-pd.Timedelta(days=1))\n",
    "print(datetime(2012,11,15)-datetime(2012,1,15))"
   ]
  },
  {
   "cell_type": "markdown",
   "id": "c86aa26c-852a-4469-b789-4f397be4e8a8",
   "metadata": {},
   "source": [
    "5. Write a Pandas program to create a time-series with two index labels and \n",
    "random values. Also print the type of the index.\n"
   ]
  },
  {
   "cell_type": "code",
   "execution_count": 16,
   "id": "26d2f917-041b-4988-9ef1-392757ab35e1",
   "metadata": {},
   "outputs": [
    {
     "name": "stdout",
     "output_type": "stream",
     "text": [
      "2012-11-15    0.984244\n",
      "2012-01-15    0.790260\n",
      "dtype: float64\n"
     ]
    },
    {
     "data": {
      "text/plain": [
       "DatetimeIndex(['2012-11-15', '2012-01-15'], dtype='datetime64[ns]', freq=None)"
      ]
     },
     "execution_count": 16,
     "metadata": {},
     "output_type": "execute_result"
    }
   ],
   "source": [
    "date= [datetime(2012,11,15),datetime(2012,1,15)]\n",
    "df = pd.Series(np.random.rand(2),date)\n",
    "print(df)\n",
    "df.index"
   ]
  },
  {
   "cell_type": "markdown",
   "id": "68711045-3e31-46e9-b818-2b1dcfb1011f",
   "metadata": {},
   "source": [
    "6. Write a Pandas program to create a time-series from a given list of dates as \n",
    "strings.\n"
   ]
  },
  {
   "cell_type": "code",
   "execution_count": 17,
   "id": "903bca31-a94a-4dac-a3e1-f7e33e34fe0b",
   "metadata": {},
   "outputs": [
    {
     "data": {
      "text/plain": [
       "2011-01-15    0.083866\n",
       "2012-01-19    0.157204\n",
       "2012-01-28    0.328398\n",
       "2012-01-28    0.470665\n",
       "dtype: float64"
      ]
     },
     "execution_count": 17,
     "metadata": {},
     "output_type": "execute_result"
    }
   ],
   "source": [
    "lst = [\"2011-01-15\",\"2012-01-19\",\"2012-01-28\",\"2012-01-28\"]\n",
    "pd.Series(np.random.rand(4),lst)"
   ]
  },
  {
   "cell_type": "markdown",
   "id": "4677c74b-7762-42c5-b1bc-46c917440aa8",
   "metadata": {},
   "source": [
    "7. Write a Pandas program to create a time series object that has time indexed \n",
    "data. Also select the dates of same year and select the dates between certain \n",
    "dates."
   ]
  },
  {
   "cell_type": "code",
   "execution_count": 18,
   "id": "dc939c4a-9eba-4757-a707-845399d96608",
   "metadata": {},
   "outputs": [
    {
     "name": "stdout",
     "output_type": "stream",
     "text": [
      "2011-01-15    0.436519\n",
      "2012-01-19    0.445495\n",
      "2012-01-28    0.552638\n",
      "2012-01-28    0.217987\n",
      "dtype: float64\n",
      "2012-01-19    0.445495\n",
      "2012-01-28    0.552638\n",
      "2012-01-28    0.217987\n",
      "dtype: float64\n"
     ]
    }
   ],
   "source": [
    "index= pd.DatetimeIndex(lst)\n",
    "df = pd.Series(np.random.rand(4),index=index)\n",
    "print(df)\n",
    "print(df[\"2012-01-01\":\"2012-12-31\"])"
   ]
  },
  {
   "cell_type": "markdown",
   "id": "c7281e5c-9bf6-4ae2-b8f3-ef8ae0ecba9e",
   "metadata": {},
   "source": [
    "8. Write a Pandas program to create a date range using a startpoint date and a \n",
    "number of periods.\n"
   ]
  },
  {
   "cell_type": "code",
   "execution_count": 19,
   "id": "62ec5666-d2d6-4641-a7c9-73c646caf22e",
   "metadata": {},
   "outputs": [
    {
     "data": {
      "text/plain": [
       "DatetimeIndex(['2021-12-01', '2021-12-02', '2021-12-03', '2021-12-04',\n",
       "               '2021-12-05', '2021-12-06', '2021-12-07', '2021-12-08',\n",
       "               '2021-12-09', '2021-12-10', '2021-12-11', '2021-12-12',\n",
       "               '2021-12-13', '2021-12-14', '2021-12-15', '2021-12-16',\n",
       "               '2021-12-17', '2021-12-18', '2021-12-19', '2021-12-20',\n",
       "               '2021-12-21', '2021-12-22', '2021-12-23', '2021-12-24',\n",
       "               '2021-12-25', '2021-12-26', '2021-12-27', '2021-12-28',\n",
       "               '2021-12-29', '2021-12-30', '2021-12-31', '2022-01-01',\n",
       "               '2022-01-02', '2022-01-03', '2022-01-04', '2022-01-05',\n",
       "               '2022-01-06', '2022-01-07', '2022-01-08', '2022-01-09',\n",
       "               '2022-01-10', '2022-01-11', '2022-01-12', '2022-01-13',\n",
       "               '2022-01-14'],\n",
       "              dtype='datetime64[ns]', freq='D')"
      ]
     },
     "execution_count": 19,
     "metadata": {},
     "output_type": "execute_result"
    }
   ],
   "source": [
    "pd.date_range(\"2021-12-01\",periods=45)"
   ]
  },
  {
   "cell_type": "markdown",
   "id": "178b06ee-c6d7-4257-bb72-3ee5b0ce71d7",
   "metadata": {},
   "source": [
    "9. Write a Pandas program to create a whole month of dates in daily frequencies. \n",
    "Also find the maximum, minimum timestamp and indexs.\n"
   ]
  },
  {
   "cell_type": "code",
   "execution_count": 20,
   "id": "6ee781be-fc36-44ca-86aa-0549e0847e1a",
   "metadata": {},
   "outputs": [
    {
     "name": "stdout",
     "output_type": "stream",
     "text": [
      "0    2021-12-01\n",
      "1    2021-12-02\n",
      "2    2021-12-03\n",
      "3    2021-12-04\n",
      "4    2021-12-05\n",
      "5    2021-12-06\n",
      "6    2021-12-07\n",
      "7    2021-12-08\n",
      "8    2021-12-09\n",
      "9    2021-12-10\n",
      "10   2021-12-11\n",
      "11   2021-12-12\n",
      "12   2021-12-13\n",
      "13   2021-12-14\n",
      "14   2021-12-15\n",
      "15   2021-12-16\n",
      "16   2021-12-17\n",
      "17   2021-12-18\n",
      "18   2021-12-19\n",
      "19   2021-12-20\n",
      "20   2021-12-21\n",
      "21   2021-12-22\n",
      "22   2021-12-23\n",
      "23   2021-12-24\n",
      "24   2021-12-25\n",
      "25   2021-12-26\n",
      "26   2021-12-27\n",
      "27   2021-12-28\n",
      "28   2021-12-29\n",
      "29   2021-12-30\n",
      "30   2021-12-31\n",
      "dtype: datetime64[ns]\n",
      "Maximum 2021-12-31 00:00:00\n",
      "Minimum 2021-12-01 00:00:00\n",
      "Maximum 30\n",
      "Minimum 0\n"
     ]
    }
   ],
   "source": [
    "dates = pd.Series(pd.date_range(\"2021-12-01\",periods=31))\n",
    "print(dates)\n",
    "print(\"Maximum\",dates.max())\n",
    "print(\"Minimum\",dates.min())\n",
    "print(\"Maximum\",dates.idxmax())\n",
    "print(\"Minimum\",dates.idxmin())"
   ]
  },
  {
   "cell_type": "markdown",
   "id": "b3004d19-f7e9-4909-9050-88064e8f6f67",
   "metadata": {},
   "source": [
    "10. Write a Pandas program to create a time series using three months \n",
    "frequency."
   ]
  },
  {
   "cell_type": "code",
   "execution_count": 21,
   "id": "0a5a480e-680b-4310-ba36-9adefc8ee331",
   "metadata": {},
   "outputs": [
    {
     "data": {
      "text/plain": [
       "DatetimeIndex(['2021-01-31', '2021-04-30', '2021-07-31', '2021-10-31',\n",
       "               '2022-01-31', '2022-04-30', '2022-07-31', '2022-10-31',\n",
       "               '2023-01-31', '2023-04-30', '2023-07-31', '2023-10-31',\n",
       "               '2024-01-31', '2024-04-30', '2024-07-31', '2024-10-31',\n",
       "               '2025-01-31', '2025-04-30', '2025-07-31', '2025-10-31',\n",
       "               '2026-01-31', '2026-04-30', '2026-07-31', '2026-10-31'],\n",
       "              dtype='datetime64[ns]', freq='3M')"
      ]
     },
     "execution_count": 21,
     "metadata": {},
     "output_type": "execute_result"
    }
   ],
   "source": [
    "pd.date_range(\"2021-1-12\",periods=24,freq=\"3M\")"
   ]
  },
  {
   "cell_type": "markdown",
   "id": "1992ae14-5e84-48d5-8297-7e5d0c752e6d",
   "metadata": {},
   "source": [
    "11. Write a Pandas program to create a sequence of durations increasing by an \n",
    "hour.\n"
   ]
  },
  {
   "cell_type": "code",
   "execution_count": 22,
   "id": "8e06038b-b47a-41e2-8dce-681d6bc49d2e",
   "metadata": {},
   "outputs": [
    {
     "data": {
      "text/plain": [
       "TimedeltaIndex(['0 days 00:00:00', '0 days 01:00:00', '0 days 02:00:00',\n",
       "                '0 days 03:00:00', '0 days 04:00:00', '0 days 05:00:00',\n",
       "                '0 days 06:00:00', '0 days 07:00:00', '0 days 08:00:00',\n",
       "                '0 days 09:00:00', '0 days 10:00:00', '0 days 11:00:00',\n",
       "                '0 days 12:00:00', '0 days 13:00:00', '0 days 14:00:00',\n",
       "                '0 days 15:00:00', '0 days 16:00:00', '0 days 17:00:00',\n",
       "                '0 days 18:00:00', '0 days 19:00:00', '0 days 20:00:00',\n",
       "                '0 days 21:00:00', '0 days 22:00:00', '0 days 23:00:00'],\n",
       "               dtype='timedelta64[ns]', freq='H')"
      ]
     },
     "execution_count": 22,
     "metadata": {},
     "output_type": "execute_result"
    }
   ],
   "source": [
    "pd.timedelta_range(0,periods=24,freq=\"H\")"
   ]
  },
  {
   "cell_type": "markdown",
   "id": "5a35f44f-b241-4af6-a225-8609ae09d4fe",
   "metadata": {},
   "source": [
    "12. Write a Pandas program to convert year and day of year into a single \n",
    "datetime column of a dataframe.\n"
   ]
  },
  {
   "cell_type": "code",
   "execution_count": 23,
   "id": "83ce24e6-c8c4-458e-b7e5-28b25833b0ea",
   "metadata": {},
   "outputs": [
    {
     "data": {
      "text/plain": [
       "0   2015-01-01\n",
       "1   2016-01-20\n",
       "2   2017-04-12\n",
       "3   2018-11-03\n",
       "dtype: datetime64[ns]"
      ]
     },
     "execution_count": 23,
     "metadata": {},
     "output_type": "execute_result"
    }
   ],
   "source": [
    "year = [2015,2016,2017,2018]\n",
    "day = [1,20,102,307]\n",
    "s = pd.Series(year)*1000+pd.Series(day)\n",
    "pd.to_datetime(s,format = \"%Y%j\")"
   ]
  },
  {
   "cell_type": "markdown",
   "id": "96396eb6-22db-4456-87e2-1844f3a6fd3d",
   "metadata": {},
   "source": [
    "13. Write a Pandas program to create a series of Timestamps from a DataFrame \n",
    "of integer or string columns. Also create a series of Timestamps using specified \n",
    "columns."
   ]
  },
  {
   "cell_type": "code",
   "execution_count": 24,
   "id": "c24f054b-53c2-4c29-b555-9d762265f80f",
   "metadata": {},
   "outputs": [
    {
     "name": "stdout",
     "output_type": "stream",
     "text": [
      "0   2012-01-01 02:00:00\n",
      "1   2015-02-12 13:00:00\n",
      "2   2018-04-17 16:00:00\n",
      "3   2021-06-21 21:00:00\n",
      "dtype: datetime64[ns]\n",
      "0   2012-01-01\n",
      "1   2015-02-12\n",
      "2   2018-04-17\n",
      "3   2021-06-21\n",
      "dtype: datetime64[ns]\n"
     ]
    }
   ],
   "source": [
    "data = pd.DataFrame({\"year\":[2012,2015,2018,2021],\"month\":[1,2,4,6],\"day\":[1,12,17,21],\"hour\":[2,13,16,21]})\n",
    "print(pd.to_datetime(data))\n",
    "print(pd.to_datetime(data[['year', 'month', 'day']]))"
   ]
  },
  {
   "cell_type": "markdown",
   "id": "d0be81ea-efca-40f7-a6b6-92718a9f68e3",
   "metadata": {},
   "source": [
    "14. Write a Pandas program to check if a day is a business day (weekday) or not.\n"
   ]
  },
  {
   "cell_type": "code",
   "execution_count": 25,
   "id": "d38574c2-fdc0-4dea-8887-ddcab365aae9",
   "metadata": {},
   "outputs": [
    {
     "name": "stdout",
     "output_type": "stream",
     "text": [
      "False\n",
      "True\n"
     ]
    }
   ],
   "source": [
    "print(bool(len(pd.bdate_range(\"2018-02-17\",\"2018-02-17\"))))\n",
    "print(bool(len(pd.bdate_range(\"2018-02-19\",\"2018-02-19\"))))"
   ]
  },
  {
   "cell_type": "markdown",
   "id": "32507b39-914f-4c72-9681-7f290f5bafe2",
   "metadata": {},
   "source": [
    "15. Write a Pandas program to get a time series with the last working days of \n",
    "each month of a specific year.\n"
   ]
  },
  {
   "cell_type": "code",
   "execution_count": 26,
   "id": "74203ba9-b0c9-4088-9c17-3b844cb28f02",
   "metadata": {},
   "outputs": [
    {
     "data": {
      "text/plain": [
       "DatetimeIndex(['2021-01-29', '2021-02-26', '2021-03-31', '2021-04-30',\n",
       "               '2021-05-31', '2021-06-30', '2021-07-30', '2021-08-31',\n",
       "               '2021-09-30', '2021-10-29', '2021-11-30', '2021-12-31',\n",
       "               '2022-01-31', '2022-02-28', '2022-03-31', '2022-04-29',\n",
       "               '2022-05-31', '2022-06-30', '2022-07-29', '2022-08-31',\n",
       "               '2022-09-30', '2022-10-31', '2022-11-30', '2022-12-30'],\n",
       "              dtype='datetime64[ns]', freq='BM')"
      ]
     },
     "execution_count": 26,
     "metadata": {},
     "output_type": "execute_result"
    }
   ],
   "source": [
    "pd.date_range(\"2021-01-01\",periods=24,freq=\"BM\")"
   ]
  },
  {
   "cell_type": "markdown",
   "id": "39386cba-d8f6-4e47-b274-f1d3b811ea79",
   "metadata": {},
   "source": [
    "16. Write a Pandas program to create a time series combining hour and minute."
   ]
  },
  {
   "cell_type": "code",
   "execution_count": 27,
   "id": "43f410ba-6b2a-4f45-b7f9-31fbb0b03992",
   "metadata": {},
   "outputs": [
    {
     "data": {
      "text/plain": [
       "TimedeltaIndex(['0 days 00:00:00', '0 days 01:20:00', '0 days 02:40:00',\n",
       "                '0 days 04:00:00', '0 days 05:20:00', '0 days 06:40:00',\n",
       "                '0 days 08:00:00', '0 days 09:20:00', '0 days 10:40:00',\n",
       "                '0 days 12:00:00', '0 days 13:20:00', '0 days 14:40:00',\n",
       "                '0 days 16:00:00', '0 days 17:20:00', '0 days 18:40:00',\n",
       "                '0 days 20:00:00', '0 days 21:20:00', '0 days 22:40:00',\n",
       "                '1 days 00:00:00', '1 days 01:20:00', '1 days 02:40:00',\n",
       "                '1 days 04:00:00', '1 days 05:20:00', '1 days 06:40:00',\n",
       "                '1 days 08:00:00', '1 days 09:20:00', '1 days 10:40:00',\n",
       "                '1 days 12:00:00', '1 days 13:20:00', '1 days 14:40:00'],\n",
       "               dtype='timedelta64[ns]', freq='80T')"
      ]
     },
     "execution_count": 27,
     "metadata": {},
     "output_type": "execute_result"
    }
   ],
   "source": [
    "pd.timedelta_range(0, periods=30, freq=\"1H20T\")"
   ]
  },
  {
   "cell_type": "markdown",
   "id": "75fee9c5-de42-413b-b0f0-7e4d0313b6ac",
   "metadata": {},
   "source": [
    "17. Write a Pandas program to convert unix/epoch time to a regular time stamp \n",
    "in UTC. Also convert the said timestamp in to a given time zone."
   ]
  },
  {
   "cell_type": "code",
   "execution_count": 31,
   "id": "7c2d9da4-4215-4572-b9ff-8b46d7646464",
   "metadata": {},
   "outputs": [
    {
     "name": "stdout",
     "output_type": "stream",
     "text": [
      "timestamp -  2022-06-04 05:40:35\n",
      "Convert timestamp to Asia/Calcatta :  2022-06-04 11:10:35+05:30\n"
     ]
    }
   ],
   "source": [
    "epoch_t = 1654321235\n",
    "timestamp = pd.to_datetime(epoch_t,unit = 's')\n",
    "print('timestamp - ',timestamp)\n",
    "print(\"Convert timestamp to Asia/Calcatta : \",timestamp.tz_localize(\"UTC\").tz_convert(\"Asia/Calcutta\"))"
   ]
  },
  {
   "cell_type": "markdown",
   "id": "31665634-5a86-4e82-bf78-2712f86c6552",
   "metadata": {},
   "source": [
    "18. Write a Pandas program to create a time series object with a time zone."
   ]
  },
  {
   "cell_type": "code",
   "execution_count": 34,
   "id": "1d8c89df-bc28-49d8-beb3-eb203d169b7e",
   "metadata": {},
   "outputs": [
    {
     "data": {
      "text/plain": [
       "Timestamp('2021-12-31 00:00:00-0800', tz='US/Pacific')"
      ]
     },
     "execution_count": 34,
     "metadata": {},
     "output_type": "execute_result"
    }
   ],
   "source": [
    "pd.Timestamp(\"2021-12-31\",tz=\"US/Pacific\")"
   ]
  },
  {
   "cell_type": "markdown",
   "id": "7abbb300-0948-41f3-8925-b3e0c7ac7342",
   "metadata": {},
   "source": [
    "19. Write a Pandas program to remove the time zone information from a Time \n",
    "series data.\n"
   ]
  },
  {
   "cell_type": "code",
   "execution_count": 36,
   "id": "d3486694-2f07-4f9e-a80c-17643cc0b639",
   "metadata": {},
   "outputs": [
    {
     "data": {
      "text/plain": [
       "Timestamp('2021-12-31 00:00:00')"
      ]
     },
     "execution_count": 36,
     "metadata": {},
     "output_type": "execute_result"
    }
   ],
   "source": [
    "date = pd.Timestamp(\"2021-12-31\",tz=\"US/Pacific\")\n",
    "date.tz_localize(None)"
   ]
  },
  {
   "cell_type": "markdown",
   "id": "bfec7334-3313-4e38-9b86-792ec94d9075",
   "metadata": {},
   "source": [
    "20. Write a Pandas program to subtract two timestamps of same time zone or \n",
    "different time zone."
   ]
  },
  {
   "cell_type": "code",
   "execution_count": 39,
   "id": "61aad090-d3ce-4730-b5ef-57e218f7f9fa",
   "metadata": {},
   "outputs": [
    {
     "name": "stdout",
     "output_type": "stream",
     "text": [
      "Difference in time - 3 days 00:00:00\n",
      "Difference in time - 0 days 03:00:00\n"
     ]
    }
   ],
   "source": [
    "date1 = pd.Timestamp(\"2021-12-31\",tz=\"US/Pacific\")\n",
    "date2 = pd.Timestamp(\"2021-12-28\",tz=\"US/Pacific\")\n",
    "print(\"Difference in time -\",date1-date2)\n",
    "date1 = pd.Timestamp(\"2021-12-31\",tz=\"US/Pacific\")\n",
    "date2 = pd.Timestamp(\"2021-12-31\",tz=\"US/Eastern\")\n",
    "print(\"Difference in time -\",date1-date2)"
   ]
  },
  {
   "cell_type": "markdown",
   "id": "72579e48-ed30-49e1-a3ba-8145e223c328",
   "metadata": {},
   "source": [
    "21. Write a Pandas program to calculate all Thursdays between two given days.\n"
   ]
  },
  {
   "cell_type": "code",
   "execution_count": 40,
   "id": "37f99053-c83d-40c1-ad38-bca1a048c133",
   "metadata": {},
   "outputs": [
    {
     "data": {
      "text/plain": [
       "DatetimeIndex(['2021-01-07', '2021-01-14', '2021-01-21', '2021-01-28',\n",
       "               '2021-02-04', '2021-02-11', '2021-02-18', '2021-02-25',\n",
       "               '2021-03-04', '2021-03-11', '2021-03-18', '2021-03-25',\n",
       "               '2021-04-01', '2021-04-08', '2021-04-15', '2021-04-22',\n",
       "               '2021-04-29', '2021-05-06', '2021-05-13', '2021-05-20',\n",
       "               '2021-05-27', '2021-06-03', '2021-06-10', '2021-06-17',\n",
       "               '2021-06-24', '2021-07-01', '2021-07-08', '2021-07-15',\n",
       "               '2021-07-22', '2021-07-29', '2021-08-05', '2021-08-12',\n",
       "               '2021-08-19', '2021-08-26', '2021-09-02', '2021-09-09',\n",
       "               '2021-09-16', '2021-09-23', '2021-09-30', '2021-10-07',\n",
       "               '2021-10-14', '2021-10-21', '2021-10-28', '2021-11-04',\n",
       "               '2021-11-11', '2021-11-18', '2021-11-25', '2021-12-02',\n",
       "               '2021-12-09', '2021-12-16', '2021-12-23', '2021-12-30'],\n",
       "              dtype='datetime64[ns]', freq='W-THU')"
      ]
     },
     "execution_count": 40,
     "metadata": {},
     "output_type": "execute_result"
    }
   ],
   "source": [
    "pd.date_range(\"2021-01-01\",\"2022-01-01\",freq=\"W-THU\")"
   ]
  },
  {
   "cell_type": "markdown",
   "id": "1499202f-da3e-48cd-bdcb-bc430b597347",
   "metadata": {},
   "source": [
    "22. Write a Pandas program to find the all the business quarterly begin and end \n",
    "dates of a specified year.\n"
   ]
  },
  {
   "cell_type": "code",
   "execution_count": 54,
   "id": "9c3915ef-e338-4e52-972a-23c4ed5949d3",
   "metadata": {},
   "outputs": [
    {
     "name": "stdout",
     "output_type": "stream",
     "text": [
      "All the business quarterly begin dates -  ['2018-01-01T00:00:00.000000000' '2018-04-02T00:00:00.000000000'\n",
      " '2018-07-02T00:00:00.000000000' '2018-10-01T00:00:00.000000000'\n",
      " '2019-01-01T00:00:00.000000000']\n",
      "All the business quarterly end dates -  ['2018-01-31T00:00:00.000000000' '2018-04-30T00:00:00.000000000'\n",
      " '2018-07-31T00:00:00.000000000' '2018-10-31T00:00:00.000000000']\n"
     ]
    }
   ],
   "source": [
    "print(\"All the business quarterly begin dates - \",pd.date_range(\"2018-01-01\",\"2019-01-01\",freq = 'BQS-APR').values)\n",
    "print(\"All the business quarterly end dates - \",pd.date_range(\"2018-01-01\",\"2019-01-01\",freq = 'BQ-APR').values)"
   ]
  },
  {
   "cell_type": "markdown",
   "id": "ef32584c-0f9a-4848-86d6-b5a084913728",
   "metadata": {},
   "source": [
    "23. Write a Pandas program to generate sequences of fixed-frequency dates and \n",
    "time spans intervals.\n"
   ]
  },
  {
   "cell_type": "code",
   "execution_count": 55,
   "id": "545a5749-a621-4fd9-bdd5-e52ac55fe9ad",
   "metadata": {},
   "outputs": [
    {
     "data": {
      "text/plain": [
       "DatetimeIndex(['2030-01-01 00:00:00', '2030-01-01 03:00:00',\n",
       "               '2030-01-01 06:00:00', '2030-01-01 09:00:00',\n",
       "               '2030-01-01 12:00:00', '2030-01-01 15:00:00',\n",
       "               '2030-01-01 18:00:00', '2030-01-01 21:00:00',\n",
       "               '2030-01-02 00:00:00', '2030-01-02 03:00:00'],\n",
       "              dtype='datetime64[ns]', freq='3H')"
      ]
     },
     "execution_count": 55,
     "metadata": {},
     "output_type": "execute_result"
    }
   ],
   "source": [
    "pd.date_range('2030-01-01', periods=10, freq='3H')"
   ]
  },
  {
   "cell_type": "markdown",
   "id": "cc20d195-f4bf-4c71-9a14-d17cc61f508d",
   "metadata": {},
   "source": [
    "24. Write a Pandas program to generate time series combining day and intraday \n",
    "offsets intervals.\n"
   ]
  },
  {
   "cell_type": "code",
   "execution_count": 56,
   "id": "b4c993d0-bfe6-4587-a947-41d932419ae4",
   "metadata": {},
   "outputs": [
    {
     "data": {
      "text/plain": [
       "DatetimeIndex([       '2029-01-01 00:00:00', '2029-01-02 00:10:00.000020',\n",
       "               '2029-01-03 00:20:00.000040', '2029-01-04 00:30:00.000060',\n",
       "               '2029-01-05 00:40:00.000080', '2029-01-06 00:50:00.000100',\n",
       "               '2029-01-07 01:00:00.000120', '2029-01-08 01:10:00.000140',\n",
       "               '2029-01-09 01:20:00.000160', '2029-01-10 01:30:00.000180',\n",
       "               '2029-01-11 01:40:00.000200', '2029-01-12 01:50:00.000220',\n",
       "               '2029-01-13 02:00:00.000240', '2029-01-14 02:10:00.000260',\n",
       "               '2029-01-15 02:20:00.000280', '2029-01-16 02:30:00.000300',\n",
       "               '2029-01-17 02:40:00.000320', '2029-01-18 02:50:00.000340',\n",
       "               '2029-01-19 03:00:00.000360', '2029-01-20 03:10:00.000380'],\n",
       "              dtype='datetime64[ns]', freq='87000000020U')"
      ]
     },
     "execution_count": 56,
     "metadata": {},
     "output_type": "execute_result"
    }
   ],
   "source": [
    "pd.date_range('2029-01-01 00:00:00', periods=20, freq='1D10min20U')"
   ]
  },
  {
   "cell_type": "markdown",
   "id": "30a262ef-790e-4eb8-a5d6-165ef49f4480",
   "metadata": {},
   "source": [
    "25. Write a Pandas program to extract the day name from a specified date. Add 2 \n",
    "days and 1 business day with the specified date"
   ]
  },
  {
   "cell_type": "code",
   "execution_count": 60,
   "id": "f2245122-9a8c-41ae-bbc9-8bcaa39b99a0",
   "metadata": {},
   "outputs": [
    {
     "name": "stdout",
     "output_type": "stream",
     "text": [
      "Friday\n",
      "Add 2 days :  2020-02-09 00:00:00\n",
      "Next Business day :  2020-02-10 00:00:00\n"
     ]
    }
   ],
   "source": [
    "day = pd.Timestamp('2020-02-07')\n",
    "print(day.day_name())\n",
    "print(\"Add 2 days : \",day+pd.Timedelta(\"2 day\"))\n",
    "print(\"Next Business day : \",day+pd.offsets.BDay())"
   ]
  },
  {
   "cell_type": "markdown",
   "id": "bceebd0c-94df-447a-9633-4ec0af3d78e4",
   "metadata": {},
   "source": [
    "26. Write a Pandas program to convert integer or float epoch times to Timestamp \n",
    "and DatetimeIndex."
   ]
  },
  {
   "cell_type": "code",
   "execution_count": 65,
   "id": "9ea0dcea-6e8e-4804-8702-31ec671c0f1d",
   "metadata": {},
   "outputs": [
    {
     "name": "stdout",
     "output_type": "stream",
     "text": [
      "DatetimeIndex(['2009-02-01 05:47:47', '2006-01-13 04:57:18'], dtype='datetime64[ns]', freq=None)\n"
     ]
    }
   ],
   "source": [
    "epoch_t = [1233467267,1137128238]\n",
    "date = pd.to_datetime(epoch_t,unit = 's')\n",
    "print(date)"
   ]
  },
  {
   "cell_type": "markdown",
   "id": "a00707f9-15e1-4f6b-b5f3-80eecf6c801b",
   "metadata": {},
   "source": [
    "27. Write a Pandas program to calculate one, two, three business day(s) from a \n",
    "specified date. Also find the next business month end from a specific date."
   ]
  },
  {
   "cell_type": "code",
   "execution_count": 71,
   "id": "4bdb0a46-e449-41a3-8a75-f444ac2e082b",
   "metadata": {},
   "outputs": [
    {
     "name": "stdout",
     "output_type": "stream",
     "text": [
      "Next Business day :  2021-12-06 00:00:00\n",
      "Next Business day :  2021-12-07 00:00:00\n",
      "Next Business day :  2021-12-08 00:00:00\n",
      "Next Business day :  2021-12-31 00:00:00\n"
     ]
    }
   ],
   "source": [
    "day = datetime(2021,12,4)\n",
    "from pandas.tseries.offsets import BusinessDay,BMonthEnd\n",
    "print(\"Next Business day : \",day+BusinessDay())\n",
    "print(\"Next Business day : \",day+2*BusinessDay())\n",
    "print(\"Next Business day : \",day+3*BusinessDay())\n",
    "print(\"Next Business day : \",day+BMonthEnd())"
   ]
  },
  {
   "cell_type": "markdown",
   "id": "75db9b36-bfb2-4ad5-b268-aaa1ee5d787b",
   "metadata": {},
   "source": [
    "28. Write a Pandas program to create a period index represent all monthly \n",
    "boundaries of a given year. Also print start and end time for each period object in \n",
    "the said index.\n"
   ]
  },
  {
   "cell_type": "code",
   "execution_count": 78,
   "id": "9fec7a6a-3d1c-4ba4-9684-0d248dbabc8d",
   "metadata": {},
   "outputs": [
    {
     "name": "stdout",
     "output_type": "stream",
     "text": [
      "PeriodIndex(['2020-01', '2020-02', '2020-03', '2020-04', '2020-05', '2020-06',\n",
      "             '2020-07', '2020-08', '2020-09', '2020-10', '2020-11', '2020-12'],\n",
      "            dtype='period[M]')\n",
      "2020-01-01 00:00:00 2020-01-31 23:59:59.999999999\n",
      "2020-02-01 00:00:00 2020-02-29 23:59:59.999999999\n",
      "2020-03-01 00:00:00 2020-03-31 23:59:59.999999999\n",
      "2020-04-01 00:00:00 2020-04-30 23:59:59.999999999\n",
      "2020-05-01 00:00:00 2020-05-31 23:59:59.999999999\n",
      "2020-06-01 00:00:00 2020-06-30 23:59:59.999999999\n",
      "2020-07-01 00:00:00 2020-07-31 23:59:59.999999999\n",
      "2020-08-01 00:00:00 2020-08-31 23:59:59.999999999\n",
      "2020-09-01 00:00:00 2020-09-30 23:59:59.999999999\n",
      "2020-10-01 00:00:00 2020-10-31 23:59:59.999999999\n",
      "2020-11-01 00:00:00 2020-11-30 23:59:59.999999999\n",
      "2020-12-01 00:00:00 2020-12-31 23:59:59.999999999\n"
     ]
    }
   ],
   "source": [
    "sdt = datetime(2020, 1, 1)\n",
    "edt = datetime(2020, 12, 31)\n",
    "data = pd.period_range(sdt, edt, freq='M')\n",
    "print(data)\n",
    "for d in data: \n",
    "    print (\"{0} {1}\".format(d.start_time, d.end_time)) "
   ]
  },
  {
   "cell_type": "markdown",
   "id": "7ce6448e-8fb2-4337-9f00-6f990ff5d301",
   "metadata": {},
   "source": [
    "29. Write a Pandas program create a series with a PeriodIndex which represents \n",
    "all the calendar month periods in 2029 and 2031. Also print the values for all \n",
    "periods in 2030.\n"
   ]
  },
  {
   "cell_type": "code",
   "execution_count": 86,
   "id": "156edfb5-9413-462c-ab53-b08da6562503",
   "metadata": {},
   "outputs": [
    {
     "name": "stdout",
     "output_type": "stream",
     "text": [
      "2029-01    0.588823\n",
      "2029-02    1.855279\n",
      "2029-03   -1.243757\n",
      "2029-04    1.400309\n",
      "2029-05    0.714319\n",
      "2029-06    0.689467\n",
      "2029-07   -0.085454\n",
      "2029-08    1.547358\n",
      "2029-09    0.701759\n",
      "2029-10   -0.256261\n",
      "2029-11   -0.158923\n",
      "2029-12   -0.008739\n",
      "2030-01   -0.949916\n",
      "2030-02    0.587899\n",
      "2030-03   -0.814810\n",
      "2030-04    1.751454\n",
      "2030-05    0.137122\n",
      "2030-06   -0.394396\n",
      "2030-07   -0.327042\n",
      "2030-08   -0.720489\n",
      "2030-09    1.064945\n",
      "2030-10   -0.962485\n",
      "2030-11    2.141261\n",
      "2030-12   -0.048460\n",
      "2031-01    0.548028\n",
      "2031-02   -0.364717\n",
      "2031-03   -0.747810\n",
      "2031-04   -0.660231\n",
      "2031-05   -1.126470\n",
      "2031-06   -1.327503\n",
      "2031-07    0.891509\n",
      "2031-08    0.498248\n",
      "2031-09   -0.163565\n",
      "2031-10    0.069316\n",
      "2031-11   -0.607238\n",
      "2031-12    1.308210\n",
      "Freq: M, dtype: float64\n"
     ]
    },
    {
     "data": {
      "text/plain": [
       "2030-01   -0.949916\n",
       "2030-02    0.587899\n",
       "2030-03   -0.814810\n",
       "2030-04    1.751454\n",
       "2030-05    0.137122\n",
       "2030-06   -0.394396\n",
       "2030-07   -0.327042\n",
       "2030-08   -0.720489\n",
       "2030-09    1.064945\n",
       "2030-10   -0.962485\n",
       "2030-11    2.141261\n",
       "2030-12   -0.048460\n",
       "Freq: M, dtype: float64"
      ]
     },
     "execution_count": 86,
     "metadata": {},
     "output_type": "execute_result"
    }
   ],
   "source": [
    "data =pd.Series(np.random.randn(36), pd.period_range('1/1/2029','12/31/2031', freq='M'))\n",
    "print(data)\n",
    "data[\"2030\"]"
   ]
  },
  {
   "cell_type": "markdown",
   "id": "24cdd978-6be5-4249-89f7-b764db9f7596",
   "metadata": {},
   "source": [
    "30. Write a Pandas program to generate holidays between two dates using the \n",
    "US federal holiday calendar"
   ]
  },
  {
   "cell_type": "code",
   "execution_count": 91,
   "id": "476dfae9-804b-43c9-9f07-0d41b7f9a8de",
   "metadata": {},
   "outputs": [
    {
     "name": "stdout",
     "output_type": "stream",
     "text": [
      "2021-01-01 00:00:00\n",
      "2021-01-18 00:00:00\n",
      "2021-02-15 00:00:00\n",
      "2021-05-31 00:00:00\n",
      "2021-06-18 00:00:00\n",
      "2021-07-05 00:00:00\n",
      "2021-09-06 00:00:00\n",
      "2021-10-11 00:00:00\n",
      "2021-11-11 00:00:00\n",
      "2021-11-25 00:00:00\n",
      "2021-12-24 00:00:00\n",
      "2021-12-31 00:00:00\n"
     ]
    }
   ],
   "source": [
    "from pandas.tseries.holiday import USFederalHolidayCalendar \n",
    "cal = USFederalHolidayCalendar()\n",
    "for dt in cal.holidays(start=datetime(2021,1,1), end=datetime(2021,12,31)): \n",
    "    print (dt)"
   ]
  },
  {
   "cell_type": "markdown",
   "id": "88f2aeeb-d95c-40ba-9e51-f542b888edca",
   "metadata": {},
   "source": [
    "31. Write a Pandas program to create a monthly time period and display the list \n",
    "of names in the current local scope."
   ]
  },
  {
   "cell_type": "code",
   "execution_count": 94,
   "id": "f1dfe14f-d150-4c8c-a88c-0f0e389f825d",
   "metadata": {},
   "outputs": [
    {
     "name": "stdout",
     "output_type": "stream",
     "text": [
      "2024-04\n",
      "['__add__', '__array_priority__', '__class__', '__delattr__', '__dict__', '__dir__', '__doc__', '__eq__', '__format__', '__ge__', '__getattribute__', '__getstate__', '__gt__', '__hash__', '__init__', '__init_subclass__', '__le__', '__lt__', '__module__', '__ne__', '__new__', '__radd__', '__reduce__', '__reduce_ex__', '__repr__', '__rsub__', '__setattr__', '__setstate__', '__sizeof__', '__str__', '__sub__', '__subclasshook__', '__weakref__', '_add_offset', '_add_timedeltalike_scalar', '_dtype', '_from_ordinal', '_maybe_convert_freq', '_require_matching_freq', 'asfreq', 'day', 'day_of_week', 'day_of_year', 'dayofweek', 'dayofyear', 'days_in_month', 'daysinmonth', 'end_time', 'freq', 'freqstr', 'hour', 'is_leap_year', 'minute', 'month', 'now', 'ordinal', 'quarter', 'qyear', 'second', 'start_time', 'strftime', 'to_timestamp', 'week', 'weekday', 'weekofyear', 'year']\n"
     ]
    }
   ],
   "source": [
    "mtp = pd.Period('2024-04-12','M')\n",
    "print(mtp)\n",
    "print(dir(mtp))"
   ]
  },
  {
   "cell_type": "markdown",
   "id": "7b3d61af-8098-4356-bb82-5def6a73f2a4",
   "metadata": {},
   "source": [
    "32. Write a Pandas program to create a yearly time period from a specified year \n",
    "and display the properties of this period"
   ]
  },
  {
   "cell_type": "code",
   "execution_count": 96,
   "id": "e8a7d738-98d6-487d-8137-9adb5b10185d",
   "metadata": {},
   "outputs": [
    {
     "name": "stdout",
     "output_type": "stream",
     "text": [
      "2011\n",
      "['__add__', '__array_priority__', '__class__', '__delattr__', '__dict__', '__dir__', '__doc__', '__eq__', '__format__', '__ge__', '__getattribute__', '__getstate__', '__gt__', '__hash__', '__init__', '__init_subclass__', '__le__', '__lt__', '__module__', '__ne__', '__new__', '__radd__', '__reduce__', '__reduce_ex__', '__repr__', '__rsub__', '__setattr__', '__setstate__', '__sizeof__', '__str__', '__sub__', '__subclasshook__', '__weakref__', '_add_offset', '_add_timedeltalike_scalar', '_dtype', '_from_ordinal', '_maybe_convert_freq', '_require_matching_freq', 'asfreq', 'day', 'day_of_week', 'day_of_year', 'dayofweek', 'dayofyear', 'days_in_month', 'daysinmonth', 'end_time', 'freq', 'freqstr', 'hour', 'is_leap_year', 'minute', 'month', 'now', 'ordinal', 'quarter', 'qyear', 'second', 'start_time', 'strftime', 'to_timestamp', 'week', 'weekday', 'weekofyear', 'year']\n"
     ]
    }
   ],
   "source": [
    "ytp  =pd.Period('2011-01-01','Y')\n",
    "print(ytp)\n",
    "print(dir(ytp))"
   ]
  },
  {
   "cell_type": "code",
   "execution_count": null,
   "id": "fdeabf84-7c53-45f1-be0d-0ba387a51ab4",
   "metadata": {},
   "outputs": [],
   "source": []
  }
 ],
 "metadata": {
  "kernelspec": {
   "display_name": "Python 3 (ipykernel)",
   "language": "python",
   "name": "python3"
  },
  "language_info": {
   "codemirror_mode": {
    "name": "ipython",
    "version": 3
   },
   "file_extension": ".py",
   "mimetype": "text/x-python",
   "name": "python",
   "nbconvert_exporter": "python",
   "pygments_lexer": "ipython3",
   "version": "3.11.8"
  }
 },
 "nbformat": 4,
 "nbformat_minor": 5
}
