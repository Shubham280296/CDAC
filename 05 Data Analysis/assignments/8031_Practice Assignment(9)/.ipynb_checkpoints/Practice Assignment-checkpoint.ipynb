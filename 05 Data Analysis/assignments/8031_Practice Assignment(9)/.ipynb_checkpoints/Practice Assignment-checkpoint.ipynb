{
 "cells": [
  {
   "cell_type": "code",
   "execution_count": 281,
   "id": "b203b261-f651-4a2f-bbaf-567e5e8dfd29",
   "metadata": {},
   "outputs": [],
   "source": [
    "import pandas as pd\n",
    "import numpy as np\n",
    "import matplotlib.pyplot as plt\n",
    "import seaborn as sns"
   ]
  },
  {
   "cell_type": "code",
   "execution_count": 282,
   "id": "c0da39c7-06bf-4d2d-b707-fb41baf43374",
   "metadata": {},
   "outputs": [],
   "source": [
    "#Q1"
   ]
  },
  {
   "cell_type": "code",
   "execution_count": 283,
   "id": "f1fd6e14-17b5-4b82-ab63-1439f4e6097b",
   "metadata": {},
   "outputs": [],
   "source": [
    "#a"
   ]
  },
  {
   "cell_type": "code",
   "execution_count": 284,
   "id": "3100c814-442a-4e0c-b60f-df58256effb5",
   "metadata": {},
   "outputs": [
    {
     "data": {
      "text/html": [
       "<div>\n",
       "<style scoped>\n",
       "    .dataframe tbody tr th:only-of-type {\n",
       "        vertical-align: middle;\n",
       "    }\n",
       "\n",
       "    .dataframe tbody tr th {\n",
       "        vertical-align: top;\n",
       "    }\n",
       "\n",
       "    .dataframe thead th {\n",
       "        text-align: right;\n",
       "    }\n",
       "</style>\n",
       "<table border=\"1\" class=\"dataframe\">\n",
       "  <thead>\n",
       "    <tr style=\"text-align: right;\">\n",
       "      <th></th>\n",
       "      <th>duration_sec</th>\n",
       "      <th>start_time</th>\n",
       "      <th>end_time</th>\n",
       "      <th>start_station_id</th>\n",
       "      <th>start_station_name</th>\n",
       "      <th>start_station_latitude</th>\n",
       "      <th>start_station_longitude</th>\n",
       "      <th>end_station_id</th>\n",
       "      <th>end_station_name</th>\n",
       "      <th>end_station_latitude</th>\n",
       "      <th>end_station_longitude</th>\n",
       "      <th>bike_id</th>\n",
       "      <th>user_type</th>\n",
       "      <th>member_birth_year</th>\n",
       "      <th>member_gender</th>\n",
       "      <th>bike_share_for_all_trip</th>\n",
       "    </tr>\n",
       "  </thead>\n",
       "  <tbody>\n",
       "    <tr>\n",
       "      <th>0</th>\n",
       "      <td>71766</td>\n",
       "      <td>2018-03-31 16:58:33.1490</td>\n",
       "      <td>2018-04-01 12:54:39.2630</td>\n",
       "      <td>4.0</td>\n",
       "      <td>Cyril Magnin St at Ellis St</td>\n",
       "      <td>37.785881</td>\n",
       "      <td>-122.408915</td>\n",
       "      <td>6.0</td>\n",
       "      <td>The Embarcadero at Sansome St</td>\n",
       "      <td>37.804770</td>\n",
       "      <td>-122.403234</td>\n",
       "      <td>341</td>\n",
       "      <td>Customer</td>\n",
       "      <td>1964.0</td>\n",
       "      <td>Female</td>\n",
       "      <td>No</td>\n",
       "    </tr>\n",
       "    <tr>\n",
       "      <th>1</th>\n",
       "      <td>62569</td>\n",
       "      <td>2018-03-31 19:03:35.9160</td>\n",
       "      <td>2018-04-01 12:26:25.0350</td>\n",
       "      <td>78.0</td>\n",
       "      <td>Folsom St at 9th St</td>\n",
       "      <td>37.773717</td>\n",
       "      <td>-122.411647</td>\n",
       "      <td>47.0</td>\n",
       "      <td>4th St at Harrison St</td>\n",
       "      <td>37.780955</td>\n",
       "      <td>-122.399749</td>\n",
       "      <td>536</td>\n",
       "      <td>Subscriber</td>\n",
       "      <td>1984.0</td>\n",
       "      <td>Male</td>\n",
       "      <td>No</td>\n",
       "    </tr>\n",
       "    <tr>\n",
       "      <th>2</th>\n",
       "      <td>56221</td>\n",
       "      <td>2018-03-31 20:13:13.5640</td>\n",
       "      <td>2018-04-01 11:50:14.8400</td>\n",
       "      <td>258.0</td>\n",
       "      <td>University Ave at Oxford St</td>\n",
       "      <td>37.872355</td>\n",
       "      <td>-122.266447</td>\n",
       "      <td>239.0</td>\n",
       "      <td>Bancroft Way at Telegraph Ave</td>\n",
       "      <td>37.868813</td>\n",
       "      <td>-122.258764</td>\n",
       "      <td>3245</td>\n",
       "      <td>Customer</td>\n",
       "      <td>1983.0</td>\n",
       "      <td>Male</td>\n",
       "      <td>No</td>\n",
       "    </tr>\n",
       "    <tr>\n",
       "      <th>3</th>\n",
       "      <td>85844</td>\n",
       "      <td>2018-03-31 11:28:07.6580</td>\n",
       "      <td>2018-04-01 11:18:52.6130</td>\n",
       "      <td>186.0</td>\n",
       "      <td>Lakeside Dr at 14th St</td>\n",
       "      <td>37.801319</td>\n",
       "      <td>-122.262642</td>\n",
       "      <td>340.0</td>\n",
       "      <td>Harmon St at Adeline St</td>\n",
       "      <td>37.849735</td>\n",
       "      <td>-122.270582</td>\n",
       "      <td>3722</td>\n",
       "      <td>Customer</td>\n",
       "      <td>NaN</td>\n",
       "      <td>NaN</td>\n",
       "      <td>No</td>\n",
       "    </tr>\n",
       "    <tr>\n",
       "      <th>4</th>\n",
       "      <td>1566</td>\n",
       "      <td>2018-03-31 23:37:56.6400</td>\n",
       "      <td>2018-04-01 00:04:02.8930</td>\n",
       "      <td>193.0</td>\n",
       "      <td>Grand Ave at Santa Clara Ave</td>\n",
       "      <td>37.812744</td>\n",
       "      <td>-122.247215</td>\n",
       "      <td>196.0</td>\n",
       "      <td>Grand Ave at Perkins St</td>\n",
       "      <td>37.808894</td>\n",
       "      <td>-122.256460</td>\n",
       "      <td>2355</td>\n",
       "      <td>Subscriber</td>\n",
       "      <td>1979.0</td>\n",
       "      <td>Male</td>\n",
       "      <td>No</td>\n",
       "    </tr>\n",
       "    <tr>\n",
       "      <th>5</th>\n",
       "      <td>281</td>\n",
       "      <td>2018-03-31 23:58:07.8050</td>\n",
       "      <td>2018-04-01 00:02:49.3590</td>\n",
       "      <td>197.0</td>\n",
       "      <td>El Embarcadero at Grand Ave</td>\n",
       "      <td>37.808848</td>\n",
       "      <td>-122.249680</td>\n",
       "      <td>200.0</td>\n",
       "      <td>2nd Ave at E 18th St</td>\n",
       "      <td>37.800214</td>\n",
       "      <td>-122.253810</td>\n",
       "      <td>777</td>\n",
       "      <td>Subscriber</td>\n",
       "      <td>1991.0</td>\n",
       "      <td>Male</td>\n",
       "      <td>No</td>\n",
       "    </tr>\n",
       "    <tr>\n",
       "      <th>6</th>\n",
       "      <td>896</td>\n",
       "      <td>2018-03-31 23:47:48.7970</td>\n",
       "      <td>2018-04-01 00:02:45.5380</td>\n",
       "      <td>98.0</td>\n",
       "      <td>Valencia St at 16th St</td>\n",
       "      <td>37.765052</td>\n",
       "      <td>-122.421866</td>\n",
       "      <td>52.0</td>\n",
       "      <td>McAllister St at Baker St</td>\n",
       "      <td>37.777416</td>\n",
       "      <td>-122.441838</td>\n",
       "      <td>3624</td>\n",
       "      <td>Customer</td>\n",
       "      <td>1970.0</td>\n",
       "      <td>Male</td>\n",
       "      <td>No</td>\n",
       "    </tr>\n",
       "    <tr>\n",
       "      <th>7</th>\n",
       "      <td>440</td>\n",
       "      <td>2018-03-31 23:51:17.8000</td>\n",
       "      <td>2018-03-31 23:58:38.7120</td>\n",
       "      <td>11.0</td>\n",
       "      <td>Davis St at Jackson St</td>\n",
       "      <td>37.797280</td>\n",
       "      <td>-122.398436</td>\n",
       "      <td>21.0</td>\n",
       "      <td>Montgomery St BART Station (Market St at 2nd St)</td>\n",
       "      <td>37.789625</td>\n",
       "      <td>-122.400811</td>\n",
       "      <td>2410</td>\n",
       "      <td>Subscriber</td>\n",
       "      <td>1979.0</td>\n",
       "      <td>Female</td>\n",
       "      <td>Yes</td>\n",
       "    </tr>\n",
       "    <tr>\n",
       "      <th>8</th>\n",
       "      <td>169</td>\n",
       "      <td>2018-03-31 23:50:43.8140</td>\n",
       "      <td>2018-03-31 23:53:33.5710</td>\n",
       "      <td>316.0</td>\n",
       "      <td>San Salvador St at 1st St</td>\n",
       "      <td>37.330165</td>\n",
       "      <td>-121.885831</td>\n",
       "      <td>311.0</td>\n",
       "      <td>Paseo De San Antonio at 2nd St</td>\n",
       "      <td>37.333798</td>\n",
       "      <td>-121.886943</td>\n",
       "      <td>1925</td>\n",
       "      <td>Subscriber</td>\n",
       "      <td>1957.0</td>\n",
       "      <td>Male</td>\n",
       "      <td>No</td>\n",
       "    </tr>\n",
       "    <tr>\n",
       "      <th>9</th>\n",
       "      <td>2765</td>\n",
       "      <td>2018-03-31 23:03:50.0160</td>\n",
       "      <td>2018-03-31 23:49:55.3190</td>\n",
       "      <td>318.0</td>\n",
       "      <td>San Carlos St at Market St</td>\n",
       "      <td>37.330698</td>\n",
       "      <td>-121.888979</td>\n",
       "      <td>318.0</td>\n",
       "      <td>San Carlos St at Market St</td>\n",
       "      <td>37.330698</td>\n",
       "      <td>-121.888979</td>\n",
       "      <td>1191</td>\n",
       "      <td>Customer</td>\n",
       "      <td>1981.0</td>\n",
       "      <td>Male</td>\n",
       "      <td>No</td>\n",
       "    </tr>\n",
       "    <tr>\n",
       "      <th>10</th>\n",
       "      <td>2756</td>\n",
       "      <td>2018-03-31 23:03:50.9690</td>\n",
       "      <td>2018-03-31 23:49:47.4880</td>\n",
       "      <td>318.0</td>\n",
       "      <td>San Carlos St at Market St</td>\n",
       "      <td>37.330698</td>\n",
       "      <td>-121.888979</td>\n",
       "      <td>318.0</td>\n",
       "      <td>San Carlos St at Market St</td>\n",
       "      <td>37.330698</td>\n",
       "      <td>-121.888979</td>\n",
       "      <td>335</td>\n",
       "      <td>Customer</td>\n",
       "      <td>1978.0</td>\n",
       "      <td>Male</td>\n",
       "      <td>No</td>\n",
       "    </tr>\n",
       "    <tr>\n",
       "      <th>11</th>\n",
       "      <td>511</td>\n",
       "      <td>2018-03-31 23:40:34.5520</td>\n",
       "      <td>2018-03-31 23:49:06.4020</td>\n",
       "      <td>58.0</td>\n",
       "      <td>Market St at 10th St</td>\n",
       "      <td>37.776619</td>\n",
       "      <td>-122.417385</td>\n",
       "      <td>45.0</td>\n",
       "      <td>5th St at Howard St</td>\n",
       "      <td>37.781752</td>\n",
       "      <td>-122.405127</td>\n",
       "      <td>1498</td>\n",
       "      <td>Subscriber</td>\n",
       "      <td>1993.0</td>\n",
       "      <td>Female</td>\n",
       "      <td>Yes</td>\n",
       "    </tr>\n",
       "    <tr>\n",
       "      <th>12</th>\n",
       "      <td>419</td>\n",
       "      <td>2018-03-31 23:42:01.1660</td>\n",
       "      <td>2018-03-31 23:49:00.7270</td>\n",
       "      <td>163.0</td>\n",
       "      <td>Lake Merritt BART Station</td>\n",
       "      <td>37.797320</td>\n",
       "      <td>-122.265320</td>\n",
       "      <td>221.0</td>\n",
       "      <td>12th St at 6th Ave</td>\n",
       "      <td>37.794353</td>\n",
       "      <td>-122.253874</td>\n",
       "      <td>1151</td>\n",
       "      <td>Subscriber</td>\n",
       "      <td>1984.0</td>\n",
       "      <td>Male</td>\n",
       "      <td>Yes</td>\n",
       "    </tr>\n",
       "    <tr>\n",
       "      <th>13</th>\n",
       "      <td>510</td>\n",
       "      <td>2018-03-31 23:40:30.3620</td>\n",
       "      <td>2018-03-31 23:49:00.4750</td>\n",
       "      <td>58.0</td>\n",
       "      <td>Market St at 10th St</td>\n",
       "      <td>37.776619</td>\n",
       "      <td>-122.417385</td>\n",
       "      <td>45.0</td>\n",
       "      <td>5th St at Howard St</td>\n",
       "      <td>37.781752</td>\n",
       "      <td>-122.405127</td>\n",
       "      <td>2881</td>\n",
       "      <td>Subscriber</td>\n",
       "      <td>1988.0</td>\n",
       "      <td>Male</td>\n",
       "      <td>Yes</td>\n",
       "    </tr>\n",
       "    <tr>\n",
       "      <th>14</th>\n",
       "      <td>773</td>\n",
       "      <td>2018-03-31 23:34:53.8080</td>\n",
       "      <td>2018-03-31 23:47:47.3860</td>\n",
       "      <td>186.0</td>\n",
       "      <td>Lakeside Dr at 14th St</td>\n",
       "      <td>37.801319</td>\n",
       "      <td>-122.262642</td>\n",
       "      <td>194.0</td>\n",
       "      <td>Lakeshore Ave at Trestle Glen Rd</td>\n",
       "      <td>37.811081</td>\n",
       "      <td>-122.243268</td>\n",
       "      <td>1508</td>\n",
       "      <td>Subscriber</td>\n",
       "      <td>1988.0</td>\n",
       "      <td>Male</td>\n",
       "      <td>Yes</td>\n",
       "    </tr>\n",
       "    <tr>\n",
       "      <th>15</th>\n",
       "      <td>609</td>\n",
       "      <td>2018-03-31 23:29:54.7080</td>\n",
       "      <td>2018-03-31 23:40:04.5270</td>\n",
       "      <td>243.0</td>\n",
       "      <td>Bancroft Way at College Ave</td>\n",
       "      <td>37.869360</td>\n",
       "      <td>-122.254337</td>\n",
       "      <td>241.0</td>\n",
       "      <td>Ashby BART Station</td>\n",
       "      <td>37.852477</td>\n",
       "      <td>-122.270213</td>\n",
       "      <td>593</td>\n",
       "      <td>Subscriber</td>\n",
       "      <td>1994.0</td>\n",
       "      <td>Male</td>\n",
       "      <td>No</td>\n",
       "    </tr>\n",
       "    <tr>\n",
       "      <th>16</th>\n",
       "      <td>322</td>\n",
       "      <td>2018-03-31 23:34:15.1060</td>\n",
       "      <td>2018-03-31 23:39:37.3890</td>\n",
       "      <td>192.0</td>\n",
       "      <td>37th St at West St</td>\n",
       "      <td>37.826696</td>\n",
       "      <td>-122.271795</td>\n",
       "      <td>176.0</td>\n",
       "      <td>MacArthur BART Station</td>\n",
       "      <td>37.828410</td>\n",
       "      <td>-122.266315</td>\n",
       "      <td>2144</td>\n",
       "      <td>Subscriber</td>\n",
       "      <td>1963.0</td>\n",
       "      <td>Female</td>\n",
       "      <td>No</td>\n",
       "    </tr>\n",
       "    <tr>\n",
       "      <th>17</th>\n",
       "      <td>1487</td>\n",
       "      <td>2018-03-31 23:13:08.9050</td>\n",
       "      <td>2018-03-31 23:37:56.6100</td>\n",
       "      <td>280.0</td>\n",
       "      <td>San Fernando at 7th St</td>\n",
       "      <td>37.337246</td>\n",
       "      <td>-121.883074</td>\n",
       "      <td>305.0</td>\n",
       "      <td>Ryland Park</td>\n",
       "      <td>37.342725</td>\n",
       "      <td>-121.895617</td>\n",
       "      <td>853</td>\n",
       "      <td>Subscriber</td>\n",
       "      <td>1994.0</td>\n",
       "      <td>Male</td>\n",
       "      <td>Yes</td>\n",
       "    </tr>\n",
       "    <tr>\n",
       "      <th>18</th>\n",
       "      <td>415</td>\n",
       "      <td>2018-03-31 23:30:38.7160</td>\n",
       "      <td>2018-03-31 23:37:34.4030</td>\n",
       "      <td>321.0</td>\n",
       "      <td>5th at Folsom</td>\n",
       "      <td>37.780146</td>\n",
       "      <td>-122.403071</td>\n",
       "      <td>342.0</td>\n",
       "      <td>Colin P Kelly Jr St at Townsend St (Temporary ...</td>\n",
       "      <td>37.781383</td>\n",
       "      <td>-122.389841</td>\n",
       "      <td>2618</td>\n",
       "      <td>Subscriber</td>\n",
       "      <td>1983.0</td>\n",
       "      <td>Male</td>\n",
       "      <td>No</td>\n",
       "    </tr>\n",
       "    <tr>\n",
       "      <th>19</th>\n",
       "      <td>1455</td>\n",
       "      <td>2018-03-31 23:13:16.6390</td>\n",
       "      <td>2018-03-31 23:37:32.1850</td>\n",
       "      <td>280.0</td>\n",
       "      <td>San Fernando at 7th St</td>\n",
       "      <td>37.337246</td>\n",
       "      <td>-121.883074</td>\n",
       "      <td>305.0</td>\n",
       "      <td>Ryland Park</td>\n",
       "      <td>37.342725</td>\n",
       "      <td>-121.895617</td>\n",
       "      <td>1649</td>\n",
       "      <td>Subscriber</td>\n",
       "      <td>1993.0</td>\n",
       "      <td>Male</td>\n",
       "      <td>Yes</td>\n",
       "    </tr>\n",
       "  </tbody>\n",
       "</table>\n",
       "</div>"
      ],
      "text/plain": [
       "    duration_sec                start_time                  end_time  \\\n",
       "0          71766  2018-03-31 16:58:33.1490  2018-04-01 12:54:39.2630   \n",
       "1          62569  2018-03-31 19:03:35.9160  2018-04-01 12:26:25.0350   \n",
       "2          56221  2018-03-31 20:13:13.5640  2018-04-01 11:50:14.8400   \n",
       "3          85844  2018-03-31 11:28:07.6580  2018-04-01 11:18:52.6130   \n",
       "4           1566  2018-03-31 23:37:56.6400  2018-04-01 00:04:02.8930   \n",
       "5            281  2018-03-31 23:58:07.8050  2018-04-01 00:02:49.3590   \n",
       "6            896  2018-03-31 23:47:48.7970  2018-04-01 00:02:45.5380   \n",
       "7            440  2018-03-31 23:51:17.8000  2018-03-31 23:58:38.7120   \n",
       "8            169  2018-03-31 23:50:43.8140  2018-03-31 23:53:33.5710   \n",
       "9           2765  2018-03-31 23:03:50.0160  2018-03-31 23:49:55.3190   \n",
       "10          2756  2018-03-31 23:03:50.9690  2018-03-31 23:49:47.4880   \n",
       "11           511  2018-03-31 23:40:34.5520  2018-03-31 23:49:06.4020   \n",
       "12           419  2018-03-31 23:42:01.1660  2018-03-31 23:49:00.7270   \n",
       "13           510  2018-03-31 23:40:30.3620  2018-03-31 23:49:00.4750   \n",
       "14           773  2018-03-31 23:34:53.8080  2018-03-31 23:47:47.3860   \n",
       "15           609  2018-03-31 23:29:54.7080  2018-03-31 23:40:04.5270   \n",
       "16           322  2018-03-31 23:34:15.1060  2018-03-31 23:39:37.3890   \n",
       "17          1487  2018-03-31 23:13:08.9050  2018-03-31 23:37:56.6100   \n",
       "18           415  2018-03-31 23:30:38.7160  2018-03-31 23:37:34.4030   \n",
       "19          1455  2018-03-31 23:13:16.6390  2018-03-31 23:37:32.1850   \n",
       "\n",
       "    start_station_id            start_station_name  start_station_latitude  \\\n",
       "0                4.0   Cyril Magnin St at Ellis St               37.785881   \n",
       "1               78.0           Folsom St at 9th St               37.773717   \n",
       "2              258.0   University Ave at Oxford St               37.872355   \n",
       "3              186.0        Lakeside Dr at 14th St               37.801319   \n",
       "4              193.0  Grand Ave at Santa Clara Ave               37.812744   \n",
       "5              197.0   El Embarcadero at Grand Ave               37.808848   \n",
       "6               98.0        Valencia St at 16th St               37.765052   \n",
       "7               11.0        Davis St at Jackson St               37.797280   \n",
       "8              316.0     San Salvador St at 1st St               37.330165   \n",
       "9              318.0    San Carlos St at Market St               37.330698   \n",
       "10             318.0    San Carlos St at Market St               37.330698   \n",
       "11              58.0          Market St at 10th St               37.776619   \n",
       "12             163.0     Lake Merritt BART Station               37.797320   \n",
       "13              58.0          Market St at 10th St               37.776619   \n",
       "14             186.0        Lakeside Dr at 14th St               37.801319   \n",
       "15             243.0   Bancroft Way at College Ave               37.869360   \n",
       "16             192.0            37th St at West St               37.826696   \n",
       "17             280.0        San Fernando at 7th St               37.337246   \n",
       "18             321.0                 5th at Folsom               37.780146   \n",
       "19             280.0        San Fernando at 7th St               37.337246   \n",
       "\n",
       "    start_station_longitude  end_station_id  \\\n",
       "0               -122.408915             6.0   \n",
       "1               -122.411647            47.0   \n",
       "2               -122.266447           239.0   \n",
       "3               -122.262642           340.0   \n",
       "4               -122.247215           196.0   \n",
       "5               -122.249680           200.0   \n",
       "6               -122.421866            52.0   \n",
       "7               -122.398436            21.0   \n",
       "8               -121.885831           311.0   \n",
       "9               -121.888979           318.0   \n",
       "10              -121.888979           318.0   \n",
       "11              -122.417385            45.0   \n",
       "12              -122.265320           221.0   \n",
       "13              -122.417385            45.0   \n",
       "14              -122.262642           194.0   \n",
       "15              -122.254337           241.0   \n",
       "16              -122.271795           176.0   \n",
       "17              -121.883074           305.0   \n",
       "18              -122.403071           342.0   \n",
       "19              -121.883074           305.0   \n",
       "\n",
       "                                     end_station_name  end_station_latitude  \\\n",
       "0                       The Embarcadero at Sansome St             37.804770   \n",
       "1                               4th St at Harrison St             37.780955   \n",
       "2                       Bancroft Way at Telegraph Ave             37.868813   \n",
       "3                             Harmon St at Adeline St             37.849735   \n",
       "4                             Grand Ave at Perkins St             37.808894   \n",
       "5                                2nd Ave at E 18th St             37.800214   \n",
       "6                           McAllister St at Baker St             37.777416   \n",
       "7    Montgomery St BART Station (Market St at 2nd St)             37.789625   \n",
       "8                      Paseo De San Antonio at 2nd St             37.333798   \n",
       "9                          San Carlos St at Market St             37.330698   \n",
       "10                         San Carlos St at Market St             37.330698   \n",
       "11                                5th St at Howard St             37.781752   \n",
       "12                                 12th St at 6th Ave             37.794353   \n",
       "13                                5th St at Howard St             37.781752   \n",
       "14                   Lakeshore Ave at Trestle Glen Rd             37.811081   \n",
       "15                                 Ashby BART Station             37.852477   \n",
       "16                             MacArthur BART Station             37.828410   \n",
       "17                                        Ryland Park             37.342725   \n",
       "18  Colin P Kelly Jr St at Townsend St (Temporary ...             37.781383   \n",
       "19                                        Ryland Park             37.342725   \n",
       "\n",
       "    end_station_longitude  bike_id   user_type  member_birth_year  \\\n",
       "0             -122.403234      341    Customer             1964.0   \n",
       "1             -122.399749      536  Subscriber             1984.0   \n",
       "2             -122.258764     3245    Customer             1983.0   \n",
       "3             -122.270582     3722    Customer                NaN   \n",
       "4             -122.256460     2355  Subscriber             1979.0   \n",
       "5             -122.253810      777  Subscriber             1991.0   \n",
       "6             -122.441838     3624    Customer             1970.0   \n",
       "7             -122.400811     2410  Subscriber             1979.0   \n",
       "8             -121.886943     1925  Subscriber             1957.0   \n",
       "9             -121.888979     1191    Customer             1981.0   \n",
       "10            -121.888979      335    Customer             1978.0   \n",
       "11            -122.405127     1498  Subscriber             1993.0   \n",
       "12            -122.253874     1151  Subscriber             1984.0   \n",
       "13            -122.405127     2881  Subscriber             1988.0   \n",
       "14            -122.243268     1508  Subscriber             1988.0   \n",
       "15            -122.270213      593  Subscriber             1994.0   \n",
       "16            -122.266315     2144  Subscriber             1963.0   \n",
       "17            -121.895617      853  Subscriber             1994.0   \n",
       "18            -122.389841     2618  Subscriber             1983.0   \n",
       "19            -121.895617     1649  Subscriber             1993.0   \n",
       "\n",
       "   member_gender bike_share_for_all_trip  \n",
       "0         Female                      No  \n",
       "1           Male                      No  \n",
       "2           Male                      No  \n",
       "3            NaN                      No  \n",
       "4           Male                      No  \n",
       "5           Male                      No  \n",
       "6           Male                      No  \n",
       "7         Female                     Yes  \n",
       "8           Male                      No  \n",
       "9           Male                      No  \n",
       "10          Male                      No  \n",
       "11        Female                     Yes  \n",
       "12          Male                     Yes  \n",
       "13          Male                     Yes  \n",
       "14          Male                     Yes  \n",
       "15          Male                      No  \n",
       "16        Female                      No  \n",
       "17          Male                     Yes  \n",
       "18          Male                      No  \n",
       "19          Male                     Yes  "
      ]
     },
     "execution_count": 284,
     "metadata": {},
     "output_type": "execute_result"
    }
   ],
   "source": [
    "df1 = pd.read_csv(\"201803-fordgobike-tripdata.csv\")\n",
    "df2 = pd.read_csv(\"201807-fordgobike-tripdata.csv\")\n",
    "df3 = pd.read_csv(\"201811-fordgobike-tripdata.csv\")\n",
    "df4 = pd.read_csv(\"201812-fordgobike-tripdata.csv\")\n",
    "df = pd.concat([df1,df2,df3,df4], ignore_index=True)\n",
    "df.head(20)"
   ]
  },
  {
   "cell_type": "code",
   "execution_count": 285,
   "id": "d75d4ce4-ec25-40a3-9e99-79e5f499e7fa",
   "metadata": {},
   "outputs": [],
   "source": [
    "#b"
   ]
  },
  {
   "cell_type": "code",
   "execution_count": 286,
   "id": "ba962e9f-a459-4456-8a16-36eeadb3ee4c",
   "metadata": {},
   "outputs": [
    {
     "name": "stdout",
     "output_type": "stream",
     "text": [
      "Average duration 834.4304272507298\n"
     ]
    },
    {
     "data": {
      "image/png": "[encoded data removed]",
      "text/plain": [
       "<Figure size 640x480 with 1 Axes>"
      ]
     },
     "metadata": {},
     "output_type": "display_data"
    }
   ],
   "source": [
    "print(\"Average duration\",df['duration_sec'].mean())\n",
    "plt.hist(df['duration_sec'],bins=10);\n",
    "plt.xlabel(\"Duration\")\n",
    "plt.ylabel(\"Frequency\")\n",
    "plt.title(\"Histogram of duration of trips\")\n",
    "plt.show()"
   ]
  },
  {
   "cell_type": "markdown",
   "id": "03980cee-0af5-414a-9cb5-b1cfa3ebb8f2",
   "metadata": {},
   "source": [
    "From plot it is observerd that most of the trips have duration less than 1000. Hence, the average of trip duration is between (500,1000)."
   ]
  },
  {
   "cell_type": "code",
   "execution_count": 287,
   "id": "cd671272-238b-4f59-b1d6-cb21fab53367",
   "metadata": {},
   "outputs": [],
   "source": [
    "#c"
   ]
  },
  {
   "cell_type": "code",
   "execution_count": 288,
   "id": "050b94c6-6b59-428e-9f39-b96665f31042",
   "metadata": {},
   "outputs": [
    {
     "name": "stdout",
     "output_type": "stream",
     "text": [
      "correlation between the months and the trip duration -0.0235953147374796\n"
     ]
    },
    {
     "data": {
      "image/png": "[encoded data removed]",
      "text/plain": [
       "<Figure size 640x480 with 1 Axes>"
      ]
     },
     "metadata": {},
     "output_type": "display_data"
    }
   ],
   "source": [
    "month = pd.to_datetime(df[\"start_time\"]).dt.month\n",
    "print(\"correlation between the months and the trip duration\",df[\"duration_sec\"].corr(month))\n",
    "plt.scatter(month,df[\"duration_sec\"])\n",
    "plt.xlabel(\"Month\")\n",
    "plt.ylabel(\"Trip Duration\")\n",
    "plt.title(\"Month vs Trip Duration\")\n",
    "plt.show()"
   ]
  },
  {
   "cell_type": "markdown",
   "id": "385c441e-45de-4469-a046-9393edb14410",
   "metadata": {},
   "source": [
    "From the scatter plot, it can be seen that trip duration is independent of month. It is also validated from the correlation value which is very small."
   ]
  },
  {
   "cell_type": "code",
   "execution_count": 236,
   "id": "1b0d5d2e-c314-40ad-8c18-acbea527e695",
   "metadata": {},
   "outputs": [],
   "source": [
    "#d"
   ]
  },
  {
   "cell_type": "code",
   "execution_count": 291,
   "id": "4a0f58f5-cf51-4c26-8a28-61b5442cf7f4",
   "metadata": {
    "scrolled": true
   },
   "outputs": [
    {
     "name": "stdout",
     "output_type": "stream",
     "text": [
      "correlation between the season and the trip duration -0.0058992256873561955\n"
     ]
    },
    {
     "data": {
      "image/png": "[encoded data removed]",
      "text/plain": [
       "<Figure size 640x480 with 1 Axes>"
      ]
     },
     "metadata": {},
     "output_type": "display_data"
    }
   ],
   "source": [
    "season = month.map(lambda x : 1 if (x<=3 or x==12) else  2 if(x<=7) else 3) # 1 is winter, 2 for summer, 3 for Rainy\n",
    "print(\"correlation between the season and the trip duration\",df[\"duration_sec\"].corr(season))\n",
    "plt.scatter(season,df[\"duration_sec\"])\n",
    "plt.xlabel(\"Month\")\n",
    "plt.ylabel(\"Trip Duration\")\n",
    "plt.title(\"Month vs Trip Duration\")\n",
    "plt.xticks([1,2,3],[\"winter\",\"summer\",\"Rainy\"])\n",
    "plt.show()"
   ]
  },
  {
   "cell_type": "markdown",
   "id": "6744ebeb-b662-4860-ab3f-7c09bfc4687a",
   "metadata": {},
   "source": [
    "No correlatin between season and trip duration as correlation value is negligible"
   ]
  },
  {
   "cell_type": "code",
   "execution_count": 238,
   "id": "c2b3b13b-655d-4f43-84a0-66e59429ebea",
   "metadata": {},
   "outputs": [],
   "source": [
    "#e"
   ]
  },
  {
   "cell_type": "code",
   "execution_count": 311,
   "id": "683a8000-72f2-4e1e-be4b-9e9dad2cca31",
   "metadata": {},
   "outputs": [
    {
     "name": "stdout",
     "output_type": "stream",
     "text": [
      "data <bound method NDFrame.head of         user_type  duration_sec member_gender\n",
      "5               1           281          Male\n",
      "7               1           440        Female\n",
      "8               1           169          Male\n",
      "11              1           511        Female\n",
      "12              1           419          Male\n",
      "...           ...           ...           ...\n",
      "576095          1           498          Male\n",
      "576097          1           473        Female\n",
      "576099          1           260          Male\n",
      "576100          1           292          Male\n",
      "576101          1           150           NaN\n",
      "\n",
      "[411511 rows x 3 columns]>\n",
      "correlation between the season and the trip duration 0.11373924421298295\n"
     ]
    },
    {
     "data": {
      "image/png": "[encoded data removed]",
      "text/plain": [
       "<Figure size 640x480 with 1 Axes>"
      ]
     },
     "metadata": {},
     "output_type": "display_data"
    }
   ],
   "source": [
    "user = df[\"user_type\"].map(lambda x : 1 if (x==\"Subscriber\") else  2) # 1 for Subscriber, 2 for Customer\n",
    "df_user = pd.concat([user,df[\"duration_sec\"],df[\"member_gender\"]],axis=1)\n",
    "df_user = df_user[df[\"duration_sec\"]<=800] #Assume duration <800 is short trip\n",
    "print(\"data\",df_user.head)\n",
    "print(\"correlation between the season and the trip duration\",df_user[\"duration_sec\"].corr(df_user[\"user_type\"]))\n",
    "sns.barplot(data=df_user,x=\"user_type\",y=\"duration_sec\",hue=\"member_gender\",errorbar= \"sd\")\n",
    "plt.xlabel(\"User\")\n",
    "plt.ylabel(\"Trip Duration\")\n",
    "plt.title(\"User vs Trip Duration\")\n",
    "#plt.xticks([0,1],[\"Subscriber\",\"Customer\"])\n",
    "plt.show()"
   ]
  },
  {
   "cell_type": "markdown",
   "id": "34cce8bf-fa6e-49de-9c36-dc7123be80f2",
   "metadata": {},
   "source": [
    "From graph it is evident that there is no correlation between user type and duration of trip which is again verified by very small value of correlation coefficient. "
   ]
  },
  {
   "cell_type": "code",
   "execution_count": 240,
   "id": "adbf48f7-f061-414b-a608-ab92a43352ed",
   "metadata": {},
   "outputs": [],
   "source": [
    "#Q2"
   ]
  },
  {
   "cell_type": "code",
   "execution_count": 241,
   "id": "2c5bfafb-6dfe-4738-b9be-80b94c4399b2",
   "metadata": {},
   "outputs": [],
   "source": [
    "#a"
   ]
  },
  {
   "cell_type": "code",
   "execution_count": 242,
   "id": "d60c7f76-41b4-4d03-8127-62cc79b1011f",
   "metadata": {},
   "outputs": [
    {
     "data": {
      "text/plain": [
       "array([[0.  , 0.01, 0.02, 0.03, 0.04, 0.05, 0.06, 0.07, 0.08, 0.09],\n",
       "       [0.1 , 0.11, 0.12, 0.13, 0.14, 0.15, 0.16, 0.17, 0.18, 0.19],\n",
       "       [0.2 , 0.21, 0.22, 0.23, 0.24, 0.25, 0.26, 0.27, 0.28, 0.29],\n",
       "       [0.3 , 0.31, 0.32, 0.33, 0.34, 0.35, 0.36, 0.37, 0.38, 0.39],\n",
       "       [0.4 , 0.41, 0.42, 0.43, 0.44, 0.45, 0.46, 0.47, 0.48, 0.49],\n",
       "       [0.5 , 0.51, 0.52, 0.53, 0.54, 0.55, 0.56, 0.57, 0.58, 0.59],\n",
       "       [0.6 , 0.61, 0.62, 0.63, 0.64, 0.65, 0.66, 0.67, 0.68, 0.69],\n",
       "       [0.7 , 0.71, 0.72, 0.73, 0.74, 0.75, 0.76, 0.77, 0.78, 0.79],\n",
       "       [0.8 , 0.81, 0.82, 0.83, 0.84, 0.85, 0.86, 0.87, 0.88, 0.89],\n",
       "       [0.9 , 0.91, 0.92, 0.93, 0.94, 0.95, 0.96, 0.97, 0.98, 0.99]])"
      ]
     },
     "execution_count": 242,
     "metadata": {},
     "output_type": "execute_result"
    }
   ],
   "source": [
    "matrix = np.arange(0,1,0.01).reshape(10,10)\n",
    "matrix"
   ]
  },
  {
   "cell_type": "code",
   "execution_count": 243,
   "id": "91e9b5b7-8bac-4334-90b1-c91ab41ef925",
   "metadata": {},
   "outputs": [],
   "source": [
    "#b"
   ]
  },
  {
   "cell_type": "code",
   "execution_count": 244,
   "id": "b0edc397-7df8-40a7-8411-8b9e24b9647e",
   "metadata": {},
   "outputs": [
    {
     "data": {
      "text/plain": [
       "array([0.        , 0.05263158, 0.10526316, 0.15789474, 0.21052632,\n",
       "       0.26315789, 0.31578947, 0.36842105, 0.42105263, 0.47368421,\n",
       "       0.52631579, 0.57894737, 0.63157895, 0.68421053, 0.73684211,\n",
       "       0.78947368, 0.84210526, 0.89473684, 0.94736842, 1.        ])"
      ]
     },
     "execution_count": 244,
     "metadata": {},
     "output_type": "execute_result"
    }
   ],
   "source": [
    "matrix =np.linspace(0,1,20)\n",
    "matrix"
   ]
  },
  {
   "cell_type": "code",
   "execution_count": 245,
   "id": "ef5581ed-4ee9-47cb-a30f-9b2c1fc48fb4",
   "metadata": {},
   "outputs": [],
   "source": [
    "#c"
   ]
  },
  {
   "cell_type": "code",
   "execution_count": 246,
   "id": "0c258582-a7fa-47ac-be95-644093cc98f8",
   "metadata": {},
   "outputs": [
    {
     "name": "stdout",
     "output_type": "stream",
     "text": [
      "Sum of all elements of matrix =  325\n",
      "SD of all elements of matrix =  7.211102550927978\n",
      "Sum of all elements of matrix of a column=  [55 60 65 70 75]\n"
     ]
    }
   ],
   "source": [
    "matrix = np.arange(1,26).reshape(5,5)\n",
    "print(\"Sum of all elements of matrix = \",matrix.sum())\n",
    "print(\"SD of all elements of matrix = \",matrix.std())\n",
    "print(\"Sum of all elements of matrix of a column= \",matrix.sum(axis=0))"
   ]
  },
  {
   "cell_type": "code",
   "execution_count": 247,
   "id": "b40ca5e1-0b5a-4944-88de-4e0cd1a491b2",
   "metadata": {},
   "outputs": [],
   "source": [
    "#Q3"
   ]
  },
  {
   "cell_type": "code",
   "execution_count": 248,
   "id": "1625e3d4-e3f3-4bb9-a88c-6299b8060929",
   "metadata": {},
   "outputs": [],
   "source": [
    "x= np.arange(0,100)\n",
    "y=x*2\n",
    "z=x**2"
   ]
  },
  {
   "cell_type": "code",
   "execution_count": 249,
   "id": "018f62d2-c0aa-4f72-83b6-e0952e89fd88",
   "metadata": {},
   "outputs": [],
   "source": [
    "#a"
   ]
  },
  {
   "cell_type": "code",
   "execution_count": 250,
   "id": "573f31e3-8f77-488e-872c-76c0c2a69dce",
   "metadata": {},
   "outputs": [
    {
     "data": {
      "image/png": "[encoded data removed]",
      "text/plain": [
       "<Figure size 1000x600 with 1 Axes>"
      ]
     },
     "metadata": {},
     "output_type": "display_data"
    }
   ],
   "source": [
    "fig = plt.figure(figsize=(10,6))\n",
    "axes1 = fig.add_axes([0,0,1,1])\n",
    "axes1.set_xlabel(\"x\")\n",
    "axes1.set_ylabel(\"y\")\n",
    "axes1.set_title(\"x vs y\")\n",
    "plt.show()"
   ]
  },
  {
   "cell_type": "code",
   "execution_count": 251,
   "id": "375bdcc0-b677-47d0-8eaf-aea151afc5e0",
   "metadata": {},
   "outputs": [],
   "source": [
    "#b"
   ]
  },
  {
   "cell_type": "code",
   "execution_count": 252,
   "id": "2309f5d1-e102-4e5b-ad5e-56ca9fcc7d07",
   "metadata": {},
   "outputs": [
    {
     "data": {
      "image/png": "[encoded data removed]",
      "text/plain": [
       "<Figure size 1000x600 with 2 Axes>"
      ]
     },
     "metadata": {},
     "output_type": "display_data"
    }
   ],
   "source": [
    "fig = plt.figure(figsize=(10,6))\n",
    "axes1 = fig.add_axes([0,0,1,1])\n",
    "axes2 = fig.add_axes([0.2,0.5,0.2,0.2])"
   ]
  },
  {
   "cell_type": "code",
   "execution_count": 253,
   "id": "d3b1ba7d-c292-4230-8268-ea24d4e735f5",
   "metadata": {},
   "outputs": [],
   "source": [
    "#c"
   ]
  },
  {
   "cell_type": "code",
   "execution_count": 254,
   "id": "09682e8c-e9a2-4f14-b884-1e3c4515a7e4",
   "metadata": {},
   "outputs": [
    {
     "data": {
      "image/png": "[encoded data removed]",
      "text/plain": [
       "<Figure size 1000x600 with 2 Axes>"
      ]
     },
     "metadata": {},
     "output_type": "display_data"
    }
   ],
   "source": [
    "fig = plt.figure(figsize=(10,6))\n",
    "axes1 = fig.add_axes([0,0,1,1])\n",
    "axes2 = fig.add_axes([0.2,0.5,0.4,0.4])"
   ]
  },
  {
   "cell_type": "code",
   "execution_count": 255,
   "id": "d9545509-5882-4d53-82ba-42178282a845",
   "metadata": {},
   "outputs": [],
   "source": [
    "#d"
   ]
  },
  {
   "cell_type": "code",
   "execution_count": 256,
   "id": "0247cd4e-43e3-4304-bb52-9b592e0d2fa8",
   "metadata": {},
   "outputs": [
    {
     "data": {
      "text/plain": [
       "(30.0, 50.0)"
      ]
     },
     "execution_count": 256,
     "metadata": {},
     "output_type": "execute_result"
    },
    {
     "data": {
      "image/png": "[encoded data removed]",
      "text/plain": [
       "<Figure size 1000x600 with 2 Axes>"
      ]
     },
     "metadata": {},
     "output_type": "display_data"
    }
   ],
   "source": [
    "fig = plt.figure(figsize=(10,6))\n",
    "axes1 = fig.add_axes([0,0,1,1])\n",
    "axes2 = fig.add_axes([0.2,0.5,0.4,0.4])\n",
    "axes1.plot(x,z)\n",
    "axes2.plot(x,y)\n",
    "axes2.set_xlim(20,22)\n",
    "axes2.set_ylim(30,50)"
   ]
  },
  {
   "cell_type": "code",
   "execution_count": 257,
   "id": "3a483a8e-1c6f-49ae-945b-9359b40c90ee",
   "metadata": {},
   "outputs": [],
   "source": [
    "#Q4"
   ]
  },
  {
   "cell_type": "code",
   "execution_count": 258,
   "id": "98e11ad6-46d9-442b-907b-5531d969d186",
   "metadata": {},
   "outputs": [
    {
     "data": {
      "text/html": [
       "<div>\n",
       "<style scoped>\n",
       "    .dataframe tbody tr th:only-of-type {\n",
       "        vertical-align: middle;\n",
       "    }\n",
       "\n",
       "    .dataframe tbody tr th {\n",
       "        vertical-align: top;\n",
       "    }\n",
       "\n",
       "    .dataframe thead th {\n",
       "        text-align: right;\n",
       "    }\n",
       "</style>\n",
       "<table border=\"1\" class=\"dataframe\">\n",
       "  <thead>\n",
       "    <tr style=\"text-align: right;\">\n",
       "      <th></th>\n",
       "      <th>Address</th>\n",
       "      <th>Lot</th>\n",
       "      <th>AM or PM</th>\n",
       "      <th>Browser Info</th>\n",
       "      <th>Company</th>\n",
       "      <th>Credit Card</th>\n",
       "      <th>CC Exp Date</th>\n",
       "      <th>CC Security Code</th>\n",
       "      <th>CC Provider</th>\n",
       "      <th>Email</th>\n",
       "      <th>Job</th>\n",
       "      <th>IP Address</th>\n",
       "      <th>Language</th>\n",
       "      <th>Purchase Price</th>\n",
       "    </tr>\n",
       "  </thead>\n",
       "  <tbody>\n",
       "    <tr>\n",
       "      <th>0</th>\n",
       "      <td>16629 Pace Camp Apt. 448\\nAlexisborough, NE 77...</td>\n",
       "      <td>46 in</td>\n",
       "      <td>PM</td>\n",
       "      <td>Opera/9.56.(X11; Linux x86_64; sl-SI) Presto/2...</td>\n",
       "      <td>Martinez-Herman</td>\n",
       "      <td>6011929061123406</td>\n",
       "      <td>02/20</td>\n",
       "      <td>900</td>\n",
       "      <td>JCB 16 digit</td>\n",
       "      <td>pdunlap@yahoo.com</td>\n",
       "      <td>Scientist, product/process development</td>\n",
       "      <td>149.146.147.205</td>\n",
       "      <td>el</td>\n",
       "      <td>98.14</td>\n",
       "    </tr>\n",
       "    <tr>\n",
       "      <th>1</th>\n",
       "      <td>9374 Jasmine Spurs Suite 508\\nSouth John, TN 8...</td>\n",
       "      <td>28 rn</td>\n",
       "      <td>PM</td>\n",
       "      <td>Opera/8.93.(Windows 98; Win 9x 4.90; en-US) Pr...</td>\n",
       "      <td>Fletcher, Richards and Whitaker</td>\n",
       "      <td>3337758169645356</td>\n",
       "      <td>11/18</td>\n",
       "      <td>561</td>\n",
       "      <td>Mastercard</td>\n",
       "      <td>anthony41@reed.com</td>\n",
       "      <td>Drilling engineer</td>\n",
       "      <td>15.160.41.51</td>\n",
       "      <td>fr</td>\n",
       "      <td>70.73</td>\n",
       "    </tr>\n",
       "    <tr>\n",
       "      <th>2</th>\n",
       "      <td>Unit 0065 Box 5052\\nDPO AP 27450</td>\n",
       "      <td>94 vE</td>\n",
       "      <td>PM</td>\n",
       "      <td>Mozilla/5.0 (compatible; MSIE 9.0; Windows NT ...</td>\n",
       "      <td>Simpson, Williams and Pham</td>\n",
       "      <td>675957666125</td>\n",
       "      <td>08/19</td>\n",
       "      <td>699</td>\n",
       "      <td>JCB 16 digit</td>\n",
       "      <td>amymiller@morales-harrison.com</td>\n",
       "      <td>Customer service manager</td>\n",
       "      <td>132.207.160.22</td>\n",
       "      <td>de</td>\n",
       "      <td>0.95</td>\n",
       "    </tr>\n",
       "    <tr>\n",
       "      <th>3</th>\n",
       "      <td>7780 Julia Fords\\nNew Stacy, WA 45798</td>\n",
       "      <td>36 vm</td>\n",
       "      <td>PM</td>\n",
       "      <td>Mozilla/5.0 (Macintosh; Intel Mac OS X 10_8_0 ...</td>\n",
       "      <td>Williams, Marshall and Buchanan</td>\n",
       "      <td>6011578504430710</td>\n",
       "      <td>02/24</td>\n",
       "      <td>384</td>\n",
       "      <td>Discover</td>\n",
       "      <td>brent16@olson-robinson.info</td>\n",
       "      <td>Drilling engineer</td>\n",
       "      <td>30.250.74.19</td>\n",
       "      <td>es</td>\n",
       "      <td>78.04</td>\n",
       "    </tr>\n",
       "    <tr>\n",
       "      <th>4</th>\n",
       "      <td>23012 Munoz Drive Suite 337\\nNew Cynthia, TX 5...</td>\n",
       "      <td>20 IE</td>\n",
       "      <td>AM</td>\n",
       "      <td>Opera/9.58.(X11; Linux x86_64; it-IT) Presto/2...</td>\n",
       "      <td>Brown, Watson and Andrews</td>\n",
       "      <td>6011456623207998</td>\n",
       "      <td>10/25</td>\n",
       "      <td>678</td>\n",
       "      <td>Diners Club / Carte Blanche</td>\n",
       "      <td>christopherwright@gmail.com</td>\n",
       "      <td>Fine artist</td>\n",
       "      <td>24.140.33.94</td>\n",
       "      <td>es</td>\n",
       "      <td>77.82</td>\n",
       "    </tr>\n",
       "    <tr>\n",
       "      <th>...</th>\n",
       "      <td>...</td>\n",
       "      <td>...</td>\n",
       "      <td>...</td>\n",
       "      <td>...</td>\n",
       "      <td>...</td>\n",
       "      <td>...</td>\n",
       "      <td>...</td>\n",
       "      <td>...</td>\n",
       "      <td>...</td>\n",
       "      <td>...</td>\n",
       "      <td>...</td>\n",
       "      <td>...</td>\n",
       "      <td>...</td>\n",
       "      <td>...</td>\n",
       "    </tr>\n",
       "    <tr>\n",
       "      <th>9995</th>\n",
       "      <td>966 Castaneda Locks\\nWest Juliafurt, CO 96415</td>\n",
       "      <td>92 XI</td>\n",
       "      <td>PM</td>\n",
       "      <td>Mozilla/5.0 (Windows NT 5.1) AppleWebKit/5352 ...</td>\n",
       "      <td>Randall-Sloan</td>\n",
       "      <td>342945015358701</td>\n",
       "      <td>03/22</td>\n",
       "      <td>838</td>\n",
       "      <td>JCB 15 digit</td>\n",
       "      <td>iscott@wade-garner.com</td>\n",
       "      <td>Printmaker</td>\n",
       "      <td>29.73.197.114</td>\n",
       "      <td>it</td>\n",
       "      <td>82.21</td>\n",
       "    </tr>\n",
       "    <tr>\n",
       "      <th>9996</th>\n",
       "      <td>832 Curtis Dam Suite 785\\nNorth Edwardburgh, T...</td>\n",
       "      <td>41 JY</td>\n",
       "      <td>AM</td>\n",
       "      <td>Mozilla/5.0 (compatible; MSIE 9.0; Windows NT ...</td>\n",
       "      <td>Hale, Collins and Wilson</td>\n",
       "      <td>210033169205009</td>\n",
       "      <td>07/25</td>\n",
       "      <td>207</td>\n",
       "      <td>JCB 16 digit</td>\n",
       "      <td>mary85@hotmail.com</td>\n",
       "      <td>Energy engineer</td>\n",
       "      <td>121.133.168.51</td>\n",
       "      <td>pt</td>\n",
       "      <td>25.63</td>\n",
       "    </tr>\n",
       "    <tr>\n",
       "      <th>9997</th>\n",
       "      <td>Unit 4434 Box 6343\\nDPO AE 28026-0283</td>\n",
       "      <td>74 Zh</td>\n",
       "      <td>AM</td>\n",
       "      <td>Mozilla/5.0 (Macintosh; U; Intel Mac OS X 10_7...</td>\n",
       "      <td>Anderson Ltd</td>\n",
       "      <td>6011539787356311</td>\n",
       "      <td>05/21</td>\n",
       "      <td>1</td>\n",
       "      <td>VISA 16 digit</td>\n",
       "      <td>tyler16@gmail.com</td>\n",
       "      <td>Veterinary surgeon</td>\n",
       "      <td>156.210.0.254</td>\n",
       "      <td>el</td>\n",
       "      <td>83.98</td>\n",
       "    </tr>\n",
       "    <tr>\n",
       "      <th>9998</th>\n",
       "      <td>0096 English Rest\\nRoystad, IA 12457</td>\n",
       "      <td>74 cL</td>\n",
       "      <td>PM</td>\n",
       "      <td>Mozilla/5.0 (Macintosh; Intel Mac OS X 10_8_8;...</td>\n",
       "      <td>Cook Inc</td>\n",
       "      <td>180003348082930</td>\n",
       "      <td>11/17</td>\n",
       "      <td>987</td>\n",
       "      <td>American Express</td>\n",
       "      <td>elizabethmoore@reid.net</td>\n",
       "      <td>Local government officer</td>\n",
       "      <td>55.78.26.143</td>\n",
       "      <td>es</td>\n",
       "      <td>38.84</td>\n",
       "    </tr>\n",
       "    <tr>\n",
       "      <th>9999</th>\n",
       "      <td>40674 Barrett Stravenue\\nGrimesville, WI 79682</td>\n",
       "      <td>64 Hr</td>\n",
       "      <td>AM</td>\n",
       "      <td>Mozilla/5.0 (X11; Linux i686; rv:1.9.5.20) Gec...</td>\n",
       "      <td>Greene Inc</td>\n",
       "      <td>4139972901927273</td>\n",
       "      <td>02/19</td>\n",
       "      <td>302</td>\n",
       "      <td>JCB 15 digit</td>\n",
       "      <td>rachelford@vaughn.com</td>\n",
       "      <td>Embryologist, clinical</td>\n",
       "      <td>176.119.198.199</td>\n",
       "      <td>el</td>\n",
       "      <td>67.59</td>\n",
       "    </tr>\n",
       "  </tbody>\n",
       "</table>\n",
       "<p>10000 rows × 14 columns</p>\n",
       "</div>"
      ],
      "text/plain": [
       "                                                Address    Lot AM or PM  \\\n",
       "0     16629 Pace Camp Apt. 448\\nAlexisborough, NE 77...  46 in       PM   \n",
       "1     9374 Jasmine Spurs Suite 508\\nSouth John, TN 8...  28 rn       PM   \n",
       "2                      Unit 0065 Box 5052\\nDPO AP 27450  94 vE       PM   \n",
       "3                 7780 Julia Fords\\nNew Stacy, WA 45798  36 vm       PM   \n",
       "4     23012 Munoz Drive Suite 337\\nNew Cynthia, TX 5...  20 IE       AM   \n",
       "...                                                 ...    ...      ...   \n",
       "9995      966 Castaneda Locks\\nWest Juliafurt, CO 96415  92 XI       PM   \n",
       "9996  832 Curtis Dam Suite 785\\nNorth Edwardburgh, T...  41 JY       AM   \n",
       "9997              Unit 4434 Box 6343\\nDPO AE 28026-0283  74 Zh       AM   \n",
       "9998               0096 English Rest\\nRoystad, IA 12457  74 cL       PM   \n",
       "9999     40674 Barrett Stravenue\\nGrimesville, WI 79682  64 Hr       AM   \n",
       "\n",
       "                                           Browser Info  \\\n",
       "0     Opera/9.56.(X11; Linux x86_64; sl-SI) Presto/2...   \n",
       "1     Opera/8.93.(Windows 98; Win 9x 4.90; en-US) Pr...   \n",
       "2     Mozilla/5.0 (compatible; MSIE 9.0; Windows NT ...   \n",
       "3     Mozilla/5.0 (Macintosh; Intel Mac OS X 10_8_0 ...   \n",
       "4     Opera/9.58.(X11; Linux x86_64; it-IT) Presto/2...   \n",
       "...                                                 ...   \n",
       "9995  Mozilla/5.0 (Windows NT 5.1) AppleWebKit/5352 ...   \n",
       "9996  Mozilla/5.0 (compatible; MSIE 9.0; Windows NT ...   \n",
       "9997  Mozilla/5.0 (Macintosh; U; Intel Mac OS X 10_7...   \n",
       "9998  Mozilla/5.0 (Macintosh; Intel Mac OS X 10_8_8;...   \n",
       "9999  Mozilla/5.0 (X11; Linux i686; rv:1.9.5.20) Gec...   \n",
       "\n",
       "                              Company       Credit Card CC Exp Date  \\\n",
       "0                     Martinez-Herman  6011929061123406       02/20   \n",
       "1     Fletcher, Richards and Whitaker  3337758169645356       11/18   \n",
       "2          Simpson, Williams and Pham      675957666125       08/19   \n",
       "3     Williams, Marshall and Buchanan  6011578504430710       02/24   \n",
       "4           Brown, Watson and Andrews  6011456623207998       10/25   \n",
       "...                               ...               ...         ...   \n",
       "9995                    Randall-Sloan   342945015358701       03/22   \n",
       "9996         Hale, Collins and Wilson   210033169205009       07/25   \n",
       "9997                     Anderson Ltd  6011539787356311       05/21   \n",
       "9998                         Cook Inc   180003348082930       11/17   \n",
       "9999                       Greene Inc  4139972901927273       02/19   \n",
       "\n",
       "      CC Security Code                  CC Provider  \\\n",
       "0                  900                 JCB 16 digit   \n",
       "1                  561                   Mastercard   \n",
       "2                  699                 JCB 16 digit   \n",
       "3                  384                     Discover   \n",
       "4                  678  Diners Club / Carte Blanche   \n",
       "...                ...                          ...   \n",
       "9995               838                 JCB 15 digit   \n",
       "9996               207                 JCB 16 digit   \n",
       "9997                 1                VISA 16 digit   \n",
       "9998               987             American Express   \n",
       "9999               302                 JCB 15 digit   \n",
       "\n",
       "                               Email                                     Job  \\\n",
       "0                  pdunlap@yahoo.com  Scientist, product/process development   \n",
       "1                 anthony41@reed.com                       Drilling engineer   \n",
       "2     amymiller@morales-harrison.com                Customer service manager   \n",
       "3        brent16@olson-robinson.info                       Drilling engineer   \n",
       "4        christopherwright@gmail.com                             Fine artist   \n",
       "...                              ...                                     ...   \n",
       "9995          iscott@wade-garner.com                              Printmaker   \n",
       "9996              mary85@hotmail.com                         Energy engineer   \n",
       "9997               tyler16@gmail.com                      Veterinary surgeon   \n",
       "9998         elizabethmoore@reid.net                Local government officer   \n",
       "9999           rachelford@vaughn.com                  Embryologist, clinical   \n",
       "\n",
       "           IP Address Language  Purchase Price  \n",
       "0     149.146.147.205       el           98.14  \n",
       "1        15.160.41.51       fr           70.73  \n",
       "2      132.207.160.22       de            0.95  \n",
       "3        30.250.74.19       es           78.04  \n",
       "4        24.140.33.94       es           77.82  \n",
       "...               ...      ...             ...  \n",
       "9995    29.73.197.114       it           82.21  \n",
       "9996   121.133.168.51       pt           25.63  \n",
       "9997    156.210.0.254       el           83.98  \n",
       "9998     55.78.26.143       es           38.84  \n",
       "9999  176.119.198.199       el           67.59  \n",
       "\n",
       "[10000 rows x 14 columns]"
      ]
     },
     "execution_count": 258,
     "metadata": {},
     "output_type": "execute_result"
    }
   ],
   "source": [
    "df = pd.read_csv(\"walmart_purchase_data.csv\")\n",
    "df"
   ]
  },
  {
   "cell_type": "code",
   "execution_count": 259,
   "id": "de765215-2856-41c2-bc08-cd8012ca197c",
   "metadata": {},
   "outputs": [],
   "source": [
    "#a"
   ]
  },
  {
   "cell_type": "code",
   "execution_count": 260,
   "id": "b23db588-a467-4678-8fca-c8c07b6db5d6",
   "metadata": {},
   "outputs": [
    {
     "name": "stdout",
     "output_type": "stream",
     "text": [
      "Average Purchase Price -  50.347302\n"
     ]
    }
   ],
   "source": [
    "print(\"Average Purchase Price - \",df[\"Purchase Price\"].mean())"
   ]
  },
  {
   "cell_type": "code",
   "execution_count": 261,
   "id": "2898d481-a8fe-4b23-bef3-bbdf603d3fed",
   "metadata": {},
   "outputs": [],
   "source": [
    "#b"
   ]
  },
  {
   "cell_type": "code",
   "execution_count": 262,
   "id": "9577141e-6dbb-432e-b51c-6eb12fff278f",
   "metadata": {},
   "outputs": [
    {
     "name": "stdout",
     "output_type": "stream",
     "text": [
      "Maximum Purchase Price -  99.99\n",
      "Minimum Purchase Price -  0.0\n"
     ]
    }
   ],
   "source": [
    "print(\"Maximum Purchase Price - \",df[\"Purchase Price\"].max())\n",
    "print(\"Minimum Purchase Price - \",df[\"Purchase Price\"].min())"
   ]
  },
  {
   "cell_type": "code",
   "execution_count": 263,
   "id": "7e5305d9-c46e-4521-b49b-0bde2254040f",
   "metadata": {},
   "outputs": [],
   "source": [
    "#c"
   ]
  },
  {
   "cell_type": "code",
   "execution_count": 264,
   "id": "e3b6a03a-e27a-45ce-92b4-8a32e534bf1c",
   "metadata": {},
   "outputs": [
    {
     "name": "stdout",
     "output_type": "stream",
     "text": [
      " Number of people have English 'en' as their Language of choice -  1098\n"
     ]
    }
   ],
   "source": [
    "print(\" Number of people have English 'en' as their Language of choice - \",(~df[\"Language\"].ne(\"en\")).sum())"
   ]
  },
  {
   "cell_type": "code",
   "execution_count": 265,
   "id": "1cc8ef70-86fd-4b9e-891e-f812d810fa7c",
   "metadata": {},
   "outputs": [],
   "source": [
    "#d"
   ]
  },
  {
   "cell_type": "code",
   "execution_count": 266,
   "id": "d94cac96-651f-4eef-8313-257b1c957cbb",
   "metadata": {},
   "outputs": [
    {
     "name": "stdout",
     "output_type": "stream",
     "text": [
      "email of the person with the following Credit Card Number: 4926535242672853 -  1234    bondellen@williams-garza.com\n",
      "Name: Email, dtype: object\n"
     ]
    }
   ],
   "source": [
    "print(\"email of the person with the following Credit Card Number: 4926535242672853 - \",df[\"Email\"][df[\"Credit Card\"]==4926535242672853])"
   ]
  },
  {
   "cell_type": "code",
   "execution_count": 267,
   "id": "580e1083-e956-41fa-908b-3c121b7ebc4c",
   "metadata": {},
   "outputs": [],
   "source": [
    "#e"
   ]
  },
  {
   "cell_type": "code",
   "execution_count": 268,
   "id": "c00c14b6-45fe-47f7-b017-33d844e2ac36",
   "metadata": {},
   "outputs": [
    {
     "name": "stdout",
     "output_type": "stream",
     "text": [
      "Purchase Price for this transaction from Lot: 90 WT -  75.1\n"
     ]
    }
   ],
   "source": [
    "print(\"Purchase Price for this transaction from Lot: 90 WT - \",np.array(df[\"Purchase Price\"][df[\"Lot\"]==(\"90 WT\")])[0])"
   ]
  },
  {
   "cell_type": "code",
   "execution_count": 269,
   "id": "b2cd75c2-c05b-4c24-bfcf-c1a9b8d39815",
   "metadata": {},
   "outputs": [],
   "source": [
    "#f"
   ]
  },
  {
   "cell_type": "code",
   "execution_count": 270,
   "id": "168bb5de-ccea-47d0-9eeb-150f52be0696",
   "metadata": {},
   "outputs": [
    {
     "name": "stdout",
     "output_type": "stream",
     "text": [
      "people have American Express as their Credit Card Provider and made a purchase above $95 -  39\n"
     ]
    }
   ],
   "source": [
    "print(\"people have American Express as their Credit Card Provider and made a purchase above $95 - \",((df[\"CC Provider\"]==\"American Express\") & (df[\"Purchase Price\"]>95)).sum())"
   ]
  },
  {
   "cell_type": "code",
   "execution_count": 271,
   "id": "1fa25a0f-dd0f-4bb8-99e7-2c6ae89e4dec",
   "metadata": {},
   "outputs": [],
   "source": [
    "#g"
   ]
  },
  {
   "cell_type": "code",
   "execution_count": 272,
   "id": "3ff2b43a-ea97-4369-9a29-4ad7904718c3",
   "metadata": {},
   "outputs": [
    {
     "name": "stdout",
     "output_type": "stream",
     "text": [
      "Number people have a credit card that expires in 2025-  1033\n"
     ]
    }
   ],
   "source": [
    "print(\"Number people have a credit card that expires in 2025- \",(df[\"CC Exp Date\"].str.endswith(\"25\")).sum())\n"
   ]
  },
  {
   "cell_type": "code",
   "execution_count": 273,
   "id": "6592e056-b692-4983-9ca8-9b58d9a4f975",
   "metadata": {},
   "outputs": [],
   "source": [
    "#h"
   ]
  },
  {
   "cell_type": "code",
   "execution_count": 274,
   "id": "220be429-1d98-47de-8506-6a92f23e201b",
   "metadata": {},
   "outputs": [
    {
     "name": "stdout",
     "output_type": "stream",
     "text": [
      "5 most popular email providers - \n",
      " hotmail.com     1638\n",
      "yahoo.com       1616\n",
      "gmail.com       1605\n",
      "smith.com         42\n",
      "williams.com      37\n",
      "Name: count, dtype: int64\n"
     ]
    }
   ],
   "source": [
    "print(\"5 most popular email providers - \\n\",pd.Series(map(lambda x : x.split(\"@\")[1],df[\"Email\"])).value_counts().head(5))"
   ]
  },
  {
   "cell_type": "code",
   "execution_count": 275,
   "id": "9db6b688-8b48-48f8-ad72-f21e9fc6be4b",
   "metadata": {},
   "outputs": [],
   "source": [
    "#i"
   ]
  },
  {
   "cell_type": "code",
   "execution_count": 276,
   "id": "975af6fb-92b3-424e-8b5e-dc9a5f6f0c72",
   "metadata": {},
   "outputs": [
    {
     "name": "stdout",
     "output_type": "stream",
     "text": [
      "5 most common job titles\n",
      "  Job\n",
      "Interior and spatial designer    31\n",
      "Lawyer                           30\n",
      "Social researcher                28\n",
      "Purchasing manager               27\n",
      "Designer, jewellery              27\n",
      "Name: count, dtype: int64\n"
     ]
    }
   ],
   "source": [
    "print(\"5 most common job titles\\n \",df[\"Job\"].value_counts().head(5))"
   ]
  },
  {
   "cell_type": "code",
   "execution_count": 277,
   "id": "adc01ce0-89b0-4d0f-98bd-ffe08b2dc44d",
   "metadata": {},
   "outputs": [],
   "source": [
    "#j"
   ]
  },
  {
   "cell_type": "code",
   "execution_count": 278,
   "id": "1ccd7a6a-f142-4125-a568-ace1df9a4b66",
   "metadata": {},
   "outputs": [
    {
     "name": "stdout",
     "output_type": "stream",
     "text": [
      "Purchase Time\n",
      "  AM or PM\n",
      "PM    5068\n",
      "AM    4932\n",
      "Name: count, dtype: int64\n"
     ]
    }
   ],
   "source": [
    "print(\"Purchase Time\\n \",df[\"AM or PM\"].value_counts().head(5))"
   ]
  },
  {
   "cell_type": "code",
   "execution_count": null,
   "id": "1aed2cfb-8bef-43ab-8e76-d858b3b90641",
   "metadata": {},
   "outputs": [],
   "source": []
  }
 ],
 "metadata": {
  "kernelspec": {
   "display_name": "Python 3 (ipykernel)",
   "language": "python",
   "name": "python3"
  },
  "language_info": {
   "codemirror_mode": {
    "name": "ipython",
    "version": 3
   },
   "file_extension": ".py",
   "mimetype": "text/x-python",
   "name": "python",
   "nbconvert_exporter": "python",
   "pygments_lexer": "ipython3",
   "version": "3.11.8"
  }
 },
 "nbformat": 4,
 "nbformat_minor": 5
}
