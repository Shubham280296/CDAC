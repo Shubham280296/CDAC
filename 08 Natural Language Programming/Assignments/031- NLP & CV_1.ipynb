{
 "cells": [
  {
   "cell_type": "markdown",
   "id": "196bae67",
   "metadata": {},
   "source": [
    "Name : Shubham Shaha\n",
    "\n",
    "PRN : 240340128031"
   ]
  },
  {
   "cell_type": "markdown",
   "id": "05e7da14",
   "metadata": {},
   "source": [
    "## Q1"
   ]
  },
  {
   "cell_type": "code",
   "execution_count": 3,
   "id": "1f1a0822",
   "metadata": {},
   "outputs": [],
   "source": [
    "sent = 'They told that their ages are 23, 25 and 29 respectively.'"
   ]
  },
  {
   "cell_type": "code",
   "execution_count": 4,
   "id": "1b66f2e4",
   "metadata": {},
   "outputs": [],
   "source": [
    "from nltk.tokenize import word_tokenize"
   ]
  },
  {
   "cell_type": "code",
   "execution_count": 5,
   "id": "863f0414",
   "metadata": {},
   "outputs": [
    {
     "data": {
      "text/plain": [
       "['They',\n",
       " 'told',\n",
       " 'that',\n",
       " 'their',\n",
       " 'ages',\n",
       " 'are',\n",
       " '23',\n",
       " ',',\n",
       " '25',\n",
       " 'and',\n",
       " '29',\n",
       " 'respectively',\n",
       " '.']"
      ]
     },
     "execution_count": 5,
     "metadata": {},
     "output_type": "execute_result"
    }
   ],
   "source": [
    "tokens = word_tokenize(sent)\n",
    "tokens"
   ]
  },
  {
   "cell_type": "markdown",
   "id": "9501740b",
   "metadata": {},
   "source": [
    "### 1 Find the average of ages."
   ]
  },
  {
   "cell_type": "code",
   "execution_count": 10,
   "id": "ecd6042d",
   "metadata": {},
   "outputs": [
    {
     "name": "stdout",
     "output_type": "stream",
     "text": [
      "25.666666666666668\n"
     ]
    }
   ],
   "source": [
    "ages = []\n",
    "for i in tokens:\n",
    "    if i.isdigit():\n",
    "        ages.append(int(i))     \n",
    "print(sum(ages)/len(ages))"
   ]
  },
  {
   "cell_type": "markdown",
   "id": "a0d59c8e",
   "metadata": {},
   "source": [
    "### 2 Count nuber of words starts with 't'/'T'"
   ]
  },
  {
   "cell_type": "code",
   "execution_count": 14,
   "id": "e09410f2",
   "metadata": {},
   "outputs": [
    {
     "name": "stdout",
     "output_type": "stream",
     "text": [
      "4\n"
     ]
    }
   ],
   "source": [
    "count = 0\n",
    "for i in tokens:\n",
    "    if i.lower().startswith('t'):\n",
    "        count+=1    \n",
    "print(count)"
   ]
  },
  {
   "cell_type": "markdown",
   "id": "b1d292b3",
   "metadata": {},
   "source": [
    "### 3 Count total number of punctuation symbols"
   ]
  },
  {
   "cell_type": "code",
   "execution_count": 16,
   "id": "40be3010",
   "metadata": {},
   "outputs": [
    {
     "name": "stdout",
     "output_type": "stream",
     "text": [
      "2\n"
     ]
    }
   ],
   "source": [
    "count = 0\n",
    "for i in tokens:\n",
    "    if not i.isalnum():\n",
    "        count+=1    \n",
    "print(count)"
   ]
  },
  {
   "cell_type": "markdown",
   "id": "b7a3762f",
   "metadata": {},
   "source": [
    "### 4 Print the words in capital letter which ends with'd'"
   ]
  },
  {
   "cell_type": "code",
   "execution_count": 17,
   "id": "435b6988",
   "metadata": {},
   "outputs": [
    {
     "name": "stdout",
     "output_type": "stream",
     "text": [
      "['TOLD', 'AND']\n"
     ]
    }
   ],
   "source": [
    "words = []\n",
    "for i in tokens:\n",
    "    if i.endswith('d'):\n",
    "        words.append(i.upper())     \n",
    "print(words)"
   ]
  },
  {
   "cell_type": "markdown",
   "id": "eea1d580",
   "metadata": {},
   "source": [
    "### 5 Merge all words and print (no punctuations)"
   ]
  },
  {
   "cell_type": "code",
   "execution_count": 22,
   "id": "56b7642b",
   "metadata": {},
   "outputs": [
    {
     "name": "stdout",
     "output_type": "stream",
     "text": [
      "They told that their ages are and respectively\n"
     ]
    }
   ],
   "source": [
    "words = []\n",
    "for i in tokens:\n",
    "    if i.isalpha():\n",
    "        words.append(i)  \n",
    "print(\" \".join(words))"
   ]
  },
  {
   "cell_type": "markdown",
   "id": "64231f72",
   "metadata": {},
   "source": [
    "## Q2"
   ]
  },
  {
   "cell_type": "code",
   "execution_count": 24,
   "id": "21e1f01c",
   "metadata": {},
   "outputs": [],
   "source": [
    "flag = 'The national flag of India, colloquially called Tiraṅgā (the tricolour), is a horizontal rectangular tricolour flag, the colours being of India saffron, white and India green; with the Ashoka Chakra, a 24-spoke wheel, in navy blue at its centre.[1][2] It was adopted in its present form during a meeting of the Constituent Assembly held on 22 July 1947, and it became the official flag of the Union of India on 15 August 1947. The flag was subsequently retained as that of the Republic of India. In India, the term \"tricolour\" almost always refers to the Indian national flag.'"
   ]
  },
  {
   "cell_type": "code",
   "execution_count": 30,
   "id": "22b04804",
   "metadata": {},
   "outputs": [
    {
     "data": {
      "text/plain": [
       "['The',\n",
       " 'national',\n",
       " 'flag',\n",
       " 'of',\n",
       " 'India',\n",
       " ',',\n",
       " 'colloquially',\n",
       " 'called',\n",
       " 'Tiraṅgā',\n",
       " '(',\n",
       " 'the',\n",
       " 'tricolour',\n",
       " ')',\n",
       " ',',\n",
       " 'is',\n",
       " 'a',\n",
       " 'horizontal',\n",
       " 'rectangular',\n",
       " 'tricolour',\n",
       " 'flag',\n",
       " ',',\n",
       " 'the',\n",
       " 'colours',\n",
       " 'being',\n",
       " 'of',\n",
       " 'India',\n",
       " 'saffron',\n",
       " ',',\n",
       " 'white',\n",
       " 'and',\n",
       " 'India',\n",
       " 'green',\n",
       " ';',\n",
       " 'with',\n",
       " 'the',\n",
       " 'Ashoka',\n",
       " 'Chakra',\n",
       " ',',\n",
       " 'a',\n",
       " '24-spoke',\n",
       " 'wheel',\n",
       " ',',\n",
       " 'in',\n",
       " 'navy',\n",
       " 'blue',\n",
       " 'at',\n",
       " 'its',\n",
       " 'centre',\n",
       " '.',\n",
       " '[',\n",
       " '1',\n",
       " ']',\n",
       " '[',\n",
       " '2',\n",
       " ']',\n",
       " 'It',\n",
       " 'was',\n",
       " 'adopted',\n",
       " 'in',\n",
       " 'its',\n",
       " 'present',\n",
       " 'form',\n",
       " 'during',\n",
       " 'a',\n",
       " 'meeting',\n",
       " 'of',\n",
       " 'the',\n",
       " 'Constituent',\n",
       " 'Assembly',\n",
       " 'held',\n",
       " 'on',\n",
       " '22',\n",
       " 'July',\n",
       " '1947',\n",
       " ',',\n",
       " 'and',\n",
       " 'it',\n",
       " 'became',\n",
       " 'the',\n",
       " 'official',\n",
       " 'flag',\n",
       " 'of',\n",
       " 'the',\n",
       " 'Union',\n",
       " 'of',\n",
       " 'India',\n",
       " 'on',\n",
       " '15',\n",
       " 'August',\n",
       " '1947',\n",
       " '.',\n",
       " 'The',\n",
       " 'flag',\n",
       " 'was',\n",
       " 'subsequently',\n",
       " 'retained',\n",
       " 'as',\n",
       " 'that',\n",
       " 'of',\n",
       " 'the',\n",
       " 'Republic',\n",
       " 'of',\n",
       " 'India',\n",
       " '.',\n",
       " 'In',\n",
       " 'India',\n",
       " ',',\n",
       " 'the',\n",
       " 'term',\n",
       " '``',\n",
       " 'tricolour',\n",
       " \"''\",\n",
       " 'almost',\n",
       " 'always',\n",
       " 'refers',\n",
       " 'to',\n",
       " 'the',\n",
       " 'Indian',\n",
       " 'national',\n",
       " 'flag',\n",
       " '.']"
      ]
     },
     "execution_count": 30,
     "metadata": {},
     "output_type": "execute_result"
    }
   ],
   "source": [
    "tokens = word_tokenize(flag)\n",
    "tokens"
   ]
  },
  {
   "cell_type": "markdown",
   "id": "be79063e",
   "metadata": {},
   "source": [
    "### 1 Count total no of words"
   ]
  },
  {
   "cell_type": "code",
   "execution_count": 28,
   "id": "ad862377",
   "metadata": {},
   "outputs": [
    {
     "name": "stdout",
     "output_type": "stream",
     "text": [
      "93\n"
     ]
    }
   ],
   "source": [
    "count = 0\n",
    "for i in tokens:\n",
    "    if i.isalpha():\n",
    "        count+=1    \n",
    "print(count)"
   ]
  },
  {
   "cell_type": "markdown",
   "id": "2a452ae0",
   "metadata": {},
   "source": [
    "### 2 Count percentage of punctuation marks"
   ]
  },
  {
   "cell_type": "code",
   "execution_count": 34,
   "id": "a5ee1ea2",
   "metadata": {},
   "outputs": [
    {
     "name": "stdout",
     "output_type": "stream",
     "text": [
      "15.702479338842975\n"
     ]
    }
   ],
   "source": [
    "count = 0\n",
    "import string\n",
    "for i in tokens:\n",
    "    if i in string.punctuation:\n",
    "        count+=1    \n",
    "print(100*count/len(tokens))"
   ]
  },
  {
   "cell_type": "markdown",
   "id": "351fd23c",
   "metadata": {},
   "source": [
    "### 3 Print total no of lines"
   ]
  },
  {
   "cell_type": "code",
   "execution_count": 35,
   "id": "bfedcf2e",
   "metadata": {},
   "outputs": [
    {
     "name": "stdout",
     "output_type": "stream",
     "text": [
      "4\n"
     ]
    }
   ],
   "source": [
    "count = 0\n",
    "import string\n",
    "for i in tokens:\n",
    "    if i=='.':\n",
    "        count+=1    \n",
    "print(count)"
   ]
  },
  {
   "cell_type": "markdown",
   "id": "24d5a922",
   "metadata": {},
   "source": [
    "### 4 How many words are in title case?"
   ]
  },
  {
   "cell_type": "code",
   "execution_count": 41,
   "id": "d7800912",
   "metadata": {},
   "outputs": [
    {
     "name": "stdout",
     "output_type": "stream",
     "text": [
      "20\n"
     ]
    }
   ],
   "source": [
    "count = 0\n",
    "for i in tokens:\n",
    "    if ((i[0].upper()==i[0]) and (i[1:].lower()==i[1:]) and i.isalpha()):\n",
    "        count+=1    \n",
    "print(count)"
   ]
  },
  {
   "cell_type": "markdown",
   "id": "9bb2eb5f",
   "metadata": {},
   "source": [
    "### 5 Remove the numbers and print text"
   ]
  },
  {
   "cell_type": "code",
   "execution_count": 37,
   "id": "1a32be6c",
   "metadata": {},
   "outputs": [
    {
     "name": "stdout",
     "output_type": "stream",
     "text": [
      "The national flag of India , colloquially called Tiraṅgā ( the tricolour ) , is a horizontal rectangular tricolour flag , the colours being of India saffron , white and India green ; with the Ashoka Chakra , a 24-spoke wheel , in navy blue at its centre . [ ] [ ] It was adopted in its present form during a meeting of the Constituent Assembly held on July , and it became the official flag of the Union of India on August . The flag was subsequently retained as that of the Republic of India . In India , the term `` tricolour '' almost always refers to the Indian national flag .\n"
     ]
    }
   ],
   "source": [
    "words = []\n",
    "for i in tokens:\n",
    "    if not i.isdigit():\n",
    "        words.append(i)  \n",
    "print(\" \".join(words))"
   ]
  },
  {
   "cell_type": "code",
   "execution_count": null,
   "id": "6c307219",
   "metadata": {},
   "outputs": [],
   "source": []
  }
 ],
 "metadata": {
  "kernelspec": {
   "display_name": "Python 3 (ipykernel)",
   "language": "python",
   "name": "python3"
  },
  "language_info": {
   "codemirror_mode": {
    "name": "ipython",
    "version": 3
   },
   "file_extension": ".py",
   "mimetype": "text/x-python",
   "name": "python",
   "nbconvert_exporter": "python",
   "pygments_lexer": "ipython3",
   "version": "3.11.7"
  }
 },
 "nbformat": 4,
 "nbformat_minor": 5
}
