{
 "cells": [
  {
   "cell_type": "markdown",
   "id": "196bae67",
   "metadata": {},
   "source": [
    "Name : Shubham Shaha\n",
    "\n",
    "PRN : 240340128031"
   ]
  },
  {
   "cell_type": "markdown",
   "id": "05e7da14",
   "metadata": {},
   "source": [
    "## Q1"
   ]
  },
  {
   "cell_type": "code",
   "execution_count": null,
   "id": "37c3098f",
   "metadata": {},
   "outputs": [],
   "source": [
    "pip install morfessor polyglot pyICU pycld2"
   ]
  },
  {
   "cell_type": "code",
   "execution_count": null,
   "id": "92afabe1",
   "metadata": {},
   "outputs": [],
   "source": [
    "%%bash\n",
    "polyglot download morph2.en"
   ]
  },
  {
   "cell_type": "code",
   "execution_count": 13,
   "id": "1b66f2e4",
   "metadata": {},
   "outputs": [],
   "source": [
    "from nltk.tokenize import word_tokenize\n",
    "from nltk import pos_tag\n",
    "from nltk.corpus import stopwords\n",
    "from polyglot.text import Text, Word"
   ]
  },
  {
   "cell_type": "code",
   "execution_count": 1,
   "id": "1f1a0822",
   "metadata": {},
   "outputs": [],
   "source": [
    "nasa = \"The National Aeronautics and Space Administration (NASA; /ˈnæsə/) is an independent agency of the U.S. federal government responsible for the civil space program, aeronautics research, and space research. Established in 1958, it succeeded the National Advisory Committee for Aeronautics (NACA) to give the U.S. space development effort a distinct civilian orientation, emphasizing peaceful applications in space science. It has since led most of America's space exploration programs, including Project Mercury, Project Gemini, the 1968–1972 Apollo Moon landing missions, the Skylab space station, and the Space Shuttle. Currently, NASA supports the International Space Station (ISS) along with the Commercial Crew Program, and oversees the development of the Orion spacecraft and the Space Launch System for the lunar Artemis program.\""
   ]
  },
  {
   "cell_type": "code",
   "execution_count": 3,
   "id": "863f0414",
   "metadata": {},
   "outputs": [
    {
     "data": {
      "text/plain": [
       "['The',\n",
       " 'National',\n",
       " 'Aeronautics',\n",
       " 'and',\n",
       " 'Space',\n",
       " 'Administration',\n",
       " '(',\n",
       " 'NASA',\n",
       " ';',\n",
       " '/ˈnæsə/',\n",
       " ')',\n",
       " 'is',\n",
       " 'an',\n",
       " 'independent',\n",
       " 'agency',\n",
       " 'of',\n",
       " 'the',\n",
       " 'U.S.',\n",
       " 'federal',\n",
       " 'government',\n",
       " 'responsible',\n",
       " 'for',\n",
       " 'the',\n",
       " 'civil',\n",
       " 'space',\n",
       " 'program',\n",
       " ',',\n",
       " 'aeronautics',\n",
       " 'research',\n",
       " ',',\n",
       " 'and',\n",
       " 'space',\n",
       " 'research',\n",
       " '.',\n",
       " 'Established',\n",
       " 'in',\n",
       " '1958',\n",
       " ',',\n",
       " 'it',\n",
       " 'succeeded',\n",
       " 'the',\n",
       " 'National',\n",
       " 'Advisory',\n",
       " 'Committee',\n",
       " 'for',\n",
       " 'Aeronautics',\n",
       " '(',\n",
       " 'NACA',\n",
       " ')',\n",
       " 'to',\n",
       " 'give',\n",
       " 'the',\n",
       " 'U.S.',\n",
       " 'space',\n",
       " 'development',\n",
       " 'effort',\n",
       " 'a',\n",
       " 'distinct',\n",
       " 'civilian',\n",
       " 'orientation',\n",
       " ',',\n",
       " 'emphasizing',\n",
       " 'peaceful',\n",
       " 'applications',\n",
       " 'in',\n",
       " 'space',\n",
       " 'science',\n",
       " '.',\n",
       " 'It',\n",
       " 'has',\n",
       " 'since',\n",
       " 'led',\n",
       " 'most',\n",
       " 'of',\n",
       " 'America',\n",
       " \"'s\",\n",
       " 'space',\n",
       " 'exploration',\n",
       " 'programs',\n",
       " ',',\n",
       " 'including',\n",
       " 'Project',\n",
       " 'Mercury',\n",
       " ',',\n",
       " 'Project',\n",
       " 'Gemini',\n",
       " ',',\n",
       " 'the',\n",
       " '1968–1972',\n",
       " 'Apollo',\n",
       " 'Moon',\n",
       " 'landing',\n",
       " 'missions',\n",
       " ',',\n",
       " 'the',\n",
       " 'Skylab',\n",
       " 'space',\n",
       " 'station',\n",
       " ',',\n",
       " 'and',\n",
       " 'the',\n",
       " 'Space',\n",
       " 'Shuttle',\n",
       " '.',\n",
       " 'Currently',\n",
       " ',',\n",
       " 'NASA',\n",
       " 'supports',\n",
       " 'the',\n",
       " 'International',\n",
       " 'Space',\n",
       " 'Station',\n",
       " '(',\n",
       " 'ISS',\n",
       " ')',\n",
       " 'along',\n",
       " 'with',\n",
       " 'the',\n",
       " 'Commercial',\n",
       " 'Crew',\n",
       " 'Program',\n",
       " ',',\n",
       " 'and',\n",
       " 'oversees',\n",
       " 'the',\n",
       " 'development',\n",
       " 'of',\n",
       " 'the',\n",
       " 'Orion',\n",
       " 'spacecraft',\n",
       " 'and',\n",
       " 'the',\n",
       " 'Space',\n",
       " 'Launch',\n",
       " 'System',\n",
       " 'for',\n",
       " 'the',\n",
       " 'lunar',\n",
       " 'Artemis',\n",
       " 'program',\n",
       " '.']"
      ]
     },
     "execution_count": 3,
     "metadata": {},
     "output_type": "execute_result"
    }
   ],
   "source": [
    "tokens = word_tokenize(nasa)\n",
    "tokens"
   ]
  },
  {
   "cell_type": "markdown",
   "id": "9501740b",
   "metadata": {},
   "source": [
    "### 1 Apply POS tagging on the data"
   ]
  },
  {
   "cell_type": "code",
   "execution_count": 7,
   "id": "ecd6042d",
   "metadata": {},
   "outputs": [
    {
     "data": {
      "text/plain": [
       "[('The', 'DT'),\n",
       " ('National', 'NNP'),\n",
       " ('Aeronautics', 'NNP'),\n",
       " ('and', 'CC'),\n",
       " ('Space', 'NNP'),\n",
       " ('Administration', 'NNP'),\n",
       " ('(', '('),\n",
       " ('NASA', 'NNP'),\n",
       " (';', ':'),\n",
       " ('/ˈnæsə/', 'NNP'),\n",
       " (')', ')'),\n",
       " ('is', 'VBZ'),\n",
       " ('an', 'DT'),\n",
       " ('independent', 'JJ'),\n",
       " ('agency', 'NN'),\n",
       " ('of', 'IN'),\n",
       " ('the', 'DT'),\n",
       " ('U.S.', 'NNP'),\n",
       " ('federal', 'JJ'),\n",
       " ('government', 'NN'),\n",
       " ('responsible', 'JJ'),\n",
       " ('for', 'IN'),\n",
       " ('the', 'DT'),\n",
       " ('civil', 'JJ'),\n",
       " ('space', 'NN'),\n",
       " ('program', 'NN'),\n",
       " (',', ','),\n",
       " ('aeronautics', 'NNS'),\n",
       " ('research', 'NN'),\n",
       " (',', ','),\n",
       " ('and', 'CC'),\n",
       " ('space', 'NN'),\n",
       " ('research', 'NN'),\n",
       " ('.', '.'),\n",
       " ('Established', 'VBN'),\n",
       " ('in', 'IN'),\n",
       " ('1958', 'CD'),\n",
       " (',', ','),\n",
       " ('it', 'PRP'),\n",
       " ('succeeded', 'VBD'),\n",
       " ('the', 'DT'),\n",
       " ('National', 'NNP'),\n",
       " ('Advisory', 'NNP'),\n",
       " ('Committee', 'NNP'),\n",
       " ('for', 'IN'),\n",
       " ('Aeronautics', 'NNP'),\n",
       " ('(', '('),\n",
       " ('NACA', 'NNP'),\n",
       " (')', ')'),\n",
       " ('to', 'TO'),\n",
       " ('give', 'VB'),\n",
       " ('the', 'DT'),\n",
       " ('U.S.', 'NNP'),\n",
       " ('space', 'NN'),\n",
       " ('development', 'NN'),\n",
       " ('effort', 'NN'),\n",
       " ('a', 'DT'),\n",
       " ('distinct', 'JJ'),\n",
       " ('civilian', 'JJ'),\n",
       " ('orientation', 'NN'),\n",
       " (',', ','),\n",
       " ('emphasizing', 'VBG'),\n",
       " ('peaceful', 'JJ'),\n",
       " ('applications', 'NNS'),\n",
       " ('in', 'IN'),\n",
       " ('space', 'NN'),\n",
       " ('science', 'NN'),\n",
       " ('.', '.'),\n",
       " ('It', 'PRP'),\n",
       " ('has', 'VBZ'),\n",
       " ('since', 'IN'),\n",
       " ('led', 'VBN'),\n",
       " ('most', 'JJS'),\n",
       " ('of', 'IN'),\n",
       " ('America', 'NNP'),\n",
       " (\"'s\", 'POS'),\n",
       " ('space', 'NN'),\n",
       " ('exploration', 'NN'),\n",
       " ('programs', 'NNS'),\n",
       " (',', ','),\n",
       " ('including', 'VBG'),\n",
       " ('Project', 'NNP'),\n",
       " ('Mercury', 'NNP'),\n",
       " (',', ','),\n",
       " ('Project', 'NNP'),\n",
       " ('Gemini', 'NNP'),\n",
       " (',', ','),\n",
       " ('the', 'DT'),\n",
       " ('1968–1972', 'CD'),\n",
       " ('Apollo', 'NNP'),\n",
       " ('Moon', 'NNP'),\n",
       " ('landing', 'VBG'),\n",
       " ('missions', 'NNS'),\n",
       " (',', ','),\n",
       " ('the', 'DT'),\n",
       " ('Skylab', 'NNP'),\n",
       " ('space', 'NN'),\n",
       " ('station', 'NN'),\n",
       " (',', ','),\n",
       " ('and', 'CC'),\n",
       " ('the', 'DT'),\n",
       " ('Space', 'NNP'),\n",
       " ('Shuttle', 'NNP'),\n",
       " ('.', '.'),\n",
       " ('Currently', 'NNP'),\n",
       " (',', ','),\n",
       " ('NASA', 'NNP'),\n",
       " ('supports', 'VBZ'),\n",
       " ('the', 'DT'),\n",
       " ('International', 'NNP'),\n",
       " ('Space', 'NNP'),\n",
       " ('Station', 'NNP'),\n",
       " ('(', '('),\n",
       " ('ISS', 'NNP'),\n",
       " (')', ')'),\n",
       " ('along', 'IN'),\n",
       " ('with', 'IN'),\n",
       " ('the', 'DT'),\n",
       " ('Commercial', 'JJ'),\n",
       " ('Crew', 'NNP'),\n",
       " ('Program', 'NNP'),\n",
       " (',', ','),\n",
       " ('and', 'CC'),\n",
       " ('oversees', 'VBZ'),\n",
       " ('the', 'DT'),\n",
       " ('development', 'NN'),\n",
       " ('of', 'IN'),\n",
       " ('the', 'DT'),\n",
       " ('Orion', 'NNP'),\n",
       " ('spacecraft', 'NN'),\n",
       " ('and', 'CC'),\n",
       " ('the', 'DT'),\n",
       " ('Space', 'NNP'),\n",
       " ('Launch', 'NNP'),\n",
       " ('System', 'NNP'),\n",
       " ('for', 'IN'),\n",
       " ('the', 'DT'),\n",
       " ('lunar', 'JJ'),\n",
       " ('Artemis', 'NNP'),\n",
       " ('program', 'NN'),\n",
       " ('.', '.')]"
      ]
     },
     "execution_count": 7,
     "metadata": {},
     "output_type": "execute_result"
    }
   ],
   "source": [
    "tags = pos_tag(tokens)\n",
    "tags"
   ]
  },
  {
   "cell_type": "markdown",
   "id": "a0d59c8e",
   "metadata": {},
   "source": [
    "### 2 Remove punctuation symbols"
   ]
  },
  {
   "cell_type": "code",
   "execution_count": 23,
   "id": "e09410f2",
   "metadata": {},
   "outputs": [
    {
     "name": "stdout",
     "output_type": "stream",
     "text": [
      "The National Aeronautics and Space Administration NASA ˈnæsə is an independent agency of the US federal government responsible for the civil space program aeronautics research and space research Established in 1958 it succeeded the National Advisory Committee for Aeronautics NACA to give the US space development effort a distinct civilian orientation emphasizing peaceful applications in space science It has since led most of Americas space exploration programs including Project Mercury Project Gemini the 1968–1972 Apollo Moon landing missions the Skylab space station and the Space Shuttle Currently NASA supports the International Space Station ISS along with the Commercial Crew Program and oversees the development of the Orion spacecraft and the Space Launch System for the lunar Artemis program\n"
     ]
    }
   ],
   "source": [
    "words = []\n",
    "import string\n",
    "for i in nasa:\n",
    "    if i not in string.punctuation:\n",
    "        words.append(i)  \n",
    "print(\"\".join(words))"
   ]
  },
  {
   "cell_type": "markdown",
   "id": "b1d292b3",
   "metadata": {},
   "source": [
    "### 3 Delete stopwords"
   ]
  },
  {
   "cell_type": "code",
   "execution_count": 17,
   "id": "40be3010",
   "metadata": {},
   "outputs": [
    {
     "name": "stdout",
     "output_type": "stream",
     "text": [
      "National Aeronautics Space Administration NASA independent agency federal government responsible civil space program aeronautics research space research Established 1958 succeeded National Advisory Committee Aeronautics NACA give space development effort distinct civilian orientation emphasizing peaceful applications space science since led America space exploration programs including Project Mercury Project Gemini Apollo Moon landing missions Skylab space station Space Shuttle Currently NASA supports International Space Station ISS along Commercial Crew Program oversees development Orion spacecraft Space Launch System lunar Artemis program\n"
     ]
    }
   ],
   "source": [
    "swords = stopwords.words('english')\n",
    "clear = [i for i in tokens if ((i.lower() not in swords) and (i.isalnum())) ]  \n",
    "print(\" \".join(clear))"
   ]
  },
  {
   "cell_type": "markdown",
   "id": "b7a3762f",
   "metadata": {},
   "source": [
    "### 4 Perform morphological analysis on all nouns"
   ]
  },
  {
   "cell_type": "code",
   "execution_count": 17,
   "id": "435b6988",
   "metadata": {},
   "outputs": [
    {
     "name": "stdout",
     "output_type": "stream",
     "text": [
      "['TOLD', 'AND']\n"
     ]
    }
   ],
   "source": [
    "words = []\n",
    "for i in tags:\n",
    "    if i[1].startswith('N'):\n",
    "        w = Word(w, language=\"en\")\n",
    "        print(w,'\\t\\t', w.morphemes)     "
   ]
  },
  {
   "cell_type": "markdown",
   "id": "eea1d580",
   "metadata": {},
   "source": [
    "### 5 Merge all words and print (no punctuations)"
   ]
  },
  {
   "cell_type": "code",
   "execution_count": 22,
   "id": "56b7642b",
   "metadata": {},
   "outputs": [
    {
     "name": "stdout",
     "output_type": "stream",
     "text": [
      "They told that their ages are and respectively\n"
     ]
    }
   ],
   "source": [
    "words = []\n",
    "for i in tokens:\n",
    "    if i.isalpha():\n",
    "        words.append(i)  \n",
    "print(\" \".join(words))"
   ]
  },
  {
   "cell_type": "markdown",
   "id": "64231f72",
   "metadata": {},
   "source": [
    "## Q2"
   ]
  },
  {
   "cell_type": "code",
   "execution_count": 24,
   "id": "21e1f01c",
   "metadata": {},
   "outputs": [],
   "source": [
    "flag = 'The national flag of India, colloquially called Tiraṅgā (the tricolour), is a horizontal rectangular tricolour flag, the colours being of India saffron, white and India green; with the Ashoka Chakra, a 24-spoke wheel, in navy blue at its centre.[1][2] It was adopted in its present form during a meeting of the Constituent Assembly held on 22 July 1947, and it became the official flag of the Union of India on 15 August 1947. The flag was subsequently retained as that of the Republic of India. In India, the term \"tricolour\" almost always refers to the Indian national flag.'"
   ]
  },
  {
   "cell_type": "code",
   "execution_count": 30,
   "id": "22b04804",
   "metadata": {},
   "outputs": [
    {
     "data": {
      "text/plain": [
       "['The',\n",
       " 'national',\n",
       " 'flag',\n",
       " 'of',\n",
       " 'India',\n",
       " ',',\n",
       " 'colloquially',\n",
       " 'called',\n",
       " 'Tiraṅgā',\n",
       " '(',\n",
       " 'the',\n",
       " 'tricolour',\n",
       " ')',\n",
       " ',',\n",
       " 'is',\n",
       " 'a',\n",
       " 'horizontal',\n",
       " 'rectangular',\n",
       " 'tricolour',\n",
       " 'flag',\n",
       " ',',\n",
       " 'the',\n",
       " 'colours',\n",
       " 'being',\n",
       " 'of',\n",
       " 'India',\n",
       " 'saffron',\n",
       " ',',\n",
       " 'white',\n",
       " 'and',\n",
       " 'India',\n",
       " 'green',\n",
       " ';',\n",
       " 'with',\n",
       " 'the',\n",
       " 'Ashoka',\n",
       " 'Chakra',\n",
       " ',',\n",
       " 'a',\n",
       " '24-spoke',\n",
       " 'wheel',\n",
       " ',',\n",
       " 'in',\n",
       " 'navy',\n",
       " 'blue',\n",
       " 'at',\n",
       " 'its',\n",
       " 'centre',\n",
       " '.',\n",
       " '[',\n",
       " '1',\n",
       " ']',\n",
       " '[',\n",
       " '2',\n",
       " ']',\n",
       " 'It',\n",
       " 'was',\n",
       " 'adopted',\n",
       " 'in',\n",
       " 'its',\n",
       " 'present',\n",
       " 'form',\n",
       " 'during',\n",
       " 'a',\n",
       " 'meeting',\n",
       " 'of',\n",
       " 'the',\n",
       " 'Constituent',\n",
       " 'Assembly',\n",
       " 'held',\n",
       " 'on',\n",
       " '22',\n",
       " 'July',\n",
       " '1947',\n",
       " ',',\n",
       " 'and',\n",
       " 'it',\n",
       " 'became',\n",
       " 'the',\n",
       " 'official',\n",
       " 'flag',\n",
       " 'of',\n",
       " 'the',\n",
       " 'Union',\n",
       " 'of',\n",
       " 'India',\n",
       " 'on',\n",
       " '15',\n",
       " 'August',\n",
       " '1947',\n",
       " '.',\n",
       " 'The',\n",
       " 'flag',\n",
       " 'was',\n",
       " 'subsequently',\n",
       " 'retained',\n",
       " 'as',\n",
       " 'that',\n",
       " 'of',\n",
       " 'the',\n",
       " 'Republic',\n",
       " 'of',\n",
       " 'India',\n",
       " '.',\n",
       " 'In',\n",
       " 'India',\n",
       " ',',\n",
       " 'the',\n",
       " 'term',\n",
       " '``',\n",
       " 'tricolour',\n",
       " \"''\",\n",
       " 'almost',\n",
       " 'always',\n",
       " 'refers',\n",
       " 'to',\n",
       " 'the',\n",
       " 'Indian',\n",
       " 'national',\n",
       " 'flag',\n",
       " '.']"
      ]
     },
     "execution_count": 30,
     "metadata": {},
     "output_type": "execute_result"
    }
   ],
   "source": [
    "tokens = word_tokenize(flag)\n",
    "tokens"
   ]
  },
  {
   "cell_type": "markdown",
   "id": "be79063e",
   "metadata": {},
   "source": [
    "### 1 Count total no of words"
   ]
  },
  {
   "cell_type": "code",
   "execution_count": 28,
   "id": "ad862377",
   "metadata": {},
   "outputs": [
    {
     "name": "stdout",
     "output_type": "stream",
     "text": [
      "93\n"
     ]
    }
   ],
   "source": [
    "count = 0\n",
    "for i in tokens:\n",
    "    if i.isalpha():\n",
    "        count+=1    \n",
    "print(count)"
   ]
  },
  {
   "cell_type": "markdown",
   "id": "2a452ae0",
   "metadata": {},
   "source": [
    "### 2 Count percentage of punctuation marks"
   ]
  },
  {
   "cell_type": "code",
   "execution_count": 34,
   "id": "a5ee1ea2",
   "metadata": {},
   "outputs": [
    {
     "name": "stdout",
     "output_type": "stream",
     "text": [
      "15.702479338842975\n"
     ]
    }
   ],
   "source": [
    "count = 0\n",
    "import string\n",
    "for i in tokens:\n",
    "    if i in string.punctuation:\n",
    "        count+=1    \n",
    "print(100*count/len(tokens))"
   ]
  },
  {
   "cell_type": "markdown",
   "id": "351fd23c",
   "metadata": {},
   "source": [
    "### 3 Print total no of lines"
   ]
  },
  {
   "cell_type": "code",
   "execution_count": 35,
   "id": "bfedcf2e",
   "metadata": {},
   "outputs": [
    {
     "name": "stdout",
     "output_type": "stream",
     "text": [
      "4\n"
     ]
    }
   ],
   "source": [
    "count = 0\n",
    "import string\n",
    "for i in tokens:\n",
    "    if i=='.':\n",
    "        count+=1    \n",
    "print(count)"
   ]
  },
  {
   "cell_type": "markdown",
   "id": "24d5a922",
   "metadata": {},
   "source": [
    "### 4 How many words are in title case?"
   ]
  },
  {
   "cell_type": "code",
   "execution_count": 41,
   "id": "d7800912",
   "metadata": {},
   "outputs": [
    {
     "name": "stdout",
     "output_type": "stream",
     "text": [
      "20\n"
     ]
    }
   ],
   "source": [
    "count = 0\n",
    "for i in tokens:\n",
    "    if ((i[0].upper()==i[0]) and (i[1:].lower()==i[1:]) and i.isalpha()):\n",
    "        count+=1    \n",
    "print(count)"
   ]
  },
  {
   "cell_type": "markdown",
   "id": "9bb2eb5f",
   "metadata": {},
   "source": [
    "### 5 Remove the numbers and print text"
   ]
  },
  {
   "cell_type": "code",
   "execution_count": 37,
   "id": "1a32be6c",
   "metadata": {},
   "outputs": [
    {
     "name": "stdout",
     "output_type": "stream",
     "text": [
      "The national flag of India , colloquially called Tiraṅgā ( the tricolour ) , is a horizontal rectangular tricolour flag , the colours being of India saffron , white and India green ; with the Ashoka Chakra , a 24-spoke wheel , in navy blue at its centre . [ ] [ ] It was adopted in its present form during a meeting of the Constituent Assembly held on July , and it became the official flag of the Union of India on August . The flag was subsequently retained as that of the Republic of India . In India , the term `` tricolour '' almost always refers to the Indian national flag .\n"
     ]
    }
   ],
   "source": [
    "words = []\n",
    "for i in tokens:\n",
    "    if not i.isdigit():\n",
    "        words.append(i)  \n",
    "print(\" \".join(words))"
   ]
  },
  {
   "cell_type": "code",
   "execution_count": null,
   "id": "6c307219",
   "metadata": {},
   "outputs": [],
   "source": []
  }
 ],
 "metadata": {
  "kernelspec": {
   "display_name": "Python 3 (ipykernel)",
   "language": "python",
   "name": "python3"
  },
  "language_info": {
   "codemirror_mode": {
    "name": "ipython",
    "version": 3
   },
   "file_extension": ".py",
   "mimetype": "text/x-python",
   "name": "python",
   "nbconvert_exporter": "python",
   "pygments_lexer": "ipython3",
   "version": "3.11.8"
  }
 },
 "nbformat": 4,
 "nbformat_minor": 5
}
