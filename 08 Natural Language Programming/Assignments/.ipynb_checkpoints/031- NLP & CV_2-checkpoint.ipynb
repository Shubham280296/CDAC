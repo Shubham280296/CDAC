{
  "cells": [
    {
      "cell_type": "markdown",
      "id": "196bae67",
      "metadata": {
        "id": "196bae67"
      },
      "source": [
        "Name : Shubham Shaha\n",
        "\n",
        "PRN : 240340128031"
      ]
    },
    {
      "cell_type": "code",
      "execution_count": 1,
      "id": "37c3098f",
      "metadata": {
        "colab": {
          "base_uri": "https://localhost:8080/"
        },
        "id": "37c3098f",
        "outputId": "55c85131-6871-4168-ac15-245b5ad118d3"
      },
      "outputs": [
        {
          "name": "stdout",
          "output_type": "stream",
          "text": [
            "Collecting morfessor\n",
            "  Using cached Morfessor-2.0.6-py3-none-any.whl.metadata (628 bytes)\n",
            "Collecting polyglot\n",
            "  Using cached polyglot-16.7.4.tar.gz (126 kB)\n",
            "  Installing build dependencies: started\n",
            "  Installing build dependencies: finished with status 'done'\n",
            "  Getting requirements to build wheel: started\n",
            "  Getting requirements to build wheel: finished with status 'error'\n",
            "Note: you may need to restart the kernel to use updated packages.\n"
          ]
        },
        {
          "name": "stderr",
          "output_type": "stream",
          "text": [
            "  error: subprocess-exited-with-error\n",
            "  \n",
            "  × Getting requirements to build wheel did not run successfully.\n",
            "  │ exit code: 1\n",
            "  ╰─> [19 lines of output]\n",
            "      Traceback (most recent call last):\n",
            "        File \"C:\\Users\\Administrator.DAI-PC2\\AppData\\Local\\Packages\\PythonSoftwareFoundation.Python.3.10_qbz5n2kfra8p0\\LocalCache\\local-packages\\Python310\\site-packages\\pip\\_vendor\\pyproject_hooks\\_in_process\\_in_process.py\", line 353, in <module>\n",
            "          main()\n",
            "        File \"C:\\Users\\Administrator.DAI-PC2\\AppData\\Local\\Packages\\PythonSoftwareFoundation.Python.3.10_qbz5n2kfra8p0\\LocalCache\\local-packages\\Python310\\site-packages\\pip\\_vendor\\pyproject_hooks\\_in_process\\_in_process.py\", line 335, in main\n",
            "          json_out['return_val'] = hook(**hook_input['kwargs'])\n",
            "        File \"C:\\Users\\Administrator.DAI-PC2\\AppData\\Local\\Packages\\PythonSoftwareFoundation.Python.3.10_qbz5n2kfra8p0\\LocalCache\\local-packages\\Python310\\site-packages\\pip\\_vendor\\pyproject_hooks\\_in_process\\_in_process.py\", line 118, in get_requires_for_build_wheel\n",
            "          return hook(config_settings)\n",
            "        File \"C:\\Users\\Administrator.DAI-PC2\\AppData\\Local\\Temp\\pip-build-env-08g84hg0\\overlay\\Lib\\site-packages\\setuptools\\build_meta.py\", line 325, in get_requires_for_build_wheel\n",
            "          return self._get_build_requires(config_settings, requirements=['wheel'])\n",
            "        File \"C:\\Users\\Administrator.DAI-PC2\\AppData\\Local\\Temp\\pip-build-env-08g84hg0\\overlay\\Lib\\site-packages\\setuptools\\build_meta.py\", line 295, in _get_build_requires\n",
            "          self.run_setup()\n",
            "        File \"C:\\Users\\Administrator.DAI-PC2\\AppData\\Local\\Temp\\pip-build-env-08g84hg0\\overlay\\Lib\\site-packages\\setuptools\\build_meta.py\", line 487, in run_setup\n",
            "          super().run_setup(setup_script=setup_script)\n",
            "        File \"C:\\Users\\Administrator.DAI-PC2\\AppData\\Local\\Temp\\pip-build-env-08g84hg0\\overlay\\Lib\\site-packages\\setuptools\\build_meta.py\", line 311, in run_setup\n",
            "          exec(code, locals())\n",
            "        File \"<string>\", line 15, in <module>\n",
            "        File \"C:\\Program Files\\WindowsApps\\PythonSoftwareFoundation.Python.3.10_3.10.2544.0_x64__qbz5n2kfra8p0\\lib\\encodings\\cp1252.py\", line 23, in decode\n",
            "          return codecs.charmap_decode(input,self.errors,decoding_table)[0]\n",
            "      UnicodeDecodeError: 'charmap' codec can't decode byte 0x81 in position 4941: character maps to <undefined>\n",
            "      [end of output]\n",
            "  \n",
            "  note: This error originates from a subprocess, and is likely not a problem with pip.\n",
            "error: subprocess-exited-with-error\n",
            "\n",
            "× Getting requirements to build wheel did not run successfully.\n",
            "│ exit code: 1\n",
            "╰─> See above for output.\n",
            "\n",
            "note: This error originates from a subprocess, and is likely not a problem with pip.\n"
          ]
        }
      ],
      "source": [
        "pip install morfessor polyglot pyICU pycld2"
      ]
    },
    {
      "cell_type": "code",
      "execution_count": 2,
      "id": "92afabe1",
      "metadata": {
        "colab": {
          "base_uri": "https://localhost:8080/"
        },
        "id": "92afabe1",
        "outputId": "4a414f41-9391-4316-b378-6c8991a29440"
      },
      "outputs": [
        {
          "name": "stdout",
          "output_type": "stream",
          "text": [
            "[polyglot_data] Downloading package morph2.en to\n",
            "[polyglot_data]     /root/polyglot_data...\n",
            "[polyglot_data]   Package morph2.en is already up-to-date!\n"
          ]
        }
      ],
      "source": [
        "%%bash\n",
        "polyglot download morph2.en"
      ]
    },
    {
      "cell_type": "markdown",
      "id": "C8GFDEivpjrh",
      "metadata": {
        "id": "C8GFDEivpjrh"
      },
      "source": []
    },
    {
      "cell_type": "code",
      "execution_count": 3,
      "id": "jpg4j22hoQ1c",
      "metadata": {
        "colab": {
          "base_uri": "https://localhost:8080/"
        },
        "id": "jpg4j22hoQ1c",
        "outputId": "30088013-3c7d-4cc6-d8df-a3c298b2e9cb"
      },
      "outputs": [
        {
          "name": "stdout",
          "output_type": "stream",
          "text": [
            "Requirement already satisfied: nltk in /usr/local/lib/python3.10/dist-packages (3.8.1)\n",
            "Requirement already satisfied: click in /usr/local/lib/python3.10/dist-packages (from nltk) (8.1.7)\n",
            "Requirement already satisfied: joblib in /usr/local/lib/python3.10/dist-packages (from nltk) (1.4.2)\n",
            "Requirement already satisfied: regex>=2021.8.3 in /usr/local/lib/python3.10/dist-packages (from nltk) (2024.5.15)\n",
            "Requirement already satisfied: tqdm in /usr/local/lib/python3.10/dist-packages (from nltk) (4.66.4)\n"
          ]
        }
      ],
      "source": [
        "pip install nltk"
      ]
    },
    {
      "cell_type": "code",
      "execution_count": 4,
      "id": "Lrzq-yGmoU26",
      "metadata": {
        "colab": {
          "base_uri": "https://localhost:8080/"
        },
        "id": "Lrzq-yGmoU26",
        "outputId": "c9791c83-6bfa-4d69-d20c-3f2c996f4a95"
      },
      "outputs": [
        {
          "name": "stderr",
          "output_type": "stream",
          "text": [
            "[nltk_data] Downloading package punkt to /root/nltk_data...\n",
            "[nltk_data]   Package punkt is already up-to-date!\n",
            "[nltk_data] Downloading package averaged_perceptron_tagger to\n",
            "[nltk_data]     /root/nltk_data...\n",
            "[nltk_data]   Package averaged_perceptron_tagger is already up-to-\n",
            "[nltk_data]       date!\n",
            "[nltk_data] Downloading package stopwords to /root/nltk_data...\n",
            "[nltk_data]   Package stopwords is already up-to-date!\n"
          ]
        },
        {
          "data": {
            "text/plain": [
              "True"
            ]
          },
          "execution_count": 4,
          "metadata": {},
          "output_type": "execute_result"
        }
      ],
      "source": [
        "import nltk\n",
        "nltk.download('punkt')\n",
        "nltk.download('averaged_perceptron_tagger')\n",
        "nltk.download('stopwords')"
      ]
    },
    {
      "cell_type": "code",
      "execution_count": 5,
      "id": "1b66f2e4",
      "metadata": {
        "id": "1b66f2e4"
      },
      "outputs": [],
      "source": [
        "from nltk.tokenize import word_tokenize\n",
        "from nltk import pos_tag\n",
        "from nltk.corpus import stopwords\n",
        "from polyglot.text import Text, Word"
      ]
    },
    {
      "cell_type": "markdown",
      "id": "05e7da14",
      "metadata": {
        "id": "05e7da14"
      },
      "source": [
        "## Q1 Copy the data about the NASA from wikipedia and perform following:"
      ]
    },
    {
      "cell_type": "code",
      "execution_count": 6,
      "id": "1f1a0822",
      "metadata": {
        "id": "1f1a0822"
      },
      "outputs": [],
      "source": [
        "nasa = \"The National Aeronautics and Space Administration (NASA; /ˈnæsə/) is an independent agency of the U.S. federal government responsible for the civil space program, aeronautics research, and space research. Established in 1958, it succeeded the National Advisory Committee for Aeronautics (NACA) to give the U.S. space development effort a distinct civilian orientation, emphasizing peaceful applications in space science. It has since led most of America's space exploration programs, including Project Mercury, Project Gemini, the 1968–1972 Apollo Moon landing missions, the Skylab space station, and the Space Shuttle. Currently, NASA supports the International Space Station (ISS) along with the Commercial Crew Program, and oversees the development of the Orion spacecraft and the Space Launch System for the lunar Artemis program.\""
      ]
    },
    {
      "cell_type": "code",
      "execution_count": 7,
      "id": "863f0414",
      "metadata": {
        "colab": {
          "base_uri": "https://localhost:8080/"
        },
        "id": "863f0414",
        "outputId": "50ece963-3a84-4bc2-b591-b2bb73411eb8"
      },
      "outputs": [
        {
          "data": {
            "text/plain": [
              "['The',\n",
              " 'National',\n",
              " 'Aeronautics',\n",
              " 'and',\n",
              " 'Space',\n",
              " 'Administration',\n",
              " '(',\n",
              " 'NASA',\n",
              " ';',\n",
              " '/ˈnæsə/',\n",
              " ')',\n",
              " 'is',\n",
              " 'an',\n",
              " 'independent',\n",
              " 'agency',\n",
              " 'of',\n",
              " 'the',\n",
              " 'U.S.',\n",
              " 'federal',\n",
              " 'government',\n",
              " 'responsible',\n",
              " 'for',\n",
              " 'the',\n",
              " 'civil',\n",
              " 'space',\n",
              " 'program',\n",
              " ',',\n",
              " 'aeronautics',\n",
              " 'research',\n",
              " ',',\n",
              " 'and',\n",
              " 'space',\n",
              " 'research',\n",
              " '.',\n",
              " 'Established',\n",
              " 'in',\n",
              " '1958',\n",
              " ',',\n",
              " 'it',\n",
              " 'succeeded',\n",
              " 'the',\n",
              " 'National',\n",
              " 'Advisory',\n",
              " 'Committee',\n",
              " 'for',\n",
              " 'Aeronautics',\n",
              " '(',\n",
              " 'NACA',\n",
              " ')',\n",
              " 'to',\n",
              " 'give',\n",
              " 'the',\n",
              " 'U.S.',\n",
              " 'space',\n",
              " 'development',\n",
              " 'effort',\n",
              " 'a',\n",
              " 'distinct',\n",
              " 'civilian',\n",
              " 'orientation',\n",
              " ',',\n",
              " 'emphasizing',\n",
              " 'peaceful',\n",
              " 'applications',\n",
              " 'in',\n",
              " 'space',\n",
              " 'science',\n",
              " '.',\n",
              " 'It',\n",
              " 'has',\n",
              " 'since',\n",
              " 'led',\n",
              " 'most',\n",
              " 'of',\n",
              " 'America',\n",
              " \"'s\",\n",
              " 'space',\n",
              " 'exploration',\n",
              " 'programs',\n",
              " ',',\n",
              " 'including',\n",
              " 'Project',\n",
              " 'Mercury',\n",
              " ',',\n",
              " 'Project',\n",
              " 'Gemini',\n",
              " ',',\n",
              " 'the',\n",
              " '1968–1972',\n",
              " 'Apollo',\n",
              " 'Moon',\n",
              " 'landing',\n",
              " 'missions',\n",
              " ',',\n",
              " 'the',\n",
              " 'Skylab',\n",
              " 'space',\n",
              " 'station',\n",
              " ',',\n",
              " 'and',\n",
              " 'the',\n",
              " 'Space',\n",
              " 'Shuttle',\n",
              " '.',\n",
              " 'Currently',\n",
              " ',',\n",
              " 'NASA',\n",
              " 'supports',\n",
              " 'the',\n",
              " 'International',\n",
              " 'Space',\n",
              " 'Station',\n",
              " '(',\n",
              " 'ISS',\n",
              " ')',\n",
              " 'along',\n",
              " 'with',\n",
              " 'the',\n",
              " 'Commercial',\n",
              " 'Crew',\n",
              " 'Program',\n",
              " ',',\n",
              " 'and',\n",
              " 'oversees',\n",
              " 'the',\n",
              " 'development',\n",
              " 'of',\n",
              " 'the',\n",
              " 'Orion',\n",
              " 'spacecraft',\n",
              " 'and',\n",
              " 'the',\n",
              " 'Space',\n",
              " 'Launch',\n",
              " 'System',\n",
              " 'for',\n",
              " 'the',\n",
              " 'lunar',\n",
              " 'Artemis',\n",
              " 'program',\n",
              " '.']"
            ]
          },
          "execution_count": 7,
          "metadata": {},
          "output_type": "execute_result"
        }
      ],
      "source": [
        "tokens = word_tokenize(nasa)\n",
        "tokens"
      ]
    },
    {
      "cell_type": "markdown",
      "id": "9501740b",
      "metadata": {
        "id": "9501740b"
      },
      "source": [
        "### 1 Apply POS tagging on the data"
      ]
    },
    {
      "cell_type": "code",
      "execution_count": 8,
      "id": "ecd6042d",
      "metadata": {
        "colab": {
          "base_uri": "https://localhost:8080/"
        },
        "id": "ecd6042d",
        "outputId": "cf395cf0-f46f-43ef-f5db-0d0cf149ebb3"
      },
      "outputs": [
        {
          "data": {
            "text/plain": [
              "[('The', 'DT'),\n",
              " ('National', 'NNP'),\n",
              " ('Aeronautics', 'NNP'),\n",
              " ('and', 'CC'),\n",
              " ('Space', 'NNP'),\n",
              " ('Administration', 'NNP'),\n",
              " ('(', '('),\n",
              " ('NASA', 'NNP'),\n",
              " (';', ':'),\n",
              " ('/ˈnæsə/', 'NNP'),\n",
              " (')', ')'),\n",
              " ('is', 'VBZ'),\n",
              " ('an', 'DT'),\n",
              " ('independent', 'JJ'),\n",
              " ('agency', 'NN'),\n",
              " ('of', 'IN'),\n",
              " ('the', 'DT'),\n",
              " ('U.S.', 'NNP'),\n",
              " ('federal', 'JJ'),\n",
              " ('government', 'NN'),\n",
              " ('responsible', 'JJ'),\n",
              " ('for', 'IN'),\n",
              " ('the', 'DT'),\n",
              " ('civil', 'JJ'),\n",
              " ('space', 'NN'),\n",
              " ('program', 'NN'),\n",
              " (',', ','),\n",
              " ('aeronautics', 'NNS'),\n",
              " ('research', 'NN'),\n",
              " (',', ','),\n",
              " ('and', 'CC'),\n",
              " ('space', 'NN'),\n",
              " ('research', 'NN'),\n",
              " ('.', '.'),\n",
              " ('Established', 'VBN'),\n",
              " ('in', 'IN'),\n",
              " ('1958', 'CD'),\n",
              " (',', ','),\n",
              " ('it', 'PRP'),\n",
              " ('succeeded', 'VBD'),\n",
              " ('the', 'DT'),\n",
              " ('National', 'NNP'),\n",
              " ('Advisory', 'NNP'),\n",
              " ('Committee', 'NNP'),\n",
              " ('for', 'IN'),\n",
              " ('Aeronautics', 'NNP'),\n",
              " ('(', '('),\n",
              " ('NACA', 'NNP'),\n",
              " (')', ')'),\n",
              " ('to', 'TO'),\n",
              " ('give', 'VB'),\n",
              " ('the', 'DT'),\n",
              " ('U.S.', 'NNP'),\n",
              " ('space', 'NN'),\n",
              " ('development', 'NN'),\n",
              " ('effort', 'NN'),\n",
              " ('a', 'DT'),\n",
              " ('distinct', 'JJ'),\n",
              " ('civilian', 'JJ'),\n",
              " ('orientation', 'NN'),\n",
              " (',', ','),\n",
              " ('emphasizing', 'VBG'),\n",
              " ('peaceful', 'JJ'),\n",
              " ('applications', 'NNS'),\n",
              " ('in', 'IN'),\n",
              " ('space', 'NN'),\n",
              " ('science', 'NN'),\n",
              " ('.', '.'),\n",
              " ('It', 'PRP'),\n",
              " ('has', 'VBZ'),\n",
              " ('since', 'IN'),\n",
              " ('led', 'VBN'),\n",
              " ('most', 'JJS'),\n",
              " ('of', 'IN'),\n",
              " ('America', 'NNP'),\n",
              " (\"'s\", 'POS'),\n",
              " ('space', 'NN'),\n",
              " ('exploration', 'NN'),\n",
              " ('programs', 'NNS'),\n",
              " (',', ','),\n",
              " ('including', 'VBG'),\n",
              " ('Project', 'NNP'),\n",
              " ('Mercury', 'NNP'),\n",
              " (',', ','),\n",
              " ('Project', 'NNP'),\n",
              " ('Gemini', 'NNP'),\n",
              " (',', ','),\n",
              " ('the', 'DT'),\n",
              " ('1968–1972', 'CD'),\n",
              " ('Apollo', 'NNP'),\n",
              " ('Moon', 'NNP'),\n",
              " ('landing', 'VBG'),\n",
              " ('missions', 'NNS'),\n",
              " (',', ','),\n",
              " ('the', 'DT'),\n",
              " ('Skylab', 'NNP'),\n",
              " ('space', 'NN'),\n",
              " ('station', 'NN'),\n",
              " (',', ','),\n",
              " ('and', 'CC'),\n",
              " ('the', 'DT'),\n",
              " ('Space', 'NNP'),\n",
              " ('Shuttle', 'NNP'),\n",
              " ('.', '.'),\n",
              " ('Currently', 'NNP'),\n",
              " (',', ','),\n",
              " ('NASA', 'NNP'),\n",
              " ('supports', 'VBZ'),\n",
              " ('the', 'DT'),\n",
              " ('International', 'NNP'),\n",
              " ('Space', 'NNP'),\n",
              " ('Station', 'NNP'),\n",
              " ('(', '('),\n",
              " ('ISS', 'NNP'),\n",
              " (')', ')'),\n",
              " ('along', 'IN'),\n",
              " ('with', 'IN'),\n",
              " ('the', 'DT'),\n",
              " ('Commercial', 'JJ'),\n",
              " ('Crew', 'NNP'),\n",
              " ('Program', 'NNP'),\n",
              " (',', ','),\n",
              " ('and', 'CC'),\n",
              " ('oversees', 'VBZ'),\n",
              " ('the', 'DT'),\n",
              " ('development', 'NN'),\n",
              " ('of', 'IN'),\n",
              " ('the', 'DT'),\n",
              " ('Orion', 'NNP'),\n",
              " ('spacecraft', 'NN'),\n",
              " ('and', 'CC'),\n",
              " ('the', 'DT'),\n",
              " ('Space', 'NNP'),\n",
              " ('Launch', 'NNP'),\n",
              " ('System', 'NNP'),\n",
              " ('for', 'IN'),\n",
              " ('the', 'DT'),\n",
              " ('lunar', 'JJ'),\n",
              " ('Artemis', 'NNP'),\n",
              " ('program', 'NN'),\n",
              " ('.', '.')]"
            ]
          },
          "execution_count": 8,
          "metadata": {},
          "output_type": "execute_result"
        }
      ],
      "source": [
        "tags = pos_tag(tokens)\n",
        "tags"
      ]
    },
    {
      "cell_type": "markdown",
      "id": "a0d59c8e",
      "metadata": {
        "id": "a0d59c8e"
      },
      "source": [
        "### 2 Remove punctuation symbols"
      ]
    },
    {
      "cell_type": "code",
      "execution_count": 9,
      "id": "e09410f2",
      "metadata": {
        "colab": {
          "base_uri": "https://localhost:8080/"
        },
        "id": "e09410f2",
        "outputId": "20e62a2e-f018-455b-ed32-9838d73b9095"
      },
      "outputs": [
        {
          "name": "stdout",
          "output_type": "stream",
          "text": [
            "The National Aeronautics and Space Administration NASA /ˈnæsə/ is an independent agency of the U.S. federal government responsible for the civil space program aeronautics research and space research Established in 1958 it succeeded the National Advisory Committee for Aeronautics NACA to give the U.S. space development effort a distinct civilian orientation emphasizing peaceful applications in space science It has since led most of America 's space exploration programs including Project Mercury Project Gemini the 1968–1972 Apollo Moon landing missions the Skylab space station and the Space Shuttle Currently NASA supports the International Space Station ISS along with the Commercial Crew Program and oversees the development of the Orion spacecraft and the Space Launch System for the lunar Artemis program\n"
          ]
        }
      ],
      "source": [
        "import string\n",
        "\n",
        "words = []\n",
        "words = [i for i in tokens if i not in string.punctuation]\n",
        "print(\" \".join(words))"
      ]
    },
    {
      "cell_type": "markdown",
      "id": "b1d292b3",
      "metadata": {
        "id": "b1d292b3"
      },
      "source": [
        "### 3 Delete stopwords"
      ]
    },
    {
      "cell_type": "code",
      "execution_count": 10,
      "id": "40be3010",
      "metadata": {
        "colab": {
          "base_uri": "https://localhost:8080/"
        },
        "id": "40be3010",
        "outputId": "7503c4f4-083a-4a1d-f249-584d2ba4d835"
      },
      "outputs": [
        {
          "name": "stdout",
          "output_type": "stream",
          "text": [
            "National Aeronautics Space Administration NASA independent agency federal government responsible civil space program aeronautics research space research Established 1958 succeeded National Advisory Committee Aeronautics NACA give space development effort distinct civilian orientation emphasizing peaceful applications space science since led America space exploration programs including Project Mercury Project Gemini Apollo Moon landing missions Skylab space station Space Shuttle Currently NASA supports International Space Station ISS along Commercial Crew Program oversees development Orion spacecraft Space Launch System lunar Artemis program\n"
          ]
        }
      ],
      "source": [
        "swords = stopwords.words('english')\n",
        "clear = [i for i in tokens if ((i.lower() not in swords) and (i.isalnum()))]\n",
        "print(\" \".join(clear))"
      ]
    },
    {
      "cell_type": "markdown",
      "id": "b7a3762f",
      "metadata": {
        "id": "b7a3762f"
      },
      "source": [
        "### 4 Perform morphological analysis on all nouns"
      ]
    },
    {
      "cell_type": "code",
      "execution_count": 11,
      "id": "435b6988",
      "metadata": {
        "colab": {
          "base_uri": "https://localhost:8080/"
        },
        "id": "435b6988",
        "outputId": "80356574-1939-4795-8ba5-f1d99eab7135"
      },
      "outputs": [
        {
          "name": "stdout",
          "output_type": "stream",
          "text": [
            "National \t\t ['National']\n",
            "Aeronautics \t\t ['Aero', 'naut', 'ic', 's']\n",
            "Space \t\t ['Space']\n",
            "Administration \t\t ['Administ', 'ration']\n",
            "NASA \t\t ['NAS', 'A']\n",
            "/ˈnæsə/ \t\t ['/ˈnæsə/']\n",
            "agency \t\t ['age', 'ncy']\n",
            "U.S. \t\t ['U.S.']\n",
            "government \t\t ['government']\n",
            "space \t\t ['space']\n",
            "program \t\t ['program']\n",
            "aeronautics \t\t ['aero', 'naut', 'ic', 's']\n",
            "research \t\t ['research']\n",
            "space \t\t ['space']\n",
            "research \t\t ['research']\n",
            "National \t\t ['National']\n",
            "Advisory \t\t ['Advisor', 'y']\n",
            "Committee \t\t ['Committee']\n",
            "Aeronautics \t\t ['Aero', 'naut', 'ic', 's']\n",
            "NACA \t\t ['NA', 'C', 'A']\n",
            "U.S. \t\t ['U.S.']\n",
            "space \t\t ['space']\n",
            "development \t\t ['develop', 'ment']\n",
            "effort \t\t ['ef', 'fort']\n",
            "orientation \t\t ['orient', 'ation']\n",
            "applications \t\t ['appli', 'cation', 's']\n",
            "space \t\t ['space']\n",
            "science \t\t ['science']\n",
            "America \t\t ['America']\n",
            "space \t\t ['space']\n",
            "exploration \t\t ['explor', 'ation']\n",
            "programs \t\t ['program', 's']\n",
            "Project \t\t ['Project']\n",
            "Mercury \t\t ['Mer', 'cu', 'ry']\n",
            "Project \t\t ['Project']\n",
            "Gemini \t\t ['Ge', 'mini']\n",
            "Apollo \t\t ['Apollo']\n",
            "Moon \t\t ['Moon']\n",
            "missions \t\t ['mission', 's']\n",
            "Skylab \t\t ['Sky', 'lab']\n",
            "space \t\t ['space']\n",
            "station \t\t ['station']\n",
            "Space \t\t ['Space']\n",
            "Shuttle \t\t ['Shu', 'ttle']\n",
            "Currently \t\t ['Curr', 'ent', 'ly']\n",
            "NASA \t\t ['NAS', 'A']\n",
            "International \t\t ['Inter', 'national']\n",
            "Space \t\t ['Space']\n",
            "Station \t\t ['St', 'ation']\n",
            "ISS \t\t ['IS', 'S']\n",
            "Crew \t\t ['Crew']\n",
            "Program \t\t ['Program']\n",
            "development \t\t ['develop', 'ment']\n",
            "Orion \t\t ['Or', 'ion']\n",
            "spacecraft \t\t ['space', 'craft']\n",
            "Space \t\t ['Space']\n",
            "Launch \t\t ['Lau', 'nch']\n",
            "System \t\t ['System']\n",
            "Artemis \t\t ['Arte', 'mis']\n",
            "program \t\t ['program']\n"
          ]
        }
      ],
      "source": [
        "for i in tags:\n",
        "    if i[1].startswith('N'):\n",
        "        w = Word(i[0], language=\"en\")\n",
        "        print(w,'\\t\\t', w.morphemes)"
      ]
    },
    {
      "cell_type": "markdown",
      "id": "eea1d580",
      "metadata": {
        "id": "eea1d580"
      },
      "source": [
        "### 5 Find top 3 words in data"
      ]
    },
    {
      "cell_type": "code",
      "execution_count": 12,
      "id": "56b7642b",
      "metadata": {
        "colab": {
          "base_uri": "https://localhost:8080/"
        },
        "id": "56b7642b",
        "outputId": "7f87d462-9072-43c8-cc04-4df52cf96f33"
      },
      "outputs": [
        {
          "data": {
            "text/plain": [
              "space          10\n",
              "program         3\n",
              "aeronautics     3\n",
              "Name: count, dtype: int64"
            ]
          },
          "execution_count": 12,
          "metadata": {},
          "output_type": "execute_result"
        }
      ],
      "source": [
        "import pandas as pd\n",
        "\n",
        "count_tokens = [i.lower() for i in tokens if ((i.lower() not in swords) and (i.isalnum())) ]\n",
        "count = pd.Series(count_tokens).value_counts()\n",
        "count[0:3]"
      ]
    },
    {
      "cell_type": "markdown",
      "id": "64231f72",
      "metadata": {
        "id": "64231f72"
      },
      "source": [
        "## Q2 Open th ewikipedia page of Pune"
      ]
    },
    {
      "cell_type": "code",
      "execution_count": 13,
      "id": "21e1f01c",
      "metadata": {
        "id": "21e1f01c"
      },
      "outputs": [],
      "source": [
        "pune = 'Pune (/ˈpuːnə/ POO-nə, Marathi: [ˈpuɳe] ⓘ), previously spelled in English as Poona (the official name until 1978),[15][16] is a city in Maharashtra state in the Deccan plateau in Western India. It is the administrative headquarters of the Pune district, and of Pune division. According to the 2011 Census of India, Pune has 7.2 million residents in the metropolitan region, making it the eighth-most populous metropolitan area in India.[17] The city of Pune is part of Pune Metropolitan Region.[18] Pune is one of the largest IT hubs in India.[19][20] It is also one of the most important automobile and manufacturing hubs of India. Pune is often referred to as the \"Oxford of the East\" because of its highly regarded educational institutions.[21][22][23] It has been ranked \"the most liveable city in India\" several times.'"
      ]
    },
    {
      "cell_type": "code",
      "execution_count": 14,
      "id": "22b04804",
      "metadata": {
        "colab": {
          "base_uri": "https://localhost:8080/"
        },
        "id": "22b04804",
        "outputId": "2b545518-900e-477e-e8a7-97c3eff94c2c"
      },
      "outputs": [
        {
          "name": "stdout",
          "output_type": "stream",
          "text": [
            "['Pune', 'Marathi', 'ˈpuɳe', 'previously', 'spelled', 'in', 'English', 'as', 'Poona', 'the', 'official', 'name', 'until', '1978', '15', '16', 'is', 'a', 'city', 'in', 'Maharashtra', 'state', 'in', 'the', 'Deccan', 'plateau', 'in', 'Western', 'India', 'It', 'is', 'the', 'administrative', 'headquarters', 'of', 'the', 'Pune', 'district', 'and', 'of', 'Pune', 'division', 'According', 'to', 'the', '2011', 'Census', 'of', 'India', 'Pune', 'has', 'million', 'residents', 'in', 'the', 'metropolitan', 'region', 'making', 'it', 'the', 'populous', 'metropolitan', 'area', 'in', 'India', '17', 'The', 'city', 'of', 'Pune', 'is', 'part', 'of', 'Pune', 'Metropolitan', 'Region', '18', 'Pune', 'is', 'one', 'of', 'the', 'largest', 'IT', 'hubs', 'in', 'India', '19', '20', 'It', 'is', 'also', 'one', 'of', 'the', 'most', 'important', 'automobile', 'and', 'manufacturing', 'hubs', 'of', 'India', 'Pune', 'is', 'often', 'referred', 'to', 'as', 'the', 'Oxford', 'of', 'the', 'East', 'because', 'of', 'its', 'highly', 'regarded', 'educational', 'institutions', '21', '22', '23', 'It', 'has', 'been', 'ranked', 'the', 'most', 'liveable', 'city', 'in', 'India', 'several', 'times']\n"
          ]
        }
      ],
      "source": [
        "tokens = word_tokenize(pune)\n",
        "words = [i for i in tokens if i.isalnum()]\n",
        "print(words)"
      ]
    },
    {
      "cell_type": "code",
      "execution_count": 15,
      "id": "6c307219",
      "metadata": {
        "colab": {
          "base_uri": "https://localhost:8080/"
        },
        "id": "6c307219",
        "outputId": "5c884829-9e39-4f69-ab7e-e5607b256a29"
      },
      "outputs": [
        {
          "data": {
            "text/plain": [
              "['official',\n",
              " 'Western',\n",
              " 'administrative',\n",
              " 'metropolitan',\n",
              " 'populous',\n",
              " 'metropolitan',\n",
              " 'largest',\n",
              " 'important',\n",
              " 'regarded',\n",
              " 'educational',\n",
              " 'liveable',\n",
              " 'several']"
            ]
          },
          "execution_count": 15,
          "metadata": {},
          "output_type": "execute_result"
        }
      ],
      "source": [
        "adjectives = [n[0] for n in pos_tag(words) if n[1].startswith('J')]\n",
        "adjectives"
      ]
    },
    {
      "cell_type": "code",
      "execution_count": 15,
      "id": "zbGedWlNqgJp",
      "metadata": {
        "id": "zbGedWlNqgJp"
      },
      "outputs": [],
      "source": []
    }
  ],
  "metadata": {
    "colab": {
      "provenance": []
    },
    "kernelspec": {
      "display_name": "Python 3 (ipykernel)",
      "language": "python",
      "name": "python3"
    },
    "language_info": {
      "codemirror_mode": {
        "name": "ipython",
        "version": 3
      },
      "file_extension": ".py",
      "mimetype": "text/x-python",
      "name": "python",
      "nbconvert_exporter": "python",
      "pygments_lexer": "ipython3",
      "version": "3.10.9"
    }
  },
  "nbformat": 4,
  "nbformat_minor": 5
}
