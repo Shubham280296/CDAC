{
 "cells": [
  {
   "cell_type": "markdown",
   "id": "4f232c22",
   "metadata": {},
   "source": [
    "### Remove puctuations"
   ]
  },
  {
   "cell_type": "code",
   "execution_count": 19,
   "id": "d6e3c5e7",
   "metadata": {},
   "outputs": [],
   "source": [
    "from nltk.tokenize import word_tokenize\n",
    "from nltk.corpus import stopwords"
   ]
  },
  {
   "cell_type": "code",
   "execution_count": 30,
   "id": "c6162341",
   "metadata": {},
   "outputs": [
    {
     "name": "stdout",
     "output_type": "stream",
     "text": [
      "Hello friends! How are you? Welcome to the world of \"Python Programming\"\n"
     ]
    }
   ],
   "source": [
    "sent = 'Hello friends! How are you? Welcome to the world of \"Python Programming\"'\n",
    "print(sent)"
   ]
  },
  {
   "cell_type": "code",
   "execution_count": 31,
   "id": "82f999bc",
   "metadata": {},
   "outputs": [
    {
     "data": {
      "text/plain": [
       "'Hello friends How are you Welcome to the world of Python Programming'"
      ]
     },
     "execution_count": 31,
     "metadata": {},
     "output_type": "execute_result"
    }
   ],
   "source": [
    "new = [i for i in word_tokenize(sent) if i.isalnum()]\n",
    "      \n",
    "joined = ' '.join(new)\n",
    "joined"
   ]
  },
  {
   "cell_type": "markdown",
   "id": "51bcce7a",
   "metadata": {},
   "source": [
    "## Stopwords Removal"
   ]
  },
  {
   "cell_type": "code",
   "execution_count": 32,
   "id": "29084e45",
   "metadata": {},
   "outputs": [
    {
     "data": {
      "text/plain": [
       "['i',\n",
       " 'me',\n",
       " 'my',\n",
       " 'myself',\n",
       " 'we',\n",
       " 'our',\n",
       " 'ours',\n",
       " 'ourselves',\n",
       " 'you',\n",
       " \"you're\",\n",
       " \"you've\",\n",
       " \"you'll\",\n",
       " \"you'd\",\n",
       " 'your',\n",
       " 'yours',\n",
       " 'yourself',\n",
       " 'yourselves',\n",
       " 'he',\n",
       " 'him',\n",
       " 'his',\n",
       " 'himself',\n",
       " 'she',\n",
       " \"she's\",\n",
       " 'her',\n",
       " 'hers',\n",
       " 'herself',\n",
       " 'it',\n",
       " \"it's\",\n",
       " 'its',\n",
       " 'itself',\n",
       " 'they',\n",
       " 'them',\n",
       " 'their',\n",
       " 'theirs',\n",
       " 'themselves',\n",
       " 'what',\n",
       " 'which',\n",
       " 'who',\n",
       " 'whom',\n",
       " 'this',\n",
       " 'that',\n",
       " \"that'll\",\n",
       " 'these',\n",
       " 'those',\n",
       " 'am',\n",
       " 'is',\n",
       " 'are',\n",
       " 'was',\n",
       " 'were',\n",
       " 'be',\n",
       " 'been',\n",
       " 'being',\n",
       " 'have',\n",
       " 'has',\n",
       " 'had',\n",
       " 'having',\n",
       " 'do',\n",
       " 'does',\n",
       " 'did',\n",
       " 'doing',\n",
       " 'a',\n",
       " 'an',\n",
       " 'the',\n",
       " 'and',\n",
       " 'but',\n",
       " 'if',\n",
       " 'or',\n",
       " 'because',\n",
       " 'as',\n",
       " 'until',\n",
       " 'while',\n",
       " 'of',\n",
       " 'at',\n",
       " 'by',\n",
       " 'for',\n",
       " 'with',\n",
       " 'about',\n",
       " 'against',\n",
       " 'between',\n",
       " 'into',\n",
       " 'through',\n",
       " 'during',\n",
       " 'before',\n",
       " 'after',\n",
       " 'above',\n",
       " 'below',\n",
       " 'to',\n",
       " 'from',\n",
       " 'up',\n",
       " 'down',\n",
       " 'in',\n",
       " 'out',\n",
       " 'on',\n",
       " 'off',\n",
       " 'over',\n",
       " 'under',\n",
       " 'again',\n",
       " 'further',\n",
       " 'then',\n",
       " 'once',\n",
       " 'here',\n",
       " 'there',\n",
       " 'when',\n",
       " 'where',\n",
       " 'why',\n",
       " 'how',\n",
       " 'all',\n",
       " 'any',\n",
       " 'both',\n",
       " 'each',\n",
       " 'few',\n",
       " 'more',\n",
       " 'most',\n",
       " 'other',\n",
       " 'some',\n",
       " 'such',\n",
       " 'no',\n",
       " 'nor',\n",
       " 'not',\n",
       " 'only',\n",
       " 'own',\n",
       " 'same',\n",
       " 'so',\n",
       " 'than',\n",
       " 'too',\n",
       " 'very',\n",
       " 's',\n",
       " 't',\n",
       " 'can',\n",
       " 'will',\n",
       " 'just',\n",
       " 'don',\n",
       " \"don't\",\n",
       " 'should',\n",
       " \"should've\",\n",
       " 'now',\n",
       " 'd',\n",
       " 'll',\n",
       " 'm',\n",
       " 'o',\n",
       " 're',\n",
       " 've',\n",
       " 'y',\n",
       " 'ain',\n",
       " 'aren',\n",
       " \"aren't\",\n",
       " 'couldn',\n",
       " \"couldn't\",\n",
       " 'didn',\n",
       " \"didn't\",\n",
       " 'doesn',\n",
       " \"doesn't\",\n",
       " 'hadn',\n",
       " \"hadn't\",\n",
       " 'hasn',\n",
       " \"hasn't\",\n",
       " 'haven',\n",
       " \"haven't\",\n",
       " 'isn',\n",
       " \"isn't\",\n",
       " 'ma',\n",
       " 'mightn',\n",
       " \"mightn't\",\n",
       " 'mustn',\n",
       " \"mustn't\",\n",
       " 'needn',\n",
       " \"needn't\",\n",
       " 'shan',\n",
       " \"shan't\",\n",
       " 'shouldn',\n",
       " \"shouldn't\",\n",
       " 'wasn',\n",
       " \"wasn't\",\n",
       " 'weren',\n",
       " \"weren't\",\n",
       " 'won',\n",
       " \"won't\",\n",
       " 'wouldn',\n",
       " \"wouldn't\"]"
      ]
     },
     "execution_count": 32,
     "metadata": {},
     "output_type": "execute_result"
    }
   ],
   "source": [
    "swords = stopwords.words('english')\n",
    "swords"
   ]
  },
  {
   "cell_type": "code",
   "execution_count": 41,
   "id": "f6326bb8",
   "metadata": {},
   "outputs": [
    {
     "data": {
      "text/plain": [
       "['Hello', 'friends', 'Welcome', 'world', 'Python', 'Programming']"
      ]
     },
     "execution_count": 41,
     "metadata": {},
     "output_type": "execute_result"
    }
   ],
   "source": [
    "clear = [i for i in word_tokenize(sent) if ((i.lower() not in swords) and (i.isalnum())) ]    \n",
    "clear"
   ]
  },
  {
   "cell_type": "code",
   "execution_count": 43,
   "id": "1cb7fc3c",
   "metadata": {},
   "outputs": [
    {
     "data": {
      "text/plain": [
       "['अधिक',\n",
       " 'अनेक',\n",
       " 'अशी',\n",
       " 'असलयाचे',\n",
       " 'असलेल्या',\n",
       " 'असा',\n",
       " 'असून',\n",
       " 'असे',\n",
       " 'आज',\n",
       " 'आणि',\n",
       " 'आता',\n",
       " 'आपल्या',\n",
       " 'आला',\n",
       " 'आली',\n",
       " 'आले',\n",
       " 'आहे',\n",
       " 'आहेत',\n",
       " 'एक',\n",
       " 'एका',\n",
       " 'कमी',\n",
       " 'करणयात',\n",
       " 'करून',\n",
       " 'का',\n",
       " 'काम',\n",
       " 'काय',\n",
       " 'काही',\n",
       " 'किवा',\n",
       " 'की',\n",
       " 'केला',\n",
       " 'केली',\n",
       " 'केले',\n",
       " 'कोटी',\n",
       " 'गेल्या',\n",
       " 'घेऊन',\n",
       " 'जात',\n",
       " 'झाला',\n",
       " 'झाली',\n",
       " 'झाले',\n",
       " 'झालेल्या',\n",
       " 'टा',\n",
       " 'डॉ',\n",
       " 'तर',\n",
       " 'तरी',\n",
       " 'तसेच',\n",
       " 'ता',\n",
       " 'ती',\n",
       " 'तीन',\n",
       " 'ते',\n",
       " 'तो',\n",
       " 'त्या',\n",
       " 'त्याचा',\n",
       " 'त्याची',\n",
       " 'त्याच्या',\n",
       " 'त्याना',\n",
       " 'त्यानी',\n",
       " 'त्यामुळे',\n",
       " 'त्री',\n",
       " 'दिली',\n",
       " 'दोन',\n",
       " 'न',\n",
       " 'नाही',\n",
       " 'निर्ण्य',\n",
       " 'पण',\n",
       " 'पम',\n",
       " 'परयतन',\n",
       " 'पाटील',\n",
       " 'म',\n",
       " 'मात्र',\n",
       " 'माहिती',\n",
       " 'मी',\n",
       " 'मुबी',\n",
       " 'म्हणजे',\n",
       " 'म्हणाले',\n",
       " 'म्हणून',\n",
       " 'या',\n",
       " 'याचा',\n",
       " 'याची',\n",
       " 'याच्या',\n",
       " 'याना',\n",
       " 'यानी',\n",
       " 'येणार',\n",
       " 'येत',\n",
       " 'येथील',\n",
       " 'येथे',\n",
       " 'लाख',\n",
       " 'व',\n",
       " 'व्यकत',\n",
       " 'सर्व',\n",
       " 'सागित्ले',\n",
       " 'सुरू',\n",
       " 'हजार',\n",
       " 'हा',\n",
       " 'ही',\n",
       " 'हे',\n",
       " 'होणार',\n",
       " 'होत',\n",
       " 'होता',\n",
       " 'होती',\n",
       " 'होते']"
      ]
     },
     "execution_count": 43,
     "metadata": {},
     "output_type": "execute_result"
    }
   ],
   "source": [
    "swords = stopwords.words('marathi')\n",
    "swords"
   ]
  },
  {
   "cell_type": "code",
   "execution_count": 44,
   "id": "5e363fef",
   "metadata": {},
   "outputs": [],
   "source": [
    "sent  = ' सोमवारी हा सामना सुमारे आठ तास उशिरा सुरू झाला.'\n",
    "clear = [i for i in word_tokenize(sent) if ((i.lower() not in swords) and (i.isalnum())) ]  "
   ]
  },
  {
   "cell_type": "code",
   "execution_count": 45,
   "id": "4108ae65",
   "metadata": {},
   "outputs": [
    {
     "data": {
      "text/plain": [
       "['आठ']"
      ]
     },
     "execution_count": 45,
     "metadata": {},
     "output_type": "execute_result"
    }
   ],
   "source": [
    "clear"
   ]
  },
  {
   "cell_type": "code",
   "execution_count": null,
   "id": "9532cf54",
   "metadata": {},
   "outputs": [],
   "source": []
  }
 ],
 "metadata": {
  "kernelspec": {
   "display_name": "Python 3 (ipykernel)",
   "language": "python",
   "name": "python3"
  },
  "language_info": {
   "codemirror_mode": {
    "name": "ipython",
    "version": 3
   },
   "file_extension": ".py",
   "mimetype": "text/x-python",
   "name": "python",
   "nbconvert_exporter": "python",
   "pygments_lexer": "ipython3",
   "version": "3.11.7"
  }
 },
 "nbformat": 4,
 "nbformat_minor": 5
}
