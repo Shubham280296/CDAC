{
 "cells": [
  {
   "cell_type": "code",
   "execution_count": 1,
   "id": "6df20a62",
   "metadata": {},
   "outputs": [
    {
     "name": "stdout",
     "output_type": "stream",
     "text": [
      "Collecting sumy\n",
      "  Downloading sumy-0.11.0-py2.py3-none-any.whl.metadata (7.5 kB)\n",
      "Collecting transformers\n",
      "  Downloading transformers-4.41.2-py3-none-any.whl.metadata (43 kB)\n",
      "     ---------------------------------------- 0.0/43.8 kB ? eta -:--:--\n",
      "     ---------------------------------------- 43.8/43.8 kB 1.1 MB/s eta 0:00:00\n",
      "Collecting docopt<0.7,>=0.6.1 (from sumy)\n",
      "  Downloading docopt-0.6.2.tar.gz (25 kB)\n",
      "  Preparing metadata (setup.py): started\n",
      "  Preparing metadata (setup.py): finished with status 'done'\n",
      "Collecting breadability>=0.1.20 (from sumy)\n",
      "  Downloading breadability-0.1.20.tar.gz (32 kB)\n",
      "  Preparing metadata (setup.py): started\n",
      "  Preparing metadata (setup.py): finished with status 'done'\n",
      "Requirement already satisfied: requests>=2.7.0 in c:\\users\\administrator.dai-pc2\\anaconda3\\lib\\site-packages (from sumy) (2.31.0)\n",
      "Collecting pycountry>=18.2.23 (from sumy)\n",
      "  Downloading pycountry-24.6.1-py3-none-any.whl.metadata (12 kB)\n",
      "Requirement already satisfied: nltk>=3.0.2 in c:\\users\\administrator.dai-pc2\\anaconda3\\lib\\site-packages (from sumy) (3.8.1)\n",
      "Requirement already satisfied: filelock in c:\\users\\administrator.dai-pc2\\anaconda3\\lib\\site-packages (from transformers) (3.13.1)\n",
      "Requirement already satisfied: huggingface-hub<1.0,>=0.23.0 in c:\\users\\administrator.dai-pc2\\anaconda3\\lib\\site-packages (from transformers) (0.23.0)\n",
      "Requirement already satisfied: numpy>=1.17 in c:\\users\\administrator.dai-pc2\\anaconda3\\lib\\site-packages (from transformers) (1.24.3)\n",
      "Requirement already satisfied: packaging>=20.0 in c:\\users\\administrator.dai-pc2\\anaconda3\\lib\\site-packages (from transformers) (23.1)\n",
      "Requirement already satisfied: pyyaml>=5.1 in c:\\users\\administrator.dai-pc2\\anaconda3\\lib\\site-packages (from transformers) (6.0.1)\n",
      "Requirement already satisfied: regex!=2019.12.17 in c:\\users\\administrator.dai-pc2\\anaconda3\\lib\\site-packages (from transformers) (2023.10.3)\n",
      "Collecting tokenizers<0.20,>=0.19 (from transformers)\n",
      "  Downloading tokenizers-0.19.1-cp311-none-win_amd64.whl.metadata (6.9 kB)\n",
      "Collecting safetensors>=0.4.1 (from transformers)\n",
      "  Downloading safetensors-0.4.3-cp311-none-win_amd64.whl.metadata (3.9 kB)\n",
      "Requirement already satisfied: tqdm>=4.27 in c:\\users\\administrator.dai-pc2\\anaconda3\\lib\\site-packages (from transformers) (4.65.0)\n",
      "Requirement already satisfied: chardet in c:\\users\\administrator.dai-pc2\\anaconda3\\lib\\site-packages (from breadability>=0.1.20->sumy) (4.0.0)\n",
      "Requirement already satisfied: lxml>=2.0 in c:\\users\\administrator.dai-pc2\\anaconda3\\lib\\site-packages (from breadability>=0.1.20->sumy) (4.9.3)\n",
      "Requirement already satisfied: fsspec>=2023.5.0 in c:\\users\\administrator.dai-pc2\\anaconda3\\lib\\site-packages (from huggingface-hub<1.0,>=0.23.0->transformers) (2023.10.0)\n",
      "Requirement already satisfied: typing-extensions>=3.7.4.3 in c:\\users\\administrator.dai-pc2\\anaconda3\\lib\\site-packages (from huggingface-hub<1.0,>=0.23.0->transformers) (4.11.0)\n",
      "Requirement already satisfied: click in c:\\users\\administrator.dai-pc2\\anaconda3\\lib\\site-packages (from nltk>=3.0.2->sumy) (8.1.7)\n",
      "Requirement already satisfied: joblib in c:\\users\\administrator.dai-pc2\\anaconda3\\lib\\site-packages (from nltk>=3.0.2->sumy) (1.2.0)\n",
      "Requirement already satisfied: charset-normalizer<4,>=2 in c:\\users\\administrator.dai-pc2\\anaconda3\\lib\\site-packages (from requests>=2.7.0->sumy) (2.0.4)\n",
      "Requirement already satisfied: idna<4,>=2.5 in c:\\users\\administrator.dai-pc2\\anaconda3\\lib\\site-packages (from requests>=2.7.0->sumy) (3.4)\n",
      "Requirement already satisfied: urllib3<3,>=1.21.1 in c:\\users\\administrator.dai-pc2\\anaconda3\\lib\\site-packages (from requests>=2.7.0->sumy) (2.0.7)\n",
      "Requirement already satisfied: certifi>=2017.4.17 in c:\\users\\administrator.dai-pc2\\anaconda3\\lib\\site-packages (from requests>=2.7.0->sumy) (2024.2.2)\n",
      "Requirement already satisfied: colorama in c:\\users\\administrator.dai-pc2\\anaconda3\\lib\\site-packages (from tqdm>=4.27->transformers) (0.4.6)\n",
      "Downloading sumy-0.11.0-py2.py3-none-any.whl (97 kB)\n",
      "   ---------------------------------------- 0.0/97.3 kB ? eta -:--:--\n",
      "   ---------------------------------------- 97.3/97.3 kB 2.7 MB/s eta 0:00:00\n",
      "Downloading transformers-4.41.2-py3-none-any.whl (9.1 MB)\n",
      "   ---------------------------------------- 0.0/9.1 MB ? eta -:--:--\n",
      "   - -------------------------------------- 0.4/9.1 MB 12.8 MB/s eta 0:00:01\n",
      "   ---- ----------------------------------- 0.9/9.1 MB 9.6 MB/s eta 0:00:01\n",
      "   ----- ---------------------------------- 1.3/9.1 MB 10.6 MB/s eta 0:00:01\n",
      "   -------- ------------------------------- 1.8/9.1 MB 10.6 MB/s eta 0:00:01\n",
      "   ---------- ----------------------------- 2.3/9.1 MB 10.4 MB/s eta 0:00:01\n",
      "   ------------ --------------------------- 2.7/9.1 MB 9.7 MB/s eta 0:00:01\n",
      "   ------------- -------------------------- 3.2/9.1 MB 10.1 MB/s eta 0:00:01\n",
      "   --------------- ------------------------ 3.6/9.1 MB 10.1 MB/s eta 0:00:01\n",
      "   ------------------ --------------------- 4.1/9.1 MB 9.7 MB/s eta 0:00:01\n",
      "   -------------------- ------------------- 4.6/9.1 MB 9.8 MB/s eta 0:00:01\n",
      "   ---------------------- ----------------- 5.1/9.1 MB 10.1 MB/s eta 0:00:01\n",
      "   ------------------------ --------------- 5.5/9.1 MB 10.0 MB/s eta 0:00:01\n",
      "   -------------------------- ------------- 6.0/9.1 MB 9.8 MB/s eta 0:00:01\n",
      "   ---------------------------- ----------- 6.5/9.1 MB 10.0 MB/s eta 0:00:01\n",
      "   ------------------------------ --------- 6.9/9.1 MB 9.8 MB/s eta 0:00:01\n",
      "   -------------------------------- ------- 7.4/9.1 MB 10.0 MB/s eta 0:00:01\n",
      "   ---------------------------------- ----- 7.9/9.1 MB 10.1 MB/s eta 0:00:01\n",
      "   ------------------------------------ --- 8.3/9.1 MB 9.8 MB/s eta 0:00:01\n",
      "   -------------------------------------- - 8.8/9.1 MB 10.0 MB/s eta 0:00:01\n",
      "   ---------------------------------------  9.1/9.1 MB 9.8 MB/s eta 0:00:01\n",
      "   ---------------------------------------- 9.1/9.1 MB 9.4 MB/s eta 0:00:00\n",
      "Downloading pycountry-24.6.1-py3-none-any.whl (6.3 MB)\n",
      "   ---------------------------------------- 0.0/6.3 MB ? eta -:--:--\n",
      "   --- ------------------------------------ 0.6/6.3 MB 11.5 MB/s eta 0:00:01\n",
      "   ------ --------------------------------- 1.0/6.3 MB 10.6 MB/s eta 0:00:01\n",
      "   --------- ------------------------------ 1.5/6.3 MB 10.7 MB/s eta 0:00:01\n",
      "   ------------ --------------------------- 2.0/6.3 MB 10.3 MB/s eta 0:00:01\n",
      "   -------------- ------------------------- 2.3/6.3 MB 9.8 MB/s eta 0:00:01\n",
      "   ----------------- ---------------------- 2.8/6.3 MB 10.0 MB/s eta 0:00:01\n",
      "   --------------------- ------------------ 3.4/6.3 MB 10.2 MB/s eta 0:00:01\n",
      "   ------------------------ --------------- 3.8/6.3 MB 9.7 MB/s eta 0:00:01\n",
      "   --------------------------- ------------ 4.3/6.3 MB 10.2 MB/s eta 0:00:01\n",
      "   ----------------------------- ---------- 4.7/6.3 MB 10.0 MB/s eta 0:00:01\n",
      "   -------------------------------- ------- 5.2/6.3 MB 9.7 MB/s eta 0:00:01\n",
      "   ----------------------------------- ---- 5.7/6.3 MB 10.0 MB/s eta 0:00:01\n",
      "   -------------------------------------- - 6.2/6.3 MB 9.8 MB/s eta 0:00:01\n",
      "   ---------------------------------------  6.3/6.3 MB 9.9 MB/s eta 0:00:01\n",
      "   ---------------------------------------- 6.3/6.3 MB 9.2 MB/s eta 0:00:00\n",
      "Downloading safetensors-0.4.3-cp311-none-win_amd64.whl (287 kB)\n",
      "   ---------------------------------------- 0.0/287.3 kB ? eta -:--:--\n",
      "   ---------------------------------------- 287.3/287.3 kB 8.9 MB/s eta 0:00:00\n",
      "Downloading tokenizers-0.19.1-cp311-none-win_amd64.whl (2.2 MB)\n",
      "   ---------------------------------------- 0.0/2.2 MB ? eta -:--:--\n",
      "   --------- ------------------------------ 0.5/2.2 MB 15.9 MB/s eta 0:00:01\n",
      "   ------------------ --------------------- 1.0/2.2 MB 13.0 MB/s eta 0:00:01\n",
      "   --------------------------- ------------ 1.5/2.2 MB 12.3 MB/s eta 0:00:01\n",
      "   --------------------------------- ------ 1.8/2.2 MB 10.6 MB/s eta 0:00:01\n",
      "   ---------------------------------------  2.2/2.2 MB 10.8 MB/s eta 0:00:01\n",
      "   ---------------------------------------- 2.2/2.2 MB 8.8 MB/s eta 0:00:00\n",
      "Building wheels for collected packages: breadability, docopt\n",
      "  Building wheel for breadability (setup.py): started\n",
      "  Building wheel for breadability (setup.py): finished with status 'done'\n",
      "  Created wheel for breadability: filename=breadability-0.1.20-py2.py3-none-any.whl size=21739 sha256=1d79667922214d021a693b1ae7068d1cce99bf859f1c507f924ffb3953acfb19\n",
      "  Stored in directory: c:\\users\\administrator.dai-pc2\\appdata\\local\\pip\\cache\\wheels\\4d\\57\\58\\7e3d7fedf51fe248b7fcee3df6945ae28638e22cddf01eb92b\n",
      "  Building wheel for docopt (setup.py): started\n",
      "  Building wheel for docopt (setup.py): finished with status 'done'\n",
      "  Created wheel for docopt: filename=docopt-0.6.2-py2.py3-none-any.whl size=13773 sha256=b105b517d49791b234eb47b9228533ee23a32707e954f6d8aee04b83d205cfdb\n",
      "  Stored in directory: c:\\users\\administrator.dai-pc2\\appdata\\local\\pip\\cache\\wheels\\1a\\b0\\8c\\4b75c4116c31f83c8f9f047231251e13cc74481cca4a78a9ce\n",
      "Successfully built breadability docopt\n",
      "Installing collected packages: docopt, safetensors, pycountry, breadability, tokenizers, sumy, transformers\n",
      "Successfully installed breadability-0.1.20 docopt-0.6.2 pycountry-24.6.1 safetensors-0.4.3 sumy-0.11.0 tokenizers-0.19.1 transformers-4.41.2\n",
      "Note: you may need to restart the kernel to use updated packages.\n"
     ]
    }
   ],
   "source": [
    "pip install sumy transformers                                                                                                                       "
   ]
  },
  {
   "cell_type": "code",
   "execution_count": 40,
   "id": "e4088d4f",
   "metadata": {},
   "outputs": [],
   "source": [
    "## Import parse and tokenizers\n",
    "from sumy.parsers.plaintext import PlaintextParser\n",
    "from sumy.nlp.tokenizers import Tokenizer"
   ]
  },
  {
   "cell_type": "markdown",
   "id": "c5428fe2",
   "metadata": {},
   "source": [
    "## Example 1"
   ]
  },
  {
   "cell_type": "markdown",
   "id": "a3648d7b",
   "metadata": {},
   "source": [
    "sumy --> Extract summarization\n",
    "\n",
    "transformers --> abstractive summarization"
   ]
  },
  {
   "cell_type": "code",
   "execution_count": 41,
   "id": "1ba480dd",
   "metadata": {},
   "outputs": [
    {
     "name": "stdout",
     "output_type": "stream",
     "text": [
      "The tiger (Panthera tigris) is the largest living cat species and a member of the genus Panthera native to Asia. \n",
      "It has a powerful, muscular body with a large head and paws, a long tail, and orange fur with black, mostly vertical \n",
      "stripes. It is traditionally classified into nine recent subspecies, though some recognise only two subspecies, mainland \n",
      "Asian tigers and island tigers of the Sunda Islands.\n",
      "\n",
      "Throughout the tiger's range, it inhabits mainly forests, from coniferous and temperate broadleaf and mixed forests in \n",
      "the Russian Far East and Northeast China to tropical and subtropical moist broadleaf forests on the Indian subcontinent \n",
      "and Southeast Asia. The tiger is an apex predator and preys mainly on ungulates such as deer and wild boar, which it \n",
      "takes by ambush. It lives a mostly solitary life and occupies home ranges, which it defends from individuals of the same \n",
      "sex. The range of a male tiger overlaps with that of multiple females with whom he has reproductive claims. Females give \n",
      "birth to usually two or three cubs that stay with their mother for about two years. When becoming independent, they leave \n",
      "their mother's home range and establish their own.\n",
      "\n",
      "Since the early 20th century, tiger populations have lost at least 93% of their historic range and are locally extinct in \n",
      "West and Central Asia, in large areas of China, and on the islands of Java and Bali. Today, the tiger's range is severely \n",
      "fragmented. It is listed as Endangered on the IUCN Red List of Threatened Species, as its range is thought to have \n",
      "declined by 53% to 68% since the late 1990s. Major reasons for this decline are habitat destruction and fragmentation due \n",
      "to deforestation, poaching for fur, and the illegal trade of tiger body parts for medicinal purposes. Tigers are also \n",
      "victims of human–wildlife conflict for attacking and preying on livestock in areas, where natural prey is scarce. The \n",
      "species is legally protected in all range countries, which have ratified conservation action plans, established \n",
      "anti-poaching patrols and schemes for monitoring tiger populations.\n",
      "\n",
      "The tiger is among the most popular of the world's charismatic megafauna. It has been kept in captivity since ancient \n",
      "times and has been trained to perform in circuses and other entertainment shows. The tiger featured prominently in the \n",
      "ancient mythology and folklore of cultures throughout its historic range and has continued to appear in culture worldwide.\n"
     ]
    }
   ],
   "source": [
    "text = '''The tiger (Panthera tigris) is the largest living cat species and a member of the genus Panthera native to Asia. \n",
    "It has a powerful, muscular body with a large head and paws, a long tail, and orange fur with black, mostly vertical \n",
    "stripes. It is traditionally classified into nine recent subspecies, though some recognise only two subspecies, mainland \n",
    "Asian tigers and island tigers of the Sunda Islands.\n",
    "\n",
    "Throughout the tiger's range, it inhabits mainly forests, from coniferous and temperate broadleaf and mixed forests in \n",
    "the Russian Far East and Northeast China to tropical and subtropical moist broadleaf forests on the Indian subcontinent \n",
    "and Southeast Asia. The tiger is an apex predator and preys mainly on ungulates such as deer and wild boar, which it \n",
    "takes by ambush. It lives a mostly solitary life and occupies home ranges, which it defends from individuals of the same \n",
    "sex. The range of a male tiger overlaps with that of multiple females with whom he has reproductive claims. Females give \n",
    "birth to usually two or three cubs that stay with their mother for about two years. When becoming independent, they leave \n",
    "their mother's home range and establish their own.\n",
    "\n",
    "Since the early 20th century, tiger populations have lost at least 93% of their historic range and are locally extinct in \n",
    "West and Central Asia, in large areas of China, and on the islands of Java and Bali. Today, the tiger's range is severely \n",
    "fragmented. It is listed as Endangered on the IUCN Red List of Threatened Species, as its range is thought to have \n",
    "declined by 53% to 68% since the late 1990s. Major reasons for this decline are habitat destruction and fragmentation due \n",
    "to deforestation, poaching for fur, and the illegal trade of tiger body parts for medicinal purposes. Tigers are also \n",
    "victims of human–wildlife conflict for attacking and preying on livestock in areas, where natural prey is scarce. The \n",
    "species is legally protected in all range countries, which have ratified conservation action plans, established \n",
    "anti-poaching patrols and schemes for monitoring tiger populations.\n",
    "\n",
    "The tiger is among the most popular of the world's charismatic megafauna. It has been kept in captivity since ancient \n",
    "times and has been trained to perform in circuses and other entertainment shows. The tiger featured prominently in the \n",
    "ancient mythology and folklore of cultures throughout its historic range and has continued to appear in culture worldwide.'''\n",
    "\n",
    "print(text)"
   ]
  },
  {
   "cell_type": "code",
   "execution_count": 42,
   "id": "beb7f812",
   "metadata": {},
   "outputs": [
    {
     "data": {
      "text/plain": [
       "18"
      ]
     },
     "execution_count": 42,
     "metadata": {},
     "output_type": "execute_result"
    }
   ],
   "source": [
    "## No of sentences\n",
    "from nltk.tokenize import sent_tokenize\n",
    "\n",
    "sents = sent_tokenize(text)\n",
    "len(sents)"
   ]
  },
  {
   "cell_type": "code",
   "execution_count": 43,
   "id": "f5031528",
   "metadata": {},
   "outputs": [],
   "source": [
    "## Initialize parser\n",
    "my_parser = PlaintextParser.from_string(text, Tokenizer('english'))"
   ]
  },
  {
   "cell_type": "markdown",
   "id": "4a3835d5",
   "metadata": {},
   "source": [
    "## Text Rank Summarizer"
   ]
  },
  {
   "cell_type": "code",
   "execution_count": 44,
   "id": "64534c83",
   "metadata": {},
   "outputs": [
    {
     "name": "stdout",
     "output_type": "stream",
     "text": [
      "Throughout the tiger's range, it inhabits mainly forests, from coniferous and temperate broadleaf and mixed forests in the Russian Far East and Northeast China to tropical and subtropical moist broadleaf forests on the Indian subcontinent and Southeast Asia. \n",
      "\n",
      "Since the early 20th century, tiger populations have lost at least 93% of their historic range and are locally extinct in West and Central Asia, in large areas of China, and on the islands of Java and Bali. \n",
      "\n",
      "The tiger featured prominently in the ancient mythology and folklore of cultures throughout its historic range and has continued to appear in culture worldwide. \n",
      "\n"
     ]
    }
   ],
   "source": [
    "## import class \n",
    "from sumy.summarizers.text_rank import TextRankSummarizer\n",
    "\n",
    "## Creat object of summarizer\n",
    "text_rank_summarizer = TextRankSummarizer()\n",
    "\n",
    "## Extract top 3 senteces\n",
    "summary = text_rank_summarizer(my_parser.document, sentences_count = 3)\n",
    "\n",
    "for sent in summary:\n",
    "    print(sent,'\\n')"
   ]
  },
  {
   "cell_type": "markdown",
   "id": "56b5d7b8",
   "metadata": {},
   "source": [
    "## Lex Rank Summarizer"
   ]
  },
  {
   "cell_type": "code",
   "execution_count": 45,
   "id": "86d8c458",
   "metadata": {},
   "outputs": [
    {
     "name": "stdout",
     "output_type": "stream",
     "text": [
      "It has a powerful, muscular body with a large head and paws, a long tail, and orange fur with black, mostly vertical stripes. \n",
      "\n",
      "Females give birth to usually two or three cubs that stay with their mother for about two years. \n",
      "\n",
      "Since the early 20th century, tiger populations have lost at least 93% of their historic range and are locally extinct in West and Central Asia, in large areas of China, and on the islands of Java and Bali. \n",
      "\n"
     ]
    }
   ],
   "source": [
    "## import class \n",
    "from sumy.summarizers.lex_rank import LexRankSummarizer\n",
    "\n",
    "## Creat object of summarizer\n",
    "lex_rank_summarizer = LexRankSummarizer()\n",
    "\n",
    "## Extract top 3 senteces\n",
    "summary = lex_rank_summarizer(my_parser.document, sentences_count = 3)\n",
    "\n",
    "for sent in summary:\n",
    "    print(sent,'\\n')"
   ]
  },
  {
   "cell_type": "markdown",
   "id": "5ccb3111",
   "metadata": {},
   "source": [
    "## Example 2"
   ]
  },
  {
   "cell_type": "code",
   "execution_count": 51,
   "id": "37ab0227",
   "metadata": {},
   "outputs": [
    {
     "data": {
      "text/plain": [
       "32"
      ]
     },
     "execution_count": 51,
     "metadata": {},
     "output_type": "execute_result"
    }
   ],
   "source": [
    "mtext = ''''वाघाचे खरे माहेरघर हे भारत मानले जाते. आजही तेथे काही शेकड्यांनी वाघ शिल्लक आहेत. तिथून वाघ मांचूरिया चीन, आग्नेय अशियातून भारतात \n",
    "आला असे मानले जाते. यातील बऱ्याच भागात पूर्वी वाघ मुबलक प्रमाणात आढळत होता परंतु शिकार व वसतिस्थानाचा नाश यांमुळे तेथून वाघ \n",
    "नामशेष झाला. जंगली वाघ हा आज प्रामुख्याने भारत, ब्रह्मदेश, थायलंड, चीन व रशिया या देशांत आढळतो तसेच प्राणिसंग्रहालयातील वाघ आज जगभर पोहोचले \n",
    "आहेत व ते वाघांच्या एकूण संख्येचा मोठा भाग आहेत. वाघ (पेंथेरा टायग्रिस) हा मांजर कुटुंब, फेलिडे याचा सर्वात मोठा जिवंत सदस्य आहे. हा शिकार करून \n",
    "खातो. हा आशिया, मुख्यतः भारत, भूतान, चीन, कोरिया आणि साइबेरियन रशियामध्ये राहतो. २०२० साली जंगली वाघांतील ७० टक्के वाघ भारतात आहेत. \n",
    "भारतामध्ये २०१४ मध्ये २२२६ वाघ होते. ४ वर्षांनी २०१८ मध्ये ही संख्या वाढून २९६७ वर पोचली.\n",
    "\n",
    "वाघांची संख्या भारतात सर्वाधिक असली तरी भारतात देखील वाघ आज दुर्मिळ झाले असून त्यांची संख्या चिंताजनक आहे. भारतातील पंजाब, हरियाणा ही राज्ये \n",
    "सोडल्यास सर्व राज्यात वाघाचे थोडे थोडे अस्तित्व आहे.\n",
    "\n",
    "भारतातील वाघांच्या आढळाचे ५ उपविभाग आहेत --हिमालय व तराई विभाग - यात जम्मू आणि काश्मीर, हिमाचल प्रदेश, उत्तरांचल, उत्तरप्रदेश, बिहार, सिक्कीम, आसाम अरुणाचल प्रदेश व इशान्य भारतातील \n",
    "राज्ये येतात. यातील हिमालयाच्या तराई जंगलांमध्ये वाघांचे वसतीस्थान आहे.\n",
    "अरवली पर्वताच्या पूर्व भागातील शुष्क जंगलांमध्ये वाघांचे अस्तित्व आहे. यांत रणथंभोर सरिस्का सारखी राष्ट्रीय उद्याने येतात.\n",
    "सुंदरबन व ओडिशा .\n",
    "मध्य भारतातील पानगळी जंगलांमध्ये वाघांचे सर्वाधिक अस्तित्व आढळते. यात कान्हा, बांधवगड, मेळघाट(गुगमाळ्), ताडोबा यासारखी राष्ट्रीय उद्याने व अभयारण्ये \n",
    "येतात.\n",
    "सह्याद्री व मलबार किनारा यात प्रामुख्याने सह्याद्रीचा दक्षिण भाग येतो. बंदीपूर, मदुमलाई पेरियार इत्यादी. महाराष्ट्रातील सह्याद्रीत केवळ कोयना व चांदोली \n",
    "अभयारण्यात वाघांचे अस्तित्व आहे.\n",
    "वाघाचे वसतिस्थान हे मुख्यत्वे दाट ते अतिशय घनदाट जंगलात असते. वाघाच्या शिकार करण्याच्या पद्धतीमुळे त्याने त्याचे वसतिस्थान निवडले असावे. राजस्थानातील \n",
    "शुष्क जंगले, तसेच सुंदरबनमधील खारफ़ुटीची जंगले, काझ़ीरंगातील गवताळ जंगल असे विविध प्रकारच्या जंगलात वाघाचे वास्तव्य आहे. तरीदेखील वाघ हा \n",
    "बिबट्यासारखा कोणत्याही प्रकारच्या जंगलात राहण्यास सरावला नाही. तसेच प्रत्येक वाघांचे शिकारीचे क्षेत्र हे बरेच मोठे असते (साधारणपणे १०० चौ.किमी). \n",
    "त्यामुळे वाघ साधारणपणे मोठी जंगले पसंत करतात. म्हणूनच पूर्वीच्या मध्यम आकाराच्या जंगलात वाघ दिसत व आज ती जंगले हे लहान झाल्यामुळे वाघांचे अस्तित्व \n",
    "संपृष्टात आले. (उदा: महाराष्ट्रातील सह्याद्री व कोकणातील जंगले)\n",
    "\n",
    "नुकत्याच झालेल्या एका सर्वेक्षणानुसार,भारतात वाघांची संख्या वाढली असून ती आता २९६७ झाल्याचे सांगण्यात येते. तसेच, मध्य भारतातील, ताडोबा, पेंच, कान्हा \n",
    "व मेळघाट आदी जंगल परिसरात एकूण सुमारे ७१८ वाघ असल्याचे यात दृष्टीपथात आले.हे सर्वेक्षण 'वाईल्ड लाईफ कंझर्वेशन ट्रस्ट' तर्फे कॅमेरे लावून करण्यात आले.\n",
    "'''\n",
    "\n",
    "len(sent_tokenize(mtext))"
   ]
  },
  {
   "cell_type": "code",
   "execution_count": 52,
   "id": "d435b469",
   "metadata": {},
   "outputs": [
    {
     "name": "stdout",
     "output_type": "stream",
     "text": [
      "जंगली वाघ हा आज प्रामुख्याने भारत, ब्रह्मदेश, थायलंड, चीन व रशिया या देशांत आढळतो तसेच प्राणिसंग्रहालयातील वाघ आज जगभर पोहोचले आहेत व ते वाघांच्या एकूण संख्येचा मोठा भाग आहेत. \n",
      "\n",
      "भारतातील वाघांच्या आढळाचे ५ उपविभाग आहेत --हिमालय व तराई विभाग - यात जम्मू आणि काश्मीर, हिमाचल प्रदेश, उत्तरांचल, उत्तरप्रदेश, बिहार, सिक्कीम, आसाम अरुणाचल प्रदेश व इशान्य भारतातील राज्ये येतात. \n",
      "\n",
      "म्हणूनच पूर्वीच्या मध्यम आकाराच्या जंगलात वाघ दिसत व आज ती जंगले हे लहान झाल्यामुळे वाघांचे अस्तित्व संपृष्टात आले. \n",
      "\n"
     ]
    }
   ],
   "source": [
    "## Initialize parser\n",
    "my_parser1 = PlaintextParser.from_string(mtext, Tokenizer('english'))\n",
    "\n",
    "## Extract top 3 senteces\n",
    "summary = text_rank_summarizer(my_parser1.document, sentences_count = 3)\n",
    "\n",
    "for sent in summary:\n",
    "    print(sent,'\\n')"
   ]
  },
  {
   "cell_type": "code",
   "execution_count": 53,
   "id": "c62d45b0",
   "metadata": {},
   "outputs": [
    {
     "name": "stdout",
     "output_type": "stream",
     "text": [
      "यातील बऱ्याच भागात पूर्वी वाघ मुबलक प्रमाणात आढळत होता परंतु शिकार व वसतिस्थानाचा नाश यांमुळे तेथून वाघ नामशेष झाला. \n",
      "\n",
      "जंगली वाघ हा आज प्रामुख्याने भारत, ब्रह्मदेश, थायलंड, चीन व रशिया या देशांत आढळतो तसेच प्राणिसंग्रहालयातील वाघ आज जगभर पोहोचले आहेत व ते वाघांच्या एकूण संख्येचा मोठा भाग आहेत. \n",
      "\n",
      "म्हणूनच पूर्वीच्या मध्यम आकाराच्या जंगलात वाघ दिसत व आज ती जंगले हे लहान झाल्यामुळे वाघांचे अस्तित्व संपृष्टात आले. \n",
      "\n"
     ]
    }
   ],
   "source": [
    "## Extract top 3 senteces\n",
    "summary = lex_rank_summarizer(my_parser1.document, sentences_count = 3)\n",
    "\n",
    "for sent in summary:\n",
    "    print(sent,'\\n')"
   ]
  },
  {
   "cell_type": "markdown",
   "id": "8dceb551",
   "metadata": {},
   "source": [
    "## Latent Semantic Analysis Summerizer"
   ]
  },
  {
   "cell_type": "code",
   "execution_count": 54,
   "id": "76690970",
   "metadata": {},
   "outputs": [
    {
     "name": "stdout",
     "output_type": "stream",
     "text": [
      "It is listed as Endangered on the IUCN Red List of Threatened Species, as its range is thought to have declined by 53% to 68% since the late 1990s. \n",
      "\n",
      "Tigers are also victims of human–wildlife conflict for attacking and preying on livestock in areas, where natural prey is scarce. \n",
      "\n",
      "The species is legally protected in all range countries, which have ratified conservation action plans, established anti-poaching patrols and schemes for monitoring tiger populations. \n",
      "\n"
     ]
    }
   ],
   "source": [
    "## import class \n",
    "from sumy.summarizers.lsa import LsaSummarizer\n",
    "\n",
    "## Creat object of summarizer\n",
    "lsa_summarizer = LsaSummarizer()\n",
    "\n",
    "## Extract top 3 senteces\n",
    "summary = lsa_summarizer(my_parser.document, sentences_count = 3)\n",
    "\n",
    "for sent in summary:\n",
    "    print(sent,'\\n')"
   ]
  },
  {
   "cell_type": "code",
   "execution_count": 55,
   "id": "34f45f85",
   "metadata": {},
   "outputs": [
    {
     "name": "stdout",
     "output_type": "stream",
     "text": [
      "यातील बऱ्याच भागात पूर्वी वाघ मुबलक प्रमाणात आढळत होता परंतु शिकार व वसतिस्थानाचा नाश यांमुळे तेथून वाघ नामशेष झाला. \n",
      "\n",
      "जंगली वाघ हा आज प्रामुख्याने भारत, ब्रह्मदेश, थायलंड, चीन व रशिया या देशांत आढळतो तसेच प्राणिसंग्रहालयातील वाघ आज जगभर पोहोचले आहेत व ते वाघांच्या एकूण संख्येचा मोठा भाग आहेत. \n",
      "\n",
      "म्हणूनच पूर्वीच्या मध्यम आकाराच्या जंगलात वाघ दिसत व आज ती जंगले हे लहान झाल्यामुळे वाघांचे अस्तित्व संपृष्टात आले. \n",
      "\n"
     ]
    }
   ],
   "source": [
    "## import class \n",
    "from sumy.summarizers.lsa import LsaSummarizer\n",
    "\n",
    "## Creat object of summarizer\n",
    "lsa_summarizer = LsaSummarizer()\n",
    "\n",
    "## Extract top 3 senteces\n",
    "summary = lsa_summarizer(my_parser1.document, sentences_count = 3)\n",
    "\n",
    "for sent in summary:\n",
    "    print(sent,'\\n')"
   ]
  },
  {
   "cell_type": "markdown",
   "id": "c332ef36",
   "metadata": {},
   "source": [
    "##  Abstract Summarization with GPT Transformers"
   ]
  },
  {
   "cell_type": "code",
   "execution_count": 59,
   "id": "6dcda85a",
   "metadata": {},
   "outputs": [],
   "source": [
    "from transformers import pipeline"
   ]
  },
  {
   "cell_type": "code",
   "execution_count": 60,
   "id": "e9089265",
   "metadata": {},
   "outputs": [
    {
     "name": "stdout",
     "output_type": "stream",
     "text": [
      "Help on function pipeline in module transformers.pipelines:\n",
      "\n",
      "pipeline(task: str = None, model: Union[str, ForwardRef('PreTrainedModel'), ForwardRef('TFPreTrainedModel'), NoneType] = None, config: Union[str, transformers.configuration_utils.PretrainedConfig, NoneType] = None, tokenizer: Union[str, transformers.tokenization_utils.PreTrainedTokenizer, ForwardRef('PreTrainedTokenizerFast'), NoneType] = None, feature_extractor: Union[str, ForwardRef('SequenceFeatureExtractor'), NoneType] = None, image_processor: Union[str, transformers.image_processing_utils.BaseImageProcessor, NoneType] = None, framework: Optional[str] = None, revision: Optional[str] = None, use_fast: bool = True, token: Union[str, bool, NoneType] = None, device: Union[int, str, ForwardRef('torch.device'), NoneType] = None, device_map=None, torch_dtype=None, trust_remote_code: Optional[bool] = None, model_kwargs: Dict[str, Any] = None, pipeline_class: Optional[Any] = None, **kwargs) -> transformers.pipelines.base.Pipeline\n",
      "    Utility factory method to build a [`Pipeline`].\n",
      "    \n",
      "    Pipelines are made of:\n",
      "    \n",
      "        - A [tokenizer](tokenizer) in charge of mapping raw textual input to token.\n",
      "        - A [model](model) to make predictions from the inputs.\n",
      "        - Some (optional) post processing for enhancing model's output.\n",
      "    \n",
      "    Args:\n",
      "        task (`str`):\n",
      "            The task defining which pipeline will be returned. Currently accepted tasks are:\n",
      "    \n",
      "            - `\"audio-classification\"`: will return a [`AudioClassificationPipeline`].\n",
      "            - `\"automatic-speech-recognition\"`: will return a [`AutomaticSpeechRecognitionPipeline`].\n",
      "            - `\"conversational\"`: will return a [`ConversationalPipeline`].\n",
      "            - `\"depth-estimation\"`: will return a [`DepthEstimationPipeline`].\n",
      "            - `\"document-question-answering\"`: will return a [`DocumentQuestionAnsweringPipeline`].\n",
      "            - `\"feature-extraction\"`: will return a [`FeatureExtractionPipeline`].\n",
      "            - `\"fill-mask\"`: will return a [`FillMaskPipeline`]:.\n",
      "            - `\"image-classification\"`: will return a [`ImageClassificationPipeline`].\n",
      "            - `\"image-feature-extraction\"`: will return an [`ImageFeatureExtractionPipeline`].\n",
      "            - `\"image-segmentation\"`: will return a [`ImageSegmentationPipeline`].\n",
      "            - `\"image-to-image\"`: will return a [`ImageToImagePipeline`].\n",
      "            - `\"image-to-text\"`: will return a [`ImageToTextPipeline`].\n",
      "            - `\"mask-generation\"`: will return a [`MaskGenerationPipeline`].\n",
      "            - `\"object-detection\"`: will return a [`ObjectDetectionPipeline`].\n",
      "            - `\"question-answering\"`: will return a [`QuestionAnsweringPipeline`].\n",
      "            - `\"summarization\"`: will return a [`SummarizationPipeline`].\n",
      "            - `\"table-question-answering\"`: will return a [`TableQuestionAnsweringPipeline`].\n",
      "            - `\"text2text-generation\"`: will return a [`Text2TextGenerationPipeline`].\n",
      "            - `\"text-classification\"` (alias `\"sentiment-analysis\"` available): will return a\n",
      "              [`TextClassificationPipeline`].\n",
      "            - `\"text-generation\"`: will return a [`TextGenerationPipeline`]:.\n",
      "            - `\"text-to-audio\"` (alias `\"text-to-speech\"` available): will return a [`TextToAudioPipeline`]:.\n",
      "            - `\"token-classification\"` (alias `\"ner\"` available): will return a [`TokenClassificationPipeline`].\n",
      "            - `\"translation\"`: will return a [`TranslationPipeline`].\n",
      "            - `\"translation_xx_to_yy\"`: will return a [`TranslationPipeline`].\n",
      "            - `\"video-classification\"`: will return a [`VideoClassificationPipeline`].\n",
      "            - `\"visual-question-answering\"`: will return a [`VisualQuestionAnsweringPipeline`].\n",
      "            - `\"zero-shot-classification\"`: will return a [`ZeroShotClassificationPipeline`].\n",
      "            - `\"zero-shot-image-classification\"`: will return a [`ZeroShotImageClassificationPipeline`].\n",
      "            - `\"zero-shot-audio-classification\"`: will return a [`ZeroShotAudioClassificationPipeline`].\n",
      "            - `\"zero-shot-object-detection\"`: will return a [`ZeroShotObjectDetectionPipeline`].\n",
      "    \n",
      "        model (`str` or [`PreTrainedModel`] or [`TFPreTrainedModel`], *optional*):\n",
      "            The model that will be used by the pipeline to make predictions. This can be a model identifier or an\n",
      "            actual instance of a pretrained model inheriting from [`PreTrainedModel`] (for PyTorch) or\n",
      "            [`TFPreTrainedModel`] (for TensorFlow).\n",
      "    \n",
      "            If not provided, the default for the `task` will be loaded.\n",
      "        config (`str` or [`PretrainedConfig`], *optional*):\n",
      "            The configuration that will be used by the pipeline to instantiate the model. This can be a model\n",
      "            identifier or an actual pretrained model configuration inheriting from [`PretrainedConfig`].\n",
      "    \n",
      "            If not provided, the default configuration file for the requested model will be used. That means that if\n",
      "            `model` is given, its default configuration will be used. However, if `model` is not supplied, this\n",
      "            `task`'s default model's config is used instead.\n",
      "        tokenizer (`str` or [`PreTrainedTokenizer`], *optional*):\n",
      "            The tokenizer that will be used by the pipeline to encode data for the model. This can be a model\n",
      "            identifier or an actual pretrained tokenizer inheriting from [`PreTrainedTokenizer`].\n",
      "    \n",
      "            If not provided, the default tokenizer for the given `model` will be loaded (if it is a string). If `model`\n",
      "            is not specified or not a string, then the default tokenizer for `config` is loaded (if it is a string).\n",
      "            However, if `config` is also not given or not a string, then the default tokenizer for the given `task`\n",
      "            will be loaded.\n",
      "        feature_extractor (`str` or [`PreTrainedFeatureExtractor`], *optional*):\n",
      "            The feature extractor that will be used by the pipeline to encode data for the model. This can be a model\n",
      "            identifier or an actual pretrained feature extractor inheriting from [`PreTrainedFeatureExtractor`].\n",
      "    \n",
      "            Feature extractors are used for non-NLP models, such as Speech or Vision models as well as multi-modal\n",
      "            models. Multi-modal models will also require a tokenizer to be passed.\n",
      "    \n",
      "            If not provided, the default feature extractor for the given `model` will be loaded (if it is a string). If\n",
      "            `model` is not specified or not a string, then the default feature extractor for `config` is loaded (if it\n",
      "            is a string). However, if `config` is also not given or not a string, then the default feature extractor\n",
      "            for the given `task` will be loaded.\n",
      "        framework (`str`, *optional*):\n",
      "            The framework to use, either `\"pt\"` for PyTorch or `\"tf\"` for TensorFlow. The specified framework must be\n",
      "            installed.\n",
      "    \n",
      "            If no framework is specified, will default to the one currently installed. If no framework is specified and\n",
      "            both frameworks are installed, will default to the framework of the `model`, or to PyTorch if no model is\n",
      "            provided.\n",
      "        revision (`str`, *optional*, defaults to `\"main\"`):\n",
      "            When passing a task name or a string model identifier: The specific model version to use. It can be a\n",
      "            branch name, a tag name, or a commit id, since we use a git-based system for storing models and other\n",
      "            artifacts on huggingface.co, so `revision` can be any identifier allowed by git.\n",
      "        use_fast (`bool`, *optional*, defaults to `True`):\n",
      "            Whether or not to use a Fast tokenizer if possible (a [`PreTrainedTokenizerFast`]).\n",
      "        use_auth_token (`str` or *bool*, *optional*):\n",
      "            The token to use as HTTP bearer authorization for remote files. If `True`, will use the token generated\n",
      "            when running `huggingface-cli login` (stored in `~/.huggingface`).\n",
      "        device (`int` or `str` or `torch.device`):\n",
      "            Defines the device (*e.g.*, `\"cpu\"`, `\"cuda:1\"`, `\"mps\"`, or a GPU ordinal rank like `1`) on which this\n",
      "            pipeline will be allocated.\n",
      "        device_map (`str` or `Dict[str, Union[int, str, torch.device]`, *optional*):\n",
      "            Sent directly as `model_kwargs` (just a simpler shortcut). When `accelerate` library is present, set\n",
      "            `device_map=\"auto\"` to compute the most optimized `device_map` automatically (see\n",
      "            [here](https://huggingface.co/docs/accelerate/main/en/package_reference/big_modeling#accelerate.cpu_offload)\n",
      "            for more information).\n",
      "    \n",
      "            <Tip warning={true}>\n",
      "    \n",
      "            Do not use `device_map` AND `device` at the same time as they will conflict\n",
      "    \n",
      "            </Tip>\n",
      "    \n",
      "        torch_dtype (`str` or `torch.dtype`, *optional*):\n",
      "            Sent directly as `model_kwargs` (just a simpler shortcut) to use the available precision for this model\n",
      "            (`torch.float16`, `torch.bfloat16`, ... or `\"auto\"`).\n",
      "        trust_remote_code (`bool`, *optional*, defaults to `False`):\n",
      "            Whether or not to allow for custom code defined on the Hub in their own modeling, configuration,\n",
      "            tokenization or even pipeline files. This option should only be set to `True` for repositories you trust\n",
      "            and in which you have read the code, as it will execute code present on the Hub on your local machine.\n",
      "        model_kwargs (`Dict[str, Any]`, *optional*):\n",
      "            Additional dictionary of keyword arguments passed along to the model's `from_pretrained(...,\n",
      "            **model_kwargs)` function.\n",
      "        kwargs (`Dict[str, Any]`, *optional*):\n",
      "            Additional keyword arguments passed along to the specific pipeline init (see the documentation for the\n",
      "            corresponding pipeline class for possible values).\n",
      "    \n",
      "    Returns:\n",
      "        [`Pipeline`]: A suitable pipeline for the task.\n",
      "    \n",
      "    Examples:\n",
      "    \n",
      "    ```python\n",
      "    >>> from transformers import pipeline, AutoModelForTokenClassification, AutoTokenizer\n",
      "    \n",
      "    >>> # Sentiment analysis pipeline\n",
      "    >>> analyzer = pipeline(\"sentiment-analysis\")\n",
      "    \n",
      "    >>> # Question answering pipeline, specifying the checkpoint identifier\n",
      "    >>> oracle = pipeline(\n",
      "    ...     \"question-answering\", model=\"distilbert/distilbert-base-cased-distilled-squad\", tokenizer=\"google-bert/bert-base-cased\"\n",
      "    ... )\n",
      "    \n",
      "    >>> # Named entity recognition pipeline, passing in a specific model and tokenizer\n",
      "    >>> model = AutoModelForTokenClassification.from_pretrained(\"dbmdz/bert-large-cased-finetuned-conll03-english\")\n",
      "    >>> tokenizer = AutoTokenizer.from_pretrained(\"google-bert/bert-base-cased\")\n",
      "    >>> recognizer = pipeline(\"ner\", model=model, tokenizer=tokenizer)\n",
      "    ```\n",
      "\n"
     ]
    }
   ],
   "source": [
    "help(pipeline)"
   ]
  },
  {
   "cell_type": "code",
   "execution_count": 61,
   "id": "2a7e587e",
   "metadata": {},
   "outputs": [
    {
     "name": "stderr",
     "output_type": "stream",
     "text": [
      "No model was supplied, defaulted to sshleifer/distilbart-cnn-12-6 and revision a4f8f3e (https://huggingface.co/sshleifer/distilbart-cnn-12-6).\n",
      "Using a pipeline without specifying a model name and revision in production is not recommended.\n",
      "C:\\Users\\Administrator.DAI-PC2\\anaconda3\\Lib\\site-packages\\huggingface_hub\\file_download.py:1132: FutureWarning: `resume_download` is deprecated and will be removed in version 1.0.0. Downloads always resume when possible. If you want to force a new download, use `force_download=True`.\n",
      "  warnings.warn(\n"
     ]
    },
    {
     "data": {
      "application/vnd.jupyter.widget-view+json": {
       "model_id": "9026d346bf154cfa9eefa0e76467884e",
       "version_major": 2,
       "version_minor": 0
      },
      "text/plain": [
       "config.json:   0%|          | 0.00/1.80k [00:00<?, ?B/s]"
      ]
     },
     "metadata": {},
     "output_type": "display_data"
    },
    {
     "name": "stderr",
     "output_type": "stream",
     "text": [
      "C:\\Users\\Administrator.DAI-PC2\\anaconda3\\Lib\\site-packages\\huggingface_hub\\file_download.py:157: UserWarning: `huggingface_hub` cache-system uses symlinks by default to efficiently store duplicated files but your machine does not support them in C:\\Users\\Administrator.DAI-PC2\\.cache\\huggingface\\hub\\models--sshleifer--distilbart-cnn-12-6. Caching files will still work but in a degraded version that might require more space on your disk. This warning can be disabled by setting the `HF_HUB_DISABLE_SYMLINKS_WARNING` environment variable. For more details, see https://huggingface.co/docs/huggingface_hub/how-to-cache#limitations.\n",
      "To support symlinks on Windows, you either need to activate Developer Mode or to run Python as an administrator. In order to see activate developer mode, see this article: https://docs.microsoft.com/en-us/windows/apps/get-started/enable-your-device-for-development\n",
      "  warnings.warn(message)\n"
     ]
    },
    {
     "data": {
      "application/vnd.jupyter.widget-view+json": {
       "model_id": "fc25e97b704541e48489b5a624b63dff",
       "version_major": 2,
       "version_minor": 0
      },
      "text/plain": [
       "pytorch_model.bin:   0%|          | 0.00/1.22G [00:00<?, ?B/s]"
      ]
     },
     "metadata": {},
     "output_type": "display_data"
    },
    {
     "data": {
      "application/vnd.jupyter.widget-view+json": {
       "model_id": "1151f2c97e7045c1a4921340da68a604",
       "version_major": 2,
       "version_minor": 0
      },
      "text/plain": [
       "tokenizer_config.json:   0%|          | 0.00/26.0 [00:00<?, ?B/s]"
      ]
     },
     "metadata": {},
     "output_type": "display_data"
    },
    {
     "data": {
      "application/vnd.jupyter.widget-view+json": {
       "model_id": "507842aafe9c4277acee184394716096",
       "version_major": 2,
       "version_minor": 0
      },
      "text/plain": [
       "vocab.json:   0%|          | 0.00/899k [00:00<?, ?B/s]"
      ]
     },
     "metadata": {},
     "output_type": "display_data"
    },
    {
     "data": {
      "application/vnd.jupyter.widget-view+json": {
       "model_id": "5f3b1d3e8df7436ca5f7082582206ea4",
       "version_major": 2,
       "version_minor": 0
      },
      "text/plain": [
       "merges.txt:   0%|          | 0.00/456k [00:00<?, ?B/s]"
      ]
     },
     "metadata": {},
     "output_type": "display_data"
    }
   ],
   "source": [
    "text_summarizer = pipeline('summarization')## uses pretrained weights for default model"
   ]
  },
  {
   "cell_type": "code",
   "execution_count": 73,
   "id": "dc044046",
   "metadata": {},
   "outputs": [
    {
     "name": "stdout",
     "output_type": "stream",
     "text": [
      "[{'summary_text': ' The tiger (Panthera tigris) is the largest living cat species and a member of the genus Panthera native to Asia . It has a powerful, muscular body with a large head and paws, a long tail, and orange fur with black, mostly vertical stripes . The tiger is an apex predator and preys mainly on ungulates such as deer and wild boar, which it takes by ambush . It is listed as Endangered on the IUCN Red List of Threatened Species .'}]\n"
     ]
    }
   ],
   "source": [
    "output = text_summarizer(text, max_length = 400, min_length = 100)\n",
    "print(output)"
   ]
  },
  {
   "cell_type": "code",
   "execution_count": null,
   "id": "5a99c2e5",
   "metadata": {},
   "outputs": [],
   "source": []
  }
 ],
 "metadata": {
  "kernelspec": {
   "display_name": "Python 3 (ipykernel)",
   "language": "python",
   "name": "python3"
  },
  "language_info": {
   "codemirror_mode": {
    "name": "ipython",
    "version": 3
   },
   "file_extension": ".py",
   "mimetype": "text/x-python",
   "name": "python",
   "nbconvert_exporter": "python",
   "pygments_lexer": "ipython3",
   "version": "3.11.8"
  }
 },
 "nbformat": 4,
 "nbformat_minor": 5
}
