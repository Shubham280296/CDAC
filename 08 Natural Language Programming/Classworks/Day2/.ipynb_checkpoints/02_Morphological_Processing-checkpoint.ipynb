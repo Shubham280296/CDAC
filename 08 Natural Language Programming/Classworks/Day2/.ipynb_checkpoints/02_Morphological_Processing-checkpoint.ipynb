{
 "cells": [
  {
   "cell_type": "code",
   "execution_count": 4,
   "metadata": {
    "colab": {
     "base_uri": "https://localhost:8080/"
    },
    "id": "B2fSrCKxicEq",
    "outputId": "7df43fcb-883a-4013-caad-1318357e3764"
   },
   "outputs": [
    {
     "name": "stdout",
     "output_type": "stream",
     "text": [
      "Requirement already satisfied: morfessor in /usr/local/lib/python3.10/dist-packages (2.0.6)\n",
      "Requirement already satisfied: polyglot in /usr/local/lib/python3.10/dist-packages (16.7.4)\n",
      "Requirement already satisfied: pyICU in /usr/local/lib/python3.10/dist-packages (2.13.1)\n",
      "Collecting pycld2\n",
      "  Downloading pycld2-0.41.tar.gz (41.4 MB)\n",
      "\u001b[2K     \u001b[90m━━━━━━━━━━━━━━━━━━━━━━━━━━━━━━━━━━━━━━━━\u001b[0m \u001b[32m41.4/41.4 MB\u001b[0m \u001b[31m30.5 MB/s\u001b[0m eta \u001b[36m0:00:00\u001b[0m\n",
      "\u001b[?25h  Preparing metadata (setup.py) ... \u001b[?25l\u001b[?25hdone\n",
      "Building wheels for collected packages: pycld2\n",
      "  Building wheel for pycld2 (setup.py) ... \u001b[?25l\u001b[?25hdone\n",
      "  Created wheel for pycld2: filename=pycld2-0.41-cp310-cp310-linux_x86_64.whl size=9904035 sha256=1cccd1ade9bf4c5b2e290607cd5a25b4326d1e585a59d29b9610b073b98feb3a\n",
      "  Stored in directory: /root/.cache/pip/wheels/be/81/31/240c89c845e008a93d98542325270007de595bfd356eb0b06c\n",
      "Successfully built pycld2\n",
      "Installing collected packages: pycld2\n",
      "Successfully installed pycld2-0.41\n"
     ]
    }
   ],
   "source": [
    "pip install morfessor polyglot pyICU pycld2"
   ]
  },
  {
   "cell_type": "code",
   "execution_count": 5,
   "metadata": {
    "colab": {
     "base_uri": "https://localhost:8080/"
    },
    "id": "_v7HlVkeihh1",
    "outputId": "ed8e4e33-83ca-4232-dbbb-120409047e14"
   },
   "outputs": [
    {
     "name": "stdout",
     "output_type": "stream",
     "text": [
      "[polyglot_data] Downloading package morph2.en to\n",
      "[polyglot_data]     /root/polyglot_data...\n",
      "[polyglot_data] Downloading package morph2.mr to\n",
      "[polyglot_data]     /root/polyglot_data...\n"
     ]
    }
   ],
   "source": [
    "%%bash\n",
    "polyglot download morph2.en morph2.mr"
   ]
  },
  {
   "cell_type": "code",
   "execution_count": 7,
   "metadata": {
    "colab": {
     "base_uri": "https://localhost:8080/"
    },
    "id": "OVAd7yrEj5a1",
    "outputId": "5d26706d-5fe5-422d-bad6-30f65559e9bc"
   },
   "outputs": [
    {
     "name": "stdout",
     "output_type": "stream",
     "text": [
      "  1. Kapampangan                2. Italian                    3. Upper Sorbian            \n",
      "  4. Sakha                      5. Hindi                      6. French                   \n",
      "  7. Spanish; Castilian         8. Vietnamese                 9. Arabic                   \n",
      " 10. Macedonian                11. Pashto, Pushto            12. Bosnian-Croatian-Serbian \n",
      " 13. Egyptian Arabic           14. Norwegian Nynorsk         15. Sundanese                \n",
      " 16. Sicilian                  17. Azerbaijani               18. Bulgarian                \n",
      " 19. Yoruba                    20. Tajik                     21. Georgian                 \n",
      " 22. Tatar                     23. Galician                  24. Malagasy                 \n",
      " 25. Uighur, Uyghur            26. Amharic                   27. Venetian                 \n",
      " 28. Yiddish                   29. Norwegian                 30. Alemannic                \n",
      " 31. Estonian                  32. West Flemish              33. Divehi; Dhivehi; Mald... \n",
      " 34. Japanese                  35. Ilokano                   36. Haitian; Haitian Creole  \n",
      " 37. Belarusian                38. Greek, Modern             39. Ossetian, Ossetic        \n",
      " 40. Welsh                     41. Malayalam                 42. Albanian                 \n",
      " 43. Marathi (Marāṭhī)         44. Armenian                  45. Slovene                  \n",
      " 46. Korean                    47. Breton                    48. Irish                    \n",
      " 49. Luxembourgish, Letzeb...  50. Bengali                   51. Serbian                  \n",
      " 52. Fiji Hindi                53. Javanese                  54. Finnish                  \n",
      " 55. Gan Chinese               56. Kirghiz, Kyrgyz           57. Catalan; Valencian       \n",
      " 58. Quechua                   59. Croatian                  60. Dutch                    \n",
      " 61. Swedish                   62. Ido                       63. Tagalog                  \n",
      " 64. Sanskrit (Saṁskṛta)       65. Piedmontese language      66. Asturian                 \n",
      " 67. Danish                    68. Cebuano                   69. Western Frisian          \n",
      " 70. Kannada                   71. Scots                     72. Maltese                  \n",
      " 73. Swahili                   74. Limburgish, Limburgan...  75. Waray-Waray              \n",
      " 76. Lombard language          77. Uzbek                     78. Kurdish                  \n",
      " 79. Latvian                   80. Burmese                   81. Aragonese                \n",
      " 82. Volapük                   83. Northern Sami             84. Faroese                  \n",
      " 85. Kazakh                    86. Telugu                    87. Ukrainian                \n",
      " 88. Assamese                  89. Chuvash                   90. Silesian                 \n",
      " 91. Turkmen                   92. Romanian, Moldavian, ...  93. Persian                  \n",
      " 94. Tibetan Standard, Tib...  95. Latin                     96. Slovak                   \n",
      " 97. Sinhala, Sinhalese        98. Bavarian                  99. Icelandic                \n",
      "100. Mongolian                101. Walloon                  102. Portuguese               \n",
      "103. Urdu                     104. Gujarati                 105. Manx                     \n",
      "106. Tamil                    107. Khmer                    108. English                  \n",
      "109. Malay                    110. Chechen                  111. Bishnupriya Manipuri     \n",
      "112. Afrikaans                113. Basque                   114. Polish                   \n",
      "115. German                   116. Esperanto                117. Indonesian               \n",
      "118. Occitan                  119. Chinese                  120. Czech                    \n",
      "121. Hebrew (modern)          122. Romansh                  123. Lithuanian               \n",
      "124. Turkish                  125. Nepali                   126. Bosnian                  \n",
      "127. Interlingua              128. Zazaki                   129. Oriya                    \n",
      "130. Hungarian                131. Scottish Gaelic; Gaelic  132. Bashkir                  \n",
      "133. Thai                     134. Panjabi, Punjabi         135. Russian                  \n",
      "\n"
     ]
    }
   ],
   "source": [
    "from polyglot.downloader import downloader\n",
    "print(downloader.supported_languages_table(\"morph2\"))"
   ]
  },
  {
   "cell_type": "code",
   "execution_count": 8,
   "metadata": {
    "id": "HMlqVfnzlQVw"
   },
   "outputs": [],
   "source": [
    "from polyglot.text import Text, Word"
   ]
  },
  {
   "cell_type": "code",
   "execution_count": 9,
   "metadata": {
    "id": "mG_Fy7OllxBH"
   },
   "outputs": [],
   "source": [
    "words  = ['cats', 'computing', 'association', 'programming', 'leadership', 'miscommunication', 'identifiable', 'psychologically', 'engineering', 'tabular', 'realistic', 'colorfulness']"
   ]
  },
  {
   "cell_type": "code",
   "execution_count": 10,
   "metadata": {
    "colab": {
     "base_uri": "https://localhost:8080/"
    },
    "id": "BhTXoJ7ImYjd",
    "outputId": "52997587-7699-401c-ca19-b761d887b07b"
   },
   "outputs": [
    {
     "name": "stdout",
     "output_type": "stream",
     "text": [
      "cats \t\t ['cat', 's']\n",
      "computing \t\t ['com', 'put', 'ing']\n",
      "association \t\t ['associ', 'ation']\n",
      "programming \t\t ['program', 'ming']\n",
      "leadership \t\t ['leader', 'ship']\n",
      "miscommunication \t\t ['mis', 'communication']\n",
      "identifiable \t\t ['identif', 'i', 'able']\n",
      "psychologically \t\t ['psycho', 'logical', 'ly']\n",
      "engineering \t\t ['engine', 'er', 'ing']\n",
      "tabular \t\t ['tab', 'ular']\n",
      "realistic \t\t ['real', 'istic']\n",
      "colorfulness \t\t ['color', 'ful', 'ness']\n"
     ]
    }
   ],
   "source": [
    "for w in words:\n",
    "  w = Word(w, language=\"en\")\n",
    "  print(w,'\\t\\t', w.morphemes)"
   ]
  },
  {
   "cell_type": "code",
   "execution_count": 12,
   "metadata": {
    "colab": {
     "base_uri": "https://localhost:8080/"
    },
    "id": "nd3NiVnYmyWr",
    "outputId": "8d654135-a1db-4637-948e-99a0b1c66a06"
   },
   "outputs": [
    {
     "name": "stdout",
     "output_type": "stream",
     "text": [
      "प्रमाणिकरण \t\t ['प्रमाण', 'िकरण']\n",
      "जलविद्यूत \t\t ['जल', 'विद', '्य', 'ू', 'त']\n",
      "राज्यशास्त्र \t\t ['राज्य', 'शास्त्र']\n",
      "जलप्राधिकरण \t\t ['जल', 'प्राधिकरण']\n",
      "मानसशास्त्रीय \t\t ['मानस', 'शास्त्र', 'ीय']\n",
      "रविवार \t\t ['रवि', 'वार']\n",
      "महाद्वीप \t\t ['महा', 'द्वीप']\n"
     ]
    }
   ],
   "source": [
    "words  = ['प्रमाणिकरण', 'जलविद्यूत', 'राज्यशास्त्र', 'जलप्राधिकरण', 'मानसशास्त्रीय', 'रविवार', 'महाद्वीप']\n",
    "for w in words:\n",
    "  w = Word(w, language=\"mr\")\n",
    "  print(w,'\\t\\t', w.morphemes)"
   ]
  },
  {
   "cell_type": "code",
   "execution_count": 15,
   "metadata": {
    "colab": {
     "base_uri": "https://localhost:8080/"
    },
    "id": "Z5ITGczPoNyS",
    "outputId": "679d015b-5d4f-446e-cc49-a4cd4bc5fa02"
   },
   "outputs": [
    {
     "data": {
      "text/plain": [
       "WordList(['We', 'will', 'meet', 'to', 'day', '.'])"
      ]
     },
     "execution_count": 15,
     "metadata": {},
     "output_type": "execute_result"
    }
   ],
   "source": [
    "blob = \"Wewillmeettoday.\"\n",
    "text = Text(blob)\n",
    "text.language=\"en\"\n",
    "text.morphemes"
   ]
  },
  {
   "cell_type": "code",
   "execution_count": null,
   "metadata": {
    "id": "x7sAh-jnpObP"
   },
   "outputs": [],
   "source": []
  }
 ],
 "metadata": {
  "colab": {
   "provenance": []
  },
  "kernelspec": {
   "display_name": "Python 3 (ipykernel)",
   "language": "python",
   "name": "python3"
  },
  "language_info": {
   "codemirror_mode": {
    "name": "ipython",
    "version": 3
   },
   "file_extension": ".py",
   "mimetype": "text/x-python",
   "name": "python",
   "nbconvert_exporter": "python",
   "pygments_lexer": "ipython3",
   "version": "3.11.8"
  }
 },
 "nbformat": 4,
 "nbformat_minor": 1
}
