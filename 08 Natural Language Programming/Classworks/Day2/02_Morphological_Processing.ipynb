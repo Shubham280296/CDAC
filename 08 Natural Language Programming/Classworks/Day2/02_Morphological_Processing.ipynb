{
 "cells": [
  {
   "cell_type": "code",
   "execution_count": 4,
   "metadata": {},
   "outputs": [
    {
     "name": "stdout",
     "output_type": "stream",
     "text": [
      "Requirement already satisfied: setuptools==70.0.0 in c:\\users\\administrator.dai-pc2\\anaconda3\\lib\\site-packages (70.0.0)Note: you may need to restart the kernel to use updated packages.\n",
      "\n"
     ]
    }
   ],
   "source": [
    "pip install setuptools==70.0.0"
   ]
  },
  {
   "cell_type": "code",
   "execution_count": 5,
   "metadata": {
    "colab": {
     "base_uri": "https://localhost:8080/"
    },
    "id": "B2fSrCKxicEq",
    "outputId": "7df43fcb-883a-4013-caad-1318357e3764"
   },
   "outputs": [
    {
     "name": "stdout",
     "output_type": "stream",
     "text": [
      "Collecting morfessor\n",
      "  Using cached Morfessor-2.0.6-py3-none-any.whl.metadata (628 bytes)\n",
      "Collecting polyglot\n",
      "  Using cached polyglot-16.7.4.tar.gz (126 kB)\n",
      "  Preparing metadata (setup.py): started\n",
      "  Preparing metadata (setup.py): finished with status 'error'\n",
      "Note: you may need to restart the kernel to use updated packages.\n"
     ]
    },
    {
     "name": "stderr",
     "output_type": "stream",
     "text": [
      "  error: subprocess-exited-with-error\n",
      "  \n",
      "  python setup.py egg_info did not run successfully.\n",
      "  exit code: 1\n",
      "  \n",
      "  [10 lines of output]\n",
      "  Traceback (most recent call last):\n",
      "    File \"<string>\", line 2, in <module>\n",
      "    File \"<pip-setuptools-caller>\", line 34, in <module>\n",
      "    File \"C:\\Users\\Administrator.DAI-PC2\\AppData\\Local\\Temp\\pip-install-fk_xxf93\\polyglot_ef97d42250c3492abf2691243cf64626\\setup.py\", line 15, in <module>\n",
      "      readme = readme_file.read()\n",
      "               ^^^^^^^^^^^^^^^^^^\n",
      "    File \"C:\\Users\\Administrator.DAI-PC2\\anaconda3\\Lib\\encodings\\cp1252.py\", line 23, in decode\n",
      "      return codecs.charmap_decode(input,self.errors,decoding_table)[0]\n",
      "             ^^^^^^^^^^^^^^^^^^^^^^^^^^^^^^^^^^^^^^^^^^^^^^^^^^^^^^^\n",
      "  UnicodeDecodeError: 'charmap' codec can't decode byte 0x81 in position 4941: character maps to <undefined>\n",
      "  [end of output]\n",
      "  \n",
      "  note: This error originates from a subprocess, and is likely not a problem with pip.\n",
      "error: metadata-generation-failed\n",
      "\n",
      "Encountered error while generating package metadata.\n",
      "\n",
      "See above for output.\n",
      "\n",
      "note: This is an issue with the package mentioned above, not pip.\n",
      "hint: See above for details.\n"
     ]
    }
   ],
   "source": [
    "pip install morfessor polyglot pyICU pycld2"
   ]
  },
  {
   "cell_type": "code",
   "execution_count": 7,
   "metadata": {},
   "outputs": [
    {
     "name": "stdout",
     "output_type": "stream",
     "text": [
      "Collecting pycld2\n",
      "  Downloading pycld2-0.41.tar.gz (41.4 MB)\n",
      "     ---------------------------------------- 0.0/41.4 MB ? eta -:--:--\n",
      "     ---------------------------------------- 0.1/41.4 MB 3.3 MB/s eta 0:00:13\n",
      "     ---------------------------------------- 0.4/41.4 MB 5.0 MB/s eta 0:00:09\n",
      "     - -------------------------------------- 1.1/41.4 MB 8.0 MB/s eta 0:00:06\n",
      "     -- ------------------------------------- 2.3/41.4 MB 13.0 MB/s eta 0:00:04\n",
      "     ---- ----------------------------------- 4.6/41.4 MB 20.9 MB/s eta 0:00:02\n",
      "     -------- ------------------------------- 8.4/41.4 MB 31.6 MB/s eta 0:00:02\n",
      "     ---------- ---------------------------- 11.4/41.4 MB 65.6 MB/s eta 0:00:01\n",
      "     --------------- ---------------------- 16.9/41.4 MB 108.8 MB/s eta 0:00:01\n",
      "     -------------------- ------------------ 21.5/41.4 MB 93.9 MB/s eta 0:00:01\n",
      "     -------------------- ------------------ 21.5/41.4 MB 93.9 MB/s eta 0:00:01\n",
      "     -------------------- ------------------ 22.2/41.4 MB 59.5 MB/s eta 0:00:01\n",
      "     ------------------------ -------------- 25.6/41.4 MB 59.8 MB/s eta 0:00:01\n",
      "     ----------------------------- --------- 31.4/41.4 MB 65.6 MB/s eta 0:00:01\n",
      "     ---------------------------------- --- 37.4/41.4 MB 131.2 MB/s eta 0:00:01\n",
      "     -------------------------------------  41.4/41.4 MB 131.2 MB/s eta 0:00:01\n",
      "     -------------------------------------  41.4/41.4 MB 131.2 MB/s eta 0:00:01\n",
      "     -------------------------------------  41.4/41.4 MB 131.2 MB/s eta 0:00:01\n",
      "     -------------------------------------  41.4/41.4 MB 131.2 MB/s eta 0:00:01\n",
      "     --------------------------------------- 41.4/41.4 MB 43.5 MB/s eta 0:00:00\n",
      "  Preparing metadata (setup.py): started\n",
      "  Preparing metadata (setup.py): finished with status 'done'\n",
      "Building wheels for collected packages: pycld2\n",
      "  Building wheel for pycld2 (setup.py): started\n",
      "  Building wheel for pycld2 (setup.py): finished with status 'error'\n",
      "  Running setup.py clean for pycld2\n",
      "Failed to build pycld2\n",
      "Note: you may need to restart the kernel to use updated packages.\n"
     ]
    },
    {
     "name": "stderr",
     "output_type": "stream",
     "text": [
      "  error: subprocess-exited-with-error\n",
      "  \n",
      "  python setup.py bdist_wheel did not run successfully.\n",
      "  exit code: 1\n",
      "  \n",
      "  [11 lines of output]\n",
      "  running bdist_wheel\n",
      "  The [wheel] section is deprecated. Use [bdist_wheel] instead.\n",
      "  running build\n",
      "  running build_py\n",
      "  creating build\n",
      "  creating build\\lib.win-amd64-cpython-311\n",
      "  creating build\\lib.win-amd64-cpython-311\\pycld2\n",
      "  copying pycld2\\__init__.py -> build\\lib.win-amd64-cpython-311\\pycld2\n",
      "  running build_ext\n",
      "  building 'pycld2._pycld2' extension\n",
      "  error: Microsoft Visual C++ 14.0 or greater is required. Get it with \"Microsoft C++ Build Tools\": https://visualstudio.microsoft.com/visual-cpp-build-tools/\n",
      "  [end of output]\n",
      "  \n",
      "  note: This error originates from a subprocess, and is likely not a problem with pip.\n",
      "  ERROR: Failed building wheel for pycld2\n",
      "ERROR: Could not build wheels for pycld2, which is required to install pyproject.toml-based projects\n"
     ]
    }
   ],
   "source": [
    "pip install pycld2"
   ]
  },
  {
   "cell_type": "code",
   "execution_count": 2,
   "metadata": {
    "colab": {
     "base_uri": "https://localhost:8080/"
    },
    "id": "_v7HlVkeihh1",
    "outputId": "ed8e4e33-83ca-4232-dbbb-120409047e14"
   },
   "outputs": [
    {
     "name": "stdout",
     "output_type": "stream",
     "text": [
      "Couldn't find program: 'bash'\n"
     ]
    }
   ],
   "source": [
    "%%bash\n",
    "polyglot download morph2.en morph2.mr"
   ]
  },
  {
   "cell_type": "code",
   "execution_count": 3,
   "metadata": {
    "colab": {
     "base_uri": "https://localhost:8080/"
    },
    "id": "OVAd7yrEj5a1",
    "outputId": "5d26706d-5fe5-422d-bad6-30f65559e9bc"
   },
   "outputs": [
    {
     "ename": "ModuleNotFoundError",
     "evalue": "No module named 'polyglot'",
     "output_type": "error",
     "traceback": [
      "\u001b[1;31m---------------------------------------------------------------------------\u001b[0m",
      "\u001b[1;31mModuleNotFoundError\u001b[0m                       Traceback (most recent call last)",
      "Cell \u001b[1;32mIn[3], line 1\u001b[0m\n\u001b[1;32m----> 1\u001b[0m \u001b[38;5;28;01mfrom\u001b[39;00m \u001b[38;5;21;01mpolyglot\u001b[39;00m\u001b[38;5;21;01m.\u001b[39;00m\u001b[38;5;21;01mdownloader\u001b[39;00m \u001b[38;5;28;01mimport\u001b[39;00m downloader\n\u001b[0;32m      2\u001b[0m \u001b[38;5;28mprint\u001b[39m(downloader\u001b[38;5;241m.\u001b[39msupported_languages_table(\u001b[38;5;124m\"\u001b[39m\u001b[38;5;124mmorph2\u001b[39m\u001b[38;5;124m\"\u001b[39m))\n",
      "\u001b[1;31mModuleNotFoundError\u001b[0m: No module named 'polyglot'"
     ]
    }
   ],
   "source": [
    "from polyglot.downloader import downloader\n",
    "print(downloader.supported_languages_table(\"morph2\"))"
   ]
  },
  {
   "cell_type": "code",
   "execution_count": 8,
   "metadata": {
    "id": "HMlqVfnzlQVw"
   },
   "outputs": [],
   "source": [
    "from polyglot.text import Text, Word"
   ]
  },
  {
   "cell_type": "code",
   "execution_count": 9,
   "metadata": {
    "id": "mG_Fy7OllxBH"
   },
   "outputs": [],
   "source": [
    "words  = ['cats', 'computing', 'association', 'programming', 'leadership', 'miscommunication', 'identifiable', 'psychologically', 'engineering', 'tabular', 'realistic', 'colorfulness']"
   ]
  },
  {
   "cell_type": "code",
   "execution_count": 10,
   "metadata": {
    "colab": {
     "base_uri": "https://localhost:8080/"
    },
    "id": "BhTXoJ7ImYjd",
    "outputId": "52997587-7699-401c-ca19-b761d887b07b"
   },
   "outputs": [
    {
     "name": "stdout",
     "output_type": "stream",
     "text": [
      "cats \t\t ['cat', 's']\n",
      "computing \t\t ['com', 'put', 'ing']\n",
      "association \t\t ['associ', 'ation']\n",
      "programming \t\t ['program', 'ming']\n",
      "leadership \t\t ['leader', 'ship']\n",
      "miscommunication \t\t ['mis', 'communication']\n",
      "identifiable \t\t ['identif', 'i', 'able']\n",
      "psychologically \t\t ['psycho', 'logical', 'ly']\n",
      "engineering \t\t ['engine', 'er', 'ing']\n",
      "tabular \t\t ['tab', 'ular']\n",
      "realistic \t\t ['real', 'istic']\n",
      "colorfulness \t\t ['color', 'ful', 'ness']\n"
     ]
    }
   ],
   "source": [
    "for w in words:\n",
    "  w = Word(w, language=\"en\")\n",
    "  print(w,'\\t\\t', w.morphemes)"
   ]
  },
  {
   "cell_type": "code",
   "execution_count": 12,
   "metadata": {
    "colab": {
     "base_uri": "https://localhost:8080/"
    },
    "id": "nd3NiVnYmyWr",
    "outputId": "8d654135-a1db-4637-948e-99a0b1c66a06"
   },
   "outputs": [
    {
     "name": "stdout",
     "output_type": "stream",
     "text": [
      "प्रमाणिकरण \t\t ['प्रमाण', 'िकरण']\n",
      "जलविद्यूत \t\t ['जल', 'विद', '्य', 'ू', 'त']\n",
      "राज्यशास्त्र \t\t ['राज्य', 'शास्त्र']\n",
      "जलप्राधिकरण \t\t ['जल', 'प्राधिकरण']\n",
      "मानसशास्त्रीय \t\t ['मानस', 'शास्त्र', 'ीय']\n",
      "रविवार \t\t ['रवि', 'वार']\n",
      "महाद्वीप \t\t ['महा', 'द्वीप']\n"
     ]
    }
   ],
   "source": [
    "words  = ['प्रमाणिकरण', 'जलविद्यूत', 'राज्यशास्त्र', 'जलप्राधिकरण', 'मानसशास्त्रीय', 'रविवार', 'महाद्वीप']\n",
    "for w in words:\n",
    "  w = Word(w, language=\"mr\")\n",
    "  print(w,'\\t\\t', w.morphemes)"
   ]
  },
  {
   "cell_type": "code",
   "execution_count": 15,
   "metadata": {
    "colab": {
     "base_uri": "https://localhost:8080/"
    },
    "id": "Z5ITGczPoNyS",
    "outputId": "679d015b-5d4f-446e-cc49-a4cd4bc5fa02"
   },
   "outputs": [
    {
     "data": {
      "text/plain": [
       "WordList(['We', 'will', 'meet', 'to', 'day', '.'])"
      ]
     },
     "execution_count": 15,
     "metadata": {},
     "output_type": "execute_result"
    }
   ],
   "source": [
    "blob = \"Wewillmeettoday.\"\n",
    "text = Text(blob)\n",
    "text.language=\"en\"\n",
    "text.morphemes"
   ]
  },
  {
   "cell_type": "code",
   "execution_count": null,
   "metadata": {
    "id": "x7sAh-jnpObP"
   },
   "outputs": [],
   "source": []
  }
 ],
 "metadata": {
  "colab": {
   "provenance": []
  },
  "kernelspec": {
   "display_name": "Python 3 (ipykernel)",
   "language": "python",
   "name": "python3"
  },
  "language_info": {
   "codemirror_mode": {
    "name": "ipython",
    "version": 3
   },
   "file_extension": ".py",
   "mimetype": "text/x-python",
   "name": "python",
   "nbconvert_exporter": "python",
   "pygments_lexer": "ipython3",
   "version": "3.11.7"
  }
 },
 "nbformat": 4,
 "nbformat_minor": 4
}
