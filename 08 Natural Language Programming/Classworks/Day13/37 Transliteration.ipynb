{
 "cells": [
  {
   "cell_type": "markdown",
   "id": "8ac535b7-8dff-4fae-a3a6-14a6dd57f076",
   "metadata": {},
   "source": [
    "### Install library"
   ]
  },
  {
   "cell_type": "code",
   "execution_count": 1,
   "id": "4f0ac121-e05d-4e13-a998-cae913e9a9ac",
   "metadata": {},
   "outputs": [
    {
     "name": "stdout",
     "output_type": "stream",
     "text": [
      "Collecting indic_transliteration\n",
      "  Downloading indic_transliteration-2.3.59-py3-none-any.whl.metadata (1.4 kB)\n",
      "Requirement already satisfied: backports.functools-lru-cache in c:\\users\\administrator.dai-pc2\\anaconda3\\lib\\site-packages (from indic_transliteration) (1.6.4)\n",
      "Requirement already satisfied: regex in c:\\users\\administrator.dai-pc2\\anaconda3\\lib\\site-packages (from indic_transliteration) (2023.10.3)\n",
      "Requirement already satisfied: typer in c:\\users\\administrator.dai-pc2\\anaconda3\\lib\\site-packages (from indic_transliteration) (0.12.3)\n",
      "Requirement already satisfied: toml in c:\\users\\administrator.dai-pc2\\anaconda3\\lib\\site-packages (from indic_transliteration) (0.10.2)\n",
      "Collecting roman (from indic_transliteration)\n",
      "  Downloading roman-4.2-py3-none-any.whl.metadata (3.6 kB)\n",
      "Requirement already satisfied: click>=8.0.0 in c:\\users\\administrator.dai-pc2\\anaconda3\\lib\\site-packages (from typer->indic_transliteration) (8.1.7)\n",
      "Requirement already satisfied: typing-extensions>=3.7.4.3 in c:\\users\\administrator.dai-pc2\\anaconda3\\lib\\site-packages (from typer->indic_transliteration) (4.9.0)\n",
      "Requirement already satisfied: shellingham>=1.3.0 in c:\\users\\administrator.dai-pc2\\anaconda3\\lib\\site-packages (from typer->indic_transliteration) (1.5.4)\n",
      "Requirement already satisfied: rich>=10.11.0 in c:\\users\\administrator.dai-pc2\\anaconda3\\lib\\site-packages (from typer->indic_transliteration) (13.3.5)\n",
      "Requirement already satisfied: colorama in c:\\users\\administrator.dai-pc2\\anaconda3\\lib\\site-packages (from click>=8.0.0->typer->indic_transliteration) (0.4.6)\n",
      "Requirement already satisfied: markdown-it-py<3.0.0,>=2.2.0 in c:\\users\\administrator.dai-pc2\\anaconda3\\lib\\site-packages (from rich>=10.11.0->typer->indic_transliteration) (2.2.0)\n",
      "Requirement already satisfied: pygments<3.0.0,>=2.13.0 in c:\\users\\administrator.dai-pc2\\anaconda3\\lib\\site-packages (from rich>=10.11.0->typer->indic_transliteration) (2.15.1)\n",
      "Requirement already satisfied: mdurl~=0.1 in c:\\users\\administrator.dai-pc2\\anaconda3\\lib\\site-packages (from markdown-it-py<3.0.0,>=2.2.0->rich>=10.11.0->typer->indic_transliteration) (0.1.0)\n",
      "Downloading indic_transliteration-2.3.59-py3-none-any.whl (152 kB)\n",
      "   ---------------------------------------- 0.0/152.1 kB ? eta -:--:--\n",
      "   ------------------------------------- -- 143.4/152.1 kB 4.2 MB/s eta 0:00:01\n",
      "   ---------------------------------------- 152.1/152.1 kB 2.3 MB/s eta 0:00:00\n",
      "Downloading roman-4.2-py3-none-any.whl (5.5 kB)\n",
      "Installing collected packages: roman, indic_transliteration\n",
      "Successfully installed indic_transliteration-2.3.59 roman-4.2\n",
      "Note: you may need to restart the kernel to use updated packages.\n"
     ]
    }
   ],
   "source": [
    "pip install indic_transliteration"
   ]
  },
  {
   "cell_type": "code",
   "execution_count": 1,
   "id": "2c0eca14-a63b-46be-a523-d8a52e61926f",
   "metadata": {},
   "outputs": [],
   "source": [
    "from indic_transliteration import sanscript\n",
    "from indic_transliteration.sanscript import transliterate"
   ]
  },
  {
   "cell_type": "code",
   "execution_count": 4,
   "id": "9f33a386-79f0-422f-9a97-0cefe23878bd",
   "metadata": {},
   "outputs": [
    {
     "name": "stdout",
     "output_type": "stream",
     "text": [
      "शुभम्\n"
     ]
    }
   ],
   "source": [
    "data = 'shubham'\n",
    "print(transliterate(data, sanscript.ITRANS, sanscript.DEVANAGARI))"
   ]
  },
  {
   "cell_type": "code",
   "execution_count": 5,
   "id": "33279683-dda8-4f08-a091-66cbb29f51b2",
   "metadata": {},
   "outputs": [
    {
     "name": "stdout",
     "output_type": "stream",
     "text": [
      "अतिशयोक्ति\n"
     ]
    }
   ],
   "source": [
    "data = 'atishayokti'\n",
    "print(transliterate(data, sanscript.ITRANS, sanscript.DEVANAGARI))"
   ]
  },
  {
   "cell_type": "code",
   "execution_count": 7,
   "id": "b1bb3365-dc4a-432b-a1b1-0c36a4532f83",
   "metadata": {},
   "outputs": [
    {
     "name": "stdout",
     "output_type": "stream",
     "text": [
      "अक्शम्य\n"
     ]
    }
   ],
   "source": [
    "data = 'akshamya'\n",
    "print(transliterate(data, sanscript.ITRANS, sanscript.DEVANAGARI))"
   ]
  },
  {
   "cell_type": "code",
   "execution_count": 10,
   "id": "6de51c0e-bc4c-4ed3-b279-acb75643175a",
   "metadata": {},
   "outputs": [
    {
     "name": "stdout",
     "output_type": "stream",
     "text": [
      "अस्खलित\n"
     ]
    }
   ],
   "source": [
    "data = 'askhalita'\n",
    "print(transliterate(data, sanscript.ITRANS, sanscript.DEVANAGARI))"
   ]
  },
  {
   "cell_type": "code",
   "execution_count": 11,
   "id": "acde1e2c-4454-4687-864b-55d5cf7cd95e",
   "metadata": {},
   "outputs": [
    {
     "name": "stdout",
     "output_type": "stream",
     "text": [
      "বন্গ্ল\n"
     ]
    }
   ],
   "source": [
    "data = 'bangla'\n",
    "print(transliterate(data, sanscript.ITRANS, sanscript.BENGALI))"
   ]
  },
  {
   "cell_type": "code",
   "execution_count": 13,
   "id": "ba7b9b81-4f41-4907-94a5-b4e81e99201f",
   "metadata": {},
   "outputs": [
    {
     "name": "stdin",
     "output_type": "stream",
     "text": [
      "Enter your name :  puNe\n"
     ]
    },
    {
     "name": "stdout",
     "output_type": "stream",
     "text": [
      "पुणे\n"
     ]
    }
   ],
   "source": [
    "data = input('Enter your name : ')\n",
    "print(transliterate(data, sanscript.ITRANS, sanscript.DEVANAGARI))"
   ]
  },
  {
   "cell_type": "code",
   "execution_count": null,
   "id": "6a48b097-76a8-4cd8-9f57-59ceafef6b54",
   "metadata": {},
   "outputs": [],
   "source": []
  }
 ],
 "metadata": {
  "kernelspec": {
   "display_name": "Python 3 (ipykernel)",
   "language": "python",
   "name": "python3"
  },
  "language_info": {
   "codemirror_mode": {
    "name": "ipython",
    "version": 3
   },
   "file_extension": ".py",
   "mimetype": "text/x-python",
   "name": "python",
   "nbconvert_exporter": "python",
   "pygments_lexer": "ipython3",
   "version": "3.11.7"
  },
  "widgets": {
   "application/vnd.jupyter.widget-state+json": {
    "state": {},
    "version_major": 2,
    "version_minor": 0
   }
  }
 },
 "nbformat": 4,
 "nbformat_minor": 5
}
