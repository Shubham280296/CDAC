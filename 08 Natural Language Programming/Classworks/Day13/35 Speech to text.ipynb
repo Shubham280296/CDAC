{
 "cells": [
  {
   "cell_type": "markdown",
   "id": "cd4bef2f-47f7-42ed-9aa1-18040ec48560",
   "metadata": {},
   "source": [
    "# Install libraries"
   ]
  },
  {
   "cell_type": "code",
   "execution_count": 1,
   "id": "b8dbaced-3a55-416a-89bf-1edfbdb269a9",
   "metadata": {},
   "outputs": [
    {
     "name": "stdout",
     "output_type": "stream",
     "text": [
      "Requirement already satisfied: SpeechRecognition in c:\\users\\administrator.dai-pc2\\anaconda3\\lib\\site-packages (3.10.4)Note: you may need to restart the kernel to use updated packages.\n",
      "\n",
      "Requirement already satisfied: PyAudio in c:\\users\\administrator.dai-pc2\\anaconda3\\lib\\site-packages (0.2.14)\n",
      "Requirement already satisfied: requests>=2.26.0 in c:\\users\\administrator.dai-pc2\\anaconda3\\lib\\site-packages (from SpeechRecognition) (2.31.0)\n",
      "Requirement already satisfied: typing-extensions in c:\\users\\administrator.dai-pc2\\anaconda3\\lib\\site-packages (from SpeechRecognition) (4.9.0)\n",
      "Requirement already satisfied: charset-normalizer<4,>=2 in c:\\users\\administrator.dai-pc2\\anaconda3\\lib\\site-packages (from requests>=2.26.0->SpeechRecognition) (2.0.4)\n",
      "Requirement already satisfied: idna<4,>=2.5 in c:\\users\\administrator.dai-pc2\\anaconda3\\lib\\site-packages (from requests>=2.26.0->SpeechRecognition) (3.4)\n",
      "Requirement already satisfied: urllib3<3,>=1.21.1 in c:\\users\\administrator.dai-pc2\\anaconda3\\lib\\site-packages (from requests>=2.26.0->SpeechRecognition) (2.0.7)\n",
      "Requirement already satisfied: certifi>=2017.4.17 in c:\\users\\administrator.dai-pc2\\anaconda3\\lib\\site-packages (from requests>=2.26.0->SpeechRecognition) (2024.6.2)\n"
     ]
    }
   ],
   "source": [
    "pip install SpeechRecognition PyAudio"
   ]
  },
  {
   "cell_type": "markdown",
   "id": "729e7a0b-cb60-4f5b-9d7a-fbe86820b008",
   "metadata": {},
   "source": [
    "## Import thr package"
   ]
  },
  {
   "cell_type": "code",
   "execution_count": 9,
   "id": "dc1fc44b-9df1-4041-96df-4ee72ded4437",
   "metadata": {},
   "outputs": [],
   "source": [
    "import speech_recognition as sr"
   ]
  },
  {
   "cell_type": "markdown",
   "id": "4ba92d7d-8856-423b-8e02-4d19ea88edec",
   "metadata": {},
   "source": [
    "### Create object of microphone"
   ]
  },
  {
   "cell_type": "code",
   "execution_count": 10,
   "id": "62e92fc0-190f-48b9-9fa6-0966e4753440",
   "metadata": {},
   "outputs": [],
   "source": [
    "r = sr.Recognizer()"
   ]
  },
  {
   "cell_type": "markdown",
   "id": "c455ae74-b088-487f-b357-a03baa29937c",
   "metadata": {},
   "source": [
    "### Open microphone, recognize and convert"
   ]
  },
  {
   "cell_type": "code",
   "execution_count": 16,
   "id": "deea123f-4dbc-46ab-b7c4-b41326f22bcf",
   "metadata": {},
   "outputs": [
    {
     "name": "stdout",
     "output_type": "stream",
     "text": [
      "Speak : \n",
      "You said :  hey there how are you doing\n"
     ]
    }
   ],
   "source": [
    "with sr.Microphone() as source:\n",
    "    print(\"Speak : \")\n",
    "    audio = r.listen(source)\n",
    "    print(\"You said : \", r.recognize_google(audio))"
   ]
  },
  {
   "cell_type": "code",
   "execution_count": null,
   "id": "c8da10f6-e857-4552-9a8b-3654ae8cb47c",
   "metadata": {},
   "outputs": [],
   "source": []
  }
 ],
 "metadata": {
  "kernelspec": {
   "display_name": "Python 3 (ipykernel)",
   "language": "python",
   "name": "python3"
  },
  "language_info": {
   "codemirror_mode": {
    "name": "ipython",
    "version": 3
   },
   "file_extension": ".py",
   "mimetype": "text/x-python",
   "name": "python",
   "nbconvert_exporter": "python",
   "pygments_lexer": "ipython3",
   "version": "3.11.7"
  },
  "widgets": {
   "application/vnd.jupyter.widget-state+json": {
    "state": {},
    "version_major": 2,
    "version_minor": 0
   }
  }
 },
 "nbformat": 4,
 "nbformat_minor": 5
}
