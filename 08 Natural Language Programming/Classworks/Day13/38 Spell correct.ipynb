{
 "cells": [
  {
   "cell_type": "code",
   "execution_count": 1,
   "id": "71f442a1-0c88-4e53-8269-a29c7b9d2da0",
   "metadata": {},
   "outputs": [],
   "source": [
    "from textblob import TextBlob"
   ]
  },
  {
   "cell_type": "code",
   "execution_count": 5,
   "id": "d43f7e17-f64a-4b0f-a290-c506472f3069",
   "metadata": {},
   "outputs": [
    {
     "data": {
      "text/plain": [
       "TextBlob(\"computer\")"
      ]
     },
     "execution_count": 5,
     "metadata": {},
     "output_type": "execute_result"
    }
   ],
   "source": [
    "text = TextBlob('computar')\n",
    "text.correct()"
   ]
  },
  {
   "cell_type": "code",
   "execution_count": 6,
   "id": "5db0d874-66d5-4dae-8959-f86908435cee",
   "metadata": {},
   "outputs": [
    {
     "data": {
      "text/plain": [
       "TextBlob(\"computer\")"
      ]
     },
     "execution_count": 6,
     "metadata": {},
     "output_type": "execute_result"
    }
   ],
   "source": [
    "text = TextBlob('komputar')\n",
    "text.correct()"
   ]
  },
  {
   "cell_type": "code",
   "execution_count": 12,
   "id": "6893d789-96c3-4836-90af-21da38976f10",
   "metadata": {},
   "outputs": [
    {
     "data": {
      "text/plain": [
       "TextBlob(\"They were playing on the ground.\")"
      ]
     },
     "execution_count": 12,
     "metadata": {},
     "output_type": "execute_result"
    }
   ],
   "source": [
    "text = TextBlob('They were plyaing on the geround.')\n",
    "text.correct()"
   ]
  },
  {
   "cell_type": "code",
   "execution_count": 13,
   "id": "24351a4f-ddb9-4697-a777-a81821f822e4",
   "metadata": {},
   "outputs": [
    {
     "data": {
      "text/plain": [
       "[('They', 'PRP'),\n",
       " ('were', 'VBD'),\n",
       " ('plyaing', 'VBG'),\n",
       " ('on', 'IN'),\n",
       " ('the', 'DT'),\n",
       " ('geround', 'NN')]"
      ]
     },
     "execution_count": 13,
     "metadata": {},
     "output_type": "execute_result"
    }
   ],
   "source": [
    "text.pos_tags"
   ]
  },
  {
   "cell_type": "code",
   "execution_count": 14,
   "id": "526a51a7-2825-4108-9b2f-2e4836ed3d55",
   "metadata": {},
   "outputs": [
    {
     "data": {
      "text/plain": [
       "WordList(['They', 'were', 'plyaing', 'on', 'the', 'geround', '.'])"
      ]
     },
     "execution_count": 14,
     "metadata": {},
     "output_type": "execute_result"
    }
   ],
   "source": [
    "text.tokenize()"
   ]
  },
  {
   "cell_type": "code",
   "execution_count": null,
   "id": "e48fdfee-4948-48f9-b902-e4e8cd3dc499",
   "metadata": {},
   "outputs": [],
   "source": []
  }
 ],
 "metadata": {
  "kernelspec": {
   "display_name": "Python 3 (ipykernel)",
   "language": "python",
   "name": "python3"
  },
  "language_info": {
   "codemirror_mode": {
    "name": "ipython",
    "version": 3
   },
   "file_extension": ".py",
   "mimetype": "text/x-python",
   "name": "python",
   "nbconvert_exporter": "python",
   "pygments_lexer": "ipython3",
   "version": "3.11.7"
  },
  "widgets": {
   "application/vnd.jupyter.widget-state+json": {
    "state": {},
    "version_major": 2,
    "version_minor": 0
   }
  }
 },
 "nbformat": 4,
 "nbformat_minor": 5
}
