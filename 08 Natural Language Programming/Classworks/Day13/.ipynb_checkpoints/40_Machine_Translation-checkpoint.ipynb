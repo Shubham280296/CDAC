{
  "nbformat": 4,
  "nbformat_minor": 0,
  "metadata": {
    "colab": {
      "provenance": []
    },
    "kernelspec": {
      "name": "python3",
      "display_name": "Python 3"
    },
    "language_info": {
      "name": "python"
    }
  },
  "cells": [
    {
      "cell_type": "code",
      "execution_count": 1,
      "metadata": {
        "colab": {
          "base_uri": "https://localhost:8080/"
        },
        "id": "ruD0gElGwuDs",
        "outputId": "670a450d-171f-4aa2-ef82-636b5601d9b0"
      },
      "outputs": [
        {
          "output_type": "stream",
          "name": "stdout",
          "text": [
            "Requirement already satisfied: goslate in /usr/local/lib/python3.10/dist-packages (1.5.4)\n",
            "Requirement already satisfied: futures in /usr/local/lib/python3.10/dist-packages (from goslate) (3.0.5)\n"
          ]
        }
      ],
      "source": [
        "pip install goslate"
      ]
    },
    {
      "cell_type": "code",
      "source": [
        "from goslate import Goslate\n",
        "from textblob import TextBlob\n",
        "\n",
        "import nltk\n",
        "nltk.download('punkt')"
      ],
      "metadata": {
        "colab": {
          "base_uri": "https://localhost:8080/"
        },
        "id": "hgUrimLOwvj_",
        "outputId": "7b429d36-6b8a-478c-975a-e3c2f715d645"
      },
      "execution_count": 10,
      "outputs": [
        {
          "output_type": "stream",
          "name": "stderr",
          "text": [
            "[nltk_data] Downloading package punkt to /root/nltk_data...\n",
            "[nltk_data]   Unzipping tokenizers/punkt.zip.\n"
          ]
        },
        {
          "output_type": "execute_result",
          "data": {
            "text/plain": [
              "True"
            ]
          },
          "metadata": {},
          "execution_count": 10
        }
      ]
    },
    {
      "cell_type": "code",
      "source": [
        "trans = Goslate()\n",
        "text = 'Hello friends. I am your teacher. I will teach this course'\n",
        "trans.translate(text, 'mr')"
      ],
      "metadata": {
        "colab": {
          "base_uri": "https://localhost:8080/",
          "height": 35
        },
        "id": "wJSMAsHOw0Uq",
        "outputId": "c5555ca3-4ba9-4158-b1dd-69a4f0ee197c"
      },
      "execution_count": 4,
      "outputs": [
        {
          "output_type": "execute_result",
          "data": {
            "text/plain": [
              "'हॅलो फ्रियन्स. मी तुमचा शिक्षक आहे. मी हा कोर्स शिकवीन'"
            ],
            "application/vnd.google.colaboratory.intrinsic+json": {
              "type": "string"
            }
          },
          "metadata": {},
          "execution_count": 4
        }
      ]
    },
    {
      "cell_type": "code",
      "source": [
        "text = 'Hello friens. I am your teacher. I will teach this course'\n",
        "trans.translate(text, 'gu')"
      ],
      "metadata": {
        "colab": {
          "base_uri": "https://localhost:8080/",
          "height": 35
        },
        "id": "USrFPpySxLrV",
        "outputId": "235b7e06-e482-4bce-92e2-ac045bbf4a78"
      },
      "execution_count": 5,
      "outputs": [
        {
          "output_type": "execute_result",
          "data": {
            "text/plain": [
              "'હેલો ફ્રિન્સ. હું તમારો શિક્ષક છું. હું આ કોર્સ શીખવીશ'"
            ],
            "application/vnd.google.colaboratory.intrinsic+json": {
              "type": "string"
            }
          },
          "metadata": {},
          "execution_count": 5
        }
      ]
    },
    {
      "cell_type": "code",
      "source": [
        "text = 'He yelled, \"Crusio!\". The sudden pain made her faint.'\n",
        "TextBlob(text).translate(from_lang='en', to= 'mr').raw_sentences"
      ],
      "metadata": {
        "colab": {
          "base_uri": "https://localhost:8080/"
        },
        "id": "J8mNOQqIxW-u",
        "outputId": "2eb8f440-4079-4533-9657-b54ad13d2d33"
      },
      "execution_count": 11,
      "outputs": [
        {
          "output_type": "execute_result",
          "data": {
            "text/plain": [
              "['तो ओरडला, \"क्रूसिओ!\".', 'अचानक वेदना तिला अशक्त झाली.']"
            ]
          },
          "metadata": {},
          "execution_count": 11
        }
      ]
    },
    {
      "cell_type": "code",
      "source": [
        "TextBlob(\"The boy who lived comes to die.\").translate(from_lang='en', to= 'mr').raw_sentences"
      ],
      "metadata": {
        "colab": {
          "base_uri": "https://localhost:8080/"
        },
        "id": "rEsg0loSxocR",
        "outputId": "1e6a991e-72d7-42da-db12-9ff156238655"
      },
      "execution_count": 12,
      "outputs": [
        {
          "output_type": "execute_result",
          "data": {
            "text/plain": [
              "['राहणारा मुलगा मरणार आहे.']"
            ]
          },
          "metadata": {},
          "execution_count": 12
        }
      ]
    },
    {
      "cell_type": "code",
      "source": [
        "TextBlob( 'Hello friends. I am your teacher. I will teach this course').translate(from_lang='en', to= 'mr').raw_sentences"
      ],
      "metadata": {
        "colab": {
          "base_uri": "https://localhost:8080/"
        },
        "id": "6q2XFE_QzAKC",
        "outputId": "2c62b777-d005-4674-f05a-35042a8cb3cd"
      },
      "execution_count": 15,
      "outputs": [
        {
          "output_type": "execute_result",
          "data": {
            "text/plain": [
              "['नमस्कार मित्रांनो.', 'मी तुमचा शिक्षक आहे.', 'मी हा कोर्स शिकवीन']"
            ]
          },
          "metadata": {},
          "execution_count": 15
        }
      ]
    },
    {
      "cell_type": "code",
      "source": [],
      "metadata": {
        "id": "dhLWMbl1zXw7"
      },
      "execution_count": null,
      "outputs": []
    }
  ]
}