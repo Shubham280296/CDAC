{
 "cells": [
  {
   "cell_type": "markdown",
   "id": "78cc837b-dac7-48ff-9c31-fa96d37bd1aa",
   "metadata": {},
   "source": [
    "### Install Libraries"
   ]
  },
  {
   "cell_type": "code",
   "execution_count": 1,
   "id": "8b2427ea-2f0d-4ae5-a60c-ef60812d0516",
   "metadata": {},
   "outputs": [
    {
     "name": "stdout",
     "output_type": "stream",
     "text": [
      "Requirement already satisfied: gtts in c:\\users\\administrator.dai-pc2\\anaconda3\\lib\\site-packages (2.5.1)\n",
      "Requirement already satisfied: playsound in c:\\users\\administrator.dai-pc2\\anaconda3\\lib\\site-packages (1.2.2)\n",
      "Requirement already satisfied: requests<3,>=2.27 in c:\\users\\administrator.dai-pc2\\anaconda3\\lib\\site-packages (from gtts) (2.31.0)\n",
      "Requirement already satisfied: click<8.2,>=7.1 in c:\\users\\administrator.dai-pc2\\anaconda3\\lib\\site-packages (from gtts) (8.1.7)\n",
      "Requirement already satisfied: colorama in c:\\users\\administrator.dai-pc2\\anaconda3\\lib\\site-packages (from click<8.2,>=7.1->gtts) (0.4.6)\n",
      "Requirement already satisfied: charset-normalizer<4,>=2 in c:\\users\\administrator.dai-pc2\\anaconda3\\lib\\site-packages (from requests<3,>=2.27->gtts) (2.0.4)\n",
      "Requirement already satisfied: idna<4,>=2.5 in c:\\users\\administrator.dai-pc2\\anaconda3\\lib\\site-packages (from requests<3,>=2.27->gtts) (3.4)\n",
      "Requirement already satisfied: urllib3<3,>=1.21.1 in c:\\users\\administrator.dai-pc2\\anaconda3\\lib\\site-packages (from requests<3,>=2.27->gtts) (2.0.7)\n",
      "Requirement already satisfied: certifi>=2017.4.17 in c:\\users\\administrator.dai-pc2\\anaconda3\\lib\\site-packages (from requests<3,>=2.27->gtts) (2024.6.2)\n",
      "Note: you may need to restart the kernel to use updated packages.\n"
     ]
    }
   ],
   "source": [
    "pip install gtts playsound"
   ]
  },
  {
   "cell_type": "markdown",
   "id": "f080321a-b316-4dd1-a707-d7fb7718d8ba",
   "metadata": {},
   "source": [
    "### Import classes"
   ]
  },
  {
   "cell_type": "code",
   "execution_count": 2,
   "id": "edf094e0-9185-4c22-8bf9-3c79a04b28ee",
   "metadata": {},
   "outputs": [],
   "source": [
    "from gtts import gTTS  ## Class\n",
    "from playsound import playsound"
   ]
  },
  {
   "cell_type": "markdown",
   "id": "18d3f7bd-8213-4967-8c8f-1fe1f8300641",
   "metadata": {},
   "source": [
    "### Create the object"
   ]
  },
  {
   "cell_type": "code",
   "execution_count": 3,
   "id": "9c6ac7ac-510f-445b-b979-82dcd688c814",
   "metadata": {},
   "outputs": [],
   "source": [
    "tts = gTTS(text = 'Hello friends, how are you?', lang = 'en', slow=False)"
   ]
  },
  {
   "cell_type": "markdown",
   "id": "63f55deb-9d79-47e7-8bc7-fb8de284d15d",
   "metadata": {},
   "source": [
    "### Save and play the sound"
   ]
  },
  {
   "cell_type": "code",
   "execution_count": 7,
   "id": "a803f893-4397-4377-a17a-b5b9c944f9aa",
   "metadata": {},
   "outputs": [],
   "source": [
    "tts.save('speech.mp3')\n",
    "playsound('speech.mp3')"
   ]
  },
  {
   "cell_type": "code",
   "execution_count": null,
   "id": "05a7b7e8-3467-4647-9154-956373795edb",
   "metadata": {},
   "outputs": [],
   "source": []
  }
 ],
 "metadata": {
  "kernelspec": {
   "display_name": "Python 3 (ipykernel)",
   "language": "python",
   "name": "python3"
  },
  "language_info": {
   "codemirror_mode": {
    "name": "ipython",
    "version": 3
   },
   "file_extension": ".py",
   "mimetype": "text/x-python",
   "name": "python",
   "nbconvert_exporter": "python",
   "pygments_lexer": "ipython3",
   "version": "3.11.7"
  },
  "widgets": {
   "application/vnd.jupyter.widget-state+json": {
    "state": {},
    "version_major": 2,
    "version_minor": 0
   }
  }
 },
 "nbformat": 4,
 "nbformat_minor": 5
}
