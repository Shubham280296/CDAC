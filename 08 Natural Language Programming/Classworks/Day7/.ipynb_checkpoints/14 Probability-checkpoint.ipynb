{
 "cells": [
  {
   "cell_type": "markdown",
   "id": "32a515ce",
   "metadata": {},
   "source": [
    "### Theoretical Probability"
   ]
  },
  {
   "cell_type": "code",
   "execution_count": 1,
   "id": "b9d044b0",
   "metadata": {},
   "outputs": [],
   "source": [
    "def coin_flip_probability():\n",
    "    heads_probability = 1/2\n",
    "    return heads_probability\n",
    "\n",
    "def rolling_dice_probability(number):\n",
    "    if number not in range(1,7):\n",
    "        raise ValueError(\"Number must be between 1 and 6\")\n",
    "    probability = 1/6\n",
    "    return probability"
   ]
  },
  {
   "cell_type": "code",
   "execution_count": 3,
   "id": "8887a8b0",
   "metadata": {},
   "outputs": [
    {
     "name": "stdout",
     "output_type": "stream",
     "text": [
      "Probability of head in coin flip : 0.5\n",
      "Probability of rolling 6 on a die : 0.16666666666666666\n"
     ]
    }
   ],
   "source": [
    "## Example Use\n",
    "\n",
    "coin_flip_result = coin_flip_probability()\n",
    "rolling_dice_result = rolling_dice_probability(6)\n",
    "\n",
    "print(\"Probability of head in coin flip :\", coin_flip_result)\n",
    "print(\"Probability of rolling 6 on a die :\", rolling_dice_result)"
   ]
  },
  {
   "cell_type": "markdown",
   "id": "2bb106e2",
   "metadata": {},
   "source": [
    "### Experimental Probability"
   ]
  },
  {
   "cell_type": "code",
   "execution_count": 4,
   "id": "62b7b35c",
   "metadata": {},
   "outputs": [],
   "source": [
    "import random\n",
    "import pandas as pd"
   ]
  },
  {
   "cell_type": "code",
   "execution_count": 5,
   "id": "ead51216",
   "metadata": {},
   "outputs": [],
   "source": [
    "def simulate_coin_flip(num_flips):\n",
    "    results = []\n",
    "    for _ in range(num_flips):\n",
    "        flip = random.choice([\"heads\", \"tails\"])\n",
    "        results.append(flip)\n",
    "    return results"
   ]
  },
  {
   "cell_type": "code",
   "execution_count": 6,
   "id": "b8652b22",
   "metadata": {
    "scrolled": true
   },
   "outputs": [
    {
     "data": {
      "text/plain": [
       "['heads',\n",
       " 'heads',\n",
       " 'heads',\n",
       " 'tails',\n",
       " 'tails',\n",
       " 'tails',\n",
       " 'heads',\n",
       " 'heads',\n",
       " 'heads',\n",
       " 'heads',\n",
       " 'heads',\n",
       " 'tails',\n",
       " 'tails',\n",
       " 'heads',\n",
       " 'tails',\n",
       " 'heads',\n",
       " 'heads',\n",
       " 'heads',\n",
       " 'tails',\n",
       " 'tails',\n",
       " 'tails',\n",
       " 'tails',\n",
       " 'heads',\n",
       " 'heads',\n",
       " 'tails',\n",
       " 'tails',\n",
       " 'heads',\n",
       " 'heads',\n",
       " 'tails',\n",
       " 'heads',\n",
       " 'tails',\n",
       " 'heads',\n",
       " 'tails',\n",
       " 'tails',\n",
       " 'heads',\n",
       " 'heads',\n",
       " 'heads',\n",
       " 'heads',\n",
       " 'heads',\n",
       " 'tails',\n",
       " 'tails',\n",
       " 'tails',\n",
       " 'tails',\n",
       " 'tails',\n",
       " 'heads',\n",
       " 'heads',\n",
       " 'heads',\n",
       " 'tails',\n",
       " 'heads',\n",
       " 'tails',\n",
       " 'heads',\n",
       " 'tails',\n",
       " 'heads',\n",
       " 'tails',\n",
       " 'heads',\n",
       " 'heads',\n",
       " 'tails',\n",
       " 'heads',\n",
       " 'tails',\n",
       " 'tails',\n",
       " 'tails',\n",
       " 'tails',\n",
       " 'heads',\n",
       " 'tails',\n",
       " 'heads',\n",
       " 'heads',\n",
       " 'heads',\n",
       " 'tails',\n",
       " 'tails',\n",
       " 'tails',\n",
       " 'heads',\n",
       " 'heads',\n",
       " 'tails',\n",
       " 'heads',\n",
       " 'tails',\n",
       " 'tails',\n",
       " 'tails',\n",
       " 'tails',\n",
       " 'heads',\n",
       " 'tails',\n",
       " 'tails',\n",
       " 'tails',\n",
       " 'tails',\n",
       " 'heads',\n",
       " 'heads',\n",
       " 'heads',\n",
       " 'tails',\n",
       " 'heads',\n",
       " 'tails',\n",
       " 'tails',\n",
       " 'heads',\n",
       " 'tails',\n",
       " 'heads',\n",
       " 'tails',\n",
       " 'heads',\n",
       " 'heads',\n",
       " 'heads',\n",
       " 'tails',\n",
       " 'tails',\n",
       " 'heads']"
      ]
     },
     "execution_count": 6,
     "metadata": {},
     "output_type": "execute_result"
    }
   ],
   "source": [
    "simulate_coin_flip(100)"
   ]
  },
  {
   "cell_type": "code",
   "execution_count": 8,
   "id": "b90e05a9",
   "metadata": {},
   "outputs": [
    {
     "data": {
      "text/plain": [
       "heads    59\n",
       "tails    41\n",
       "Name: count, dtype: int64"
      ]
     },
     "execution_count": 8,
     "metadata": {},
     "output_type": "execute_result"
    }
   ],
   "source": [
    "pd.Series(simulate_coin_flip(100)).value_counts()"
   ]
  },
  {
   "cell_type": "code",
   "execution_count": 9,
   "id": "a4a0b13c",
   "metadata": {},
   "outputs": [],
   "source": [
    "def cal_experimental_proba(results, event):\n",
    "    event_count = results.count(event)\n",
    "    total_flips = len(results)\n",
    "    probability = event_count/total_flips\n",
    "    return probability"
   ]
  },
  {
   "cell_type": "code",
   "execution_count": 14,
   "id": "c9a90c3d",
   "metadata": {},
   "outputs": [
    {
     "name": "stdout",
     "output_type": "stream",
     "text": [
      "Number of flips : 1000000\n",
      "Heads Probability : 0.4996\n",
      "Tails Probability : 0.5004\n"
     ]
    }
   ],
   "source": [
    "## Example use\n",
    "\n",
    "num_flips = 1000000\n",
    "simulation_results = simulate_coin_flip(num_flips)\n",
    "\n",
    "heads_probability = cal_experimental_proba(simulation_results,\"heads\")\n",
    "tails_probability = cal_experimental_proba(simulation_results,\"tails\")\n",
    "\n",
    "print(\"Number of flips :\", num_flips)\n",
    "print(f\"Heads Probability : {heads_probability:.4f}\")\n",
    "print(f\"Tails Probability : {tails_probability:.4f}\")"
   ]
  },
  {
   "cell_type": "code",
   "execution_count": null,
   "id": "ef0a2460",
   "metadata": {},
   "outputs": [],
   "source": []
  }
 ],
 "metadata": {
  "kernelspec": {
   "display_name": "Python 3 (ipykernel)",
   "language": "python",
   "name": "python3"
  },
  "language_info": {
   "codemirror_mode": {
    "name": "ipython",
    "version": 3
   },
   "file_extension": ".py",
   "mimetype": "text/x-python",
   "name": "python",
   "nbconvert_exporter": "python",
   "pygments_lexer": "ipython3",
   "version": "3.11.8"
  }
 },
 "nbformat": 4,
 "nbformat_minor": 5
}
