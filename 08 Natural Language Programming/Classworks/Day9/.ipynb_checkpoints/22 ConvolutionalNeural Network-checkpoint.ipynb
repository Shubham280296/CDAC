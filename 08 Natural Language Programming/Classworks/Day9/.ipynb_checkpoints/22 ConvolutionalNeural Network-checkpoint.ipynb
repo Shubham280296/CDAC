{
 "cells": [
  {
   "cell_type": "code",
   "execution_count": 1,
   "id": "03963e8a",
   "metadata": {},
   "outputs": [],
   "source": [
    "# from google.colab import drive\n",
    "# drive.mount('/content/drive')"
   ]
  },
  {
   "cell_type": "code",
   "execution_count": 2,
   "id": "3ddd5c9c",
   "metadata": {},
   "outputs": [
    {
     "name": "stdout",
     "output_type": "stream",
     "text": [
      "WARNING:tensorflow:From C:\\Users\\Administrator.DAI-PC2\\anaconda3\\Lib\\site-packages\\keras\\src\\losses.py:2976: The name tf.losses.sparse_softmax_cross_entropy is deprecated. Please use tf.compat.v1.losses.sparse_softmax_cross_entropy instead.\n",
      "\n"
     ]
    }
   ],
   "source": [
    "import string\n",
    "import re\n",
    "import nltk\n",
    "import pandas as pd\n",
    "from os import listdir\n",
    "from nltk.corpus import stopwords\n",
    "from keras.preprocessing.text import Tokenizer\n",
    "from keras.utils import plot_model\n",
    "from keras.models import Sequential\n",
    "from keras.layers import Dense, Embedding, Conv1D, MaxPool1D, Flatten\n",
    "from tensorflow.keras.preprocessing.sequence import pad_sequences\n",
    "import numpy as np\n",
    "## nltk.download('stopwords')"
   ]
  },
  {
   "cell_type": "code",
   "execution_count": 3,
   "id": "6f32df16",
   "metadata": {},
   "outputs": [],
   "source": [
    "### Load doc into memory\n",
    "def load_doc(filename):\n",
    "    ## open file in read only\n",
    "    file = open(filename,'r')\n",
    "    ## read all text\n",
    "    text=file.read()\n",
    "    ## close the file\n",
    "    file.close()\n",
    "    return text"
   ]
  },
  {
   "cell_type": "code",
   "execution_count": 4,
   "id": "c3530053",
   "metadata": {
    "scrolled": true
   },
   "outputs": [
    {
     "data": {
      "text/plain": [
       "'plot : two teen couples go to a church party , drink and then drive . \\nthey get into an accident . \\none of the guys dies , but his girlfriend continues to see him in her life , and has nightmares . \\nwhat\\'s the deal ? \\nwatch the movie and \" sorta \" find out . . . \\ncritique : a mind-fuck movie for the teen generation that touches on a very cool idea , but presents it in a very bad package . \\nwhich is what makes this review an even harder one to write , since i generally applaud films which attempt to break the mold , mess with your head and such ( lost highway & memento ) , but there are good and bad ways of making all types of films , and these folks just didn\\'t snag this one correctly . \\nthey seem to have taken this pretty neat concept , but executed it terribly . \\nso what are the problems with the movie ? \\nwell , its main problem is that it\\'s simply too jumbled . \\nit starts off \" normal \" but then downshifts into this \" fantasy \" world in which you , as an audience member , have no idea what\\'s going on . \\nthere are dreams , there are characters coming back from the dead , there are others who look like the dead , there are strange apparitions , there are disappearances , there are a looooot of chase scenes , there are tons of weird things that happen , and most of it is simply not explained . \\nnow i personally don\\'t mind trying to unravel a film every now and then , but when all it does is give me the same clue over and over again , i get kind of fed up after a while , which is this film\\'s biggest problem . \\nit\\'s obviously got this big secret to hide , but it seems to want to hide it completely until its final five minutes . \\nand do they make things entertaining , thrilling or even engaging , in the meantime ? \\nnot really . \\nthe sad part is that the arrow and i both dig on flicks like this , so we actually figured most of it out by the half-way point , so all of the strangeness after that did start to make a little bit of sense , but it still didn\\'t the make the film all that more entertaining . \\ni guess the bottom line with movies like this is that you should always make sure that the audience is \" into it \" even before they are given the secret password to enter your world of understanding . \\ni mean , showing melissa sagemiller running away from visions for about 20 minutes throughout the movie is just plain lazy ! ! \\nokay , we get it . . . there \\nare people chasing her and we don\\'t know who they are . \\ndo we really need to see it over and over again ? \\nhow about giving us different scenes offering further insight into all of the strangeness going down in the movie ? \\napparently , the studio took this film away from its director and chopped it up themselves , and it shows . \\nthere might\\'ve been a pretty decent teen mind-fuck movie in here somewhere , but i guess \" the suits \" decided that turning it into a music video with little edge , would make more sense . \\nthe actors are pretty good for the most part , although wes bentley just seemed to be playing the exact same character that he did in american beauty , only in a new neighborhood . \\nbut my biggest kudos go out to sagemiller , who holds her own throughout the entire film , and actually has you feeling her character\\'s unraveling . \\noverall , the film doesn\\'t stick because it doesn\\'t entertain , it\\'s confusing , it rarely excites and it feels pretty redundant for most of its runtime , despite a pretty cool ending and explanation to all of the craziness that came before it . \\noh , and by the way , this is not a horror or teen slasher flick . . . it\\'s \\njust packaged to look that way because someone is apparently assuming that the genre is still hot with the kids . \\nit also wrapped production two years ago and has been sitting on the shelves ever since . \\nwhatever . . . skip \\nit ! \\nwhere\\'s joblo coming from ? \\na nightmare of elm street 3 ( 7/10 ) - blair witch 2 ( 7/10 ) - the crow ( 9/10 ) - the crow : salvation ( 4/10 ) - lost highway ( 10/10 ) - memento ( 10/10 ) - the others ( 9/10 ) - stir of echoes ( 8/10 ) \\n'"
      ]
     },
     "execution_count": 4,
     "metadata": {},
     "output_type": "execute_result"
    }
   ],
   "source": [
    "text = load_doc(r\"C:\\Users\\Administrator.DAI-PC2\\Downloads\\Shubham\\NLP\\Day8\\review_polarity-20240611T075242Z-001\\review_polarity\\txt_sentoken\\neg\\cv000_29416.txt\")\n",
    "text"
   ]
  },
  {
   "cell_type": "code",
   "execution_count": 5,
   "id": "2b4faf03",
   "metadata": {},
   "outputs": [],
   "source": [
    "## Turn a doc into clean tokens\n",
    "def clean_doc(doc):\n",
    "    ## split into tokens by white space\n",
    "    tokens = doc.split()\n",
    "    ## prepare regex for character filtering\n",
    "    re_punc = re.compile('[%s]'% re.escape(string.punctuation))\n",
    "    ## remove punctuations from words\n",
    "    tokens = [re_punc.sub(\"\", w)for w in tokens]\n",
    "    ## remove remaining tokens that are not alphabetic\n",
    "    tokens = [word for word in tokens if word.isalpha()]\n",
    "    ## filter out stopwords\n",
    "    swords = set(stopwords.words('english'))\n",
    "    tokens = [w for w in tokens if not w in swords]\n",
    "    ## filter out short tokens\n",
    "    tokens = [word for word in tokens if len(word)>1]\n",
    "    return tokens"
   ]
  },
  {
   "cell_type": "code",
   "execution_count": 6,
   "id": "c9ea2dc0",
   "metadata": {},
   "outputs": [
    {
     "data": {
      "text/plain": [
       "['plot',\n",
       " 'two',\n",
       " 'teen',\n",
       " 'couples',\n",
       " 'go',\n",
       " 'church',\n",
       " 'party',\n",
       " 'drink',\n",
       " 'drive',\n",
       " 'get',\n",
       " 'accident',\n",
       " 'one',\n",
       " 'guys',\n",
       " 'dies',\n",
       " 'girlfriend',\n",
       " 'continues',\n",
       " 'see',\n",
       " 'life',\n",
       " 'nightmares',\n",
       " 'whats',\n",
       " 'deal',\n",
       " 'watch',\n",
       " 'movie',\n",
       " 'sorta',\n",
       " 'find',\n",
       " 'critique',\n",
       " 'mindfuck',\n",
       " 'movie',\n",
       " 'teen',\n",
       " 'generation',\n",
       " 'touches',\n",
       " 'cool',\n",
       " 'idea',\n",
       " 'presents',\n",
       " 'bad',\n",
       " 'package',\n",
       " 'makes',\n",
       " 'review',\n",
       " 'even',\n",
       " 'harder',\n",
       " 'one',\n",
       " 'write',\n",
       " 'since',\n",
       " 'generally',\n",
       " 'applaud',\n",
       " 'films',\n",
       " 'attempt',\n",
       " 'break',\n",
       " 'mold',\n",
       " 'mess',\n",
       " 'head',\n",
       " 'lost',\n",
       " 'highway',\n",
       " 'memento',\n",
       " 'good',\n",
       " 'bad',\n",
       " 'ways',\n",
       " 'making',\n",
       " 'types',\n",
       " 'films',\n",
       " 'folks',\n",
       " 'didnt',\n",
       " 'snag',\n",
       " 'one',\n",
       " 'correctly',\n",
       " 'seem',\n",
       " 'taken',\n",
       " 'pretty',\n",
       " 'neat',\n",
       " 'concept',\n",
       " 'executed',\n",
       " 'terribly',\n",
       " 'problems',\n",
       " 'movie',\n",
       " 'well',\n",
       " 'main',\n",
       " 'problem',\n",
       " 'simply',\n",
       " 'jumbled',\n",
       " 'starts',\n",
       " 'normal',\n",
       " 'downshifts',\n",
       " 'fantasy',\n",
       " 'world',\n",
       " 'audience',\n",
       " 'member',\n",
       " 'idea',\n",
       " 'whats',\n",
       " 'going',\n",
       " 'dreams',\n",
       " 'characters',\n",
       " 'coming',\n",
       " 'back',\n",
       " 'dead',\n",
       " 'others',\n",
       " 'look',\n",
       " 'like',\n",
       " 'dead',\n",
       " 'strange',\n",
       " 'apparitions',\n",
       " 'disappearances',\n",
       " 'looooot',\n",
       " 'chase',\n",
       " 'scenes',\n",
       " 'tons',\n",
       " 'weird',\n",
       " 'things',\n",
       " 'happen',\n",
       " 'simply',\n",
       " 'explained',\n",
       " 'personally',\n",
       " 'dont',\n",
       " 'mind',\n",
       " 'trying',\n",
       " 'unravel',\n",
       " 'film',\n",
       " 'every',\n",
       " 'give',\n",
       " 'clue',\n",
       " 'get',\n",
       " 'kind',\n",
       " 'fed',\n",
       " 'films',\n",
       " 'biggest',\n",
       " 'problem',\n",
       " 'obviously',\n",
       " 'got',\n",
       " 'big',\n",
       " 'secret',\n",
       " 'hide',\n",
       " 'seems',\n",
       " 'want',\n",
       " 'hide',\n",
       " 'completely',\n",
       " 'final',\n",
       " 'five',\n",
       " 'minutes',\n",
       " 'make',\n",
       " 'things',\n",
       " 'entertaining',\n",
       " 'thrilling',\n",
       " 'even',\n",
       " 'engaging',\n",
       " 'meantime',\n",
       " 'really',\n",
       " 'sad',\n",
       " 'part',\n",
       " 'arrow',\n",
       " 'dig',\n",
       " 'flicks',\n",
       " 'like',\n",
       " 'actually',\n",
       " 'figured',\n",
       " 'halfway',\n",
       " 'point',\n",
       " 'strangeness',\n",
       " 'start',\n",
       " 'make',\n",
       " 'little',\n",
       " 'bit',\n",
       " 'sense',\n",
       " 'still',\n",
       " 'didnt',\n",
       " 'make',\n",
       " 'film',\n",
       " 'entertaining',\n",
       " 'guess',\n",
       " 'bottom',\n",
       " 'line',\n",
       " 'movies',\n",
       " 'like',\n",
       " 'always',\n",
       " 'make',\n",
       " 'sure',\n",
       " 'audience',\n",
       " 'even',\n",
       " 'given',\n",
       " 'secret',\n",
       " 'password',\n",
       " 'enter',\n",
       " 'world',\n",
       " 'understanding',\n",
       " 'mean',\n",
       " 'showing',\n",
       " 'melissa',\n",
       " 'sagemiller',\n",
       " 'running',\n",
       " 'away',\n",
       " 'visions',\n",
       " 'minutes',\n",
       " 'throughout',\n",
       " 'movie',\n",
       " 'plain',\n",
       " 'lazy',\n",
       " 'okay',\n",
       " 'get',\n",
       " 'people',\n",
       " 'chasing',\n",
       " 'dont',\n",
       " 'know',\n",
       " 'really',\n",
       " 'need',\n",
       " 'see',\n",
       " 'giving',\n",
       " 'us',\n",
       " 'different',\n",
       " 'scenes',\n",
       " 'offering',\n",
       " 'insight',\n",
       " 'strangeness',\n",
       " 'going',\n",
       " 'movie',\n",
       " 'apparently',\n",
       " 'studio',\n",
       " 'took',\n",
       " 'film',\n",
       " 'away',\n",
       " 'director',\n",
       " 'chopped',\n",
       " 'shows',\n",
       " 'mightve',\n",
       " 'pretty',\n",
       " 'decent',\n",
       " 'teen',\n",
       " 'mindfuck',\n",
       " 'movie',\n",
       " 'somewhere',\n",
       " 'guess',\n",
       " 'suits',\n",
       " 'decided',\n",
       " 'turning',\n",
       " 'music',\n",
       " 'video',\n",
       " 'little',\n",
       " 'edge',\n",
       " 'would',\n",
       " 'make',\n",
       " 'sense',\n",
       " 'actors',\n",
       " 'pretty',\n",
       " 'good',\n",
       " 'part',\n",
       " 'although',\n",
       " 'wes',\n",
       " 'bentley',\n",
       " 'seemed',\n",
       " 'playing',\n",
       " 'exact',\n",
       " 'character',\n",
       " 'american',\n",
       " 'beauty',\n",
       " 'new',\n",
       " 'neighborhood',\n",
       " 'biggest',\n",
       " 'kudos',\n",
       " 'go',\n",
       " 'sagemiller',\n",
       " 'holds',\n",
       " 'throughout',\n",
       " 'entire',\n",
       " 'film',\n",
       " 'actually',\n",
       " 'feeling',\n",
       " 'characters',\n",
       " 'unraveling',\n",
       " 'overall',\n",
       " 'film',\n",
       " 'doesnt',\n",
       " 'stick',\n",
       " 'doesnt',\n",
       " 'entertain',\n",
       " 'confusing',\n",
       " 'rarely',\n",
       " 'excites',\n",
       " 'feels',\n",
       " 'pretty',\n",
       " 'redundant',\n",
       " 'runtime',\n",
       " 'despite',\n",
       " 'pretty',\n",
       " 'cool',\n",
       " 'ending',\n",
       " 'explanation',\n",
       " 'craziness',\n",
       " 'came',\n",
       " 'oh',\n",
       " 'way',\n",
       " 'horror',\n",
       " 'teen',\n",
       " 'slasher',\n",
       " 'flick',\n",
       " 'packaged',\n",
       " 'look',\n",
       " 'way',\n",
       " 'someone',\n",
       " 'apparently',\n",
       " 'assuming',\n",
       " 'genre',\n",
       " 'still',\n",
       " 'hot',\n",
       " 'kids',\n",
       " 'also',\n",
       " 'wrapped',\n",
       " 'production',\n",
       " 'two',\n",
       " 'years',\n",
       " 'ago',\n",
       " 'sitting',\n",
       " 'shelves',\n",
       " 'ever',\n",
       " 'since',\n",
       " 'whatever',\n",
       " 'skip',\n",
       " 'wheres',\n",
       " 'joblo',\n",
       " 'coming',\n",
       " 'nightmare',\n",
       " 'elm',\n",
       " 'street',\n",
       " 'blair',\n",
       " 'witch',\n",
       " 'crow',\n",
       " 'crow',\n",
       " 'salvation',\n",
       " 'lost',\n",
       " 'highway',\n",
       " 'memento',\n",
       " 'others',\n",
       " 'stir',\n",
       " 'echoes']"
      ]
     },
     "execution_count": 6,
     "metadata": {},
     "output_type": "execute_result"
    }
   ],
   "source": [
    "clean_doc(text)"
   ]
  },
  {
   "cell_type": "code",
   "execution_count": 8,
   "id": "d73dc31e",
   "metadata": {},
   "outputs": [],
   "source": [
    "## Using only 1 function for train and test\n",
    "def process_docs(directory, is_train):\n",
    "    documents = list()\n",
    "    ## walk through all files in the folder\n",
    "    for filename in listdir(directory):\n",
    "        ## skip any reviews in the test set\n",
    "        if is_train and filename.startswith('cv9'):\n",
    "            continue\n",
    "        if not is_train and not filename.startswith('cv9'):\n",
    "            continue   \n",
    "        ## creat the full pth for the file to open\n",
    "        path = directory+'/'+filename\n",
    "        ## load the doc\n",
    "        doc = load_doc(path)\n",
    "        ## clean_doc\n",
    "        tokens = clean_doc(doc)\n",
    "        ## add to list\n",
    "        documents.append(tokens)\n",
    "    return documents"
   ]
  },
  {
   "cell_type": "code",
   "execution_count": 9,
   "id": "98183876",
   "metadata": {},
   "outputs": [],
   "source": [
    "## load and clean a dataset\n",
    "def load_clean_dataset(is_train):\n",
    "    ## load document\n",
    "    neg = process_docs(r\"C:\\Users\\Administrator.DAI-PC2\\Downloads\\Shubham\\NLP\\Day8\\review_polarity-20240611T075242Z-001\\review_polarity\\txt_sentoken\\neg\", is_train)     \n",
    "    pos = process_docs(r\"C:\\Users\\Administrator.DAI-PC2\\Downloads\\Shubham\\NLP\\Day8\\review_polarity-20240611T075242Z-001\\review_polarity\\txt_sentoken\\pos\", is_train)         \n",
    "    docs = neg + pos\n",
    "    ## Prepare labels\n",
    "    labels = [0 for _ in range(len(neg))]+[1 for _ in range(len(pos))]\n",
    "    return docs, labels"
   ]
  },
  {
   "cell_type": "code",
   "execution_count": 10,
   "id": "74c7eff6",
   "metadata": {},
   "outputs": [],
   "source": [
    "def create_tokenizer(lines):\n",
    "    tokenizer = Tokenizer()\n",
    "    tokenizer.fit_on_texts(lines)\n",
    "    return tokenizer"
   ]
  },
  {
   "cell_type": "code",
   "execution_count": 11,
   "id": "a58428ad",
   "metadata": {},
   "outputs": [],
   "source": [
    "def encode_docs(tokenizer, max_length, docs):\n",
    "    ## Integer encoding\n",
    "    encoded = tokenizer.texts_to_sequences(docs)\n",
    "    ## pad sequence\n",
    "    padded = pad_sequences(encoded, maxlen = max_length, padding = 'post')\n",
    "    return padded"
   ]
  },
  {
   "cell_type": "markdown",
   "id": "4b4eb258",
   "metadata": {},
   "source": [
    "## Build Neural Network"
   ]
  },
  {
   "cell_type": "code",
   "execution_count": 12,
   "id": "002074e7",
   "metadata": {},
   "outputs": [],
   "source": [
    "def define_model(vocab_size, max_length):\n",
    "    model = Sequential()\n",
    "    model.add(Embedding(vocab_size, 100, input_length = max_length))\n",
    "    model.add(Conv1D(filters = 32, kernel_size=8, activation ='relu'))\n",
    "    model.add(MaxPool1D(pool_size=2))\n",
    "    model.add(Flatten())\n",
    "    model.add(Dense(10, activation ='relu'))\n",
    "    model.add(Dense(1, activation ='sigmoid'))   \n",
    "    model.compile(loss = 'binary_crossentropy', optimizer='adam', metrics = 'accuracy')\n",
    "    return model"
   ]
  },
  {
   "cell_type": "code",
   "execution_count": 54,
   "id": "6029a1c6",
   "metadata": {},
   "outputs": [
    {
     "name": "stdout",
     "output_type": "stream",
     "text": [
      "1810 200\n",
      "Vocab size : 44277\n",
      "max length : 1380\n"
     ]
    },
    {
     "data": {
      "text/plain": [
       "((1810, 1380), (200, 1380))"
      ]
     },
     "execution_count": 54,
     "metadata": {},
     "output_type": "execute_result"
    }
   ],
   "source": [
    "train_docs, y_train = load_clean_dataset(True)\n",
    "test_docs, y_test = load_clean_dataset(False)\n",
    "\n",
    "print(len(train_docs), len(test_docs))\n",
    "\n",
    "tokenizer = create_tokenizer(train_docs)\n",
    "\n",
    "vocab_size = len(tokenizer.word_index)+1\n",
    "print(\"Vocab size :\", vocab_size)\n",
    "\n",
    "max_length = max([len(s) for s in train_docs])\n",
    "print(\"max length :\", max_length)\n",
    "\n",
    "x_train = encode_docs(tokenizer, max_length, train_docs)\n",
    "x_test = encode_docs(tokenizer, max_length, test_docs)\n",
    "\n",
    "x_train.shape, x_test.shape"
   ]
  },
  {
   "cell_type": "code",
   "execution_count": 14,
   "id": "c1344ca3",
   "metadata": {},
   "outputs": [
    {
     "name": "stdout",
     "output_type": "stream",
     "text": [
      "WARNING:tensorflow:From C:\\Users\\Administrator.DAI-PC2\\anaconda3\\Lib\\site-packages\\keras\\src\\backend.py:873: The name tf.get_default_graph is deprecated. Please use tf.compat.v1.get_default_graph instead.\n",
      "\n",
      "WARNING:tensorflow:From C:\\Users\\Administrator.DAI-PC2\\anaconda3\\Lib\\site-packages\\keras\\src\\backend.py:6642: The name tf.nn.max_pool is deprecated. Please use tf.nn.max_pool2d instead.\n",
      "\n",
      "WARNING:tensorflow:From C:\\Users\\Administrator.DAI-PC2\\anaconda3\\Lib\\site-packages\\keras\\src\\optimizers\\__init__.py:309: The name tf.train.Optimizer is deprecated. Please use tf.compat.v1.train.Optimizer instead.\n",
      "\n",
      "Model: \"sequential\"\n",
      "_________________________________________________________________\n",
      " Layer (type)                Output Shape              Param #   \n",
      "=================================================================\n",
      " embedding (Embedding)       (None, 1380, 100)         4427700   \n",
      "                                                                 \n",
      " conv1d (Conv1D)             (None, 1373, 32)          25632     \n",
      "                                                                 \n",
      " max_pooling1d (MaxPooling1  (None, 686, 32)           0         \n",
      " D)                                                              \n",
      "                                                                 \n",
      " flatten (Flatten)           (None, 21952)             0         \n",
      "                                                                 \n",
      " dense (Dense)               (None, 10)                219530    \n",
      "                                                                 \n",
      " dense_1 (Dense)             (None, 1)                 11        \n",
      "                                                                 \n",
      "=================================================================\n",
      "Total params: 4672873 (17.83 MB)\n",
      "Trainable params: 4672873 (17.83 MB)\n",
      "Non-trainable params: 0 (0.00 Byte)\n",
      "_________________________________________________________________\n"
     ]
    }
   ],
   "source": [
    "model = define_model(vocab_size, max_length)\n",
    "\n",
    "model.summary()"
   ]
  },
  {
   "cell_type": "code",
   "execution_count": 15,
   "id": "3896debe",
   "metadata": {},
   "outputs": [
    {
     "name": "stdout",
     "output_type": "stream",
     "text": [
      "Epoch 1/10\n",
      "WARNING:tensorflow:From C:\\Users\\Administrator.DAI-PC2\\anaconda3\\Lib\\site-packages\\keras\\src\\utils\\tf_utils.py:492: The name tf.ragged.RaggedTensorValue is deprecated. Please use tf.compat.v1.ragged.RaggedTensorValue instead.\n",
      "\n",
      "WARNING:tensorflow:From C:\\Users\\Administrator.DAI-PC2\\anaconda3\\Lib\\site-packages\\keras\\src\\engine\\base_layer_utils.py:384: The name tf.executing_eagerly_outside_functions is deprecated. Please use tf.compat.v1.executing_eagerly_outside_functions instead.\n",
      "\n",
      "181/181 [==============================] - 8s 38ms/step - loss: 0.6914 - accuracy: 0.5348\n",
      "Epoch 2/10\n",
      "181/181 [==============================] - 7s 37ms/step - loss: 0.3595 - accuracy: 0.8448\n",
      "Epoch 3/10\n",
      "181/181 [==============================] - 7s 37ms/step - loss: 0.0109 - accuracy: 0.9989\n",
      "Epoch 4/10\n",
      "181/181 [==============================] - 7s 37ms/step - loss: 0.0020 - accuracy: 1.0000\n",
      "Epoch 5/10\n",
      "181/181 [==============================] - 7s 37ms/step - loss: 0.0012 - accuracy: 1.0000\n",
      "Epoch 6/10\n",
      "181/181 [==============================] - 7s 37ms/step - loss: 8.2280e-04 - accuracy: 1.0000\n",
      "Epoch 7/10\n",
      "181/181 [==============================] - 7s 37ms/step - loss: 6.2852e-04 - accuracy: 1.0000\n",
      "Epoch 8/10\n",
      "181/181 [==============================] - 7s 37ms/step - loss: 4.9885e-04 - accuracy: 1.0000\n",
      "Epoch 9/10\n",
      "181/181 [==============================] - 7s 37ms/step - loss: 4.0255e-04 - accuracy: 1.0000\n",
      "Epoch 10/10\n",
      "181/181 [==============================] - 7s 37ms/step - loss: 3.2298e-04 - accuracy: 1.0000\n"
     ]
    },
    {
     "data": {
      "text/plain": [
       "<keras.src.callbacks.History at 0x2ce7fea6890>"
      ]
     },
     "execution_count": 15,
     "metadata": {},
     "output_type": "execute_result"
    }
   ],
   "source": [
    "## Fit model\n",
    "model.fit(x_train, np.array(y_train), epochs=10, batch_size =10)"
   ]
  },
  {
   "cell_type": "code",
   "execution_count": 36,
   "id": "3fb0fa2d",
   "metadata": {},
   "outputs": [
    {
     "name": "stdout",
     "output_type": "stream",
     "text": [
      "200/200 [==============================] - 1s 3ms/step - loss: 0.4763 - accuracy: 0.8350\n"
     ]
    },
    {
     "data": {
      "text/plain": [
       "[0.4763064682483673, 0.8349999785423279]"
      ]
     },
     "execution_count": 36,
     "metadata": {},
     "output_type": "execute_result"
    }
   ],
   "source": [
    "model.evaluate(x_test, np.array(y_test), batch_size=1)"
   ]
  },
  {
   "cell_type": "markdown",
   "id": "8c9772ad",
   "metadata": {},
   "source": [
    "## Predict on unseen data"
   ]
  },
  {
   "cell_type": "code",
   "execution_count": 17,
   "id": "be546864",
   "metadata": {},
   "outputs": [],
   "source": [
    "text1 = 'Best movie ever! It was great, I will definitely recommend it.'\n",
    "text2 = 'This is a bad movie. Please dont watch it.'"
   ]
  },
  {
   "cell_type": "code",
   "execution_count": 49,
   "id": "36404e1a",
   "metadata": {},
   "outputs": [],
   "source": [
    "def prediction(tokenizer,data):\n",
    "    ## Clean doc\n",
    "    clean = clean_doc(data)\n",
    "    ## Tokenize the clean data \n",
    "    x_valid = encode_docs(tokenizer, max_length, [clean])\n",
    "    ## Predict\n",
    "    y_pred = model.predict(x_valid)\n",
    "    ## Print prediction\n",
    "    if y_pred[0][0]>0.5:\n",
    "        print('POSITIVE : ', y_pred[0][0])\n",
    "    else:\n",
    "        print('NEGATIVE : ', 1-y_pred[0][0])      "
   ]
  },
  {
   "cell_type": "code",
   "execution_count": 50,
   "id": "996ac6fe",
   "metadata": {},
   "outputs": [
    {
     "name": "stdout",
     "output_type": "stream",
     "text": [
      "1/1 [==============================] - 0s 39ms/step\n",
      "POSITIVE :  0.58034384\n"
     ]
    }
   ],
   "source": [
    "prediction(tokenizer,text1)"
   ]
  },
  {
   "cell_type": "code",
   "execution_count": 51,
   "id": "3524badf",
   "metadata": {},
   "outputs": [
    {
     "name": "stdout",
     "output_type": "stream",
     "text": [
      "1/1 [==============================] - 0s 31ms/step\n",
      "NEGATIVE :  0.5416746139526367\n"
     ]
    }
   ],
   "source": [
    "prediction(tokenizer,text2)"
   ]
  },
  {
   "cell_type": "code",
   "execution_count": null,
   "id": "b24f85b2",
   "metadata": {},
   "outputs": [],
   "source": []
  }
 ],
 "metadata": {
  "kernelspec": {
   "display_name": "Python 3 (ipykernel)",
   "language": "python",
   "name": "python3"
  },
  "language_info": {
   "codemirror_mode": {
    "name": "ipython",
    "version": 3
   },
   "file_extension": ".py",
   "mimetype": "text/x-python",
   "name": "python",
   "nbconvert_exporter": "python",
   "pygments_lexer": "ipython3",
   "version": "3.11.8"
  }
 },
 "nbformat": 4,
 "nbformat_minor": 5
}
