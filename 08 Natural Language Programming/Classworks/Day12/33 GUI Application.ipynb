{
 "cells": [
  {
   "cell_type": "code",
   "execution_count": 1,
   "id": "266d0aaf-2bea-4259-bec3-9c0739c45b84",
   "metadata": {},
   "outputs": [],
   "source": [
    "from tkinter import *"
   ]
  },
  {
   "cell_type": "markdown",
   "id": "5d6c5dde-ecfe-4b81-a1c7-cbb3bfde6013",
   "metadata": {},
   "source": [
    "## Basic Application"
   ]
  },
  {
   "cell_type": "code",
   "execution_count": 16,
   "id": "c3f39d58-6cec-4740-95d9-3d22dd239bf5",
   "metadata": {},
   "outputs": [],
   "source": [
    "top = Tk()\n",
    "top.title(\"My first application\") ## Name of window\n",
    "top.geometry('500x300') ## Size of window\n",
    "\n",
    "top.mainloop()"
   ]
  },
  {
   "cell_type": "markdown",
   "id": "4a928977-b737-4aac-a8a2-d30301a7f48b",
   "metadata": {},
   "source": [
    "## Add widgets"
   ]
  },
  {
   "cell_type": "code",
   "execution_count": 7,
   "id": "9ae252eb-d5e0-4fdf-87e4-ecf0d06ba44c",
   "metadata": {},
   "outputs": [],
   "source": [
    "top = Tk()\n",
    "top.title(\"My first application\")\n",
    "top.geometry('500x300')\n",
    "\n",
    "## Label - layout manager\n",
    "## pack -- adding sequentially\n",
    "## Gridd -- added in matrix\n",
    "## Place -- exact location (x,y)\n",
    "\n",
    "\n",
    "l = Label(top, text='Hello World!')  \n",
    "l.pack() \n",
    "\n",
    "\n",
    "top.mainloop()"
   ]
  },
  {
   "cell_type": "code",
   "execution_count": 9,
   "id": "bfb63630-9c37-4129-b6f4-33a71950d582",
   "metadata": {},
   "outputs": [],
   "source": [
    "top = Tk()\n",
    "top.title(\"My first application\")\n",
    "top.geometry('500x300')\n",
    "\n",
    "Label(top, text='Hello World!').pack()\n",
    "Entry(top).pack()  ## Place for user entry\n",
    "Button(top, text = 'Submit').pack() ## Create button with text\n",
    "\n",
    "top.mainloop()"
   ]
  },
  {
   "cell_type": "markdown",
   "id": "b77b0727-5160-4c89-a591-c6519a9d952c",
   "metadata": {},
   "source": [
    "## Event handling"
   ]
  },
  {
   "cell_type": "code",
   "execution_count": 20,
   "id": "1c2d1ea4-da5e-4754-b0c0-11f8d9d07c94",
   "metadata": {},
   "outputs": [
    {
     "name": "stdout",
     "output_type": "stream",
     "text": [
      "Your name is : ABHI\n"
     ]
    }
   ],
   "source": [
    "top = Tk()\n",
    "top.title(\"My first application\")\n",
    "top.geometry('500x300')\n",
    "\n",
    "def show():\n",
    "    name = str(e.get())\n",
    "    print('Your name is :', name.upper()) ## prints output in jupyter\n",
    "\n",
    "Label(top, text='Enter you name :').pack()\n",
    "e = Entry(top)  \n",
    "e.pack()\n",
    "Button(top, text = 'Submit', command = show).pack()\n",
    "\n",
    "top.mainloop()"
   ]
  },
  {
   "cell_type": "code",
   "execution_count": null,
   "id": "04759f56-8aec-47b4-a3b2-f7227896f3fb",
   "metadata": {},
   "outputs": [],
   "source": [
    "top = Tk()\n",
    "top.title(\"My first application\")\n",
    "top.geometry('500x300')\n",
    "\n",
    "def show():\n",
    "    name = str(e.get())\n",
    "    Label(top, text = 'Your name is : '+str(name.upper())).pack() ## prints name in window\n",
    "\n",
    "Label(top, text='Enter you name :').pack()\n",
    "e = Entry(top)  \n",
    "e.pack()\n",
    "Button(top, text = 'Submit', command = show).pack()\n",
    "\n",
    "top.mainloop()"
   ]
  },
  {
   "cell_type": "markdown",
   "id": "f0529677-3570-4145-ae07-65211a9afa23",
   "metadata": {},
   "source": [
    "### Interactive Application"
   ]
  },
  {
   "cell_type": "code",
   "execution_count": 24,
   "id": "f8f573a1-4206-4933-9946-f6a41c1b525a",
   "metadata": {},
   "outputs": [],
   "source": [
    "top = Tk()\n",
    "top.title(\"My first application\")\n",
    "top.geometry('500x300')\n",
    "\n",
    "def show():\n",
    "    num = int(e.get())\n",
    "    num **= 2 \n",
    "    Label(top, text = 'Square is: '+str(num)).place(x = 50, y = 150) ## place -- to show at specific place\n",
    "\n",
    "Label(top, text='Enter you name :').place(x = 50, y = 30)\n",
    "e = Entry(top)  \n",
    "e.place(x = 50, y = 70)\n",
    "Button(top, text = 'Submit', command = show).place(x = 50, y = 110)\n",
    "\n",
    "top.mainloop()"
   ]
  },
  {
   "cell_type": "markdown",
   "id": "895612ba-c630-4831-b906-b4e6202c0292",
   "metadata": {},
   "source": [
    "## General purpose calculator"
   ]
  },
  {
   "cell_type": "code",
   "execution_count": 52,
   "id": "d0b5d04e-3e3e-44e1-a631-43679ae2949d",
   "metadata": {},
   "outputs": [],
   "source": [
    "top = Tk()\n",
    "## Basic title and size of window\n",
    "top.title(\"My Calculator\")\n",
    "top.geometry('500x300')\n",
    "\n",
    "## Summation function\n",
    "def sum():\n",
    "    num1 = float(e1.get()) ## Get first number\n",
    "    num2 = float(e2.get()) ## Get second number\n",
    "    lr.config( text = 'Addition of '+ str(num1)+' and '+str(num2)+' : '+str(num1+num2)) ## Config -- used for replacing the already shown result \n",
    "                                                                                        ## from previous operation\n",
    "\n",
    "## Subtraction function\n",
    "def min():\n",
    "    num1 = float(e1.get())\n",
    "    num2 = float(e2.get())\n",
    "    lr.config( text = 'Subtraction of '+ str(num2)+' from '+str(num1)+' : '+str(num1-num2))\n",
    "\n",
    "## Multiplication function\n",
    "def mul():\n",
    "    num1 = float(e1.get())\n",
    "    num2 = float(e2.get())\n",
    "    lr.config( text = 'Multiplication of '+ str(num1)+' and '+str(num2)+' : '+str(num1*num2))\n",
    "\n",
    "## Division function\n",
    "def div():\n",
    "    num1 = float(e1.get())\n",
    "    num2 = float(e2.get())\n",
    "    lr.config( text = 'Division of '+ str(num1)+' by '+str(num2)+' : '+str(num1/num2))\n",
    "\n",
    "## Displaying massage and getting first number from user\n",
    "Label(top, text='Enter Number 1:').place(x = 50, y = 30)\n",
    "e1 = Entry(top)  \n",
    "e1.place(x = 50, y = 70)\n",
    "\n",
    "## Displaying massage and getting second number from user\n",
    "Label(top, text='Enter Number 2:').place(x = 250, y = 30)\n",
    "e2 = Entry(top)  \n",
    "e2.place(x = 250, y = 70)\n",
    "\n",
    "## Creating buttons\n",
    "Button(top, text = '+', command = sum).place(x = 50, y = 110)\n",
    "Button(top, text = '-', command = min).place(x = 150, y = 110)\n",
    "Button(top, text = '*', command = mul).place(x = 250, y = 110)\n",
    "Button(top, text = '/', command = div).place(x = 350, y = 110)\n",
    "\n",
    "## Show results \n",
    "lr = Label(top, text = 'Results : ') ## called in each function using config to replace results from previous operatiom\n",
    "lr.place(x = 150, y= 200)\n",
    "\n",
    "top.mainloop()"
   ]
  },
  {
   "cell_type": "markdown",
   "id": "d71453fa-edf2-425f-bcd9-c0fb13a8612b",
   "metadata": {},
   "source": [
    "## GUI - 17 Text Classification - binary.ipynb"
   ]
  },
  {
   "cell_type": "code",
   "execution_count": 55,
   "id": "41321521-9837-40cd-8974-829993a7d944",
   "metadata": {},
   "outputs": [],
   "source": [
    "from tkinter import *\n",
    "import joblib\n",
    "\n",
    "## Necessary libraries\n",
    "from nltk.tokenize import word_tokenize\n",
    "from nltk.corpus import stopwords\n",
    "from nltk.stem import PorterStemmer\n",
    "\n",
    "## Stopwords for cleaning\n",
    "swords = stopwords.words('english')\n",
    "\n",
    "## Cleaning function\n",
    "def clean_text(sent):\n",
    "    tokens1 = word_tokenize(sent) ## tokenize\n",
    "    tokens2 = [token for token in tokens1 if token.isalnum()] ## remove punctuations\n",
    "    swords = stopwords.words('english')\n",
    "    tokens3 = [token for token in tokens2 if token.lower() not in swords] ## Remove stopwords\n",
    "    ps = PorterStemmer()\n",
    "    tokens4 = [ps.stem(token) for token in tokens3] ## stemming\n",
    "    return tokens4\n",
    "\n",
    "## Basic title and size of window\n",
    "top = Tk()\n",
    "top.title(\"Text Classification\")\n",
    "top.geometry('800x600')\n",
    "\n",
    "## Check function \n",
    "def check():\n",
    "    classifier = joblib.load('classifier.model') ## upload model\n",
    "    tfidf = joblib.load('preprocessor.model') ## upload tfidf tranformer parameters\n",
    "    message = str(t.get(\"1.0\", END))  ## get message END indicates end of first message\n",
    "\n",
    "    result = classifier.predict(tfidf.transform([message])) ## prediction from output of tfidf function on message\n",
    "    lr.config( text = 'Message is :'+ str(result[0]))  ## replce result from previous message\n",
    "\n",
    "\n",
    "Label(top, text='Enter your message here :').place(x = 50, y = 30)\n",
    "\n",
    "t = Text(top)  \n",
    "t.place(x = 50, y = 70)\n",
    "\n",
    "Button(top, text = 'Check', command = check).place(x = 350, y = 500)\n",
    "\n",
    "lr = Label(top, text = 'Message is : ')\n",
    "lr.place(x = 350, y= 550)\n",
    "\n",
    "top.mainloop()"
   ]
  },
  {
   "cell_type": "code",
   "execution_count": null,
   "id": "d0707a1e-f2f0-486a-a268-5b203f033e11",
   "metadata": {},
   "outputs": [],
   "source": []
  }
 ],
 "metadata": {
  "kernelspec": {
   "display_name": "Python 3 (ipykernel)",
   "language": "python",
   "name": "python3"
  },
  "language_info": {
   "codemirror_mode": {
    "name": "ipython",
    "version": 3
   },
   "file_extension": ".py",
   "mimetype": "text/x-python",
   "name": "python",
   "nbconvert_exporter": "python",
   "pygments_lexer": "ipython3",
   "version": "3.11.7"
  },
  "widgets": {
   "application/vnd.jupyter.widget-state+json": {
    "state": {},
    "version_major": 2,
    "version_minor": 0
   }
  }
 },
 "nbformat": 4,
 "nbformat_minor": 5
}
