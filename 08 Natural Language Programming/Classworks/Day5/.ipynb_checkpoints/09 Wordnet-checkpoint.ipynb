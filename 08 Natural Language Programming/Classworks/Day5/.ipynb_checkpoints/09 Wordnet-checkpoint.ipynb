{
 "cells": [
  {
   "cell_type": "markdown",
   "id": "a8ad7f49",
   "metadata": {},
   "source": [
    "## from nltk.corpus import wordnet"
   ]
  },
  {
   "cell_type": "code",
   "execution_count": 2,
   "id": "26aa7601",
   "metadata": {},
   "outputs": [
    {
     "data": {
      "text/plain": [
       "<WordNetCorpusReader in 'C:\\\\Users\\\\Administrator.DAI-PC2\\\\AppData\\\\Roaming\\\\nltk_data\\\\corpora\\\\wordnet.zip/wordnet/'>"
      ]
     },
     "execution_count": 2,
     "metadata": {},
     "output_type": "execute_result"
    }
   ],
   "source": [
    "wordnet"
   ]
  },
  {
   "cell_type": "markdown",
   "id": "c612c53c",
   "metadata": {},
   "source": [
    "### Synonym"
   ]
  },
  {
   "cell_type": "code",
   "execution_count": 19,
   "id": "38530959",
   "metadata": {},
   "outputs": [
    {
     "data": {
      "text/plain": [
       "[Synset('make.v.03'),\n",
       " Synset('create.v.02'),\n",
       " Synset('create.v.03'),\n",
       " Synset('create.v.04'),\n",
       " Synset('create.v.05'),\n",
       " Synset('produce.v.02')]"
      ]
     },
     "execution_count": 19,
     "metadata": {},
     "output_type": "execute_result"
    }
   ],
   "source": [
    "x = wordnet.synsets('create')\n",
    "x"
   ]
  },
  {
   "cell_type": "code",
   "execution_count": 12,
   "id": "91bcb52f",
   "metadata": {},
   "outputs": [
    {
     "name": "stdout",
     "output_type": "stream",
     "text": [
      "see\n",
      "see\n",
      "understand\n",
      "witness\n",
      "visualize\n",
      "see\n",
      "learn\n",
      "watch\n",
      "meet\n",
      "determine\n",
      "see\n",
      "see\n",
      "see\n",
      "visit\n",
      "attend\n",
      "see\n",
      "go_steady\n",
      "see\n",
      "see\n",
      "see\n",
      "examine\n",
      "experience\n",
      "see\n",
      "see\n",
      "interpret\n"
     ]
    }
   ],
   "source": [
    "for word in wordnet.synsets('see'):\n",
    "    print(word.lemmas()[0].name())\n",
    " "
   ]
  },
  {
   "cell_type": "markdown",
   "id": "271b3093",
   "metadata": {},
   "source": [
    "### unique words in synset"
   ]
  },
  {
   "cell_type": "code",
   "execution_count": 7,
   "id": "ac65e9f1",
   "metadata": {},
   "outputs": [
    {
     "data": {
      "text/plain": [
       "{'create', 'make', 'produce'}"
      ]
     },
     "execution_count": 7,
     "metadata": {},
     "output_type": "execute_result"
    }
   ],
   "source": [
    "synonyms = set()\n",
    "\n",
    "for word in wordnet.synsets('create'):\n",
    "    synonyms.add(word.lemmas()[0].name())\n",
    "    \n",
    "synonyms"
   ]
  },
  {
   "cell_type": "code",
   "execution_count": 8,
   "id": "004c2ba1",
   "metadata": {},
   "outputs": [
    {
     "data": {
      "text/plain": [
       "{'bigmouthed', 'chatty', 'expansive'}"
      ]
     },
     "execution_count": 8,
     "metadata": {},
     "output_type": "execute_result"
    }
   ],
   "source": [
    "synonyms = set()\n",
    "\n",
    "for word in wordnet.synsets('talkative'):\n",
    "    synonyms.add(word.lemmas()[0].name())\n",
    "    \n",
    "synonyms"
   ]
  },
  {
   "cell_type": "code",
   "execution_count": 11,
   "id": "9ed5194f",
   "metadata": {},
   "outputs": [
    {
     "data": {
      "text/plain": [
       "{'attend',\n",
       " 'determine',\n",
       " 'examine',\n",
       " 'experience',\n",
       " 'go_steady',\n",
       " 'interpret',\n",
       " 'learn',\n",
       " 'meet',\n",
       " 'see',\n",
       " 'understand',\n",
       " 'visit',\n",
       " 'visualize',\n",
       " 'watch',\n",
       " 'witness'}"
      ]
     },
     "execution_count": 11,
     "metadata": {},
     "output_type": "execute_result"
    }
   ],
   "source": [
    "synonyms = set()\n",
    "\n",
    "for word in wordnet.synsets('see'):\n",
    "    synonyms.add(word.lemmas()[0].name())\n",
    "    \n",
    "synonyms"
   ]
  },
  {
   "cell_type": "markdown",
   "id": "b7da7c4d",
   "metadata": {},
   "source": [
    "### Definitions and examples"
   ]
  },
  {
   "cell_type": "code",
   "execution_count": 14,
   "id": "1d93ac5b",
   "metadata": {},
   "outputs": [
    {
     "name": "stdout",
     "output_type": "stream",
     "text": [
      "Word and type : post.n.01\n",
      "Synonym : post\n",
      "The meaning of the word : the position where someone (as a guard or sentry) stands or is assigned to stand\n",
      "Example : ['a soldier manned the entrance post', 'a sentry station']\n"
     ]
    }
   ],
   "source": [
    "synset = wordnet.synsets('post')\n",
    "\n",
    "print('Word and type : '+synset[0].name())\n",
    "print('Synonym : '+synset[0].lemmas()[0].name())\n",
    "print('The meaning of the word : '+synset[0].definition())\n",
    "print('Example : '+str(synset[0].examples()))"
   ]
  },
  {
   "cell_type": "code",
   "execution_count": 17,
   "id": "49be49cb",
   "metadata": {},
   "outputs": [
    {
     "name": "stdout",
     "output_type": "stream",
     "text": [
      "Word and type : position.n.06\n",
      "Synonym : position\n",
      "The meaning of the word : a job in an organization\n",
      "Example : ['he occupied a post in the treasury']\n"
     ]
    }
   ],
   "source": [
    "synset = wordnet.synsets('post')\n",
    "\n",
    "print('Word and type : '+synset[2].name())\n",
    "print('Synonym : '+synset[2].lemmas()[0].name())\n",
    "print('The meaning of the word : '+synset[2].definition())\n",
    "print('Example : '+str(synset[2].examples()))"
   ]
  },
  {
   "cell_type": "markdown",
   "id": "2212d87e",
   "metadata": {},
   "source": [
    "### POS filtering the synset"
   ]
  },
  {
   "cell_type": "code",
   "execution_count": 23,
   "id": "9e94a1bc",
   "metadata": {},
   "outputs": [
    {
     "name": "stdout",
     "output_type": "stream",
     "text": [
      "sound.n.01\n",
      "sound.n.02\n",
      "sound.n.03\n",
      "sound.n.04\n",
      "audio.n.01\n",
      "phone.n.02\n",
      "strait.n.01\n",
      "sound.n.08\n",
      "sound.v.01\n",
      "sound.v.02\n",
      "sound.v.03\n",
      "sound.v.04\n",
      "voice.v.02\n",
      "sound.v.06\n",
      "fathom.v.02\n",
      "sound.a.01\n",
      "healthy.s.04\n",
      "sound.a.03\n",
      "good.s.17\n",
      "reasoned.s.01\n",
      "legal.s.03\n",
      "sound.s.07\n",
      "heavy.s.26\n",
      "sound.s.09\n"
     ]
    }
   ],
   "source": [
    "for word in wordnet.synsets('sound'):\n",
    "    print(word.name())"
   ]
  },
  {
   "cell_type": "code",
   "execution_count": 24,
   "id": "4762d3ec",
   "metadata": {},
   "outputs": [
    {
     "name": "stdout",
     "output_type": "stream",
     "text": [
      "sound.v.01\n",
      "sound.v.02\n",
      "sound.v.03\n",
      "sound.v.04\n",
      "voice.v.02\n",
      "sound.v.06\n",
      "fathom.v.02\n"
     ]
    }
   ],
   "source": [
    "for word in wordnet.synsets('sound', pos = 'v'):\n",
    "    print(word.name())"
   ]
  },
  {
   "cell_type": "code",
   "execution_count": 25,
   "id": "12b6aaa8",
   "metadata": {},
   "outputs": [
    {
     "name": "stdout",
     "output_type": "stream",
     "text": [
      "sound.n.01\n",
      "sound.n.02\n",
      "sound.n.03\n",
      "sound.n.04\n",
      "audio.n.01\n",
      "phone.n.02\n",
      "strait.n.01\n",
      "sound.n.08\n"
     ]
    }
   ],
   "source": [
    "for word in wordnet.synsets('sound', pos = 'n'):\n",
    "    print(word.name())"
   ]
  },
  {
   "cell_type": "markdown",
   "id": "7d2646be",
   "metadata": {},
   "source": [
    "### Extract specifica position words"
   ]
  },
  {
   "cell_type": "code",
   "execution_count": 46,
   "id": "5470a1f8",
   "metadata": {},
   "outputs": [
    {
     "data": {
      "text/plain": [
       "({'audio', 'phone', 'sound', 'strait'},\n",
       " {'fathom', 'sound', 'voice'},\n",
       " {'good', 'healthy', 'heavy', 'legal', 'reasoned', 'sound'})"
      ]
     },
     "execution_count": 46,
     "metadata": {},
     "output_type": "execute_result"
    }
   ],
   "source": [
    "verbs = set()\n",
    "nouns = set()\n",
    "adj = set()\n",
    "for word in wordnet.synsets('sound', pos = 'n'):\n",
    "    nouns.add(word.lemmas()[0].name())\n",
    "for word in wordnet.synsets('sound', pos = 'v'):\n",
    "    verbs.add(word.lemmas()[0].name())\n",
    "for word in wordnet.synsets('sound', pos = 'a'):\n",
    "    adj.add(word.lemmas()[0].name())\n",
    "nouns, verbs, adj"
   ]
  },
  {
   "cell_type": "code",
   "execution_count": 26,
   "id": "4ff571c0",
   "metadata": {},
   "outputs": [],
   "source": [
    "## Read a word from user and print all the meanings of it"
   ]
  },
  {
   "cell_type": "code",
   "execution_count": 44,
   "id": "ca545459",
   "metadata": {},
   "outputs": [
    {
     "name": "stdout",
     "output_type": "stream",
     "text": [
      "Enter a word : man\n",
      "Meanings of the word - man are : \n",
      "1 . an adult person who is male (as opposed to a woman)\n",
      "2 . someone who serves in the armed forces; a member of a military force\n",
      "3 . the generic use of the word to refer to any human being\n",
      "4 . any living or extinct member of the family Hominidae characterized by superior intelligence, articulate speech, and erect carriage\n",
      "5 . a male subordinate\n",
      "6 . an adult male person who has a manly character (virile and courageous competent)\n",
      "7 . a manservant who acts as a personal attendant to his employer\n",
      "8 . a male person who plays a significant role (husband or lover or boyfriend) in the life of a particular woman\n",
      "9 . one of the British Isles in the Irish Sea\n",
      "10 . game equipment consisting of an object used in playing certain board games\n",
      "11 . all of the living human inhabitants of the earth\n",
      "12 . take charge of a certain job; occupy a certain work place\n",
      "13 . provide with workers\n"
     ]
    }
   ],
   "source": [
    "word = input('Enter a word : ')\n",
    "synset = wordnet.synsets(word)\n",
    "print('Meanings of the word -',word,'are : ' )\n",
    "for i,j in enumerate(synset):\n",
    "    print(i+1,'.',j.definition())"
   ]
  },
  {
   "cell_type": "code",
   "execution_count": 40,
   "id": "65778468",
   "metadata": {},
   "outputs": [],
   "source": [
    "## Read a word from user and print all noun meanings of it."
   ]
  },
  {
   "cell_type": "code",
   "execution_count": 43,
   "id": "758803c8",
   "metadata": {},
   "outputs": [
    {
     "name": "stdout",
     "output_type": "stream",
     "text": [
      "Enter a word : man\n",
      "Meanings of the word - man are : \n",
      "0 . an adult person who is male (as opposed to a woman)\n",
      "1 . someone who serves in the armed forces; a member of a military force\n",
      "2 . the generic use of the word to refer to any human being\n",
      "3 . any living or extinct member of the family Hominidae characterized by superior intelligence, articulate speech, and erect carriage\n",
      "4 . a male subordinate\n",
      "5 . an adult male person who has a manly character (virile and courageous competent)\n",
      "6 . a manservant who acts as a personal attendant to his employer\n",
      "7 . a male person who plays a significant role (husband or lover or boyfriend) in the life of a particular woman\n",
      "8 . one of the British Isles in the Irish Sea\n",
      "9 . game equipment consisting of an object used in playing certain board games\n",
      "10 . all of the living human inhabitants of the earth\n"
     ]
    }
   ],
   "source": [
    "word = input('Enter a word : ')\n",
    "print('Meanings of the word -',word,'are : ' )\n",
    "for i,j in enumerate(wordnet.synsets(word, pos = 'n')):\n",
    "    print(i,'.',j.definition())"
   ]
  },
  {
   "cell_type": "code",
   "execution_count": null,
   "id": "f991c973",
   "metadata": {},
   "outputs": [],
   "source": []
  }
 ],
 "metadata": {
  "kernelspec": {
   "display_name": "Python 3 (ipykernel)",
   "language": "python",
   "name": "python3"
  },
  "language_info": {
   "codemirror_mode": {
    "name": "ipython",
    "version": 3
   },
   "file_extension": ".py",
   "mimetype": "text/x-python",
   "name": "python",
   "nbconvert_exporter": "python",
   "pygments_lexer": "ipython3",
   "version": "3.11.8"
  }
 },
 "nbformat": 4,
 "nbformat_minor": 5
}
