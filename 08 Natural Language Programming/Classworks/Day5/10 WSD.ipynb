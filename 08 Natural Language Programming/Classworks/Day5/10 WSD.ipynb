{
 "cells": [
  {
   "cell_type": "code",
   "execution_count": 5,
   "id": "9afd49e2",
   "metadata": {},
   "outputs": [],
   "source": [
    "from nltk.wsd import lesk\n",
    "from nltk.tokenize import word_tokenize"
   ]
  },
  {
   "cell_type": "markdown",
   "id": "33064c91",
   "metadata": {},
   "source": [
    "### Example 1"
   ]
  },
  {
   "cell_type": "code",
   "execution_count": 15,
   "id": "5e902fad",
   "metadata": {},
   "outputs": [
    {
     "data": {
      "text/plain": [
       "'deliberate radiation or reflection of electromagnetic energy for the purpose of disrupting enemy use of electronic devices or systems'"
      ]
     },
     "execution_count": 15,
     "metadata": {},
     "output_type": "execute_result"
    }
   ],
   "source": [
    "a1 = lesk(word_tokenize('This device is used to jam the signal.'),'jam')\n",
    "\n",
    "a1.definition()"
   ]
  },
  {
   "cell_type": "code",
   "execution_count": 17,
   "id": "46cde39d",
   "metadata": {},
   "outputs": [
    {
     "data": {
      "text/plain": [
       "'get stuck and immobilized'"
      ]
     },
     "execution_count": 17,
     "metadata": {},
     "output_type": "execute_result"
    }
   ],
   "source": [
    "a2 = lesk(word_tokenize('It is a heavy traffic jam here. We are stuck at same place.'),'jam')\n",
    "\n",
    "a2.definition()"
   ]
  },
  {
   "cell_type": "code",
   "execution_count": 19,
   "id": "b73a19a7",
   "metadata": {},
   "outputs": [
    {
     "data": {
      "text/plain": [
       "'an edible jelly (sweet or pungent) made with gelatin and used as a dessert or salad base or a coating for foods'"
      ]
     },
     "execution_count": 19,
     "metadata": {},
     "output_type": "execute_result"
    }
   ],
   "source": [
    "a3 = lesk(word_tokenize('He likes to eat peanut butter and jelly with bread'),'jelly')\n",
    "\n",
    "a3.definition()"
   ]
  },
  {
   "cell_type": "code",
   "execution_count": 31,
   "id": "630fe9ca",
   "metadata": {},
   "outputs": [
    {
     "data": {
      "text/plain": [
       "'interfere with or prevent the reception of signals'"
      ]
     },
     "execution_count": 31,
     "metadata": {},
     "output_type": "execute_result"
    }
   ],
   "source": [
    "a4 = lesk(word_tokenize('\"Apple jam\" and \"Blackberry jam\" redirect here. For the George Harrison record, see Apple Jam. For the Jason Becker album, see The Blackberry Jams. There are several techniques of making jam, with or without added water. One factor depends on the natural pectin content of the ingredients. When making jam with low-pectin fruits like strawberries, high-pectin fruit like orange can be added, or additional pectin in the form of pectin powder, citric acid or citrus peels. The term preserves is usually interchangeable with jams even though preserves contain chunks or pieces of the fruit whereas jams in some regions do not. Closely related names include: chutney, confit, conserve, fruit butter, fruit curd, fruit spread, jelly, cheese, leather and marmalade.'),'jam')\n",
    "\n",
    "a4.definition()"
   ]
  },
  {
   "cell_type": "markdown",
   "id": "54cb7ba9",
   "metadata": {},
   "source": [
    "### Example 2"
   ]
  },
  {
   "cell_type": "code",
   "execution_count": 21,
   "id": "f4959534",
   "metadata": {},
   "outputs": [
    {
     "data": {
      "text/plain": [
       "'a slope in the turn of a road or track; the outside is higher than the inside in order to reduce the effects of centrifugal force'"
      ]
     },
     "execution_count": 21,
     "metadata": {},
     "output_type": "execute_result"
    }
   ],
   "source": [
    "b1 = lesk(word_tokenize('The bank decided to give contract to the construction firm to build the river edge to reduce the losses due to floods'),'bank')\n",
    "\n",
    "b1.definition()"
   ]
  },
  {
   "cell_type": "code",
   "execution_count": 13,
   "id": "7855020d",
   "metadata": {},
   "outputs": [
    {
     "data": {
      "text/plain": [
       "'a slope in the turn of a road or track; the outside is higher than the inside in order to reduce the effects of centrifugal force'"
      ]
     },
     "execution_count": 13,
     "metadata": {},
     "output_type": "execute_result"
    }
   ],
   "source": [
    "b2 = lesk(word_tokenize('The road was banked t reduce the possibilities of accidents due to high speedig vehicles'),'bank')\n",
    "\n",
    "b2.definition()"
   ]
  },
  {
   "cell_type": "code",
   "execution_count": 25,
   "id": "4395349f",
   "metadata": {},
   "outputs": [
    {
     "data": {
      "text/plain": [
       "'cover with ashes so to control the rate of burning'"
      ]
     },
     "execution_count": 25,
     "metadata": {},
     "output_type": "execute_result"
    }
   ],
   "source": [
    "b3 = lesk(word_tokenize('The bank of the river was very beautiful but due to garbage it has lost its attractiveness'),'bank')\n",
    "\n",
    "b3.definition()"
   ]
  },
  {
   "cell_type": "code",
   "execution_count": 26,
   "id": "5b26d634",
   "metadata": {},
   "outputs": [
    {
     "data": {
      "text/plain": [
       "'a financial institution that accepts deposits and channels the money into lending activities'"
      ]
     },
     "execution_count": 26,
     "metadata": {},
     "output_type": "execute_result"
    }
   ],
   "source": [
    "b4 = lesk(word_tokenize('A bank is a financial institution that accepts deposits from the public and creates a demand deposit while simultaneously making loans. Lending activities can be directly performed by the bank or indirectly through capital markets. Whereas banks play an important role in financial stability and the economy of a country, most jurisdictions exercise a high degree of regulation over banks. Most countries have institutionalized a system known as fractional-reserve banking, under which banks hold liquid assets equal to only a portion of their current liabilities. In addition to other regulations intended to ensure liquidity, banks are generally subject to minimum capital requirements based on an international set of capital standards, the Basel Accords.'),'bank')\n",
    "\n",
    "b4.definition()"
   ]
  },
  {
   "cell_type": "code",
   "execution_count": null,
   "id": "f661e193",
   "metadata": {},
   "outputs": [],
   "source": []
  }
 ],
 "metadata": {
  "kernelspec": {
   "display_name": "Python 3 (ipykernel)",
   "language": "python",
   "name": "python3"
  },
  "language_info": {
   "codemirror_mode": {
    "name": "ipython",
    "version": 3
   },
   "file_extension": ".py",
   "mimetype": "text/x-python",
   "name": "python",
   "nbconvert_exporter": "python",
   "pygments_lexer": "ipython3",
   "version": "3.11.8"
  }
 },
 "nbformat": 4,
 "nbformat_minor": 5
}
