{
 "cells": [
  {
   "cell_type": "code",
   "execution_count": 47,
   "id": "f8f28925",
   "metadata": {},
   "outputs": [],
   "source": [
    "from nltk.corpus import wordnet"
   ]
  },
  {
   "cell_type": "code",
   "execution_count": 2,
   "id": "26aa7601",
   "metadata": {},
   "outputs": [
    {
     "data": {
      "text/plain": [
       "<WordNetCorpusReader in 'C:\\\\Users\\\\Administrator.DAI-PC2\\\\AppData\\\\Roaming\\\\nltk_data\\\\corpora\\\\wordnet.zip/wordnet/'>"
      ]
     },
     "execution_count": 2,
     "metadata": {},
     "output_type": "execute_result"
    }
   ],
   "source": [
    "wordnet"
   ]
  },
  {
   "cell_type": "markdown",
   "id": "c612c53c",
   "metadata": {},
   "source": [
    "### Synonym"
   ]
  },
  {
   "cell_type": "code",
   "execution_count": 19,
   "id": "38530959",
   "metadata": {},
   "outputs": [
    {
     "data": {
      "text/plain": [
       "[Synset('make.v.03'),\n",
       " Synset('create.v.02'),\n",
       " Synset('create.v.03'),\n",
       " Synset('create.v.04'),\n",
       " Synset('create.v.05'),\n",
       " Synset('produce.v.02')]"
      ]
     },
     "execution_count": 19,
     "metadata": {},
     "output_type": "execute_result"
    }
   ],
   "source": [
    "x = wordnet.synsets('create')\n",
    "x"
   ]
  },
  {
   "cell_type": "code",
   "execution_count": 12,
   "id": "91bcb52f",
   "metadata": {},
   "outputs": [
    {
     "name": "stdout",
     "output_type": "stream",
     "text": [
      "see\n",
      "see\n",
      "understand\n",
      "witness\n",
      "visualize\n",
      "see\n",
      "learn\n",
      "watch\n",
      "meet\n",
      "determine\n",
      "see\n",
      "see\n",
      "see\n",
      "visit\n",
      "attend\n",
      "see\n",
      "go_steady\n",
      "see\n",
      "see\n",
      "see\n",
      "examine\n",
      "experience\n",
      "see\n",
      "see\n",
      "interpret\n"
     ]
    }
   ],
   "source": [
    "for word in wordnet.synsets('see'):\n",
    "    print(word.lemmas()[0].name())\n",
    " "
   ]
  },
  {
   "cell_type": "markdown",
   "id": "271b3093",
   "metadata": {},
   "source": [
    "### unique words in synset"
   ]
  },
  {
   "cell_type": "code",
   "execution_count": 7,
   "id": "ac65e9f1",
   "metadata": {},
   "outputs": [
    {
     "data": {
      "text/plain": [
       "{'create', 'make', 'produce'}"
      ]
     },
     "execution_count": 7,
     "metadata": {},
     "output_type": "execute_result"
    }
   ],
   "source": [
    "synonyms = set()\n",
    "\n",
    "for word in wordnet.synsets('create'):\n",
    "    synonyms.add(word.lemmas()[0].name())\n",
    "    \n",
    "synonyms"
   ]
  },
  {
   "cell_type": "code",
   "execution_count": 8,
   "id": "004c2ba1",
   "metadata": {},
   "outputs": [
    {
     "data": {
      "text/plain": [
       "{'bigmouthed', 'chatty', 'expansive'}"
      ]
     },
     "execution_count": 8,
     "metadata": {},
     "output_type": "execute_result"
    }
   ],
   "source": [
    "synonyms = set()\n",
    "\n",
    "for word in wordnet.synsets('talkative'):\n",
    "    synonyms.add(word.lemmas()[0].name())\n",
    "    \n",
    "synonyms"
   ]
  },
  {
   "cell_type": "code",
   "execution_count": 11,
   "id": "9ed5194f",
   "metadata": {},
   "outputs": [
    {
     "data": {
      "text/plain": [
       "{'attend',\n",
       " 'determine',\n",
       " 'examine',\n",
       " 'experience',\n",
       " 'go_steady',\n",
       " 'interpret',\n",
       " 'learn',\n",
       " 'meet',\n",
       " 'see',\n",
       " 'understand',\n",
       " 'visit',\n",
       " 'visualize',\n",
       " 'watch',\n",
       " 'witness'}"
      ]
     },
     "execution_count": 11,
     "metadata": {},
     "output_type": "execute_result"
    }
   ],
   "source": [
    "synonyms = set()\n",
    "\n",
    "for word in wordnet.synsets('see'):\n",
    "    synonyms.add(word.lemmas()[0].name())\n",
    "    \n",
    "synonyms"
   ]
  },
  {
   "cell_type": "markdown",
   "id": "b7da7c4d",
   "metadata": {},
   "source": [
    "### Definitions and examples"
   ]
  },
  {
   "cell_type": "code",
   "execution_count": 14,
   "id": "1d93ac5b",
   "metadata": {},
   "outputs": [
    {
     "name": "stdout",
     "output_type": "stream",
     "text": [
      "Word and type : post.n.01\n",
      "Synonym : post\n",
      "The meaning of the word : the position where someone (as a guard or sentry) stands or is assigned to stand\n",
      "Example : ['a soldier manned the entrance post', 'a sentry station']\n"
     ]
    }
   ],
   "source": [
    "synset = wordnet.synsets('post')\n",
    "\n",
    "print('Word and type : '+synset[0].name())\n",
    "print('Synonym : '+synset[0].lemmas()[0].name())\n",
    "print('The meaning of the word : '+synset[0].definition())\n",
    "print('Example : '+str(synset[0].examples()))"
   ]
  },
  {
   "cell_type": "code",
   "execution_count": 17,
   "id": "49be49cb",
   "metadata": {},
   "outputs": [
    {
     "name": "stdout",
     "output_type": "stream",
     "text": [
      "Word and type : position.n.06\n",
      "Synonym : position\n",
      "The meaning of the word : a job in an organization\n",
      "Example : ['he occupied a post in the treasury']\n"
     ]
    }
   ],
   "source": [
    "synset = wordnet.synsets('post')\n",
    "\n",
    "print('Word and type : '+synset[2].name())\n",
    "print('Synonym : '+synset[2].lemmas()[0].name())\n",
    "print('The meaning of the word : '+synset[2].definition())\n",
    "print('Example : '+str(synset[2].examples()))"
   ]
  },
  {
   "cell_type": "markdown",
   "id": "e1a8666c",
   "metadata": {},
   "source": [
    "### POS filtering the synset"
   ]
  },
  {
   "cell_type": "code",
   "execution_count": 23,
   "id": "2165f430",
   "metadata": {},
   "outputs": [
    {
     "name": "stdout",
     "output_type": "stream",
     "text": [
      "sound.n.01\n",
      "sound.n.02\n",
      "sound.n.03\n",
      "sound.n.04\n",
      "audio.n.01\n",
      "phone.n.02\n",
      "strait.n.01\n",
      "sound.n.08\n",
      "sound.v.01\n",
      "sound.v.02\n",
      "sound.v.03\n",
      "sound.v.04\n",
      "voice.v.02\n",
      "sound.v.06\n",
      "fathom.v.02\n",
      "sound.a.01\n",
      "healthy.s.04\n",
      "sound.a.03\n",
      "good.s.17\n",
      "reasoned.s.01\n",
      "legal.s.03\n",
      "sound.s.07\n",
      "heavy.s.26\n",
      "sound.s.09\n"
     ]
    }
   ],
   "source": [
    "for word in wordnet.synsets('sound'):\n",
    "    print(word.name())"
   ]
  },
  {
   "cell_type": "code",
   "execution_count": 24,
   "id": "2791c5e3",
   "metadata": {},
   "outputs": [
    {
     "name": "stdout",
     "output_type": "stream",
     "text": [
      "sound.v.01\n",
      "sound.v.02\n",
      "sound.v.03\n",
      "sound.v.04\n",
      "voice.v.02\n",
      "sound.v.06\n",
      "fathom.v.02\n"
     ]
    }
   ],
   "source": [
    "for word in wordnet.synsets('sound', pos = 'v'):\n",
    "    print(word.name())"
   ]
  },
  {
   "cell_type": "code",
   "execution_count": 25,
   "id": "12f05863",
   "metadata": {},
   "outputs": [
    {
     "name": "stdout",
     "output_type": "stream",
     "text": [
      "sound.n.01\n",
      "sound.n.02\n",
      "sound.n.03\n",
      "sound.n.04\n",
      "audio.n.01\n",
      "phone.n.02\n",
      "strait.n.01\n",
      "sound.n.08\n"
     ]
    }
   ],
   "source": [
    "for word in wordnet.synsets('sound', pos = 'n'):\n",
    "    print(word.name())"
   ]
  },
  {
   "cell_type": "markdown",
   "id": "866136d8",
   "metadata": {},
   "source": [
    "### Extract specifica position words"
   ]
  },
  {
   "cell_type": "code",
   "execution_count": 46,
   "id": "835e816f",
   "metadata": {},
   "outputs": [
    {
     "data": {
      "text/plain": [
       "({'audio', 'phone', 'sound', 'strait'},\n",
       " {'fathom', 'sound', 'voice'},\n",
       " {'good', 'healthy', 'heavy', 'legal', 'reasoned', 'sound'})"
      ]
     },
     "execution_count": 46,
     "metadata": {},
     "output_type": "execute_result"
    }
   ],
   "source": [
    "verbs = set()\n",
    "nouns = set()\n",
    "adj = set()\n",
    "for word in wordnet.synsets('sound', pos = 'n'):\n",
    "    nouns.add(word.lemmas()[0].name())\n",
    "for word in wordnet.synsets('sound', pos = 'v'):\n",
    "    verbs.add(word.lemmas()[0].name())\n",
    "for word in wordnet.synsets('sound', pos = 'a'):\n",
    "    adj.add(word.lemmas()[0].name())\n",
    "nouns, verbs, adj"
   ]
  },
  {
   "cell_type": "code",
   "execution_count": 26,
   "id": "63f1c680",
   "metadata": {},
   "outputs": [],
   "source": [
    "## Read a word from user and print all the meanings of it"
   ]
  },
  {
   "cell_type": "code",
   "execution_count": 44,
   "id": "df246476",
   "metadata": {},
   "outputs": [
    {
     "name": "stdout",
     "output_type": "stream",
     "text": [
      "Enter a word : man\n",
      "Meanings of the word - man are : \n",
      "1 . an adult person who is male (as opposed to a woman)\n",
      "2 . someone who serves in the armed forces; a member of a military force\n",
      "3 . the generic use of the word to refer to any human being\n",
      "4 . any living or extinct member of the family Hominidae characterized by superior intelligence, articulate speech, and erect carriage\n",
      "5 . a male subordinate\n",
      "6 . an adult male person who has a manly character (virile and courageous competent)\n",
      "7 . a manservant who acts as a personal attendant to his employer\n",
      "8 . a male person who plays a significant role (husband or lover or boyfriend) in the life of a particular woman\n",
      "9 . one of the British Isles in the Irish Sea\n",
      "10 . game equipment consisting of an object used in playing certain board games\n",
      "11 . all of the living human inhabitants of the earth\n",
      "12 . take charge of a certain job; occupy a certain work place\n",
      "13 . provide with workers\n"
     ]
    }
   ],
   "source": [
    "word = input('Enter a word : ')\n",
    "synset = wordnet.synsets(word)\n",
    "print('Meanings of the word -',word,'are : ' )\n",
    "for i,j in enumerate(synset):\n",
    "    print(i+1,'.',j.definition())"
   ]
  },
  {
   "cell_type": "code",
   "execution_count": 40,
   "id": "ec4de006",
   "metadata": {},
   "outputs": [],
   "source": [
    "## Read a word from user and print all noun meanings of it."
   ]
  },
  {
   "cell_type": "code",
   "execution_count": 43,
   "id": "e1ffa7fc",
   "metadata": {},
   "outputs": [
    {
     "name": "stdout",
     "output_type": "stream",
     "text": [
      "Enter a word : man\n",
      "Meanings of the word - man are : \n",
      "0 . an adult person who is male (as opposed to a woman)\n",
      "1 . someone who serves in the armed forces; a member of a military force\n",
      "2 . the generic use of the word to refer to any human being\n",
      "3 . any living or extinct member of the family Hominidae characterized by superior intelligence, articulate speech, and erect carriage\n",
      "4 . a male subordinate\n",
      "5 . an adult male person who has a manly character (virile and courageous competent)\n",
      "6 . a manservant who acts as a personal attendant to his employer\n",
      "7 . a male person who plays a significant role (husband or lover or boyfriend) in the life of a particular woman\n",
      "8 . one of the British Isles in the Irish Sea\n",
      "9 . game equipment consisting of an object used in playing certain board games\n",
      "10 . all of the living human inhabitants of the earth\n"
     ]
    }
   ],
   "source": [
    "word = input('Enter a word : ')\n",
    "print('Meanings of the word -',word,'are : ' )\n",
    "for i,j in enumerate(wordnet.synsets(word, pos = 'n')):\n",
    "    print(i,'.',j.definition())"
   ]
  },
  {
   "cell_type": "markdown",
   "id": "aa5a240d",
   "metadata": {},
   "source": [
    "## Antonyms"
   ]
  },
  {
   "cell_type": "code",
   "execution_count": 48,
   "id": "9e7ca610",
   "metadata": {},
   "outputs": [
    {
     "name": "stdout",
     "output_type": "stream",
     "text": [
      "Antonyms : {'impossible', 'actual'}\n"
     ]
    }
   ],
   "source": [
    "ant= set()\n",
    "for synset in wordnet.synsets(\"Possible\"):\n",
    "    for lemma in synset.lemmas():\n",
    "        if lemma.antonyms():\n",
    "            ant.add(lemma.antonyms()[0].name())\n",
    "print(\"Antonyms :\",ant)"
   ]
  },
  {
   "cell_type": "code",
   "execution_count": 49,
   "id": "3acd1d98",
   "metadata": {},
   "outputs": [
    {
     "name": "stdout",
     "output_type": "stream",
     "text": [
      "Antonyms : {'overcast', 'opaque', 'convict', 'ill-defined', 'unclear', 'cloudy', 'bounce', 'clutter'}\n"
     ]
    }
   ],
   "source": [
    "ant= set()\n",
    "for synset in wordnet.synsets(\"clear\"):\n",
    "    for lemma in synset.lemmas():\n",
    "        if lemma.antonyms():\n",
    "            ant.add(lemma.antonyms()[0].name())\n",
    "print(\"Antonyms :\",ant)"
   ]
  },
  {
   "cell_type": "markdown",
   "id": "f67d1e49",
   "metadata": {},
   "source": [
    "### Extract the hypernyms (general term realted to specific term)"
   ]
  },
  {
   "cell_type": "code",
   "execution_count": 68,
   "id": "d32dd4aa",
   "metadata": {},
   "outputs": [
    {
     "name": "stdout",
     "output_type": "stream",
     "text": [
      "car(hypernym) is hyponym of motor_vehicle.n.01\n",
      "car(hypernym) is hyponym of wheeled_vehicle.n.01\n",
      "car(hypernym) is hyponym of compartment.n.02\n",
      "car(hypernym) is hyponym of compartment.n.02\n",
      "car(hypernym) is hyponym of compartment.n.02\n"
     ]
    }
   ],
   "source": [
    "word = 'car'\n",
    "synsets = wordnet.synsets(word)\n",
    "\n",
    "for synset in synsets:\n",
    "    hypernyms = synset.hypernyms()\n",
    "    \n",
    "    if hypernyms:\n",
    "        for hypernym in hypernyms:\n",
    "            print(f\"{word}(hypernym) is hyponym of {hypernym.name()}\")"
   ]
  },
  {
   "cell_type": "code",
   "execution_count": 69,
   "id": "e6076843",
   "metadata": {},
   "outputs": [
    {
     "name": "stdout",
     "output_type": "stream",
     "text": [
      "water(hypernym) is hyponym of binary_compound.n.01\n",
      "water(hypernym) is hyponym of liquid.n.03\n",
      "water(hypernym) is hyponym of thing.n.12\n",
      "water(hypernym) is hyponym of element.n.05\n",
      "water(hypernym) is hyponym of facility.n.01\n",
      "water(hypernym) is hyponym of body_waste.n.01\n",
      "water(hypernym) is hyponym of food.n.01\n",
      "water(hypernym) is hyponym of liquid.n.01\n",
      "water(hypernym) is hyponym of nutrient.n.02\n",
      "water(hypernym) is hyponym of wet.v.01\n",
      "water(hypernym) is hyponym of supply.v.01\n",
      "water(hypernym) is hyponym of secrete.v.01\n",
      "water(hypernym) is hyponym of fill.v.02\n"
     ]
    }
   ],
   "source": [
    "word = 'water'\n",
    "synsets = wordnet.synsets(word)\n",
    "\n",
    "for synset in synsets:\n",
    "    hypernyms = synset.hypernyms()\n",
    "    \n",
    "    if hypernyms:\n",
    "        for hypernym in hypernyms:\n",
    "            print(f\"{word}(hypernym) is hyponym of {hypernym.name()}\")"
   ]
  },
  {
   "cell_type": "markdown",
   "id": "1c9dcf03",
   "metadata": {},
   "source": [
    "### Extract the meronyms (parts of linked to whole)"
   ]
  },
  {
   "cell_type": "code",
   "execution_count": 73,
   "id": "9c941d57",
   "metadata": {},
   "outputs": [
    {
     "name": "stdout",
     "output_type": "stream",
     "text": [
      "car(holonym) has meronym - accelerator.n.01\n",
      "car(holonym) has meronym - air_bag.n.01\n",
      "car(holonym) has meronym - auto_accessory.n.01\n",
      "car(holonym) has meronym - automobile_engine.n.01\n",
      "car(holonym) has meronym - automobile_horn.n.01\n",
      "car(holonym) has meronym - buffer.n.06\n",
      "car(holonym) has meronym - bumper.n.02\n",
      "car(holonym) has meronym - car_door.n.01\n",
      "car(holonym) has meronym - car_mirror.n.01\n",
      "car(holonym) has meronym - car_seat.n.01\n",
      "car(holonym) has meronym - car_window.n.01\n",
      "car(holonym) has meronym - fender.n.01\n",
      "car(holonym) has meronym - first_gear.n.01\n",
      "car(holonym) has meronym - floorboard.n.02\n",
      "car(holonym) has meronym - gasoline_engine.n.01\n",
      "car(holonym) has meronym - glove_compartment.n.01\n",
      "car(holonym) has meronym - grille.n.02\n",
      "car(holonym) has meronym - high_gear.n.01\n",
      "car(holonym) has meronym - hood.n.09\n",
      "car(holonym) has meronym - luggage_compartment.n.01\n",
      "car(holonym) has meronym - rear_window.n.01\n",
      "car(holonym) has meronym - reverse.n.02\n",
      "car(holonym) has meronym - roof.n.02\n",
      "car(holonym) has meronym - running_board.n.01\n",
      "car(holonym) has meronym - stabilizer_bar.n.01\n",
      "car(holonym) has meronym - sunroof.n.01\n",
      "car(holonym) has meronym - tail_fin.n.02\n",
      "car(holonym) has meronym - third_gear.n.01\n",
      "car(holonym) has meronym - window.n.02\n",
      "car(holonym) has meronym - suspension.n.05\n"
     ]
    }
   ],
   "source": [
    "word = 'car'\n",
    "synsets = wordnet.synsets(word)\n",
    "\n",
    "for synset in synsets:\n",
    "    meronyms = synset.part_meronyms()\n",
    "    \n",
    "    if meronyms:\n",
    "        for meronym in meronyms:\n",
    "            print(f\"{word}(holonym) has meronym - {meronym.name()}\")"
   ]
  },
  {
   "cell_type": "code",
   "execution_count": 74,
   "id": "7d58aa1e",
   "metadata": {},
   "outputs": [
    {
     "name": "stdout",
     "output_type": "stream",
     "text": [
      "body(holonym) has meronym - arm.n.01\n",
      "body(holonym) has meronym - articulatory_system.n.01\n",
      "body(holonym) has meronym - body_substance.n.01\n",
      "body(holonym) has meronym - cavity.n.04\n",
      "body(holonym) has meronym - circulatory_system.n.01\n",
      "body(holonym) has meronym - crotch.n.02\n",
      "body(holonym) has meronym - digestive_system.n.01\n",
      "body(holonym) has meronym - endocrine_system.n.01\n",
      "body(holonym) has meronym - head.n.01\n",
      "body(holonym) has meronym - leg.n.01\n",
      "body(holonym) has meronym - lymphatic_system.n.01\n",
      "body(holonym) has meronym - musculoskeletal_system.n.01\n",
      "body(holonym) has meronym - neck.n.01\n",
      "body(holonym) has meronym - nervous_system.n.01\n",
      "body(holonym) has meronym - pressure_point.n.01\n",
      "body(holonym) has meronym - respiratory_system.n.01\n",
      "body(holonym) has meronym - sensory_system.n.02\n",
      "body(holonym) has meronym - torso.n.01\n",
      "body(holonym) has meronym - vascular_system.n.01\n",
      "body(holonym) has meronym - abdomen.n.01\n",
      "body(holonym) has meronym - back.n.01\n",
      "body(holonym) has meronym - belly.n.02\n",
      "body(holonym) has meronym - buttock.n.01\n",
      "body(holonym) has meronym - buttocks.n.01\n",
      "body(holonym) has meronym - diaphragm.n.02\n",
      "body(holonym) has meronym - haunch.n.01\n",
      "body(holonym) has meronym - hip.n.01\n",
      "body(holonym) has meronym - loins.n.02\n",
      "body(holonym) has meronym - middle.n.03\n",
      "body(holonym) has meronym - serratus.n.01\n",
      "body(holonym) has meronym - shoulder.n.01\n",
      "body(holonym) has meronym - shoulder.n.03\n",
      "body(holonym) has meronym - side.n.03\n",
      "body(holonym) has meronym - spare_tire.n.01\n",
      "body(holonym) has meronym - thorax.n.02\n",
      "body(holonym) has meronym - waist.n.01\n"
     ]
    }
   ],
   "source": [
    "word = 'body'\n",
    "synsets = wordnet.synsets(word)\n",
    "\n",
    "for synset in synsets:\n",
    "    meronyms = synset.part_meronyms()\n",
    "    \n",
    "    if meronyms:\n",
    "        for meronym in meronyms:\n",
    "            print(f\"{word}(holonym) has meronym - {meronym.name()}\")"
   ]
  },
  {
   "cell_type": "code",
   "execution_count": null,
   "id": "908e7789",
   "metadata": {},
   "outputs": [],
   "source": []
  }
 ],
 "metadata": {
  "kernelspec": {
   "display_name": "Python 3 (ipykernel)",
   "language": "python",
   "name": "python3"
  },
  "language_info": {
   "codemirror_mode": {
    "name": "ipython",
    "version": 3
   },
   "file_extension": ".py",
   "mimetype": "text/x-python",
   "name": "python",
   "nbconvert_exporter": "python",
   "pygments_lexer": "ipython3",
   "version": "3.11.7"
  }
 },
 "nbformat": 4,
 "nbformat_minor": 5
}
