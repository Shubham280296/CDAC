{
 "cells": [
  {
   "cell_type": "markdown",
   "id": "8a1fbbf5",
   "metadata": {},
   "source": [
    "## Declare words"
   ]
  },
  {
   "cell_type": "code",
   "execution_count": 22,
   "id": "dfe386af",
   "metadata": {},
   "outputs": [],
   "source": [
    "words1 = 'managing', 'manage', 'management', 'managerial', 'managed'\n",
    "words2 = 'worked', 'workable', 'working', 'worked'\n",
    "words3 = 'big', 'biggest', 'bigger'\n",
    "words4 = 'go', 'gone', 'went', 'going'\n",
    "words5 = 'child', 'children'\n",
    "words6 = 'plays', 'playing', 'played', 'players'"
   ]
  },
  {
   "cell_type": "code",
   "execution_count": 23,
   "id": "68a4d6b5",
   "metadata": {},
   "outputs": [],
   "source": [
    "from nltk.stem import WordNetLemmatizer"
   ]
  },
  {
   "cell_type": "code",
   "execution_count": 24,
   "id": "547106ec",
   "metadata": {},
   "outputs": [],
   "source": [
    "wnl = WordNetLemmatizer()"
   ]
  },
  {
   "cell_type": "code",
   "execution_count": 25,
   "id": "e78b3928",
   "metadata": {},
   "outputs": [
    {
     "data": {
      "text/plain": [
       "'manage'"
      ]
     },
     "execution_count": 25,
     "metadata": {},
     "output_type": "execute_result"
    }
   ],
   "source": [
    "wnl.lemmatize(words1[0], pos = 'v')"
   ]
  },
  {
   "cell_type": "code",
   "execution_count": 26,
   "id": "cd2d5a71",
   "metadata": {},
   "outputs": [
    {
     "name": "stdout",
     "output_type": "stream",
     "text": [
      "went  -->  go\n"
     ]
    }
   ],
   "source": [
    "print(words4[2], ' --> ', wnl.lemmatize(words4[2], pos = 'v'))"
   ]
  },
  {
   "cell_type": "code",
   "execution_count": 27,
   "id": "fa0f3e1c",
   "metadata": {},
   "outputs": [
    {
     "name": "stdout",
     "output_type": "stream",
     "text": [
      "biggest  -->  big\n"
     ]
    }
   ],
   "source": [
    "print(words3[1], ' --> ', wnl.lemmatize(words3[1], pos = 'a'))"
   ]
  },
  {
   "cell_type": "code",
   "execution_count": 28,
   "id": "adbdfbfe",
   "metadata": {},
   "outputs": [
    {
     "name": "stdout",
     "output_type": "stream",
     "text": [
      "playing  -->  playing\n"
     ]
    }
   ],
   "source": [
    "print(words6[1], ' --> ', wnl.lemmatize(words6[1], pos = 'n'))"
   ]
  },
  {
   "cell_type": "code",
   "execution_count": 32,
   "id": "8c68016f",
   "metadata": {},
   "outputs": [
    {
     "name": "stdout",
     "output_type": "stream",
     "text": [
      "worked  -->  worked\n"
     ]
    }
   ],
   "source": [
    "print(words2[3], ' --> ', wnl.lemmatize(words2[3], pos = 'a'))"
   ]
  },
  {
   "cell_type": "code",
   "execution_count": null,
   "id": "2f3b4f2a",
   "metadata": {},
   "outputs": [],
   "source": []
  }
 ],
 "metadata": {
  "kernelspec": {
   "display_name": "Python 3 (ipykernel)",
   "language": "python",
   "name": "python3"
  },
  "language_info": {
   "codemirror_mode": {
    "name": "ipython",
    "version": 3
   },
   "file_extension": ".py",
   "mimetype": "text/x-python",
   "name": "python",
   "nbconvert_exporter": "python",
   "pygments_lexer": "ipython3",
   "version": "3.11.8"
  }
 },
 "nbformat": 4,
 "nbformat_minor": 5
}
