{
 "cells": [
  {
   "cell_type": "code",
   "execution_count": 1,
   "id": "be934dc5",
   "metadata": {},
   "outputs": [],
   "source": [
    "import json \n",
    "with open(\"intents.json\", 'r') as f:\n",
    "    data = json.load(f)"
   ]
  },
  {
   "cell_type": "code",
   "execution_count": 2,
   "id": "d986cb76",
   "metadata": {},
   "outputs": [
    {
     "data": {
      "text/plain": [
       "list"
      ]
     },
     "execution_count": 2,
     "metadata": {},
     "output_type": "execute_result"
    }
   ],
   "source": [
    "type(data)"
   ]
  },
  {
   "cell_type": "code",
   "execution_count": 3,
   "id": "656595e6",
   "metadata": {},
   "outputs": [
    {
     "data": {
      "text/plain": [
       "[{'tag': 'welcome',\n",
       "  'patterns': ['Hi',\n",
       "   'How are you',\n",
       "   'Is any one to talk?',\n",
       "   'Hello',\n",
       "   'hi are you available'],\n",
       "  'responses': ['Hello, thanks for contacting us',\n",
       "   'Good to see you here',\n",
       "   ' Hi there, how may I assist you?']},\n",
       " {'tag': 'goodbye',\n",
       "  'patterns': ['Bye', 'See you later', 'Goodbye', 'I will come back soon'],\n",
       "  'responses': ['See you later, thanks for visiting',\n",
       "   'have a great day ahead',\n",
       "   'Wish you Come back again soon.']},\n",
       " {'tag': 'thankful',\n",
       "  'patterns': ['Thanks for helping me',\n",
       "   'Thank your guidance',\n",
       "   \"That's helpful and kind from you\"],\n",
       "  'responses': ['Happy to help!',\n",
       "   'Any time!',\n",
       "   'My pleasure',\n",
       "   'It is my duty to help you']},\n",
       " {'tag': 'hoursopening',\n",
       "  'patterns': ['What hours are you open?',\n",
       "   'Tell your opening time?',\n",
       "   'When are you open?',\n",
       "   'Just your timing please'],\n",
       "  'responses': [\"We're open every day 8am-7pm\",\n",
       "   'Our office hours are 8am-7pm every day',\n",
       "   'We open office at 8 am and close at 7 pm']},\n",
       " {'tag': 'payments',\n",
       "  'patterns': ['Can I pay using credit card?',\n",
       "   ' Can I pay using Mastercard?',\n",
       "   ' Can I pay using cash only?'],\n",
       "  'responses': ['We accept VISA, Mastercard and credit card',\n",
       "   'We accept credit card, debit cards and cash. Please donâ€™t worry']}]"
      ]
     },
     "execution_count": 3,
     "metadata": {},
     "output_type": "execute_result"
    }
   ],
   "source": [
    "data"
   ]
  },
  {
   "cell_type": "code",
   "execution_count": 4,
   "id": "e2488e07",
   "metadata": {},
   "outputs": [
    {
     "data": {
      "text/plain": [
       "['Hi', 'How are you', 'Is any one to talk?', 'Hello', 'hi are you available']"
      ]
     },
     "execution_count": 4,
     "metadata": {},
     "output_type": "execute_result"
    }
   ],
   "source": [
    "data[0]['patterns']"
   ]
  },
  {
   "cell_type": "code",
   "execution_count": 5,
   "id": "a78d72ef",
   "metadata": {},
   "outputs": [
    {
     "data": {
      "text/plain": [
       "['Hello, thanks for contacting us',\n",
       " 'Good to see you here',\n",
       " ' Hi there, how may I assist you?']"
      ]
     },
     "execution_count": 5,
     "metadata": {},
     "output_type": "execute_result"
    }
   ],
   "source": [
    "data[0]['responses']"
   ]
  },
  {
   "cell_type": "code",
   "execution_count": 6,
   "id": "84ccc601",
   "metadata": {},
   "outputs": [
    {
     "data": {
      "text/html": [
       "<div>\n",
       "<style scoped>\n",
       "    .dataframe tbody tr th:only-of-type {\n",
       "        vertical-align: middle;\n",
       "    }\n",
       "\n",
       "    .dataframe tbody tr th {\n",
       "        vertical-align: top;\n",
       "    }\n",
       "\n",
       "    .dataframe thead th {\n",
       "        text-align: right;\n",
       "    }\n",
       "</style>\n",
       "<table border=\"1\" class=\"dataframe\">\n",
       "  <thead>\n",
       "    <tr style=\"text-align: right;\">\n",
       "      <th></th>\n",
       "      <th>tag</th>\n",
       "      <th>patterns</th>\n",
       "      <th>responses</th>\n",
       "    </tr>\n",
       "  </thead>\n",
       "  <tbody>\n",
       "    <tr>\n",
       "      <th>0</th>\n",
       "      <td>welcome</td>\n",
       "      <td>[Hi, How are you, Is any one to talk?, Hello, ...</td>\n",
       "      <td>[Hello, thanks for contacting us, Good to see ...</td>\n",
       "    </tr>\n",
       "    <tr>\n",
       "      <th>1</th>\n",
       "      <td>goodbye</td>\n",
       "      <td>[Bye, See you later, Goodbye, I will come back...</td>\n",
       "      <td>[See you later, thanks for visiting, have a gr...</td>\n",
       "    </tr>\n",
       "    <tr>\n",
       "      <th>2</th>\n",
       "      <td>thankful</td>\n",
       "      <td>[Thanks for helping me, Thank your guidance, T...</td>\n",
       "      <td>[Happy to help!, Any time!, My pleasure, It is...</td>\n",
       "    </tr>\n",
       "    <tr>\n",
       "      <th>3</th>\n",
       "      <td>hoursopening</td>\n",
       "      <td>[What hours are you open?, Tell your opening t...</td>\n",
       "      <td>[We're open every day 8am-7pm, Our office hour...</td>\n",
       "    </tr>\n",
       "    <tr>\n",
       "      <th>4</th>\n",
       "      <td>payments</td>\n",
       "      <td>[Can I pay using credit card?,  Can I pay usin...</td>\n",
       "      <td>[We accept VISA, Mastercard and credit card, W...</td>\n",
       "    </tr>\n",
       "  </tbody>\n",
       "</table>\n",
       "</div>"
      ],
      "text/plain": [
       "            tag                                           patterns  \\\n",
       "0       welcome  [Hi, How are you, Is any one to talk?, Hello, ...   \n",
       "1       goodbye  [Bye, See you later, Goodbye, I will come back...   \n",
       "2      thankful  [Thanks for helping me, Thank your guidance, T...   \n",
       "3  hoursopening  [What hours are you open?, Tell your opening t...   \n",
       "4      payments  [Can I pay using credit card?,  Can I pay usin...   \n",
       "\n",
       "                                           responses  \n",
       "0  [Hello, thanks for contacting us, Good to see ...  \n",
       "1  [See you later, thanks for visiting, have a gr...  \n",
       "2  [Happy to help!, Any time!, My pleasure, It is...  \n",
       "3  [We're open every day 8am-7pm, Our office hour...  \n",
       "4  [We accept VISA, Mastercard and credit card, W...  "
      ]
     },
     "execution_count": 6,
     "metadata": {},
     "output_type": "execute_result"
    }
   ],
   "source": [
    "import pandas as pd\n",
    "\n",
    "df = pd.DataFrame(data)\n",
    "df"
   ]
  },
  {
   "cell_type": "code",
   "execution_count": 7,
   "id": "a68b663a",
   "metadata": {},
   "outputs": [
    {
     "data": {
      "text/plain": [
       "['Thanks for helping me',\n",
       " 'Thank your guidance',\n",
       " \"That's helpful and kind from you\"]"
      ]
     },
     "execution_count": 7,
     "metadata": {},
     "output_type": "execute_result"
    }
   ],
   "source": [
    "df['patterns'][2]"
   ]
  },
  {
   "cell_type": "code",
   "execution_count": 8,
   "id": "8eb91681",
   "metadata": {},
   "outputs": [
    {
     "data": {
      "text/html": [
       "<div>\n",
       "<style scoped>\n",
       "    .dataframe tbody tr th:only-of-type {\n",
       "        vertical-align: middle;\n",
       "    }\n",
       "\n",
       "    .dataframe tbody tr th {\n",
       "        vertical-align: top;\n",
       "    }\n",
       "\n",
       "    .dataframe thead th {\n",
       "        text-align: right;\n",
       "    }\n",
       "</style>\n",
       "<table border=\"1\" class=\"dataframe\">\n",
       "  <thead>\n",
       "    <tr style=\"text-align: right;\">\n",
       "      <th></th>\n",
       "      <th>tag</th>\n",
       "      <th>patterns</th>\n",
       "      <th>responses</th>\n",
       "    </tr>\n",
       "  </thead>\n",
       "  <tbody>\n",
       "    <tr>\n",
       "      <th>0</th>\n",
       "      <td>welcome</td>\n",
       "      <td>Hi, How are you, Is any one to talk?, Hello, h...</td>\n",
       "      <td>Hello, thanks for contacting us, Good to see y...</td>\n",
       "    </tr>\n",
       "    <tr>\n",
       "      <th>1</th>\n",
       "      <td>goodbye</td>\n",
       "      <td>Bye, See you later, Goodbye, I will come back ...</td>\n",
       "      <td>See you later, thanks for visiting, have a gre...</td>\n",
       "    </tr>\n",
       "    <tr>\n",
       "      <th>2</th>\n",
       "      <td>thankful</td>\n",
       "      <td>Thanks for helping me, Thank your guidance, Th...</td>\n",
       "      <td>Happy to help!, Any time!, My pleasure, It is ...</td>\n",
       "    </tr>\n",
       "    <tr>\n",
       "      <th>3</th>\n",
       "      <td>hoursopening</td>\n",
       "      <td>What hours are you open?, Tell your opening ti...</td>\n",
       "      <td>We're open every day 8am-7pm, Our office hours...</td>\n",
       "    </tr>\n",
       "    <tr>\n",
       "      <th>4</th>\n",
       "      <td>payments</td>\n",
       "      <td>Can I pay using credit card?,  Can I pay using...</td>\n",
       "      <td>We accept VISA, Mastercard and credit card, We...</td>\n",
       "    </tr>\n",
       "  </tbody>\n",
       "</table>\n",
       "</div>"
      ],
      "text/plain": [
       "            tag                                           patterns  \\\n",
       "0       welcome  Hi, How are you, Is any one to talk?, Hello, h...   \n",
       "1       goodbye  Bye, See you later, Goodbye, I will come back ...   \n",
       "2      thankful  Thanks for helping me, Thank your guidance, Th...   \n",
       "3  hoursopening  What hours are you open?, Tell your opening ti...   \n",
       "4      payments  Can I pay using credit card?,  Can I pay using...   \n",
       "\n",
       "                                           responses  \n",
       "0  Hello, thanks for contacting us, Good to see y...  \n",
       "1  See you later, thanks for visiting, have a gre...  \n",
       "2  Happy to help!, Any time!, My pleasure, It is ...  \n",
       "3  We're open every day 8am-7pm, Our office hours...  \n",
       "4  We accept VISA, Mastercard and credit card, We...  "
      ]
     },
     "execution_count": 8,
     "metadata": {},
     "output_type": "execute_result"
    }
   ],
   "source": [
    "df['patterns'] = df['patterns'].apply(\", \".join)\n",
    "df['responses'] = df['responses'].apply(\", \".join)\n",
    "df"
   ]
  },
  {
   "cell_type": "markdown",
   "id": "4e72c6be",
   "metadata": {},
   "source": [
    "### Cleaning data"
   ]
  },
  {
   "cell_type": "code",
   "execution_count": 9,
   "id": "45b1ad65",
   "metadata": {},
   "outputs": [],
   "source": [
    "from nltk.corpus import stopwords\n",
    "from textblob import Word\n",
    "import string\n",
    "from nltk.tokenize import word_tokenize\n",
    "\n",
    "stop = stopwords.words('english')"
   ]
  },
  {
   "cell_type": "code",
   "execution_count": 10,
   "id": "d7d87b6f",
   "metadata": {},
   "outputs": [
    {
     "name": "stderr",
     "output_type": "stream",
     "text": [
      "C:\\Users\\Administrator.DAI-PC2\\AppData\\Local\\Temp\\ipykernel_9536\\1055189548.py:3: FutureWarning: The default value of regex will change from True to False in a future version.\n",
      "  df['patterns'] = df['patterns'].str.replace('[^\\W\\S]','')\n"
     ]
    },
    {
     "data": {
      "text/html": [
       "<div>\n",
       "<style scoped>\n",
       "    .dataframe tbody tr th:only-of-type {\n",
       "        vertical-align: middle;\n",
       "    }\n",
       "\n",
       "    .dataframe tbody tr th {\n",
       "        vertical-align: top;\n",
       "    }\n",
       "\n",
       "    .dataframe thead th {\n",
       "        text-align: right;\n",
       "    }\n",
       "</style>\n",
       "<table border=\"1\" class=\"dataframe\">\n",
       "  <thead>\n",
       "    <tr style=\"text-align: right;\">\n",
       "      <th></th>\n",
       "      <th>tag</th>\n",
       "      <th>patterns</th>\n",
       "      <th>responses</th>\n",
       "    </tr>\n",
       "  </thead>\n",
       "  <tbody>\n",
       "    <tr>\n",
       "      <th>0</th>\n",
       "      <td>welcome</td>\n",
       "      <td>hi one talk hello hi available</td>\n",
       "      <td>Hello, thanks for contacting us, Good to see y...</td>\n",
       "    </tr>\n",
       "    <tr>\n",
       "      <th>1</th>\n",
       "      <td>goodbye</td>\n",
       "      <td>bye see later goodbye come back soon</td>\n",
       "      <td>See you later, thanks for visiting, have a gre...</td>\n",
       "    </tr>\n",
       "    <tr>\n",
       "      <th>2</th>\n",
       "      <td>thankful</td>\n",
       "      <td>thank help thank guidance 's helpful kind</td>\n",
       "      <td>Happy to help!, Any time!, My pleasure, It is ...</td>\n",
       "    </tr>\n",
       "    <tr>\n",
       "      <th>3</th>\n",
       "      <td>hoursopening</td>\n",
       "      <td>hours open tell open time open time please</td>\n",
       "      <td>We're open every day 8am-7pm, Our office hours...</td>\n",
       "    </tr>\n",
       "    <tr>\n",
       "      <th>4</th>\n",
       "      <td>payments</td>\n",
       "      <td>pay use credit card pay use mastercard pay use...</td>\n",
       "      <td>We accept VISA, Mastercard and credit card, We...</td>\n",
       "    </tr>\n",
       "  </tbody>\n",
       "</table>\n",
       "</div>"
      ],
      "text/plain": [
       "            tag                                           patterns  \\\n",
       "0       welcome                     hi one talk hello hi available   \n",
       "1       goodbye               bye see later goodbye come back soon   \n",
       "2      thankful          thank help thank guidance 's helpful kind   \n",
       "3  hoursopening         hours open tell open time open time please   \n",
       "4      payments  pay use credit card pay use mastercard pay use...   \n",
       "\n",
       "                                           responses  \n",
       "0  Hello, thanks for contacting us, Good to see y...  \n",
       "1  See you later, thanks for visiting, have a gre...  \n",
       "2  Happy to help!, Any time!, My pleasure, It is ...  \n",
       "3  We're open every day 8am-7pm, Our office hours...  \n",
       "4  We accept VISA, Mastercard and credit card, We...  "
      ]
     },
     "execution_count": 10,
     "metadata": {},
     "output_type": "execute_result"
    }
   ],
   "source": [
    "df['patterns'] = df['patterns'].apply(lambda x: \" \".join(x.lower() for x in word_tokenize(x)))                                      \n",
    "df['patterns'] = df['patterns'].apply(lambda x: \" \".join(x for x in word_tokenize(x) if x not in string.punctuation))\n",
    "df['patterns'] = df['patterns'].str.replace('[^\\W\\S]','')\n",
    "df['patterns'] = df['patterns'].apply(lambda x: \" \".join(x for x in word_tokenize(x) if not x.isdigit()))\n",
    "df['patterns'] = df['patterns'].apply(lambda x: \" \".join(x for x in word_tokenize(x) if not x in stop))\n",
    "df['patterns'] = df['patterns'].apply(lambda x: \" \".join(Word(word).lemmatize(pos='v') for word in word_tokenize(x)))\n",
    "df"
   ]
  },
  {
   "cell_type": "code",
   "execution_count": 11,
   "id": "4b50ffc3",
   "metadata": {},
   "outputs": [
    {
     "data": {
      "text/plain": [
       "[['hi', 'one', 'talk', 'hello', 'hi', 'available'],\n",
       " ['bye', 'see', 'later', 'goodbye', 'come', 'back', 'soon'],\n",
       " ['thank', 'help', 'thank', 'guidance', \"'s\", 'helpful', 'kind'],\n",
       " ['hours', 'open', 'tell', 'open', 'time', 'open', 'time', 'please'],\n",
       " ['pay',\n",
       "  'use',\n",
       "  'credit',\n",
       "  'card',\n",
       "  'pay',\n",
       "  'use',\n",
       "  'mastercard',\n",
       "  'pay',\n",
       "  'use',\n",
       "  'cash']]"
      ]
     },
     "execution_count": 11,
     "metadata": {},
     "output_type": "execute_result"
    }
   ],
   "source": [
    "# taking the outer list (list of all words in pattern column)\n",
    "bugger_list = []\n",
    "for i in df['patterns']:\n",
    "    li = i.split()\n",
    "    bugger_list.append(li)\n",
    "\n",
    "bugger_list"
   ]
  },
  {
   "cell_type": "code",
   "execution_count": 12,
   "id": "55d7feeb",
   "metadata": {},
   "outputs": [],
   "source": [
    "from gensim.models import Word2Vec\n",
    "\n",
    "## Custom data is fed to machine for further processing \n",
    "model = Word2Vec(bugger_list, min_count = 1, vector_size=2)"
   ]
  },
  {
   "cell_type": "code",
   "execution_count": 13,
   "id": "07a5e02b",
   "metadata": {},
   "outputs": [
    {
     "data": {
      "text/plain": [
       "<gensim.models.keyedvectors.KeyedVectors at 0x172bbc89150>"
      ]
     },
     "execution_count": 13,
     "metadata": {},
     "output_type": "execute_result"
    }
   ],
   "source": [
    "model.wv"
   ]
  },
  {
   "cell_type": "code",
   "execution_count": 14,
   "id": "cc824cf9",
   "metadata": {},
   "outputs": [
    {
     "data": {
      "text/plain": [
       "array([0.32294363, 0.4486494 ], dtype=float32)"
      ]
     },
     "execution_count": 14,
     "metadata": {},
     "output_type": "execute_result"
    }
   ],
   "source": [
    "model.wv['hi']"
   ]
  },
  {
   "cell_type": "code",
   "execution_count": 15,
   "id": "2ef822e5",
   "metadata": {},
   "outputs": [
    {
     "data": {
      "text/plain": [
       "array([-0.22683066,  0.32770258], dtype=float32)"
      ]
     },
     "execution_count": 15,
     "metadata": {},
     "output_type": "execute_result"
    }
   ],
   "source": [
    "model.wv['hello']"
   ]
  },
  {
   "cell_type": "code",
   "execution_count": 16,
   "id": "c5d80d6c",
   "metadata": {},
   "outputs": [
    {
     "data": {
      "text/plain": [
       "array([-0.38314208,  0.48097077], dtype=float32)"
      ]
     },
     "execution_count": 16,
     "metadata": {},
     "output_type": "execute_result"
    }
   ],
   "source": [
    "model.wv['hours']"
   ]
  },
  {
   "cell_type": "code",
   "execution_count": 17,
   "id": "58a4941f",
   "metadata": {},
   "outputs": [
    {
     "data": {
      "text/plain": [
       "dict_keys(['pay', 'open', 'use', 'hi', 'time', 'thank', 'hello', 'talk', 'soon', 'one', 'bye', 'see', 'later', 'goodbye', 'come', 'back', 'available', 'cash', 'help', 'mastercard', \"'s\", 'helpful', 'kind', 'hours', 'tell', 'please', 'credit', 'card', 'guidance'])"
      ]
     },
     "execution_count": 17,
     "metadata": {},
     "output_type": "execute_result"
    }
   ],
   "source": [
    "model.wv.key_to_index.keys()"
   ]
  },
  {
   "cell_type": "code",
   "execution_count": 55,
   "id": "1e3a633d",
   "metadata": {},
   "outputs": [
    {
     "data": {
      "image/png": "[encoded data removed]",
      "text/plain": [
       "<Figure size 640x480 with 1 Axes>"
      ]
     },
     "metadata": {},
     "output_type": "display_data"
    }
   ],
   "source": [
    "import matplotlib.pyplot as plt\n",
    "\n",
    "vector = [list(model.wv[i]) for i in list(model.wv.key_to_index.keys())]\n",
    "index = [i for i in model.wv.key_to_index.keys()]\n",
    "df1 = pd.DataFrame(vector, index = index,columns = ['x','y'])\n",
    "\n",
    "fig, ax = plt.subplots()\n",
    "ax.scatter(df1['x'], df1['y'])\n",
    "\n",
    "for i, txt in enumerate(df1.index):\n",
    "    ax.annotate(txt, (df1.iloc[i,0]+0.01, df1.iloc[i,1]+0.01))"
   ]
  },
  {
   "cell_type": "code",
   "execution_count": 52,
   "id": "3ccc199d",
   "metadata": {},
   "outputs": [
    {
     "data": {
      "text/plain": [
       "array([[0.9997937]], dtype=float32)"
      ]
     },
     "execution_count": 52,
     "metadata": {},
     "output_type": "execute_result"
    }
   ],
   "source": [
    "from sklearn.metrics.pairwise import cosine_similarity\n",
    "cosine_similarity(model.wv['tell'].reshape(1,-1),model.wv['open'].reshape(1,-1))"
   ]
  },
  {
   "cell_type": "code",
   "execution_count": 57,
   "id": "46b12dda",
   "metadata": {},
   "outputs": [
    {
     "data": {
      "text/plain": [
       "array([[-0.9747792]], dtype=float32)"
      ]
     },
     "execution_count": 57,
     "metadata": {},
     "output_type": "execute_result"
    }
   ],
   "source": [
    "from sklearn.metrics.pairwise import cosine_similarity\n",
    "cosine_similarity(model.wv['tell'].reshape(1,-1),model.wv['one'].reshape(1,-1))"
   ]
  },
  {
   "cell_type": "code",
   "execution_count": 61,
   "id": "216a9e83",
   "metadata": {},
   "outputs": [
    {
     "data": {
      "text/plain": [
       "[('available', 0.9997782707214355),\n",
       " ('later', 0.99005126953125),\n",
       " ('card', 0.9887735843658447),\n",
       " ('guidance', 0.9393491148948669),\n",
       " ('thank', 0.909856379032135)]"
      ]
     },
     "execution_count": 61,
     "metadata": {},
     "output_type": "execute_result"
    }
   ],
   "source": [
    "model.wv.most_similar('help', topn=5)"
   ]
  },
  {
   "cell_type": "code",
   "execution_count": 62,
   "id": "03412afd",
   "metadata": {},
   "outputs": [
    {
     "data": {
      "text/plain": [
       "'see'"
      ]
     },
     "execution_count": 62,
     "metadata": {},
     "output_type": "execute_result"
    }
   ],
   "source": [
    "dissimilar_words = model.wv.doesnt_match(\"see you later, thanks for visiting\".split())\n",
    "dissimilar_words"
   ]
  },
  {
   "cell_type": "code",
   "execution_count": null,
   "id": "4318236d",
   "metadata": {},
   "outputs": [],
   "source": [
    " "
   ]
  }
 ],
 "metadata": {
  "kernelspec": {
   "display_name": "Python 3 (ipykernel)",
   "language": "python",
   "name": "python3"
  },
  "language_info": {
   "codemirror_mode": {
    "name": "ipython",
    "version": 3
   },
   "file_extension": ".py",
   "mimetype": "text/x-python",
   "name": "python",
   "nbconvert_exporter": "python",
   "pygments_lexer": "ipython3",
   "version": "3.11.7"
  }
 },
 "nbformat": 4,
 "nbformat_minor": 5
}
