{
 "cells": [
  {
   "cell_type": "markdown",
   "id": "d498200d",
   "metadata": {},
   "source": [
    "### Install gensim library"
   ]
  },
  {
   "cell_type": "code",
   "execution_count": 1,
   "id": "33192701",
   "metadata": {},
   "outputs": [
    {
     "name": "stdout",
     "output_type": "stream",
     "text": [
      "Note: you may need to restart the kernel to use updated packages.Requirement already satisfied: gensim in c:\\users\\administrator.dai-pc2\\anaconda3\\lib\\site-packages (4.3.0)\n",
      "Requirement already satisfied: numpy>=1.18.5 in c:\\users\\administrator.dai-pc2\\anaconda3\\lib\\site-packages (from gensim) (1.24.3)\n",
      "Requirement already satisfied: scipy>=1.7.0 in c:\\users\\administrator.dai-pc2\\anaconda3\\lib\\site-packages (from gensim) (1.13.0)\n",
      "Requirement already satisfied: smart-open>=1.8.1 in c:\\users\\administrator.dai-pc2\\anaconda3\\lib\\site-packages (from gensim) (5.2.1)\n",
      "Collecting FuzzyTM>=0.4.0 (from gensim)\n",
      "  Downloading FuzzyTM-2.0.9-py3-none-any.whl.metadata (7.9 kB)\n",
      "Requirement already satisfied: pandas in c:\\users\\administrator.dai-pc2\\anaconda3\\lib\\site-packages (from FuzzyTM>=0.4.0->gensim) (2.1.4)\n",
      "Collecting pyfume (from FuzzyTM>=0.4.0->gensim)\n",
      "  Downloading pyFUME-0.3.4-py3-none-any.whl.metadata (9.7 kB)\n",
      "Requirement already satisfied: python-dateutil>=2.8.2 in c:\\users\\administrator.dai-pc2\\anaconda3\\lib\\site-packages (from pandas->FuzzyTM>=0.4.0->gensim) (2.8.2)\n",
      "Requirement already satisfied: pytz>=2020.1 in c:\\users\\administrator.dai-pc2\\anaconda3\\lib\\site-packages (from pandas->FuzzyTM>=0.4.0->gensim) (2023.3.post1)\n",
      "Requirement already satisfied: tzdata>=2022.1 in c:\\users\\administrator.dai-pc2\\anaconda3\\lib\\site-packages (from pandas->FuzzyTM>=0.4.0->gensim) (2023.3)\n",
      "Collecting scipy>=1.7.0 (from gensim)\n",
      "  Downloading scipy-1.10.1-cp311-cp311-win_amd64.whl.metadata (58 kB)\n",
      "     ---------------------------------------- 0.0/59.0 kB ? eta -:--:--\n",
      "     ---------------------------------- ----- 51.2/59.0 kB 2.7 MB/s eta 0:00:01\n",
      "     ---------------------------------------- 59.0/59.0 kB 1.0 MB/s eta 0:00:00\n",
      "Collecting numpy>=1.18.5 (from gensim)\n",
      "  Downloading numpy-1.24.4-cp311-cp311-win_amd64.whl.metadata (5.6 kB)\n",
      "Collecting simpful==2.12.0 (from pyfume->FuzzyTM>=0.4.0->gensim)\n",
      "  Downloading simpful-2.12.0-py3-none-any.whl.metadata (4.8 kB)\n",
      "Collecting fst-pso==1.8.1 (from pyfume->FuzzyTM>=0.4.0->gensim)\n",
      "  Downloading fst-pso-1.8.1.tar.gz (18 kB)\n",
      "  Preparing metadata (setup.py): started\n",
      "  Preparing metadata (setup.py): finished with status 'done'\n",
      "Collecting pandas (from FuzzyTM>=0.4.0->gensim)\n",
      "  Downloading pandas-1.5.3-cp311-cp311-win_amd64.whl.metadata (12 kB)\n",
      "Collecting miniful (from fst-pso==1.8.1->pyfume->FuzzyTM>=0.4.0->gensim)\n",
      "  Downloading miniful-0.0.6.tar.gz (2.8 kB)\n",
      "  Preparing metadata (setup.py): started\n",
      "  Preparing metadata (setup.py): finished with status 'done'\n",
      "Requirement already satisfied: six>=1.5 in c:\\users\\administrator.dai-pc2\\anaconda3\\lib\\site-packages (from python-dateutil>=2.8.2->pandas->FuzzyTM>=0.4.0->gensim) (1.16.0)\n",
      "Downloading FuzzyTM-2.0.9-py3-none-any.whl (31 kB)\n",
      "Downloading pyFUME-0.3.4-py3-none-any.whl (60 kB)\n",
      "   ---------------------------------------- 0.0/60.3 kB ? eta -:--:--\n",
      "   ---------------------------------------- 60.3/60.3 kB 3.3 MB/s eta 0:00:00\n",
      "Downloading numpy-1.24.4-cp311-cp311-win_amd64.whl (14.8 MB)\n",
      "   ---------------------------------------- 0.0/14.8 MB ? eta -:--:--\n",
      "    --------------------------------------- 0.4/14.8 MB 11.2 MB/s eta 0:00:02\n",
      "   -- ------------------------------------- 0.8/14.8 MB 8.8 MB/s eta 0:00:02\n",
      "   --- ------------------------------------ 1.3/14.8 MB 8.9 MB/s eta 0:00:02\n",
      "   ---- ----------------------------------- 1.6/14.8 MB 8.7 MB/s eta 0:00:02\n",
      "   ----- ---------------------------------- 2.1/14.8 MB 9.1 MB/s eta 0:00:02\n",
      "   ------ --------------------------------- 2.5/14.8 MB 8.9 MB/s eta 0:00:02\n",
      "   ------- -------------------------------- 2.9/14.8 MB 8.9 MB/s eta 0:00:02\n",
      "   --------- ------------------------------ 3.4/14.8 MB 9.1 MB/s eta 0:00:02\n",
      "   ---------- ----------------------------- 3.8/14.8 MB 9.0 MB/s eta 0:00:02\n",
      "   ----------- ---------------------------- 4.1/14.8 MB 8.5 MB/s eta 0:00:02\n",
      "   ------------ --------------------------- 4.5/14.8 MB 8.7 MB/s eta 0:00:02\n",
      "   ------------- -------------------------- 4.8/14.8 MB 8.5 MB/s eta 0:00:02\n",
      "   -------------- ------------------------- 5.3/14.8 MB 8.5 MB/s eta 0:00:02\n",
      "   --------------- ------------------------ 5.8/14.8 MB 8.6 MB/s eta 0:00:02\n",
      "   ---------------- ----------------------- 6.2/14.8 MB 8.6 MB/s eta 0:00:01\n",
      "   ----------------- ---------------------- 6.6/14.8 MB 8.6 MB/s eta 0:00:01\n",
      "   ------------------- -------------------- 7.1/14.8 MB 8.7 MB/s eta 0:00:01\n",
      "   -------------------- ------------------- 7.5/14.8 MB 8.7 MB/s eta 0:00:01\n",
      "   --------------------- ------------------ 7.9/14.8 MB 8.7 MB/s eta 0:00:01\n",
      "   ---------------------- ----------------- 8.4/14.8 MB 8.8 MB/s eta 0:00:01\n",
      "   ----------------------- ---------------- 8.7/14.8 MB 8.6 MB/s eta 0:00:01\n",
      "   ------------------------ --------------- 9.1/14.8 MB 8.7 MB/s eta 0:00:01\n",
      "   ------------------------- -------------- 9.5/14.8 MB 8.7 MB/s eta 0:00:01\n",
      "   -------------------------- ------------- 10.0/14.8 MB 8.7 MB/s eta 0:00:01\n",
      "   ---------------------------- ----------- 10.4/14.8 MB 8.7 MB/s eta 0:00:01\n",
      "   ----------------------------- ---------- 10.8/14.8 MB 8.7 MB/s eta 0:00:01\n",
      "   ------------------------------ --------- 11.2/14.8 MB 8.7 MB/s eta 0:00:01\n",
      "   ------------------------------- -------- 11.7/14.8 MB 8.7 MB/s eta 0:00:01\n",
      "   -------------------------------- ------- 12.1/14.8 MB 8.7 MB/s eta 0:00:01\n",
      "   --------------------------------- ------ 12.5/14.8 MB 8.7 MB/s eta 0:00:01\n",
      "   ---------------------------------- ----- 12.9/14.8 MB 8.7 MB/s eta 0:00:01\n",
      "   ------------------------------------ --- 13.4/14.8 MB 8.7 MB/s eta 0:00:01\n",
      "   ------------------------------------- -- 13.8/14.8 MB 8.7 MB/s eta 0:00:01\n",
      "   -------------------------------------- - 14.2/14.8 MB 8.8 MB/s eta 0:00:01\n",
      "   ---------------------------------------  14.6/14.8 MB 8.8 MB/s eta 0:00:01\n",
      "   ---------------------------------------  14.8/14.8 MB 9.0 MB/s eta 0:00:01\n",
      "   ---------------------------------------- 14.8/14.8 MB 8.4 MB/s eta 0:00:00\n",
      "Downloading scipy-1.10.1-cp311-cp311-win_amd64.whl (42.2 MB)\n",
      "   ---------------------------------------- 0.0/42.2 MB ? eta -:--:--\n",
      "   ---------------------------------------- 0.5/42.2 MB 15.9 MB/s eta 0:00:03\n",
      "    --------------------------------------- 0.8/42.2 MB 9.7 MB/s eta 0:00:05\n",
      "   - -------------------------------------- 1.2/42.2 MB 8.1 MB/s eta 0:00:06\n",
      "   - -------------------------------------- 1.5/42.2 MB 8.9 MB/s eta 0:00:05\n",
      "   - -------------------------------------- 2.1/42.2 MB 9.4 MB/s eta 0:00:05\n",
      "   -- ------------------------------------- 2.5/42.2 MB 8.8 MB/s eta 0:00:05\n",
      "   -- ------------------------------------- 2.9/42.2 MB 8.8 MB/s eta 0:00:05\n",
      "   --- ------------------------------------ 3.3/42.2 MB 8.9 MB/s eta 0:00:05\n",
      "   --- ------------------------------------ 3.8/42.2 MB 8.7 MB/s eta 0:00:05\n",
      "   --- ------------------------------------ 4.2/42.2 MB 9.0 MB/s eta 0:00:05\n",
      "   ---- ----------------------------------- 4.6/42.2 MB 9.0 MB/s eta 0:00:05\n",
      "   ---- ----------------------------------- 5.1/42.2 MB 8.8 MB/s eta 0:00:05\n",
      "   ----- ---------------------------------- 5.5/42.2 MB 9.0 MB/s eta 0:00:05\n",
      "   ----- ---------------------------------- 5.9/42.2 MB 9.0 MB/s eta 0:00:05\n",
      "   ----- ---------------------------------- 6.3/42.2 MB 8.9 MB/s eta 0:00:05\n",
      "   ------ --------------------------------- 6.7/42.2 MB 8.9 MB/s eta 0:00:04\n",
      "   ------ --------------------------------- 7.2/42.2 MB 9.0 MB/s eta 0:00:04\n",
      "   ------- -------------------------------- 7.5/42.2 MB 8.9 MB/s eta 0:00:04\n",
      "   ------- -------------------------------- 8.0/42.2 MB 8.9 MB/s eta 0:00:04\n",
      "   -------- ------------------------------- 8.4/42.2 MB 9.0 MB/s eta 0:00:04\n",
      "   -------- ------------------------------- 8.9/42.2 MB 8.8 MB/s eta 0:00:04\n",
      "   -------- ------------------------------- 9.3/42.2 MB 9.0 MB/s eta 0:00:04\n",
      "   --------- ------------------------------ 9.7/42.2 MB 8.9 MB/s eta 0:00:04\n",
      "   --------- ------------------------------ 10.1/42.2 MB 9.0 MB/s eta 0:00:04\n",
      "   --------- ------------------------------ 10.6/42.2 MB 8.8 MB/s eta 0:00:04\n",
      "   ---------- ----------------------------- 11.0/42.2 MB 8.8 MB/s eta 0:00:04\n",
      "   ---------- ----------------------------- 11.4/42.2 MB 9.0 MB/s eta 0:00:04\n",
      "   ----------- ---------------------------- 11.9/42.2 MB 9.0 MB/s eta 0:00:04\n",
      "   ----------- ---------------------------- 12.3/42.2 MB 9.0 MB/s eta 0:00:04\n",
      "   ------------ --------------------------- 12.7/42.2 MB 9.0 MB/s eta 0:00:04\n",
      "   ------------ --------------------------- 13.1/42.2 MB 9.1 MB/s eta 0:00:04\n",
      "   ------------ --------------------------- 13.5/42.2 MB 9.0 MB/s eta 0:00:04\n",
      "   ------------- -------------------------- 13.9/42.2 MB 9.0 MB/s eta 0:00:04\n",
      "   ------------- -------------------------- 14.3/42.2 MB 8.8 MB/s eta 0:00:04\n",
      "   ------------- -------------------------- 14.8/42.2 MB 9.0 MB/s eta 0:00:04\n",
      "   -------------- ------------------------- 15.2/42.2 MB 8.8 MB/s eta 0:00:04\n",
      "   -------------- ------------------------- 15.6/42.2 MB 8.7 MB/s eta 0:00:04\n",
      "   --------------- ------------------------ 16.1/42.2 MB 8.8 MB/s eta 0:00:03\n",
      "   --------------- ------------------------ 16.4/42.2 MB 8.8 MB/s eta 0:00:03\n",
      "   --------------- ------------------------ 16.9/42.2 MB 8.7 MB/s eta 0:00:03\n",
      "   ---------------- ----------------------- 17.3/42.2 MB 8.8 MB/s eta 0:00:03\n",
      "   ---------------- ----------------------- 17.7/42.2 MB 8.8 MB/s eta 0:00:03\n",
      "   ----------------- ---------------------- 18.1/42.2 MB 8.7 MB/s eta 0:00:03\n",
      "   ----------------- ---------------------- 18.5/42.2 MB 8.8 MB/s eta 0:00:03\n",
      "   ----------------- ---------------------- 19.0/42.2 MB 8.8 MB/s eta 0:00:03\n",
      "   ------------------ --------------------- 19.4/42.2 MB 8.8 MB/s eta 0:00:03\n",
      "   ------------------ --------------------- 19.8/42.2 MB 8.8 MB/s eta 0:00:03\n",
      "   ------------------- -------------------- 20.3/42.2 MB 8.8 MB/s eta 0:00:03\n",
      "   ------------------- -------------------- 20.6/42.2 MB 8.8 MB/s eta 0:00:03\n",
      "   ------------------- -------------------- 21.1/42.2 MB 8.8 MB/s eta 0:00:03\n",
      "   -------------------- ------------------- 21.5/42.2 MB 8.8 MB/s eta 0:00:03\n",
      "   -------------------- ------------------- 22.0/42.2 MB 8.7 MB/s eta 0:00:03\n",
      "   --------------------- ------------------ 22.3/42.2 MB 8.7 MB/s eta 0:00:03\n",
      "   --------------------- ------------------ 22.8/42.2 MB 8.7 MB/s eta 0:00:03\n",
      "   ---------------------- ----------------- 23.3/42.2 MB 8.8 MB/s eta 0:00:03\n",
      "   ---------------------- ----------------- 23.7/42.2 MB 8.8 MB/s eta 0:00:03\n",
      "   ---------------------- ----------------- 24.2/42.2 MB 8.8 MB/s eta 0:00:03\n",
      "   ----------------------- ---------------- 24.6/42.2 MB 9.0 MB/s eta 0:00:02\n",
      "   ----------------------- ---------------- 25.1/42.2 MB 9.1 MB/s eta 0:00:02\n",
      "   ------------------------ --------------- 25.4/42.2 MB 8.8 MB/s eta 0:00:02\n",
      "   ------------------------ --------------- 25.9/42.2 MB 9.0 MB/s eta 0:00:02\n",
      "   ------------------------ --------------- 26.4/42.2 MB 9.0 MB/s eta 0:00:02\n",
      "   ------------------------- -------------- 26.7/42.2 MB 8.8 MB/s eta 0:00:02\n",
      "   ------------------------- -------------- 27.2/42.2 MB 9.0 MB/s eta 0:00:02\n",
      "   -------------------------- ------------- 27.6/42.2 MB 9.0 MB/s eta 0:00:02\n",
      "   -------------------------- ------------- 28.0/42.2 MB 9.0 MB/s eta 0:00:02\n",
      "   -------------------------- ------------- 28.5/42.2 MB 9.0 MB/s eta 0:00:02\n",
      "   --------------------------- ------------ 28.9/42.2 MB 9.0 MB/s eta 0:00:02\n",
      "   --------------------------- ------------ 29.3/42.2 MB 9.0 MB/s eta 0:00:02\n",
      "   ---------------------------- ----------- 29.7/42.2 MB 9.0 MB/s eta 0:00:02\n",
      "   ---------------------------- ----------- 30.2/42.2 MB 9.0 MB/s eta 0:00:02\n",
      "   ---------------------------- ----------- 30.6/42.2 MB 8.8 MB/s eta 0:00:02\n",
      "   ----------------------------- ---------- 31.0/42.2 MB 9.1 MB/s eta 0:00:02\n",
      "   ----------------------------- ---------- 31.4/42.2 MB 8.8 MB/s eta 0:00:02\n",
      "   ------------------------------ --------- 31.9/42.2 MB 9.1 MB/s eta 0:00:02\n",
      "   ------------------------------ --------- 32.4/42.2 MB 9.0 MB/s eta 0:00:02\n",
      "   ------------------------------- -------- 32.8/42.2 MB 9.0 MB/s eta 0:00:02\n",
      "   ------------------------------- -------- 33.3/42.2 MB 9.0 MB/s eta 0:00:01\n",
      "   ------------------------------- -------- 33.7/42.2 MB 9.0 MB/s eta 0:00:01\n",
      "   -------------------------------- ------- 34.1/42.2 MB 9.1 MB/s eta 0:00:01\n",
      "   -------------------------------- ------- 34.6/42.2 MB 9.0 MB/s eta 0:00:01\n",
      "   --------------------------------- ------ 34.9/42.2 MB 9.0 MB/s eta 0:00:01\n",
      "   --------------------------------- ------ 35.4/42.2 MB 9.1 MB/s eta 0:00:01\n",
      "   --------------------------------- ------ 35.8/42.2 MB 8.8 MB/s eta 0:00:01\n",
      "   ---------------------------------- ----- 36.2/42.2 MB 9.1 MB/s eta 0:00:01\n",
      "   ---------------------------------- ----- 36.7/42.2 MB 9.0 MB/s eta 0:00:01\n",
      "   ----------------------------------- ---- 37.1/42.2 MB 8.8 MB/s eta 0:00:01\n",
      "   ----------------------------------- ---- 37.4/42.2 MB 8.8 MB/s eta 0:00:01\n",
      "   ----------------------------------- ---- 37.9/42.2 MB 8.8 MB/s eta 0:00:01\n",
      "   ------------------------------------ --- 38.2/42.2 MB 8.7 MB/s eta 0:00:01\n",
      "   ------------------------------------ --- 38.7/42.2 MB 8.8 MB/s eta 0:00:01\n",
      "   ------------------------------------- -- 39.2/42.2 MB 8.8 MB/s eta 0:00:01\n",
      "   ------------------------------------- -- 39.6/42.2 MB 8.8 MB/s eta 0:00:01\n",
      "   ------------------------------------- -- 40.0/42.2 MB 9.0 MB/s eta 0:00:01\n",
      "   -------------------------------------- - 40.4/42.2 MB 8.8 MB/s eta 0:00:01\n",
      "   -------------------------------------- - 40.8/42.2 MB 9.0 MB/s eta 0:00:01\n",
      "   ---------------------------------------  41.3/42.2 MB 8.8 MB/s eta 0:00:01\n",
      "   ---------------------------------------  41.8/42.2 MB 9.0 MB/s eta 0:00:01\n",
      "   ---------------------------------------  42.2/42.2 MB 8.7 MB/s eta 0:00:01\n",
      "   ---------------------------------------  42.2/42.2 MB 8.7 MB/s eta 0:00:01\n",
      "   ---------------------------------------  42.2/42.2 MB 8.7 MB/s eta 0:00:01\n",
      "   ---------------------------------------  42.2/42.2 MB 8.7 MB/s eta 0:00:01\n",
      "   ---------------------------------------- 42.2/42.2 MB 7.6 MB/s eta 0:00:00\n",
      "Downloading pandas-1.5.3-cp311-cp311-win_amd64.whl (10.3 MB)\n",
      "   ---------------------------------------- 0.0/10.3 MB ? eta -:--:--\n",
      "   - -------------------------------------- 0.5/10.3 MB 30.7 MB/s eta 0:00:01\n",
      "   --- ------------------------------------ 0.8/10.3 MB 13.0 MB/s eta 0:00:01\n",
      "   ----- ---------------------------------- 1.3/10.3 MB 10.5 MB/s eta 0:00:01\n",
      "   ------ --------------------------------- 1.7/10.3 MB 10.0 MB/s eta 0:00:01\n",
      "   -------- ------------------------------- 2.1/10.3 MB 10.3 MB/s eta 0:00:01\n",
      "   --------- ------------------------------ 2.5/10.3 MB 9.4 MB/s eta 0:00:01\n",
      "   ----------- ---------------------------- 2.9/10.3 MB 9.7 MB/s eta 0:00:01\n",
      "   ------------- -------------------------- 3.4/10.3 MB 9.7 MB/s eta 0:00:01\n",
      "   -------------- ------------------------- 3.8/10.3 MB 9.2 MB/s eta 0:00:01\n",
      "   ---------------- ----------------------- 4.2/10.3 MB 9.5 MB/s eta 0:00:01\n",
      "   ----------------- ---------------------- 4.6/10.3 MB 9.2 MB/s eta 0:00:01\n",
      "   ------------------- -------------------- 5.0/10.3 MB 9.2 MB/s eta 0:00:01\n",
      "   --------------------- ------------------ 5.4/10.3 MB 9.4 MB/s eta 0:00:01\n",
      "   ---------------------- ----------------- 5.8/10.3 MB 9.0 MB/s eta 0:00:01\n",
      "   ------------------------ --------------- 6.2/10.3 MB 9.0 MB/s eta 0:00:01\n",
      "   ------------------------- -------------- 6.6/10.3 MB 9.1 MB/s eta 0:00:01\n",
      "   --------------------------- ------------ 7.0/10.3 MB 9.0 MB/s eta 0:00:01\n",
      "   ---------------------------- ----------- 7.5/10.3 MB 9.2 MB/s eta 0:00:01\n",
      "   ------------------------------ --------- 7.9/10.3 MB 9.0 MB/s eta 0:00:01\n",
      "   -------------------------------- ------- 8.3/10.3 MB 9.0 MB/s eta 0:00:01\n",
      "   --------------------------------- ------ 8.7/10.3 MB 9.0 MB/s eta 0:00:01\n",
      "   ----------------------------------- ---- 9.1/10.3 MB 9.0 MB/s eta 0:00:01\n",
      "   ------------------------------------- -- 9.6/10.3 MB 9.0 MB/s eta 0:00:01\n",
      "   -------------------------------------- - 10.0/10.3 MB 9.0 MB/s eta 0:00:01\n",
      "   ---------------------------------------  10.3/10.3 MB 9.0 MB/s eta 0:00:01\n",
      "   ---------------------------------------  10.3/10.3 MB 9.0 MB/s eta 0:00:01\n",
      "   ---------------------------------------- 10.3/10.3 MB 8.4 MB/s eta 0:00:00\n",
      "Downloading simpful-2.12.0-py3-none-any.whl (24 kB)\n",
      "Building wheels for collected packages: fst-pso, miniful\n",
      "  Building wheel for fst-pso (setup.py): started\n",
      "  Building wheel for fst-pso (setup.py): finished with status 'done'\n",
      "  Created wheel for fst-pso: filename=fst_pso-1.8.1-py3-none-any.whl size=20451 sha256=e8755b1b770079db7b984f4b23334c08af4ebcf403083b122b94773e9b26c85d\n",
      "  Stored in directory: c:\\users\\administrator.dai-pc2\\appdata\\local\\pip\\cache\\wheels\\69\\f5\\e5\\18ad53fe1ed6b2af9fad05ec052e4acbac8e92441df44bad2e\n",
      "  Building wheel for miniful (setup.py): started\n",
      "  Building wheel for miniful (setup.py): finished with status 'done'\n",
      "  Created wheel for miniful: filename=miniful-0.0.6-py3-none-any.whl size=3517 sha256=07000cc67765c475262a994e778d8e102caf6517734539bca5c322ae92e7713a\n",
      "  Stored in directory: c:\\users\\administrator.dai-pc2\\appdata\\local\\pip\\cache\\wheels\\9d\\ff\\2f\\afe4cd56f47de147407705626517d68bea0f3b74eb1fb168e6\n",
      "Successfully built fst-pso miniful\n",
      "Installing collected packages: numpy, scipy, pandas, simpful, miniful, fst-pso, pyfume, FuzzyTM\n",
      "  Attempting uninstall: numpy\n",
      "    Found existing installation: numpy 1.24.3\n",
      "    Uninstalling numpy-1.24.3:\n",
      "      Successfully uninstalled numpy-1.24.3\n",
      "  Attempting uninstall: scipy\n",
      "    Found existing installation: scipy 1.13.0\n",
      "    Uninstalling scipy-1.13.0:\n",
      "      Successfully uninstalled scipy-1.13.0\n",
      "  Attempting uninstall: pandas\n",
      "    Found existing installation: pandas 2.1.4\n",
      "    Uninstalling pandas-2.1.4:\n",
      "      Successfully uninstalled pandas-2.1.4\n",
      "Successfully installed FuzzyTM-2.0.9 fst-pso-1.8.1 miniful-0.0.6 numpy-1.24.4 pandas-1.5.3 pyfume-0.3.4 scipy-1.10.1 simpful-2.12.0\n",
      "\n"
     ]
    },
    {
     "name": "stderr",
     "output_type": "stream",
     "text": [
      "    WARNING: Skipping C:\\Users\\Administrator.DAI-PC2\\anaconda3\\Lib\\site-packages\\numpy-1.24.3.dist-info due to invalid metadata entry 'name'\n",
      "    WARNING: Skipping C:\\Users\\Administrator.DAI-PC2\\anaconda3\\Lib\\site-packages\\numpy-1.24.3.dist-info due to invalid metadata entry 'name'\n",
      "WARNING: Skipping C:\\Users\\Administrator.DAI-PC2\\anaconda3\\Lib\\site-packages\\numpy-1.24.3.dist-info due to invalid metadata entry 'name'\n",
      "WARNING: Skipping C:\\Users\\Administrator.DAI-PC2\\anaconda3\\Lib\\site-packages\\numpy-1.24.3.dist-info due to invalid metadata entry 'name'\n",
      "WARNING: Skipping C:\\Users\\Administrator.DAI-PC2\\anaconda3\\Lib\\site-packages\\numpy-1.24.3.dist-info due to invalid metadata entry 'name'\n",
      "WARNING: Skipping C:\\Users\\Administrator.DAI-PC2\\anaconda3\\Lib\\site-packages\\numpy-1.24.3.dist-info due to invalid metadata entry 'name'\n",
      "WARNING: Skipping C:\\Users\\Administrator.DAI-PC2\\anaconda3\\Lib\\site-packages\\numpy-1.24.3.dist-info due to invalid metadata entry 'name'\n",
      "ERROR: pip's dependency resolver does not currently take into account all the packages that are installed. This behaviour is the source of the following dependency conflicts.\n",
      "gradio 4.29.0 requires typer<1.0,>=0.12; sys_platform != \"emscripten\", but you have typer 0.9.4 which is incompatible.\n",
      "tensorboard 2.15.1 requires protobuf<4.24,>=3.19.6, but you have protobuf 4.25.3 which is incompatible.\n",
      "WARNING: Skipping C:\\Users\\Administrator.DAI-PC2\\anaconda3\\Lib\\site-packages\\numpy-1.24.3.dist-info due to invalid metadata entry 'name'\n",
      "WARNING: Skipping C:\\Users\\Administrator.DAI-PC2\\anaconda3\\Lib\\site-packages\\numpy-1.24.3.dist-info due to invalid metadata entry 'name'\n",
      "WARNING: Skipping C:\\Users\\Administrator.DAI-PC2\\anaconda3\\Lib\\site-packages\\numpy-1.24.3.dist-info due to invalid metadata entry 'name'\n"
     ]
    }
   ],
   "source": [
    "pip install gensim"
   ]
  },
  {
   "cell_type": "code",
   "execution_count": 1,
   "id": "6e5c1cb5",
   "metadata": {},
   "outputs": [],
   "source": [
    "from gensim.models import Word2Vec"
   ]
  },
  {
   "cell_type": "code",
   "execution_count": 2,
   "id": "dda27fc4",
   "metadata": {},
   "outputs": [],
   "source": [
    "sentences = [\n",
    "    \"The quick brown fox jumps over the lazy dog.\",\n",
    "    \"I like eating apples and bananas.\",\n",
    "    \"Natural language processing is a fascinating field.\"\n",
    "]"
   ]
  },
  {
   "cell_type": "code",
   "execution_count": 3,
   "id": "134353b9",
   "metadata": {},
   "outputs": [],
   "source": [
    "from nltk.tokenize import word_tokenize"
   ]
  },
  {
   "cell_type": "code",
   "execution_count": 4,
   "id": "a284e152",
   "metadata": {},
   "outputs": [
    {
     "data": {
      "text/plain": [
       "[['The', 'quick', 'brown', 'fox', 'jumps', 'over', 'the', 'lazy', 'dog', '.'],\n",
       " ['I', 'like', 'eating', 'apples', 'and', 'bananas', '.'],\n",
       " ['Natural', 'language', 'processing', 'is', 'a', 'fascinating', 'field', '.']]"
      ]
     },
     "execution_count": 4,
     "metadata": {},
     "output_type": "execute_result"
    }
   ],
   "source": [
    "final_data = []\n",
    "for sent in sentences:\n",
    "    final_data.append(word_tokenize(sent))\n",
    "\n",
    "final_data"
   ]
  },
  {
   "cell_type": "code",
   "execution_count": 7,
   "id": "a3d61d1e",
   "metadata": {},
   "outputs": [],
   "source": [
    "## Create an object\n",
    "model = Word2Vec(final_data, min_count = 1, vector_size=10)"
   ]
  },
  {
   "cell_type": "code",
   "execution_count": 8,
   "id": "64c14c76",
   "metadata": {},
   "outputs": [
    {
     "data": {
      "text/plain": [
       "array([ 0.07898068, -0.06989504, -0.09155865, -0.00355753, -0.03099841,\n",
       "        0.07894317,  0.05938574, -0.01545663,  0.01510963,  0.01790041],\n",
       "      dtype=float32)"
      ]
     },
     "execution_count": 8,
     "metadata": {},
     "output_type": "execute_result"
    }
   ],
   "source": [
    "model.wv['apples']"
   ]
  },
  {
   "cell_type": "code",
   "execution_count": 9,
   "id": "dbdd307e",
   "metadata": {},
   "outputs": [
    {
     "data": {
      "text/plain": [
       "array([-0.08534335,  0.03207107, -0.04637997, -0.05088955,  0.03589618,\n",
       "        0.05370339,  0.07769515, -0.05766506,  0.07433361,  0.06625496],\n",
       "      dtype=float32)"
      ]
     },
     "execution_count": 9,
     "metadata": {},
     "output_type": "execute_result"
    }
   ],
   "source": [
    "model.wv['bananas']"
   ]
  },
  {
   "cell_type": "code",
   "execution_count": 10,
   "id": "f712a3cf",
   "metadata": {},
   "outputs": [],
   "source": [
    "def get_embedding(word):\n",
    "    try:\n",
    "        word_embedding = model.wv[word]\n",
    "        print(f\"Word embedding for '{word} : {word_embedding}'\")\n",
    "    except KeyError:\n",
    "        print(f\"Word '{word}' not found in vocabulary.\")"
   ]
  },
  {
   "cell_type": "code",
   "execution_count": 11,
   "id": "6b125cb6",
   "metadata": {},
   "outputs": [
    {
     "name": "stdout",
     "output_type": "stream",
     "text": [
      "Word embedding for 'fox : [-0.08157917  0.04495798 -0.04137076  0.00824536  0.08498619 -0.04462177\n",
      "  0.045175   -0.0678696  -0.03548489  0.09398508]'\n"
     ]
    }
   ],
   "source": [
    "get_embedding('fox')"
   ]
  },
  {
   "cell_type": "code",
   "execution_count": 12,
   "id": "6fd81ec0",
   "metadata": {},
   "outputs": [
    {
     "name": "stdout",
     "output_type": "stream",
     "text": [
      "Word embedding for 'dog : [-0.08619688  0.03665738  0.05189884  0.05741938  0.07466918 -0.06167675\n",
      "  0.01105614  0.06047282 -0.0284005  -0.06173522]'\n"
     ]
    }
   ],
   "source": [
    "get_embedding('dog')"
   ]
  },
  {
   "cell_type": "code",
   "execution_count": 13,
   "id": "015e7e0c",
   "metadata": {},
   "outputs": [],
   "source": [
    "from sklearn.metrics.pairwise import cosine_similarity"
   ]
  },
  {
   "cell_type": "code",
   "execution_count": 14,
   "id": "1b439206",
   "metadata": {},
   "outputs": [
    {
     "data": {
      "text/plain": [
       "array([[0.18977958]], dtype=float32)"
      ]
     },
     "execution_count": 14,
     "metadata": {},
     "output_type": "execute_result"
    }
   ],
   "source": [
    "cosine_similarity(model.wv['apples'].reshape(1,-1),model.wv['bananas'].reshape(1,-1))"
   ]
  },
  {
   "cell_type": "code",
   "execution_count": 15,
   "id": "65c5b95a",
   "metadata": {},
   "outputs": [
    {
     "data": {
      "text/plain": [
       "array([[0.2238495]], dtype=float32)"
      ]
     },
     "execution_count": 15,
     "metadata": {},
     "output_type": "execute_result"
    }
   ],
   "source": [
    "cosine_similarity(model.wv['fox'].reshape(1,-1),model.wv['dog'].reshape(1,-1))"
   ]
  },
  {
   "cell_type": "code",
   "execution_count": 16,
   "id": "8dbf0f4e",
   "metadata": {},
   "outputs": [
    {
     "data": {
      "text/plain": [
       "array([[-0.21142587]], dtype=float32)"
      ]
     },
     "execution_count": 16,
     "metadata": {},
     "output_type": "execute_result"
    }
   ],
   "source": [
    "cosine_similarity(model.wv['apples'].reshape(1,-1),model.wv['fox'].reshape(1,-1))"
   ]
  },
  {
   "cell_type": "code",
   "execution_count": 17,
   "id": "b6ff5289",
   "metadata": {},
   "outputs": [
    {
     "data": {
      "text/plain": [
       "array([[-0.18159427]], dtype=float32)"
      ]
     },
     "execution_count": 17,
     "metadata": {},
     "output_type": "execute_result"
    }
   ],
   "source": [
    "cosine_similarity(model.wv['bananas'].reshape(1,-1),model.wv['dog'].reshape(1,-1))"
   ]
  },
  {
   "cell_type": "code",
   "execution_count": 18,
   "id": "7e1fafcf",
   "metadata": {},
   "outputs": [
    {
     "name": "stderr",
     "output_type": "stream",
     "text": [
      "[nltk_data] Downloading package abc to C:\\Users\\Administrator.DAI-\n",
      "[nltk_data]     PC2\\AppData\\Roaming\\nltk_data...\n",
      "[nltk_data]   Unzipping corpora\\abc.zip.\n"
     ]
    },
    {
     "data": {
      "text/plain": [
       "True"
      ]
     },
     "execution_count": 18,
     "metadata": {},
     "output_type": "execute_result"
    }
   ],
   "source": [
    "import nltk\n",
    "nltk.download('abc')"
   ]
  },
  {
   "cell_type": "code",
   "execution_count": 19,
   "id": "7c669bd7",
   "metadata": {},
   "outputs": [],
   "source": [
    "from nltk.corpus import abc"
   ]
  },
  {
   "cell_type": "code",
   "execution_count": 20,
   "id": "6cce384d",
   "metadata": {},
   "outputs": [
    {
     "data": {
      "text/plain": [
       "[['PM', 'denies', 'knowledge', 'of', 'AWB', 'kickbacks', 'The', 'Prime', 'Minister', 'has', 'denied', 'he', 'knew', 'AWB', 'was', 'paying', 'kickbacks', 'to', 'Iraq', 'despite', 'writing', 'to', 'the', 'wheat', 'exporter', 'asking', 'to', 'be', 'kept', 'fully', 'informed', 'on', 'Iraq', 'wheat', 'sales', '.'], ['Letters', 'from', 'John', 'Howard', 'and', 'Deputy', 'Prime', 'Minister', 'Mark', 'Vaile', 'to', 'AWB', 'have', 'been', 'released', 'by', 'the', 'Cole', 'inquiry', 'into', 'the', 'oil', 'for', 'food', 'program', '.'], ...]"
      ]
     },
     "execution_count": 20,
     "metadata": {},
     "output_type": "execute_result"
    }
   ],
   "source": [
    "sents = abc.sents()\n",
    "sents"
   ]
  },
  {
   "cell_type": "code",
   "execution_count": 21,
   "id": "5bafef26",
   "metadata": {},
   "outputs": [
    {
     "data": {
      "text/plain": [
       "29059"
      ]
     },
     "execution_count": 21,
     "metadata": {},
     "output_type": "execute_result"
    }
   ],
   "source": [
    "len(sents)"
   ]
  },
  {
   "cell_type": "code",
   "execution_count": 28,
   "id": "381b4ebe",
   "metadata": {},
   "outputs": [],
   "source": [
    "## Create an object\n",
    "model = Word2Vec(sents, min_count = 1, vector_size=10)"
   ]
  },
  {
   "cell_type": "code",
   "execution_count": 29,
   "id": "01578197",
   "metadata": {},
   "outputs": [
    {
     "data": {
      "text/plain": [
       "31885"
      ]
     },
     "execution_count": 29,
     "metadata": {},
     "output_type": "execute_result"
    }
   ],
   "source": [
    "len(model.wv.key_to_index) ## no of unique words"
   ]
  },
  {
   "cell_type": "code",
   "execution_count": 30,
   "id": "7fbf64e5",
   "metadata": {},
   "outputs": [
    {
     "name": "stdout",
     "output_type": "stream",
     "text": [
      "[('authority', 0.9829927682876587), ('capitalise', 0.9745134711265564), ('Dubbo', 0.9721439480781555), ('arousal', 0.9708213210105896), ('Hofmann', 0.9699689745903015), ('leading', 0.9698118567466736), ('nurse', 0.9649820327758789), ('Women', 0.964935302734375), ('bulk', 0.964584469795227), ('publisher', 0.9623174071311951)]\n"
     ]
    }
   ],
   "source": [
    "data = model.wv.most_similar('science')\n",
    "print(data)"
   ]
  },
  {
   "cell_type": "code",
   "execution_count": 31,
   "id": "49a6746e",
   "metadata": {},
   "outputs": [
    {
     "name": "stdout",
     "output_type": "stream",
     "text": [
      "[('science', 0.9623174071311951), ('slash', 0.95766282081604), ('Dubbo', 0.9568352103233337), ('earth', 0.9567673802375793), ('tanning', 0.9550619721412659), ('eliminating', 0.954790472984314), ('Parkinson', 0.9522252678871155), ('glands', 0.9514176249504089), ('capitalise', 0.9484747648239136), ('banking', 0.9481655955314636)]\n"
     ]
    }
   ],
   "source": [
    "data = model.wv.most_similar('publisher')\n",
    "print(data)"
   ]
  },
  {
   "cell_type": "code",
   "execution_count": 32,
   "id": "e18480be",
   "metadata": {},
   "outputs": [
    {
     "data": {
      "text/plain": [
       "array([[0.9623175]], dtype=float32)"
      ]
     },
     "execution_count": 32,
     "metadata": {},
     "output_type": "execute_result"
    }
   ],
   "source": [
    "cosine_similarity(model.wv['science'].reshape(1,-1),\n",
    "                  model.wv['publisher'].reshape(1,-1))"
   ]
  },
  {
   "cell_type": "code",
   "execution_count": null,
   "id": "d9e535b9",
   "metadata": {},
   "outputs": [],
   "source": []
  }
 ],
 "metadata": {
  "kernelspec": {
   "display_name": "Python 3 (ipykernel)",
   "language": "python",
   "name": "python3"
  },
  "language_info": {
   "codemirror_mode": {
    "name": "ipython",
    "version": 3
   },
   "file_extension": ".py",
   "mimetype": "text/x-python",
   "name": "python",
   "nbconvert_exporter": "python",
   "pygments_lexer": "ipython3",
   "version": "3.11.7"
  }
 },
 "nbformat": 4,
 "nbformat_minor": 5
}
